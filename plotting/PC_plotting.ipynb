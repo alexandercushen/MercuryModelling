{
 "cells": [
  {
   "cell_type": "code",
   "execution_count": 2,
   "id": "abdb4289-c30c-4ffe-93da-5f6c4491c7a1",
   "metadata": {},
   "outputs": [],
   "source": [
    "%matplotlib inline\n",
    "import fleks,yt\n",
    "import matplotlib.pyplot as plt\n",
    "from matplotlib.colors import LogNorm\n",
    "from matplotlib.cm import ScalarMappable\n",
    "from scipy.optimize import curve_fit\n",
    "from scipy.interpolate import interp1d\n",
    "import numpy as np\n",
    "import os\n",
    "import re\n",
    "from utilities import get_ticks\n",
    "from matplotlib import cm, ticker\n",
    "from os import listdir\n",
    "from os.path import isfile, join\n",
    "import glob\n",
    "from PIL import Image\n",
    "from natsort import natsorted\n",
    "import matplotlib as mpl\n",
    "import matplotlib.pyplot as plt\n",
    "import matplotlib.animation as animation\n",
    "from scipy import interpolate"
   ]
  },
  {
   "cell_type": "markdown",
   "id": "d412ac1d-b51b-4c47-bdea-149dfb15dea8",
   "metadata": {},
   "source": [
    "# Save frame slices for making movies"
   ]
  },
  {
   "cell_type": "code",
   "execution_count": 66,
   "id": "939eea7a-992b-4c5a-8ebf-79a0fe9f7ad9",
   "metadata": {},
   "outputs": [
    {
     "name": "stderr",
     "output_type": "stream",
     "text": [
      "yt : [INFO     ] 2024-07-22 15:42:56,708 Parameters: current_time              = 55.000645822431196\n",
      "yt : [INFO     ] 2024-07-22 15:42:56,709 Parameters: domain_dimensions         = [320 256 256]\n",
      "yt : [INFO     ] 2024-07-22 15:42:56,710 Parameters: domain_left_edge          = [-4. -2. -2.]\n",
      "yt : [INFO     ] 2024-07-22 15:42:56,710 Parameters: domain_right_edge         = [1. 2. 2.]\n"
     ]
    },
    {
     "name": "stdout",
     "output_type": "stream",
     "text": [
      "75 files recognized!\n",
      "/Users/atcushen/Documents/MercuryModelling/runs/nightside_v1_run3/ta-5/cut_particle_region0_0_t00000055_n00030455_amrex\n",
      "Plotting t 55.0\n"
     ]
    },
    {
     "name": "stderr",
     "output_type": "stream",
     "text": [
      "/var/folders/l9/dnt9qhfd1psfsmj9t5zfr0j00000gq/T/ipykernel_17737/104369098.py:276: UserWarning: FigureCanvasAgg is non-interactive, and thus cannot be shown\n",
      "  fig.show()\n",
      "yt : [INFO     ] 2024-07-22 15:42:58,533 Parameters: current_time              = 55.20049731286974\n",
      "yt : [INFO     ] 2024-07-22 15:42:58,534 Parameters: domain_dimensions         = [320 256 256]\n",
      "yt : [INFO     ] 2024-07-22 15:42:58,534 Parameters: domain_left_edge          = [-4. -2. -2.]\n",
      "yt : [INFO     ] 2024-07-22 15:42:58,535 Parameters: domain_right_edge         = [1. 2. 2.]\n"
     ]
    },
    {
     "name": "stdout",
     "output_type": "stream",
     "text": [
      "/Users/atcushen/Documents/MercuryModelling/runs/nightside_v1_run3/ta-5/cut_particle_region0_0_t00000055_n00030579_amrex\n",
      "Plotting t 55.2\n"
     ]
    },
    {
     "name": "stderr",
     "output_type": "stream",
     "text": [
      "yt : [INFO     ] 2024-07-22 15:43:00,439 Parameters: current_time              = 55.40075914152486\n",
      "yt : [INFO     ] 2024-07-22 15:43:00,439 Parameters: domain_dimensions         = [320 256 256]\n",
      "yt : [INFO     ] 2024-07-22 15:43:00,440 Parameters: domain_left_edge          = [-4. -2. -2.]\n",
      "yt : [INFO     ] 2024-07-22 15:43:00,440 Parameters: domain_right_edge         = [1. 2. 2.]\n"
     ]
    },
    {
     "name": "stdout",
     "output_type": "stream",
     "text": [
      "/Users/atcushen/Documents/MercuryModelling/runs/nightside_v1_run3/ta-5/cut_particle_region0_0_t00000055_n00030708_amrex\n",
      "Plotting t 55.4\n"
     ]
    },
    {
     "name": "stderr",
     "output_type": "stream",
     "text": [
      "yt : [INFO     ] 2024-07-22 15:43:02,212 Parameters: current_time              = 55.6005254206362\n",
      "yt : [INFO     ] 2024-07-22 15:43:02,213 Parameters: domain_dimensions         = [320 256 256]\n",
      "yt : [INFO     ] 2024-07-22 15:43:02,214 Parameters: domain_left_edge          = [-4. -2. -2.]\n",
      "yt : [INFO     ] 2024-07-22 15:43:02,214 Parameters: domain_right_edge         = [1. 2. 2.]\n"
     ]
    },
    {
     "name": "stdout",
     "output_type": "stream",
     "text": [
      "/Users/atcushen/Documents/MercuryModelling/runs/nightside_v1_run3/ta-5/cut_particle_region0_0_t00000055_n00030834_amrex\n",
      "Plotting t 55.6\n"
     ]
    },
    {
     "name": "stderr",
     "output_type": "stream",
     "text": [
      "yt : [INFO     ] 2024-07-22 15:43:04,082 Parameters: current_time              = 55.80038773204014\n",
      "yt : [INFO     ] 2024-07-22 15:43:04,083 Parameters: domain_dimensions         = [320 256 256]\n",
      "yt : [INFO     ] 2024-07-22 15:43:04,084 Parameters: domain_left_edge          = [-4. -2. -2.]\n",
      "yt : [INFO     ] 2024-07-22 15:43:04,084 Parameters: domain_right_edge         = [1. 2. 2.]\n"
     ]
    },
    {
     "name": "stdout",
     "output_type": "stream",
     "text": [
      "/Users/atcushen/Documents/MercuryModelling/runs/nightside_v1_run3/ta-5/cut_particle_region0_0_t00000055_n00030960_amrex\n",
      "Plotting t 55.8\n"
     ]
    },
    {
     "name": "stderr",
     "output_type": "stream",
     "text": [
      "yt : [INFO     ] 2024-07-22 15:43:05,971 Parameters: current_time              = 56.001314694932425\n",
      "yt : [INFO     ] 2024-07-22 15:43:05,972 Parameters: domain_dimensions         = [320 256 256]\n",
      "yt : [INFO     ] 2024-07-22 15:43:05,973 Parameters: domain_left_edge          = [-4. -2. -2.]\n",
      "yt : [INFO     ] 2024-07-22 15:43:05,973 Parameters: domain_right_edge         = [1. 2. 2.]\n"
     ]
    },
    {
     "name": "stdout",
     "output_type": "stream",
     "text": [
      "/Users/atcushen/Documents/MercuryModelling/runs/nightside_v1_run3/ta-5/cut_particle_region0_0_t00000056_n00031082_amrex\n",
      "Plotting t 56.0\n"
     ]
    },
    {
     "name": "stderr",
     "output_type": "stream",
     "text": [
      "yt : [INFO     ] 2024-07-22 15:43:07,858 Parameters: current_time              = 56.200148754540784\n",
      "yt : [INFO     ] 2024-07-22 15:43:07,859 Parameters: domain_dimensions         = [320 256 256]\n",
      "yt : [INFO     ] 2024-07-22 15:43:07,860 Parameters: domain_left_edge          = [-4. -2. -2.]\n",
      "yt : [INFO     ] 2024-07-22 15:43:07,860 Parameters: domain_right_edge         = [1. 2. 2.]\n"
     ]
    },
    {
     "name": "stdout",
     "output_type": "stream",
     "text": [
      "/Users/atcushen/Documents/MercuryModelling/runs/nightside_v1_run3/ta-5/cut_particle_region0_0_t00000056_n00031205_amrex\n",
      "Plotting t 56.2\n"
     ]
    },
    {
     "name": "stderr",
     "output_type": "stream",
     "text": [
      "yt : [INFO     ] 2024-07-22 15:43:09,987 Parameters: current_time              = 56.4013617093976\n",
      "yt : [INFO     ] 2024-07-22 15:43:09,988 Parameters: domain_dimensions         = [320 256 256]\n",
      "yt : [INFO     ] 2024-07-22 15:43:09,988 Parameters: domain_left_edge          = [-4. -2. -2.]\n",
      "yt : [INFO     ] 2024-07-22 15:43:09,989 Parameters: domain_right_edge         = [1. 2. 2.]\n"
     ]
    },
    {
     "name": "stdout",
     "output_type": "stream",
     "text": [
      "/Users/atcushen/Documents/MercuryModelling/runs/nightside_v1_run3/ta-5/cut_particle_region0_0_t00000056_n00031326_amrex\n",
      "Plotting t 56.4\n"
     ]
    },
    {
     "name": "stderr",
     "output_type": "stream",
     "text": [
      "yt : [INFO     ] 2024-07-22 15:43:11,886 Parameters: current_time              = 56.6003487343121\n",
      "yt : [INFO     ] 2024-07-22 15:43:11,887 Parameters: domain_dimensions         = [320 256 256]\n",
      "yt : [INFO     ] 2024-07-22 15:43:11,888 Parameters: domain_left_edge          = [-4. -2. -2.]\n",
      "yt : [INFO     ] 2024-07-22 15:43:11,889 Parameters: domain_right_edge         = [1. 2. 2.]\n"
     ]
    },
    {
     "name": "stdout",
     "output_type": "stream",
     "text": [
      "/Users/atcushen/Documents/MercuryModelling/runs/nightside_v1_run3/ta-5/cut_particle_region0_0_t00000056_n00031447_amrex\n",
      "Plotting t 56.6\n"
     ]
    },
    {
     "name": "stderr",
     "output_type": "stream",
     "text": [
      "yt : [INFO     ] 2024-07-22 15:43:13,764 Parameters: current_time              = 56.801452746476514\n",
      "yt : [INFO     ] 2024-07-22 15:43:13,765 Parameters: domain_dimensions         = [320 256 256]\n",
      "yt : [INFO     ] 2024-07-22 15:43:13,765 Parameters: domain_left_edge          = [-4. -2. -2.]\n",
      "yt : [INFO     ] 2024-07-22 15:43:13,766 Parameters: domain_right_edge         = [1. 2. 2.]\n"
     ]
    },
    {
     "name": "stdout",
     "output_type": "stream",
     "text": [
      "/Users/atcushen/Documents/MercuryModelling/runs/nightside_v1_run3/ta-5/cut_particle_region0_0_t00000056_n00031574_amrex\n",
      "Plotting t 56.8\n"
     ]
    },
    {
     "name": "stderr",
     "output_type": "stream",
     "text": [
      "yt : [INFO     ] 2024-07-22 15:43:15,638 Parameters: current_time              = 57.00080135156915\n",
      "yt : [INFO     ] 2024-07-22 15:43:15,639 Parameters: domain_dimensions         = [320 256 256]\n",
      "yt : [INFO     ] 2024-07-22 15:43:15,639 Parameters: domain_left_edge          = [-4. -2. -2.]\n",
      "yt : [INFO     ] 2024-07-22 15:43:15,640 Parameters: domain_right_edge         = [1. 2. 2.]\n"
     ]
    },
    {
     "name": "stdout",
     "output_type": "stream",
     "text": [
      "/Users/atcushen/Documents/MercuryModelling/runs/nightside_v1_run3/ta-5/cut_particle_region0_0_t00000057_n00031705_amrex\n",
      "Plotting t 57.0\n"
     ]
    },
    {
     "name": "stderr",
     "output_type": "stream",
     "text": [
      "yt : [INFO     ] 2024-07-22 15:43:17,506 Parameters: current_time              = 57.200077505596454\n",
      "yt : [INFO     ] 2024-07-22 15:43:17,507 Parameters: domain_dimensions         = [320 256 256]\n",
      "yt : [INFO     ] 2024-07-22 15:43:17,507 Parameters: domain_left_edge          = [-4. -2. -2.]\n",
      "yt : [INFO     ] 2024-07-22 15:43:17,508 Parameters: domain_right_edge         = [1. 2. 2.]\n"
     ]
    },
    {
     "name": "stdout",
     "output_type": "stream",
     "text": [
      "/Users/atcushen/Documents/MercuryModelling/runs/nightside_v1_run3/ta-5/cut_particle_region0_0_t00000057_n00031840_amrex\n",
      "Plotting t 57.2\n"
     ]
    },
    {
     "name": "stderr",
     "output_type": "stream",
     "text": [
      "yt : [INFO     ] 2024-07-22 15:43:19,359 Parameters: current_time              = 57.40023967851937\n",
      "yt : [INFO     ] 2024-07-22 15:43:19,359 Parameters: domain_dimensions         = [320 256 256]\n",
      "yt : [INFO     ] 2024-07-22 15:43:19,360 Parameters: domain_left_edge          = [-4. -2. -2.]\n",
      "yt : [INFO     ] 2024-07-22 15:43:19,361 Parameters: domain_right_edge         = [1. 2. 2.]\n"
     ]
    },
    {
     "name": "stdout",
     "output_type": "stream",
     "text": [
      "/Users/atcushen/Documents/MercuryModelling/runs/nightside_v1_run3/ta-5/cut_particle_region0_0_t00000057_n00031977_amrex\n",
      "Plotting t 57.4\n"
     ]
    },
    {
     "name": "stderr",
     "output_type": "stream",
     "text": [
      "yt : [INFO     ] 2024-07-22 15:43:21,216 Parameters: current_time              = 57.6009433667169\n",
      "yt : [INFO     ] 2024-07-22 15:43:21,217 Parameters: domain_dimensions         = [320 256 256]\n",
      "yt : [INFO     ] 2024-07-22 15:43:21,218 Parameters: domain_left_edge          = [-4. -2. -2.]\n",
      "yt : [INFO     ] 2024-07-22 15:43:21,218 Parameters: domain_right_edge         = [1. 2. 2.]\n"
     ]
    },
    {
     "name": "stdout",
     "output_type": "stream",
     "text": [
      "/Users/atcushen/Documents/MercuryModelling/runs/nightside_v1_run3/ta-5/cut_particle_region0_0_t00000057_n00032112_amrex\n",
      "Plotting t 57.6\n"
     ]
    },
    {
     "name": "stderr",
     "output_type": "stream",
     "text": [
      "yt : [INFO     ] 2024-07-22 15:43:23,063 Parameters: current_time              = 57.80102295798354\n",
      "yt : [INFO     ] 2024-07-22 15:43:23,064 Parameters: domain_dimensions         = [320 256 256]\n",
      "yt : [INFO     ] 2024-07-22 15:43:23,064 Parameters: domain_left_edge          = [-4. -2. -2.]\n",
      "yt : [INFO     ] 2024-07-22 15:43:23,065 Parameters: domain_right_edge         = [1. 2. 2.]\n"
     ]
    },
    {
     "name": "stdout",
     "output_type": "stream",
     "text": [
      "/Users/atcushen/Documents/MercuryModelling/runs/nightside_v1_run3/ta-5/cut_particle_region0_0_t00000057_n00032241_amrex\n",
      "Plotting t 57.8\n"
     ]
    },
    {
     "name": "stderr",
     "output_type": "stream",
     "text": [
      "yt : [INFO     ] 2024-07-22 15:43:24,954 Parameters: current_time              = 58.00038802025825\n",
      "yt : [INFO     ] 2024-07-22 15:43:24,955 Parameters: domain_dimensions         = [320 256 256]\n",
      "yt : [INFO     ] 2024-07-22 15:43:24,956 Parameters: domain_left_edge          = [-4. -2. -2.]\n",
      "yt : [INFO     ] 2024-07-22 15:43:24,956 Parameters: domain_right_edge         = [1. 2. 2.]\n"
     ]
    },
    {
     "name": "stdout",
     "output_type": "stream",
     "text": [
      "/Users/atcushen/Documents/MercuryModelling/runs/nightside_v1_run3/ta-5/cut_particle_region0_0_t00000058_n00032364_amrex\n",
      "Plotting t 58.0\n"
     ]
    },
    {
     "name": "stderr",
     "output_type": "stream",
     "text": [
      "yt : [INFO     ] 2024-07-22 15:43:26,845 Parameters: current_time              = 58.20016470781803\n",
      "yt : [INFO     ] 2024-07-22 15:43:26,845 Parameters: domain_dimensions         = [320 256 256]\n",
      "yt : [INFO     ] 2024-07-22 15:43:26,846 Parameters: domain_left_edge          = [-4. -2. -2.]\n",
      "yt : [INFO     ] 2024-07-22 15:43:26,847 Parameters: domain_right_edge         = [1. 2. 2.]\n"
     ]
    },
    {
     "name": "stdout",
     "output_type": "stream",
     "text": [
      "/Users/atcushen/Documents/MercuryModelling/runs/nightside_v1_run3/ta-5/cut_particle_region0_0_t00000058_n00032492_amrex\n",
      "Plotting t 58.2\n"
     ]
    },
    {
     "name": "stderr",
     "output_type": "stream",
     "text": [
      "yt : [INFO     ] 2024-07-22 15:43:29,144 Parameters: current_time              = 58.400996408557425\n",
      "yt : [INFO     ] 2024-07-22 15:43:29,145 Parameters: domain_dimensions         = [320 256 256]\n",
      "yt : [INFO     ] 2024-07-22 15:43:29,146 Parameters: domain_left_edge          = [-4. -2. -2.]\n",
      "yt : [INFO     ] 2024-07-22 15:43:29,146 Parameters: domain_right_edge         = [1. 2. 2.]\n"
     ]
    },
    {
     "name": "stdout",
     "output_type": "stream",
     "text": [
      "/Users/atcushen/Documents/MercuryModelling/runs/nightside_v1_run3/ta-5/cut_particle_region0_0_t00000058_n00032648_amrex\n",
      "Plotting t 58.4\n"
     ]
    },
    {
     "name": "stderr",
     "output_type": "stream",
     "text": [
      "yt : [INFO     ] 2024-07-22 15:43:31,046 Parameters: current_time              = 58.60027408074766\n",
      "yt : [INFO     ] 2024-07-22 15:43:31,047 Parameters: domain_dimensions         = [320 256 256]\n",
      "yt : [INFO     ] 2024-07-22 15:43:31,048 Parameters: domain_left_edge          = [-4. -2. -2.]\n",
      "yt : [INFO     ] 2024-07-22 15:43:31,048 Parameters: domain_right_edge         = [1. 2. 2.]\n"
     ]
    },
    {
     "name": "stdout",
     "output_type": "stream",
     "text": [
      "/Users/atcushen/Documents/MercuryModelling/runs/nightside_v1_run3/ta-5/cut_particle_region0_0_t00000058_n00032802_amrex\n",
      "Plotting t 58.6\n"
     ]
    },
    {
     "name": "stderr",
     "output_type": "stream",
     "text": [
      "yt : [INFO     ] 2024-07-22 15:43:32,977 Parameters: current_time              = 58.800037261845226\n",
      "yt : [INFO     ] 2024-07-22 15:43:32,977 Parameters: domain_dimensions         = [320 256 256]\n",
      "yt : [INFO     ] 2024-07-22 15:43:32,978 Parameters: domain_left_edge          = [-4. -2. -2.]\n",
      "yt : [INFO     ] 2024-07-22 15:43:32,979 Parameters: domain_right_edge         = [1. 2. 2.]\n"
     ]
    },
    {
     "name": "stdout",
     "output_type": "stream",
     "text": [
      "/Users/atcushen/Documents/MercuryModelling/runs/nightside_v1_run3/ta-5/cut_particle_region0_0_t00000058_n00032948_amrex\n",
      "Plotting t 58.8\n"
     ]
    },
    {
     "name": "stderr",
     "output_type": "stream",
     "text": [
      "yt : [INFO     ] 2024-07-22 15:43:34,893 Parameters: current_time              = 59.00062211549139\n",
      "yt : [INFO     ] 2024-07-22 15:43:34,894 Parameters: domain_dimensions         = [320 256 256]\n",
      "yt : [INFO     ] 2024-07-22 15:43:34,895 Parameters: domain_left_edge          = [-4. -2. -2.]\n",
      "yt : [INFO     ] 2024-07-22 15:43:34,895 Parameters: domain_right_edge         = [1. 2. 2.]\n"
     ]
    },
    {
     "name": "stdout",
     "output_type": "stream",
     "text": [
      "/Users/atcushen/Documents/MercuryModelling/runs/nightside_v1_run3/ta-5/cut_particle_region0_0_t00000059_n00033086_amrex\n",
      "Plotting t 59.0\n"
     ]
    },
    {
     "name": "stderr",
     "output_type": "stream",
     "text": [
      "yt : [INFO     ] 2024-07-22 15:43:36,812 Parameters: current_time              = 59.20066091480502\n",
      "yt : [INFO     ] 2024-07-22 15:43:36,813 Parameters: domain_dimensions         = [320 256 256]\n",
      "yt : [INFO     ] 2024-07-22 15:43:36,814 Parameters: domain_left_edge          = [-4. -2. -2.]\n",
      "yt : [INFO     ] 2024-07-22 15:43:36,815 Parameters: domain_right_edge         = [1. 2. 2.]\n"
     ]
    },
    {
     "name": "stdout",
     "output_type": "stream",
     "text": [
      "/Users/atcushen/Documents/MercuryModelling/runs/nightside_v1_run3/ta-5/cut_particle_region0_0_t00000059_n00033212_amrex\n",
      "Plotting t 59.2\n"
     ]
    },
    {
     "name": "stderr",
     "output_type": "stream",
     "text": [
      "yt : [INFO     ] 2024-07-22 15:43:38,703 Parameters: current_time              = 59.40107235414388\n",
      "yt : [INFO     ] 2024-07-22 15:43:38,704 Parameters: domain_dimensions         = [320 256 256]\n",
      "yt : [INFO     ] 2024-07-22 15:43:38,705 Parameters: domain_left_edge          = [-4. -2. -2.]\n",
      "yt : [INFO     ] 2024-07-22 15:43:38,706 Parameters: domain_right_edge         = [1. 2. 2.]\n"
     ]
    },
    {
     "name": "stdout",
     "output_type": "stream",
     "text": [
      "/Users/atcushen/Documents/MercuryModelling/runs/nightside_v1_run3/ta-5/cut_particle_region0_0_t00000059_n00033336_amrex\n",
      "Plotting t 59.4\n"
     ]
    },
    {
     "name": "stderr",
     "output_type": "stream",
     "text": [
      "yt : [INFO     ] 2024-07-22 15:43:40,499 Parameters: current_time              = 59.601216647875255\n",
      "yt : [INFO     ] 2024-07-22 15:43:40,500 Parameters: domain_dimensions         = [320 256 256]\n",
      "yt : [INFO     ] 2024-07-22 15:43:40,501 Parameters: domain_left_edge          = [-4. -2. -2.]\n",
      "yt : [INFO     ] 2024-07-22 15:43:40,502 Parameters: domain_right_edge         = [1. 2. 2.]\n"
     ]
    },
    {
     "name": "stdout",
     "output_type": "stream",
     "text": [
      "/Users/atcushen/Documents/MercuryModelling/runs/nightside_v1_run3/ta-5/cut_particle_region0_0_t00000059_n00033456_amrex\n",
      "Plotting t 59.6\n"
     ]
    },
    {
     "name": "stderr",
     "output_type": "stream",
     "text": [
      "yt : [INFO     ] 2024-07-22 15:43:42,353 Parameters: current_time              = 59.801266385023055\n",
      "yt : [INFO     ] 2024-07-22 15:43:42,354 Parameters: domain_dimensions         = [320 256 256]\n",
      "yt : [INFO     ] 2024-07-22 15:43:42,355 Parameters: domain_left_edge          = [-4. -2. -2.]\n",
      "yt : [INFO     ] 2024-07-22 15:43:42,356 Parameters: domain_right_edge         = [1. 2. 2.]\n"
     ]
    },
    {
     "name": "stdout",
     "output_type": "stream",
     "text": [
      "/Users/atcushen/Documents/MercuryModelling/runs/nightside_v1_run3/ta-5/cut_particle_region0_0_t00000059_n00033566_amrex\n",
      "Plotting t 59.8\n"
     ]
    },
    {
     "name": "stderr",
     "output_type": "stream",
     "text": [
      "yt : [INFO     ] 2024-07-22 15:43:44,189 Parameters: current_time              = 60.001682658353616\n",
      "yt : [INFO     ] 2024-07-22 15:43:44,190 Parameters: domain_dimensions         = [320 256 256]\n",
      "yt : [INFO     ] 2024-07-22 15:43:44,191 Parameters: domain_left_edge          = [-4. -2. -2.]\n",
      "yt : [INFO     ] 2024-07-22 15:43:44,192 Parameters: domain_right_edge         = [1. 2. 2.]\n"
     ]
    },
    {
     "name": "stdout",
     "output_type": "stream",
     "text": [
      "/Users/atcushen/Documents/MercuryModelling/runs/nightside_v1_run3/ta-5/cut_particle_region0_0_t00000100_n00033674_amrex\n",
      "Plotting t 60.0\n"
     ]
    },
    {
     "name": "stderr",
     "output_type": "stream",
     "text": [
      "yt : [INFO     ] 2024-07-22 15:43:46,302 Parameters: current_time              = 60.20032532211254\n",
      "yt : [INFO     ] 2024-07-22 15:43:46,302 Parameters: domain_dimensions         = [320 256 256]\n",
      "yt : [INFO     ] 2024-07-22 15:43:46,303 Parameters: domain_left_edge          = [-4. -2. -2.]\n",
      "yt : [INFO     ] 2024-07-22 15:43:46,304 Parameters: domain_right_edge         = [1. 2. 2.]\n"
     ]
    },
    {
     "name": "stdout",
     "output_type": "stream",
     "text": [
      "/Users/atcushen/Documents/MercuryModelling/runs/nightside_v1_run3/ta-5/cut_particle_region0_0_t00000100_n00033780_amrex\n",
      "Plotting t 60.2\n"
     ]
    },
    {
     "name": "stderr",
     "output_type": "stream",
     "text": [
      "yt : [INFO     ] 2024-07-22 15:43:48,058 Parameters: current_time              = 60.40141121523651\n",
      "yt : [INFO     ] 2024-07-22 15:43:48,059 Parameters: domain_dimensions         = [320 256 256]\n",
      "yt : [INFO     ] 2024-07-22 15:43:48,059 Parameters: domain_left_edge          = [-4. -2. -2.]\n",
      "yt : [INFO     ] 2024-07-22 15:43:48,060 Parameters: domain_right_edge         = [1. 2. 2.]\n"
     ]
    },
    {
     "name": "stdout",
     "output_type": "stream",
     "text": [
      "/Users/atcushen/Documents/MercuryModelling/runs/nightside_v1_run3/ta-5/cut_particle_region0_0_t00000100_n00033884_amrex\n",
      "Plotting t 60.4\n"
     ]
    },
    {
     "name": "stderr",
     "output_type": "stream",
     "text": [
      "yt : [INFO     ] 2024-07-22 15:43:49,816 Parameters: current_time              = 60.60113768967852\n",
      "yt : [INFO     ] 2024-07-22 15:43:49,817 Parameters: domain_dimensions         = [320 256 256]\n",
      "yt : [INFO     ] 2024-07-22 15:43:49,818 Parameters: domain_left_edge          = [-4. -2. -2.]\n",
      "yt : [INFO     ] 2024-07-22 15:43:49,818 Parameters: domain_right_edge         = [1. 2. 2.]\n"
     ]
    },
    {
     "name": "stdout",
     "output_type": "stream",
     "text": [
      "/Users/atcushen/Documents/MercuryModelling/runs/nightside_v1_run3/ta-5/cut_particle_region0_0_t00000100_n00033995_amrex\n",
      "Plotting t 60.6\n"
     ]
    },
    {
     "name": "stderr",
     "output_type": "stream",
     "text": [
      "yt : [INFO     ] 2024-07-22 15:43:51,497 Parameters: current_time              = 60.8002221383956\n",
      "yt : [INFO     ] 2024-07-22 15:43:51,498 Parameters: domain_dimensions         = [320 256 256]\n",
      "yt : [INFO     ] 2024-07-22 15:43:51,499 Parameters: domain_left_edge          = [-4. -2. -2.]\n",
      "yt : [INFO     ] 2024-07-22 15:43:51,500 Parameters: domain_right_edge         = [1. 2. 2.]\n"
     ]
    },
    {
     "name": "stdout",
     "output_type": "stream",
     "text": [
      "/Users/atcushen/Documents/MercuryModelling/runs/nightside_v1_run3/ta-5/cut_particle_region0_0_t00000100_n00034107_amrex\n",
      "Plotting t 60.8\n"
     ]
    },
    {
     "name": "stderr",
     "output_type": "stream",
     "text": [
      "yt : [INFO     ] 2024-07-22 15:43:53,181 Parameters: current_time              = 61.00013824333858\n",
      "yt : [INFO     ] 2024-07-22 15:43:53,182 Parameters: domain_dimensions         = [320 256 256]\n",
      "yt : [INFO     ] 2024-07-22 15:43:53,182 Parameters: domain_left_edge          = [-4. -2. -2.]\n",
      "yt : [INFO     ] 2024-07-22 15:43:53,183 Parameters: domain_right_edge         = [1. 2. 2.]\n"
     ]
    },
    {
     "name": "stdout",
     "output_type": "stream",
     "text": [
      "/Users/atcushen/Documents/MercuryModelling/runs/nightside_v1_run3/ta-5/cut_particle_region0_0_t00000101_n00034222_amrex\n",
      "Plotting t 61.0\n"
     ]
    },
    {
     "name": "stderr",
     "output_type": "stream",
     "text": [
      "yt : [INFO     ] 2024-07-22 15:43:54,838 Parameters: current_time              = 61.201231543222114\n",
      "yt : [INFO     ] 2024-07-22 15:43:54,839 Parameters: domain_dimensions         = [320 256 256]\n",
      "yt : [INFO     ] 2024-07-22 15:43:54,840 Parameters: domain_left_edge          = [-4. -2. -2.]\n",
      "yt : [INFO     ] 2024-07-22 15:43:54,841 Parameters: domain_right_edge         = [1. 2. 2.]\n"
     ]
    },
    {
     "name": "stdout",
     "output_type": "stream",
     "text": [
      "/Users/atcushen/Documents/MercuryModelling/runs/nightside_v1_run3/ta-5/cut_particle_region0_0_t00000101_n00034335_amrex\n",
      "Plotting t 61.2\n"
     ]
    },
    {
     "name": "stderr",
     "output_type": "stream",
     "text": [
      "yt : [INFO     ] 2024-07-22 15:43:56,571 Parameters: current_time              = 61.40181014968307\n",
      "yt : [INFO     ] 2024-07-22 15:43:56,572 Parameters: domain_dimensions         = [320 256 256]\n",
      "yt : [INFO     ] 2024-07-22 15:43:56,573 Parameters: domain_left_edge          = [-4. -2. -2.]\n",
      "yt : [INFO     ] 2024-07-22 15:43:56,573 Parameters: domain_right_edge         = [1. 2. 2.]\n"
     ]
    },
    {
     "name": "stdout",
     "output_type": "stream",
     "text": [
      "/Users/atcushen/Documents/MercuryModelling/runs/nightside_v1_run3/ta-5/cut_particle_region0_0_t00000101_n00034443_amrex\n",
      "Plotting t 61.4\n"
     ]
    },
    {
     "name": "stderr",
     "output_type": "stream",
     "text": [
      "yt : [INFO     ] 2024-07-22 15:43:58,274 Parameters: current_time              = 61.60151524989462\n",
      "yt : [INFO     ] 2024-07-22 15:43:58,275 Parameters: domain_dimensions         = [320 256 256]\n",
      "yt : [INFO     ] 2024-07-22 15:43:58,276 Parameters: domain_left_edge          = [-4. -2. -2.]\n",
      "yt : [INFO     ] 2024-07-22 15:43:58,276 Parameters: domain_right_edge         = [1. 2. 2.]\n"
     ]
    },
    {
     "name": "stdout",
     "output_type": "stream",
     "text": [
      "/Users/atcushen/Documents/MercuryModelling/runs/nightside_v1_run3/ta-5/cut_particle_region0_0_t00000101_n00034554_amrex\n",
      "Plotting t 61.6\n"
     ]
    },
    {
     "name": "stderr",
     "output_type": "stream",
     "text": [
      "yt : [INFO     ] 2024-07-22 15:43:59,954 Parameters: current_time              = 61.80127482825341\n",
      "yt : [INFO     ] 2024-07-22 15:43:59,955 Parameters: domain_dimensions         = [320 256 256]\n",
      "yt : [INFO     ] 2024-07-22 15:43:59,956 Parameters: domain_left_edge          = [-4. -2. -2.]\n",
      "yt : [INFO     ] 2024-07-22 15:43:59,957 Parameters: domain_right_edge         = [1. 2. 2.]\n"
     ]
    },
    {
     "name": "stdout",
     "output_type": "stream",
     "text": [
      "/Users/atcushen/Documents/MercuryModelling/runs/nightside_v1_run3/ta-5/cut_particle_region0_0_t00000101_n00034666_amrex\n",
      "Plotting t 61.8\n"
     ]
    },
    {
     "name": "stderr",
     "output_type": "stream",
     "text": [
      "yt : [INFO     ] 2024-07-22 15:44:01,663 Parameters: current_time              = 62.001241980953324\n",
      "yt : [INFO     ] 2024-07-22 15:44:01,664 Parameters: domain_dimensions         = [320 256 256]\n",
      "yt : [INFO     ] 2024-07-22 15:44:01,664 Parameters: domain_left_edge          = [-4. -2. -2.]\n",
      "yt : [INFO     ] 2024-07-22 15:44:01,665 Parameters: domain_right_edge         = [1. 2. 2.]\n"
     ]
    },
    {
     "name": "stdout",
     "output_type": "stream",
     "text": [
      "/Users/atcushen/Documents/MercuryModelling/runs/nightside_v1_run3/ta-5/cut_particle_region0_0_t00000102_n00034792_amrex\n",
      "Plotting t 62.0\n"
     ]
    },
    {
     "name": "stderr",
     "output_type": "stream",
     "text": [
      "yt : [INFO     ] 2024-07-22 15:44:03,229 Parameters: current_time              = 62.20142148015203\n",
      "yt : [INFO     ] 2024-07-22 15:44:03,230 Parameters: domain_dimensions         = [320 256 256]\n",
      "yt : [INFO     ] 2024-07-22 15:44:03,231 Parameters: domain_left_edge          = [-4. -2. -2.]\n",
      "yt : [INFO     ] 2024-07-22 15:44:03,232 Parameters: domain_right_edge         = [1. 2. 2.]\n"
     ]
    },
    {
     "name": "stdout",
     "output_type": "stream",
     "text": [
      "/Users/atcushen/Documents/MercuryModelling/runs/nightside_v1_run3/ta-5/cut_particle_region0_0_t00000102_n00034917_amrex\n",
      "Plotting t 62.2\n"
     ]
    },
    {
     "name": "stderr",
     "output_type": "stream",
     "text": [
      "yt : [INFO     ] 2024-07-22 15:44:05,312 Parameters: current_time              = 62.40145242820134\n",
      "yt : [INFO     ] 2024-07-22 15:44:05,312 Parameters: domain_dimensions         = [320 256 256]\n",
      "yt : [INFO     ] 2024-07-22 15:44:05,313 Parameters: domain_left_edge          = [-4. -2. -2.]\n",
      "yt : [INFO     ] 2024-07-22 15:44:05,314 Parameters: domain_right_edge         = [1. 2. 2.]\n"
     ]
    },
    {
     "name": "stdout",
     "output_type": "stream",
     "text": [
      "/Users/atcushen/Documents/MercuryModelling/runs/nightside_v1_run3/ta-5/cut_particle_region0_0_t00000102_n00035040_amrex\n",
      "Plotting t 62.4\n"
     ]
    },
    {
     "name": "stderr",
     "output_type": "stream",
     "text": [
      "yt : [INFO     ] 2024-07-22 15:44:06,965 Parameters: current_time              = 62.60045542241133\n",
      "yt : [INFO     ] 2024-07-22 15:44:06,965 Parameters: domain_dimensions         = [320 256 256]\n",
      "yt : [INFO     ] 2024-07-22 15:44:06,966 Parameters: domain_left_edge          = [-4. -2. -2.]\n",
      "yt : [INFO     ] 2024-07-22 15:44:06,967 Parameters: domain_right_edge         = [1. 2. 2.]\n"
     ]
    },
    {
     "name": "stdout",
     "output_type": "stream",
     "text": [
      "/Users/atcushen/Documents/MercuryModelling/runs/nightside_v1_run3/ta-5/cut_particle_region0_0_t00000102_n00035172_amrex\n",
      "Plotting t 62.6\n"
     ]
    },
    {
     "name": "stderr",
     "output_type": "stream",
     "text": [
      "yt : [INFO     ] 2024-07-22 15:44:08,736 Parameters: current_time              = 62.80061436347832\n",
      "yt : [INFO     ] 2024-07-22 15:44:08,737 Parameters: domain_dimensions         = [320 256 256]\n",
      "yt : [INFO     ] 2024-07-22 15:44:08,738 Parameters: domain_left_edge          = [-4. -2. -2.]\n",
      "yt : [INFO     ] 2024-07-22 15:44:08,739 Parameters: domain_right_edge         = [1. 2. 2.]\n"
     ]
    },
    {
     "name": "stdout",
     "output_type": "stream",
     "text": [
      "/Users/atcushen/Documents/MercuryModelling/runs/nightside_v1_run3/ta-5/cut_particle_region0_0_t00000102_n00035310_amrex\n",
      "Plotting t 62.8\n"
     ]
    },
    {
     "name": "stderr",
     "output_type": "stream",
     "text": [
      "yt : [INFO     ] 2024-07-22 15:44:10,343 Parameters: current_time              = 63.001201925109434\n",
      "yt : [INFO     ] 2024-07-22 15:44:10,344 Parameters: domain_dimensions         = [320 256 256]\n",
      "yt : [INFO     ] 2024-07-22 15:44:10,345 Parameters: domain_left_edge          = [-4. -2. -2.]\n",
      "yt : [INFO     ] 2024-07-22 15:44:10,345 Parameters: domain_right_edge         = [1. 2. 2.]\n"
     ]
    },
    {
     "name": "stdout",
     "output_type": "stream",
     "text": [
      "/Users/atcushen/Documents/MercuryModelling/runs/nightside_v1_run3/ta-5/cut_particle_region0_0_t00000103_n00035441_amrex\n",
      "Plotting t 63.0\n"
     ]
    },
    {
     "name": "stderr",
     "output_type": "stream",
     "text": [
      "yt : [INFO     ] 2024-07-22 15:44:12,067 Parameters: current_time              = 63.20024278549707\n",
      "yt : [INFO     ] 2024-07-22 15:44:12,068 Parameters: domain_dimensions         = [320 256 256]\n",
      "yt : [INFO     ] 2024-07-22 15:44:12,069 Parameters: domain_left_edge          = [-4. -2. -2.]\n",
      "yt : [INFO     ] 2024-07-22 15:44:12,070 Parameters: domain_right_edge         = [1. 2. 2.]\n"
     ]
    },
    {
     "name": "stdout",
     "output_type": "stream",
     "text": [
      "/Users/atcushen/Documents/MercuryModelling/runs/nightside_v1_run3/ta-5/cut_particle_region0_0_t00000103_n00035571_amrex\n",
      "Plotting t 63.2\n"
     ]
    },
    {
     "name": "stderr",
     "output_type": "stream",
     "text": [
      "yt : [INFO     ] 2024-07-22 15:44:13,794 Parameters: current_time              = 63.40050083154054\n",
      "yt : [INFO     ] 2024-07-22 15:44:13,794 Parameters: domain_dimensions         = [320 256 256]\n",
      "yt : [INFO     ] 2024-07-22 15:44:13,795 Parameters: domain_left_edge          = [-4. -2. -2.]\n",
      "yt : [INFO     ] 2024-07-22 15:44:13,796 Parameters: domain_right_edge         = [1. 2. 2.]\n"
     ]
    },
    {
     "name": "stdout",
     "output_type": "stream",
     "text": [
      "/Users/atcushen/Documents/MercuryModelling/runs/nightside_v1_run3/ta-5/cut_particle_region0_0_t00000103_n00035698_amrex\n",
      "Plotting t 63.4\n"
     ]
    },
    {
     "name": "stderr",
     "output_type": "stream",
     "text": [
      "yt : [INFO     ] 2024-07-22 15:44:15,549 Parameters: current_time              = 63.60054033864819\n",
      "yt : [INFO     ] 2024-07-22 15:44:15,550 Parameters: domain_dimensions         = [320 256 256]\n",
      "yt : [INFO     ] 2024-07-22 15:44:15,550 Parameters: domain_left_edge          = [-4. -2. -2.]\n",
      "yt : [INFO     ] 2024-07-22 15:44:15,551 Parameters: domain_right_edge         = [1. 2. 2.]\n"
     ]
    },
    {
     "name": "stdout",
     "output_type": "stream",
     "text": [
      "/Users/atcushen/Documents/MercuryModelling/runs/nightside_v1_run3/ta-5/cut_particle_region0_0_t00000103_n00035810_amrex\n",
      "Plotting t 63.6\n"
     ]
    },
    {
     "name": "stderr",
     "output_type": "stream",
     "text": [
      "yt : [INFO     ] 2024-07-22 15:44:17,093 Parameters: current_time              = 63.801326701897736\n",
      "yt : [INFO     ] 2024-07-22 15:44:17,094 Parameters: domain_dimensions         = [320 256 256]\n",
      "yt : [INFO     ] 2024-07-22 15:44:17,095 Parameters: domain_left_edge          = [-4. -2. -2.]\n",
      "yt : [INFO     ] 2024-07-22 15:44:17,096 Parameters: domain_right_edge         = [1. 2. 2.]\n"
     ]
    },
    {
     "name": "stdout",
     "output_type": "stream",
     "text": [
      "/Users/atcushen/Documents/MercuryModelling/runs/nightside_v1_run3/ta-5/cut_particle_region0_0_t00000103_n00035911_amrex\n",
      "Plotting t 63.8\n"
     ]
    },
    {
     "name": "stderr",
     "output_type": "stream",
     "text": [
      "yt : [INFO     ] 2024-07-22 15:44:18,608 Parameters: current_time              = 64.00030371151118\n",
      "yt : [INFO     ] 2024-07-22 15:44:18,609 Parameters: domain_dimensions         = [320 256 256]\n",
      "yt : [INFO     ] 2024-07-22 15:44:18,609 Parameters: domain_left_edge          = [-4. -2. -2.]\n",
      "yt : [INFO     ] 2024-07-22 15:44:18,610 Parameters: domain_right_edge         = [1. 2. 2.]\n"
     ]
    },
    {
     "name": "stdout",
     "output_type": "stream",
     "text": [
      "/Users/atcushen/Documents/MercuryModelling/runs/nightside_v1_run3/ta-5/cut_particle_region0_0_t00000104_n00036017_amrex\n",
      "Plotting t 64.0\n"
     ]
    },
    {
     "name": "stderr",
     "output_type": "stream",
     "text": [
      "yt : [INFO     ] 2024-07-22 15:44:20,383 Parameters: current_time              = 64.20001818136285\n",
      "yt : [INFO     ] 2024-07-22 15:44:20,384 Parameters: domain_dimensions         = [320 256 256]\n",
      "yt : [INFO     ] 2024-07-22 15:44:20,385 Parameters: domain_left_edge          = [-4. -2. -2.]\n",
      "yt : [INFO     ] 2024-07-22 15:44:20,385 Parameters: domain_right_edge         = [1. 2. 2.]\n"
     ]
    },
    {
     "name": "stdout",
     "output_type": "stream",
     "text": [
      "/Users/atcushen/Documents/MercuryModelling/runs/nightside_v1_run3/ta-5/cut_particle_region0_0_t00000104_n00036130_amrex\n",
      "Plotting t 64.2\n"
     ]
    },
    {
     "name": "stderr",
     "output_type": "stream",
     "text": [
      "yt : [INFO     ] 2024-07-22 15:44:22,125 Parameters: current_time              = 64.40128991949511\n",
      "yt : [INFO     ] 2024-07-22 15:44:22,126 Parameters: domain_dimensions         = [320 256 256]\n",
      "yt : [INFO     ] 2024-07-22 15:44:22,127 Parameters: domain_left_edge          = [-4. -2. -2.]\n",
      "yt : [INFO     ] 2024-07-22 15:44:22,128 Parameters: domain_right_edge         = [1. 2. 2.]\n"
     ]
    },
    {
     "name": "stdout",
     "output_type": "stream",
     "text": [
      "/Users/atcushen/Documents/MercuryModelling/runs/nightside_v1_run3/ta-5/cut_particle_region0_0_t00000104_n00036249_amrex\n",
      "Plotting t 64.4\n"
     ]
    },
    {
     "name": "stderr",
     "output_type": "stream",
     "text": [
      "yt : [INFO     ] 2024-07-22 15:44:24,239 Parameters: current_time              = 64.60021985749586\n",
      "yt : [INFO     ] 2024-07-22 15:44:24,240 Parameters: domain_dimensions         = [320 256 256]\n",
      "yt : [INFO     ] 2024-07-22 15:44:24,241 Parameters: domain_left_edge          = [-4. -2. -2.]\n",
      "yt : [INFO     ] 2024-07-22 15:44:24,242 Parameters: domain_right_edge         = [1. 2. 2.]\n"
     ]
    },
    {
     "name": "stdout",
     "output_type": "stream",
     "text": [
      "/Users/atcushen/Documents/MercuryModelling/runs/nightside_v1_run3/ta-5/cut_particle_region0_0_t00000104_n00036384_amrex\n",
      "Plotting t 64.6\n"
     ]
    },
    {
     "name": "stderr",
     "output_type": "stream",
     "text": [
      "yt : [INFO     ] 2024-07-22 15:44:25,851 Parameters: current_time              = 64.80138639009368\n",
      "yt : [INFO     ] 2024-07-22 15:44:25,852 Parameters: domain_dimensions         = [320 256 256]\n",
      "yt : [INFO     ] 2024-07-22 15:44:25,853 Parameters: domain_left_edge          = [-4. -2. -2.]\n",
      "yt : [INFO     ] 2024-07-22 15:44:25,853 Parameters: domain_right_edge         = [1. 2. 2.]\n"
     ]
    },
    {
     "name": "stdout",
     "output_type": "stream",
     "text": [
      "/Users/atcushen/Documents/MercuryModelling/runs/nightside_v1_run3/ta-5/cut_particle_region0_0_t00000104_n00036510_amrex\n",
      "Plotting t 64.8\n"
     ]
    },
    {
     "name": "stderr",
     "output_type": "stream",
     "text": [
      "yt : [INFO     ] 2024-07-22 15:44:27,522 Parameters: current_time              = 65.0008590887302\n",
      "yt : [INFO     ] 2024-07-22 15:44:27,523 Parameters: domain_dimensions         = [320 256 256]\n",
      "yt : [INFO     ] 2024-07-22 15:44:27,524 Parameters: domain_left_edge          = [-4. -2. -2.]\n",
      "yt : [INFO     ] 2024-07-22 15:44:27,525 Parameters: domain_right_edge         = [1. 2. 2.]\n"
     ]
    },
    {
     "name": "stdout",
     "output_type": "stream",
     "text": [
      "/Users/atcushen/Documents/MercuryModelling/runs/nightside_v1_run3/ta-5/cut_particle_region0_0_t00000105_n00036640_amrex\n",
      "Plotting t 65.0\n"
     ]
    },
    {
     "name": "stderr",
     "output_type": "stream",
     "text": [
      "yt : [INFO     ] 2024-07-22 15:44:29,348 Parameters: current_time              = 65.20100790259501\n",
      "yt : [INFO     ] 2024-07-22 15:44:29,349 Parameters: domain_dimensions         = [320 256 256]\n",
      "yt : [INFO     ] 2024-07-22 15:44:29,350 Parameters: domain_left_edge          = [-4. -2. -2.]\n",
      "yt : [INFO     ] 2024-07-22 15:44:29,350 Parameters: domain_right_edge         = [1. 2. 2.]\n"
     ]
    },
    {
     "name": "stdout",
     "output_type": "stream",
     "text": [
      "/Users/atcushen/Documents/MercuryModelling/runs/nightside_v1_run3/ta-5/cut_particle_region0_0_t00000105_n00036768_amrex\n",
      "Plotting t 65.2\n"
     ]
    },
    {
     "name": "stderr",
     "output_type": "stream",
     "text": [
      "yt : [INFO     ] 2024-07-22 15:44:31,059 Parameters: current_time              = 65.40048749314442\n",
      "yt : [INFO     ] 2024-07-22 15:44:31,059 Parameters: domain_dimensions         = [320 256 256]\n",
      "yt : [INFO     ] 2024-07-22 15:44:31,060 Parameters: domain_left_edge          = [-4. -2. -2.]\n",
      "yt : [INFO     ] 2024-07-22 15:44:31,060 Parameters: domain_right_edge         = [1. 2. 2.]\n"
     ]
    },
    {
     "name": "stdout",
     "output_type": "stream",
     "text": [
      "/Users/atcushen/Documents/MercuryModelling/runs/nightside_v1_run3/ta-5/cut_particle_region0_0_t00000105_n00036900_amrex\n",
      "Plotting t 65.4\n"
     ]
    },
    {
     "name": "stderr",
     "output_type": "stream",
     "text": [
      "yt : [INFO     ] 2024-07-22 15:44:32,765 Parameters: current_time              = 65.60103040510552\n",
      "yt : [INFO     ] 2024-07-22 15:44:32,766 Parameters: domain_dimensions         = [320 256 256]\n",
      "yt : [INFO     ] 2024-07-22 15:44:32,766 Parameters: domain_left_edge          = [-4. -2. -2.]\n",
      "yt : [INFO     ] 2024-07-22 15:44:32,767 Parameters: domain_right_edge         = [1. 2. 2.]\n"
     ]
    },
    {
     "name": "stdout",
     "output_type": "stream",
     "text": [
      "/Users/atcushen/Documents/MercuryModelling/runs/nightside_v1_run3/ta-5/cut_particle_region0_0_t00000105_n00037029_amrex\n",
      "Plotting t 65.6\n"
     ]
    },
    {
     "name": "stderr",
     "output_type": "stream",
     "text": [
      "yt : [INFO     ] 2024-07-22 15:44:34,504 Parameters: current_time              = 65.80074235942242\n",
      "yt : [INFO     ] 2024-07-22 15:44:34,505 Parameters: domain_dimensions         = [320 256 256]\n",
      "yt : [INFO     ] 2024-07-22 15:44:34,506 Parameters: domain_left_edge          = [-4. -2. -2.]\n",
      "yt : [INFO     ] 2024-07-22 15:44:34,507 Parameters: domain_right_edge         = [1. 2. 2.]\n"
     ]
    },
    {
     "name": "stdout",
     "output_type": "stream",
     "text": [
      "/Users/atcushen/Documents/MercuryModelling/runs/nightside_v1_run3/ta-5/cut_particle_region0_0_t00000105_n00037152_amrex\n",
      "Plotting t 65.8\n"
     ]
    },
    {
     "name": "stderr",
     "output_type": "stream",
     "text": [
      "yt : [INFO     ] 2024-07-22 15:44:36,275 Parameters: current_time              = 66.00107550957742\n",
      "yt : [INFO     ] 2024-07-22 15:44:36,276 Parameters: domain_dimensions         = [320 256 256]\n",
      "yt : [INFO     ] 2024-07-22 15:44:36,277 Parameters: domain_left_edge          = [-4. -2. -2.]\n",
      "yt : [INFO     ] 2024-07-22 15:44:36,277 Parameters: domain_right_edge         = [1. 2. 2.]\n"
     ]
    },
    {
     "name": "stdout",
     "output_type": "stream",
     "text": [
      "/Users/atcushen/Documents/MercuryModelling/runs/nightside_v1_run3/ta-5/cut_particle_region0_0_t00000106_n00037266_amrex\n",
      "Plotting t 66.0\n"
     ]
    },
    {
     "name": "stderr",
     "output_type": "stream",
     "text": [
      "yt : [INFO     ] 2024-07-22 15:44:38,005 Parameters: current_time              = 66.20059453692318\n",
      "yt : [INFO     ] 2024-07-22 15:44:38,006 Parameters: domain_dimensions         = [320 256 256]\n",
      "yt : [INFO     ] 2024-07-22 15:44:38,007 Parameters: domain_left_edge          = [-4. -2. -2.]\n",
      "yt : [INFO     ] 2024-07-22 15:44:38,007 Parameters: domain_right_edge         = [1. 2. 2.]\n"
     ]
    },
    {
     "name": "stdout",
     "output_type": "stream",
     "text": [
      "/Users/atcushen/Documents/MercuryModelling/runs/nightside_v1_run3/ta-5/cut_particle_region0_0_t00000106_n00037362_amrex\n",
      "Plotting t 66.2\n"
     ]
    },
    {
     "name": "stderr",
     "output_type": "stream",
     "text": [
      "yt : [INFO     ] 2024-07-22 15:44:39,713 Parameters: current_time              = 66.40112568189228\n",
      "yt : [INFO     ] 2024-07-22 15:44:39,714 Parameters: domain_dimensions         = [320 256 256]\n",
      "yt : [INFO     ] 2024-07-22 15:44:39,715 Parameters: domain_left_edge          = [-4. -2. -2.]\n",
      "yt : [INFO     ] 2024-07-22 15:44:39,716 Parameters: domain_right_edge         = [1. 2. 2.]\n"
     ]
    },
    {
     "name": "stdout",
     "output_type": "stream",
     "text": [
      "/Users/atcushen/Documents/MercuryModelling/runs/nightside_v1_run3/ta-5/cut_particle_region0_0_t00000106_n00037453_amrex\n",
      "Plotting t 66.4\n"
     ]
    },
    {
     "name": "stderr",
     "output_type": "stream",
     "text": [
      "yt : [INFO     ] 2024-07-22 15:44:41,438 Parameters: current_time              = 66.60104461209721\n",
      "yt : [INFO     ] 2024-07-22 15:44:41,439 Parameters: domain_dimensions         = [320 256 256]\n",
      "yt : [INFO     ] 2024-07-22 15:44:41,439 Parameters: domain_left_edge          = [-4. -2. -2.]\n",
      "yt : [INFO     ] 2024-07-22 15:44:41,440 Parameters: domain_right_edge         = [1. 2. 2.]\n"
     ]
    },
    {
     "name": "stdout",
     "output_type": "stream",
     "text": [
      "/Users/atcushen/Documents/MercuryModelling/runs/nightside_v1_run3/ta-5/cut_particle_region0_0_t00000106_n00037540_amrex\n",
      "Plotting t 66.6\n"
     ]
    },
    {
     "name": "stderr",
     "output_type": "stream",
     "text": [
      "yt : [INFO     ] 2024-07-22 15:44:43,721 Parameters: current_time              = 66.80229931444407\n",
      "yt : [INFO     ] 2024-07-22 15:44:43,722 Parameters: domain_dimensions         = [320 256 256]\n",
      "yt : [INFO     ] 2024-07-22 15:44:43,723 Parameters: domain_left_edge          = [-4. -2. -2.]\n",
      "yt : [INFO     ] 2024-07-22 15:44:43,723 Parameters: domain_right_edge         = [1. 2. 2.]\n"
     ]
    },
    {
     "name": "stdout",
     "output_type": "stream",
     "text": [
      "/Users/atcushen/Documents/MercuryModelling/runs/nightside_v1_run3/ta-5/cut_particle_region0_0_t00000106_n00037628_amrex\n",
      "Plotting t 66.8\n"
     ]
    },
    {
     "name": "stderr",
     "output_type": "stream",
     "text": [
      "yt : [INFO     ] 2024-07-22 15:44:45,445 Parameters: current_time              = 67.00037018794269\n",
      "yt : [INFO     ] 2024-07-22 15:44:45,446 Parameters: domain_dimensions         = [320 256 256]\n",
      "yt : [INFO     ] 2024-07-22 15:44:45,446 Parameters: domain_left_edge          = [-4. -2. -2.]\n",
      "yt : [INFO     ] 2024-07-22 15:44:45,447 Parameters: domain_right_edge         = [1. 2. 2.]\n"
     ]
    },
    {
     "name": "stdout",
     "output_type": "stream",
     "text": [
      "/Users/atcushen/Documents/MercuryModelling/runs/nightside_v1_run3/ta-5/cut_particle_region0_0_t00000107_n00037713_amrex\n"
     ]
    },
    {
     "ename": "KeyboardInterrupt",
     "evalue": "",
     "output_type": "error",
     "traceback": [
      "\u001b[0;31m---------------------------------------------------------------------------\u001b[0m",
      "\u001b[0;31mKeyboardInterrupt\u001b[0m                         Traceback (most recent call last)",
      "Cell \u001b[0;32mIn[66], line 91\u001b[0m\n\u001b[1;32m     89\u001b[0m ds \u001b[38;5;241m=\u001b[39m fleks\u001b[38;5;241m.\u001b[39mload(filename)\n\u001b[1;32m     90\u001b[0m \u001b[38;5;28;01mif\u001b[39;00m \u001b[38;5;28mslice\u001b[39m\u001b[38;5;241m==\u001b[39m\u001b[38;5;124m\"\u001b[39m\u001b[38;5;124mxy\u001b[39m\u001b[38;5;124m\"\u001b[39m:\n\u001b[0;32m---> 91\u001b[0m     dc \u001b[38;5;241m=\u001b[39m \u001b[43mds\u001b[49m\u001b[38;5;241;43m.\u001b[39;49m\u001b[43mget_slice\u001b[49m\u001b[43m(\u001b[49m\u001b[38;5;124;43m\"\u001b[39;49m\u001b[38;5;124;43mz\u001b[39;49m\u001b[38;5;124;43m\"\u001b[39;49m\u001b[43m,\u001b[49m\u001b[43mz_plane\u001b[49m\u001b[43m)\u001b[49m\n\u001b[1;32m     92\u001b[0m     \u001b[38;5;66;03m#print(dc)\u001b[39;00m\n\u001b[1;32m     93\u001b[0m \u001b[38;5;28;01melif\u001b[39;00m \u001b[38;5;28mslice\u001b[39m\u001b[38;5;241m==\u001b[39m\u001b[38;5;124m\"\u001b[39m\u001b[38;5;124mxz\u001b[39m\u001b[38;5;124m\"\u001b[39m:\n",
      "File \u001b[0;32m~/SWMF/PC/FLEKS/tools/yt_interface.py:250\u001b[0m, in \u001b[0;36mFLEKSDataset.get_slice\u001b[0;34m(self, norm, cut_loc)\u001b[0m\n\u001b[1;32m    248\u001b[0m dataSets \u001b[38;5;241m=\u001b[39m {}\n\u001b[1;32m    249\u001b[0m \u001b[38;5;28;01mfor\u001b[39;00m var \u001b[38;5;129;01min\u001b[39;00m \u001b[38;5;28mself\u001b[39m\u001b[38;5;241m.\u001b[39mfield_list:\n\u001b[0;32m--> 250\u001b[0m     dataSets[var[\u001b[38;5;241m1\u001b[39m]] \u001b[38;5;241m=\u001b[39m np\u001b[38;5;241m.\u001b[39msqueeze(\u001b[43mabArr\u001b[49m\u001b[43m[\u001b[49m\u001b[43mvar\u001b[49m\u001b[43m]\u001b[49m)\n\u001b[1;32m    252\u001b[0m axLabes \u001b[38;5;241m=\u001b[39m {\u001b[38;5;241m0\u001b[39m: (\u001b[38;5;124m\"\u001b[39m\u001b[38;5;124mY\u001b[39m\u001b[38;5;124m\"\u001b[39m, \u001b[38;5;124m\"\u001b[39m\u001b[38;5;124mZ\u001b[39m\u001b[38;5;124m\"\u001b[39m), \u001b[38;5;241m1\u001b[39m: (\u001b[38;5;124m\"\u001b[39m\u001b[38;5;124mX\u001b[39m\u001b[38;5;124m\"\u001b[39m, \u001b[38;5;124m\"\u001b[39m\u001b[38;5;124mZ\u001b[39m\u001b[38;5;124m\"\u001b[39m), \u001b[38;5;241m2\u001b[39m: (\u001b[38;5;124m\"\u001b[39m\u001b[38;5;124mX\u001b[39m\u001b[38;5;124m\"\u001b[39m, \u001b[38;5;124m\"\u001b[39m\u001b[38;5;124mY\u001b[39m\u001b[38;5;124m\"\u001b[39m)}\n\u001b[1;32m    254\u001b[0m axes \u001b[38;5;241m=\u001b[39m []\n",
      "File \u001b[0;32m~/anaconda3/lib/python3.10/site-packages/yt/data_objects/data_containers.py:264\u001b[0m, in \u001b[0;36mYTDataContainer.__getitem__\u001b[0;34m(self, key)\u001b[0m\n\u001b[1;32m    262\u001b[0m         \u001b[38;5;28;01mreturn\u001b[39;00m \u001b[38;5;28mself\u001b[39m\u001b[38;5;241m.\u001b[39mfield_data[f]\n\u001b[1;32m    263\u001b[0m     \u001b[38;5;28;01melse\u001b[39;00m:\n\u001b[0;32m--> 264\u001b[0m         \u001b[38;5;28;43mself\u001b[39;49m\u001b[38;5;241;43m.\u001b[39;49m\u001b[43mget_data\u001b[49m\u001b[43m(\u001b[49m\u001b[43mf\u001b[49m\u001b[43m)\u001b[49m\n\u001b[1;32m    265\u001b[0m \u001b[38;5;66;03m# fi.units is the unit expression string. We depend on the registry\u001b[39;00m\n\u001b[1;32m    266\u001b[0m \u001b[38;5;66;03m# hanging off the dataset to define this unit object.\u001b[39;00m\n\u001b[1;32m    267\u001b[0m \u001b[38;5;66;03m# Note that this is less succinct so that we can account for the case\u001b[39;00m\n\u001b[1;32m    268\u001b[0m \u001b[38;5;66;03m# when there are, for example, no elements in the object.\u001b[39;00m\n\u001b[1;32m    269\u001b[0m \u001b[38;5;28;01mtry\u001b[39;00m:\n",
      "File \u001b[0;32m~/anaconda3/lib/python3.10/site-packages/yt/data_objects/construction_data_containers.py:918\u001b[0m, in \u001b[0;36mYTCoveringGrid.get_data\u001b[0;34m(self, fields)\u001b[0m\n\u001b[1;32m    916\u001b[0m                 gen\u001b[38;5;241m.\u001b[39mremove(field)\n\u001b[1;32m    917\u001b[0m     \u001b[38;5;28;01melse\u001b[39;00m:\n\u001b[0;32m--> 918\u001b[0m         \u001b[38;5;28;43mself\u001b[39;49m\u001b[38;5;241;43m.\u001b[39;49m\u001b[43m_fill_particles\u001b[49m\u001b[43m(\u001b[49m\u001b[43mpart\u001b[49m\u001b[43m)\u001b[49m\n\u001b[1;32m    920\u001b[0m \u001b[38;5;28;01mif\u001b[39;00m \u001b[38;5;28mlen\u001b[39m(fill) \u001b[38;5;241m>\u001b[39m \u001b[38;5;241m0\u001b[39m:\n\u001b[1;32m    921\u001b[0m     \u001b[38;5;28mself\u001b[39m\u001b[38;5;241m.\u001b[39m_fill_fields(fill)\n",
      "File \u001b[0;32m~/anaconda3/lib/python3.10/site-packages/yt/data_objects/construction_data_containers.py:965\u001b[0m, in \u001b[0;36mYTCoveringGrid._fill_particles\u001b[0;34m(self, part)\u001b[0m\n\u001b[1;32m    963\u001b[0m \u001b[38;5;28;01mdef\u001b[39;00m \u001b[38;5;21m_fill_particles\u001b[39m(\u001b[38;5;28mself\u001b[39m, part):\n\u001b[1;32m    964\u001b[0m     \u001b[38;5;28;01mfor\u001b[39;00m p \u001b[38;5;129;01min\u001b[39;00m part:\n\u001b[0;32m--> 965\u001b[0m         \u001b[38;5;28mself\u001b[39m[p] \u001b[38;5;241m=\u001b[39m \u001b[38;5;28;43mself\u001b[39;49m\u001b[38;5;241;43m.\u001b[39;49m\u001b[43m_data_source\u001b[49m\u001b[43m[\u001b[49m\u001b[43mp\u001b[49m\u001b[43m]\u001b[49m\n",
      "File \u001b[0;32m~/anaconda3/lib/python3.10/site-packages/yt/data_objects/data_containers.py:264\u001b[0m, in \u001b[0;36mYTDataContainer.__getitem__\u001b[0;34m(self, key)\u001b[0m\n\u001b[1;32m    262\u001b[0m         \u001b[38;5;28;01mreturn\u001b[39;00m \u001b[38;5;28mself\u001b[39m\u001b[38;5;241m.\u001b[39mfield_data[f]\n\u001b[1;32m    263\u001b[0m     \u001b[38;5;28;01melse\u001b[39;00m:\n\u001b[0;32m--> 264\u001b[0m         \u001b[38;5;28;43mself\u001b[39;49m\u001b[38;5;241;43m.\u001b[39;49m\u001b[43mget_data\u001b[49m\u001b[43m(\u001b[49m\u001b[43mf\u001b[49m\u001b[43m)\u001b[49m\n\u001b[1;32m    265\u001b[0m \u001b[38;5;66;03m# fi.units is the unit expression string. We depend on the registry\u001b[39;00m\n\u001b[1;32m    266\u001b[0m \u001b[38;5;66;03m# hanging off the dataset to define this unit object.\u001b[39;00m\n\u001b[1;32m    267\u001b[0m \u001b[38;5;66;03m# Note that this is less succinct so that we can account for the case\u001b[39;00m\n\u001b[1;32m    268\u001b[0m \u001b[38;5;66;03m# when there are, for example, no elements in the object.\u001b[39;00m\n\u001b[1;32m    269\u001b[0m \u001b[38;5;28;01mtry\u001b[39;00m:\n",
      "File \u001b[0;32m~/anaconda3/lib/python3.10/site-packages/yt/data_objects/selection_objects/data_selection_objects.py:203\u001b[0m, in \u001b[0;36mYTSelectionContainer.get_data\u001b[0;34m(self, fields)\u001b[0m\n\u001b[1;32m    200\u001b[0m     \u001b[38;5;28mself\u001b[39m\u001b[38;5;241m.\u001b[39mfield_data[f] \u001b[38;5;241m=\u001b[39m \u001b[38;5;28mself\u001b[39m\u001b[38;5;241m.\u001b[39mds\u001b[38;5;241m.\u001b[39marr(v, units\u001b[38;5;241m=\u001b[39mfinfos[f]\u001b[38;5;241m.\u001b[39munits)\n\u001b[1;32m    201\u001b[0m     \u001b[38;5;28mself\u001b[39m\u001b[38;5;241m.\u001b[39mfield_data[f]\u001b[38;5;241m.\u001b[39mconvert_to_units(finfos[f]\u001b[38;5;241m.\u001b[39moutput_units)\n\u001b[0;32m--> 203\u001b[0m read_particles, gen_particles \u001b[38;5;241m=\u001b[39m \u001b[38;5;28;43mself\u001b[39;49m\u001b[38;5;241;43m.\u001b[39;49m\u001b[43mindex\u001b[49m\u001b[38;5;241;43m.\u001b[39;49m\u001b[43m_read_particle_fields\u001b[49m\u001b[43m(\u001b[49m\n\u001b[1;32m    204\u001b[0m \u001b[43m    \u001b[49m\u001b[43mparticles\u001b[49m\u001b[43m,\u001b[49m\u001b[43m \u001b[49m\u001b[38;5;28;43mself\u001b[39;49m\u001b[43m,\u001b[49m\u001b[43m \u001b[49m\u001b[38;5;28;43mself\u001b[39;49m\u001b[38;5;241;43m.\u001b[39;49m\u001b[43m_current_chunk\u001b[49m\n\u001b[1;32m    205\u001b[0m \u001b[43m\u001b[49m\u001b[43m)\u001b[49m\n\u001b[1;32m    207\u001b[0m \u001b[38;5;28;01mfor\u001b[39;00m f, v \u001b[38;5;129;01min\u001b[39;00m read_particles\u001b[38;5;241m.\u001b[39mitems():\n\u001b[1;32m    208\u001b[0m     \u001b[38;5;28mself\u001b[39m\u001b[38;5;241m.\u001b[39mfield_data[f] \u001b[38;5;241m=\u001b[39m \u001b[38;5;28mself\u001b[39m\u001b[38;5;241m.\u001b[39mds\u001b[38;5;241m.\u001b[39marr(v, units\u001b[38;5;241m=\u001b[39mfinfos[f]\u001b[38;5;241m.\u001b[39munits)\n",
      "File \u001b[0;32m~/anaconda3/lib/python3.10/site-packages/yt/geometry/geometry_handler.py:223\u001b[0m, in \u001b[0;36mIndex._read_particle_fields\u001b[0;34m(self, fields, dobj, chunk)\u001b[0m\n\u001b[1;32m    221\u001b[0m     \u001b[38;5;28mself\u001b[39m\u001b[38;5;241m.\u001b[39m_identify_base_chunk(dobj)\n\u001b[1;32m    222\u001b[0m chunks \u001b[38;5;241m=\u001b[39m \u001b[38;5;28mself\u001b[39m\u001b[38;5;241m.\u001b[39m_chunk_io(dobj, cache\u001b[38;5;241m=\u001b[39m\u001b[38;5;28;01mFalse\u001b[39;00m)\n\u001b[0;32m--> 223\u001b[0m fields_to_return \u001b[38;5;241m=\u001b[39m \u001b[38;5;28;43mself\u001b[39;49m\u001b[38;5;241;43m.\u001b[39;49m\u001b[43mio\u001b[49m\u001b[38;5;241;43m.\u001b[39;49m\u001b[43m_read_particle_selection\u001b[49m\u001b[43m(\u001b[49m\n\u001b[1;32m    224\u001b[0m \u001b[43m    \u001b[49m\u001b[43mchunks\u001b[49m\u001b[43m,\u001b[49m\u001b[43m \u001b[49m\u001b[43mselector\u001b[49m\u001b[43m,\u001b[49m\u001b[43m \u001b[49m\u001b[43mfields_to_read\u001b[49m\n\u001b[1;32m    225\u001b[0m \u001b[43m\u001b[49m\u001b[43m)\u001b[49m\n\u001b[1;32m    226\u001b[0m \u001b[38;5;28;01mreturn\u001b[39;00m fields_to_return, fields_to_generate\n",
      "File \u001b[0;32m~/anaconda3/lib/python3.10/site-packages/yt/utilities/io_handler.py:202\u001b[0m, in \u001b[0;36mBaseIOHandler._read_particle_selection\u001b[0;34m(self, chunks, selector, fields)\u001b[0m\n\u001b[1;32m    199\u001b[0m     data[field] \u001b[38;5;241m=\u001b[39m []\n\u001b[1;32m    201\u001b[0m \u001b[38;5;66;03m# Now we read.\u001b[39;00m\n\u001b[0;32m--> 202\u001b[0m \u001b[38;5;28;01mfor\u001b[39;00m field_r, vals \u001b[38;5;129;01min\u001b[39;00m \u001b[38;5;28mself\u001b[39m\u001b[38;5;241m.\u001b[39m_read_particle_fields(chunks, ptf, selector):\n\u001b[1;32m    203\u001b[0m     \u001b[38;5;66;03m# Note that we now need to check the mappings\u001b[39;00m\n\u001b[1;32m    204\u001b[0m     \u001b[38;5;28;01mfor\u001b[39;00m field_f \u001b[38;5;129;01min\u001b[39;00m field_maps[field_r]:\n\u001b[1;32m    205\u001b[0m         data[field_f]\u001b[38;5;241m.\u001b[39mappend(vals)\n",
      "File \u001b[0;32m~/anaconda3/lib/python3.10/site-packages/yt/frontends/boxlib/io.py:145\u001b[0m, in \u001b[0;36mIOHandlerBoxlib._read_particle_fields\u001b[0;34m(self, chunks, ptf, selector)\u001b[0m\n\u001b[1;32m    142\u001b[0m \u001b[38;5;28;01mwith\u001b[39;00m \u001b[38;5;28mopen\u001b[39m(fn, \u001b[38;5;124m\"\u001b[39m\u001b[38;5;124mrb\u001b[39m\u001b[38;5;124m\"\u001b[39m) \u001b[38;5;28;01mas\u001b[39;00m f:\n\u001b[1;32m    143\u001b[0m     \u001b[38;5;66;03m# read in the position fields for selection\u001b[39;00m\n\u001b[1;32m    144\u001b[0m     f\u001b[38;5;241m.\u001b[39mseek(offset \u001b[38;5;241m+\u001b[39m pheader\u001b[38;5;241m.\u001b[39mparticle_int_dtype\u001b[38;5;241m.\u001b[39mitemsize \u001b[38;5;241m*\u001b[39m npart)\n\u001b[0;32m--> 145\u001b[0m     rdata \u001b[38;5;241m=\u001b[39m \u001b[43mnp\u001b[49m\u001b[38;5;241;43m.\u001b[39;49m\u001b[43mfromfile\u001b[49m\u001b[43m(\u001b[49m\n\u001b[1;32m    146\u001b[0m \u001b[43m        \u001b[49m\u001b[43mf\u001b[49m\u001b[43m,\u001b[49m\u001b[43m \u001b[49m\u001b[43mpheader\u001b[49m\u001b[38;5;241;43m.\u001b[39;49m\u001b[43mreal_type\u001b[49m\u001b[43m,\u001b[49m\u001b[43m \u001b[49m\u001b[43mpheader\u001b[49m\u001b[38;5;241;43m.\u001b[39;49m\u001b[43mnum_real\u001b[49m\u001b[43m \u001b[49m\u001b[38;5;241;43m*\u001b[39;49m\u001b[43m \u001b[49m\u001b[43mnpart\u001b[49m\n\u001b[1;32m    147\u001b[0m \u001b[43m    \u001b[49m\u001b[43m)\u001b[49m\n\u001b[1;32m    149\u001b[0m     \u001b[38;5;66;03m# Allow reading particles in 1, 2, and 3 dimensions,\u001b[39;00m\n\u001b[1;32m    150\u001b[0m     \u001b[38;5;66;03m# setting the appropriate default for unused dimensions.\u001b[39;00m\n\u001b[1;32m    151\u001b[0m     pos \u001b[38;5;241m=\u001b[39m []\n",
      "\u001b[0;31mKeyboardInterrupt\u001b[0m: "
     ]
    }
   ],
   "source": [
    "#########################\n",
    "\n",
    "# High-level user input\n",
    "dir = \"/Users/atcushen/Documents/MercuryModelling/runs/nightside_v1_run3/ta-5/\"    # Directory with data \n",
    "start_time = 55                                                # What is the start time of the dataset?\n",
    "t_bound = [55,77]                                               # Start and stop times for the GIF\n",
    "dt = 0.2                                                     # What is the timestep between files?\n",
    "\n",
    "'''\n",
    "Choose plot type from existing presets;\n",
    "\n",
    "\"pic_E_y\":  flow vectors and duskward convective field\n",
    "Recommended settings: (xy)\n",
    "xlims=[-2.2,0.2]\n",
    "ylims=[-1.2,1.2]\n",
    "shape=[160,160]\n",
    "\n",
    "\"pic_dipolarization_zoom\": bz and field lines to show particular dipolarization event in detail\n",
    "Recommended settings: (xz)\n",
    "xlims=[-2.2,0.2]\n",
    "ylims=[-1.2,1.2]\n",
    "shape=[160,160] \n",
    "\n",
    "\"pic_currentsheet\": eletric field and Bz in current sheet\n",
    "Recommended settings: (xz)\n",
    "xlims=[-3.5,0.2]\n",
    "ylims=[-1.2,1.2]\n",
    "shape=[160,160] \n",
    "\n",
    "\"bz1\": perturbation magnetic field in near-planet current sheet (xy)\n",
    "xlims=[-2.4,-0.4]\n",
    "ylims=[-1,1]\n",
    "shape=[200,200] \n",
    "\n",
    "\"pressure_anisotropy\": plot of pressure difference between perpendicular and parallel\n",
    "xlims=[-2.4,-0.4]\n",
    "ylims=[-1,1]\n",
    "shape=[200,200] \n",
    "\n",
    "# \"pic_currentsheet2\": just bz in the current sheet (xy)\n",
    "# xlims=[-2.2,0.2]\n",
    "# ylims=[-1.2,1.2]\n",
    "# shape=[160,160] \n",
    "'''\n",
    "\n",
    "plot_preset = \"pic_currentsheet2\"\n",
    "slice = \"xy\"                                                   # Set plane of slice (\"xy\" or \"xz\") or \"sphere\" for particle psd\n",
    "data_type = \"cut\" # \"cut\" or \"fluid\"\n",
    "z_plane = 0.125\n",
    "\n",
    "# Grid settings / location of particle sphere\n",
    "xlims=[-1.8,-0.8]\n",
    "ylims=[-0.7,0.3]\n",
    "shape=[200,200] \n",
    "loc = [-1.0,0,0.2] # location of particle sphere\n",
    "a = 0.1 # radius of particle sphere\n",
    "\n",
    "#########################\n",
    "\n",
    "# First, get list of files in directory\n",
    "all_files = [os.path.join(dir, o) for o in os.listdir(dir) \n",
    "                    if os.path.isdir(os.path.join(dir,o))]\n",
    "\n",
    "# Then use regex to pick out only the files we want \n",
    "files=[]\n",
    "for file in all_files:\n",
    "    if data_type==\"fluid\":\n",
    "        match = re.search(str(dir+\"3d_fluid_region0_.*\"),file)\n",
    "        if match != None:\n",
    "            files.append(file)\n",
    "    elif data_type==\"cut\":\n",
    "        match = re.search(str(dir+\"cut_particle_region0.*\"),file)\n",
    "        if match != None:\n",
    "            files.append(file)\n",
    "files.sort()\n",
    "files = files\n",
    "print(str(len(files)),\"files recognized!\")\n",
    "\n",
    "# Make a dictionary with better names for the files:\n",
    "named_files = {}\n",
    "for i in range(len(files)):\n",
    "    time = round(i*dt+start_time,3)\n",
    "    named_files[time] = files[i]\n",
    "\n",
    "# Loop over each file, pull the data, make the plots, and save as .pngs in /frames\n",
    "for time in list(named_files.keys())[int((t_bound[0]-start_time)/dt):int((t_bound[1]-start_time)/dt)]: #only loop over the times within t_bound\n",
    "    filename = str(named_files[time])\n",
    "    print(filename)\n",
    "    ds = fleks.load(filename)\n",
    "    if slice==\"xy\":\n",
    "        dc = ds.get_slice(\"z\",z_plane)\n",
    "        #print(dc)\n",
    "    elif slice==\"xz\":\n",
    "        dc = ds.get_slice(\"y\",0.0)\n",
    "    elif slice==\"sphere\":\n",
    "        ds.add_field((\"particle\", \"unit_one\"), function=_unit_one, sampling_type='particle')\n",
    "    \n",
    "    # Plot!!\n",
    "\n",
    "    # Use preset\n",
    "    if plot_preset == \"pic_E_y\":\n",
    "        fig, ax = plt.subplots(figsize=(10,10))\n",
    "        inner = plt.Circle((0, 0), 0.8, color='black')\n",
    "        outer = plt.Circle((0, 0), 1, color='grey')\n",
    "        print(\"Plotting t\",time)\n",
    "        v = dc.evaluate_expression(\"Ey\")\n",
    "        ux = np.array(dc.evaluate_expression(\"uxS1\").T)\n",
    "        uy = np.array(dc.evaluate_expression(\"uyS1\").T)\n",
    "        vmin = v.min().v\n",
    "        vmax = v.max().v\n",
    "        nlevels = 200 \n",
    "        levels = np.linspace(-50, 50, nlevels)\n",
    "        cs = ax.contourf(dc.x.value, dc.y.value, np.array(v.T)/1e3, levels=levels, cmap='bwr')\n",
    "        ticks = get_ticks(-50, 50)\n",
    "        clb = fig.colorbar(cs, ax=ax,ticks=ticks)            \n",
    "        clb.ax.set_yticks(ticks)    \n",
    "        clb.ax.tick_params(labelsize=8)\n",
    "        clb.ax.set_title('$E_y$ [mV/m]',fontsize=12)\n",
    "        quiver_skip=10\n",
    "        ax.quiver(dc.x.value[::quiver_skip], dc.y.value[::quiver_skip],ux[::quiver_skip,::quiver_skip], uy[::quiver_skip,::quiver_skip],color=\"grey\")\n",
    "        ax.set_aspect(1) # you may also use am.imshow(..., aspect=\"auto\") to restore the aspect ratio\n",
    "        ax.set_xlabel(\"X [$R_M$]\")\n",
    "        ax.set_ylabel(\"Y [$R_M$]\")\n",
    "        ax.add_patch(outer)\n",
    "        ax.add_patch(inner)\n",
    "        ax.set_xlim(xlims)\n",
    "        ax.set_ylim(ylims)\n",
    "        ax.set_title(str(\"Convection field at t=\"+str(round(time,2))+\"s\"))\n",
    "        fig.show()\n",
    "\n",
    "    elif plot_preset == \"pic_dipolarization_zoom\":\n",
    "        fig, ax = plt.subplots(figsize=(10,10))\n",
    "        inner = plt.Circle((0, 0), 0.8, color='black')\n",
    "        outer = plt.Circle((0, 0), 1, color='grey')\n",
    "        print(\"Plotting t\",time)\n",
    "        Bx = dc.evaluate_expression(\"Bx\")\n",
    "        Bz = dc.evaluate_expression(\"Bz\")\n",
    "        vmin = -100\n",
    "        vmax = 100\n",
    "        nlevels = 200 \n",
    "        levels = np.linspace(vmin, vmax, nlevels)\n",
    "        cs = ax.contourf(dc.x.value, dc.y.value, np.array(Bz.T), levels=levels, cmap='bwr')\n",
    "\n",
    "        start_points = np.zeros([40,2])\n",
    "        start_points[:,0]=np.linspace(xlims[0],xlims[1],40)\n",
    "        start_points[:,1]=0.2\n",
    "        \n",
    "        ax.streamplot(dc.x.value,dc.y.value, np.array(Bx.T),np.array(Bz.T),color='grey',linewidth=0.5,broken_streamlines=False,arrowsize=0.5,\n",
    "                      start_points=start_points)\n",
    "        \n",
    "        ticks = get_ticks(vmin, vmax)\n",
    "        clb = fig.colorbar(cs, ax=ax,ticks=ticks)            \n",
    "        clb.ax.set_yticks(ticks)    \n",
    "        clb.ax.tick_params(labelsize=8)\n",
    "        clb.ax.set_title('$B_z$ [nT]',fontsize=12)\n",
    "        ax.set_aspect(1) # you may also use am.imshow(..., aspect=\"auto\") to restore the aspect ratio\n",
    "        ax.set_xlabel(\"X [$R_M$]\")\n",
    "        ax.set_ylabel(\"Z [$R_M$]\")\n",
    "        ax.add_patch(outer)\n",
    "        ax.add_patch(inner)\n",
    "        ax.set_xlim(xlims)\n",
    "        ax.set_ylim(ylims)\n",
    "        ax.set_title(str(\"$B_z$ at t=\"+str(round(time,2))+\"s\"))\n",
    "        fig.show()\n",
    "\n",
    "    elif plot_preset == \"pic_currentsheet\":\n",
    "        fig, ax = plt.subplots(ncols=2,figsize=(25,10))\n",
    "        inner = plt.Circle((0, 0), 0.8, color='black')\n",
    "        outer = plt.Circle((0, 0), 1, color='grey')\n",
    "\n",
    "        #plot v\n",
    "        v = np.sqrt(dc.evaluate_expression(\"uxS1\")**2 + dc.evaluate_expression(\"uyS1\")**2)\n",
    "        ux = np.array(dc.evaluate_expression(\"uxS1\").T)\n",
    "        uy = np.array(dc.evaluate_expression(\"uyS1\").T)\n",
    "        vmin = v.min().v\n",
    "        vmax = v.max().v\n",
    "        nlevels = 200 \n",
    "        levels = np.logspace(0, 3, nlevels)\n",
    "        cs = ax[0].contourf(dc.x.value, dc.y.value, np.array(v.T),levels=levels, cmap='rainbow',locator=ticker.LogLocator())\n",
    "        clb0 = fig.colorbar(cs, ax=ax[0])                   \n",
    "        clb0.ax.tick_params(labelsize=8)\n",
    "        clb0.ax.set_title('$V$ [R$_M$/s]',fontsize=12)\n",
    "        quiver_skip=10\n",
    "        ax[0].quiver(dc.x.value[::quiver_skip], dc.y.value[::quiver_skip],ux[::quiver_skip,::quiver_skip], uy[::quiver_skip,::quiver_skip],color=\"grey\")\n",
    "        ax[0].set_aspect(1) # you may also use am.imshow(..., aspect=\"auto\") to restore the aspect ratio\n",
    "        ax[0].set_xlabel(\"X [$R_M$]\")\n",
    "        ax[0].set_ylabel(\"Y [$R_M$]\")\n",
    "        ax[0].add_patch(outer)\n",
    "        ax[0].add_patch(inner)\n",
    "        ax[0].set_xlim(xlims)\n",
    "        ax[0].set_ylim(ylims)\n",
    "        ax[0].set_title(str(\"Convection field at t=\"+str(round(time,2))+\"s\"))\n",
    "\n",
    "        #plot B\n",
    "        inner = plt.Circle((0, 0), 0.8, color='black')\n",
    "        outer = plt.Circle((0, 0), 1, color='grey')\n",
    "        Bx = dc.evaluate_expression(\"Bx\")\n",
    "        Bz = dc.evaluate_expression(\"Bz\")\n",
    "        vmin = -100\n",
    "        vmax = 100\n",
    "        nlevels = 200 \n",
    "        levels = np.linspace(vmin, vmax, nlevels)\n",
    "        cs = ax[1].contourf(dc.x.value, dc.y.value, np.array(Bz.T), levels=levels, cmap='bwr')\n",
    "        \n",
    "        ticks = get_ticks(vmin, vmax)\n",
    "        clb1 = fig.colorbar(cs, ax=ax[1],ticks=ticks)            \n",
    "        clb1.ax.set_yticks(ticks)    \n",
    "        clb1.ax.tick_params(labelsize=8)\n",
    "        clb1.ax.set_title('$B_z$ [nT]',fontsize=12)\n",
    "        ax[1].set_aspect(1) # you may also use am.imshow(..., aspect=\"auto\") to restore the aspect ratio\n",
    "        ax[1].set_xlabel(\"X [$R_M$]\")\n",
    "        ax[1].set_ylabel(\"Y [$R_M$]\")\n",
    "        ax[1].add_patch(outer)\n",
    "        ax[1].add_patch(inner)\n",
    "        ax[1].set_xlim(xlims)\n",
    "        ax[1].set_ylim(ylims)\n",
    "        ax[1].set_title(str(\"$B_z$ at t=\"+str(round(time,2))+\"s\"))\n",
    "\n",
    "    elif plot_preset == \"particles_uxuy\":\n",
    "        # broken for many reasons, and the particle data is featureless anyway.\n",
    "        sp = ds.sphere(loc,a)\n",
    "        plot = ds.plot_phase_region(sp, 'p_ux', 'p_uz', z_field,\n",
    "                            unit_type=\"planet\", x_bins=64, y_bins=64,domain_size=(-2550, 2550, -2550, 2550))\n",
    "        #plot.set_colorbar_label(plot.fields[0], \"Ion count\")\n",
    "        for var_name in plot.profile.field_data: \n",
    "            val = plot.profile.field_data[var_name] \n",
    "    \n",
    "        x = plot.profile.x\n",
    "        y = plot.profile.y\n",
    "\n",
    "        fig, ax = plt.subplots(figsize=(10,10))\n",
    "        im = ax.contourf(x,y,val,20,vmin = 0,vmax=700)\n",
    "        im.set_clim(0,700)\n",
    "        clb=fig.colorbar(im)\n",
    "\n",
    "    elif plot_preset == \"pic_currentsheet2\":\n",
    "        fig, ax = plt.subplots(figsize=(10,10))\n",
    "        inner = plt.Circle((0, 0), 0.8, color='black')\n",
    "        outer = plt.Circle((0, 0), 1, color='grey')\n",
    "        print(\"Plotting t\",time)\n",
    "        Bz = dc.evaluate_expression(\"Bz\")\n",
    "        vmin = -100\n",
    "        vmax = 100\n",
    "        nlevels = 200 \n",
    "        levels = np.linspace(vmin, vmax, nlevels)\n",
    "        cs = ax.contourf(dc.x.value, dc.y.value, np.array(Bz.T), levels=levels, cmap='bwr')\n",
    "\n",
    "        # Add minor ticks for grid\n",
    "        x_major_ticks = np.arange(xlims[0], xlims[1], 0.2)\n",
    "        x_minor_ticks = np.arange(xlims[0], xlims[1], 0.05)\n",
    "        y_major_ticks = np.arange(ylims[0], ylims[1], 0.2)\n",
    "        y_minor_ticks = np.arange(ylims[0], ylims[1], 0.05)\n",
    "\n",
    "        ax.set_xticks(x_major_ticks)\n",
    "        ax.set_xticks(x_minor_ticks, minor=True)\n",
    "        ax.set_yticks(y_major_ticks)\n",
    "        ax.set_yticks(y_minor_ticks, minor=True)\n",
    "\n",
    "        ax.grid(which='both')\n",
    "        ax.grid(which='minor', alpha=0.2)\n",
    "        ax.grid(which='major', alpha=0.5)\n",
    "        \n",
    "        ticks = get_ticks(vmin, vmax)\n",
    "        clb = fig.colorbar(cs, ax=ax,ticks=ticks)            \n",
    "        clb.ax.set_yticks(ticks)    \n",
    "        clb.ax.tick_params(labelsize=8)\n",
    "        clb.ax.set_title('$B_z$ [nT]',fontsize=12)\n",
    "        ax.set_aspect(1) # you may also use am.imshow(..., aspect=\"auto\") to restore the aspect ratio\n",
    "        ax.set_xlabel(\"X [$R_M$]\")\n",
    "        ax.set_ylabel(\"Y [$R_M$]\")\n",
    "        ax.add_patch(outer)\n",
    "        ax.add_patch(inner)\n",
    "        ax.set_xlim(xlims)\n",
    "        ax.set_ylim(ylims)\n",
    "        ax.set_title(str(\"$B_z$ at t=\"+str(round(time,2))+\"s\"))\n",
    "        fig.show()\n",
    "\n",
    "    elif plot_preset == \"bz1\":\n",
    "        fig, ax = plt.subplots(figsize=(10,10))\n",
    "        inner = plt.Circle((0, 0), 0.8, color='black')\n",
    "        outer = plt.Circle((0, 0), 1, color='grey')\n",
    "        print(\"Plotting t\",time)\n",
    "\n",
    "        # Extract Bz and remove units\n",
    "        Bz_temp = dc.evaluate_expression(\"Bz\")\n",
    "        Bz = np.zeros(Bz_temp.shape)\n",
    "        Bz[:,:] = Bz_temp[:,:]\n",
    "\n",
    "        # Define meshgrids\n",
    "        xx,yy = np.meshgrid(dc.x.value, dc.y.value)\n",
    "\n",
    "        #Compute Bz1 \n",
    "        #First compute dipole field strength, from https://ccmc.gsfc.nasa.gov/static/files/Dipole.pdf\n",
    "        Bz_dip = - 200.9 * (3*z_plane**2 - (xx**2+yy**2+z_plane**2))/((xx**2+yy**2+z_plane**2)**(5/2))\n",
    "        # Then subtract this from modeled bz\n",
    "        Bz1 = Bz.T - Bz_dip\n",
    "        \n",
    "        vmin = -100#-100\n",
    "        vmax = 0\n",
    "        nlevels = 200 \n",
    "        levels = np.linspace(vmin, vmax, nlevels)\n",
    "        \n",
    "        cs = ax.contourf(dc.x.value, dc.y.value, np.array(Bz1), cmap = 'viridis',levels=levels) #,cmap='bwr')\n",
    "\n",
    "        # Add minor ticks for grid\n",
    "        x_major_ticks = np.arange(xlims[0], xlims[1], 0.2)\n",
    "        x_minor_ticks = np.arange(xlims[0], xlims[1], 0.05)\n",
    "        y_major_ticks = np.arange(ylims[0], ylims[1], 0.2)\n",
    "        y_minor_ticks = np.arange(ylims[0], ylims[1], 0.05)\n",
    "\n",
    "        ax.set_xticks(x_major_ticks)\n",
    "        ax.set_xticks(x_minor_ticks, minor=True)\n",
    "        ax.set_yticks(y_major_ticks)\n",
    "        ax.set_yticks(y_minor_ticks, minor=True)\n",
    "\n",
    "        ax.grid(which='both')\n",
    "        ax.grid(which='minor', alpha=0.2)\n",
    "        ax.grid(which='major', alpha=0.5)\n",
    "        \n",
    "        ticks = get_ticks(vmin, vmax)\n",
    "        clb = fig.colorbar(cs, ax=ax,ticks=ticks)            \n",
    "        clb.ax.set_yticks(ticks)    \n",
    "        clb.ax.tick_params(labelsize=8)\n",
    "        clb.ax.set_title('$B_z$ [nT]',fontsize=12)\n",
    "        ax.set_aspect(1) # you may also use am.imshow(..., aspect=\"auto\") to restore the aspect ratio\n",
    "        ax.set_xlabel(\"X [$R_M$]\")\n",
    "        ax.set_ylabel(\"Y [$R_M$]\")\n",
    "        ax.add_patch(outer)\n",
    "        ax.add_patch(inner)\n",
    "        ax.set_xlim(xlims)\n",
    "        ax.set_ylim(ylims)\n",
    "        ax.set_title(str(\"$B_z$ at t=\"+str(round(time,2))+\"s\"+\"   z = \"+str(z_plane)))\n",
    "        fig.show()\n",
    "\n",
    "    elif plot_preset == \"pressure_anisotropy\":\n",
    "        fig, ax = plt.subplots(figsize=(10,10))\n",
    "        inner = plt.Circle((0, 0), 0.8, color='black')\n",
    "        outer = plt.Circle((0, 0), 1, color='grey')\n",
    "        print(\"Plotting t\",time)\n",
    "\n",
    "        # Extract pressure terms and remove units\n",
    "        pxxS1_temp = dc.evaluate_expression(\"pxxS1\")\n",
    "        pxyS1_temp = dc.evaluate_expression(\"pxyS1\")\n",
    "        pxzS1_temp = dc.evaluate_expression(\"pxzS1\")\n",
    "        pyyS1_temp = dc.evaluate_expression(\"pyyS1\")\n",
    "        pyzS1_temp = dc.evaluate_expression(\"pyzS1\")\n",
    "        pzzS1_temp = dc.evaluate_expression(\"pzzS1\")\n",
    "        pxxS1 = np.zeros(pxxS1_temp.T.shape)\n",
    "        pxyS1 = np.zeros(pxyS1_temp.T.shape)\n",
    "        pxzS1 = np.zeros(pxzS1_temp.T.shape)\n",
    "        pyyS1 = np.zeros(pyyS1_temp.T.shape)\n",
    "        pyzS1 = np.zeros(pyzS1_temp.T.shape)\n",
    "        pzzS1 = np.zeros(pzzS1_temp.T.shape)\n",
    "        pxxS1[:,:] = pxxS1_temp[:,:].T\n",
    "        pxyS1[:,:] = pxyS1_temp[:,:].T\n",
    "        pxzS1[:,:] = pxyS1_temp[:,:].T\n",
    "        pyyS1[:,:] = pyyS1_temp[:,:].T\n",
    "        pyzS1[:,:] = pyzS1_temp[:,:].T\n",
    "        pzzS1[:,:] = pzzS1_temp[:,:].T\n",
    "\n",
    "        # Extract magnetic terms and remove units\n",
    "        Bx_temp = dc.evaluate_expression(\"Bx\")\n",
    "        By_temp = dc.evaluate_expression(\"By\")\n",
    "        Bz_temp = dc.evaluate_expression(\"Bz\")\n",
    "        Bx = np.zeros(Bx_temp.T.shape)\n",
    "        By = np.zeros(By_temp.T.shape)\n",
    "        Bz = np.zeros(Bz_temp.T.shape)\n",
    "        Bx[:,:] = Bx_temp[:,:].T\n",
    "        By[:,:] = By_temp[:,:].T\n",
    "        Bz[:,:] = Bz_temp[:,:].T\n",
    "\n",
    "        # Define meshgrids\n",
    "        xx,yy = np.meshgrid(dc.x.value, dc.y.value)\n",
    "\n",
    "        # Compute magnetic unit vector\n",
    "        B_mag = np.sqrt(Bx**2+By**2+Bz**2)\n",
    "        bx,by,bz = 1/B_mag * [Bx,By,Bz]\n",
    "\n",
    "        # Compute coordinate transformation matrix, A\n",
    "        # The three columns of this matrix correspond to the first perpendicular component, the second, and the parallel component, respectively\n",
    "        Axx = np.sqrt(1-bx**2)\n",
    "        Axy = 0\n",
    "        Axz = bx\n",
    "        Ayx = -bx*by/np.sqrt(1-bx**2)\n",
    "        Ayy = bz/np.sqrt(bz**2+by**2)\n",
    "        Ayz = by\n",
    "        Azx = -bx*bz/np.sqrt(1-bx**2)\n",
    "        Azy = -by/np.sqrt(bz**2+by**2)\n",
    "        Azz = bz\n",
    "\n",
    "        # Transfrom the pressure tensor from pS1 (in cartesian) to P (in perp / perp / parallel coords): P = A x pS1\n",
    "        # Note that pS1 is symmetric, so e.g. pxyS1 = pyxS1\n",
    "        Pxx = Axx*pxxS1 + Axy*pxyS1 + Axz*pxzS1\n",
    "        Pxy = Axx*pxyS1 + Axy*pyyS1 + Axz*pyzS1\n",
    "        Pxz = Axx*pxzS1 + Axy*pyzS1 + Axz*pzzS1\n",
    "        Pyx = Ayx*pxxS1 + Ayy*pxyS1 + Ayz*pxzS1\n",
    "        Pyy = Ayx*pxyS1 + Ayy*pyyS1 + Ayz*pyzS1\n",
    "        Pyz = Ayx*pxzS1 + Ayy*pyzS1 + Ayz*pzzS1\n",
    "        Pzx = Azx*pxxS1 + Azy*pxyS1 + Azz*pxzS1\n",
    "        Pzy = Azx*pxyS1 + Azy*pyyS1 + Azz*pyzS1\n",
    "        Pzz = Azx*pxzS1 + Azy*pyzS1 + Azz*pzzS1\n",
    "\n",
    "        # For now, we are interested in the difference parallel (Pzz) and parallel (Pxx and Pyy)\n",
    "        P_anisotropy = Pzz - Pxx - Pyy / np.sqrt(Pzz**2+Pxx**2+Pyy**2)\n",
    "\n",
    "        # Plot\n",
    "        vmin = -5\n",
    "        vmax = 5\n",
    "        nlevels = 200 \n",
    "        levels = np.linspace(vmin, vmax, nlevels)\n",
    "        \n",
    "        cs = ax.contourf(dc.x.value, dc.y.value, np.array(P_anisotropy), levels=levels, cmap='bwr')\n",
    "\n",
    "        # Add minor ticks for grid\n",
    "        x_major_ticks = np.arange(xlims[0], xlims[1], 0.2)\n",
    "        x_minor_ticks = np.arange(xlims[0], xlims[1], 0.05)\n",
    "        y_major_ticks = np.arange(ylims[0], ylims[1], 0.2)\n",
    "        y_minor_ticks = np.arange(ylims[0], ylims[1], 0.05)\n",
    "\n",
    "        ax.set_xticks(x_major_ticks)\n",
    "        ax.set_xticks(x_minor_ticks, minor=True)\n",
    "        ax.set_yticks(y_major_ticks)\n",
    "        ax.set_yticks(y_minor_ticks, minor=True)\n",
    "\n",
    "        ax.grid(which='both')\n",
    "        ax.grid(which='minor', alpha=0.2)\n",
    "        ax.grid(which='major', alpha=0.5)\n",
    "        \n",
    "        ticks = get_ticks(vmin, vmax)\n",
    "        clb = fig.colorbar(cs, ax=ax,ticks=ticks)            \n",
    "        clb.ax.set_yticks(ticks)    \n",
    "        clb.ax.tick_params(labelsize=8)\n",
    "        clb.ax.set_title('Normalized diff',fontsize=12)\n",
    "        ax.set_aspect(1) # you may also use am.imshow(..., aspect=\"auto\") to restore the aspect ratio\n",
    "        ax.set_xlabel(\"X [$R_M$]\")\n",
    "        ax.set_ylabel(\"Y [$R_M$]\")\n",
    "        ax.add_patch(outer)\n",
    "        ax.add_patch(inner)\n",
    "        ax.set_xlim(xlims)\n",
    "        ax.set_ylim(ylims)\n",
    "        ax.set_title(str(\"Perpendicular - parallel at t=\"+str(round(time,2))+\"s\"+\"   z = \"+str(z_plane)))\n",
    "        fig.show()\n",
    "        \n",
    "    # Save\n",
    "    plt.savefig(str(\"/Users/atcushen/Documents/MercuryModelling/runs/nightside_v1_run3/ta-5_plots/\"+plot_preset+\"_\"+str(round(time,2))+'.png'),bbox_inches='tight')\n",
    "    plt.close(fig)"
   ]
  },
  {
   "cell_type": "markdown",
   "id": "36e72a5b-24c2-431f-ae0c-7379423903c5",
   "metadata": {},
   "source": [
    "# Particle data plotting\n"
   ]
  },
  {
   "cell_type": "code",
   "execution_count": 3,
   "id": "69dfaa84-15f2-4c71-b1fb-5d125cc90d59",
   "metadata": {},
   "outputs": [
    {
     "name": "stderr",
     "output_type": "stream",
     "text": [
      "yt : [INFO     ] 2024-07-22 16:08:46,845 Parameters: current_time              = 55.000645822431196\n",
      "yt : [INFO     ] 2024-07-22 16:08:46,846 Parameters: domain_dimensions         = [320 256 256]\n",
      "yt : [INFO     ] 2024-07-22 16:08:46,847 Parameters: domain_left_edge          = [-4. -2. -2.]\n",
      "yt : [INFO     ] 2024-07-22 16:08:46,847 Parameters: domain_right_edge         = [1. 2. 2.]\n",
      "yt : [INFO     ] 2024-07-22 16:08:46,868 Parameters: current_time              = 55.000645822431196\n",
      "yt : [INFO     ] 2024-07-22 16:08:46,868 Parameters: domain_dimensions         = [320 256 256]\n",
      "yt : [INFO     ] 2024-07-22 16:08:46,869 Parameters: domain_left_edge          = [-4. -2. -2.]\n",
      "yt : [INFO     ] 2024-07-22 16:08:46,870 Parameters: domain_right_edge         = [1. 2. 2.]\n"
     ]
    },
    {
     "name": "stdout",
     "output_type": "stream",
     "text": [
      "Plotting all files in dir\n",
      "Plotting t = 55.0\n"
     ]
    },
    {
     "name": "stderr",
     "output_type": "stream",
     "text": [
      "yt : [WARNING  ] 2024-07-22 16:08:48,519 Field ('particle', 'unit_one') was added without specifying units or dimensions, auto setting units to \n",
      "yt : [INFO     ] 2024-07-22 16:08:48,621 Parameters: current_time              = 55.000645822431196\n",
      "yt : [INFO     ] 2024-07-22 16:08:48,622 Parameters: domain_dimensions         = [320 256 256]\n",
      "yt : [INFO     ] 2024-07-22 16:08:48,623 Parameters: domain_left_edge          = [-4. -2. -2.]\n",
      "yt : [INFO     ] 2024-07-22 16:08:48,630 Parameters: domain_right_edge         = [1. 2. 2.]\n",
      "yt : [INFO     ] 2024-07-22 16:08:48,688 Parameters: current_time              = 55.000645822431196\n",
      "yt : [INFO     ] 2024-07-22 16:08:48,691 Parameters: domain_dimensions         = [320 256 256]\n",
      "yt : [INFO     ] 2024-07-22 16:08:48,693 Parameters: domain_left_edge          = [-4. -2. -2.]\n",
      "yt : [INFO     ] 2024-07-22 16:08:48,695 Parameters: domain_right_edge         = [1. 2. 2.]\n",
      "yt : [INFO     ] 2024-07-22 16:08:49,491 Parameters: current_time              = 55.20049731286974\n",
      "yt : [INFO     ] 2024-07-22 16:08:49,492 Parameters: domain_dimensions         = [320 256 256]\n",
      "yt : [INFO     ] 2024-07-22 16:08:49,492 Parameters: domain_left_edge          = [-4. -2. -2.]\n",
      "yt : [INFO     ] 2024-07-22 16:08:49,493 Parameters: domain_right_edge         = [1. 2. 2.]\n",
      "yt : [INFO     ] 2024-07-22 16:08:49,512 Parameters: current_time              = 55.20049731286974\n",
      "yt : [INFO     ] 2024-07-22 16:08:49,512 Parameters: domain_dimensions         = [320 256 256]\n",
      "yt : [INFO     ] 2024-07-22 16:08:49,513 Parameters: domain_left_edge          = [-4. -2. -2.]\n",
      "yt : [INFO     ] 2024-07-22 16:08:49,514 Parameters: domain_right_edge         = [1. 2. 2.]\n"
     ]
    },
    {
     "name": "stdout",
     "output_type": "stream",
     "text": [
      "Plotting t = 55.2\n"
     ]
    },
    {
     "name": "stderr",
     "output_type": "stream",
     "text": [
      "yt : [WARNING  ] 2024-07-22 16:08:51,147 Field ('particle', 'unit_one') was added without specifying units or dimensions, auto setting units to \n",
      "yt : [INFO     ] 2024-07-22 16:08:51,283 Parameters: current_time              = 55.20049731286974\n",
      "yt : [INFO     ] 2024-07-22 16:08:51,284 Parameters: domain_dimensions         = [320 256 256]\n",
      "yt : [INFO     ] 2024-07-22 16:08:51,284 Parameters: domain_left_edge          = [-4. -2. -2.]\n",
      "yt : [INFO     ] 2024-07-22 16:08:51,285 Parameters: domain_right_edge         = [1. 2. 2.]\n",
      "yt : [INFO     ] 2024-07-22 16:08:51,303 Parameters: current_time              = 55.20049731286974\n",
      "yt : [INFO     ] 2024-07-22 16:08:51,304 Parameters: domain_dimensions         = [320 256 256]\n",
      "yt : [INFO     ] 2024-07-22 16:08:51,305 Parameters: domain_left_edge          = [-4. -2. -2.]\n",
      "yt : [INFO     ] 2024-07-22 16:08:51,306 Parameters: domain_right_edge         = [1. 2. 2.]\n",
      "yt : [INFO     ] 2024-07-22 16:08:52,023 Parameters: current_time              = 55.40075914152486\n",
      "yt : [INFO     ] 2024-07-22 16:08:52,024 Parameters: domain_dimensions         = [320 256 256]\n",
      "yt : [INFO     ] 2024-07-22 16:08:52,024 Parameters: domain_left_edge          = [-4. -2. -2.]\n",
      "yt : [INFO     ] 2024-07-22 16:08:52,025 Parameters: domain_right_edge         = [1. 2. 2.]\n",
      "yt : [INFO     ] 2024-07-22 16:08:52,044 Parameters: current_time              = 55.40075914152486\n",
      "yt : [INFO     ] 2024-07-22 16:08:52,045 Parameters: domain_dimensions         = [320 256 256]\n",
      "yt : [INFO     ] 2024-07-22 16:08:52,045 Parameters: domain_left_edge          = [-4. -2. -2.]\n",
      "yt : [INFO     ] 2024-07-22 16:08:52,046 Parameters: domain_right_edge         = [1. 2. 2.]\n"
     ]
    },
    {
     "name": "stdout",
     "output_type": "stream",
     "text": [
      "Plotting t = 55.4\n"
     ]
    },
    {
     "name": "stderr",
     "output_type": "stream",
     "text": [
      "yt : [WARNING  ] 2024-07-22 16:08:53,723 Field ('particle', 'unit_one') was added without specifying units or dimensions, auto setting units to \n",
      "yt : [INFO     ] 2024-07-22 16:08:53,798 Parameters: current_time              = 55.40075914152486\n",
      "yt : [INFO     ] 2024-07-22 16:08:53,799 Parameters: domain_dimensions         = [320 256 256]\n",
      "yt : [INFO     ] 2024-07-22 16:08:53,800 Parameters: domain_left_edge          = [-4. -2. -2.]\n",
      "yt : [INFO     ] 2024-07-22 16:08:53,800 Parameters: domain_right_edge         = [1. 2. 2.]\n",
      "yt : [INFO     ] 2024-07-22 16:08:53,819 Parameters: current_time              = 55.40075914152486\n",
      "yt : [INFO     ] 2024-07-22 16:08:53,820 Parameters: domain_dimensions         = [320 256 256]\n",
      "yt : [INFO     ] 2024-07-22 16:08:53,821 Parameters: domain_left_edge          = [-4. -2. -2.]\n",
      "yt : [INFO     ] 2024-07-22 16:08:53,821 Parameters: domain_right_edge         = [1. 2. 2.]\n",
      "yt : [INFO     ] 2024-07-22 16:08:54,555 Parameters: current_time              = 55.6005254206362\n",
      "yt : [INFO     ] 2024-07-22 16:08:54,556 Parameters: domain_dimensions         = [320 256 256]\n",
      "yt : [INFO     ] 2024-07-22 16:08:54,556 Parameters: domain_left_edge          = [-4. -2. -2.]\n",
      "yt : [INFO     ] 2024-07-22 16:08:54,557 Parameters: domain_right_edge         = [1. 2. 2.]\n",
      "yt : [INFO     ] 2024-07-22 16:08:54,576 Parameters: current_time              = 55.6005254206362\n",
      "yt : [INFO     ] 2024-07-22 16:08:54,577 Parameters: domain_dimensions         = [320 256 256]\n",
      "yt : [INFO     ] 2024-07-22 16:08:54,578 Parameters: domain_left_edge          = [-4. -2. -2.]\n",
      "yt : [INFO     ] 2024-07-22 16:08:54,579 Parameters: domain_right_edge         = [1. 2. 2.]\n"
     ]
    },
    {
     "name": "stdout",
     "output_type": "stream",
     "text": [
      "Plotting t = 55.6\n"
     ]
    },
    {
     "name": "stderr",
     "output_type": "stream",
     "text": [
      "yt : [WARNING  ] 2024-07-22 16:08:56,295 Field ('particle', 'unit_one') was added without specifying units or dimensions, auto setting units to \n",
      "yt : [INFO     ] 2024-07-22 16:08:56,365 Parameters: current_time              = 55.6005254206362\n",
      "yt : [INFO     ] 2024-07-22 16:08:56,366 Parameters: domain_dimensions         = [320 256 256]\n",
      "yt : [INFO     ] 2024-07-22 16:08:56,366 Parameters: domain_left_edge          = [-4. -2. -2.]\n",
      "yt : [INFO     ] 2024-07-22 16:08:56,367 Parameters: domain_right_edge         = [1. 2. 2.]\n",
      "yt : [INFO     ] 2024-07-22 16:08:56,385 Parameters: current_time              = 55.6005254206362\n",
      "yt : [INFO     ] 2024-07-22 16:08:56,386 Parameters: domain_dimensions         = [320 256 256]\n",
      "yt : [INFO     ] 2024-07-22 16:08:56,386 Parameters: domain_left_edge          = [-4. -2. -2.]\n",
      "yt : [INFO     ] 2024-07-22 16:08:56,387 Parameters: domain_right_edge         = [1. 2. 2.]\n",
      "yt : [INFO     ] 2024-07-22 16:08:57,118 Parameters: current_time              = 55.80038773204014\n",
      "yt : [INFO     ] 2024-07-22 16:08:57,119 Parameters: domain_dimensions         = [320 256 256]\n",
      "yt : [INFO     ] 2024-07-22 16:08:57,119 Parameters: domain_left_edge          = [-4. -2. -2.]\n",
      "yt : [INFO     ] 2024-07-22 16:08:57,120 Parameters: domain_right_edge         = [1. 2. 2.]\n",
      "yt : [INFO     ] 2024-07-22 16:08:57,139 Parameters: current_time              = 55.80038773204014\n",
      "yt : [INFO     ] 2024-07-22 16:08:57,140 Parameters: domain_dimensions         = [320 256 256]\n",
      "yt : [INFO     ] 2024-07-22 16:08:57,140 Parameters: domain_left_edge          = [-4. -2. -2.]\n",
      "yt : [INFO     ] 2024-07-22 16:08:57,141 Parameters: domain_right_edge         = [1. 2. 2.]\n"
     ]
    },
    {
     "name": "stdout",
     "output_type": "stream",
     "text": [
      "Plotting t = 55.8\n"
     ]
    },
    {
     "name": "stderr",
     "output_type": "stream",
     "text": [
      "yt : [WARNING  ] 2024-07-22 16:08:58,810 Field ('particle', 'unit_one') was added without specifying units or dimensions, auto setting units to \n",
      "yt : [INFO     ] 2024-07-22 16:08:58,877 Parameters: current_time              = 55.80038773204014\n",
      "yt : [INFO     ] 2024-07-22 16:08:58,878 Parameters: domain_dimensions         = [320 256 256]\n",
      "yt : [INFO     ] 2024-07-22 16:08:58,879 Parameters: domain_left_edge          = [-4. -2. -2.]\n",
      "yt : [INFO     ] 2024-07-22 16:08:58,879 Parameters: domain_right_edge         = [1. 2. 2.]\n",
      "yt : [INFO     ] 2024-07-22 16:08:58,898 Parameters: current_time              = 55.80038773204014\n",
      "yt : [INFO     ] 2024-07-22 16:08:58,899 Parameters: domain_dimensions         = [320 256 256]\n",
      "yt : [INFO     ] 2024-07-22 16:08:58,899 Parameters: domain_left_edge          = [-4. -2. -2.]\n",
      "yt : [INFO     ] 2024-07-22 16:08:58,900 Parameters: domain_right_edge         = [1. 2. 2.]\n",
      "yt : [INFO     ] 2024-07-22 16:08:59,629 Parameters: current_time              = 56.001314694932425\n",
      "yt : [INFO     ] 2024-07-22 16:08:59,630 Parameters: domain_dimensions         = [320 256 256]\n",
      "yt : [INFO     ] 2024-07-22 16:08:59,631 Parameters: domain_left_edge          = [-4. -2. -2.]\n",
      "yt : [INFO     ] 2024-07-22 16:08:59,631 Parameters: domain_right_edge         = [1. 2. 2.]\n",
      "yt : [INFO     ] 2024-07-22 16:08:59,663 Parameters: current_time              = 56.001314694932425\n",
      "yt : [INFO     ] 2024-07-22 16:08:59,664 Parameters: domain_dimensions         = [320 256 256]\n",
      "yt : [INFO     ] 2024-07-22 16:08:59,665 Parameters: domain_left_edge          = [-4. -2. -2.]\n",
      "yt : [INFO     ] 2024-07-22 16:08:59,665 Parameters: domain_right_edge         = [1. 2. 2.]\n"
     ]
    },
    {
     "name": "stdout",
     "output_type": "stream",
     "text": [
      "Plotting t = 56.0\n"
     ]
    },
    {
     "name": "stderr",
     "output_type": "stream",
     "text": [
      "yt : [WARNING  ] 2024-07-22 16:09:01,360 Field ('particle', 'unit_one') was added without specifying units or dimensions, auto setting units to \n",
      "yt : [INFO     ] 2024-07-22 16:09:01,427 Parameters: current_time              = 56.001314694932425\n",
      "yt : [INFO     ] 2024-07-22 16:09:01,428 Parameters: domain_dimensions         = [320 256 256]\n",
      "yt : [INFO     ] 2024-07-22 16:09:01,429 Parameters: domain_left_edge          = [-4. -2. -2.]\n",
      "yt : [INFO     ] 2024-07-22 16:09:01,429 Parameters: domain_right_edge         = [1. 2. 2.]\n",
      "yt : [INFO     ] 2024-07-22 16:09:01,448 Parameters: current_time              = 56.001314694932425\n",
      "yt : [INFO     ] 2024-07-22 16:09:01,449 Parameters: domain_dimensions         = [320 256 256]\n",
      "yt : [INFO     ] 2024-07-22 16:09:01,449 Parameters: domain_left_edge          = [-4. -2. -2.]\n",
      "yt : [INFO     ] 2024-07-22 16:09:01,450 Parameters: domain_right_edge         = [1. 2. 2.]\n",
      "yt : [INFO     ] 2024-07-22 16:09:02,236 Parameters: current_time              = 56.200148754540784\n",
      "yt : [INFO     ] 2024-07-22 16:09:02,237 Parameters: domain_dimensions         = [320 256 256]\n",
      "yt : [INFO     ] 2024-07-22 16:09:02,238 Parameters: domain_left_edge          = [-4. -2. -2.]\n",
      "yt : [INFO     ] 2024-07-22 16:09:02,238 Parameters: domain_right_edge         = [1. 2. 2.]\n",
      "yt : [INFO     ] 2024-07-22 16:09:02,258 Parameters: current_time              = 56.200148754540784\n",
      "yt : [INFO     ] 2024-07-22 16:09:02,259 Parameters: domain_dimensions         = [320 256 256]\n",
      "yt : [INFO     ] 2024-07-22 16:09:02,259 Parameters: domain_left_edge          = [-4. -2. -2.]\n",
      "yt : [INFO     ] 2024-07-22 16:09:02,260 Parameters: domain_right_edge         = [1. 2. 2.]\n"
     ]
    },
    {
     "name": "stdout",
     "output_type": "stream",
     "text": [
      "Plotting t = 56.2\n"
     ]
    },
    {
     "name": "stderr",
     "output_type": "stream",
     "text": [
      "yt : [WARNING  ] 2024-07-22 16:09:03,977 Field ('particle', 'unit_one') was added without specifying units or dimensions, auto setting units to \n",
      "yt : [INFO     ] 2024-07-22 16:09:04,045 Parameters: current_time              = 56.200148754540784\n",
      "yt : [INFO     ] 2024-07-22 16:09:04,046 Parameters: domain_dimensions         = [320 256 256]\n",
      "yt : [INFO     ] 2024-07-22 16:09:04,047 Parameters: domain_left_edge          = [-4. -2. -2.]\n",
      "yt : [INFO     ] 2024-07-22 16:09:04,047 Parameters: domain_right_edge         = [1. 2. 2.]\n",
      "yt : [INFO     ] 2024-07-22 16:09:04,066 Parameters: current_time              = 56.200148754540784\n",
      "yt : [INFO     ] 2024-07-22 16:09:04,066 Parameters: domain_dimensions         = [320 256 256]\n",
      "yt : [INFO     ] 2024-07-22 16:09:04,067 Parameters: domain_left_edge          = [-4. -2. -2.]\n",
      "yt : [INFO     ] 2024-07-22 16:09:04,068 Parameters: domain_right_edge         = [1. 2. 2.]\n",
      "yt : [INFO     ] 2024-07-22 16:09:04,813 Parameters: current_time              = 56.4013617093976\n",
      "yt : [INFO     ] 2024-07-22 16:09:04,814 Parameters: domain_dimensions         = [320 256 256]\n",
      "yt : [INFO     ] 2024-07-22 16:09:04,815 Parameters: domain_left_edge          = [-4. -2. -2.]\n",
      "yt : [INFO     ] 2024-07-22 16:09:04,815 Parameters: domain_right_edge         = [1. 2. 2.]\n",
      "yt : [INFO     ] 2024-07-22 16:09:04,835 Parameters: current_time              = 56.4013617093976\n",
      "yt : [INFO     ] 2024-07-22 16:09:04,835 Parameters: domain_dimensions         = [320 256 256]\n",
      "yt : [INFO     ] 2024-07-22 16:09:04,836 Parameters: domain_left_edge          = [-4. -2. -2.]\n",
      "yt : [INFO     ] 2024-07-22 16:09:04,837 Parameters: domain_right_edge         = [1. 2. 2.]\n"
     ]
    },
    {
     "name": "stdout",
     "output_type": "stream",
     "text": [
      "Plotting t = 56.4\n"
     ]
    },
    {
     "name": "stderr",
     "output_type": "stream",
     "text": [
      "yt : [WARNING  ] 2024-07-22 16:09:06,753 Field ('particle', 'unit_one') was added without specifying units or dimensions, auto setting units to \n",
      "yt : [INFO     ] 2024-07-22 16:09:06,821 Parameters: current_time              = 56.4013617093976\n",
      "yt : [INFO     ] 2024-07-22 16:09:06,822 Parameters: domain_dimensions         = [320 256 256]\n",
      "yt : [INFO     ] 2024-07-22 16:09:06,823 Parameters: domain_left_edge          = [-4. -2. -2.]\n",
      "yt : [INFO     ] 2024-07-22 16:09:06,824 Parameters: domain_right_edge         = [1. 2. 2.]\n",
      "yt : [INFO     ] 2024-07-22 16:09:06,843 Parameters: current_time              = 56.4013617093976\n",
      "yt : [INFO     ] 2024-07-22 16:09:06,844 Parameters: domain_dimensions         = [320 256 256]\n",
      "yt : [INFO     ] 2024-07-22 16:09:06,845 Parameters: domain_left_edge          = [-4. -2. -2.]\n",
      "yt : [INFO     ] 2024-07-22 16:09:06,845 Parameters: domain_right_edge         = [1. 2. 2.]\n",
      "yt : [INFO     ] 2024-07-22 16:09:07,585 Parameters: current_time              = 56.6003487343121\n",
      "yt : [INFO     ] 2024-07-22 16:09:07,587 Parameters: domain_dimensions         = [320 256 256]\n",
      "yt : [INFO     ] 2024-07-22 16:09:07,588 Parameters: domain_left_edge          = [-4. -2. -2.]\n",
      "yt : [INFO     ] 2024-07-22 16:09:07,589 Parameters: domain_right_edge         = [1. 2. 2.]\n",
      "yt : [INFO     ] 2024-07-22 16:09:07,629 Parameters: current_time              = 56.6003487343121\n",
      "yt : [INFO     ] 2024-07-22 16:09:07,654 Parameters: domain_dimensions         = [320 256 256]\n",
      "yt : [INFO     ] 2024-07-22 16:09:07,656 Parameters: domain_left_edge          = [-4. -2. -2.]\n",
      "yt : [INFO     ] 2024-07-22 16:09:07,657 Parameters: domain_right_edge         = [1. 2. 2.]\n"
     ]
    },
    {
     "name": "stdout",
     "output_type": "stream",
     "text": [
      "Plotting t = 56.6\n"
     ]
    },
    {
     "name": "stderr",
     "output_type": "stream",
     "text": [
      "yt : [WARNING  ] 2024-07-22 16:09:09,384 Field ('particle', 'unit_one') was added without specifying units or dimensions, auto setting units to \n",
      "yt : [INFO     ] 2024-07-22 16:09:09,451 Parameters: current_time              = 56.6003487343121\n",
      "yt : [INFO     ] 2024-07-22 16:09:09,452 Parameters: domain_dimensions         = [320 256 256]\n",
      "yt : [INFO     ] 2024-07-22 16:09:09,453 Parameters: domain_left_edge          = [-4. -2. -2.]\n",
      "yt : [INFO     ] 2024-07-22 16:09:09,454 Parameters: domain_right_edge         = [1. 2. 2.]\n",
      "yt : [INFO     ] 2024-07-22 16:09:09,471 Parameters: current_time              = 56.6003487343121\n",
      "yt : [INFO     ] 2024-07-22 16:09:09,472 Parameters: domain_dimensions         = [320 256 256]\n",
      "yt : [INFO     ] 2024-07-22 16:09:09,473 Parameters: domain_left_edge          = [-4. -2. -2.]\n",
      "yt : [INFO     ] 2024-07-22 16:09:09,473 Parameters: domain_right_edge         = [1. 2. 2.]\n",
      "yt : [INFO     ] 2024-07-22 16:09:10,209 Parameters: current_time              = 56.801452746476514\n",
      "yt : [INFO     ] 2024-07-22 16:09:10,210 Parameters: domain_dimensions         = [320 256 256]\n",
      "yt : [INFO     ] 2024-07-22 16:09:10,210 Parameters: domain_left_edge          = [-4. -2. -2.]\n",
      "yt : [INFO     ] 2024-07-22 16:09:10,211 Parameters: domain_right_edge         = [1. 2. 2.]\n",
      "yt : [INFO     ] 2024-07-22 16:09:10,229 Parameters: current_time              = 56.801452746476514\n",
      "yt : [INFO     ] 2024-07-22 16:09:10,230 Parameters: domain_dimensions         = [320 256 256]\n",
      "yt : [INFO     ] 2024-07-22 16:09:10,230 Parameters: domain_left_edge          = [-4. -2. -2.]\n",
      "yt : [INFO     ] 2024-07-22 16:09:10,231 Parameters: domain_right_edge         = [1. 2. 2.]\n"
     ]
    },
    {
     "name": "stdout",
     "output_type": "stream",
     "text": [
      "Plotting t = 56.8\n"
     ]
    },
    {
     "name": "stderr",
     "output_type": "stream",
     "text": [
      "yt : [WARNING  ] 2024-07-22 16:09:11,934 Field ('particle', 'unit_one') was added without specifying units or dimensions, auto setting units to \n",
      "yt : [INFO     ] 2024-07-22 16:09:12,002 Parameters: current_time              = 56.801452746476514\n",
      "yt : [INFO     ] 2024-07-22 16:09:12,003 Parameters: domain_dimensions         = [320 256 256]\n",
      "yt : [INFO     ] 2024-07-22 16:09:12,004 Parameters: domain_left_edge          = [-4. -2. -2.]\n",
      "yt : [INFO     ] 2024-07-22 16:09:12,004 Parameters: domain_right_edge         = [1. 2. 2.]\n",
      "yt : [INFO     ] 2024-07-22 16:09:12,022 Parameters: current_time              = 56.801452746476514\n",
      "yt : [INFO     ] 2024-07-22 16:09:12,023 Parameters: domain_dimensions         = [320 256 256]\n",
      "yt : [INFO     ] 2024-07-22 16:09:12,024 Parameters: domain_left_edge          = [-4. -2. -2.]\n",
      "yt : [INFO     ] 2024-07-22 16:09:12,024 Parameters: domain_right_edge         = [1. 2. 2.]\n",
      "yt : [INFO     ] 2024-07-22 16:09:12,767 Parameters: current_time              = 57.00080135156915\n",
      "yt : [INFO     ] 2024-07-22 16:09:12,768 Parameters: domain_dimensions         = [320 256 256]\n",
      "yt : [INFO     ] 2024-07-22 16:09:12,768 Parameters: domain_left_edge          = [-4. -2. -2.]\n",
      "yt : [INFO     ] 2024-07-22 16:09:12,769 Parameters: domain_right_edge         = [1. 2. 2.]\n",
      "yt : [INFO     ] 2024-07-22 16:09:12,788 Parameters: current_time              = 57.00080135156915\n",
      "yt : [INFO     ] 2024-07-22 16:09:12,789 Parameters: domain_dimensions         = [320 256 256]\n",
      "yt : [INFO     ] 2024-07-22 16:09:12,789 Parameters: domain_left_edge          = [-4. -2. -2.]\n",
      "yt : [INFO     ] 2024-07-22 16:09:12,790 Parameters: domain_right_edge         = [1. 2. 2.]\n"
     ]
    },
    {
     "name": "stdout",
     "output_type": "stream",
     "text": [
      "Plotting t = 57.0\n"
     ]
    },
    {
     "name": "stderr",
     "output_type": "stream",
     "text": [
      "yt : [WARNING  ] 2024-07-22 16:09:14,517 Field ('particle', 'unit_one') was added without specifying units or dimensions, auto setting units to \n",
      "yt : [INFO     ] 2024-07-22 16:09:14,586 Parameters: current_time              = 57.00080135156915\n",
      "yt : [INFO     ] 2024-07-22 16:09:14,587 Parameters: domain_dimensions         = [320 256 256]\n",
      "yt : [INFO     ] 2024-07-22 16:09:14,588 Parameters: domain_left_edge          = [-4. -2. -2.]\n",
      "yt : [INFO     ] 2024-07-22 16:09:14,588 Parameters: domain_right_edge         = [1. 2. 2.]\n",
      "yt : [INFO     ] 2024-07-22 16:09:14,606 Parameters: current_time              = 57.00080135156915\n",
      "yt : [INFO     ] 2024-07-22 16:09:14,607 Parameters: domain_dimensions         = [320 256 256]\n",
      "yt : [INFO     ] 2024-07-22 16:09:14,608 Parameters: domain_left_edge          = [-4. -2. -2.]\n",
      "yt : [INFO     ] 2024-07-22 16:09:14,608 Parameters: domain_right_edge         = [1. 2. 2.]\n",
      "yt : [INFO     ] 2024-07-22 16:09:15,259 Parameters: current_time              = 57.200077505596454\n",
      "yt : [INFO     ] 2024-07-22 16:09:15,259 Parameters: domain_dimensions         = [320 256 256]\n",
      "yt : [INFO     ] 2024-07-22 16:09:15,260 Parameters: domain_left_edge          = [-4. -2. -2.]\n",
      "yt : [INFO     ] 2024-07-22 16:09:15,261 Parameters: domain_right_edge         = [1. 2. 2.]\n",
      "yt : [INFO     ] 2024-07-22 16:09:15,280 Parameters: current_time              = 57.200077505596454\n",
      "yt : [INFO     ] 2024-07-22 16:09:15,280 Parameters: domain_dimensions         = [320 256 256]\n",
      "yt : [INFO     ] 2024-07-22 16:09:15,281 Parameters: domain_left_edge          = [-4. -2. -2.]\n",
      "yt : [INFO     ] 2024-07-22 16:09:15,282 Parameters: domain_right_edge         = [1. 2. 2.]\n"
     ]
    },
    {
     "name": "stdout",
     "output_type": "stream",
     "text": [
      "Plotting t = 57.2\n"
     ]
    },
    {
     "name": "stderr",
     "output_type": "stream",
     "text": [
      "yt : [WARNING  ] 2024-07-22 16:09:17,210 Field ('particle', 'unit_one') was added without specifying units or dimensions, auto setting units to \n",
      "yt : [INFO     ] 2024-07-22 16:09:17,395 Parameters: current_time              = 57.200077505596454\n",
      "yt : [INFO     ] 2024-07-22 16:09:17,396 Parameters: domain_dimensions         = [320 256 256]\n",
      "yt : [INFO     ] 2024-07-22 16:09:17,397 Parameters: domain_left_edge          = [-4. -2. -2.]\n",
      "yt : [INFO     ] 2024-07-22 16:09:17,398 Parameters: domain_right_edge         = [1. 2. 2.]\n",
      "yt : [INFO     ] 2024-07-22 16:09:17,420 Parameters: current_time              = 57.200077505596454\n",
      "yt : [INFO     ] 2024-07-22 16:09:17,421 Parameters: domain_dimensions         = [320 256 256]\n",
      "yt : [INFO     ] 2024-07-22 16:09:17,422 Parameters: domain_left_edge          = [-4. -2. -2.]\n",
      "yt : [INFO     ] 2024-07-22 16:09:17,423 Parameters: domain_right_edge         = [1. 2. 2.]\n",
      "yt : [INFO     ] 2024-07-22 16:09:18,501 Parameters: current_time              = 57.40023967851937\n",
      "yt : [INFO     ] 2024-07-22 16:09:18,502 Parameters: domain_dimensions         = [320 256 256]\n",
      "yt : [INFO     ] 2024-07-22 16:09:18,503 Parameters: domain_left_edge          = [-4. -2. -2.]\n",
      "yt : [INFO     ] 2024-07-22 16:09:18,504 Parameters: domain_right_edge         = [1. 2. 2.]\n",
      "yt : [INFO     ] 2024-07-22 16:09:18,528 Parameters: current_time              = 57.40023967851937\n",
      "yt : [INFO     ] 2024-07-22 16:09:18,529 Parameters: domain_dimensions         = [320 256 256]\n",
      "yt : [INFO     ] 2024-07-22 16:09:18,530 Parameters: domain_left_edge          = [-4. -2. -2.]\n",
      "yt : [INFO     ] 2024-07-22 16:09:18,531 Parameters: domain_right_edge         = [1. 2. 2.]\n"
     ]
    },
    {
     "name": "stdout",
     "output_type": "stream",
     "text": [
      "Plotting t = 57.4\n"
     ]
    },
    {
     "name": "stderr",
     "output_type": "stream",
     "text": [
      "yt : [WARNING  ] 2024-07-22 16:09:20,317 Field ('particle', 'unit_one') was added without specifying units or dimensions, auto setting units to \n",
      "yt : [INFO     ] 2024-07-22 16:09:20,387 Parameters: current_time              = 57.40023967851937\n",
      "yt : [INFO     ] 2024-07-22 16:09:20,387 Parameters: domain_dimensions         = [320 256 256]\n",
      "yt : [INFO     ] 2024-07-22 16:09:20,388 Parameters: domain_left_edge          = [-4. -2. -2.]\n",
      "yt : [INFO     ] 2024-07-22 16:09:20,389 Parameters: domain_right_edge         = [1. 2. 2.]\n",
      "yt : [INFO     ] 2024-07-22 16:09:20,408 Parameters: current_time              = 57.40023967851937\n",
      "yt : [INFO     ] 2024-07-22 16:09:20,409 Parameters: domain_dimensions         = [320 256 256]\n",
      "yt : [INFO     ] 2024-07-22 16:09:20,410 Parameters: domain_left_edge          = [-4. -2. -2.]\n",
      "yt : [INFO     ] 2024-07-22 16:09:20,410 Parameters: domain_right_edge         = [1. 2. 2.]\n",
      "yt : [INFO     ] 2024-07-22 16:09:21,465 Parameters: current_time              = 57.6009433667169\n",
      "yt : [INFO     ] 2024-07-22 16:09:21,466 Parameters: domain_dimensions         = [320 256 256]\n",
      "yt : [INFO     ] 2024-07-22 16:09:21,467 Parameters: domain_left_edge          = [-4. -2. -2.]\n",
      "yt : [INFO     ] 2024-07-22 16:09:21,468 Parameters: domain_right_edge         = [1. 2. 2.]\n",
      "yt : [INFO     ] 2024-07-22 16:09:21,493 Parameters: current_time              = 57.6009433667169\n",
      "yt : [INFO     ] 2024-07-22 16:09:21,494 Parameters: domain_dimensions         = [320 256 256]\n",
      "yt : [INFO     ] 2024-07-22 16:09:21,495 Parameters: domain_left_edge          = [-4. -2. -2.]\n",
      "yt : [INFO     ] 2024-07-22 16:09:21,496 Parameters: domain_right_edge         = [1. 2. 2.]\n"
     ]
    },
    {
     "name": "stdout",
     "output_type": "stream",
     "text": [
      "Plotting t = 57.6\n"
     ]
    },
    {
     "name": "stderr",
     "output_type": "stream",
     "text": [
      "yt : [WARNING  ] 2024-07-22 16:09:23,546 Field ('particle', 'unit_one') was added without specifying units or dimensions, auto setting units to \n",
      "yt : [INFO     ] 2024-07-22 16:09:23,619 Parameters: current_time              = 57.6009433667169\n",
      "yt : [INFO     ] 2024-07-22 16:09:23,619 Parameters: domain_dimensions         = [320 256 256]\n",
      "yt : [INFO     ] 2024-07-22 16:09:23,620 Parameters: domain_left_edge          = [-4. -2. -2.]\n",
      "yt : [INFO     ] 2024-07-22 16:09:23,621 Parameters: domain_right_edge         = [1. 2. 2.]\n",
      "yt : [INFO     ] 2024-07-22 16:09:23,640 Parameters: current_time              = 57.6009433667169\n",
      "yt : [INFO     ] 2024-07-22 16:09:23,641 Parameters: domain_dimensions         = [320 256 256]\n",
      "yt : [INFO     ] 2024-07-22 16:09:23,641 Parameters: domain_left_edge          = [-4. -2. -2.]\n",
      "yt : [INFO     ] 2024-07-22 16:09:23,642 Parameters: domain_right_edge         = [1. 2. 2.]\n",
      "yt : [INFO     ] 2024-07-22 16:09:24,389 Parameters: current_time              = 57.80102295798354\n",
      "yt : [INFO     ] 2024-07-22 16:09:24,390 Parameters: domain_dimensions         = [320 256 256]\n",
      "yt : [INFO     ] 2024-07-22 16:09:24,391 Parameters: domain_left_edge          = [-4. -2. -2.]\n",
      "yt : [INFO     ] 2024-07-22 16:09:24,391 Parameters: domain_right_edge         = [1. 2. 2.]\n",
      "yt : [INFO     ] 2024-07-22 16:09:24,410 Parameters: current_time              = 57.80102295798354\n",
      "yt : [INFO     ] 2024-07-22 16:09:24,411 Parameters: domain_dimensions         = [320 256 256]\n",
      "yt : [INFO     ] 2024-07-22 16:09:24,411 Parameters: domain_left_edge          = [-4. -2. -2.]\n",
      "yt : [INFO     ] 2024-07-22 16:09:24,412 Parameters: domain_right_edge         = [1. 2. 2.]\n"
     ]
    },
    {
     "name": "stdout",
     "output_type": "stream",
     "text": [
      "Plotting t = 57.8\n"
     ]
    },
    {
     "name": "stderr",
     "output_type": "stream",
     "text": [
      "yt : [WARNING  ] 2024-07-22 16:09:26,119 Field ('particle', 'unit_one') was added without specifying units or dimensions, auto setting units to \n",
      "yt : [INFO     ] 2024-07-22 16:09:26,189 Parameters: current_time              = 57.80102295798354\n",
      "yt : [INFO     ] 2024-07-22 16:09:26,190 Parameters: domain_dimensions         = [320 256 256]\n",
      "yt : [INFO     ] 2024-07-22 16:09:26,190 Parameters: domain_left_edge          = [-4. -2. -2.]\n",
      "yt : [INFO     ] 2024-07-22 16:09:26,191 Parameters: domain_right_edge         = [1. 2. 2.]\n",
      "yt : [INFO     ] 2024-07-22 16:09:26,209 Parameters: current_time              = 57.80102295798354\n",
      "yt : [INFO     ] 2024-07-22 16:09:26,210 Parameters: domain_dimensions         = [320 256 256]\n",
      "yt : [INFO     ] 2024-07-22 16:09:26,211 Parameters: domain_left_edge          = [-4. -2. -2.]\n",
      "yt : [INFO     ] 2024-07-22 16:09:26,211 Parameters: domain_right_edge         = [1. 2. 2.]\n",
      "yt : [INFO     ] 2024-07-22 16:09:26,851 Parameters: current_time              = 58.00038802025825\n",
      "yt : [INFO     ] 2024-07-22 16:09:26,852 Parameters: domain_dimensions         = [320 256 256]\n",
      "yt : [INFO     ] 2024-07-22 16:09:26,852 Parameters: domain_left_edge          = [-4. -2. -2.]\n",
      "yt : [INFO     ] 2024-07-22 16:09:26,853 Parameters: domain_right_edge         = [1. 2. 2.]\n",
      "yt : [INFO     ] 2024-07-22 16:09:26,871 Parameters: current_time              = 58.00038802025825\n",
      "yt : [INFO     ] 2024-07-22 16:09:26,872 Parameters: domain_dimensions         = [320 256 256]\n",
      "yt : [INFO     ] 2024-07-22 16:09:26,873 Parameters: domain_left_edge          = [-4. -2. -2.]\n",
      "yt : [INFO     ] 2024-07-22 16:09:26,873 Parameters: domain_right_edge         = [1. 2. 2.]\n"
     ]
    },
    {
     "name": "stdout",
     "output_type": "stream",
     "text": [
      "Plotting t = 58.0\n"
     ]
    },
    {
     "name": "stderr",
     "output_type": "stream",
     "text": [
      "yt : [WARNING  ] 2024-07-22 16:09:28,621 Field ('particle', 'unit_one') was added without specifying units or dimensions, auto setting units to \n",
      "yt : [INFO     ] 2024-07-22 16:09:28,693 Parameters: current_time              = 58.00038802025825\n",
      "yt : [INFO     ] 2024-07-22 16:09:28,694 Parameters: domain_dimensions         = [320 256 256]\n",
      "yt : [INFO     ] 2024-07-22 16:09:28,695 Parameters: domain_left_edge          = [-4. -2. -2.]\n",
      "yt : [INFO     ] 2024-07-22 16:09:28,695 Parameters: domain_right_edge         = [1. 2. 2.]\n",
      "yt : [INFO     ] 2024-07-22 16:09:28,713 Parameters: current_time              = 58.00038802025825\n",
      "yt : [INFO     ] 2024-07-22 16:09:28,714 Parameters: domain_dimensions         = [320 256 256]\n",
      "yt : [INFO     ] 2024-07-22 16:09:28,715 Parameters: domain_left_edge          = [-4. -2. -2.]\n",
      "yt : [INFO     ] 2024-07-22 16:09:28,716 Parameters: domain_right_edge         = [1. 2. 2.]\n",
      "yt : [INFO     ] 2024-07-22 16:09:29,469 Parameters: current_time              = 58.20016470781803\n",
      "yt : [INFO     ] 2024-07-22 16:09:29,469 Parameters: domain_dimensions         = [320 256 256]\n",
      "yt : [INFO     ] 2024-07-22 16:09:29,470 Parameters: domain_left_edge          = [-4. -2. -2.]\n",
      "yt : [INFO     ] 2024-07-22 16:09:29,471 Parameters: domain_right_edge         = [1. 2. 2.]\n",
      "yt : [INFO     ] 2024-07-22 16:09:29,489 Parameters: current_time              = 58.20016470781803\n",
      "yt : [INFO     ] 2024-07-22 16:09:29,490 Parameters: domain_dimensions         = [320 256 256]\n",
      "yt : [INFO     ] 2024-07-22 16:09:29,491 Parameters: domain_left_edge          = [-4. -2. -2.]\n",
      "yt : [INFO     ] 2024-07-22 16:09:29,491 Parameters: domain_right_edge         = [1. 2. 2.]\n"
     ]
    },
    {
     "name": "stdout",
     "output_type": "stream",
     "text": [
      "Plotting t = 58.2\n"
     ]
    },
    {
     "name": "stderr",
     "output_type": "stream",
     "text": [
      "yt : [WARNING  ] 2024-07-22 16:09:31,186 Field ('particle', 'unit_one') was added without specifying units or dimensions, auto setting units to \n",
      "yt : [INFO     ] 2024-07-22 16:09:31,253 Parameters: current_time              = 58.20016470781803\n",
      "yt : [INFO     ] 2024-07-22 16:09:31,254 Parameters: domain_dimensions         = [320 256 256]\n",
      "yt : [INFO     ] 2024-07-22 16:09:31,254 Parameters: domain_left_edge          = [-4. -2. -2.]\n",
      "yt : [INFO     ] 2024-07-22 16:09:31,255 Parameters: domain_right_edge         = [1. 2. 2.]\n",
      "yt : [INFO     ] 2024-07-22 16:09:31,274 Parameters: current_time              = 58.20016470781803\n",
      "yt : [INFO     ] 2024-07-22 16:09:31,274 Parameters: domain_dimensions         = [320 256 256]\n",
      "yt : [INFO     ] 2024-07-22 16:09:31,275 Parameters: domain_left_edge          = [-4. -2. -2.]\n",
      "yt : [INFO     ] 2024-07-22 16:09:31,276 Parameters: domain_right_edge         = [1. 2. 2.]\n",
      "yt : [INFO     ] 2024-07-22 16:09:32,013 Parameters: current_time              = 58.400996408557425\n",
      "yt : [INFO     ] 2024-07-22 16:09:32,013 Parameters: domain_dimensions         = [320 256 256]\n",
      "yt : [INFO     ] 2024-07-22 16:09:32,014 Parameters: domain_left_edge          = [-4. -2. -2.]\n",
      "yt : [INFO     ] 2024-07-22 16:09:32,015 Parameters: domain_right_edge         = [1. 2. 2.]\n",
      "yt : [INFO     ] 2024-07-22 16:09:32,033 Parameters: current_time              = 58.400996408557425\n",
      "yt : [INFO     ] 2024-07-22 16:09:32,034 Parameters: domain_dimensions         = [320 256 256]\n",
      "yt : [INFO     ] 2024-07-22 16:09:32,034 Parameters: domain_left_edge          = [-4. -2. -2.]\n",
      "yt : [INFO     ] 2024-07-22 16:09:32,035 Parameters: domain_right_edge         = [1. 2. 2.]\n"
     ]
    },
    {
     "name": "stdout",
     "output_type": "stream",
     "text": [
      "Plotting t = 58.4\n"
     ]
    },
    {
     "name": "stderr",
     "output_type": "stream",
     "text": [
      "yt : [WARNING  ] 2024-07-22 16:09:33,719 Field ('particle', 'unit_one') was added without specifying units or dimensions, auto setting units to \n",
      "yt : [INFO     ] 2024-07-22 16:09:33,917 Parameters: current_time              = 58.400996408557425\n",
      "yt : [INFO     ] 2024-07-22 16:09:33,918 Parameters: domain_dimensions         = [320 256 256]\n",
      "yt : [INFO     ] 2024-07-22 16:09:33,918 Parameters: domain_left_edge          = [-4. -2. -2.]\n",
      "yt : [INFO     ] 2024-07-22 16:09:33,919 Parameters: domain_right_edge         = [1. 2. 2.]\n",
      "yt : [INFO     ] 2024-07-22 16:09:33,938 Parameters: current_time              = 58.400996408557425\n",
      "yt : [INFO     ] 2024-07-22 16:09:33,939 Parameters: domain_dimensions         = [320 256 256]\n",
      "yt : [INFO     ] 2024-07-22 16:09:33,939 Parameters: domain_left_edge          = [-4. -2. -2.]\n",
      "yt : [INFO     ] 2024-07-22 16:09:33,940 Parameters: domain_right_edge         = [1. 2. 2.]\n",
      "yt : [INFO     ] 2024-07-22 16:09:34,603 Parameters: current_time              = 58.60027408074766\n",
      "yt : [INFO     ] 2024-07-22 16:09:34,604 Parameters: domain_dimensions         = [320 256 256]\n",
      "yt : [INFO     ] 2024-07-22 16:09:34,605 Parameters: domain_left_edge          = [-4. -2. -2.]\n",
      "yt : [INFO     ] 2024-07-22 16:09:34,605 Parameters: domain_right_edge         = [1. 2. 2.]\n",
      "yt : [INFO     ] 2024-07-22 16:09:34,624 Parameters: current_time              = 58.60027408074766\n",
      "yt : [INFO     ] 2024-07-22 16:09:34,624 Parameters: domain_dimensions         = [320 256 256]\n",
      "yt : [INFO     ] 2024-07-22 16:09:34,625 Parameters: domain_left_edge          = [-4. -2. -2.]\n",
      "yt : [INFO     ] 2024-07-22 16:09:34,626 Parameters: domain_right_edge         = [1. 2. 2.]\n"
     ]
    },
    {
     "name": "stdout",
     "output_type": "stream",
     "text": [
      "Plotting t = 58.6\n"
     ]
    },
    {
     "name": "stderr",
     "output_type": "stream",
     "text": [
      "yt : [WARNING  ] 2024-07-22 16:09:36,341 Field ('particle', 'unit_one') was added without specifying units or dimensions, auto setting units to \n",
      "yt : [INFO     ] 2024-07-22 16:09:36,408 Parameters: current_time              = 58.60027408074766\n",
      "yt : [INFO     ] 2024-07-22 16:09:36,409 Parameters: domain_dimensions         = [320 256 256]\n",
      "yt : [INFO     ] 2024-07-22 16:09:36,409 Parameters: domain_left_edge          = [-4. -2. -2.]\n",
      "yt : [INFO     ] 2024-07-22 16:09:36,410 Parameters: domain_right_edge         = [1. 2. 2.]\n",
      "yt : [INFO     ] 2024-07-22 16:09:36,428 Parameters: current_time              = 58.60027408074766\n",
      "yt : [INFO     ] 2024-07-22 16:09:36,429 Parameters: domain_dimensions         = [320 256 256]\n",
      "yt : [INFO     ] 2024-07-22 16:09:36,430 Parameters: domain_left_edge          = [-4. -2. -2.]\n",
      "yt : [INFO     ] 2024-07-22 16:09:36,430 Parameters: domain_right_edge         = [1. 2. 2.]\n",
      "yt : [INFO     ] 2024-07-22 16:09:37,200 Parameters: current_time              = 58.800037261845226\n",
      "yt : [INFO     ] 2024-07-22 16:09:37,200 Parameters: domain_dimensions         = [320 256 256]\n",
      "yt : [INFO     ] 2024-07-22 16:09:37,201 Parameters: domain_left_edge          = [-4. -2. -2.]\n",
      "yt : [INFO     ] 2024-07-22 16:09:37,201 Parameters: domain_right_edge         = [1. 2. 2.]\n",
      "yt : [INFO     ] 2024-07-22 16:09:37,223 Parameters: current_time              = 58.800037261845226\n",
      "yt : [INFO     ] 2024-07-22 16:09:37,225 Parameters: domain_dimensions         = [320 256 256]\n",
      "yt : [INFO     ] 2024-07-22 16:09:37,225 Parameters: domain_left_edge          = [-4. -2. -2.]\n",
      "yt : [INFO     ] 2024-07-22 16:09:37,226 Parameters: domain_right_edge         = [1. 2. 2.]\n"
     ]
    },
    {
     "name": "stdout",
     "output_type": "stream",
     "text": [
      "Plotting t = 58.8\n"
     ]
    },
    {
     "name": "stderr",
     "output_type": "stream",
     "text": [
      "yt : [WARNING  ] 2024-07-22 16:09:38,949 Field ('particle', 'unit_one') was added without specifying units or dimensions, auto setting units to \n",
      "yt : [INFO     ] 2024-07-22 16:09:39,016 Parameters: current_time              = 58.800037261845226\n",
      "yt : [INFO     ] 2024-07-22 16:09:39,017 Parameters: domain_dimensions         = [320 256 256]\n",
      "yt : [INFO     ] 2024-07-22 16:09:39,018 Parameters: domain_left_edge          = [-4. -2. -2.]\n",
      "yt : [INFO     ] 2024-07-22 16:09:39,018 Parameters: domain_right_edge         = [1. 2. 2.]\n",
      "yt : [INFO     ] 2024-07-22 16:09:39,036 Parameters: current_time              = 58.800037261845226\n",
      "yt : [INFO     ] 2024-07-22 16:09:39,037 Parameters: domain_dimensions         = [320 256 256]\n",
      "yt : [INFO     ] 2024-07-22 16:09:39,038 Parameters: domain_left_edge          = [-4. -2. -2.]\n",
      "yt : [INFO     ] 2024-07-22 16:09:39,038 Parameters: domain_right_edge         = [1. 2. 2.]\n",
      "yt : [INFO     ] 2024-07-22 16:09:39,710 Parameters: current_time              = 59.00062211549139\n",
      "yt : [INFO     ] 2024-07-22 16:09:39,711 Parameters: domain_dimensions         = [320 256 256]\n",
      "yt : [INFO     ] 2024-07-22 16:09:39,711 Parameters: domain_left_edge          = [-4. -2. -2.]\n",
      "yt : [INFO     ] 2024-07-22 16:09:39,712 Parameters: domain_right_edge         = [1. 2. 2.]\n",
      "yt : [INFO     ] 2024-07-22 16:09:39,731 Parameters: current_time              = 59.00062211549139\n",
      "yt : [INFO     ] 2024-07-22 16:09:39,731 Parameters: domain_dimensions         = [320 256 256]\n",
      "yt : [INFO     ] 2024-07-22 16:09:39,732 Parameters: domain_left_edge          = [-4. -2. -2.]\n",
      "yt : [INFO     ] 2024-07-22 16:09:39,733 Parameters: domain_right_edge         = [1. 2. 2.]\n"
     ]
    },
    {
     "name": "stdout",
     "output_type": "stream",
     "text": [
      "Plotting t = 59.0\n"
     ]
    },
    {
     "name": "stderr",
     "output_type": "stream",
     "text": [
      "yt : [WARNING  ] 2024-07-22 16:09:41,551 Field ('particle', 'unit_one') was added without specifying units or dimensions, auto setting units to \n",
      "yt : [INFO     ] 2024-07-22 16:09:41,620 Parameters: current_time              = 59.00062211549139\n",
      "yt : [INFO     ] 2024-07-22 16:09:41,620 Parameters: domain_dimensions         = [320 256 256]\n",
      "yt : [INFO     ] 2024-07-22 16:09:41,621 Parameters: domain_left_edge          = [-4. -2. -2.]\n",
      "yt : [INFO     ] 2024-07-22 16:09:41,622 Parameters: domain_right_edge         = [1. 2. 2.]\n",
      "yt : [INFO     ] 2024-07-22 16:09:41,640 Parameters: current_time              = 59.00062211549139\n",
      "yt : [INFO     ] 2024-07-22 16:09:41,641 Parameters: domain_dimensions         = [320 256 256]\n",
      "yt : [INFO     ] 2024-07-22 16:09:41,641 Parameters: domain_left_edge          = [-4. -2. -2.]\n",
      "yt : [INFO     ] 2024-07-22 16:09:41,642 Parameters: domain_right_edge         = [1. 2. 2.]\n",
      "yt : [INFO     ] 2024-07-22 16:09:42,425 Parameters: current_time              = 59.20066091480502\n",
      "yt : [INFO     ] 2024-07-22 16:09:42,426 Parameters: domain_dimensions         = [320 256 256]\n",
      "yt : [INFO     ] 2024-07-22 16:09:42,426 Parameters: domain_left_edge          = [-4. -2. -2.]\n",
      "yt : [INFO     ] 2024-07-22 16:09:42,427 Parameters: domain_right_edge         = [1. 2. 2.]\n",
      "yt : [INFO     ] 2024-07-22 16:09:42,446 Parameters: current_time              = 59.20066091480502\n",
      "yt : [INFO     ] 2024-07-22 16:09:42,447 Parameters: domain_dimensions         = [320 256 256]\n",
      "yt : [INFO     ] 2024-07-22 16:09:42,448 Parameters: domain_left_edge          = [-4. -2. -2.]\n",
      "yt : [INFO     ] 2024-07-22 16:09:42,448 Parameters: domain_right_edge         = [1. 2. 2.]\n"
     ]
    },
    {
     "name": "stdout",
     "output_type": "stream",
     "text": [
      "Plotting t = 59.2\n"
     ]
    },
    {
     "name": "stderr",
     "output_type": "stream",
     "text": [
      "yt : [WARNING  ] 2024-07-22 16:09:44,106 Field ('particle', 'unit_one') was added without specifying units or dimensions, auto setting units to \n",
      "yt : [INFO     ] 2024-07-22 16:09:44,284 Parameters: current_time              = 59.20066091480502\n",
      "yt : [INFO     ] 2024-07-22 16:09:44,285 Parameters: domain_dimensions         = [320 256 256]\n",
      "yt : [INFO     ] 2024-07-22 16:09:44,286 Parameters: domain_left_edge          = [-4. -2. -2.]\n",
      "yt : [INFO     ] 2024-07-22 16:09:44,287 Parameters: domain_right_edge         = [1. 2. 2.]\n",
      "yt : [INFO     ] 2024-07-22 16:09:44,305 Parameters: current_time              = 59.20066091480502\n",
      "yt : [INFO     ] 2024-07-22 16:09:44,306 Parameters: domain_dimensions         = [320 256 256]\n",
      "yt : [INFO     ] 2024-07-22 16:09:44,306 Parameters: domain_left_edge          = [-4. -2. -2.]\n",
      "yt : [INFO     ] 2024-07-22 16:09:44,307 Parameters: domain_right_edge         = [1. 2. 2.]\n",
      "yt : [INFO     ] 2024-07-22 16:09:44,977 Parameters: current_time              = 59.40107235414388\n",
      "yt : [INFO     ] 2024-07-22 16:09:44,977 Parameters: domain_dimensions         = [320 256 256]\n",
      "yt : [INFO     ] 2024-07-22 16:09:44,978 Parameters: domain_left_edge          = [-4. -2. -2.]\n",
      "yt : [INFO     ] 2024-07-22 16:09:44,978 Parameters: domain_right_edge         = [1. 2. 2.]\n",
      "yt : [INFO     ] 2024-07-22 16:09:44,997 Parameters: current_time              = 59.40107235414388\n",
      "yt : [INFO     ] 2024-07-22 16:09:44,998 Parameters: domain_dimensions         = [320 256 256]\n",
      "yt : [INFO     ] 2024-07-22 16:09:44,998 Parameters: domain_left_edge          = [-4. -2. -2.]\n",
      "yt : [INFO     ] 2024-07-22 16:09:44,999 Parameters: domain_right_edge         = [1. 2. 2.]\n"
     ]
    },
    {
     "name": "stdout",
     "output_type": "stream",
     "text": [
      "Plotting t = 59.4\n"
     ]
    },
    {
     "name": "stderr",
     "output_type": "stream",
     "text": [
      "yt : [WARNING  ] 2024-07-22 16:09:46,727 Field ('particle', 'unit_one') was added without specifying units or dimensions, auto setting units to \n",
      "yt : [INFO     ] 2024-07-22 16:09:46,797 Parameters: current_time              = 59.40107235414388\n",
      "yt : [INFO     ] 2024-07-22 16:09:46,798 Parameters: domain_dimensions         = [320 256 256]\n",
      "yt : [INFO     ] 2024-07-22 16:09:46,798 Parameters: domain_left_edge          = [-4. -2. -2.]\n",
      "yt : [INFO     ] 2024-07-22 16:09:46,799 Parameters: domain_right_edge         = [1. 2. 2.]\n",
      "yt : [INFO     ] 2024-07-22 16:09:46,817 Parameters: current_time              = 59.40107235414388\n",
      "yt : [INFO     ] 2024-07-22 16:09:46,818 Parameters: domain_dimensions         = [320 256 256]\n",
      "yt : [INFO     ] 2024-07-22 16:09:46,819 Parameters: domain_left_edge          = [-4. -2. -2.]\n",
      "yt : [INFO     ] 2024-07-22 16:09:46,820 Parameters: domain_right_edge         = [1. 2. 2.]\n",
      "yt : [INFO     ] 2024-07-22 16:09:47,591 Parameters: current_time              = 59.601216647875255\n",
      "yt : [INFO     ] 2024-07-22 16:09:47,591 Parameters: domain_dimensions         = [320 256 256]\n",
      "yt : [INFO     ] 2024-07-22 16:09:47,592 Parameters: domain_left_edge          = [-4. -2. -2.]\n",
      "yt : [INFO     ] 2024-07-22 16:09:47,593 Parameters: domain_right_edge         = [1. 2. 2.]\n",
      "yt : [INFO     ] 2024-07-22 16:09:47,611 Parameters: current_time              = 59.601216647875255\n",
      "yt : [INFO     ] 2024-07-22 16:09:47,612 Parameters: domain_dimensions         = [320 256 256]\n",
      "yt : [INFO     ] 2024-07-22 16:09:47,613 Parameters: domain_left_edge          = [-4. -2. -2.]\n",
      "yt : [INFO     ] 2024-07-22 16:09:47,613 Parameters: domain_right_edge         = [1. 2. 2.]\n"
     ]
    },
    {
     "name": "stdout",
     "output_type": "stream",
     "text": [
      "Plotting t = 59.6\n"
     ]
    },
    {
     "name": "stderr",
     "output_type": "stream",
     "text": [
      "yt : [WARNING  ] 2024-07-22 16:09:49,233 Field ('particle', 'unit_one') was added without specifying units or dimensions, auto setting units to \n",
      "yt : [INFO     ] 2024-07-22 16:09:49,308 Parameters: current_time              = 59.601216647875255\n",
      "yt : [INFO     ] 2024-07-22 16:09:49,309 Parameters: domain_dimensions         = [320 256 256]\n",
      "yt : [INFO     ] 2024-07-22 16:09:49,309 Parameters: domain_left_edge          = [-4. -2. -2.]\n",
      "yt : [INFO     ] 2024-07-22 16:09:49,310 Parameters: domain_right_edge         = [1. 2. 2.]\n",
      "yt : [INFO     ] 2024-07-22 16:09:49,329 Parameters: current_time              = 59.601216647875255\n",
      "yt : [INFO     ] 2024-07-22 16:09:49,330 Parameters: domain_dimensions         = [320 256 256]\n",
      "yt : [INFO     ] 2024-07-22 16:09:49,330 Parameters: domain_left_edge          = [-4. -2. -2.]\n",
      "yt : [INFO     ] 2024-07-22 16:09:49,331 Parameters: domain_right_edge         = [1. 2. 2.]\n",
      "yt : [INFO     ] 2024-07-22 16:09:50,159 Parameters: current_time              = 59.801266385023055\n",
      "yt : [INFO     ] 2024-07-22 16:09:50,160 Parameters: domain_dimensions         = [320 256 256]\n",
      "yt : [INFO     ] 2024-07-22 16:09:50,160 Parameters: domain_left_edge          = [-4. -2. -2.]\n",
      "yt : [INFO     ] 2024-07-22 16:09:50,161 Parameters: domain_right_edge         = [1. 2. 2.]\n",
      "yt : [INFO     ] 2024-07-22 16:09:50,181 Parameters: current_time              = 59.801266385023055\n",
      "yt : [INFO     ] 2024-07-22 16:09:50,182 Parameters: domain_dimensions         = [320 256 256]\n",
      "yt : [INFO     ] 2024-07-22 16:09:50,183 Parameters: domain_left_edge          = [-4. -2. -2.]\n",
      "yt : [INFO     ] 2024-07-22 16:09:50,183 Parameters: domain_right_edge         = [1. 2. 2.]\n"
     ]
    },
    {
     "name": "stdout",
     "output_type": "stream",
     "text": [
      "Plotting t = 59.8\n"
     ]
    },
    {
     "name": "stderr",
     "output_type": "stream",
     "text": [
      "yt : [WARNING  ] 2024-07-22 16:09:51,988 Field ('particle', 'unit_one') was added without specifying units or dimensions, auto setting units to \n",
      "yt : [INFO     ] 2024-07-22 16:09:52,067 Parameters: current_time              = 59.801266385023055\n",
      "yt : [INFO     ] 2024-07-22 16:09:52,068 Parameters: domain_dimensions         = [320 256 256]\n",
      "yt : [INFO     ] 2024-07-22 16:09:52,069 Parameters: domain_left_edge          = [-4. -2. -2.]\n",
      "yt : [INFO     ] 2024-07-22 16:09:52,069 Parameters: domain_right_edge         = [1. 2. 2.]\n",
      "yt : [INFO     ] 2024-07-22 16:09:52,088 Parameters: current_time              = 59.801266385023055\n",
      "yt : [INFO     ] 2024-07-22 16:09:52,089 Parameters: domain_dimensions         = [320 256 256]\n",
      "yt : [INFO     ] 2024-07-22 16:09:52,090 Parameters: domain_left_edge          = [-4. -2. -2.]\n",
      "yt : [INFO     ] 2024-07-22 16:09:52,090 Parameters: domain_right_edge         = [1. 2. 2.]\n",
      "yt : [INFO     ] 2024-07-22 16:09:52,832 Parameters: current_time              = 60.001682658353616\n",
      "yt : [INFO     ] 2024-07-22 16:09:52,832 Parameters: domain_dimensions         = [320 256 256]\n",
      "yt : [INFO     ] 2024-07-22 16:09:52,833 Parameters: domain_left_edge          = [-4. -2. -2.]\n",
      "yt : [INFO     ] 2024-07-22 16:09:52,834 Parameters: domain_right_edge         = [1. 2. 2.]\n",
      "yt : [INFO     ] 2024-07-22 16:09:52,853 Parameters: current_time              = 60.001682658353616\n",
      "yt : [INFO     ] 2024-07-22 16:09:52,854 Parameters: domain_dimensions         = [320 256 256]\n",
      "yt : [INFO     ] 2024-07-22 16:09:52,855 Parameters: domain_left_edge          = [-4. -2. -2.]\n",
      "yt : [INFO     ] 2024-07-22 16:09:52,856 Parameters: domain_right_edge         = [1. 2. 2.]\n"
     ]
    },
    {
     "name": "stdout",
     "output_type": "stream",
     "text": [
      "Plotting t = 60.0\n"
     ]
    },
    {
     "name": "stderr",
     "output_type": "stream",
     "text": [
      "yt : [WARNING  ] 2024-07-22 16:09:54,660 Field ('particle', 'unit_one') was added without specifying units or dimensions, auto setting units to \n",
      "yt : [INFO     ] 2024-07-22 16:09:54,833 Parameters: current_time              = 60.001682658353616\n",
      "yt : [INFO     ] 2024-07-22 16:09:54,844 Parameters: domain_dimensions         = [320 256 256]\n",
      "yt : [INFO     ] 2024-07-22 16:09:54,849 Parameters: domain_left_edge          = [-4. -2. -2.]\n",
      "yt : [INFO     ] 2024-07-22 16:09:54,881 Parameters: domain_right_edge         = [1. 2. 2.]\n",
      "yt : [INFO     ] 2024-07-22 16:09:55,028 Parameters: current_time              = 60.001682658353616\n",
      "yt : [INFO     ] 2024-07-22 16:09:55,032 Parameters: domain_dimensions         = [320 256 256]\n",
      "yt : [INFO     ] 2024-07-22 16:09:55,035 Parameters: domain_left_edge          = [-4. -2. -2.]\n",
      "yt : [INFO     ] 2024-07-22 16:09:55,036 Parameters: domain_right_edge         = [1. 2. 2.]\n",
      "yt : [INFO     ] 2024-07-22 16:09:55,983 Parameters: current_time              = 60.20032532211254\n",
      "yt : [INFO     ] 2024-07-22 16:09:55,984 Parameters: domain_dimensions         = [320 256 256]\n",
      "yt : [INFO     ] 2024-07-22 16:09:55,984 Parameters: domain_left_edge          = [-4. -2. -2.]\n",
      "yt : [INFO     ] 2024-07-22 16:09:55,985 Parameters: domain_right_edge         = [1. 2. 2.]\n",
      "yt : [INFO     ] 2024-07-22 16:09:56,005 Parameters: current_time              = 60.20032532211254\n",
      "yt : [INFO     ] 2024-07-22 16:09:56,006 Parameters: domain_dimensions         = [320 256 256]\n",
      "yt : [INFO     ] 2024-07-22 16:09:56,007 Parameters: domain_left_edge          = [-4. -2. -2.]\n",
      "yt : [INFO     ] 2024-07-22 16:09:56,007 Parameters: domain_right_edge         = [1. 2. 2.]\n"
     ]
    },
    {
     "name": "stdout",
     "output_type": "stream",
     "text": [
      "Plotting t = 60.2\n"
     ]
    },
    {
     "name": "stderr",
     "output_type": "stream",
     "text": [
      "yt : [WARNING  ] 2024-07-22 16:09:57,809 Field ('particle', 'unit_one') was added without specifying units or dimensions, auto setting units to \n",
      "yt : [INFO     ] 2024-07-22 16:09:57,883 Parameters: current_time              = 60.20032532211254\n",
      "yt : [INFO     ] 2024-07-22 16:09:57,884 Parameters: domain_dimensions         = [320 256 256]\n",
      "yt : [INFO     ] 2024-07-22 16:09:57,885 Parameters: domain_left_edge          = [-4. -2. -2.]\n",
      "yt : [INFO     ] 2024-07-22 16:09:57,885 Parameters: domain_right_edge         = [1. 2. 2.]\n",
      "yt : [INFO     ] 2024-07-22 16:09:57,905 Parameters: current_time              = 60.20032532211254\n",
      "yt : [INFO     ] 2024-07-22 16:09:57,906 Parameters: domain_dimensions         = [320 256 256]\n",
      "yt : [INFO     ] 2024-07-22 16:09:57,907 Parameters: domain_left_edge          = [-4. -2. -2.]\n",
      "yt : [INFO     ] 2024-07-22 16:09:57,908 Parameters: domain_right_edge         = [1. 2. 2.]\n",
      "yt : [INFO     ] 2024-07-22 16:09:58,740 Parameters: current_time              = 60.40141121523651\n",
      "yt : [INFO     ] 2024-07-22 16:09:58,741 Parameters: domain_dimensions         = [320 256 256]\n",
      "yt : [INFO     ] 2024-07-22 16:09:58,742 Parameters: domain_left_edge          = [-4. -2. -2.]\n",
      "yt : [INFO     ] 2024-07-22 16:09:58,742 Parameters: domain_right_edge         = [1. 2. 2.]\n",
      "yt : [INFO     ] 2024-07-22 16:09:58,762 Parameters: current_time              = 60.40141121523651\n",
      "yt : [INFO     ] 2024-07-22 16:09:58,763 Parameters: domain_dimensions         = [320 256 256]\n",
      "yt : [INFO     ] 2024-07-22 16:09:58,763 Parameters: domain_left_edge          = [-4. -2. -2.]\n",
      "yt : [INFO     ] 2024-07-22 16:09:58,764 Parameters: domain_right_edge         = [1. 2. 2.]\n"
     ]
    },
    {
     "name": "stdout",
     "output_type": "stream",
     "text": [
      "Plotting t = 60.4\n"
     ]
    },
    {
     "name": "stderr",
     "output_type": "stream",
     "text": [
      "yt : [WARNING  ] 2024-07-22 16:10:00,625 Field ('particle', 'unit_one') was added without specifying units or dimensions, auto setting units to \n",
      "yt : [INFO     ] 2024-07-22 16:10:00,698 Parameters: current_time              = 60.40141121523651\n",
      "yt : [INFO     ] 2024-07-22 16:10:00,699 Parameters: domain_dimensions         = [320 256 256]\n",
      "yt : [INFO     ] 2024-07-22 16:10:00,700 Parameters: domain_left_edge          = [-4. -2. -2.]\n",
      "yt : [INFO     ] 2024-07-22 16:10:00,701 Parameters: domain_right_edge         = [1. 2. 2.]\n",
      "yt : [INFO     ] 2024-07-22 16:10:00,720 Parameters: current_time              = 60.40141121523651\n",
      "yt : [INFO     ] 2024-07-22 16:10:00,721 Parameters: domain_dimensions         = [320 256 256]\n",
      "yt : [INFO     ] 2024-07-22 16:10:00,722 Parameters: domain_left_edge          = [-4. -2. -2.]\n",
      "yt : [INFO     ] 2024-07-22 16:10:00,722 Parameters: domain_right_edge         = [1. 2. 2.]\n",
      "yt : [INFO     ] 2024-07-22 16:10:01,438 Parameters: current_time              = 60.60113768967852\n",
      "yt : [INFO     ] 2024-07-22 16:10:01,439 Parameters: domain_dimensions         = [320 256 256]\n",
      "yt : [INFO     ] 2024-07-22 16:10:01,440 Parameters: domain_left_edge          = [-4. -2. -2.]\n",
      "yt : [INFO     ] 2024-07-22 16:10:01,441 Parameters: domain_right_edge         = [1. 2. 2.]\n",
      "yt : [INFO     ] 2024-07-22 16:10:01,460 Parameters: current_time              = 60.60113768967852\n",
      "yt : [INFO     ] 2024-07-22 16:10:01,461 Parameters: domain_dimensions         = [320 256 256]\n",
      "yt : [INFO     ] 2024-07-22 16:10:01,462 Parameters: domain_left_edge          = [-4. -2. -2.]\n",
      "yt : [INFO     ] 2024-07-22 16:10:01,463 Parameters: domain_right_edge         = [1. 2. 2.]\n"
     ]
    },
    {
     "name": "stdout",
     "output_type": "stream",
     "text": [
      "Plotting t = 60.6\n"
     ]
    },
    {
     "name": "stderr",
     "output_type": "stream",
     "text": [
      "yt : [WARNING  ] 2024-07-22 16:10:03,270 Field ('particle', 'unit_one') was added without specifying units or dimensions, auto setting units to \n",
      "yt : [INFO     ] 2024-07-22 16:10:03,345 Parameters: current_time              = 60.60113768967852\n",
      "yt : [INFO     ] 2024-07-22 16:10:03,346 Parameters: domain_dimensions         = [320 256 256]\n",
      "yt : [INFO     ] 2024-07-22 16:10:03,346 Parameters: domain_left_edge          = [-4. -2. -2.]\n",
      "yt : [INFO     ] 2024-07-22 16:10:03,347 Parameters: domain_right_edge         = [1. 2. 2.]\n",
      "yt : [INFO     ] 2024-07-22 16:10:03,365 Parameters: current_time              = 60.60113768967852\n",
      "yt : [INFO     ] 2024-07-22 16:10:03,366 Parameters: domain_dimensions         = [320 256 256]\n",
      "yt : [INFO     ] 2024-07-22 16:10:03,367 Parameters: domain_left_edge          = [-4. -2. -2.]\n",
      "yt : [INFO     ] 2024-07-22 16:10:03,367 Parameters: domain_right_edge         = [1. 2. 2.]\n",
      "yt : [INFO     ] 2024-07-22 16:10:04,170 Parameters: current_time              = 60.8002221383956\n",
      "yt : [INFO     ] 2024-07-22 16:10:04,171 Parameters: domain_dimensions         = [320 256 256]\n",
      "yt : [INFO     ] 2024-07-22 16:10:04,172 Parameters: domain_left_edge          = [-4. -2. -2.]\n",
      "yt : [INFO     ] 2024-07-22 16:10:04,173 Parameters: domain_right_edge         = [1. 2. 2.]\n",
      "yt : [INFO     ] 2024-07-22 16:10:04,192 Parameters: current_time              = 60.8002221383956\n",
      "yt : [INFO     ] 2024-07-22 16:10:04,193 Parameters: domain_dimensions         = [320 256 256]\n",
      "yt : [INFO     ] 2024-07-22 16:10:04,193 Parameters: domain_left_edge          = [-4. -2. -2.]\n",
      "yt : [INFO     ] 2024-07-22 16:10:04,194 Parameters: domain_right_edge         = [1. 2. 2.]\n"
     ]
    },
    {
     "name": "stdout",
     "output_type": "stream",
     "text": [
      "Plotting t = 60.8\n"
     ]
    },
    {
     "name": "stderr",
     "output_type": "stream",
     "text": [
      "yt : [WARNING  ] 2024-07-22 16:10:05,850 Field ('particle', 'unit_one') was added without specifying units or dimensions, auto setting units to \n",
      "yt : [INFO     ] 2024-07-22 16:10:05,919 Parameters: current_time              = 60.8002221383956\n",
      "yt : [INFO     ] 2024-07-22 16:10:05,920 Parameters: domain_dimensions         = [320 256 256]\n",
      "yt : [INFO     ] 2024-07-22 16:10:05,921 Parameters: domain_left_edge          = [-4. -2. -2.]\n",
      "yt : [INFO     ] 2024-07-22 16:10:05,922 Parameters: domain_right_edge         = [1. 2. 2.]\n",
      "yt : [INFO     ] 2024-07-22 16:10:05,940 Parameters: current_time              = 60.8002221383956\n",
      "yt : [INFO     ] 2024-07-22 16:10:05,941 Parameters: domain_dimensions         = [320 256 256]\n",
      "yt : [INFO     ] 2024-07-22 16:10:05,941 Parameters: domain_left_edge          = [-4. -2. -2.]\n",
      "yt : [INFO     ] 2024-07-22 16:10:05,942 Parameters: domain_right_edge         = [1. 2. 2.]\n",
      "yt : [INFO     ] 2024-07-22 16:10:06,733 Parameters: current_time              = 61.00013824333858\n",
      "yt : [INFO     ] 2024-07-22 16:10:06,734 Parameters: domain_dimensions         = [320 256 256]\n",
      "yt : [INFO     ] 2024-07-22 16:10:06,734 Parameters: domain_left_edge          = [-4. -2. -2.]\n",
      "yt : [INFO     ] 2024-07-22 16:10:06,735 Parameters: domain_right_edge         = [1. 2. 2.]\n",
      "yt : [INFO     ] 2024-07-22 16:10:06,754 Parameters: current_time              = 61.00013824333858\n",
      "yt : [INFO     ] 2024-07-22 16:10:06,755 Parameters: domain_dimensions         = [320 256 256]\n",
      "yt : [INFO     ] 2024-07-22 16:10:06,755 Parameters: domain_left_edge          = [-4. -2. -2.]\n",
      "yt : [INFO     ] 2024-07-22 16:10:06,756 Parameters: domain_right_edge         = [1. 2. 2.]\n"
     ]
    },
    {
     "name": "stdout",
     "output_type": "stream",
     "text": [
      "Plotting t = 61.0\n"
     ]
    },
    {
     "name": "stderr",
     "output_type": "stream",
     "text": [
      "yt : [WARNING  ] 2024-07-22 16:10:08,521 Field ('particle', 'unit_one') was added without specifying units or dimensions, auto setting units to \n",
      "yt : [INFO     ] 2024-07-22 16:10:08,594 Parameters: current_time              = 61.00013824333858\n",
      "yt : [INFO     ] 2024-07-22 16:10:08,595 Parameters: domain_dimensions         = [320 256 256]\n",
      "yt : [INFO     ] 2024-07-22 16:10:08,596 Parameters: domain_left_edge          = [-4. -2. -2.]\n",
      "yt : [INFO     ] 2024-07-22 16:10:08,596 Parameters: domain_right_edge         = [1. 2. 2.]\n",
      "yt : [INFO     ] 2024-07-22 16:10:08,614 Parameters: current_time              = 61.00013824333858\n",
      "yt : [INFO     ] 2024-07-22 16:10:08,615 Parameters: domain_dimensions         = [320 256 256]\n",
      "yt : [INFO     ] 2024-07-22 16:10:08,616 Parameters: domain_left_edge          = [-4. -2. -2.]\n",
      "yt : [INFO     ] 2024-07-22 16:10:08,616 Parameters: domain_right_edge         = [1. 2. 2.]\n",
      "yt : [INFO     ] 2024-07-22 16:10:09,294 Parameters: current_time              = 61.201231543222114\n",
      "yt : [INFO     ] 2024-07-22 16:10:09,295 Parameters: domain_dimensions         = [320 256 256]\n",
      "yt : [INFO     ] 2024-07-22 16:10:09,296 Parameters: domain_left_edge          = [-4. -2. -2.]\n",
      "yt : [INFO     ] 2024-07-22 16:10:09,297 Parameters: domain_right_edge         = [1. 2. 2.]\n",
      "yt : [INFO     ] 2024-07-22 16:10:09,315 Parameters: current_time              = 61.201231543222114\n",
      "yt : [INFO     ] 2024-07-22 16:10:09,316 Parameters: domain_dimensions         = [320 256 256]\n",
      "yt : [INFO     ] 2024-07-22 16:10:09,317 Parameters: domain_left_edge          = [-4. -2. -2.]\n",
      "yt : [INFO     ] 2024-07-22 16:10:09,317 Parameters: domain_right_edge         = [1. 2. 2.]\n"
     ]
    },
    {
     "name": "stdout",
     "output_type": "stream",
     "text": [
      "Plotting t = 61.2\n"
     ]
    },
    {
     "name": "stderr",
     "output_type": "stream",
     "text": [
      "yt : [WARNING  ] 2024-07-22 16:10:11,136 Field ('particle', 'unit_one') was added without specifying units or dimensions, auto setting units to \n",
      "yt : [INFO     ] 2024-07-22 16:10:11,207 Parameters: current_time              = 61.201231543222114\n",
      "yt : [INFO     ] 2024-07-22 16:10:11,207 Parameters: domain_dimensions         = [320 256 256]\n",
      "yt : [INFO     ] 2024-07-22 16:10:11,208 Parameters: domain_left_edge          = [-4. -2. -2.]\n",
      "yt : [INFO     ] 2024-07-22 16:10:11,209 Parameters: domain_right_edge         = [1. 2. 2.]\n",
      "yt : [INFO     ] 2024-07-22 16:10:11,227 Parameters: current_time              = 61.201231543222114\n",
      "yt : [INFO     ] 2024-07-22 16:10:11,227 Parameters: domain_dimensions         = [320 256 256]\n",
      "yt : [INFO     ] 2024-07-22 16:10:11,228 Parameters: domain_left_edge          = [-4. -2. -2.]\n",
      "yt : [INFO     ] 2024-07-22 16:10:11,229 Parameters: domain_right_edge         = [1. 2. 2.]\n",
      "yt : [INFO     ] 2024-07-22 16:10:11,902 Parameters: current_time              = 61.40181014968307\n",
      "yt : [INFO     ] 2024-07-22 16:10:11,903 Parameters: domain_dimensions         = [320 256 256]\n",
      "yt : [INFO     ] 2024-07-22 16:10:11,904 Parameters: domain_left_edge          = [-4. -2. -2.]\n",
      "yt : [INFO     ] 2024-07-22 16:10:11,905 Parameters: domain_right_edge         = [1. 2. 2.]\n",
      "yt : [INFO     ] 2024-07-22 16:10:11,924 Parameters: current_time              = 61.40181014968307\n",
      "yt : [INFO     ] 2024-07-22 16:10:11,924 Parameters: domain_dimensions         = [320 256 256]\n",
      "yt : [INFO     ] 2024-07-22 16:10:11,925 Parameters: domain_left_edge          = [-4. -2. -2.]\n",
      "yt : [INFO     ] 2024-07-22 16:10:11,926 Parameters: domain_right_edge         = [1. 2. 2.]\n"
     ]
    },
    {
     "name": "stdout",
     "output_type": "stream",
     "text": [
      "Plotting t = 61.4\n"
     ]
    },
    {
     "name": "stderr",
     "output_type": "stream",
     "text": [
      "yt : [WARNING  ] 2024-07-22 16:10:13,702 Field ('particle', 'unit_one') was added without specifying units or dimensions, auto setting units to \n",
      "yt : [INFO     ] 2024-07-22 16:10:13,773 Parameters: current_time              = 61.40181014968307\n",
      "yt : [INFO     ] 2024-07-22 16:10:13,774 Parameters: domain_dimensions         = [320 256 256]\n",
      "yt : [INFO     ] 2024-07-22 16:10:13,774 Parameters: domain_left_edge          = [-4. -2. -2.]\n",
      "yt : [INFO     ] 2024-07-22 16:10:13,775 Parameters: domain_right_edge         = [1. 2. 2.]\n",
      "yt : [INFO     ] 2024-07-22 16:10:13,793 Parameters: current_time              = 61.40181014968307\n",
      "yt : [INFO     ] 2024-07-22 16:10:13,794 Parameters: domain_dimensions         = [320 256 256]\n",
      "yt : [INFO     ] 2024-07-22 16:10:13,794 Parameters: domain_left_edge          = [-4. -2. -2.]\n",
      "yt : [INFO     ] 2024-07-22 16:10:13,795 Parameters: domain_right_edge         = [1. 2. 2.]\n",
      "yt : [INFO     ] 2024-07-22 16:10:14,591 Parameters: current_time              = 61.60151524989462\n",
      "yt : [INFO     ] 2024-07-22 16:10:14,591 Parameters: domain_dimensions         = [320 256 256]\n",
      "yt : [INFO     ] 2024-07-22 16:10:14,592 Parameters: domain_left_edge          = [-4. -2. -2.]\n",
      "yt : [INFO     ] 2024-07-22 16:10:14,593 Parameters: domain_right_edge         = [1. 2. 2.]\n",
      "yt : [INFO     ] 2024-07-22 16:10:14,611 Parameters: current_time              = 61.60151524989462\n",
      "yt : [INFO     ] 2024-07-22 16:10:14,612 Parameters: domain_dimensions         = [320 256 256]\n",
      "yt : [INFO     ] 2024-07-22 16:10:14,612 Parameters: domain_left_edge          = [-4. -2. -2.]\n",
      "yt : [INFO     ] 2024-07-22 16:10:14,613 Parameters: domain_right_edge         = [1. 2. 2.]\n"
     ]
    },
    {
     "name": "stdout",
     "output_type": "stream",
     "text": [
      "Plotting t = 61.6\n"
     ]
    },
    {
     "name": "stderr",
     "output_type": "stream",
     "text": [
      "yt : [WARNING  ] 2024-07-22 16:10:16,299 Field ('particle', 'unit_one') was added without specifying units or dimensions, auto setting units to \n",
      "yt : [INFO     ] 2024-07-22 16:10:16,367 Parameters: current_time              = 61.60151524989462\n",
      "yt : [INFO     ] 2024-07-22 16:10:16,368 Parameters: domain_dimensions         = [320 256 256]\n",
      "yt : [INFO     ] 2024-07-22 16:10:16,369 Parameters: domain_left_edge          = [-4. -2. -2.]\n",
      "yt : [INFO     ] 2024-07-22 16:10:16,369 Parameters: domain_right_edge         = [1. 2. 2.]\n",
      "yt : [INFO     ] 2024-07-22 16:10:16,388 Parameters: current_time              = 61.60151524989462\n",
      "yt : [INFO     ] 2024-07-22 16:10:16,388 Parameters: domain_dimensions         = [320 256 256]\n",
      "yt : [INFO     ] 2024-07-22 16:10:16,389 Parameters: domain_left_edge          = [-4. -2. -2.]\n",
      "yt : [INFO     ] 2024-07-22 16:10:16,389 Parameters: domain_right_edge         = [1. 2. 2.]\n",
      "yt : [INFO     ] 2024-07-22 16:10:17,220 Parameters: current_time              = 61.80127482825341\n",
      "yt : [INFO     ] 2024-07-22 16:10:17,221 Parameters: domain_dimensions         = [320 256 256]\n",
      "yt : [INFO     ] 2024-07-22 16:10:17,221 Parameters: domain_left_edge          = [-4. -2. -2.]\n",
      "yt : [INFO     ] 2024-07-22 16:10:17,222 Parameters: domain_right_edge         = [1. 2. 2.]\n",
      "yt : [INFO     ] 2024-07-22 16:10:17,241 Parameters: current_time              = 61.80127482825341\n",
      "yt : [INFO     ] 2024-07-22 16:10:17,242 Parameters: domain_dimensions         = [320 256 256]\n",
      "yt : [INFO     ] 2024-07-22 16:10:17,243 Parameters: domain_left_edge          = [-4. -2. -2.]\n",
      "yt : [INFO     ] 2024-07-22 16:10:17,243 Parameters: domain_right_edge         = [1. 2. 2.]\n"
     ]
    },
    {
     "name": "stdout",
     "output_type": "stream",
     "text": [
      "Plotting t = 61.8\n"
     ]
    },
    {
     "name": "stderr",
     "output_type": "stream",
     "text": [
      "yt : [WARNING  ] 2024-07-22 16:10:18,942 Field ('particle', 'unit_one') was added without specifying units or dimensions, auto setting units to \n",
      "yt : [INFO     ] 2024-07-22 16:10:19,177 Parameters: current_time              = 61.80127482825341\n",
      "yt : [INFO     ] 2024-07-22 16:10:19,177 Parameters: domain_dimensions         = [320 256 256]\n",
      "yt : [INFO     ] 2024-07-22 16:10:19,178 Parameters: domain_left_edge          = [-4. -2. -2.]\n",
      "yt : [INFO     ] 2024-07-22 16:10:19,179 Parameters: domain_right_edge         = [1. 2. 2.]\n",
      "yt : [INFO     ] 2024-07-22 16:10:19,197 Parameters: current_time              = 61.80127482825341\n",
      "yt : [INFO     ] 2024-07-22 16:10:19,198 Parameters: domain_dimensions         = [320 256 256]\n",
      "yt : [INFO     ] 2024-07-22 16:10:19,198 Parameters: domain_left_edge          = [-4. -2. -2.]\n",
      "yt : [INFO     ] 2024-07-22 16:10:19,199 Parameters: domain_right_edge         = [1. 2. 2.]\n",
      "yt : [INFO     ] 2024-07-22 16:10:19,874 Parameters: current_time              = 62.001241980953324\n",
      "yt : [INFO     ] 2024-07-22 16:10:19,875 Parameters: domain_dimensions         = [320 256 256]\n",
      "yt : [INFO     ] 2024-07-22 16:10:19,876 Parameters: domain_left_edge          = [-4. -2. -2.]\n",
      "yt : [INFO     ] 2024-07-22 16:10:19,876 Parameters: domain_right_edge         = [1. 2. 2.]\n",
      "yt : [INFO     ] 2024-07-22 16:10:19,895 Parameters: current_time              = 62.001241980953324\n",
      "yt : [INFO     ] 2024-07-22 16:10:19,896 Parameters: domain_dimensions         = [320 256 256]\n",
      "yt : [INFO     ] 2024-07-22 16:10:19,897 Parameters: domain_left_edge          = [-4. -2. -2.]\n",
      "yt : [INFO     ] 2024-07-22 16:10:19,897 Parameters: domain_right_edge         = [1. 2. 2.]\n"
     ]
    },
    {
     "name": "stdout",
     "output_type": "stream",
     "text": [
      "Plotting t = 62.0\n"
     ]
    },
    {
     "name": "stderr",
     "output_type": "stream",
     "text": [
      "yt : [WARNING  ] 2024-07-22 16:10:21,863 Field ('particle', 'unit_one') was added without specifying units or dimensions, auto setting units to \n",
      "yt : [INFO     ] 2024-07-22 16:10:21,957 Parameters: current_time              = 62.001241980953324\n",
      "yt : [INFO     ] 2024-07-22 16:10:21,959 Parameters: domain_dimensions         = [320 256 256]\n",
      "yt : [INFO     ] 2024-07-22 16:10:21,959 Parameters: domain_left_edge          = [-4. -2. -2.]\n",
      "yt : [INFO     ] 2024-07-22 16:10:21,960 Parameters: domain_right_edge         = [1. 2. 2.]\n",
      "yt : [INFO     ] 2024-07-22 16:10:21,983 Parameters: current_time              = 62.001241980953324\n",
      "yt : [INFO     ] 2024-07-22 16:10:21,984 Parameters: domain_dimensions         = [320 256 256]\n",
      "yt : [INFO     ] 2024-07-22 16:10:21,985 Parameters: domain_left_edge          = [-4. -2. -2.]\n",
      "yt : [INFO     ] 2024-07-22 16:10:21,985 Parameters: domain_right_edge         = [1. 2. 2.]\n",
      "yt : [INFO     ] 2024-07-22 16:10:22,707 Parameters: current_time              = 62.20142148015203\n",
      "yt : [INFO     ] 2024-07-22 16:10:22,708 Parameters: domain_dimensions         = [320 256 256]\n",
      "yt : [INFO     ] 2024-07-22 16:10:22,709 Parameters: domain_left_edge          = [-4. -2. -2.]\n",
      "yt : [INFO     ] 2024-07-22 16:10:22,709 Parameters: domain_right_edge         = [1. 2. 2.]\n",
      "yt : [INFO     ] 2024-07-22 16:10:22,729 Parameters: current_time              = 62.20142148015203\n",
      "yt : [INFO     ] 2024-07-22 16:10:22,729 Parameters: domain_dimensions         = [320 256 256]\n",
      "yt : [INFO     ] 2024-07-22 16:10:22,730 Parameters: domain_left_edge          = [-4. -2. -2.]\n",
      "yt : [INFO     ] 2024-07-22 16:10:22,731 Parameters: domain_right_edge         = [1. 2. 2.]\n"
     ]
    },
    {
     "name": "stdout",
     "output_type": "stream",
     "text": [
      "Plotting t = 62.2\n"
     ]
    },
    {
     "name": "stderr",
     "output_type": "stream",
     "text": [
      "yt : [WARNING  ] 2024-07-22 16:10:24,520 Field ('particle', 'unit_one') was added without specifying units or dimensions, auto setting units to \n",
      "yt : [INFO     ] 2024-07-22 16:10:24,588 Parameters: current_time              = 62.20142148015203\n",
      "yt : [INFO     ] 2024-07-22 16:10:24,589 Parameters: domain_dimensions         = [320 256 256]\n",
      "yt : [INFO     ] 2024-07-22 16:10:24,590 Parameters: domain_left_edge          = [-4. -2. -2.]\n",
      "yt : [INFO     ] 2024-07-22 16:10:24,590 Parameters: domain_right_edge         = [1. 2. 2.]\n",
      "yt : [INFO     ] 2024-07-22 16:10:24,609 Parameters: current_time              = 62.20142148015203\n",
      "yt : [INFO     ] 2024-07-22 16:10:24,609 Parameters: domain_dimensions         = [320 256 256]\n",
      "yt : [INFO     ] 2024-07-22 16:10:24,610 Parameters: domain_left_edge          = [-4. -2. -2.]\n",
      "yt : [INFO     ] 2024-07-22 16:10:24,611 Parameters: domain_right_edge         = [1. 2. 2.]\n",
      "yt : [INFO     ] 2024-07-22 16:10:25,287 Parameters: current_time              = 62.40145242820134\n",
      "yt : [INFO     ] 2024-07-22 16:10:25,287 Parameters: domain_dimensions         = [320 256 256]\n",
      "yt : [INFO     ] 2024-07-22 16:10:25,288 Parameters: domain_left_edge          = [-4. -2. -2.]\n",
      "yt : [INFO     ] 2024-07-22 16:10:25,290 Parameters: domain_right_edge         = [1. 2. 2.]\n",
      "yt : [INFO     ] 2024-07-22 16:10:25,309 Parameters: current_time              = 62.40145242820134\n",
      "yt : [INFO     ] 2024-07-22 16:10:25,310 Parameters: domain_dimensions         = [320 256 256]\n",
      "yt : [INFO     ] 2024-07-22 16:10:25,311 Parameters: domain_left_edge          = [-4. -2. -2.]\n",
      "yt : [INFO     ] 2024-07-22 16:10:25,312 Parameters: domain_right_edge         = [1. 2. 2.]\n"
     ]
    },
    {
     "name": "stdout",
     "output_type": "stream",
     "text": [
      "Plotting t = 62.4\n"
     ]
    },
    {
     "name": "stderr",
     "output_type": "stream",
     "text": [
      "yt : [WARNING  ] 2024-07-22 16:10:27,179 Field ('particle', 'unit_one') was added without specifying units or dimensions, auto setting units to \n",
      "yt : [INFO     ] 2024-07-22 16:10:27,258 Parameters: current_time              = 62.40145242820134\n",
      "yt : [INFO     ] 2024-07-22 16:10:27,259 Parameters: domain_dimensions         = [320 256 256]\n",
      "yt : [INFO     ] 2024-07-22 16:10:27,259 Parameters: domain_left_edge          = [-4. -2. -2.]\n",
      "yt : [INFO     ] 2024-07-22 16:10:27,260 Parameters: domain_right_edge         = [1. 2. 2.]\n",
      "yt : [INFO     ] 2024-07-22 16:10:27,280 Parameters: current_time              = 62.40145242820134\n",
      "yt : [INFO     ] 2024-07-22 16:10:27,280 Parameters: domain_dimensions         = [320 256 256]\n",
      "yt : [INFO     ] 2024-07-22 16:10:27,281 Parameters: domain_left_edge          = [-4. -2. -2.]\n",
      "yt : [INFO     ] 2024-07-22 16:10:27,282 Parameters: domain_right_edge         = [1. 2. 2.]\n",
      "yt : [INFO     ] 2024-07-22 16:10:27,983 Parameters: current_time              = 62.60045542241133\n",
      "yt : [INFO     ] 2024-07-22 16:10:27,984 Parameters: domain_dimensions         = [320 256 256]\n",
      "yt : [INFO     ] 2024-07-22 16:10:27,984 Parameters: domain_left_edge          = [-4. -2. -2.]\n",
      "yt : [INFO     ] 2024-07-22 16:10:27,985 Parameters: domain_right_edge         = [1. 2. 2.]\n",
      "yt : [INFO     ] 2024-07-22 16:10:28,004 Parameters: current_time              = 62.60045542241133\n",
      "yt : [INFO     ] 2024-07-22 16:10:28,004 Parameters: domain_dimensions         = [320 256 256]\n",
      "yt : [INFO     ] 2024-07-22 16:10:28,005 Parameters: domain_left_edge          = [-4. -2. -2.]\n",
      "yt : [INFO     ] 2024-07-22 16:10:28,006 Parameters: domain_right_edge         = [1. 2. 2.]\n"
     ]
    },
    {
     "name": "stdout",
     "output_type": "stream",
     "text": [
      "Plotting t = 62.6\n"
     ]
    },
    {
     "name": "stderr",
     "output_type": "stream",
     "text": [
      "yt : [WARNING  ] 2024-07-22 16:10:29,803 Field ('particle', 'unit_one') was added without specifying units or dimensions, auto setting units to \n",
      "yt : [INFO     ] 2024-07-22 16:10:29,868 Parameters: current_time              = 62.60045542241133\n",
      "yt : [INFO     ] 2024-07-22 16:10:29,869 Parameters: domain_dimensions         = [320 256 256]\n",
      "yt : [INFO     ] 2024-07-22 16:10:29,869 Parameters: domain_left_edge          = [-4. -2. -2.]\n",
      "yt : [INFO     ] 2024-07-22 16:10:29,870 Parameters: domain_right_edge         = [1. 2. 2.]\n",
      "yt : [INFO     ] 2024-07-22 16:10:29,888 Parameters: current_time              = 62.60045542241133\n",
      "yt : [INFO     ] 2024-07-22 16:10:29,889 Parameters: domain_dimensions         = [320 256 256]\n",
      "yt : [INFO     ] 2024-07-22 16:10:29,889 Parameters: domain_left_edge          = [-4. -2. -2.]\n",
      "yt : [INFO     ] 2024-07-22 16:10:29,890 Parameters: domain_right_edge         = [1. 2. 2.]\n",
      "yt : [INFO     ] 2024-07-22 16:10:30,710 Parameters: current_time              = 62.80061436347832\n",
      "yt : [INFO     ] 2024-07-22 16:10:30,710 Parameters: domain_dimensions         = [320 256 256]\n",
      "yt : [INFO     ] 2024-07-22 16:10:30,711 Parameters: domain_left_edge          = [-4. -2. -2.]\n",
      "yt : [INFO     ] 2024-07-22 16:10:30,712 Parameters: domain_right_edge         = [1. 2. 2.]\n",
      "yt : [INFO     ] 2024-07-22 16:10:30,730 Parameters: current_time              = 62.80061436347832\n",
      "yt : [INFO     ] 2024-07-22 16:10:30,731 Parameters: domain_dimensions         = [320 256 256]\n",
      "yt : [INFO     ] 2024-07-22 16:10:30,731 Parameters: domain_left_edge          = [-4. -2. -2.]\n",
      "yt : [INFO     ] 2024-07-22 16:10:30,732 Parameters: domain_right_edge         = [1. 2. 2.]\n"
     ]
    },
    {
     "name": "stdout",
     "output_type": "stream",
     "text": [
      "Plotting t = 62.8\n"
     ]
    },
    {
     "name": "stderr",
     "output_type": "stream",
     "text": [
      "yt : [WARNING  ] 2024-07-22 16:10:32,353 Field ('particle', 'unit_one') was added without specifying units or dimensions, auto setting units to \n",
      "yt : [INFO     ] 2024-07-22 16:10:32,417 Parameters: current_time              = 62.80061436347832\n",
      "yt : [INFO     ] 2024-07-22 16:10:32,417 Parameters: domain_dimensions         = [320 256 256]\n",
      "yt : [INFO     ] 2024-07-22 16:10:32,418 Parameters: domain_left_edge          = [-4. -2. -2.]\n",
      "yt : [INFO     ] 2024-07-22 16:10:32,419 Parameters: domain_right_edge         = [1. 2. 2.]\n",
      "yt : [INFO     ] 2024-07-22 16:10:32,437 Parameters: current_time              = 62.80061436347832\n",
      "yt : [INFO     ] 2024-07-22 16:10:32,437 Parameters: domain_dimensions         = [320 256 256]\n",
      "yt : [INFO     ] 2024-07-22 16:10:32,438 Parameters: domain_left_edge          = [-4. -2. -2.]\n",
      "yt : [INFO     ] 2024-07-22 16:10:32,438 Parameters: domain_right_edge         = [1. 2. 2.]\n",
      "yt : [INFO     ] 2024-07-22 16:10:33,270 Parameters: current_time              = 63.001201925109434\n",
      "yt : [INFO     ] 2024-07-22 16:10:33,271 Parameters: domain_dimensions         = [320 256 256]\n",
      "yt : [INFO     ] 2024-07-22 16:10:33,272 Parameters: domain_left_edge          = [-4. -2. -2.]\n",
      "yt : [INFO     ] 2024-07-22 16:10:33,272 Parameters: domain_right_edge         = [1. 2. 2.]\n",
      "yt : [INFO     ] 2024-07-22 16:10:33,291 Parameters: current_time              = 63.001201925109434\n",
      "yt : [INFO     ] 2024-07-22 16:10:33,292 Parameters: domain_dimensions         = [320 256 256]\n",
      "yt : [INFO     ] 2024-07-22 16:10:33,292 Parameters: domain_left_edge          = [-4. -2. -2.]\n",
      "yt : [INFO     ] 2024-07-22 16:10:33,293 Parameters: domain_right_edge         = [1. 2. 2.]\n"
     ]
    },
    {
     "name": "stdout",
     "output_type": "stream",
     "text": [
      "Plotting t = 63.0\n"
     ]
    },
    {
     "name": "stderr",
     "output_type": "stream",
     "text": [
      "yt : [WARNING  ] 2024-07-22 16:10:34,951 Field ('particle', 'unit_one') was added without specifying units or dimensions, auto setting units to \n",
      "yt : [INFO     ] 2024-07-22 16:10:35,019 Parameters: current_time              = 63.001201925109434\n",
      "yt : [INFO     ] 2024-07-22 16:10:35,020 Parameters: domain_dimensions         = [320 256 256]\n",
      "yt : [INFO     ] 2024-07-22 16:10:35,020 Parameters: domain_left_edge          = [-4. -2. -2.]\n",
      "yt : [INFO     ] 2024-07-22 16:10:35,021 Parameters: domain_right_edge         = [1. 2. 2.]\n",
      "yt : [INFO     ] 2024-07-22 16:10:35,039 Parameters: current_time              = 63.001201925109434\n",
      "yt : [INFO     ] 2024-07-22 16:10:35,040 Parameters: domain_dimensions         = [320 256 256]\n",
      "yt : [INFO     ] 2024-07-22 16:10:35,040 Parameters: domain_left_edge          = [-4. -2. -2.]\n",
      "yt : [INFO     ] 2024-07-22 16:10:35,041 Parameters: domain_right_edge         = [1. 2. 2.]\n",
      "yt : [INFO     ] 2024-07-22 16:10:35,864 Parameters: current_time              = 63.20024278549707\n",
      "yt : [INFO     ] 2024-07-22 16:10:35,865 Parameters: domain_dimensions         = [320 256 256]\n",
      "yt : [INFO     ] 2024-07-22 16:10:35,866 Parameters: domain_left_edge          = [-4. -2. -2.]\n",
      "yt : [INFO     ] 2024-07-22 16:10:35,866 Parameters: domain_right_edge         = [1. 2. 2.]\n",
      "yt : [INFO     ] 2024-07-22 16:10:35,885 Parameters: current_time              = 63.20024278549707\n",
      "yt : [INFO     ] 2024-07-22 16:10:35,885 Parameters: domain_dimensions         = [320 256 256]\n",
      "yt : [INFO     ] 2024-07-22 16:10:35,886 Parameters: domain_left_edge          = [-4. -2. -2.]\n",
      "yt : [INFO     ] 2024-07-22 16:10:35,887 Parameters: domain_right_edge         = [1. 2. 2.]\n"
     ]
    },
    {
     "name": "stdout",
     "output_type": "stream",
     "text": [
      "Plotting t = 63.2\n"
     ]
    },
    {
     "name": "stderr",
     "output_type": "stream",
     "text": [
      "yt : [WARNING  ] 2024-07-22 16:10:37,523 Field ('particle', 'unit_one') was added without specifying units or dimensions, auto setting units to \n",
      "yt : [INFO     ] 2024-07-22 16:10:37,588 Parameters: current_time              = 63.20024278549707\n",
      "yt : [INFO     ] 2024-07-22 16:10:37,589 Parameters: domain_dimensions         = [320 256 256]\n",
      "yt : [INFO     ] 2024-07-22 16:10:37,589 Parameters: domain_left_edge          = [-4. -2. -2.]\n",
      "yt : [INFO     ] 2024-07-22 16:10:37,590 Parameters: domain_right_edge         = [1. 2. 2.]\n",
      "yt : [INFO     ] 2024-07-22 16:10:37,608 Parameters: current_time              = 63.20024278549707\n",
      "yt : [INFO     ] 2024-07-22 16:10:37,608 Parameters: domain_dimensions         = [320 256 256]\n",
      "yt : [INFO     ] 2024-07-22 16:10:37,609 Parameters: domain_left_edge          = [-4. -2. -2.]\n",
      "yt : [INFO     ] 2024-07-22 16:10:37,610 Parameters: domain_right_edge         = [1. 2. 2.]\n",
      "yt : [INFO     ] 2024-07-22 16:10:38,425 Parameters: current_time              = 63.40050083154054\n",
      "yt : [INFO     ] 2024-07-22 16:10:38,426 Parameters: domain_dimensions         = [320 256 256]\n",
      "yt : [INFO     ] 2024-07-22 16:10:38,427 Parameters: domain_left_edge          = [-4. -2. -2.]\n",
      "yt : [INFO     ] 2024-07-22 16:10:38,427 Parameters: domain_right_edge         = [1. 2. 2.]\n",
      "yt : [INFO     ] 2024-07-22 16:10:38,446 Parameters: current_time              = 63.40050083154054\n",
      "yt : [INFO     ] 2024-07-22 16:10:38,447 Parameters: domain_dimensions         = [320 256 256]\n",
      "yt : [INFO     ] 2024-07-22 16:10:38,447 Parameters: domain_left_edge          = [-4. -2. -2.]\n",
      "yt : [INFO     ] 2024-07-22 16:10:38,448 Parameters: domain_right_edge         = [1. 2. 2.]\n"
     ]
    },
    {
     "name": "stdout",
     "output_type": "stream",
     "text": [
      "Plotting t = 63.4\n"
     ]
    },
    {
     "name": "stderr",
     "output_type": "stream",
     "text": [
      "yt : [WARNING  ] 2024-07-22 16:10:40,060 Field ('particle', 'unit_one') was added without specifying units or dimensions, auto setting units to \n",
      "yt : [INFO     ] 2024-07-22 16:10:40,124 Parameters: current_time              = 63.40050083154054\n",
      "yt : [INFO     ] 2024-07-22 16:10:40,124 Parameters: domain_dimensions         = [320 256 256]\n",
      "yt : [INFO     ] 2024-07-22 16:10:40,125 Parameters: domain_left_edge          = [-4. -2. -2.]\n",
      "yt : [INFO     ] 2024-07-22 16:10:40,126 Parameters: domain_right_edge         = [1. 2. 2.]\n",
      "yt : [INFO     ] 2024-07-22 16:10:40,144 Parameters: current_time              = 63.40050083154054\n",
      "yt : [INFO     ] 2024-07-22 16:10:40,144 Parameters: domain_dimensions         = [320 256 256]\n",
      "yt : [INFO     ] 2024-07-22 16:10:40,145 Parameters: domain_left_edge          = [-4. -2. -2.]\n",
      "yt : [INFO     ] 2024-07-22 16:10:40,146 Parameters: domain_right_edge         = [1. 2. 2.]\n",
      "yt : [INFO     ] 2024-07-22 16:10:40,995 Parameters: current_time              = 63.60054033864819\n",
      "yt : [INFO     ] 2024-07-22 16:10:40,996 Parameters: domain_dimensions         = [320 256 256]\n",
      "yt : [INFO     ] 2024-07-22 16:10:40,996 Parameters: domain_left_edge          = [-4. -2. -2.]\n",
      "yt : [INFO     ] 2024-07-22 16:10:40,997 Parameters: domain_right_edge         = [1. 2. 2.]\n",
      "yt : [INFO     ] 2024-07-22 16:10:41,016 Parameters: current_time              = 63.60054033864819\n",
      "yt : [INFO     ] 2024-07-22 16:10:41,017 Parameters: domain_dimensions         = [320 256 256]\n",
      "yt : [INFO     ] 2024-07-22 16:10:41,018 Parameters: domain_left_edge          = [-4. -2. -2.]\n",
      "yt : [INFO     ] 2024-07-22 16:10:41,018 Parameters: domain_right_edge         = [1. 2. 2.]\n"
     ]
    },
    {
     "name": "stdout",
     "output_type": "stream",
     "text": [
      "Plotting t = 63.6\n"
     ]
    },
    {
     "name": "stderr",
     "output_type": "stream",
     "text": [
      "yt : [WARNING  ] 2024-07-22 16:10:42,627 Field ('particle', 'unit_one') was added without specifying units or dimensions, auto setting units to \n",
      "yt : [INFO     ] 2024-07-22 16:10:42,693 Parameters: current_time              = 63.60054033864819\n",
      "yt : [INFO     ] 2024-07-22 16:10:42,694 Parameters: domain_dimensions         = [320 256 256]\n",
      "yt : [INFO     ] 2024-07-22 16:10:42,695 Parameters: domain_left_edge          = [-4. -2. -2.]\n",
      "yt : [INFO     ] 2024-07-22 16:10:42,695 Parameters: domain_right_edge         = [1. 2. 2.]\n",
      "yt : [INFO     ] 2024-07-22 16:10:42,714 Parameters: current_time              = 63.60054033864819\n",
      "yt : [INFO     ] 2024-07-22 16:10:42,714 Parameters: domain_dimensions         = [320 256 256]\n",
      "yt : [INFO     ] 2024-07-22 16:10:42,715 Parameters: domain_left_edge          = [-4. -2. -2.]\n",
      "yt : [INFO     ] 2024-07-22 16:10:42,716 Parameters: domain_right_edge         = [1. 2. 2.]\n",
      "yt : [INFO     ] 2024-07-22 16:10:43,556 Parameters: current_time              = 63.801326701897736\n",
      "yt : [INFO     ] 2024-07-22 16:10:43,557 Parameters: domain_dimensions         = [320 256 256]\n",
      "yt : [INFO     ] 2024-07-22 16:10:43,557 Parameters: domain_left_edge          = [-4. -2. -2.]\n",
      "yt : [INFO     ] 2024-07-22 16:10:43,558 Parameters: domain_right_edge         = [1. 2. 2.]\n",
      "yt : [INFO     ] 2024-07-22 16:10:43,577 Parameters: current_time              = 63.801326701897736\n",
      "yt : [INFO     ] 2024-07-22 16:10:43,577 Parameters: domain_dimensions         = [320 256 256]\n",
      "yt : [INFO     ] 2024-07-22 16:10:43,578 Parameters: domain_left_edge          = [-4. -2. -2.]\n",
      "yt : [INFO     ] 2024-07-22 16:10:43,579 Parameters: domain_right_edge         = [1. 2. 2.]\n"
     ]
    },
    {
     "name": "stdout",
     "output_type": "stream",
     "text": [
      "Plotting t = 63.8\n"
     ]
    },
    {
     "name": "stderr",
     "output_type": "stream",
     "text": [
      "yt : [WARNING  ] 2024-07-22 16:10:45,209 Field ('particle', 'unit_one') was added without specifying units or dimensions, auto setting units to \n",
      "yt : [INFO     ] 2024-07-22 16:10:45,448 Parameters: current_time              = 63.801326701897736\n",
      "yt : [INFO     ] 2024-07-22 16:10:45,449 Parameters: domain_dimensions         = [320 256 256]\n",
      "yt : [INFO     ] 2024-07-22 16:10:45,449 Parameters: domain_left_edge          = [-4. -2. -2.]\n",
      "yt : [INFO     ] 2024-07-22 16:10:45,450 Parameters: domain_right_edge         = [1. 2. 2.]\n",
      "yt : [INFO     ] 2024-07-22 16:10:45,469 Parameters: current_time              = 63.801326701897736\n",
      "yt : [INFO     ] 2024-07-22 16:10:45,469 Parameters: domain_dimensions         = [320 256 256]\n",
      "yt : [INFO     ] 2024-07-22 16:10:45,470 Parameters: domain_left_edge          = [-4. -2. -2.]\n",
      "yt : [INFO     ] 2024-07-22 16:10:45,471 Parameters: domain_right_edge         = [1. 2. 2.]\n",
      "yt : [INFO     ] 2024-07-22 16:10:46,134 Parameters: current_time              = 64.00030371151118\n",
      "yt : [INFO     ] 2024-07-22 16:10:46,134 Parameters: domain_dimensions         = [320 256 256]\n",
      "yt : [INFO     ] 2024-07-22 16:10:46,135 Parameters: domain_left_edge          = [-4. -2. -2.]\n",
      "yt : [INFO     ] 2024-07-22 16:10:46,136 Parameters: domain_right_edge         = [1. 2. 2.]\n",
      "yt : [INFO     ] 2024-07-22 16:10:46,155 Parameters: current_time              = 64.00030371151118\n",
      "yt : [INFO     ] 2024-07-22 16:10:46,155 Parameters: domain_dimensions         = [320 256 256]\n",
      "yt : [INFO     ] 2024-07-22 16:10:46,156 Parameters: domain_left_edge          = [-4. -2. -2.]\n",
      "yt : [INFO     ] 2024-07-22 16:10:46,157 Parameters: domain_right_edge         = [1. 2. 2.]\n"
     ]
    },
    {
     "name": "stdout",
     "output_type": "stream",
     "text": [
      "Plotting t = 64.0\n"
     ]
    },
    {
     "name": "stderr",
     "output_type": "stream",
     "text": [
      "yt : [WARNING  ] 2024-07-22 16:10:47,794 Field ('particle', 'unit_one') was added without specifying units or dimensions, auto setting units to \n",
      "yt : [INFO     ] 2024-07-22 16:10:48,043 Parameters: current_time              = 64.00030371151118\n",
      "yt : [INFO     ] 2024-07-22 16:10:48,044 Parameters: domain_dimensions         = [320 256 256]\n",
      "yt : [INFO     ] 2024-07-22 16:10:48,045 Parameters: domain_left_edge          = [-4. -2. -2.]\n",
      "yt : [INFO     ] 2024-07-22 16:10:48,045 Parameters: domain_right_edge         = [1. 2. 2.]\n",
      "yt : [INFO     ] 2024-07-22 16:10:48,063 Parameters: current_time              = 64.00030371151118\n",
      "yt : [INFO     ] 2024-07-22 16:10:48,064 Parameters: domain_dimensions         = [320 256 256]\n",
      "yt : [INFO     ] 2024-07-22 16:10:48,065 Parameters: domain_left_edge          = [-4. -2. -2.]\n",
      "yt : [INFO     ] 2024-07-22 16:10:48,065 Parameters: domain_right_edge         = [1. 2. 2.]\n",
      "yt : [INFO     ] 2024-07-22 16:10:48,713 Parameters: current_time              = 64.20001818136285\n",
      "yt : [INFO     ] 2024-07-22 16:10:48,714 Parameters: domain_dimensions         = [320 256 256]\n",
      "yt : [INFO     ] 2024-07-22 16:10:48,715 Parameters: domain_left_edge          = [-4. -2. -2.]\n",
      "yt : [INFO     ] 2024-07-22 16:10:48,715 Parameters: domain_right_edge         = [1. 2. 2.]\n",
      "yt : [INFO     ] 2024-07-22 16:10:48,734 Parameters: current_time              = 64.20001818136285\n",
      "yt : [INFO     ] 2024-07-22 16:10:48,735 Parameters: domain_dimensions         = [320 256 256]\n",
      "yt : [INFO     ] 2024-07-22 16:10:48,735 Parameters: domain_left_edge          = [-4. -2. -2.]\n",
      "yt : [INFO     ] 2024-07-22 16:10:48,736 Parameters: domain_right_edge         = [1. 2. 2.]\n"
     ]
    },
    {
     "name": "stdout",
     "output_type": "stream",
     "text": [
      "Plotting t = 64.2\n"
     ]
    },
    {
     "name": "stderr",
     "output_type": "stream",
     "text": [
      "yt : [WARNING  ] 2024-07-22 16:10:50,512 Field ('particle', 'unit_one') was added without specifying units or dimensions, auto setting units to \n",
      "yt : [INFO     ] 2024-07-22 16:10:50,577 Parameters: current_time              = 64.20001818136285\n",
      "yt : [INFO     ] 2024-07-22 16:10:50,578 Parameters: domain_dimensions         = [320 256 256]\n",
      "yt : [INFO     ] 2024-07-22 16:10:50,578 Parameters: domain_left_edge          = [-4. -2. -2.]\n",
      "yt : [INFO     ] 2024-07-22 16:10:50,579 Parameters: domain_right_edge         = [1. 2. 2.]\n",
      "yt : [INFO     ] 2024-07-22 16:10:50,597 Parameters: current_time              = 64.20001818136285\n",
      "yt : [INFO     ] 2024-07-22 16:10:50,598 Parameters: domain_dimensions         = [320 256 256]\n",
      "yt : [INFO     ] 2024-07-22 16:10:50,598 Parameters: domain_left_edge          = [-4. -2. -2.]\n",
      "yt : [INFO     ] 2024-07-22 16:10:50,599 Parameters: domain_right_edge         = [1. 2. 2.]\n",
      "yt : [INFO     ] 2024-07-22 16:10:51,260 Parameters: current_time              = 64.40128991949511\n",
      "yt : [INFO     ] 2024-07-22 16:10:51,260 Parameters: domain_dimensions         = [320 256 256]\n",
      "yt : [INFO     ] 2024-07-22 16:10:51,261 Parameters: domain_left_edge          = [-4. -2. -2.]\n",
      "yt : [INFO     ] 2024-07-22 16:10:51,262 Parameters: domain_right_edge         = [1. 2. 2.]\n",
      "yt : [INFO     ] 2024-07-22 16:10:51,280 Parameters: current_time              = 64.40128991949511\n",
      "yt : [INFO     ] 2024-07-22 16:10:51,281 Parameters: domain_dimensions         = [320 256 256]\n",
      "yt : [INFO     ] 2024-07-22 16:10:51,281 Parameters: domain_left_edge          = [-4. -2. -2.]\n",
      "yt : [INFO     ] 2024-07-22 16:10:51,282 Parameters: domain_right_edge         = [1. 2. 2.]\n"
     ]
    },
    {
     "name": "stdout",
     "output_type": "stream",
     "text": [
      "Plotting t = 64.4\n"
     ]
    },
    {
     "name": "stderr",
     "output_type": "stream",
     "text": [
      "yt : [WARNING  ] 2024-07-22 16:10:53,065 Field ('particle', 'unit_one') was added without specifying units or dimensions, auto setting units to \n",
      "yt : [INFO     ] 2024-07-22 16:10:53,132 Parameters: current_time              = 64.40128991949511\n",
      "yt : [INFO     ] 2024-07-22 16:10:53,132 Parameters: domain_dimensions         = [320 256 256]\n",
      "yt : [INFO     ] 2024-07-22 16:10:53,133 Parameters: domain_left_edge          = [-4. -2. -2.]\n",
      "yt : [INFO     ] 2024-07-22 16:10:53,134 Parameters: domain_right_edge         = [1. 2. 2.]\n",
      "yt : [INFO     ] 2024-07-22 16:10:53,152 Parameters: current_time              = 64.40128991949511\n",
      "yt : [INFO     ] 2024-07-22 16:10:53,152 Parameters: domain_dimensions         = [320 256 256]\n",
      "yt : [INFO     ] 2024-07-22 16:10:53,153 Parameters: domain_left_edge          = [-4. -2. -2.]\n",
      "yt : [INFO     ] 2024-07-22 16:10:53,153 Parameters: domain_right_edge         = [1. 2. 2.]\n",
      "yt : [INFO     ] 2024-07-22 16:10:53,815 Parameters: current_time              = 64.60021985749586\n",
      "yt : [INFO     ] 2024-07-22 16:10:53,816 Parameters: domain_dimensions         = [320 256 256]\n",
      "yt : [INFO     ] 2024-07-22 16:10:53,816 Parameters: domain_left_edge          = [-4. -2. -2.]\n",
      "yt : [INFO     ] 2024-07-22 16:10:53,817 Parameters: domain_right_edge         = [1. 2. 2.]\n",
      "yt : [INFO     ] 2024-07-22 16:10:53,836 Parameters: current_time              = 64.60021985749586\n",
      "yt : [INFO     ] 2024-07-22 16:10:53,836 Parameters: domain_dimensions         = [320 256 256]\n",
      "yt : [INFO     ] 2024-07-22 16:10:53,837 Parameters: domain_left_edge          = [-4. -2. -2.]\n",
      "yt : [INFO     ] 2024-07-22 16:10:53,837 Parameters: domain_right_edge         = [1. 2. 2.]\n"
     ]
    },
    {
     "name": "stdout",
     "output_type": "stream",
     "text": [
      "Plotting t = 64.6\n"
     ]
    },
    {
     "name": "stderr",
     "output_type": "stream",
     "text": [
      "yt : [WARNING  ] 2024-07-22 16:10:55,658 Field ('particle', 'unit_one') was added without specifying units or dimensions, auto setting units to \n",
      "yt : [INFO     ] 2024-07-22 16:10:55,729 Parameters: current_time              = 64.60021985749586\n",
      "yt : [INFO     ] 2024-07-22 16:10:55,730 Parameters: domain_dimensions         = [320 256 256]\n",
      "yt : [INFO     ] 2024-07-22 16:10:55,731 Parameters: domain_left_edge          = [-4. -2. -2.]\n",
      "yt : [INFO     ] 2024-07-22 16:10:55,732 Parameters: domain_right_edge         = [1. 2. 2.]\n",
      "yt : [INFO     ] 2024-07-22 16:10:55,750 Parameters: current_time              = 64.60021985749586\n",
      "yt : [INFO     ] 2024-07-22 16:10:55,751 Parameters: domain_dimensions         = [320 256 256]\n",
      "yt : [INFO     ] 2024-07-22 16:10:55,751 Parameters: domain_left_edge          = [-4. -2. -2.]\n",
      "yt : [INFO     ] 2024-07-22 16:10:55,752 Parameters: domain_right_edge         = [1. 2. 2.]\n",
      "yt : [INFO     ] 2024-07-22 16:10:56,425 Parameters: current_time              = 64.80138639009368\n",
      "yt : [INFO     ] 2024-07-22 16:10:56,426 Parameters: domain_dimensions         = [320 256 256]\n",
      "yt : [INFO     ] 2024-07-22 16:10:56,427 Parameters: domain_left_edge          = [-4. -2. -2.]\n",
      "yt : [INFO     ] 2024-07-22 16:10:56,427 Parameters: domain_right_edge         = [1. 2. 2.]\n",
      "yt : [INFO     ] 2024-07-22 16:10:56,446 Parameters: current_time              = 64.80138639009368\n",
      "yt : [INFO     ] 2024-07-22 16:10:56,447 Parameters: domain_dimensions         = [320 256 256]\n",
      "yt : [INFO     ] 2024-07-22 16:10:56,447 Parameters: domain_left_edge          = [-4. -2. -2.]\n",
      "yt : [INFO     ] 2024-07-22 16:10:56,448 Parameters: domain_right_edge         = [1. 2. 2.]\n"
     ]
    },
    {
     "name": "stdout",
     "output_type": "stream",
     "text": [
      "Plotting t = 64.8\n"
     ]
    },
    {
     "name": "stderr",
     "output_type": "stream",
     "text": [
      "yt : [WARNING  ] 2024-07-22 16:10:58,264 Field ('particle', 'unit_one') was added without specifying units or dimensions, auto setting units to \n",
      "yt : [INFO     ] 2024-07-22 16:10:58,331 Parameters: current_time              = 64.80138639009368\n",
      "yt : [INFO     ] 2024-07-22 16:10:58,331 Parameters: domain_dimensions         = [320 256 256]\n",
      "yt : [INFO     ] 2024-07-22 16:10:58,332 Parameters: domain_left_edge          = [-4. -2. -2.]\n",
      "yt : [INFO     ] 2024-07-22 16:10:58,333 Parameters: domain_right_edge         = [1. 2. 2.]\n",
      "yt : [INFO     ] 2024-07-22 16:10:58,351 Parameters: current_time              = 64.80138639009368\n",
      "yt : [INFO     ] 2024-07-22 16:10:58,351 Parameters: domain_dimensions         = [320 256 256]\n",
      "yt : [INFO     ] 2024-07-22 16:10:58,352 Parameters: domain_left_edge          = [-4. -2. -2.]\n",
      "yt : [INFO     ] 2024-07-22 16:10:58,352 Parameters: domain_right_edge         = [1. 2. 2.]\n"
     ]
    }
   ],
   "source": [
    "####### START USER INPUT ###########\n",
    "folder = \"/Users/atcushen/Documents/MercuryModelling/runs/nightside_v1_run3/ta-5\"\n",
    "file = \"cut_particle_region0_0_t00000031_n00016670_amrex/\"\n",
    "loc=[-1.4,-0.2,0.125]  # Location of sphere to sample particles in\n",
    "radius=(0.05)  # Size of sphere\n",
    "plot_preset = \"v_para-v_perp\"\n",
    "multi = True # Loop through files and save multiple panels?\n",
    "start_time = 55            # What is the earliest time saved in this directory?\n",
    "t_bound = [55,65]                # Start and stop times to loop through\n",
    "dt = 0.2  # time step between files\n",
    "make_gif = False    # whether to save a gif. Not working at the moment\n",
    "####### END USER INPUT ###########\n",
    "dir = str(folder+\"/\")\n",
    "\"\"\" \n",
    "PRESETS:\n",
    "vx_vy-vx_vz: plot of raw particle velocity distribution at loc, using standard values for controls. \n",
    "\n",
    "v_para-v_perp: plot of particle velocity distribution at loc, in parallel / perpendicular coords\n",
    "\n",
    "\"\"\"\n",
    "\n",
    "# Make a dictionary with better names for the files:\n",
    "#named_files = {}\n",
    "#for i in range(len(files)):\n",
    "#    time = round(i*dt+start_time,3)\n",
    "#    named_files[time] = files[i]\n",
    "\n",
    "def get_directories(dir, key=\".*cut_particle_region0.*\"):\n",
    "    # For a directory \"dir\", return a list of all files which match the regex expression \"key\"\n",
    "    all_files = [ f.name for f in os.scandir(dir) if f.is_dir() ]\n",
    "    files=[]\n",
    "    for file in all_files:\n",
    "        match = re.search(key,file)\n",
    "        if match != None:\n",
    "            files.append(file)\n",
    "    files.sort()\n",
    "    # Now give them the appropriate name for their time\n",
    "    named_files = {}\n",
    "    for i in range(len(files)):\n",
    "        time = round(i*dt+start_time,3)\n",
    "        named_files[time] = files[i]\n",
    "    # Now cut the list down to files inside t_bound\n",
    "    reduced_files = {}\n",
    "    for time in list(named_files.keys())[int((t_bound[0]-start_time)/dt):int((t_bound[1]-start_time)/dt)]: #only loop over the times within t_bound\n",
    "        reduced_files[time] = str(named_files[time])\n",
    "    return reduced_files\n",
    "\n",
    "def _unit_one(field, data):\n",
    "    res = np.zeros(data[('particle', 'p_w')].shape)\n",
    "    res[:] = 1\n",
    "    return res\n",
    "\n",
    "def get_B_at_loc(loc,data):\n",
    "    # Input coordinates and ds of file to get B at that location\n",
    "    dc = data.get_slice(\"z\",loc[2])\n",
    "\n",
    "    # Pull the coord data\n",
    "    x,y = dc.x.value, dc.y.value\n",
    "    \n",
    "    # Find the cell indices surrounding loc\n",
    "    xi_min = np.where(x < loc[0])[0][-1]\n",
    "    yi_min = np.where(y < loc[1])[0][-1]\n",
    "    \n",
    "    # Define the trimmed meshgrids\n",
    "    xx,yy = np.meshgrid(x[xi_min:xi_min+2],y[yi_min:yi_min+2])\n",
    "    \n",
    "    # Pull only the relevant mag data\n",
    "    Bx = np.array(dc.evaluate_expression(\"Bx\").T)[xi_min:xi_min+2,yi_min:yi_min+2]\n",
    "    By = np.array(dc.evaluate_expression(\"By\").T)[xi_min:xi_min+2,yi_min:yi_min+2]\n",
    "    Bz = np.array(dc.evaluate_expression(\"Bz\").T)[xi_min:xi_min+2,yi_min:yi_min+2]\n",
    "\n",
    "    # Do a little interpolation: B = B[0,0] + dB/dX dx + dB/dY dy\n",
    "    Bx_loc = Bx[0,0] + (Bx[0,1]-Bx[0,0])/(xx[0,1]-xx[0,0])*(loc[0]-xx[0,0]) + (Bx[1,0]-Bx[0,0])/(yy[1,0]-yy[0,0])*(loc[1]-yy[0,0])\n",
    "    By_loc = By[0,0] + (By[0,1]-By[0,0])/(xx[0,1]-xx[0,0])*(loc[0]-xx[0,0]) + (By[1,0]-By[0,0])/(yy[1,0]-yy[0,0])*(loc[1]-yy[0,0])\n",
    "    Bz_loc = Bz[0,0] + (Bz[0,1]-Bz[0,0])/(xx[0,1]-xx[0,0])*(loc[0]-xx[0,0]) + (Bz[1,0]-Bz[0,0])/(yy[1,0]-yy[0,0])*(loc[1]-yy[0,0])\n",
    "\n",
    "    return Bx_loc,By_loc,Bz_loc\n",
    "\n",
    "def get_B_at_loc_from_fluid(file,loc):\n",
    "    # Hand the file name of cut data being used, for which the corresponding fluid data will be opened to read B\n",
    "    # This was created as a workaround to get_B_at_loc, which started to fail since it read B as being 0. Couldn't work out why,\n",
    "    # so now we rely on also downloading the fluid data\n",
    "    # First, extract the iteration number from the filename\n",
    "    iteration = file[-15:]\n",
    "\n",
    "    # Then, pull the matching 3d fluid file\n",
    "    fluid_file = get_directories(dir, key=str(\".*3d_fluid.*\"+iteration))\n",
    "    fluid_file = fluid_file[list(fluid_file.keys())[0]]\n",
    "\n",
    "    # Load the data and slice\n",
    "    fluid_ds = fleks.load(str(dir+fluid_file))\n",
    "    dc = fluid_ds.get_slice(\"z\",loc[2])\n",
    "\n",
    "    # Pull the coord data\n",
    "    x,y = dc.x.value, dc.y.value\n",
    "    \n",
    "    # Find the cell indices surrounding loc\n",
    "    xi_min = np.where(x < loc[0])[0][-1]\n",
    "    yi_min = np.where(y < loc[1])[0][-1]\n",
    "    \n",
    "    # Define the trimmed meshgrids\n",
    "    xx,yy = np.meshgrid(x[xi_min:xi_min+2],y[yi_min:yi_min+2])\n",
    "    \n",
    "    # Pull only the relevant mag data\n",
    "    Bx = np.array(dc.evaluate_expression(\"Bx\"))[xi_min:xi_min+2,yi_min:yi_min+2].T\n",
    "    By = np.array(dc.evaluate_expression(\"By\"))[xi_min:xi_min+2,yi_min:yi_min+2].T\n",
    "    Bz = np.array(dc.evaluate_expression(\"Bz\"))[xi_min:xi_min+2,yi_min:yi_min+2].T\n",
    "\n",
    "    # Do a little interpolation: B = B[0,0] + dB/dX dx + dB/dY dy\n",
    "    Bx_loc = Bx[0,0] + (Bx[0,1]-Bx[0,0])/(xx[0,1]-xx[0,0])*(loc[0]-xx[0,0]) + (Bx[1,0]-Bx[0,0])/(yy[1,0]-yy[0,0])*(loc[1]-yy[0,0])\n",
    "    By_loc = By[0,0] + (By[0,1]-By[0,0])/(xx[0,1]-xx[0,0])*(loc[0]-xx[0,0]) + (By[1,0]-By[0,0])/(yy[1,0]-yy[0,0])*(loc[1]-yy[0,0])\n",
    "    Bz_loc = Bz[0,0] + (Bz[0,1]-Bz[0,0])/(xx[0,1]-xx[0,0])*(loc[0]-xx[0,0]) + (Bz[1,0]-Bz[0,0])/(yy[1,0]-yy[0,0])*(loc[1]-yy[0,0])\n",
    "\n",
    "    return Bx_loc,By_loc,Bz_loc\n",
    "\n",
    "def get_particle_np(file, x_axis='p_ux', y_axis='p_uy', bins=64, v_lim = 2500):\n",
    "    # Get the particle distribution in numpy format.\n",
    "    # File is the directory of the amrex folder (e.g. /Users/*_amrex/\"\n",
    "    # x_axis and y_axis are what quantities to extract e.g. 'p_x','p_y'\n",
    "    # Bins is how many bins to divide into\n",
    "    # v_lim is the maximum velocity to extract (in km/s)\n",
    "    # Outputs the meshgrids of velocities (in km/s), and the number of particles in each of those grid cells\n",
    "\n",
    "    # Load the file\n",
    "    ds = fleks.load(file)\n",
    "\n",
    "    if x_axis == 'p_ux': # just check what the x_axis is to determine which mode we are in; this is temporary\n",
    "        ds.add_field((\"particle\", \"unit_one\"), function=_unit_one, sampling_type='particle')\n",
    "        sp = ds.sphere(loc,radius)\n",
    "        z_field = 'unit_one'\n",
    "        plot = ds.plot_phase_region(sp, x_axis, y_axis, z_field, unit_type=\"planet\", \n",
    "                                        x_bins=bins, y_bins=bins, domain_size=(-v_lim, v_lim, -v_lim, v_lim))\n",
    "    \n",
    "        for var_name in plot.profile.field_data: \n",
    "            counts_temp = plot.profile.field_data[var_name].T # take the transpose, which seems to be necessary. Bit worried about that.\n",
    "\n",
    "    elif x_axis == 'v_para': \n",
    "        # Do a little interpolation: B = B[0,0] + dB/dX dx + dB/dY dy\n",
    "        Bx_loc,By_loc,Bz_loc = get_B_at_loc_from_fluid(file,loc)\n",
    "        \n",
    "        # Define magnetic field unit vectors at loc\n",
    "        bhat = [Bx_loc,By_loc,Bz_loc]/np.sqrt(Bx_loc**2+By_loc**2+Bz_loc**2)\n",
    "        \n",
    "        # Sometimes B is identically 0 for some weird reason... so we get nan for bhat. Not sure how this is possible.\n",
    "        bhat[np.isnan(bhat)] = 0\n",
    "        bx,by,bz = bhat\n",
    "        \n",
    "        # For the particle data, we must create user-defined fields for the parallel and perpedicular components. See notebook for handwritten derivation.\n",
    "        def _vel_para(field, data): # This is basically v_para = v . b\n",
    "            res = bx*data[('particle', 'p_ux')] + by*data[('particle', 'p_uy')] + bz*data[('particle', 'p_uz')]        \n",
    "            return res\n",
    "        def _vel_perp(field, data): # This is v_perp = v - v_para\n",
    "            res = (( data[('particle', 'p_ux')] - bx * ( bx*data[('particle', 'p_ux')]) + by*data[('particle', 'p_uy')] + bz*data[('particle', 'p_uz')] )**2 +\n",
    "                   ( data[('particle', 'p_uy')] - by * ( bx*data[('particle', 'p_ux')]) + by*data[('particle', 'p_uy')] + bz*data[('particle', 'p_uz')] )**2 +\n",
    "                   ( data[('particle', 'p_uz')] - bz * ( bx*data[('particle', 'p_ux')]) + by*data[('particle', 'p_uy')] + bz*data[('particle', 'p_uz')] )**2 )**0.5        \n",
    "            return res\n",
    "        \n",
    "        # Add the fields to the dataset\n",
    "        vpara_name = ds.pvar(\"vel_para\")\n",
    "        vperp_name = ds.pvar(\"vel_perp\")\n",
    "        ds.add_field(vpara_name, units=\"code_velocity\", function=_vel_para, sampling_type='particle')\n",
    "        ds.add_field(vperp_name, units=\"code_velocity\", function=_vel_perp, sampling_type='particle')\n",
    "\n",
    "        # Generate plot \n",
    "        ds.add_field((\"particle\", \"unit_one\"), function=_unit_one, sampling_type='particle')\n",
    "        sp = ds.sphere(loc,radius)\n",
    "        x_field = vpara_name\n",
    "        y_field = vperp_name\n",
    "        z_field = (\"particle\", \"unit_one\")#ds.pvar('p_w')\n",
    "        logs = {x_field: False, y_field: False}\n",
    "        profile = yt.create_profile(data_source=sp, bin_fields=[x_field,y_field], fields=z_field, n_bins=[64,64], weight_field=None, logs=logs)\n",
    "        plot = yt.PhasePlot.from_profile(profile)\n",
    "        plot.set_unit(x_field, \"km/s\")\n",
    "        plot.set_unit(y_field, \"km/s\")\n",
    "        plot.set_unit(z_field, \"amu\")\n",
    "        for var_name in plot.profile.field_data: \n",
    "            counts_temp = plot.profile.field_data[var_name].T\n",
    "\n",
    "    # Convert to np. Define output arrays without units\n",
    "    x_temp = plot.profile.x\n",
    "    y_temp = plot.profile.y\n",
    "    x=np.zeros(x_temp.shape)\n",
    "    y=np.zeros(y_temp.shape)\n",
    "    counts=np.zeros(counts_temp.shape)\n",
    "    x[:]=x_temp[:]\n",
    "    y[:]=y_temp[:]\n",
    "    counts[:,:]=counts_temp[:,:]\n",
    "    xx,yy=np.meshgrid(x,y)\n",
    "\n",
    "    return xx,yy,counts\n",
    "\n",
    "def generate_gif(folder, key=str(plot_preset+\"*\")):\n",
    "    #read all the .png files in directory \"frames\" \n",
    "    print(folder)\n",
    "    print(key)\n",
    "    gif_files = glob.glob(str(folder+\"/\"+key))\n",
    "    print(gif_files)\n",
    "    image_array = []\n",
    "    gif_files = natsorted(gif_files)\n",
    "    \n",
    "    for my_file in gif_files:\n",
    "        image = Image.open(gif_files)\n",
    "        image_array.append(image)\n",
    "        \n",
    "    # Create the figure and axes objects\n",
    "    fig, ax = plt.subplots(figsize=(8, 8))\n",
    "    \n",
    "    # Set the initial image\n",
    "    im = ax.imshow(image_array[0], animated=True)\n",
    "    plt.axis('off')\n",
    "    \n",
    "    def update(i):\n",
    "        im.set_array(image_array[i])\n",
    "        return im, \n",
    "    \n",
    "    # Create the animation object\n",
    "    animation_fig = animation.FuncAnimation(fig, update, frames=len(image_array), interval=200, blit=True,repeat_delay=10,)\n",
    "    \n",
    "    animation_fig.save(str(folder+\"_plots/\"+\"animated.gif\"),dpi=500)\n",
    "    plt.close(fig)\n",
    "\n",
    "def particle_plots(mode):\n",
    "    # Generates the desired plot for the given preset.\n",
    "\n",
    "    if mode == \"vx_vy-vx_vz\":\n",
    "        # Define the files to read\n",
    "        if multi:\n",
    "            print(\"Plotting all files in dir\")\n",
    "            files = get_directories(dir)\n",
    "        else:\n",
    "            files = {str(round(start_time,3)):str(file)}\n",
    "\n",
    "        # Loop over the identified files\n",
    "        for time in list(files.keys()): \n",
    "            print(\"Plotting t =\",time)\n",
    "            file = str(files[time])\n",
    "        \n",
    "            # Get data\n",
    "            data_file = dir+file\n",
    "            xx,yy,counts_xy = get_particle_np(data_file,'p_ux','p_uy')\n",
    "            xx,zz,counts_xz = get_particle_np(data_file,'p_ux','p_uz')\n",
    "    \n",
    "            # Set colorbar limits\n",
    "            cmin = 1\n",
    "            cmax = 100#max(counts_xy.max(),counts_xz.max())\n",
    "    \n",
    "            # Plot\n",
    "            fig, axs = plt.subplots(ncols=2,figsize=(13,5))\n",
    "            im0=axs[0].imshow(counts_xy, extent=[xx.min(), xx.max(), yy.min(), yy.max()],origin=\"lower\",norm=LogNorm(vmin=cmin,vmax=cmax))\n",
    "            im1=axs[1].imshow(counts_xz, extent=[xx.min(), xx.max(), zz.min(), zz.max()],origin=\"lower\",norm=LogNorm(vmin=cmin,vmax=cmax))\n",
    "    \n",
    "            # Add labels\n",
    "            axs[0].set_xlabel(\"$v_x$ [km/s]\")\n",
    "            axs[0].set_ylabel(\"$v_y$ [km/s]\")\n",
    "            axs[1].set_xlabel(\"$v_x$ [km/s]\")\n",
    "            axs[1].set_ylabel(\"$v_z$ [km/s]\")\n",
    "            axs[0].set_title(str(\"Velocity distribution  r=\"+str(loc)+\"   t=\"+str(round(time,2))+\"s\"))\n",
    "    \n",
    "            # Add grid\n",
    "            axs[0].grid(alpha=0.5)\n",
    "            axs[1].grid(alpha=0.5)\n",
    "    \n",
    "            # Add colorbar\n",
    "            fig.subplots_adjust(right=0.84)\n",
    "            cbar_ax = fig.add_axes([0.85, 0.15, 0.01, 0.7])\n",
    "            fig.colorbar(im1, cax=cbar_ax, label = \"Counts\")\n",
    "    \n",
    "            # Save\n",
    "            fig.savefig(str(folder+\"_plots/\"+plot_preset+\"_\"+str(loc)+\"_\"+str(round(time,2))+'.png'),bbox_inches='tight')\n",
    "\n",
    "            if multi:\n",
    "                plt.close()\n",
    "\n",
    "            else:\n",
    "                plt.show()\n",
    "        \n",
    "        if make_gif:\n",
    "            generate_gif(folder)\n",
    "\n",
    "    if mode == \"v_para-v_perp\":\n",
    "        # Define the files to read\n",
    "        if multi:\n",
    "            print(\"Plotting all files in dir\")\n",
    "            files = get_directories(dir)\n",
    "        else:\n",
    "            files = {str(round(start_time,3)):str(file)}\n",
    "\n",
    "        # Loop over the identified files\n",
    "        for time in list(files.keys()): \n",
    "            print(\"Plotting t =\",time)\n",
    "            file = str(files[time])\n",
    "\n",
    "            # Get data\n",
    "            data_file = dir+file\n",
    "            xx,yy,counts = get_particle_np(data_file,'v_para','v_perp')\n",
    "            \n",
    "            # Get B field data\n",
    "            ds = fleks.load(data_file)\n",
    "            Bx_loc,By_loc,Bz_loc = get_B_at_loc_from_fluid(file,loc)\n",
    "            \n",
    "            # Set colorbar limits\n",
    "            cmin = 1\n",
    "            cmax = 100\n",
    "    \n",
    "            # Plot\n",
    "            fig, ax = plt.subplots(ncols=1,figsize=(7,7))\n",
    "            im=ax.imshow(counts.T, extent=[yy.min(), yy.max(), xx.min(), xx.max()],origin=\"lower\",norm=LogNorm(vmin=cmin,vmax=cmax))\n",
    "    \n",
    "            # Add labels\n",
    "            ax.set_ylabel(\"$v_{para}$ [km/s]\")\n",
    "            ax.set_xlabel(\"$v_{perp}$ [km/s]\")\n",
    "            ax.set_title(str(\"Velocity distribution  r=\"+str(loc)+\"   t=\"+str(round(time,2))+\"s \\n Local B: (\"+str(round(Bx_loc,3))+\", \"+str(round(By_loc,3))+\", \"+str(round(Bz_loc,3))+\")\"))\n",
    "            ax.set_ylim(-1600,1600)\n",
    "            ax.set_xlim(0,3000)\n",
    "    \n",
    "            # Add grid\n",
    "            ax.grid(alpha=0.5)\n",
    "            ax.grid(alpha=0.5)\n",
    "    \n",
    "            # Add colorbar\n",
    "            #fig.subplots_adjust(right=0.84)\n",
    "            #cbar_ax = fig.add_axes([0.85, 0.15, 0.01, 0.7])\n",
    "            fig.colorbar(im, label = \"Counts\")\n",
    "    \n",
    "            # Save\n",
    "            fig.savefig(str(folder+\"_plots/\"+plot_preset+\"_\"+str(loc)+\"_\"+str(round(time,2))+'.png'),bbox_inches='tight')\n",
    "\n",
    "            if multi:\n",
    "                plt.close()\n",
    "\n",
    "            else:\n",
    "                plt.show()\n",
    "        \n",
    "        if make_gif:\n",
    "            generate_gif(folder)\n",
    "# Run\n",
    "particle_plots(plot_preset)"
   ]
  },
  {
   "cell_type": "code",
   "execution_count": 5,
   "id": "c610bff6-fb97-40dd-b31d-8b5851cc3727",
   "metadata": {},
   "outputs": [
    {
     "ename": "NameError",
     "evalue": "name 'dc' is not defined",
     "output_type": "error",
     "traceback": [
      "\u001b[0;31m---------------------------------------------------------------------------\u001b[0m",
      "\u001b[0;31mNameError\u001b[0m                                 Traceback (most recent call last)",
      "Cell \u001b[0;32mIn[5], line 1\u001b[0m\n\u001b[0;32m----> 1\u001b[0m \u001b[43mdc\u001b[49m\n",
      "\u001b[0;31mNameError\u001b[0m: name 'dc' is not defined"
     ]
    }
   ],
   "source": [
    "dc"
   ]
  },
  {
   "cell_type": "code",
   "execution_count": null,
   "id": "24f64b6f-9bd8-40b4-9aac-292e3bacb152",
   "metadata": {},
   "outputs": [],
   "source": []
  }
 ],
 "metadata": {
  "kernelspec": {
   "display_name": "Python 3 (ipykernel)",
   "language": "python",
   "name": "python3"
  },
  "language_info": {
   "codemirror_mode": {
    "name": "ipython",
    "version": 3
   },
   "file_extension": ".py",
   "mimetype": "text/x-python",
   "name": "python",
   "nbconvert_exporter": "python",
   "pygments_lexer": "ipython3",
   "version": "3.10.13"
  }
 },
 "nbformat": 4,
 "nbformat_minor": 5
}
