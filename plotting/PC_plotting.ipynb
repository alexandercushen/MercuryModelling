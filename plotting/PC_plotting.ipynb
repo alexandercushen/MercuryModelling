{
 "cells": [
  {
   "cell_type": "code",
   "execution_count": 103,
   "id": "abdb4289-c30c-4ffe-93da-5f6c4491c7a1",
   "metadata": {},
   "outputs": [],
   "source": [
    "%matplotlib inline\n",
    "import fleks,yt\n",
    "import matplotlib.pyplot as plt\n",
    "from matplotlib.colors import LogNorm\n",
    "from matplotlib.cm import ScalarMappable\n",
    "from scipy.optimize import curve_fit\n",
    "from scipy.interpolate import interp1d\n",
    "import numpy as np\n",
    "import os\n",
    "import re\n",
    "from utilities import get_ticks\n",
    "from matplotlib import cm, ticker\n",
    "from os import listdir\n",
    "from os.path import isfile, join\n",
    "import glob\n",
    "from PIL import Image\n",
    "from natsort import natsorted\n",
    "import matplotlib as mpl\n",
    "import matplotlib.pyplot as plt\n",
    "import matplotlib.animation as animation\n",
    "from scipy import interpolate\n",
    "from matplotlib.ticker import LogFormatter \n",
    "from matplotlib.ticker import LogLocator, LogFormatterSciNotation \n",
    "\n",
    "mu_0 = 1.257e-6\n",
    "R_M = 2440e3 #m"
   ]
  },
  {
   "cell_type": "markdown",
   "id": "d412ac1d-b51b-4c47-bdea-149dfb15dea8",
   "metadata": {},
   "source": [
    "# Save frame slices for making movies"
   ]
  },
  {
   "cell_type": "code",
   "execution_count": 107,
   "id": "939eea7a-992b-4c5a-8ebf-79a0fe9f7ad9",
   "metadata": {
    "scrolled": true
   },
   "outputs": [
    {
     "name": "stderr",
     "output_type": "stream",
     "text": [
      "yt : [INFO     ] 2024-08-12 11:46:14,702 Parameters: current_time              = 135.0\n",
      "yt : [INFO     ] 2024-08-12 11:46:14,703 Parameters: domain_dimensions         = [320 256 256]\n",
      "yt : [INFO     ] 2024-08-12 11:46:14,704 Parameters: domain_left_edge          = [-4. -2. -2.]\n",
      "yt : [INFO     ] 2024-08-12 11:46:14,705 Parameters: domain_right_edge         = [1. 2. 2.]\n"
     ]
    },
    {
     "name": "stdout",
     "output_type": "stream",
     "text": [
      "142 files recognized!\n",
      "/Users/atcushen/Documents/MercuryModelling/runs/nightside_v1_run4/ta-2_rerun/3d_fluid_region0_2_t00000215_n00000000_amrex\n",
      "Plotting t 135.0\n"
     ]
    },
    {
     "name": "stderr",
     "output_type": "stream",
     "text": [
      "/var/folders/l9/dnt9qhfd1psfsmj9t5zfr0j00000gq/T/ipykernel_69318/4003733724.py:263: UserWarning: FigureCanvasAgg is non-interactive, and thus cannot be shown\n",
      "  fig.show()\n",
      "yt : [INFO     ] 2024-08-12 11:46:15,809 Parameters: current_time              = 135.20000868810553\n",
      "yt : [INFO     ] 2024-08-12 11:46:15,809 Parameters: domain_dimensions         = [320 256 256]\n",
      "yt : [INFO     ] 2024-08-12 11:46:15,810 Parameters: domain_left_edge          = [-4. -2. -2.]\n",
      "yt : [INFO     ] 2024-08-12 11:46:15,811 Parameters: domain_right_edge         = [1. 2. 2.]\n"
     ]
    },
    {
     "name": "stdout",
     "output_type": "stream",
     "text": [
      "/Users/atcushen/Documents/MercuryModelling/runs/nightside_v1_run4/ta-2_rerun/3d_fluid_region0_2_t00000215_n00000104_amrex\n",
      "Plotting t 135.2\n"
     ]
    },
    {
     "name": "stderr",
     "output_type": "stream",
     "text": [
      "yt : [INFO     ] 2024-08-12 11:46:16,943 Parameters: current_time              = 135.40176287854825\n",
      "yt : [INFO     ] 2024-08-12 11:46:16,944 Parameters: domain_dimensions         = [320 256 256]\n",
      "yt : [INFO     ] 2024-08-12 11:46:16,944 Parameters: domain_left_edge          = [-4. -2. -2.]\n",
      "yt : [INFO     ] 2024-08-12 11:46:16,945 Parameters: domain_right_edge         = [1. 2. 2.]\n"
     ]
    },
    {
     "name": "stdout",
     "output_type": "stream",
     "text": [
      "/Users/atcushen/Documents/MercuryModelling/runs/nightside_v1_run4/ta-2_rerun/3d_fluid_region0_2_t00000215_n00000216_amrex\n",
      "Plotting t 135.4\n"
     ]
    },
    {
     "name": "stderr",
     "output_type": "stream",
     "text": [
      "yt : [INFO     ] 2024-08-12 11:46:18,075 Parameters: current_time              = 135.6001333963198\n",
      "yt : [INFO     ] 2024-08-12 11:46:18,076 Parameters: domain_dimensions         = [320 256 256]\n",
      "yt : [INFO     ] 2024-08-12 11:46:18,077 Parameters: domain_left_edge          = [-4. -2. -2.]\n",
      "yt : [INFO     ] 2024-08-12 11:46:18,077 Parameters: domain_right_edge         = [1. 2. 2.]\n"
     ]
    },
    {
     "name": "stdout",
     "output_type": "stream",
     "text": [
      "/Users/atcushen/Documents/MercuryModelling/runs/nightside_v1_run4/ta-2_rerun/3d_fluid_region0_2_t00000215_n00000324_amrex\n",
      "Plotting t 135.6\n"
     ]
    },
    {
     "name": "stderr",
     "output_type": "stream",
     "text": [
      "yt : [INFO     ] 2024-08-12 11:46:19,231 Parameters: current_time              = 135.80092812998905\n",
      "yt : [INFO     ] 2024-08-12 11:46:19,232 Parameters: domain_dimensions         = [320 256 256]\n",
      "yt : [INFO     ] 2024-08-12 11:46:19,232 Parameters: domain_left_edge          = [-4. -2. -2.]\n",
      "yt : [INFO     ] 2024-08-12 11:46:19,233 Parameters: domain_right_edge         = [1. 2. 2.]\n"
     ]
    },
    {
     "name": "stdout",
     "output_type": "stream",
     "text": [
      "/Users/atcushen/Documents/MercuryModelling/runs/nightside_v1_run4/ta-2_rerun/3d_fluid_region0_2_t00000215_n00000438_amrex\n",
      "Plotting t 135.8\n"
     ]
    },
    {
     "name": "stderr",
     "output_type": "stream",
     "text": [
      "yt : [INFO     ] 2024-08-12 11:46:21,173 Parameters: current_time              = 136.00133957449802\n",
      "yt : [INFO     ] 2024-08-12 11:46:21,173 Parameters: domain_dimensions         = [320 256 256]\n",
      "yt : [INFO     ] 2024-08-12 11:46:21,174 Parameters: domain_left_edge          = [-4. -2. -2.]\n",
      "yt : [INFO     ] 2024-08-12 11:46:21,175 Parameters: domain_right_edge         = [1. 2. 2.]\n"
     ]
    },
    {
     "name": "stdout",
     "output_type": "stream",
     "text": [
      "/Users/atcushen/Documents/MercuryModelling/runs/nightside_v1_run4/ta-2_rerun/3d_fluid_region0_2_t00000216_n00000549_amrex\n",
      "Plotting t 136.0\n"
     ]
    },
    {
     "name": "stderr",
     "output_type": "stream",
     "text": [
      "yt : [INFO     ] 2024-08-12 11:46:22,331 Parameters: current_time              = 136.2010620222566\n",
      "yt : [INFO     ] 2024-08-12 11:46:22,332 Parameters: domain_dimensions         = [320 256 256]\n",
      "yt : [INFO     ] 2024-08-12 11:46:22,333 Parameters: domain_left_edge          = [-4. -2. -2.]\n",
      "yt : [INFO     ] 2024-08-12 11:46:22,333 Parameters: domain_right_edge         = [1. 2. 2.]\n"
     ]
    },
    {
     "name": "stdout",
     "output_type": "stream",
     "text": [
      "/Users/atcushen/Documents/MercuryModelling/runs/nightside_v1_run4/ta-2_rerun/3d_fluid_region0_2_t00000216_n00000656_amrex\n",
      "Plotting t 136.2\n"
     ]
    },
    {
     "name": "stderr",
     "output_type": "stream",
     "text": [
      "yt : [INFO     ] 2024-08-12 11:46:23,473 Parameters: current_time              = 136.4014282815098\n",
      "yt : [INFO     ] 2024-08-12 11:46:23,473 Parameters: domain_dimensions         = [320 256 256]\n",
      "yt : [INFO     ] 2024-08-12 11:46:23,474 Parameters: domain_left_edge          = [-4. -2. -2.]\n",
      "yt : [INFO     ] 2024-08-12 11:46:23,474 Parameters: domain_right_edge         = [1. 2. 2.]\n"
     ]
    },
    {
     "name": "stdout",
     "output_type": "stream",
     "text": [
      "/Users/atcushen/Documents/MercuryModelling/runs/nightside_v1_run4/ta-2_rerun/3d_fluid_region0_2_t00000216_n00000766_amrex\n",
      "Plotting t 136.4\n"
     ]
    },
    {
     "name": "stderr",
     "output_type": "stream",
     "text": [
      "yt : [INFO     ] 2024-08-12 11:46:24,634 Parameters: current_time              = 136.60141536902086\n",
      "yt : [INFO     ] 2024-08-12 11:46:24,635 Parameters: domain_dimensions         = [320 256 256]\n",
      "yt : [INFO     ] 2024-08-12 11:46:24,636 Parameters: domain_left_edge          = [-4. -2. -2.]\n",
      "yt : [INFO     ] 2024-08-12 11:46:24,636 Parameters: domain_right_edge         = [1. 2. 2.]\n"
     ]
    },
    {
     "name": "stdout",
     "output_type": "stream",
     "text": [
      "/Users/atcushen/Documents/MercuryModelling/runs/nightside_v1_run4/ta-2_rerun/3d_fluid_region0_2_t00000216_n00000876_amrex\n",
      "Plotting t 136.6\n"
     ]
    },
    {
     "name": "stderr",
     "output_type": "stream",
     "text": [
      "yt : [INFO     ] 2024-08-12 11:46:25,817 Parameters: current_time              = 136.8015747048821\n",
      "yt : [INFO     ] 2024-08-12 11:46:25,818 Parameters: domain_dimensions         = [320 256 256]\n",
      "yt : [INFO     ] 2024-08-12 11:46:25,818 Parameters: domain_left_edge          = [-4. -2. -2.]\n",
      "yt : [INFO     ] 2024-08-12 11:46:25,819 Parameters: domain_right_edge         = [1. 2. 2.]\n"
     ]
    },
    {
     "name": "stdout",
     "output_type": "stream",
     "text": [
      "/Users/atcushen/Documents/MercuryModelling/runs/nightside_v1_run4/ta-2_rerun/3d_fluid_region0_2_t00000216_n00000981_amrex\n",
      "Plotting t 136.8\n"
     ]
    },
    {
     "name": "stderr",
     "output_type": "stream",
     "text": [
      "yt : [INFO     ] 2024-08-12 11:46:26,949 Parameters: current_time              = 137.0007829797857\n",
      "yt : [INFO     ] 2024-08-12 11:46:26,950 Parameters: domain_dimensions         = [320 256 256]\n",
      "yt : [INFO     ] 2024-08-12 11:46:26,951 Parameters: domain_left_edge          = [-4. -2. -2.]\n",
      "yt : [INFO     ] 2024-08-12 11:46:26,951 Parameters: domain_right_edge         = [1. 2. 2.]\n"
     ]
    },
    {
     "name": "stdout",
     "output_type": "stream",
     "text": [
      "/Users/atcushen/Documents/MercuryModelling/runs/nightside_v1_run4/ta-2_rerun/3d_fluid_region0_2_t00000217_n00001083_amrex\n",
      "Plotting t 137.0\n"
     ]
    },
    {
     "name": "stderr",
     "output_type": "stream",
     "text": [
      "yt : [INFO     ] 2024-08-12 11:46:28,096 Parameters: current_time              = 137.20097049042084\n",
      "yt : [INFO     ] 2024-08-12 11:46:28,097 Parameters: domain_dimensions         = [320 256 256]\n",
      "yt : [INFO     ] 2024-08-12 11:46:28,098 Parameters: domain_left_edge          = [-4. -2. -2.]\n",
      "yt : [INFO     ] 2024-08-12 11:46:28,098 Parameters: domain_right_edge         = [1. 2. 2.]\n"
     ]
    },
    {
     "name": "stdout",
     "output_type": "stream",
     "text": [
      "/Users/atcushen/Documents/MercuryModelling/runs/nightside_v1_run4/ta-2_rerun/3d_fluid_region0_2_t00000217_n00001187_amrex\n",
      "Plotting t 137.2\n"
     ]
    },
    {
     "name": "stderr",
     "output_type": "stream",
     "text": [
      "yt : [INFO     ] 2024-08-12 11:46:29,241 Parameters: current_time              = 137.40030227361433\n",
      "yt : [INFO     ] 2024-08-12 11:46:29,242 Parameters: domain_dimensions         = [320 256 256]\n",
      "yt : [INFO     ] 2024-08-12 11:46:29,242 Parameters: domain_left_edge          = [-4. -2. -2.]\n",
      "yt : [INFO     ] 2024-08-12 11:46:29,243 Parameters: domain_right_edge         = [1. 2. 2.]\n"
     ]
    },
    {
     "name": "stdout",
     "output_type": "stream",
     "text": [
      "/Users/atcushen/Documents/MercuryModelling/runs/nightside_v1_run4/ta-2_rerun/3d_fluid_region0_2_t00000217_n00001286_amrex\n",
      "Plotting t 137.4\n"
     ]
    },
    {
     "name": "stderr",
     "output_type": "stream",
     "text": [
      "yt : [INFO     ] 2024-08-12 11:46:31,150 Parameters: current_time              = 137.60161285777713\n",
      "yt : [INFO     ] 2024-08-12 11:46:31,151 Parameters: domain_dimensions         = [320 256 256]\n",
      "yt : [INFO     ] 2024-08-12 11:46:31,152 Parameters: domain_left_edge          = [-4. -2. -2.]\n",
      "yt : [INFO     ] 2024-08-12 11:46:31,153 Parameters: domain_right_edge         = [1. 2. 2.]\n"
     ]
    },
    {
     "name": "stdout",
     "output_type": "stream",
     "text": [
      "/Users/atcushen/Documents/MercuryModelling/runs/nightside_v1_run4/ta-2_rerun/3d_fluid_region0_2_t00000217_n00001391_amrex\n",
      "Plotting t 137.6\n"
     ]
    },
    {
     "name": "stderr",
     "output_type": "stream",
     "text": [
      "yt : [INFO     ] 2024-08-12 11:46:32,292 Parameters: current_time              = 137.80172372155434\n",
      "yt : [INFO     ] 2024-08-12 11:46:32,293 Parameters: domain_dimensions         = [320 256 256]\n",
      "yt : [INFO     ] 2024-08-12 11:46:32,293 Parameters: domain_left_edge          = [-4. -2. -2.]\n",
      "yt : [INFO     ] 2024-08-12 11:46:32,294 Parameters: domain_right_edge         = [1. 2. 2.]\n"
     ]
    },
    {
     "name": "stdout",
     "output_type": "stream",
     "text": [
      "/Users/atcushen/Documents/MercuryModelling/runs/nightside_v1_run4/ta-2_rerun/3d_fluid_region0_2_t00000217_n00001496_amrex\n",
      "Plotting t 137.8\n"
     ]
    },
    {
     "name": "stderr",
     "output_type": "stream",
     "text": [
      "yt : [INFO     ] 2024-08-12 11:46:33,435 Parameters: current_time              = 138.0003495439726\n",
      "yt : [INFO     ] 2024-08-12 11:46:33,435 Parameters: domain_dimensions         = [320 256 256]\n",
      "yt : [INFO     ] 2024-08-12 11:46:33,436 Parameters: domain_left_edge          = [-4. -2. -2.]\n",
      "yt : [INFO     ] 2024-08-12 11:46:33,437 Parameters: domain_right_edge         = [1. 2. 2.]\n"
     ]
    },
    {
     "name": "stdout",
     "output_type": "stream",
     "text": [
      "/Users/atcushen/Documents/MercuryModelling/runs/nightside_v1_run4/ta-2_rerun/3d_fluid_region0_2_t00000218_n00001597_amrex\n",
      "Plotting t 138.0\n"
     ]
    },
    {
     "name": "stderr",
     "output_type": "stream",
     "text": [
      "yt : [INFO     ] 2024-08-12 11:46:34,609 Parameters: current_time              = 138.20077534179643\n",
      "yt : [INFO     ] 2024-08-12 11:46:34,609 Parameters: domain_dimensions         = [320 256 256]\n",
      "yt : [INFO     ] 2024-08-12 11:46:34,610 Parameters: domain_left_edge          = [-4. -2. -2.]\n",
      "yt : [INFO     ] 2024-08-12 11:46:34,611 Parameters: domain_right_edge         = [1. 2. 2.]\n"
     ]
    },
    {
     "name": "stdout",
     "output_type": "stream",
     "text": [
      "/Users/atcushen/Documents/MercuryModelling/runs/nightside_v1_run4/ta-2_rerun/3d_fluid_region0_2_t00000218_n00001702_amrex\n",
      "Plotting t 138.2\n"
     ]
    },
    {
     "name": "stderr",
     "output_type": "stream",
     "text": [
      "yt : [INFO     ] 2024-08-12 11:46:35,760 Parameters: current_time              = 138.4009871673815\n",
      "yt : [INFO     ] 2024-08-12 11:46:35,761 Parameters: domain_dimensions         = [320 256 256]\n",
      "yt : [INFO     ] 2024-08-12 11:46:35,762 Parameters: domain_left_edge          = [-4. -2. -2.]\n",
      "yt : [INFO     ] 2024-08-12 11:46:35,762 Parameters: domain_right_edge         = [1. 2. 2.]\n"
     ]
    },
    {
     "name": "stdout",
     "output_type": "stream",
     "text": [
      "/Users/atcushen/Documents/MercuryModelling/runs/nightside_v1_run4/ta-2_rerun/3d_fluid_region0_2_t00000218_n00001808_amrex\n",
      "Plotting t 138.4\n"
     ]
    },
    {
     "name": "stderr",
     "output_type": "stream",
     "text": [
      "yt : [INFO     ] 2024-08-12 11:46:36,891 Parameters: current_time              = 138.60069832807923\n",
      "yt : [INFO     ] 2024-08-12 11:46:36,892 Parameters: domain_dimensions         = [320 256 256]\n",
      "yt : [INFO     ] 2024-08-12 11:46:36,892 Parameters: domain_left_edge          = [-4. -2. -2.]\n",
      "yt : [INFO     ] 2024-08-12 11:46:36,893 Parameters: domain_right_edge         = [1. 2. 2.]\n"
     ]
    },
    {
     "name": "stdout",
     "output_type": "stream",
     "text": [
      "/Users/atcushen/Documents/MercuryModelling/runs/nightside_v1_run4/ta-2_rerun/3d_fluid_region0_2_t00000218_n00001915_amrex\n",
      "Plotting t 138.6\n"
     ]
    },
    {
     "name": "stderr",
     "output_type": "stream",
     "text": [
      "yt : [INFO     ] 2024-08-12 11:46:38,032 Parameters: current_time              = 138.8015772260759\n",
      "yt : [INFO     ] 2024-08-12 11:46:38,033 Parameters: domain_dimensions         = [320 256 256]\n",
      "yt : [INFO     ] 2024-08-12 11:46:38,033 Parameters: domain_left_edge          = [-4. -2. -2.]\n",
      "yt : [INFO     ] 2024-08-12 11:46:38,034 Parameters: domain_right_edge         = [1. 2. 2.]\n"
     ]
    },
    {
     "name": "stdout",
     "output_type": "stream",
     "text": [
      "/Users/atcushen/Documents/MercuryModelling/runs/nightside_v1_run4/ta-2_rerun/3d_fluid_region0_2_t00000218_n00002022_amrex\n",
      "Plotting t 138.8\n"
     ]
    },
    {
     "name": "stderr",
     "output_type": "stream",
     "text": [
      "yt : [INFO     ] 2024-08-12 11:46:39,167 Parameters: current_time              = 139.00017845735312\n",
      "yt : [INFO     ] 2024-08-12 11:46:39,168 Parameters: domain_dimensions         = [320 256 256]\n",
      "yt : [INFO     ] 2024-08-12 11:46:39,169 Parameters: domain_left_edge          = [-4. -2. -2.]\n",
      "yt : [INFO     ] 2024-08-12 11:46:39,169 Parameters: domain_right_edge         = [1. 2. 2.]\n"
     ]
    },
    {
     "name": "stdout",
     "output_type": "stream",
     "text": [
      "/Users/atcushen/Documents/MercuryModelling/runs/nightside_v1_run4/ta-2_rerun/3d_fluid_region0_2_t00000219_n00002126_amrex\n",
      "Plotting t 139.0\n"
     ]
    },
    {
     "name": "stderr",
     "output_type": "stream",
     "text": [
      "yt : [INFO     ] 2024-08-12 11:46:40,298 Parameters: current_time              = 139.20131008404218\n",
      "yt : [INFO     ] 2024-08-12 11:46:40,299 Parameters: domain_dimensions         = [320 256 256]\n",
      "yt : [INFO     ] 2024-08-12 11:46:40,300 Parameters: domain_left_edge          = [-4. -2. -2.]\n",
      "yt : [INFO     ] 2024-08-12 11:46:40,300 Parameters: domain_right_edge         = [1. 2. 2.]\n"
     ]
    },
    {
     "name": "stdout",
     "output_type": "stream",
     "text": [
      "/Users/atcushen/Documents/MercuryModelling/runs/nightside_v1_run4/ta-2_rerun/3d_fluid_region0_2_t00000219_n00002232_amrex\n",
      "Plotting t 139.2\n"
     ]
    },
    {
     "name": "stderr",
     "output_type": "stream",
     "text": [
      "yt : [INFO     ] 2024-08-12 11:46:42,293 Parameters: current_time              = 139.40034366583404\n",
      "yt : [INFO     ] 2024-08-12 11:46:42,294 Parameters: domain_dimensions         = [320 256 256]\n",
      "yt : [INFO     ] 2024-08-12 11:46:42,294 Parameters: domain_left_edge          = [-4. -2. -2.]\n",
      "yt : [INFO     ] 2024-08-12 11:46:42,295 Parameters: domain_right_edge         = [1. 2. 2.]\n"
     ]
    },
    {
     "name": "stdout",
     "output_type": "stream",
     "text": [
      "/Users/atcushen/Documents/MercuryModelling/runs/nightside_v1_run4/ta-2_rerun/3d_fluid_region0_2_t00000219_n00002336_amrex\n",
      "Plotting t 139.4\n"
     ]
    },
    {
     "name": "stderr",
     "output_type": "stream",
     "text": [
      "yt : [INFO     ] 2024-08-12 11:46:43,453 Parameters: current_time              = 139.60066825686016\n",
      "yt : [INFO     ] 2024-08-12 11:46:43,454 Parameters: domain_dimensions         = [320 256 256]\n",
      "yt : [INFO     ] 2024-08-12 11:46:43,454 Parameters: domain_left_edge          = [-4. -2. -2.]\n",
      "yt : [INFO     ] 2024-08-12 11:46:43,455 Parameters: domain_right_edge         = [1. 2. 2.]\n"
     ]
    },
    {
     "name": "stdout",
     "output_type": "stream",
     "text": [
      "/Users/atcushen/Documents/MercuryModelling/runs/nightside_v1_run4/ta-2_rerun/3d_fluid_region0_2_t00000219_n00002441_amrex\n",
      "Plotting t 139.6\n"
     ]
    },
    {
     "name": "stderr",
     "output_type": "stream",
     "text": [
      "yt : [INFO     ] 2024-08-12 11:46:44,602 Parameters: current_time              = 139.8008025357148\n",
      "yt : [INFO     ] 2024-08-12 11:46:44,603 Parameters: domain_dimensions         = [320 256 256]\n",
      "yt : [INFO     ] 2024-08-12 11:46:44,604 Parameters: domain_left_edge          = [-4. -2. -2.]\n",
      "yt : [INFO     ] 2024-08-12 11:46:44,604 Parameters: domain_right_edge         = [1. 2. 2.]\n"
     ]
    },
    {
     "name": "stdout",
     "output_type": "stream",
     "text": [
      "/Users/atcushen/Documents/MercuryModelling/runs/nightside_v1_run4/ta-2_rerun/3d_fluid_region0_2_t00000219_n00002543_amrex\n",
      "Plotting t 139.8\n"
     ]
    },
    {
     "name": "stderr",
     "output_type": "stream",
     "text": [
      "yt : [INFO     ] 2024-08-12 11:46:45,778 Parameters: current_time              = 140.00169966710527\n",
      "yt : [INFO     ] 2024-08-12 11:46:45,779 Parameters: domain_dimensions         = [320 256 256]\n",
      "yt : [INFO     ] 2024-08-12 11:46:45,780 Parameters: domain_left_edge          = [-4. -2. -2.]\n",
      "yt : [INFO     ] 2024-08-12 11:46:45,780 Parameters: domain_right_edge         = [1. 2. 2.]\n"
     ]
    },
    {
     "name": "stdout",
     "output_type": "stream",
     "text": [
      "/Users/atcushen/Documents/MercuryModelling/runs/nightside_v1_run4/ta-2_rerun/3d_fluid_region0_2_t00000220_n00002646_amrex\n",
      "Plotting t 140.0\n"
     ]
    },
    {
     "name": "stderr",
     "output_type": "stream",
     "text": [
      "yt : [INFO     ] 2024-08-12 11:46:46,942 Parameters: current_time              = 140.2006962442681\n",
      "yt : [INFO     ] 2024-08-12 11:46:46,943 Parameters: domain_dimensions         = [320 256 256]\n",
      "yt : [INFO     ] 2024-08-12 11:46:46,943 Parameters: domain_left_edge          = [-4. -2. -2.]\n",
      "yt : [INFO     ] 2024-08-12 11:46:46,944 Parameters: domain_right_edge         = [1. 2. 2.]\n"
     ]
    },
    {
     "name": "stdout",
     "output_type": "stream",
     "text": [
      "/Users/atcushen/Documents/MercuryModelling/runs/nightside_v1_run4/ta-2_rerun/3d_fluid_region0_2_t00000220_n00002752_amrex\n",
      "Plotting t 140.2\n"
     ]
    },
    {
     "name": "stderr",
     "output_type": "stream",
     "text": [
      "yt : [INFO     ] 2024-08-12 11:46:48,089 Parameters: current_time              = 140.40044192675447\n",
      "yt : [INFO     ] 2024-08-12 11:46:48,090 Parameters: domain_dimensions         = [320 256 256]\n",
      "yt : [INFO     ] 2024-08-12 11:46:48,091 Parameters: domain_left_edge          = [-4. -2. -2.]\n",
      "yt : [INFO     ] 2024-08-12 11:46:48,091 Parameters: domain_right_edge         = [1. 2. 2.]\n"
     ]
    },
    {
     "name": "stdout",
     "output_type": "stream",
     "text": [
      "/Users/atcushen/Documents/MercuryModelling/runs/nightside_v1_run4/ta-2_rerun/3d_fluid_region0_2_t00000220_n00002859_amrex\n",
      "Plotting t 140.4\n"
     ]
    },
    {
     "name": "stderr",
     "output_type": "stream",
     "text": [
      "yt : [INFO     ] 2024-08-12 11:46:49,242 Parameters: current_time              = 140.60174286290095\n",
      "yt : [INFO     ] 2024-08-12 11:46:49,242 Parameters: domain_dimensions         = [320 256 256]\n",
      "yt : [INFO     ] 2024-08-12 11:46:49,243 Parameters: domain_left_edge          = [-4. -2. -2.]\n",
      "yt : [INFO     ] 2024-08-12 11:46:49,244 Parameters: domain_right_edge         = [1. 2. 2.]\n"
     ]
    },
    {
     "name": "stdout",
     "output_type": "stream",
     "text": [
      "/Users/atcushen/Documents/MercuryModelling/runs/nightside_v1_run4/ta-2_rerun/3d_fluid_region0_2_t00000220_n00002968_amrex\n",
      "Plotting t 140.6\n"
     ]
    },
    {
     "name": "stderr",
     "output_type": "stream",
     "text": [
      "yt : [INFO     ] 2024-08-12 11:46:50,385 Parameters: current_time              = 140.8013848862417\n",
      "yt : [INFO     ] 2024-08-12 11:46:50,386 Parameters: domain_dimensions         = [320 256 256]\n",
      "yt : [INFO     ] 2024-08-12 11:46:50,387 Parameters: domain_left_edge          = [-4. -2. -2.]\n",
      "yt : [INFO     ] 2024-08-12 11:46:50,388 Parameters: domain_right_edge         = [1. 2. 2.]\n"
     ]
    },
    {
     "name": "stdout",
     "output_type": "stream",
     "text": [
      "/Users/atcushen/Documents/MercuryModelling/runs/nightside_v1_run4/ta-2_rerun/3d_fluid_region0_2_t00000220_n00003077_amrex\n",
      "Plotting t 140.8\n"
     ]
    },
    {
     "name": "stderr",
     "output_type": "stream",
     "text": [
      "yt : [INFO     ] 2024-08-12 11:46:51,530 Parameters: current_time              = 141.00157379951156\n",
      "yt : [INFO     ] 2024-08-12 11:46:51,531 Parameters: domain_dimensions         = [320 256 256]\n",
      "yt : [INFO     ] 2024-08-12 11:46:51,532 Parameters: domain_left_edge          = [-4. -2. -2.]\n",
      "yt : [INFO     ] 2024-08-12 11:46:51,532 Parameters: domain_right_edge         = [1. 2. 2.]\n"
     ]
    },
    {
     "name": "stdout",
     "output_type": "stream",
     "text": [
      "/Users/atcushen/Documents/MercuryModelling/runs/nightside_v1_run4/ta-2_rerun/3d_fluid_region0_2_t00000221_n00003186_amrex\n",
      "Plotting t 141.0\n"
     ]
    },
    {
     "name": "stderr",
     "output_type": "stream",
     "text": [
      "yt : [INFO     ] 2024-08-12 11:46:53,542 Parameters: current_time              = 141.2015641520777\n",
      "yt : [INFO     ] 2024-08-12 11:46:53,543 Parameters: domain_dimensions         = [320 256 256]\n",
      "yt : [INFO     ] 2024-08-12 11:46:53,544 Parameters: domain_left_edge          = [-4. -2. -2.]\n",
      "yt : [INFO     ] 2024-08-12 11:46:53,545 Parameters: domain_right_edge         = [1. 2. 2.]\n"
     ]
    },
    {
     "name": "stdout",
     "output_type": "stream",
     "text": [
      "/Users/atcushen/Documents/MercuryModelling/runs/nightside_v1_run4/ta-2_rerun/3d_fluid_region0_2_t00000221_n00003299_amrex\n",
      "Plotting t 141.2\n"
     ]
    },
    {
     "name": "stderr",
     "output_type": "stream",
     "text": [
      "yt : [INFO     ] 2024-08-12 11:46:54,728 Parameters: current_time              = 141.4007083411215\n",
      "yt : [INFO     ] 2024-08-12 11:46:54,729 Parameters: domain_dimensions         = [320 256 256]\n",
      "yt : [INFO     ] 2024-08-12 11:46:54,730 Parameters: domain_left_edge          = [-4. -2. -2.]\n",
      "yt : [INFO     ] 2024-08-12 11:46:54,730 Parameters: domain_right_edge         = [1. 2. 2.]\n"
     ]
    },
    {
     "name": "stdout",
     "output_type": "stream",
     "text": [
      "/Users/atcushen/Documents/MercuryModelling/runs/nightside_v1_run4/ta-2_rerun/3d_fluid_region0_2_t00000221_n00003411_amrex\n",
      "Plotting t 141.4\n"
     ]
    },
    {
     "name": "stderr",
     "output_type": "stream",
     "text": [
      "yt : [INFO     ] 2024-08-12 11:46:55,890 Parameters: current_time              = 141.601511176457\n",
      "yt : [INFO     ] 2024-08-12 11:46:55,891 Parameters: domain_dimensions         = [320 256 256]\n",
      "yt : [INFO     ] 2024-08-12 11:46:55,892 Parameters: domain_left_edge          = [-4. -2. -2.]\n",
      "yt : [INFO     ] 2024-08-12 11:46:55,893 Parameters: domain_right_edge         = [1. 2. 2.]\n"
     ]
    },
    {
     "name": "stdout",
     "output_type": "stream",
     "text": [
      "/Users/atcushen/Documents/MercuryModelling/runs/nightside_v1_run4/ta-2_rerun/3d_fluid_region0_2_t00000221_n00003527_amrex\n",
      "Plotting t 141.6\n"
     ]
    },
    {
     "name": "stderr",
     "output_type": "stream",
     "text": [
      "yt : [INFO     ] 2024-08-12 11:46:57,052 Parameters: current_time              = 141.80137737723788\n",
      "yt : [INFO     ] 2024-08-12 11:46:57,053 Parameters: domain_dimensions         = [320 256 256]\n",
      "yt : [INFO     ] 2024-08-12 11:46:57,054 Parameters: domain_left_edge          = [-4. -2. -2.]\n",
      "yt : [INFO     ] 2024-08-12 11:46:57,054 Parameters: domain_right_edge         = [1. 2. 2.]\n"
     ]
    },
    {
     "name": "stdout",
     "output_type": "stream",
     "text": [
      "/Users/atcushen/Documents/MercuryModelling/runs/nightside_v1_run4/ta-2_rerun/3d_fluid_region0_2_t00000221_n00003644_amrex\n",
      "Plotting t 141.8\n"
     ]
    },
    {
     "name": "stderr",
     "output_type": "stream",
     "text": [
      "yt : [INFO     ] 2024-08-12 11:46:58,222 Parameters: current_time              = 142.00081732844532\n",
      "yt : [INFO     ] 2024-08-12 11:46:58,223 Parameters: domain_dimensions         = [320 256 256]\n",
      "yt : [INFO     ] 2024-08-12 11:46:58,224 Parameters: domain_left_edge          = [-4. -2. -2.]\n",
      "yt : [INFO     ] 2024-08-12 11:46:58,224 Parameters: domain_right_edge         = [1. 2. 2.]\n"
     ]
    },
    {
     "name": "stdout",
     "output_type": "stream",
     "text": [
      "/Users/atcushen/Documents/MercuryModelling/runs/nightside_v1_run4/ta-2_rerun/3d_fluid_region0_2_t00000222_n00003758_amrex\n",
      "Plotting t 142.0\n"
     ]
    },
    {
     "name": "stderr",
     "output_type": "stream",
     "text": [
      "yt : [INFO     ] 2024-08-12 11:46:59,374 Parameters: current_time              = 142.20066976785006\n",
      "yt : [INFO     ] 2024-08-12 11:46:59,375 Parameters: domain_dimensions         = [320 256 256]\n",
      "yt : [INFO     ] 2024-08-12 11:46:59,376 Parameters: domain_left_edge          = [-4. -2. -2.]\n",
      "yt : [INFO     ] 2024-08-12 11:46:59,377 Parameters: domain_right_edge         = [1. 2. 2.]\n"
     ]
    },
    {
     "name": "stdout",
     "output_type": "stream",
     "text": [
      "/Users/atcushen/Documents/MercuryModelling/runs/nightside_v1_run4/ta-2_rerun/3d_fluid_region0_2_t00000222_n00003874_amrex\n",
      "Plotting t 142.2\n"
     ]
    },
    {
     "name": "stderr",
     "output_type": "stream",
     "text": [
      "yt : [INFO     ] 2024-08-12 11:47:00,508 Parameters: current_time              = 142.4016677262915\n",
      "yt : [INFO     ] 2024-08-12 11:47:00,508 Parameters: domain_dimensions         = [320 256 256]\n",
      "yt : [INFO     ] 2024-08-12 11:47:00,509 Parameters: domain_left_edge          = [-4. -2. -2.]\n",
      "yt : [INFO     ] 2024-08-12 11:47:00,510 Parameters: domain_right_edge         = [1. 2. 2.]\n"
     ]
    },
    {
     "name": "stdout",
     "output_type": "stream",
     "text": [
      "/Users/atcushen/Documents/MercuryModelling/runs/nightside_v1_run4/ta-2_rerun/3d_fluid_region0_2_t00000222_n00003986_amrex\n",
      "Plotting t 142.4\n"
     ]
    },
    {
     "name": "stderr",
     "output_type": "stream",
     "text": [
      "yt : [INFO     ] 2024-08-12 11:47:01,632 Parameters: current_time              = 142.60121978746525\n",
      "yt : [INFO     ] 2024-08-12 11:47:01,633 Parameters: domain_dimensions         = [320 256 256]\n",
      "yt : [INFO     ] 2024-08-12 11:47:01,634 Parameters: domain_left_edge          = [-4. -2. -2.]\n",
      "yt : [INFO     ] 2024-08-12 11:47:01,634 Parameters: domain_right_edge         = [1. 2. 2.]\n"
     ]
    },
    {
     "name": "stdout",
     "output_type": "stream",
     "text": [
      "/Users/atcushen/Documents/MercuryModelling/runs/nightside_v1_run4/ta-2_rerun/3d_fluid_region0_2_t00000222_n00004098_amrex\n",
      "Plotting t 142.6\n"
     ]
    },
    {
     "name": "stderr",
     "output_type": "stream",
     "text": [
      "yt : [INFO     ] 2024-08-12 11:47:02,763 Parameters: current_time              = 142.8004949906992\n",
      "yt : [INFO     ] 2024-08-12 11:47:02,763 Parameters: domain_dimensions         = [320 256 256]\n",
      "yt : [INFO     ] 2024-08-12 11:47:02,764 Parameters: domain_left_edge          = [-4. -2. -2.]\n",
      "yt : [INFO     ] 2024-08-12 11:47:02,765 Parameters: domain_right_edge         = [1. 2. 2.]\n"
     ]
    },
    {
     "name": "stdout",
     "output_type": "stream",
     "text": [
      "/Users/atcushen/Documents/MercuryModelling/runs/nightside_v1_run4/ta-2_rerun/3d_fluid_region0_2_t00000222_n00004213_amrex\n",
      "Plotting t 142.8\n"
     ]
    },
    {
     "name": "stderr",
     "output_type": "stream",
     "text": [
      "yt : [INFO     ] 2024-08-12 11:47:04,724 Parameters: current_time              = 143.00064196861334\n",
      "yt : [INFO     ] 2024-08-12 11:47:04,725 Parameters: domain_dimensions         = [320 256 256]\n",
      "yt : [INFO     ] 2024-08-12 11:47:04,725 Parameters: domain_left_edge          = [-4. -2. -2.]\n",
      "yt : [INFO     ] 2024-08-12 11:47:04,726 Parameters: domain_right_edge         = [1. 2. 2.]\n"
     ]
    },
    {
     "name": "stdout",
     "output_type": "stream",
     "text": [
      "/Users/atcushen/Documents/MercuryModelling/runs/nightside_v1_run4/ta-2_rerun/3d_fluid_region0_2_t00000223_n00004324_amrex\n",
      "Plotting t 143.0\n"
     ]
    },
    {
     "name": "stderr",
     "output_type": "stream",
     "text": [
      "yt : [INFO     ] 2024-08-12 11:47:05,851 Parameters: current_time              = 143.2003998378862\n",
      "yt : [INFO     ] 2024-08-12 11:47:05,852 Parameters: domain_dimensions         = [320 256 256]\n",
      "yt : [INFO     ] 2024-08-12 11:47:05,853 Parameters: domain_left_edge          = [-4. -2. -2.]\n",
      "yt : [INFO     ] 2024-08-12 11:47:05,853 Parameters: domain_right_edge         = [1. 2. 2.]\n"
     ]
    },
    {
     "name": "stdout",
     "output_type": "stream",
     "text": [
      "/Users/atcushen/Documents/MercuryModelling/runs/nightside_v1_run4/ta-2_rerun/3d_fluid_region0_2_t00000223_n00004435_amrex\n",
      "Plotting t 143.2\n"
     ]
    },
    {
     "name": "stderr",
     "output_type": "stream",
     "text": [
      "yt : [INFO     ] 2024-08-12 11:47:06,988 Parameters: current_time              = 143.40067934724308\n",
      "yt : [INFO     ] 2024-08-12 11:47:06,989 Parameters: domain_dimensions         = [320 256 256]\n",
      "yt : [INFO     ] 2024-08-12 11:47:06,989 Parameters: domain_left_edge          = [-4. -2. -2.]\n",
      "yt : [INFO     ] 2024-08-12 11:47:06,990 Parameters: domain_right_edge         = [1. 2. 2.]\n"
     ]
    },
    {
     "name": "stdout",
     "output_type": "stream",
     "text": [
      "/Users/atcushen/Documents/MercuryModelling/runs/nightside_v1_run4/ta-2_rerun/3d_fluid_region0_2_t00000223_n00004548_amrex\n",
      "Plotting t 143.4\n"
     ]
    },
    {
     "name": "stderr",
     "output_type": "stream",
     "text": [
      "yt : [INFO     ] 2024-08-12 11:47:08,152 Parameters: current_time              = 143.60000660279297\n",
      "yt : [INFO     ] 2024-08-12 11:47:08,153 Parameters: domain_dimensions         = [320 256 256]\n",
      "yt : [INFO     ] 2024-08-12 11:47:08,153 Parameters: domain_left_edge          = [-4. -2. -2.]\n",
      "yt : [INFO     ] 2024-08-12 11:47:08,154 Parameters: domain_right_edge         = [1. 2. 2.]\n"
     ]
    },
    {
     "name": "stdout",
     "output_type": "stream",
     "text": [
      "/Users/atcushen/Documents/MercuryModelling/runs/nightside_v1_run4/ta-2_rerun/3d_fluid_region0_2_t00000223_n00004666_amrex\n",
      "Plotting t 143.6\n"
     ]
    },
    {
     "name": "stderr",
     "output_type": "stream",
     "text": [
      "yt : [INFO     ] 2024-08-12 11:47:09,310 Parameters: current_time              = 143.8006492719654\n",
      "yt : [INFO     ] 2024-08-12 11:47:09,311 Parameters: domain_dimensions         = [320 256 256]\n",
      "yt : [INFO     ] 2024-08-12 11:47:09,312 Parameters: domain_left_edge          = [-4. -2. -2.]\n",
      "yt : [INFO     ] 2024-08-12 11:47:09,312 Parameters: domain_right_edge         = [1. 2. 2.]\n"
     ]
    },
    {
     "name": "stdout",
     "output_type": "stream",
     "text": [
      "/Users/atcushen/Documents/MercuryModelling/runs/nightside_v1_run4/ta-2_rerun/3d_fluid_region0_2_t00000223_n00004787_amrex\n",
      "Plotting t 143.8\n"
     ]
    },
    {
     "name": "stderr",
     "output_type": "stream",
     "text": [
      "yt : [INFO     ] 2024-08-12 11:47:10,492 Parameters: current_time              = 144.0004235325798\n",
      "yt : [INFO     ] 2024-08-12 11:47:10,493 Parameters: domain_dimensions         = [320 256 256]\n",
      "yt : [INFO     ] 2024-08-12 11:47:10,493 Parameters: domain_left_edge          = [-4. -2. -2.]\n",
      "yt : [INFO     ] 2024-08-12 11:47:10,494 Parameters: domain_right_edge         = [1. 2. 2.]\n"
     ]
    },
    {
     "name": "stdout",
     "output_type": "stream",
     "text": [
      "/Users/atcushen/Documents/MercuryModelling/runs/nightside_v1_run4/ta-2_rerun/3d_fluid_region0_2_t00000224_n00004905_amrex\n",
      "Plotting t 144.0\n"
     ]
    },
    {
     "name": "stderr",
     "output_type": "stream",
     "text": [
      "yt : [INFO     ] 2024-08-12 11:47:11,675 Parameters: current_time              = 144.20154674350104\n",
      "yt : [INFO     ] 2024-08-12 11:47:11,676 Parameters: domain_dimensions         = [320 256 256]\n",
      "yt : [INFO     ] 2024-08-12 11:47:11,677 Parameters: domain_left_edge          = [-4. -2. -2.]\n",
      "yt : [INFO     ] 2024-08-12 11:47:11,677 Parameters: domain_right_edge         = [1. 2. 2.]\n"
     ]
    },
    {
     "name": "stdout",
     "output_type": "stream",
     "text": [
      "/Users/atcushen/Documents/MercuryModelling/runs/nightside_v1_run4/ta-2_rerun/3d_fluid_region0_2_t00000224_n00005023_amrex\n",
      "Plotting t 144.2\n"
     ]
    },
    {
     "name": "stderr",
     "output_type": "stream",
     "text": [
      "yt : [INFO     ] 2024-08-12 11:47:12,809 Parameters: current_time              = 144.40015817712427\n",
      "yt : [INFO     ] 2024-08-12 11:47:12,810 Parameters: domain_dimensions         = [320 256 256]\n",
      "yt : [INFO     ] 2024-08-12 11:47:12,810 Parameters: domain_left_edge          = [-4. -2. -2.]\n",
      "yt : [INFO     ] 2024-08-12 11:47:12,811 Parameters: domain_right_edge         = [1. 2. 2.]\n"
     ]
    },
    {
     "name": "stdout",
     "output_type": "stream",
     "text": [
      "/Users/atcushen/Documents/MercuryModelling/runs/nightside_v1_run4/ta-2_rerun/3d_fluid_region0_2_t00000224_n00005139_amrex\n",
      "Plotting t 144.4\n"
     ]
    },
    {
     "name": "stderr",
     "output_type": "stream",
     "text": [
      "yt : [INFO     ] 2024-08-12 11:47:13,957 Parameters: current_time              = 144.60139046091376\n",
      "yt : [INFO     ] 2024-08-12 11:47:13,957 Parameters: domain_dimensions         = [320 256 256]\n",
      "yt : [INFO     ] 2024-08-12 11:47:13,958 Parameters: domain_left_edge          = [-4. -2. -2.]\n",
      "yt : [INFO     ] 2024-08-12 11:47:13,959 Parameters: domain_right_edge         = [1. 2. 2.]\n"
     ]
    },
    {
     "name": "stdout",
     "output_type": "stream",
     "text": [
      "/Users/atcushen/Documents/MercuryModelling/runs/nightside_v1_run4/ta-2_rerun/3d_fluid_region0_2_t00000224_n00005260_amrex\n",
      "Plotting t 144.6\n"
     ]
    },
    {
     "name": "stderr",
     "output_type": "stream",
     "text": [
      "yt : [INFO     ] 2024-08-12 11:47:15,091 Parameters: current_time              = 144.8008971103632\n",
      "yt : [INFO     ] 2024-08-12 11:47:15,092 Parameters: domain_dimensions         = [320 256 256]\n",
      "yt : [INFO     ] 2024-08-12 11:47:15,092 Parameters: domain_left_edge          = [-4. -2. -2.]\n",
      "yt : [INFO     ] 2024-08-12 11:47:15,093 Parameters: domain_right_edge         = [1. 2. 2.]\n"
     ]
    },
    {
     "name": "stdout",
     "output_type": "stream",
     "text": [
      "/Users/atcushen/Documents/MercuryModelling/runs/nightside_v1_run4/ta-2_rerun/3d_fluid_region0_2_t00000224_n00005379_amrex\n",
      "Plotting t 144.8\n"
     ]
    },
    {
     "name": "stderr",
     "output_type": "stream",
     "text": [
      "yt : [INFO     ] 2024-08-12 11:47:17,098 Parameters: current_time              = 145.00027042646266\n",
      "yt : [INFO     ] 2024-08-12 11:47:17,098 Parameters: domain_dimensions         = [320 256 256]\n",
      "yt : [INFO     ] 2024-08-12 11:47:17,099 Parameters: domain_left_edge          = [-4. -2. -2.]\n",
      "yt : [INFO     ] 2024-08-12 11:47:17,100 Parameters: domain_right_edge         = [1. 2. 2.]\n"
     ]
    },
    {
     "name": "stdout",
     "output_type": "stream",
     "text": [
      "/Users/atcushen/Documents/MercuryModelling/runs/nightside_v1_run4/ta-2_rerun/3d_fluid_region0_2_t00000225_n00005498_amrex\n",
      "Plotting t 145.0\n"
     ]
    },
    {
     "name": "stderr",
     "output_type": "stream",
     "text": [
      "yt : [INFO     ] 2024-08-12 11:47:18,250 Parameters: current_time              = 145.20009155006036\n",
      "yt : [INFO     ] 2024-08-12 11:47:18,251 Parameters: domain_dimensions         = [320 256 256]\n",
      "yt : [INFO     ] 2024-08-12 11:47:18,251 Parameters: domain_left_edge          = [-4. -2. -2.]\n",
      "yt : [INFO     ] 2024-08-12 11:47:18,252 Parameters: domain_right_edge         = [1. 2. 2.]\n"
     ]
    },
    {
     "name": "stdout",
     "output_type": "stream",
     "text": [
      "/Users/atcushen/Documents/MercuryModelling/runs/nightside_v1_run4/ta-2_rerun/3d_fluid_region0_2_t00000225_n00005614_amrex\n",
      "Plotting t 145.2\n"
     ]
    },
    {
     "name": "stderr",
     "output_type": "stream",
     "text": [
      "yt : [INFO     ] 2024-08-12 11:47:19,384 Parameters: current_time              = 145.40044878305025\n",
      "yt : [INFO     ] 2024-08-12 11:47:19,385 Parameters: domain_dimensions         = [320 256 256]\n",
      "yt : [INFO     ] 2024-08-12 11:47:19,385 Parameters: domain_left_edge          = [-4. -2. -2.]\n",
      "yt : [INFO     ] 2024-08-12 11:47:19,386 Parameters: domain_right_edge         = [1. 2. 2.]\n"
     ]
    },
    {
     "name": "stdout",
     "output_type": "stream",
     "text": [
      "/Users/atcushen/Documents/MercuryModelling/runs/nightside_v1_run4/ta-2_rerun/3d_fluid_region0_2_t00000225_n00005736_amrex\n",
      "Plotting t 145.4\n"
     ]
    },
    {
     "name": "stderr",
     "output_type": "stream",
     "text": [
      "yt : [INFO     ] 2024-08-12 11:47:20,524 Parameters: current_time              = 145.60126294435332\n",
      "yt : [INFO     ] 2024-08-12 11:47:20,524 Parameters: domain_dimensions         = [320 256 256]\n",
      "yt : [INFO     ] 2024-08-12 11:47:20,525 Parameters: domain_left_edge          = [-4. -2. -2.]\n",
      "yt : [INFO     ] 2024-08-12 11:47:20,526 Parameters: domain_right_edge         = [1. 2. 2.]\n"
     ]
    },
    {
     "name": "stdout",
     "output_type": "stream",
     "text": [
      "/Users/atcushen/Documents/MercuryModelling/runs/nightside_v1_run4/ta-2_rerun/3d_fluid_region0_2_t00000225_n00005859_amrex\n",
      "Plotting t 145.6\n"
     ]
    },
    {
     "name": "stderr",
     "output_type": "stream",
     "text": [
      "yt : [INFO     ] 2024-08-12 11:47:21,658 Parameters: current_time              = 145.80140136063957\n",
      "yt : [INFO     ] 2024-08-12 11:47:21,659 Parameters: domain_dimensions         = [320 256 256]\n",
      "yt : [INFO     ] 2024-08-12 11:47:21,660 Parameters: domain_left_edge          = [-4. -2. -2.]\n",
      "yt : [INFO     ] 2024-08-12 11:47:21,660 Parameters: domain_right_edge         = [1. 2. 2.]\n"
     ]
    },
    {
     "name": "stdout",
     "output_type": "stream",
     "text": [
      "/Users/atcushen/Documents/MercuryModelling/runs/nightside_v1_run4/ta-2_rerun/3d_fluid_region0_2_t00000225_n00005978_amrex\n",
      "Plotting t 145.8\n"
     ]
    },
    {
     "name": "stderr",
     "output_type": "stream",
     "text": [
      "yt : [INFO     ] 2024-08-12 11:47:22,783 Parameters: current_time              = 146.00133439686462\n",
      "yt : [INFO     ] 2024-08-12 11:47:22,784 Parameters: domain_dimensions         = [320 256 256]\n",
      "yt : [INFO     ] 2024-08-12 11:47:22,784 Parameters: domain_left_edge          = [-4. -2. -2.]\n",
      "yt : [INFO     ] 2024-08-12 11:47:22,785 Parameters: domain_right_edge         = [1. 2. 2.]\n"
     ]
    },
    {
     "name": "stdout",
     "output_type": "stream",
     "text": [
      "/Users/atcushen/Documents/MercuryModelling/runs/nightside_v1_run4/ta-2_rerun/3d_fluid_region0_2_t00000226_n00006098_amrex\n",
      "Plotting t 146.0\n"
     ]
    },
    {
     "name": "stderr",
     "output_type": "stream",
     "text": [
      "yt : [INFO     ] 2024-08-12 11:47:23,913 Parameters: current_time              = 146.2012796372959\n",
      "yt : [INFO     ] 2024-08-12 11:47:23,913 Parameters: domain_dimensions         = [320 256 256]\n",
      "yt : [INFO     ] 2024-08-12 11:47:23,914 Parameters: domain_left_edge          = [-4. -2. -2.]\n",
      "yt : [INFO     ] 2024-08-12 11:47:23,915 Parameters: domain_right_edge         = [1. 2. 2.]\n"
     ]
    },
    {
     "name": "stdout",
     "output_type": "stream",
     "text": [
      "/Users/atcushen/Documents/MercuryModelling/runs/nightside_v1_run4/ta-2_rerun/3d_fluid_region0_2_t00000226_n00006213_amrex\n",
      "Plotting t 146.2\n"
     ]
    },
    {
     "name": "stderr",
     "output_type": "stream",
     "text": [
      "yt : [INFO     ] 2024-08-12 11:47:25,054 Parameters: current_time              = 146.40072743240543\n",
      "yt : [INFO     ] 2024-08-12 11:47:25,054 Parameters: domain_dimensions         = [320 256 256]\n",
      "yt : [INFO     ] 2024-08-12 11:47:25,055 Parameters: domain_left_edge          = [-4. -2. -2.]\n",
      "yt : [INFO     ] 2024-08-12 11:47:25,056 Parameters: domain_right_edge         = [1. 2. 2.]\n"
     ]
    },
    {
     "name": "stdout",
     "output_type": "stream",
     "text": [
      "/Users/atcushen/Documents/MercuryModelling/runs/nightside_v1_run4/ta-2_rerun/3d_fluid_region0_2_t00000226_n00006334_amrex\n",
      "Plotting t 146.4\n"
     ]
    },
    {
     "name": "stderr",
     "output_type": "stream",
     "text": [
      "yt : [INFO     ] 2024-08-12 11:47:26,202 Parameters: current_time              = 146.60016642892603\n",
      "yt : [INFO     ] 2024-08-12 11:47:26,203 Parameters: domain_dimensions         = [320 256 256]\n",
      "yt : [INFO     ] 2024-08-12 11:47:26,204 Parameters: domain_left_edge          = [-4. -2. -2.]\n",
      "yt : [INFO     ] 2024-08-12 11:47:26,204 Parameters: domain_right_edge         = [1. 2. 2.]\n"
     ]
    },
    {
     "name": "stdout",
     "output_type": "stream",
     "text": [
      "/Users/atcushen/Documents/MercuryModelling/runs/nightside_v1_run4/ta-2_rerun/3d_fluid_region0_2_t00000226_n00006453_amrex\n",
      "Plotting t 146.6\n"
     ]
    },
    {
     "name": "stderr",
     "output_type": "stream",
     "text": [
      "yt : [INFO     ] 2024-08-12 11:47:28,289 Parameters: current_time              = 146.8008924264645\n",
      "yt : [INFO     ] 2024-08-12 11:47:28,289 Parameters: domain_dimensions         = [320 256 256]\n",
      "yt : [INFO     ] 2024-08-12 11:47:28,290 Parameters: domain_left_edge          = [-4. -2. -2.]\n",
      "yt : [INFO     ] 2024-08-12 11:47:28,291 Parameters: domain_right_edge         = [1. 2. 2.]\n"
     ]
    },
    {
     "name": "stdout",
     "output_type": "stream",
     "text": [
      "/Users/atcushen/Documents/MercuryModelling/runs/nightside_v1_run4/ta-2_rerun/3d_fluid_region0_2_t00000226_n00006575_amrex\n",
      "Plotting t 146.8\n"
     ]
    },
    {
     "name": "stderr",
     "output_type": "stream",
     "text": [
      "yt : [INFO     ] 2024-08-12 11:47:29,451 Parameters: current_time              = 147.00102830659304\n",
      "yt : [INFO     ] 2024-08-12 11:47:29,452 Parameters: domain_dimensions         = [320 256 256]\n",
      "yt : [INFO     ] 2024-08-12 11:47:29,453 Parameters: domain_left_edge          = [-4. -2. -2.]\n",
      "yt : [INFO     ] 2024-08-12 11:47:29,453 Parameters: domain_right_edge         = [1. 2. 2.]\n"
     ]
    },
    {
     "name": "stdout",
     "output_type": "stream",
     "text": [
      "/Users/atcushen/Documents/MercuryModelling/runs/nightside_v1_run4/ta-2_rerun/3d_fluid_region0_2_t00000227_n00006696_amrex\n",
      "Plotting t 147.0\n"
     ]
    },
    {
     "name": "stderr",
     "output_type": "stream",
     "text": [
      "yt : [INFO     ] 2024-08-12 11:47:30,615 Parameters: current_time              = 147.20060475423165\n",
      "yt : [INFO     ] 2024-08-12 11:47:30,616 Parameters: domain_dimensions         = [320 256 256]\n",
      "yt : [INFO     ] 2024-08-12 11:47:30,616 Parameters: domain_left_edge          = [-4. -2. -2.]\n",
      "yt : [INFO     ] 2024-08-12 11:47:30,617 Parameters: domain_right_edge         = [1. 2. 2.]\n"
     ]
    },
    {
     "name": "stdout",
     "output_type": "stream",
     "text": [
      "/Users/atcushen/Documents/MercuryModelling/runs/nightside_v1_run4/ta-2_rerun/3d_fluid_region0_2_t00000227_n00006814_amrex\n",
      "Plotting t 147.2\n"
     ]
    },
    {
     "name": "stderr",
     "output_type": "stream",
     "text": [
      "yt : [INFO     ] 2024-08-12 11:47:31,784 Parameters: current_time              = 147.40065356986747\n",
      "yt : [INFO     ] 2024-08-12 11:47:31,785 Parameters: domain_dimensions         = [320 256 256]\n",
      "yt : [INFO     ] 2024-08-12 11:47:31,786 Parameters: domain_left_edge          = [-4. -2. -2.]\n",
      "yt : [INFO     ] 2024-08-12 11:47:31,786 Parameters: domain_right_edge         = [1. 2. 2.]\n"
     ]
    },
    {
     "name": "stdout",
     "output_type": "stream",
     "text": [
      "/Users/atcushen/Documents/MercuryModelling/runs/nightside_v1_run4/ta-2_rerun/3d_fluid_region0_2_t00000227_n00006929_amrex\n",
      "Plotting t 147.4\n"
     ]
    },
    {
     "name": "stderr",
     "output_type": "stream",
     "text": [
      "yt : [INFO     ] 2024-08-12 11:47:32,929 Parameters: current_time              = 147.6013816757867\n",
      "yt : [INFO     ] 2024-08-12 11:47:32,930 Parameters: domain_dimensions         = [320 256 256]\n",
      "yt : [INFO     ] 2024-08-12 11:47:32,930 Parameters: domain_left_edge          = [-4. -2. -2.]\n",
      "yt : [INFO     ] 2024-08-12 11:47:32,931 Parameters: domain_right_edge         = [1. 2. 2.]\n"
     ]
    },
    {
     "name": "stdout",
     "output_type": "stream",
     "text": [
      "/Users/atcushen/Documents/MercuryModelling/runs/nightside_v1_run4/ta-2_rerun/3d_fluid_region0_2_t00000227_n00007048_amrex\n",
      "Plotting t 147.6\n"
     ]
    },
    {
     "name": "stderr",
     "output_type": "stream",
     "text": [
      "yt : [INFO     ] 2024-08-12 11:47:34,074 Parameters: current_time              = 147.80007285999477\n",
      "yt : [INFO     ] 2024-08-12 11:47:34,075 Parameters: domain_dimensions         = [320 256 256]\n",
      "yt : [INFO     ] 2024-08-12 11:47:34,076 Parameters: domain_left_edge          = [-4. -2. -2.]\n",
      "yt : [INFO     ] 2024-08-12 11:47:34,076 Parameters: domain_right_edge         = [1. 2. 2.]\n"
     ]
    },
    {
     "name": "stdout",
     "output_type": "stream",
     "text": [
      "/Users/atcushen/Documents/MercuryModelling/runs/nightside_v1_run4/ta-2_rerun/3d_fluid_region0_2_t00000227_n00007165_amrex\n",
      "Plotting t 147.8\n"
     ]
    },
    {
     "name": "stderr",
     "output_type": "stream",
     "text": [
      "yt : [INFO     ] 2024-08-12 11:47:35,219 Parameters: current_time              = 148.00040071986678\n",
      "yt : [INFO     ] 2024-08-12 11:47:35,220 Parameters: domain_dimensions         = [320 256 256]\n",
      "yt : [INFO     ] 2024-08-12 11:47:35,221 Parameters: domain_left_edge          = [-4. -2. -2.]\n",
      "yt : [INFO     ] 2024-08-12 11:47:35,221 Parameters: domain_right_edge         = [1. 2. 2.]\n"
     ]
    },
    {
     "name": "stdout",
     "output_type": "stream",
     "text": [
      "/Users/atcushen/Documents/MercuryModelling/runs/nightside_v1_run4/ta-2_rerun/3d_fluid_region0_2_t00000228_n00007286_amrex\n",
      "Plotting t 148.0\n"
     ]
    },
    {
     "name": "stderr",
     "output_type": "stream",
     "text": [
      "yt : [INFO     ] 2024-08-12 11:47:36,358 Parameters: current_time              = 148.20078426578567\n",
      "yt : [INFO     ] 2024-08-12 11:47:36,359 Parameters: domain_dimensions         = [320 256 256]\n",
      "yt : [INFO     ] 2024-08-12 11:47:36,359 Parameters: domain_left_edge          = [-4. -2. -2.]\n",
      "yt : [INFO     ] 2024-08-12 11:47:36,360 Parameters: domain_right_edge         = [1. 2. 2.]\n"
     ]
    },
    {
     "name": "stdout",
     "output_type": "stream",
     "text": [
      "/Users/atcushen/Documents/MercuryModelling/runs/nightside_v1_run4/ta-2_rerun/3d_fluid_region0_2_t00000228_n00007400_amrex\n",
      "Plotting t 148.2\n"
     ]
    },
    {
     "name": "stderr",
     "output_type": "stream",
     "text": [
      "yt : [INFO     ] 2024-08-12 11:47:37,495 Parameters: current_time              = 148.40079057624\n",
      "yt : [INFO     ] 2024-08-12 11:47:37,495 Parameters: domain_dimensions         = [320 256 256]\n",
      "yt : [INFO     ] 2024-08-12 11:47:37,496 Parameters: domain_left_edge          = [-4. -2. -2.]\n",
      "yt : [INFO     ] 2024-08-12 11:47:37,497 Parameters: domain_right_edge         = [1. 2. 2.]\n"
     ]
    },
    {
     "name": "stdout",
     "output_type": "stream",
     "text": [
      "/Users/atcushen/Documents/MercuryModelling/runs/nightside_v1_run4/ta-2_rerun/3d_fluid_region0_2_t00000228_n00007520_amrex\n",
      "Plotting t 148.4\n"
     ]
    },
    {
     "name": "stderr",
     "output_type": "stream",
     "text": [
      "yt : [INFO     ] 2024-08-12 11:47:38,642 Parameters: current_time              = 148.6004757783201\n",
      "yt : [INFO     ] 2024-08-12 11:47:38,643 Parameters: domain_dimensions         = [320 256 256]\n",
      "yt : [INFO     ] 2024-08-12 11:47:38,644 Parameters: domain_left_edge          = [-4. -2. -2.]\n",
      "yt : [INFO     ] 2024-08-12 11:47:38,644 Parameters: domain_right_edge         = [1. 2. 2.]\n"
     ]
    },
    {
     "name": "stdout",
     "output_type": "stream",
     "text": [
      "/Users/atcushen/Documents/MercuryModelling/runs/nightside_v1_run4/ta-2_rerun/3d_fluid_region0_2_t00000228_n00007639_amrex\n",
      "Plotting t 148.6\n"
     ]
    },
    {
     "name": "stderr",
     "output_type": "stream",
     "text": [
      "yt : [INFO     ] 2024-08-12 11:47:40,658 Parameters: current_time              = 148.80001096458946\n",
      "yt : [INFO     ] 2024-08-12 11:47:40,659 Parameters: domain_dimensions         = [320 256 256]\n",
      "yt : [INFO     ] 2024-08-12 11:47:40,659 Parameters: domain_left_edge          = [-4. -2. -2.]\n",
      "yt : [INFO     ] 2024-08-12 11:47:40,660 Parameters: domain_right_edge         = [1. 2. 2.]\n"
     ]
    },
    {
     "name": "stdout",
     "output_type": "stream",
     "text": [
      "/Users/atcushen/Documents/MercuryModelling/runs/nightside_v1_run4/ta-2_rerun/3d_fluid_region0_2_t00000228_n00007754_amrex\n",
      "Plotting t 148.8\n"
     ]
    },
    {
     "name": "stderr",
     "output_type": "stream",
     "text": [
      "yt : [INFO     ] 2024-08-12 11:47:41,809 Parameters: current_time              = 149.0000734165961\n",
      "yt : [INFO     ] 2024-08-12 11:47:41,810 Parameters: domain_dimensions         = [320 256 256]\n",
      "yt : [INFO     ] 2024-08-12 11:47:41,810 Parameters: domain_left_edge          = [-4. -2. -2.]\n",
      "yt : [INFO     ] 2024-08-12 11:47:41,811 Parameters: domain_right_edge         = [1. 2. 2.]\n"
     ]
    },
    {
     "name": "stdout",
     "output_type": "stream",
     "text": [
      "/Users/atcushen/Documents/MercuryModelling/runs/nightside_v1_run4/ta-2_rerun/3d_fluid_region0_2_t00000229_n00007865_amrex\n",
      "Plotting t 149.0\n"
     ]
    },
    {
     "name": "stderr",
     "output_type": "stream",
     "text": [
      "yt : [INFO     ] 2024-08-12 11:47:42,956 Parameters: current_time              = 149.2003252758984\n",
      "yt : [INFO     ] 2024-08-12 11:47:42,957 Parameters: domain_dimensions         = [320 256 256]\n",
      "yt : [INFO     ] 2024-08-12 11:47:42,957 Parameters: domain_left_edge          = [-4. -2. -2.]\n",
      "yt : [INFO     ] 2024-08-12 11:47:42,958 Parameters: domain_right_edge         = [1. 2. 2.]\n"
     ]
    },
    {
     "name": "stdout",
     "output_type": "stream",
     "text": [
      "/Users/atcushen/Documents/MercuryModelling/runs/nightside_v1_run4/ta-2_rerun/3d_fluid_region0_2_t00000229_n00007975_amrex\n",
      "Plotting t 149.2\n"
     ]
    },
    {
     "name": "stderr",
     "output_type": "stream",
     "text": [
      "yt : [INFO     ] 2024-08-12 11:47:44,095 Parameters: current_time              = 149.40072738117814\n",
      "yt : [INFO     ] 2024-08-12 11:47:44,096 Parameters: domain_dimensions         = [320 256 256]\n",
      "yt : [INFO     ] 2024-08-12 11:47:44,096 Parameters: domain_left_edge          = [-4. -2. -2.]\n",
      "yt : [INFO     ] 2024-08-12 11:47:44,097 Parameters: domain_right_edge         = [1. 2. 2.]\n"
     ]
    },
    {
     "name": "stdout",
     "output_type": "stream",
     "text": [
      "/Users/atcushen/Documents/MercuryModelling/runs/nightside_v1_run4/ta-2_rerun/3d_fluid_region0_2_t00000229_n00008085_amrex\n",
      "Plotting t 149.4\n"
     ]
    },
    {
     "name": "stderr",
     "output_type": "stream",
     "text": [
      "yt : [INFO     ] 2024-08-12 11:47:45,233 Parameters: current_time              = 149.6015566193966\n",
      "yt : [INFO     ] 2024-08-12 11:47:45,234 Parameters: domain_dimensions         = [320 256 256]\n",
      "yt : [INFO     ] 2024-08-12 11:47:45,235 Parameters: domain_left_edge          = [-4. -2. -2.]\n",
      "yt : [INFO     ] 2024-08-12 11:47:45,235 Parameters: domain_right_edge         = [1. 2. 2.]\n"
     ]
    },
    {
     "name": "stdout",
     "output_type": "stream",
     "text": [
      "/Users/atcushen/Documents/MercuryModelling/runs/nightside_v1_run4/ta-2_rerun/3d_fluid_region0_2_t00000229_n00008202_amrex\n",
      "Plotting t 149.6\n"
     ]
    },
    {
     "name": "stderr",
     "output_type": "stream",
     "text": [
      "yt : [INFO     ] 2024-08-12 11:47:46,387 Parameters: current_time              = 149.80082493924567\n",
      "yt : [INFO     ] 2024-08-12 11:47:46,388 Parameters: domain_dimensions         = [320 256 256]\n",
      "yt : [INFO     ] 2024-08-12 11:47:46,388 Parameters: domain_left_edge          = [-4. -2. -2.]\n",
      "yt : [INFO     ] 2024-08-12 11:47:46,389 Parameters: domain_right_edge         = [1. 2. 2.]\n"
     ]
    },
    {
     "name": "stdout",
     "output_type": "stream",
     "text": [
      "/Users/atcushen/Documents/MercuryModelling/runs/nightside_v1_run4/ta-2_rerun/3d_fluid_region0_2_t00000229_n00008313_amrex\n",
      "Plotting t 149.8\n"
     ]
    },
    {
     "name": "stderr",
     "output_type": "stream",
     "text": [
      "yt : [INFO     ] 2024-08-12 11:47:47,545 Parameters: current_time              = 150.00148673941126\n",
      "yt : [INFO     ] 2024-08-12 11:47:47,546 Parameters: domain_dimensions         = [320 256 256]\n",
      "yt : [INFO     ] 2024-08-12 11:47:47,547 Parameters: domain_left_edge          = [-4. -2. -2.]\n",
      "yt : [INFO     ] 2024-08-12 11:47:47,547 Parameters: domain_right_edge         = [1. 2. 2.]\n"
     ]
    },
    {
     "name": "stdout",
     "output_type": "stream",
     "text": [
      "/Users/atcushen/Documents/MercuryModelling/runs/nightside_v1_run4/ta-2_rerun/3d_fluid_region0_2_t00000230_n00008439_amrex\n",
      "Plotting t 150.0\n"
     ]
    },
    {
     "name": "stderr",
     "output_type": "stream",
     "text": [
      "yt : [INFO     ] 2024-08-12 11:47:48,682 Parameters: current_time              = 150.2005521138444\n",
      "yt : [INFO     ] 2024-08-12 11:47:48,683 Parameters: domain_dimensions         = [320 256 256]\n",
      "yt : [INFO     ] 2024-08-12 11:47:48,684 Parameters: domain_left_edge          = [-4. -2. -2.]\n",
      "yt : [INFO     ] 2024-08-12 11:47:48,684 Parameters: domain_right_edge         = [1. 2. 2.]\n"
     ]
    },
    {
     "name": "stdout",
     "output_type": "stream",
     "text": [
      "/Users/atcushen/Documents/MercuryModelling/runs/nightside_v1_run4/ta-2_rerun/3d_fluid_region0_2_t00000230_n00008553_amrex\n",
      "Plotting t 150.2\n"
     ]
    },
    {
     "name": "stderr",
     "output_type": "stream",
     "text": [
      "yt : [INFO     ] 2024-08-12 11:47:49,819 Parameters: current_time              = 150.400015659628\n",
      "yt : [INFO     ] 2024-08-12 11:47:49,820 Parameters: domain_dimensions         = [320 256 256]\n",
      "yt : [INFO     ] 2024-08-12 11:47:49,820 Parameters: domain_left_edge          = [-4. -2. -2.]\n",
      "yt : [INFO     ] 2024-08-12 11:47:49,821 Parameters: domain_right_edge         = [1. 2. 2.]\n"
     ]
    },
    {
     "name": "stdout",
     "output_type": "stream",
     "text": [
      "/Users/atcushen/Documents/MercuryModelling/runs/nightside_v1_run4/ta-2_rerun/3d_fluid_region0_2_t00000230_n00008668_amrex\n",
      "Plotting t 150.4\n"
     ]
    },
    {
     "name": "stderr",
     "output_type": "stream",
     "text": [
      "yt : [INFO     ] 2024-08-12 11:47:50,976 Parameters: current_time              = 150.6000693753373\n",
      "yt : [INFO     ] 2024-08-12 11:47:50,977 Parameters: domain_dimensions         = [320 256 256]\n",
      "yt : [INFO     ] 2024-08-12 11:47:50,978 Parameters: domain_left_edge          = [-4. -2. -2.]\n",
      "yt : [INFO     ] 2024-08-12 11:47:50,978 Parameters: domain_right_edge         = [1. 2. 2.]\n"
     ]
    },
    {
     "name": "stdout",
     "output_type": "stream",
     "text": [
      "/Users/atcushen/Documents/MercuryModelling/runs/nightside_v1_run4/ta-2_rerun/3d_fluid_region0_2_t00000230_n00008790_amrex\n",
      "Plotting t 150.6\n"
     ]
    },
    {
     "name": "stderr",
     "output_type": "stream",
     "text": [
      "yt : [INFO     ] 2024-08-12 11:47:53,036 Parameters: current_time              = 150.80108070368905\n",
      "yt : [INFO     ] 2024-08-12 11:47:53,036 Parameters: domain_dimensions         = [320 256 256]\n",
      "yt : [INFO     ] 2024-08-12 11:47:53,037 Parameters: domain_left_edge          = [-4. -2. -2.]\n",
      "yt : [INFO     ] 2024-08-12 11:47:53,038 Parameters: domain_right_edge         = [1. 2. 2.]\n"
     ]
    },
    {
     "name": "stdout",
     "output_type": "stream",
     "text": [
      "/Users/atcushen/Documents/MercuryModelling/runs/nightside_v1_run4/ta-2_rerun/3d_fluid_region0_2_t00000230_n00008913_amrex\n",
      "Plotting t 150.8\n"
     ]
    },
    {
     "name": "stderr",
     "output_type": "stream",
     "text": [
      "yt : [INFO     ] 2024-08-12 11:47:54,191 Parameters: current_time              = 151.00039844126414\n",
      "yt : [INFO     ] 2024-08-12 11:47:54,192 Parameters: domain_dimensions         = [320 256 256]\n",
      "yt : [INFO     ] 2024-08-12 11:47:54,193 Parameters: domain_left_edge          = [-4. -2. -2.]\n",
      "yt : [INFO     ] 2024-08-12 11:47:54,193 Parameters: domain_right_edge         = [1. 2. 2.]\n"
     ]
    },
    {
     "name": "stdout",
     "output_type": "stream",
     "text": [
      "/Users/atcushen/Documents/MercuryModelling/runs/nightside_v1_run4/ta-2_rerun/3d_fluid_region0_2_t00000231_n00009032_amrex\n",
      "Plotting t 151.0\n"
     ]
    },
    {
     "name": "stderr",
     "output_type": "stream",
     "text": [
      "yt : [INFO     ] 2024-08-12 11:47:55,334 Parameters: current_time              = 151.20089165283974\n",
      "yt : [INFO     ] 2024-08-12 11:47:55,334 Parameters: domain_dimensions         = [320 256 256]\n",
      "yt : [INFO     ] 2024-08-12 11:47:55,335 Parameters: domain_left_edge          = [-4. -2. -2.]\n",
      "yt : [INFO     ] 2024-08-12 11:47:55,336 Parameters: domain_right_edge         = [1. 2. 2.]\n"
     ]
    },
    {
     "name": "stdout",
     "output_type": "stream",
     "text": [
      "/Users/atcushen/Documents/MercuryModelling/runs/nightside_v1_run4/ta-2_rerun/3d_fluid_region0_2_t00000231_n00009154_amrex\n",
      "Plotting t 151.2\n"
     ]
    },
    {
     "name": "stderr",
     "output_type": "stream",
     "text": [
      "yt : [INFO     ] 2024-08-12 11:47:56,477 Parameters: current_time              = 151.40112448269443\n",
      "yt : [INFO     ] 2024-08-12 11:47:56,478 Parameters: domain_dimensions         = [320 256 256]\n",
      "yt : [INFO     ] 2024-08-12 11:47:56,479 Parameters: domain_left_edge          = [-4. -2. -2.]\n",
      "yt : [INFO     ] 2024-08-12 11:47:56,479 Parameters: domain_right_edge         = [1. 2. 2.]\n"
     ]
    },
    {
     "name": "stdout",
     "output_type": "stream",
     "text": [
      "/Users/atcushen/Documents/MercuryModelling/runs/nightside_v1_run4/ta-2_rerun/3d_fluid_region0_2_t00000231_n00009278_amrex\n",
      "Plotting t 151.4\n"
     ]
    },
    {
     "name": "stderr",
     "output_type": "stream",
     "text": [
      "yt : [INFO     ] 2024-08-12 11:47:57,617 Parameters: current_time              = 151.6011499981376\n",
      "yt : [INFO     ] 2024-08-12 11:47:57,617 Parameters: domain_dimensions         = [320 256 256]\n",
      "yt : [INFO     ] 2024-08-12 11:47:57,618 Parameters: domain_left_edge          = [-4. -2. -2.]\n",
      "yt : [INFO     ] 2024-08-12 11:47:57,619 Parameters: domain_right_edge         = [1. 2. 2.]\n"
     ]
    },
    {
     "name": "stdout",
     "output_type": "stream",
     "text": [
      "/Users/atcushen/Documents/MercuryModelling/runs/nightside_v1_run4/ta-2_rerun/3d_fluid_region0_2_t00000231_n00009398_amrex\n",
      "Plotting t 151.6\n"
     ]
    },
    {
     "name": "stderr",
     "output_type": "stream",
     "text": [
      "yt : [INFO     ] 2024-08-12 11:47:58,755 Parameters: current_time              = 151.8010785256923\n",
      "yt : [INFO     ] 2024-08-12 11:47:58,756 Parameters: domain_dimensions         = [320 256 256]\n",
      "yt : [INFO     ] 2024-08-12 11:47:58,756 Parameters: domain_left_edge          = [-4. -2. -2.]\n",
      "yt : [INFO     ] 2024-08-12 11:47:58,757 Parameters: domain_right_edge         = [1. 2. 2.]\n"
     ]
    },
    {
     "name": "stdout",
     "output_type": "stream",
     "text": [
      "/Users/atcushen/Documents/MercuryModelling/runs/nightside_v1_run4/ta-2_rerun/3d_fluid_region0_2_t00000231_n00009517_amrex\n",
      "Plotting t 151.8\n"
     ]
    },
    {
     "name": "stderr",
     "output_type": "stream",
     "text": [
      "yt : [INFO     ] 2024-08-12 11:47:59,903 Parameters: current_time              = 152.00040762804448\n",
      "yt : [INFO     ] 2024-08-12 11:47:59,903 Parameters: domain_dimensions         = [320 256 256]\n",
      "yt : [INFO     ] 2024-08-12 11:47:59,904 Parameters: domain_left_edge          = [-4. -2. -2.]\n",
      "yt : [INFO     ] 2024-08-12 11:47:59,905 Parameters: domain_right_edge         = [1. 2. 2.]\n"
     ]
    },
    {
     "name": "stdout",
     "output_type": "stream",
     "text": [
      "/Users/atcushen/Documents/MercuryModelling/runs/nightside_v1_run4/ta-2_rerun/3d_fluid_region0_2_t00000232_n00009632_amrex\n",
      "Plotting t 152.0\n"
     ]
    },
    {
     "name": "stderr",
     "output_type": "stream",
     "text": [
      "yt : [INFO     ] 2024-08-12 11:48:01,089 Parameters: current_time              = 152.20043437568592\n",
      "yt : [INFO     ] 2024-08-12 11:48:01,090 Parameters: domain_dimensions         = [320 256 256]\n",
      "yt : [INFO     ] 2024-08-12 11:48:01,091 Parameters: domain_left_edge          = [-4. -2. -2.]\n",
      "yt : [INFO     ] 2024-08-12 11:48:01,091 Parameters: domain_right_edge         = [1. 2. 2.]\n"
     ]
    },
    {
     "name": "stdout",
     "output_type": "stream",
     "text": [
      "/Users/atcushen/Documents/MercuryModelling/runs/nightside_v1_run4/ta-2_rerun/3d_fluid_region0_2_t00000232_n00009744_amrex\n",
      "Plotting t 152.2\n"
     ]
    },
    {
     "name": "stderr",
     "output_type": "stream",
     "text": [
      "yt : [INFO     ] 2024-08-12 11:48:02,287 Parameters: current_time              = 152.4005159001462\n",
      "yt : [INFO     ] 2024-08-12 11:48:02,287 Parameters: domain_dimensions         = [320 256 256]\n",
      "yt : [INFO     ] 2024-08-12 11:48:02,288 Parameters: domain_left_edge          = [-4. -2. -2.]\n",
      "yt : [INFO     ] 2024-08-12 11:48:02,289 Parameters: domain_right_edge         = [1. 2. 2.]\n"
     ]
    },
    {
     "name": "stdout",
     "output_type": "stream",
     "text": [
      "/Users/atcushen/Documents/MercuryModelling/runs/nightside_v1_run4/ta-2_rerun/3d_fluid_region0_2_t00000232_n00009850_amrex\n",
      "Plotting t 152.4\n"
     ]
    },
    {
     "name": "stderr",
     "output_type": "stream",
     "text": [
      "yt : [INFO     ] 2024-08-12 11:48:03,437 Parameters: current_time              = 152.6001298117408\n",
      "yt : [INFO     ] 2024-08-12 11:48:03,437 Parameters: domain_dimensions         = [320 256 256]\n",
      "yt : [INFO     ] 2024-08-12 11:48:03,438 Parameters: domain_left_edge          = [-4. -2. -2.]\n",
      "yt : [INFO     ] 2024-08-12 11:48:03,439 Parameters: domain_right_edge         = [1. 2. 2.]\n"
     ]
    },
    {
     "name": "stdout",
     "output_type": "stream",
     "text": [
      "/Users/atcushen/Documents/MercuryModelling/runs/nightside_v1_run4/ta-2_rerun/3d_fluid_region0_2_t00000232_n00009953_amrex\n",
      "Plotting t 152.6\n"
     ]
    },
    {
     "name": "stderr",
     "output_type": "stream",
     "text": [
      "yt : [INFO     ] 2024-08-12 11:48:05,513 Parameters: current_time              = 152.8016493348407\n",
      "yt : [INFO     ] 2024-08-12 11:48:05,514 Parameters: domain_dimensions         = [320 256 256]\n",
      "yt : [INFO     ] 2024-08-12 11:48:05,515 Parameters: domain_left_edge          = [-4. -2. -2.]\n",
      "yt : [INFO     ] 2024-08-12 11:48:05,515 Parameters: domain_right_edge         = [1. 2. 2.]\n"
     ]
    },
    {
     "name": "stdout",
     "output_type": "stream",
     "text": [
      "/Users/atcushen/Documents/MercuryModelling/runs/nightside_v1_run4/ta-2_rerun/3d_fluid_region0_2_t00000232_n00010058_amrex\n",
      "Plotting t 152.8\n"
     ]
    },
    {
     "name": "stderr",
     "output_type": "stream",
     "text": [
      "yt : [INFO     ] 2024-08-12 11:48:06,661 Parameters: current_time              = 153.00086385175481\n",
      "yt : [INFO     ] 2024-08-12 11:48:06,661 Parameters: domain_dimensions         = [320 256 256]\n",
      "yt : [INFO     ] 2024-08-12 11:48:06,662 Parameters: domain_left_edge          = [-4. -2. -2.]\n",
      "yt : [INFO     ] 2024-08-12 11:48:06,663 Parameters: domain_right_edge         = [1. 2. 2.]\n"
     ]
    },
    {
     "name": "stdout",
     "output_type": "stream",
     "text": [
      "/Users/atcushen/Documents/MercuryModelling/runs/nightside_v1_run4/ta-2_rerun/3d_fluid_region0_2_t00000233_n00010164_amrex\n",
      "Plotting t 153.0\n"
     ]
    },
    {
     "name": "stderr",
     "output_type": "stream",
     "text": [
      "yt : [INFO     ] 2024-08-12 11:48:07,799 Parameters: current_time              = 153.2003512381722\n",
      "yt : [INFO     ] 2024-08-12 11:48:07,800 Parameters: domain_dimensions         = [320 256 256]\n",
      "yt : [INFO     ] 2024-08-12 11:48:07,801 Parameters: domain_left_edge          = [-4. -2. -2.]\n",
      "yt : [INFO     ] 2024-08-12 11:48:07,801 Parameters: domain_right_edge         = [1. 2. 2.]\n"
     ]
    },
    {
     "name": "stdout",
     "output_type": "stream",
     "text": [
      "/Users/atcushen/Documents/MercuryModelling/runs/nightside_v1_run4/ta-2_rerun/3d_fluid_region0_2_t00000233_n00010274_amrex\n",
      "Plotting t 153.2\n"
     ]
    },
    {
     "name": "stderr",
     "output_type": "stream",
     "text": [
      "yt : [INFO     ] 2024-08-12 11:48:08,937 Parameters: current_time              = 153.4014226082125\n",
      "yt : [INFO     ] 2024-08-12 11:48:08,938 Parameters: domain_dimensions         = [320 256 256]\n",
      "yt : [INFO     ] 2024-08-12 11:48:08,939 Parameters: domain_left_edge          = [-4. -2. -2.]\n",
      "yt : [INFO     ] 2024-08-12 11:48:08,940 Parameters: domain_right_edge         = [1. 2. 2.]\n"
     ]
    },
    {
     "name": "stdout",
     "output_type": "stream",
     "text": [
      "/Users/atcushen/Documents/MercuryModelling/runs/nightside_v1_run4/ta-2_rerun/3d_fluid_region0_2_t00000233_n00010390_amrex\n",
      "Plotting t 153.4\n"
     ]
    },
    {
     "name": "stderr",
     "output_type": "stream",
     "text": [
      "yt : [INFO     ] 2024-08-12 11:48:10,078 Parameters: current_time              = 153.6017315103743\n",
      "yt : [INFO     ] 2024-08-12 11:48:10,079 Parameters: domain_dimensions         = [320 256 256]\n",
      "yt : [INFO     ] 2024-08-12 11:48:10,080 Parameters: domain_left_edge          = [-4. -2. -2.]\n",
      "yt : [INFO     ] 2024-08-12 11:48:10,080 Parameters: domain_right_edge         = [1. 2. 2.]\n"
     ]
    },
    {
     "name": "stdout",
     "output_type": "stream",
     "text": [
      "/Users/atcushen/Documents/MercuryModelling/runs/nightside_v1_run4/ta-2_rerun/3d_fluid_region0_2_t00000233_n00010505_amrex\n",
      "Plotting t 153.6\n"
     ]
    },
    {
     "name": "stderr",
     "output_type": "stream",
     "text": [
      "yt : [INFO     ] 2024-08-12 11:48:11,212 Parameters: current_time              = 153.80134965200205\n",
      "yt : [INFO     ] 2024-08-12 11:48:11,213 Parameters: domain_dimensions         = [320 256 256]\n",
      "yt : [INFO     ] 2024-08-12 11:48:11,214 Parameters: domain_left_edge          = [-4. -2. -2.]\n",
      "yt : [INFO     ] 2024-08-12 11:48:11,214 Parameters: domain_right_edge         = [1. 2. 2.]\n"
     ]
    },
    {
     "name": "stdout",
     "output_type": "stream",
     "text": [
      "/Users/atcushen/Documents/MercuryModelling/runs/nightside_v1_run4/ta-2_rerun/3d_fluid_region0_2_t00000233_n00010620_amrex\n",
      "Plotting t 153.8\n"
     ]
    },
    {
     "name": "stderr",
     "output_type": "stream",
     "text": [
      "yt : [INFO     ] 2024-08-12 11:48:12,367 Parameters: current_time              = 154.00058372677896\n",
      "yt : [INFO     ] 2024-08-12 11:48:12,368 Parameters: domain_dimensions         = [320 256 256]\n",
      "yt : [INFO     ] 2024-08-12 11:48:12,368 Parameters: domain_left_edge          = [-4. -2. -2.]\n",
      "yt : [INFO     ] 2024-08-12 11:48:12,369 Parameters: domain_right_edge         = [1. 2. 2.]\n"
     ]
    },
    {
     "name": "stdout",
     "output_type": "stream",
     "text": [
      "/Users/atcushen/Documents/MercuryModelling/runs/nightside_v1_run4/ta-2_rerun/3d_fluid_region0_2_t00000234_n00010738_amrex\n",
      "Plotting t 154.0\n"
     ]
    },
    {
     "name": "stderr",
     "output_type": "stream",
     "text": [
      "yt : [INFO     ] 2024-08-12 11:48:13,499 Parameters: current_time              = 154.20027182148405\n",
      "yt : [INFO     ] 2024-08-12 11:48:13,500 Parameters: domain_dimensions         = [320 256 256]\n",
      "yt : [INFO     ] 2024-08-12 11:48:13,501 Parameters: domain_left_edge          = [-4. -2. -2.]\n",
      "yt : [INFO     ] 2024-08-12 11:48:13,501 Parameters: domain_right_edge         = [1. 2. 2.]\n"
     ]
    },
    {
     "name": "stdout",
     "output_type": "stream",
     "text": [
      "/Users/atcushen/Documents/MercuryModelling/runs/nightside_v1_run4/ta-2_rerun/3d_fluid_region0_2_t00000234_n00010865_amrex\n",
      "Plotting t 154.2\n"
     ]
    },
    {
     "name": "stderr",
     "output_type": "stream",
     "text": [
      "yt : [INFO     ] 2024-08-12 11:48:14,645 Parameters: current_time              = 154.40029960110982\n",
      "yt : [INFO     ] 2024-08-12 11:48:14,646 Parameters: domain_dimensions         = [320 256 256]\n",
      "yt : [INFO     ] 2024-08-12 11:48:14,646 Parameters: domain_left_edge          = [-4. -2. -2.]\n",
      "yt : [INFO     ] 2024-08-12 11:48:14,647 Parameters: domain_right_edge         = [1. 2. 2.]\n"
     ]
    },
    {
     "name": "stdout",
     "output_type": "stream",
     "text": [
      "/Users/atcushen/Documents/MercuryModelling/runs/nightside_v1_run4/ta-2_rerun/3d_fluid_region0_2_t00000234_n00010992_amrex\n",
      "Plotting t 154.4\n"
     ]
    },
    {
     "name": "stderr",
     "output_type": "stream",
     "text": [
      "yt : [INFO     ] 2024-08-12 11:48:15,786 Parameters: current_time              = 154.60020746817239\n",
      "yt : [INFO     ] 2024-08-12 11:48:15,787 Parameters: domain_dimensions         = [320 256 256]\n",
      "yt : [INFO     ] 2024-08-12 11:48:15,788 Parameters: domain_left_edge          = [-4. -2. -2.]\n",
      "yt : [INFO     ] 2024-08-12 11:48:15,789 Parameters: domain_right_edge         = [1. 2. 2.]\n"
     ]
    },
    {
     "name": "stdout",
     "output_type": "stream",
     "text": [
      "/Users/atcushen/Documents/MercuryModelling/runs/nightside_v1_run4/ta-2_rerun/3d_fluid_region0_2_t00000234_n00011112_amrex\n",
      "Plotting t 154.6\n"
     ]
    },
    {
     "name": "stderr",
     "output_type": "stream",
     "text": [
      "yt : [INFO     ] 2024-08-12 11:48:17,956 Parameters: current_time              = 154.80017912213015\n",
      "yt : [INFO     ] 2024-08-12 11:48:17,957 Parameters: domain_dimensions         = [320 256 256]\n",
      "yt : [INFO     ] 2024-08-12 11:48:17,957 Parameters: domain_left_edge          = [-4. -2. -2.]\n",
      "yt : [INFO     ] 2024-08-12 11:48:17,958 Parameters: domain_right_edge         = [1. 2. 2.]\n"
     ]
    },
    {
     "name": "stdout",
     "output_type": "stream",
     "text": [
      "/Users/atcushen/Documents/MercuryModelling/runs/nightside_v1_run4/ta-2_rerun/3d_fluid_region0_2_t00000234_n00011227_amrex\n",
      "Plotting t 154.8\n"
     ]
    },
    {
     "name": "stderr",
     "output_type": "stream",
     "text": [
      "yt : [INFO     ] 2024-08-12 11:48:19,118 Parameters: current_time              = 155.00116269666523\n",
      "yt : [INFO     ] 2024-08-12 11:48:19,119 Parameters: domain_dimensions         = [320 256 256]\n",
      "yt : [INFO     ] 2024-08-12 11:48:19,119 Parameters: domain_left_edge          = [-4. -2. -2.]\n",
      "yt : [INFO     ] 2024-08-12 11:48:19,120 Parameters: domain_right_edge         = [1. 2. 2.]\n"
     ]
    },
    {
     "name": "stdout",
     "output_type": "stream",
     "text": [
      "/Users/atcushen/Documents/MercuryModelling/runs/nightside_v1_run4/ta-2_rerun/3d_fluid_region0_2_t00000235_n00011338_amrex\n",
      "Plotting t 155.0\n"
     ]
    },
    {
     "name": "stderr",
     "output_type": "stream",
     "text": [
      "yt : [INFO     ] 2024-08-12 11:48:20,263 Parameters: current_time              = 155.20094255541542\n",
      "yt : [INFO     ] 2024-08-12 11:48:20,263 Parameters: domain_dimensions         = [320 256 256]\n",
      "yt : [INFO     ] 2024-08-12 11:48:20,264 Parameters: domain_left_edge          = [-4. -2. -2.]\n",
      "yt : [INFO     ] 2024-08-12 11:48:20,265 Parameters: domain_right_edge         = [1. 2. 2.]\n"
     ]
    },
    {
     "name": "stdout",
     "output_type": "stream",
     "text": [
      "/Users/atcushen/Documents/MercuryModelling/runs/nightside_v1_run4/ta-2_rerun/3d_fluid_region0_2_t00000235_n00011446_amrex\n",
      "Plotting t 155.2\n"
     ]
    },
    {
     "name": "stderr",
     "output_type": "stream",
     "text": [
      "yt : [INFO     ] 2024-08-12 11:48:21,399 Parameters: current_time              = 155.40149369106726\n",
      "yt : [INFO     ] 2024-08-12 11:48:21,400 Parameters: domain_dimensions         = [320 256 256]\n",
      "yt : [INFO     ] 2024-08-12 11:48:21,401 Parameters: domain_left_edge          = [-4. -2. -2.]\n",
      "yt : [INFO     ] 2024-08-12 11:48:21,401 Parameters: domain_right_edge         = [1. 2. 2.]\n"
     ]
    },
    {
     "name": "stdout",
     "output_type": "stream",
     "text": [
      "/Users/atcushen/Documents/MercuryModelling/runs/nightside_v1_run4/ta-2_rerun/3d_fluid_region0_2_t00000235_n00011552_amrex\n",
      "Plotting t 155.4\n"
     ]
    },
    {
     "name": "stderr",
     "output_type": "stream",
     "text": [
      "yt : [INFO     ] 2024-08-12 11:48:22,576 Parameters: current_time              = 155.60109499534693\n",
      "yt : [INFO     ] 2024-08-12 11:48:22,577 Parameters: domain_dimensions         = [320 256 256]\n",
      "yt : [INFO     ] 2024-08-12 11:48:22,577 Parameters: domain_left_edge          = [-4. -2. -2.]\n",
      "yt : [INFO     ] 2024-08-12 11:48:22,578 Parameters: domain_right_edge         = [1. 2. 2.]\n"
     ]
    },
    {
     "name": "stdout",
     "output_type": "stream",
     "text": [
      "/Users/atcushen/Documents/MercuryModelling/runs/nightside_v1_run4/ta-2_rerun/3d_fluid_region0_2_t00000235_n00011662_amrex\n",
      "Plotting t 155.6\n"
     ]
    },
    {
     "name": "stderr",
     "output_type": "stream",
     "text": [
      "yt : [INFO     ] 2024-08-12 11:48:23,718 Parameters: current_time              = 155.80169564697653\n",
      "yt : [INFO     ] 2024-08-12 11:48:23,719 Parameters: domain_dimensions         = [320 256 256]\n",
      "yt : [INFO     ] 2024-08-12 11:48:23,719 Parameters: domain_left_edge          = [-4. -2. -2.]\n",
      "yt : [INFO     ] 2024-08-12 11:48:23,720 Parameters: domain_right_edge         = [1. 2. 2.]\n"
     ]
    },
    {
     "name": "stdout",
     "output_type": "stream",
     "text": [
      "/Users/atcushen/Documents/MercuryModelling/runs/nightside_v1_run4/ta-2_rerun/3d_fluid_region0_2_t00000235_n00011776_amrex\n",
      "Plotting t 155.8\n"
     ]
    },
    {
     "name": "stderr",
     "output_type": "stream",
     "text": [
      "yt : [INFO     ] 2024-08-12 11:48:24,858 Parameters: current_time              = 156.00110976895837\n",
      "yt : [INFO     ] 2024-08-12 11:48:24,859 Parameters: domain_dimensions         = [320 256 256]\n",
      "yt : [INFO     ] 2024-08-12 11:48:24,860 Parameters: domain_left_edge          = [-4. -2. -2.]\n",
      "yt : [INFO     ] 2024-08-12 11:48:24,860 Parameters: domain_right_edge         = [1. 2. 2.]\n"
     ]
    },
    {
     "name": "stdout",
     "output_type": "stream",
     "text": [
      "/Users/atcushen/Documents/MercuryModelling/runs/nightside_v1_run4/ta-2_rerun/3d_fluid_region0_2_t00000236_n00011885_amrex\n",
      "Plotting t 156.0\n"
     ]
    },
    {
     "name": "stderr",
     "output_type": "stream",
     "text": [
      "yt : [INFO     ] 2024-08-12 11:48:25,997 Parameters: current_time              = 156.20172913489395\n",
      "yt : [INFO     ] 2024-08-12 11:48:25,997 Parameters: domain_dimensions         = [320 256 256]\n",
      "yt : [INFO     ] 2024-08-12 11:48:25,998 Parameters: domain_left_edge          = [-4. -2. -2.]\n",
      "yt : [INFO     ] 2024-08-12 11:48:25,999 Parameters: domain_right_edge         = [1. 2. 2.]\n"
     ]
    },
    {
     "name": "stdout",
     "output_type": "stream",
     "text": [
      "/Users/atcushen/Documents/MercuryModelling/runs/nightside_v1_run4/ta-2_rerun/3d_fluid_region0_2_t00000236_n00011998_amrex\n",
      "Plotting t 156.2\n"
     ]
    },
    {
     "name": "stderr",
     "output_type": "stream",
     "text": [
      "yt : [INFO     ] 2024-08-12 11:48:27,127 Parameters: current_time              = 156.40125219850214\n",
      "yt : [INFO     ] 2024-08-12 11:48:27,128 Parameters: domain_dimensions         = [320 256 256]\n",
      "yt : [INFO     ] 2024-08-12 11:48:27,128 Parameters: domain_left_edge          = [-4. -2. -2.]\n",
      "yt : [INFO     ] 2024-08-12 11:48:27,129 Parameters: domain_right_edge         = [1. 2. 2.]\n"
     ]
    },
    {
     "name": "stdout",
     "output_type": "stream",
     "text": [
      "/Users/atcushen/Documents/MercuryModelling/runs/nightside_v1_run4/ta-2_rerun/3d_fluid_region0_2_t00000236_n00012111_amrex\n",
      "Plotting t 156.4\n"
     ]
    },
    {
     "name": "stderr",
     "output_type": "stream",
     "text": [
      "yt : [INFO     ] 2024-08-12 11:48:28,273 Parameters: current_time              = 156.6001802667995\n",
      "yt : [INFO     ] 2024-08-12 11:48:28,274 Parameters: domain_dimensions         = [320 256 256]\n",
      "yt : [INFO     ] 2024-08-12 11:48:28,274 Parameters: domain_left_edge          = [-4. -2. -2.]\n",
      "yt : [INFO     ] 2024-08-12 11:48:28,275 Parameters: domain_right_edge         = [1. 2. 2.]\n"
     ]
    },
    {
     "name": "stdout",
     "output_type": "stream",
     "text": [
      "/Users/atcushen/Documents/MercuryModelling/runs/nightside_v1_run4/ta-2_rerun/3d_fluid_region0_2_t00000236_n00012222_amrex\n",
      "Plotting t 156.6\n"
     ]
    },
    {
     "name": "stderr",
     "output_type": "stream",
     "text": [
      "yt : [INFO     ] 2024-08-12 11:48:29,413 Parameters: current_time              = 156.80089479347382\n",
      "yt : [INFO     ] 2024-08-12 11:48:29,414 Parameters: domain_dimensions         = [320 256 256]\n",
      "yt : [INFO     ] 2024-08-12 11:48:29,414 Parameters: domain_left_edge          = [-4. -2. -2.]\n",
      "yt : [INFO     ] 2024-08-12 11:48:29,415 Parameters: domain_right_edge         = [1. 2. 2.]\n"
     ]
    },
    {
     "name": "stdout",
     "output_type": "stream",
     "text": [
      "/Users/atcushen/Documents/MercuryModelling/runs/nightside_v1_run4/ta-2_rerun/3d_fluid_region0_2_t00000236_n00012331_amrex\n",
      "Plotting t 156.8\n"
     ]
    },
    {
     "name": "stderr",
     "output_type": "stream",
     "text": [
      "yt : [INFO     ] 2024-08-12 11:48:31,524 Parameters: current_time              = 157.0012652971371\n",
      "yt : [INFO     ] 2024-08-12 11:48:31,525 Parameters: domain_dimensions         = [320 256 256]\n",
      "yt : [INFO     ] 2024-08-12 11:48:31,526 Parameters: domain_left_edge          = [-4. -2. -2.]\n",
      "yt : [INFO     ] 2024-08-12 11:48:31,526 Parameters: domain_right_edge         = [1. 2. 2.]\n"
     ]
    },
    {
     "name": "stdout",
     "output_type": "stream",
     "text": [
      "/Users/atcushen/Documents/MercuryModelling/runs/nightside_v1_run4/ta-2_rerun/3d_fluid_region0_2_t00000237_n00012441_amrex\n",
      "Plotting t 157.0\n"
     ]
    },
    {
     "name": "stderr",
     "output_type": "stream",
     "text": [
      "yt : [INFO     ] 2024-08-12 11:48:32,670 Parameters: current_time              = 157.20114592629344\n",
      "yt : [INFO     ] 2024-08-12 11:48:32,671 Parameters: domain_dimensions         = [320 256 256]\n",
      "yt : [INFO     ] 2024-08-12 11:48:32,672 Parameters: domain_left_edge          = [-4. -2. -2.]\n",
      "yt : [INFO     ] 2024-08-12 11:48:32,672 Parameters: domain_right_edge         = [1. 2. 2.]\n"
     ]
    },
    {
     "name": "stdout",
     "output_type": "stream",
     "text": [
      "/Users/atcushen/Documents/MercuryModelling/runs/nightside_v1_run4/ta-2_rerun/3d_fluid_region0_2_t00000237_n00012550_amrex\n",
      "Plotting t 157.2\n"
     ]
    },
    {
     "name": "stderr",
     "output_type": "stream",
     "text": [
      "yt : [INFO     ] 2024-08-12 11:48:33,823 Parameters: current_time              = 157.4009062887167\n",
      "yt : [INFO     ] 2024-08-12 11:48:33,824 Parameters: domain_dimensions         = [320 256 256]\n",
      "yt : [INFO     ] 2024-08-12 11:48:33,825 Parameters: domain_left_edge          = [-4. -2. -2.]\n",
      "yt : [INFO     ] 2024-08-12 11:48:33,825 Parameters: domain_right_edge         = [1. 2. 2.]\n"
     ]
    },
    {
     "name": "stdout",
     "output_type": "stream",
     "text": [
      "/Users/atcushen/Documents/MercuryModelling/runs/nightside_v1_run4/ta-2_rerun/3d_fluid_region0_2_t00000237_n00012661_amrex\n",
      "Plotting t 157.4\n"
     ]
    },
    {
     "name": "stderr",
     "output_type": "stream",
     "text": [
      "yt : [INFO     ] 2024-08-12 11:48:34,962 Parameters: current_time              = 157.60157092068326\n",
      "yt : [INFO     ] 2024-08-12 11:48:34,963 Parameters: domain_dimensions         = [320 256 256]\n",
      "yt : [INFO     ] 2024-08-12 11:48:34,964 Parameters: domain_left_edge          = [-4. -2. -2.]\n",
      "yt : [INFO     ] 2024-08-12 11:48:34,965 Parameters: domain_right_edge         = [1. 2. 2.]\n"
     ]
    },
    {
     "name": "stdout",
     "output_type": "stream",
     "text": [
      "/Users/atcushen/Documents/MercuryModelling/runs/nightside_v1_run4/ta-2_rerun/3d_fluid_region0_2_t00000237_n00012772_amrex\n",
      "Plotting t 157.6\n"
     ]
    },
    {
     "name": "stderr",
     "output_type": "stream",
     "text": [
      "yt : [INFO     ] 2024-08-12 11:48:36,102 Parameters: current_time              = 157.800156212949\n",
      "yt : [INFO     ] 2024-08-12 11:48:36,103 Parameters: domain_dimensions         = [320 256 256]\n",
      "yt : [INFO     ] 2024-08-12 11:48:36,103 Parameters: domain_left_edge          = [-4. -2. -2.]\n",
      "yt : [INFO     ] 2024-08-12 11:48:36,104 Parameters: domain_right_edge         = [1. 2. 2.]\n"
     ]
    },
    {
     "name": "stdout",
     "output_type": "stream",
     "text": [
      "/Users/atcushen/Documents/MercuryModelling/runs/nightside_v1_run4/ta-2_rerun/3d_fluid_region0_2_t00000237_n00012886_amrex\n",
      "Plotting t 157.8\n"
     ]
    },
    {
     "name": "stderr",
     "output_type": "stream",
     "text": [
      "yt : [INFO     ] 2024-08-12 11:48:37,240 Parameters: current_time              = 158.00016242431002\n",
      "yt : [INFO     ] 2024-08-12 11:48:37,240 Parameters: domain_dimensions         = [320 256 256]\n",
      "yt : [INFO     ] 2024-08-12 11:48:37,241 Parameters: domain_left_edge          = [-4. -2. -2.]\n",
      "yt : [INFO     ] 2024-08-12 11:48:37,242 Parameters: domain_right_edge         = [1. 2. 2.]\n"
     ]
    },
    {
     "name": "stdout",
     "output_type": "stream",
     "text": [
      "/Users/atcushen/Documents/MercuryModelling/runs/nightside_v1_run4/ta-2_rerun/3d_fluid_region0_2_t00000238_n00013001_amrex\n",
      "Plotting t 158.0\n"
     ]
    },
    {
     "name": "stderr",
     "output_type": "stream",
     "text": [
      "yt : [INFO     ] 2024-08-12 11:48:38,380 Parameters: current_time              = 158.2010825936184\n",
      "yt : [INFO     ] 2024-08-12 11:48:38,381 Parameters: domain_dimensions         = [320 256 256]\n",
      "yt : [INFO     ] 2024-08-12 11:48:38,381 Parameters: domain_left_edge          = [-4. -2. -2.]\n",
      "yt : [INFO     ] 2024-08-12 11:48:38,382 Parameters: domain_right_edge         = [1. 2. 2.]\n"
     ]
    },
    {
     "name": "stdout",
     "output_type": "stream",
     "text": [
      "/Users/atcushen/Documents/MercuryModelling/runs/nightside_v1_run4/ta-2_rerun/3d_fluid_region0_2_t00000238_n00013118_amrex\n",
      "Plotting t 158.2\n"
     ]
    },
    {
     "name": "stderr",
     "output_type": "stream",
     "text": [
      "yt : [INFO     ] 2024-08-12 11:48:39,517 Parameters: current_time              = 158.40052342610036\n",
      "yt : [INFO     ] 2024-08-12 11:48:39,518 Parameters: domain_dimensions         = [320 256 256]\n",
      "yt : [INFO     ] 2024-08-12 11:48:39,518 Parameters: domain_left_edge          = [-4. -2. -2.]\n",
      "yt : [INFO     ] 2024-08-12 11:48:39,519 Parameters: domain_right_edge         = [1. 2. 2.]\n"
     ]
    },
    {
     "name": "stdout",
     "output_type": "stream",
     "text": [
      "/Users/atcushen/Documents/MercuryModelling/runs/nightside_v1_run4/ta-2_rerun/3d_fluid_region0_2_t00000238_n00013235_amrex\n",
      "Plotting t 158.4\n"
     ]
    },
    {
     "name": "stderr",
     "output_type": "stream",
     "text": [
      "yt : [INFO     ] 2024-08-12 11:48:40,659 Parameters: current_time              = 158.60134799943378\n",
      "yt : [INFO     ] 2024-08-12 11:48:40,660 Parameters: domain_dimensions         = [320 256 256]\n",
      "yt : [INFO     ] 2024-08-12 11:48:40,661 Parameters: domain_left_edge          = [-4. -2. -2.]\n",
      "yt : [INFO     ] 2024-08-12 11:48:40,661 Parameters: domain_right_edge         = [1. 2. 2.]\n"
     ]
    },
    {
     "name": "stdout",
     "output_type": "stream",
     "text": [
      "/Users/atcushen/Documents/MercuryModelling/runs/nightside_v1_run4/ta-2_rerun/3d_fluid_region0_2_t00000238_n00013355_amrex\n",
      "Plotting t 158.6\n"
     ]
    },
    {
     "name": "stderr",
     "output_type": "stream",
     "text": [
      "yt : [INFO     ] 2024-08-12 11:48:41,801 Parameters: current_time              = 158.80169086126182\n",
      "yt : [INFO     ] 2024-08-12 11:48:41,802 Parameters: domain_dimensions         = [320 256 256]\n",
      "yt : [INFO     ] 2024-08-12 11:48:41,803 Parameters: domain_left_edge          = [-4. -2. -2.]\n",
      "yt : [INFO     ] 2024-08-12 11:48:41,803 Parameters: domain_right_edge         = [1. 2. 2.]\n"
     ]
    },
    {
     "name": "stdout",
     "output_type": "stream",
     "text": [
      "/Users/atcushen/Documents/MercuryModelling/runs/nightside_v1_run4/ta-2_rerun/3d_fluid_region0_2_t00000238_n00013472_amrex\n",
      "Plotting t 158.8\n"
     ]
    },
    {
     "name": "stderr",
     "output_type": "stream",
     "text": [
      "yt : [INFO     ] 2024-08-12 11:48:42,961 Parameters: current_time              = 159.0013727299274\n",
      "yt : [INFO     ] 2024-08-12 11:48:42,961 Parameters: domain_dimensions         = [320 256 256]\n",
      "yt : [INFO     ] 2024-08-12 11:48:42,962 Parameters: domain_left_edge          = [-4. -2. -2.]\n",
      "yt : [INFO     ] 2024-08-12 11:48:42,963 Parameters: domain_right_edge         = [1. 2. 2.]\n"
     ]
    },
    {
     "name": "stdout",
     "output_type": "stream",
     "text": [
      "/Users/atcushen/Documents/MercuryModelling/runs/nightside_v1_run4/ta-2_rerun/3d_fluid_region0_2_t00000239_n00013583_amrex\n",
      "Plotting t 159.0\n"
     ]
    },
    {
     "name": "stderr",
     "output_type": "stream",
     "text": [
      "yt : [INFO     ] 2024-08-12 11:48:45,089 Parameters: current_time              = 159.20035095933218\n",
      "yt : [INFO     ] 2024-08-12 11:48:45,090 Parameters: domain_dimensions         = [320 256 256]\n",
      "yt : [INFO     ] 2024-08-12 11:48:45,091 Parameters: domain_left_edge          = [-4. -2. -2.]\n",
      "yt : [INFO     ] 2024-08-12 11:48:45,091 Parameters: domain_right_edge         = [1. 2. 2.]\n"
     ]
    },
    {
     "name": "stdout",
     "output_type": "stream",
     "text": [
      "/Users/atcushen/Documents/MercuryModelling/runs/nightside_v1_run4/ta-2_rerun/3d_fluid_region0_2_t00000239_n00013693_amrex\n",
      "Plotting t 159.2\n"
     ]
    },
    {
     "name": "stderr",
     "output_type": "stream",
     "text": [
      "yt : [INFO     ] 2024-08-12 11:48:46,230 Parameters: current_time              = 159.4004413898166\n",
      "yt : [INFO     ] 2024-08-12 11:48:46,231 Parameters: domain_dimensions         = [320 256 256]\n",
      "yt : [INFO     ] 2024-08-12 11:48:46,232 Parameters: domain_left_edge          = [-4. -2. -2.]\n",
      "yt : [INFO     ] 2024-08-12 11:48:46,232 Parameters: domain_right_edge         = [1. 2. 2.]\n"
     ]
    },
    {
     "name": "stdout",
     "output_type": "stream",
     "text": [
      "/Users/atcushen/Documents/MercuryModelling/runs/nightside_v1_run4/ta-2_rerun/3d_fluid_region0_2_t00000239_n00013802_amrex\n",
      "Plotting t 159.4\n"
     ]
    },
    {
     "name": "stderr",
     "output_type": "stream",
     "text": [
      "yt : [INFO     ] 2024-08-12 11:48:47,372 Parameters: current_time              = 159.60038979989375\n",
      "yt : [INFO     ] 2024-08-12 11:48:47,373 Parameters: domain_dimensions         = [320 256 256]\n",
      "yt : [INFO     ] 2024-08-12 11:48:47,373 Parameters: domain_left_edge          = [-4. -2. -2.]\n",
      "yt : [INFO     ] 2024-08-12 11:48:47,374 Parameters: domain_right_edge         = [1. 2. 2.]\n"
     ]
    },
    {
     "name": "stdout",
     "output_type": "stream",
     "text": [
      "/Users/atcushen/Documents/MercuryModelling/runs/nightside_v1_run4/ta-2_rerun/3d_fluid_region0_2_t00000239_n00013906_amrex\n",
      "Plotting t 159.6\n"
     ]
    },
    {
     "name": "stderr",
     "output_type": "stream",
     "text": [
      "yt : [INFO     ] 2024-08-12 11:48:48,548 Parameters: current_time              = 159.80021047280638\n",
      "yt : [INFO     ] 2024-08-12 11:48:48,549 Parameters: domain_dimensions         = [320 256 256]\n",
      "yt : [INFO     ] 2024-08-12 11:48:48,549 Parameters: domain_left_edge          = [-4. -2. -2.]\n",
      "yt : [INFO     ] 2024-08-12 11:48:48,550 Parameters: domain_right_edge         = [1. 2. 2.]\n"
     ]
    },
    {
     "name": "stdout",
     "output_type": "stream",
     "text": [
      "/Users/atcushen/Documents/MercuryModelling/runs/nightside_v1_run4/ta-2_rerun/3d_fluid_region0_2_t00000239_n00014008_amrex\n",
      "Plotting t 159.8\n"
     ]
    },
    {
     "name": "stderr",
     "output_type": "stream",
     "text": [
      "yt : [INFO     ] 2024-08-12 11:48:49,704 Parameters: current_time              = 160.0017268771368\n",
      "yt : [INFO     ] 2024-08-12 11:48:49,704 Parameters: domain_dimensions         = [320 256 256]\n",
      "yt : [INFO     ] 2024-08-12 11:48:49,705 Parameters: domain_left_edge          = [-4. -2. -2.]\n",
      "yt : [INFO     ] 2024-08-12 11:48:49,706 Parameters: domain_right_edge         = [1. 2. 2.]\n"
     ]
    },
    {
     "name": "stdout",
     "output_type": "stream",
     "text": [
      "/Users/atcushen/Documents/MercuryModelling/runs/nightside_v1_run4/ta-2_rerun/3d_fluid_region0_2_t00000240_n00014111_amrex\n",
      "Plotting t 160.0\n"
     ]
    },
    {
     "name": "stderr",
     "output_type": "stream",
     "text": [
      "yt : [INFO     ] 2024-08-12 11:48:50,844 Parameters: current_time              = 160.20036398432364\n",
      "yt : [INFO     ] 2024-08-12 11:48:50,845 Parameters: domain_dimensions         = [320 256 256]\n",
      "yt : [INFO     ] 2024-08-12 11:48:50,845 Parameters: domain_left_edge          = [-4. -2. -2.]\n",
      "yt : [INFO     ] 2024-08-12 11:48:50,846 Parameters: domain_right_edge         = [1. 2. 2.]\n"
     ]
    },
    {
     "name": "stdout",
     "output_type": "stream",
     "text": [
      "/Users/atcushen/Documents/MercuryModelling/runs/nightside_v1_run4/ta-2_rerun/3d_fluid_region0_2_t00000240_n00014215_amrex\n",
      "Plotting t 160.2\n"
     ]
    },
    {
     "name": "stderr",
     "output_type": "stream",
     "text": [
      "yt : [INFO     ] 2024-08-12 11:48:51,985 Parameters: current_time              = 160.4004859986046\n",
      "yt : [INFO     ] 2024-08-12 11:48:51,986 Parameters: domain_dimensions         = [320 256 256]\n",
      "yt : [INFO     ] 2024-08-12 11:48:51,986 Parameters: domain_left_edge          = [-4. -2. -2.]\n",
      "yt : [INFO     ] 2024-08-12 11:48:51,987 Parameters: domain_right_edge         = [1. 2. 2.]\n"
     ]
    },
    {
     "name": "stdout",
     "output_type": "stream",
     "text": [
      "/Users/atcushen/Documents/MercuryModelling/runs/nightside_v1_run4/ta-2_rerun/3d_fluid_region0_2_t00000240_n00014321_amrex\n",
      "Plotting t 160.4\n"
     ]
    },
    {
     "name": "stderr",
     "output_type": "stream",
     "text": [
      "yt : [INFO     ] 2024-08-12 11:48:53,124 Parameters: current_time              = 160.60101001323\n",
      "yt : [INFO     ] 2024-08-12 11:48:53,125 Parameters: domain_dimensions         = [320 256 256]\n",
      "yt : [INFO     ] 2024-08-12 11:48:53,125 Parameters: domain_left_edge          = [-4. -2. -2.]\n",
      "yt : [INFO     ] 2024-08-12 11:48:53,126 Parameters: domain_right_edge         = [1. 2. 2.]\n"
     ]
    },
    {
     "name": "stdout",
     "output_type": "stream",
     "text": [
      "/Users/atcushen/Documents/MercuryModelling/runs/nightside_v1_run4/ta-2_rerun/3d_fluid_region0_2_t00000240_n00014434_amrex\n",
      "Plotting t 160.6\n"
     ]
    },
    {
     "name": "stderr",
     "output_type": "stream",
     "text": [
      "yt : [INFO     ] 2024-08-12 11:48:53,894 Parameters: current_time              = 160.80022412601718\n",
      "yt : [INFO     ] 2024-08-12 11:48:53,895 Parameters: domain_dimensions         = [320 256 256]\n",
      "yt : [INFO     ] 2024-08-12 11:48:53,895 Parameters: domain_left_edge          = [-4. -2. -2.]\n",
      "yt : [INFO     ] 2024-08-12 11:48:53,896 Parameters: domain_right_edge         = [1. 2. 2.]\n"
     ]
    },
    {
     "name": "stdout",
     "output_type": "stream",
     "text": [
      "/Users/atcushen/Documents/MercuryModelling/runs/nightside_v1_run4/ta-2_rerun/3d_fluid_region0_2_t00000240_n00014548_amrex\n",
      "Plotting t 160.8\n"
     ]
    },
    {
     "name": "stderr",
     "output_type": "stream",
     "text": [
      "yt : [INFO     ] 2024-08-12 11:48:55,032 Parameters: current_time              = 161.00062633522717\n",
      "yt : [INFO     ] 2024-08-12 11:48:55,033 Parameters: domain_dimensions         = [320 256 256]\n",
      "yt : [INFO     ] 2024-08-12 11:48:55,033 Parameters: domain_left_edge          = [-4. -2. -2.]\n",
      "yt : [INFO     ] 2024-08-12 11:48:55,034 Parameters: domain_right_edge         = [1. 2. 2.]\n"
     ]
    },
    {
     "name": "stdout",
     "output_type": "stream",
     "text": [
      "/Users/atcushen/Documents/MercuryModelling/runs/nightside_v1_run4/ta-2_rerun/3d_fluid_region0_2_t00000241_n00014662_amrex\n",
      "Plotting t 161.0\n"
     ]
    },
    {
     "name": "stderr",
     "output_type": "stream",
     "text": [
      "yt : [INFO     ] 2024-08-12 11:48:56,167 Parameters: current_time              = 161.20159312145864\n",
      "yt : [INFO     ] 2024-08-12 11:48:56,168 Parameters: domain_dimensions         = [320 256 256]\n",
      "yt : [INFO     ] 2024-08-12 11:48:56,169 Parameters: domain_left_edge          = [-4. -2. -2.]\n",
      "yt : [INFO     ] 2024-08-12 11:48:56,169 Parameters: domain_right_edge         = [1. 2. 2.]\n"
     ]
    },
    {
     "name": "stdout",
     "output_type": "stream",
     "text": [
      "/Users/atcushen/Documents/MercuryModelling/runs/nightside_v1_run4/ta-2_rerun/3d_fluid_region0_2_t00000241_n00014773_amrex\n",
      "Plotting t 161.2\n"
     ]
    },
    {
     "name": "stderr",
     "output_type": "stream",
     "text": [
      "yt : [INFO     ] 2024-08-12 11:48:58,287 Parameters: current_time              = 161.40004097740288\n",
      "yt : [INFO     ] 2024-08-12 11:48:58,288 Parameters: domain_dimensions         = [320 256 256]\n",
      "yt : [INFO     ] 2024-08-12 11:48:58,288 Parameters: domain_left_edge          = [-4. -2. -2.]\n",
      "yt : [INFO     ] 2024-08-12 11:48:58,289 Parameters: domain_right_edge         = [1. 2. 2.]\n"
     ]
    },
    {
     "name": "stdout",
     "output_type": "stream",
     "text": [
      "/Users/atcushen/Documents/MercuryModelling/runs/nightside_v1_run4/ta-2_rerun/3d_fluid_region0_2_t00000241_n00014888_amrex\n",
      "Plotting t 161.4\n"
     ]
    },
    {
     "name": "stderr",
     "output_type": "stream",
     "text": [
      "yt : [INFO     ] 2024-08-12 11:48:59,424 Parameters: current_time              = 161.60108523315856\n",
      "yt : [INFO     ] 2024-08-12 11:48:59,425 Parameters: domain_dimensions         = [320 256 256]\n",
      "yt : [INFO     ] 2024-08-12 11:48:59,426 Parameters: domain_left_edge          = [-4. -2. -2.]\n",
      "yt : [INFO     ] 2024-08-12 11:48:59,426 Parameters: domain_right_edge         = [1. 2. 2.]\n"
     ]
    },
    {
     "name": "stdout",
     "output_type": "stream",
     "text": [
      "/Users/atcushen/Documents/MercuryModelling/runs/nightside_v1_run4/ta-2_rerun/3d_fluid_region0_2_t00000241_n00015006_amrex\n",
      "Plotting t 161.6\n"
     ]
    },
    {
     "name": "stderr",
     "output_type": "stream",
     "text": [
      "yt : [INFO     ] 2024-08-12 11:49:00,565 Parameters: current_time              = 161.8016788912216\n",
      "yt : [INFO     ] 2024-08-12 11:49:00,566 Parameters: domain_dimensions         = [320 256 256]\n",
      "yt : [INFO     ] 2024-08-12 11:49:00,566 Parameters: domain_left_edge          = [-4. -2. -2.]\n",
      "yt : [INFO     ] 2024-08-12 11:49:00,567 Parameters: domain_right_edge         = [1. 2. 2.]\n"
     ]
    },
    {
     "name": "stdout",
     "output_type": "stream",
     "text": [
      "/Users/atcushen/Documents/MercuryModelling/runs/nightside_v1_run4/ta-2_rerun/3d_fluid_region0_2_t00000241_n00015123_amrex\n",
      "Plotting t 161.8\n"
     ]
    },
    {
     "name": "stderr",
     "output_type": "stream",
     "text": [
      "yt : [INFO     ] 2024-08-12 11:49:01,702 Parameters: current_time              = 162.00047034304666\n",
      "yt : [INFO     ] 2024-08-12 11:49:01,702 Parameters: domain_dimensions         = [320 256 256]\n",
      "yt : [INFO     ] 2024-08-12 11:49:01,703 Parameters: domain_left_edge          = [-4. -2. -2.]\n",
      "yt : [INFO     ] 2024-08-12 11:49:01,704 Parameters: domain_right_edge         = [1. 2. 2.]\n"
     ]
    },
    {
     "name": "stdout",
     "output_type": "stream",
     "text": [
      "/Users/atcushen/Documents/MercuryModelling/runs/nightside_v1_run4/ta-2_rerun/3d_fluid_region0_2_t00000242_n00015236_amrex\n",
      "Plotting t 162.0\n"
     ]
    },
    {
     "name": "stderr",
     "output_type": "stream",
     "text": [
      "yt : [INFO     ] 2024-08-12 11:49:02,833 Parameters: current_time              = 162.20092202846024\n",
      "yt : [INFO     ] 2024-08-12 11:49:02,834 Parameters: domain_dimensions         = [320 256 256]\n",
      "yt : [INFO     ] 2024-08-12 11:49:02,835 Parameters: domain_left_edge          = [-4. -2. -2.]\n",
      "yt : [INFO     ] 2024-08-12 11:49:02,836 Parameters: domain_right_edge         = [1. 2. 2.]\n"
     ]
    },
    {
     "name": "stdout",
     "output_type": "stream",
     "text": [
      "/Users/atcushen/Documents/MercuryModelling/runs/nightside_v1_run4/ta-2_rerun/3d_fluid_region0_2_t00000242_n00015349_amrex\n",
      "Plotting t 162.2\n"
     ]
    },
    {
     "name": "stderr",
     "output_type": "stream",
     "text": [
      "yt : [INFO     ] 2024-08-12 11:49:03,972 Parameters: current_time              = 162.40032364131034\n",
      "yt : [INFO     ] 2024-08-12 11:49:03,972 Parameters: domain_dimensions         = [320 256 256]\n",
      "yt : [INFO     ] 2024-08-12 11:49:03,973 Parameters: domain_left_edge          = [-4. -2. -2.]\n",
      "yt : [INFO     ] 2024-08-12 11:49:03,974 Parameters: domain_right_edge         = [1. 2. 2.]\n"
     ]
    },
    {
     "name": "stdout",
     "output_type": "stream",
     "text": [
      "/Users/atcushen/Documents/MercuryModelling/runs/nightside_v1_run4/ta-2_rerun/3d_fluid_region0_2_t00000242_n00015456_amrex\n",
      "Plotting t 162.4\n"
     ]
    },
    {
     "name": "stderr",
     "output_type": "stream",
     "text": [
      "yt : [INFO     ] 2024-08-12 11:49:05,107 Parameters: current_time              = 162.60174904213093\n",
      "yt : [INFO     ] 2024-08-12 11:49:05,108 Parameters: domain_dimensions         = [320 256 256]\n",
      "yt : [INFO     ] 2024-08-12 11:49:05,108 Parameters: domain_left_edge          = [-4. -2. -2.]\n",
      "yt : [INFO     ] 2024-08-12 11:49:05,109 Parameters: domain_right_edge         = [1. 2. 2.]\n"
     ]
    },
    {
     "name": "stdout",
     "output_type": "stream",
     "text": [
      "/Users/atcushen/Documents/MercuryModelling/runs/nightside_v1_run4/ta-2_rerun/3d_fluid_region0_2_t00000242_n00015562_amrex\n",
      "Plotting t 162.6\n"
     ]
    },
    {
     "name": "stderr",
     "output_type": "stream",
     "text": [
      "yt : [INFO     ] 2024-08-12 11:49:06,256 Parameters: current_time              = 162.8012307795129\n",
      "yt : [INFO     ] 2024-08-12 11:49:06,257 Parameters: domain_dimensions         = [320 256 256]\n",
      "yt : [INFO     ] 2024-08-12 11:49:06,257 Parameters: domain_left_edge          = [-4. -2. -2.]\n",
      "yt : [INFO     ] 2024-08-12 11:49:06,258 Parameters: domain_right_edge         = [1. 2. 2.]\n"
     ]
    },
    {
     "name": "stdout",
     "output_type": "stream",
     "text": [
      "/Users/atcushen/Documents/MercuryModelling/runs/nightside_v1_run4/ta-2_rerun/3d_fluid_region0_2_t00000242_n00015664_amrex\n",
      "Plotting t 162.8\n"
     ]
    },
    {
     "name": "stderr",
     "output_type": "stream",
     "text": [
      "yt : [INFO     ] 2024-08-12 11:49:07,378 Parameters: current_time              = 163.0014573684784\n",
      "yt : [INFO     ] 2024-08-12 11:49:07,379 Parameters: domain_dimensions         = [320 256 256]\n",
      "yt : [INFO     ] 2024-08-12 11:49:07,380 Parameters: domain_left_edge          = [-4. -2. -2.]\n",
      "yt : [INFO     ] 2024-08-12 11:49:07,380 Parameters: domain_right_edge         = [1. 2. 2.]\n"
     ]
    },
    {
     "name": "stdout",
     "output_type": "stream",
     "text": [
      "/Users/atcushen/Documents/MercuryModelling/runs/nightside_v1_run4/ta-2_rerun/3d_fluid_region0_2_t00000243_n00015765_amrex\n",
      "Plotting t 163.0\n"
     ]
    },
    {
     "name": "stderr",
     "output_type": "stream",
     "text": [
      "yt : [INFO     ] 2024-08-12 11:49:08,509 Parameters: current_time              = 163.200980449134\n",
      "yt : [INFO     ] 2024-08-12 11:49:08,510 Parameters: domain_dimensions         = [320 256 256]\n",
      "yt : [INFO     ] 2024-08-12 11:49:08,511 Parameters: domain_left_edge          = [-4. -2. -2.]\n",
      "yt : [INFO     ] 2024-08-12 11:49:08,511 Parameters: domain_right_edge         = [1. 2. 2.]\n"
     ]
    },
    {
     "name": "stdout",
     "output_type": "stream",
     "text": [
      "/Users/atcushen/Documents/MercuryModelling/runs/nightside_v1_run4/ta-2_rerun/3d_fluid_region0_2_t00000243_n00015868_amrex\n",
      "Plotting t 163.2\n"
     ]
    }
   ],
   "source": [
    "#########################\n",
    "\n",
    "# High-level user input\n",
    "dir = \"/Users/atcushen/Documents/MercuryModelling/runs/nightside_v1_run4/ta-2_rerun/\"    # Directory with data \n",
    "start_time = 135                                                # What is the start time of the dataset?\n",
    "t_bound = [135,303]                                               # Start and stop times for the GIF\n",
    "dt = 0.2                                                     # What is the timestep between files?\n",
    "\n",
    "'''\n",
    "Choose plot type from existing presets;\n",
    "\n",
    "\"pic_E_y\":  flow vectors and duskward convective field\n",
    "Recommended settings: (xy)\n",
    "xlims=[-2.2,0.2]\n",
    "ylims=[-1.2,1.2]\n",
    "shape=[160,160]\n",
    "\n",
    "\"pic_dipolarization_zoom\": pressure and field lines to show particular dipolarization event in detail\n",
    "Recommended settings: (xz)\n",
    "xlims=[-3,-0.75]\n",
    "ylims=[-0.5,1.0]\n",
    "shape=[225,150] \n",
    "\n",
    "\"pic_Jy\": find xz line of the current sheet (xz)\n",
    "\n",
    "\n",
    "\"pic_currentsheet\": eletric field and Bz in current sheet\n",
    "Recommended settings: (xz)\n",
    "xlims=[-3.5,0.2]\n",
    "ylims=[-1.2,1.2]\n",
    "shape=[160,160] \n",
    "\n",
    "\"bz1\": perturbation magnetic field in near-planet current sheet (xy)\n",
    "xlims=[-2.4,-0.4]\n",
    "ylims=[-1,1]\n",
    "shape=[200,200] \n",
    "\n",
    "\"pressure_anisotropy\": plot of pressure difference between perpendicular and parallel\n",
    "xlims=[-2.4,-0.4]\n",
    "ylims=[-1,1]\n",
    "shape=[200,200] \n",
    "\n",
    "\"pic_currentsheet2\": just bz in the current sheet (xy)\n",
    "xlims=[-2.2,0.2]\n",
    "ylims=[-1.2,1.2]\n",
    "shape=[160,160] \n",
    "'''\n",
    "\n",
    "plot_preset = \"pic_Jy\"\n",
    "slice = \"xz\"                                                   # Set plane of slice (\"xy\" or \"xz\") or \"sphere\" for particle psd\n",
    "data_type = \"fluid\" # \"cut\" or \"fluid\"\n",
    "particle_type = \"ion\" # Either \"ion\" or \"electron\"; relevant for choosing which pressure tensor to display for \"pressure_anisotropy\"\n",
    "z_plane = 0.4\n",
    "\n",
    "# Grid settings/location of particle sphere\n",
    "xlims=[-3,-0.75]\n",
    "ylims=[-0.5,1.0]\n",
    "shape=[225,150] \n",
    "loc = [-1.0,0,0.2] # location of particle sphere\n",
    "a = 0.1 # radius of particle sphere\n",
    "\n",
    "#########################\n",
    "\n",
    "# First, get list of files in directory\n",
    "all_files = [os.path.join(dir, o) for o in os.listdir(dir) \n",
    "                    if os.path.isdir(os.path.join(dir,o))]\n",
    "\n",
    "# Then use regex to pick out only the files we want \n",
    "files=[]\n",
    "for file in all_files:\n",
    "    if data_type==\"fluid\":\n",
    "        match = re.search(str(dir+\"3d_fluid_region0_.*\"),file)\n",
    "        if match != None:\n",
    "            files.append(file)\n",
    "    elif data_type==\"cut\":\n",
    "        match = re.search(str(dir+\"cut_particle_region0.*\"),file)\n",
    "        if match != None:\n",
    "            files.append(file)\n",
    "files.sort()\n",
    "files = files\n",
    "print(str(len(files)),\"files recognized!\")\n",
    "\n",
    "# Make a dictionary with better names for the files:\n",
    "named_files = {}\n",
    "for i in range(len(files)):\n",
    "    time = round(i*dt+start_time,3)\n",
    "    named_files[time] = files[i]\n",
    "\n",
    "# Define utility functions\n",
    "def get_grad(slice,i_coords,j_coords):\n",
    "    # Input: a numpy-format slice of the data, in the right orientation such that imshow / contourf works correctly. \n",
    "    # Also pass dc.x.value, dc.y.value to give the i / j coords.\n",
    "    # Output: the gradient of the parameter, in the i / j direction (i.e. x,y or x,z), whichever plane the slice is in.\n",
    "    \n",
    "    # Extract the j and i dimensions \n",
    "    j_size,i_size = slice.shape\n",
    "\n",
    "    # Find step size\n",
    "    di = i_coords[1]-i_coords[0]\n",
    "    dj = j_coords[1]-j_coords[0]\n",
    "\n",
    "    # Define empty arrays to save output to\n",
    "    d_di = np.zeros_like(slice)\n",
    "    d_dj = np.zeros_like(slice)\n",
    "\n",
    "    # First past compute gradient (error: huge gradients at edge of boundary e.g bz drops to 0 at inner edge in one cell)\n",
    "    #d_di,d_dj = np.gradient(slice,di,dj)\n",
    "\n",
    "    # Begin gradient computation loop\n",
    "    for j in range(1,j_size-1):\n",
    "        for i in range(1,i_size-1):\n",
    "            # Compute d_di:\n",
    "            d_di[j,i] = (slice[j,i+1] - slice[j,i-1]) / (2*di)\n",
    "            # Compute d_dj:\n",
    "            d_dj[j,i] = (slice[j+1,i] - slice[j-1,i]) / (2*dj)\n",
    "\n",
    "    # Fix large gradients at edges of pic domain\n",
    "    for j in range(1,j_size-1):\n",
    "        for i in range(1,i_size-1):\n",
    "            if slice[j,i]==0 and slice[j,i+1]!=0: # left edge\n",
    "                d_di[j,i] = 0 # set gradient outside pic to 0\n",
    "                d_dj[j,i] = 0\n",
    "                d_di[j,i+1] = d_di[j,i+2] # set outermost cell gradient to same value as one further in\n",
    "                d_dj[j,i+1] = d_dj[j,i+2]\n",
    "            if slice[j,i]==0 and slice[j,i-1]!=0: # right edge\n",
    "                d_di[j,i] = 0 \n",
    "                d_dj[j,i] = 0\n",
    "                d_di[j,i-1] = d_di[j,i-2] \n",
    "                d_dj[j,i-1] = d_dj[j,i-2]\n",
    "            if slice[j,i]==0 and slice[j+1,i]!=0: # bottom edge\n",
    "                d_di[j,i] = 0 \n",
    "                d_dj[j,i] = 0\n",
    "                d_di[j+1,i] = d_di[j+2,i] \n",
    "                d_dj[j+1,i] = d_dj[j+2,i]\n",
    "            if slice[j,i]==0 and slice[j-1,i]!=0: # top edge\n",
    "                d_di[j,i] = 0 \n",
    "                d_dj[j,i] = 0\n",
    "                d_di[j-1,i] = d_di[j-2,i] \n",
    "                d_dj[j-1,i] = d_dj[j-2,i]\n",
    "            #print(\"Value:\",slice[j,i],\"X:\",i_coords[i],\"Z:\",j_coords[j])\n",
    "    \n",
    "    return d_di,d_dj\n",
    "\n",
    "# Loop over each file, pull the data, make the plots, and save as .pngs in /frames\n",
    "for time in list(named_files.keys())[int((t_bound[0]-start_time)/dt):int((t_bound[1]-start_time)/dt)]: #only loop over the times within t_bound\n",
    "    filename = str(named_files[time])\n",
    "    print(filename)\n",
    "    ds = fleks.load(filename)\n",
    "    if slice==\"xy\":\n",
    "        dc = ds.get_slice(\"z\",z_plane)\n",
    "        #print(dc)\n",
    "    elif slice==\"xz\":\n",
    "        dc = ds.get_slice(\"y\",0.0)\n",
    "    elif slice==\"sphere\":\n",
    "        ds.add_field((\"particle\", \"unit_one\"), function=_unit_one, sampling_type='particle')\n",
    "    \n",
    "    # Plot!!\n",
    "\n",
    "    # Use preset\n",
    "    if plot_preset == \"pic_E_y\":\n",
    "        fig, ax = plt.subplots(figsize=(10,10))\n",
    "        inner = plt.Circle((0, 0), 0.8, color='black')\n",
    "        outer = plt.Circle((0, 0), 1, color='grey')\n",
    "        print(\"Plotting t\",time)\n",
    "        v = dc.evaluate_expression(\"Ey\")\n",
    "        ux = np.array(dc.evaluate_expression(\"uxS1\").T)\n",
    "        uy = np.array(dc.evaluate_expression(\"uyS1\").T)\n",
    "        vmin = v.min().v\n",
    "        vmax = v.max().v\n",
    "        nlevels = 200 \n",
    "        levels = np.linspace(-50, 50, nlevels)\n",
    "        cs = ax.contourf(dc.x.value, dc.y.value, np.array(v.T)/1e3, levels=levels, cmap='bwr')\n",
    "        ticks = get_ticks(-50, 50)\n",
    "        clb = fig.colorbar(cs, ax=ax,ticks=ticks)            \n",
    "        clb.ax.set_yticks(ticks)    \n",
    "        clb.ax.tick_params(labelsize=8)\n",
    "        clb.ax.set_title('$E_y$ [mV/m]',fontsize=12)\n",
    "        quiver_skip=10\n",
    "        ax.quiver(dc.x.value[::quiver_skip], dc.y.value[::quiver_skip],ux[::quiver_skip,::quiver_skip], uy[::quiver_skip,::quiver_skip],color=\"grey\")\n",
    "        ax.set_aspect(1) # you may also use am.imshow(..., aspect=\"auto\") to restore the aspect ratio\n",
    "        ax.set_xlabel(\"X [$R_M$]\")\n",
    "        ax.set_ylabel(\"Y [$R_M$]\")\n",
    "        ax.add_patch(outer)\n",
    "        ax.add_patch(inner)\n",
    "        ax.set_xlim(xlims)\n",
    "        ax.set_ylim(ylims)\n",
    "        ax.set_title(str(\"Convection field at t=\"+str(round(time,2))+\"s\"))\n",
    "        fig.show()\n",
    "\n",
    "    elif plot_preset == \"pic_dipolarization_zoom\":\n",
    "        fig, ax = plt.subplots(figsize=(12,7))\n",
    "        inner = plt.Circle((0, 0), 0.8, color='black')\n",
    "        outer = plt.Circle((0, 0), 1, color='grey')\n",
    "        print(\"Plotting t\",time)\n",
    "        Bx = dc.evaluate_expression(\"Bx\")\n",
    "        P = dc.evaluate_expression(\"pxxS1\")+dc.evaluate_expression(\"pyyS1\")+dc.evaluate_expression(\"pzzS1\")+dc.evaluate_expression(\"pxxS0\")+dc.evaluate_expression(\"pyyS0\")+dc.evaluate_expression(\"pzzS0\")\n",
    "        Bz = dc.evaluate_expression(\"Bz\")\n",
    "        vmin = -2\n",
    "        vmax = 1.5\n",
    "        nlevels = 21 \n",
    "        levels=np.logspace(vmin,vmax,nlevels)\n",
    "        cs = ax.contourf(dc.x.value, dc.y.value, np.array(P.T),levels=levels,norm = LogNorm())#norm=mpl.colors.LogNorm(vmin=vmin,vmax=vmax))#, cmap='bwr')\n",
    "\n",
    "        start_points = np.zeros([40,2])\n",
    "        start_points[:,0]=np.linspace(xlims[0],xlims[1],40)\n",
    "        start_points[:,1]=0.5 - np.linspace(0,0.1,40)\n",
    "        \n",
    "        ax.streamplot(dc.x.value,dc.y.value, np.array(Bx.T),np.array(Bz.T),color='white',linewidth=0.5,broken_streamlines=False,arrowsize=0.5,\n",
    "                      start_points=start_points)\n",
    "        formatter = LogFormatter(10, labelOnlyBase=False) \n",
    "        clb = fig.colorbar(cs, ax=ax,norm=LogNorm())#, format=formatter)            \n",
    "        clb.locator = LogLocator()\n",
    "        clb.formatter = LogFormatterSciNotation()\n",
    "        clb.ax.set_title('p [nPa]',fontsize=12)\n",
    "        ax.set_aspect(1) # you may also use am.imshow(..., aspect=\"auto\") to restore the aspect ratio\n",
    "        ax.set_xlabel(\"X [$R_M$]\")\n",
    "        ax.set_ylabel(\"Z [$R_M$]\")\n",
    "        ax.add_patch(outer)\n",
    "        ax.add_patch(inner)\n",
    "        ax.set_xlim(xlims)\n",
    "        ax.set_ylim(ylims)\n",
    "        ax.set_title(str(\"Plasma pressure at t=\"+str(round(time,2))+\"s\"))\n",
    "        fig.show()\n",
    "\n",
    "    elif plot_preset == \"pic_Jy\":\n",
    "        # Set up plot environment\n",
    "        fig, ax = plt.subplots(figsize=(12,7))\n",
    "        inner = plt.Circle((0, 0), 0.8, color='black')\n",
    "        outer = plt.Circle((0, 0), 1, color='grey')\n",
    "        print(\"Plotting t\",time)\n",
    "\n",
    "        # Read in B field data\n",
    "        Bx = np.array(dc.evaluate_expression(\"Bx\").T)\n",
    "        Bz = np.array(dc.evaluate_expression(\"Bz\").T)\n",
    "\n",
    "        # Compute B-field gradients, converting from nT/R_M to T/m\n",
    "        dBx_dx, dBx_dz = get_grad(Bx*1e-9/R_M,dc.x.value, dc.y.value)\n",
    "        dBz_dx, dBz_dz = get_grad(Bz*1e-9/R_M,dc.x.value, dc.y.value)\n",
    "\n",
    "        # Compute curl [mA / m^2]\n",
    "        Jy = (dBx_dz-dBz_dx) / mu_0 * 1e6\n",
    "\n",
    "        # Colorplot\n",
    "        vmin = -0.5\n",
    "        vmax = 0.5\n",
    "        nlevels = 51 \n",
    "        levels = np.linspace(vmin, vmax, nlevels)\n",
    "        cs = ax.contourf(dc.x.value, dc.y.value, Jy, levels=levels, cmap='bwr')\n",
    "\n",
    "        # Add colorbar\n",
    "        clb = fig.colorbar(cs, ax=ax)\n",
    "        clb.ax.set_title('$J_y$ [mA/m$^2$]',fontsize=12)\n",
    "\n",
    "        # Configure plot plane\n",
    "        ax.set_aspect(1) # you may also use am.imshow(..., aspect=\"auto\") to restore the aspect ratio\n",
    "        ax.set_xlabel(\"X [$R_M$]\")\n",
    "        ax.set_ylabel(\"Z [$R_M$]\")\n",
    "        ax.add_patch(outer)\n",
    "        ax.add_patch(inner)\n",
    "        ax.set_xlim(xlims)\n",
    "        ax.set_ylim(ylims)\n",
    "        ax.set_title(str(\"Current density at t=\"+str(round(time,2))+\"s\"))\n",
    "        fig.show()\n",
    "\n",
    "    elif plot_preset == \"pic_currentsheet\":\n",
    "        fig, ax = plt.subplots(ncols=2,figsize=(25,10))\n",
    "        inner = plt.Circle((0, 0), 0.8, color='black')\n",
    "        outer = plt.Circle((0, 0), 1, color='grey')\n",
    "\n",
    "        #plot v\n",
    "        v = np.sqrt(dc.evaluate_expression(\"uxS1\")**2 + dc.evaluate_expression(\"uyS1\")**2)\n",
    "        ux = np.array(dc.evaluate_expression(\"uxS1\").T)\n",
    "        uy = np.array(dc.evaluate_expression(\"uyS1\").T)\n",
    "        vmin = v.min().v\n",
    "        vmax = v.max().v\n",
    "        nlevels = 200 \n",
    "        levels = np.logspace(0, 3, nlevels)\n",
    "        cs = ax[0].contourf(dc.x.value, dc.y.value, np.array(v.T),levels=levels, cmap='rainbow',locator=ticker.LogLocator())\n",
    "        clb0 = fig.colorbar(cs, ax=ax[0])                   \n",
    "        clb0.ax.tick_params(labelsize=8)\n",
    "        clb0.ax.set_title('$V$ [R$_M$/s]',fontsize=12)\n",
    "        quiver_skip=10\n",
    "        ax[0].quiver(dc.x.value[::quiver_skip], dc.y.value[::quiver_skip],ux[::quiver_skip,::quiver_skip], uy[::quiver_skip,::quiver_skip],color=\"grey\")\n",
    "        ax[0].set_aspect(1) # you may also use am.imshow(..., aspect=\"auto\") to restore the aspect ratio\n",
    "        ax[0].set_xlabel(\"X [$R_M$]\")\n",
    "        ax[0].set_ylabel(\"Y [$R_M$]\")\n",
    "        ax[0].add_patch(outer)\n",
    "        ax[0].add_patch(inner)\n",
    "        ax[0].set_xlim(xlims)\n",
    "        ax[0].set_ylim(ylims)\n",
    "        ax[0].set_title(str(\"Convection field at t=\"+str(round(time,2))+\"s\"))\n",
    "\n",
    "        #plot B\n",
    "        inner = plt.Circle((0, 0), 0.8, color='black')\n",
    "        outer = plt.Circle((0, 0), 1, color='grey')\n",
    "        Bx = dc.evaluate_expression(\"Bx\")\n",
    "        Bz = dc.evaluate_expression(\"Bz\")\n",
    "        vmin = -100\n",
    "        vmax = 100\n",
    "        nlevels = 200 \n",
    "        levels = np.linspace(vmin, vmax, nlevels)\n",
    "        cs = ax[1].contourf(dc.x.value, dc.y.value, np.array(Bz.T), levels=levels, cmap='bwr')\n",
    "        \n",
    "        ticks = get_ticks(vmin, vmax)\n",
    "        clb1 = fig.colorbar(cs, ax=ax[1],ticks=ticks)            \n",
    "        clb1.ax.set_yticks(ticks)    \n",
    "        clb1.ax.tick_params(labelsize=8)\n",
    "        clb1.ax.set_title('$B_z$ [nT]',fontsize=12)\n",
    "        ax[1].set_aspect(1) # you may also use am.imshow(..., aspect=\"auto\") to restore the aspect ratio\n",
    "        ax[1].set_xlabel(\"X [$R_M$]\")\n",
    "        ax[1].set_ylabel(\"Y [$R_M$]\")\n",
    "        ax[1].add_patch(outer)\n",
    "        ax[1].add_patch(inner)\n",
    "        ax[1].set_xlim(xlims)\n",
    "        ax[1].set_ylim(ylims)\n",
    "        ax[1].set_title(str(\"$B_z$ at t=\"+str(round(time,2))+\"s\"))\n",
    "\n",
    "    elif plot_preset == \"particles_uxuy\":\n",
    "        # broken for many reasons, and the particle data is featureless anyway.\n",
    "        sp = ds.sphere(loc,a)\n",
    "        plot = ds.plot_phase_region(sp, 'p_ux', 'p_uz', z_field,\n",
    "                            unit_type=\"planet\", x_bins=64, y_bins=64,domain_size=(-2550, 2550, -2550, 2550))\n",
    "        #plot.set_colorbar_label(plot.fields[0], \"Ion count\")\n",
    "        for var_name in plot.profile.field_data: \n",
    "            val = plot.profile.field_data[var_name] \n",
    "    \n",
    "        x = plot.profile.x\n",
    "        y = plot.profile.y\n",
    "\n",
    "        fig, ax = plt.subplots(figsize=(10,10))\n",
    "        im = ax.contourf(x,y,val,20,vmin = 0,vmax=700)\n",
    "        im.set_clim(0,700)\n",
    "        clb=fig.colorbar(im)\n",
    "\n",
    "    elif plot_preset == \"pic_currentsheet2\":\n",
    "        fig, ax = plt.subplots(figsize=(10,10))\n",
    "        inner = plt.Circle((0, 0), 0.8, color='black')\n",
    "        outer = plt.Circle((0, 0), 1, color='grey')\n",
    "        print(\"Plotting t\",time)\n",
    "        Bz = dc.evaluate_expression(\"Bz\")\n",
    "        vmin = -100\n",
    "        vmax = 100\n",
    "        nlevels = 200 \n",
    "        levels = np.linspace(vmin, vmax, nlevels)\n",
    "        cs = ax.contourf(dc.x.value, dc.y.value, np.array(Bz.T), levels=levels, cmap='bwr')\n",
    "\n",
    "        # Add minor ticks for grid\n",
    "        x_major_ticks = np.arange(xlims[0], xlims[1], 0.2)\n",
    "        x_minor_ticks = np.arange(xlims[0], xlims[1], 0.05)\n",
    "        y_major_ticks = np.arange(ylims[0], ylims[1], 0.2)\n",
    "        y_minor_ticks = np.arange(ylims[0], ylims[1], 0.05)\n",
    "\n",
    "        ax.set_xticks(x_major_ticks)\n",
    "        ax.set_xticks(x_minor_ticks, minor=True)\n",
    "        ax.set_yticks(y_major_ticks)\n",
    "        ax.set_yticks(y_minor_ticks, minor=True)\n",
    "\n",
    "        ax.grid(which='both')\n",
    "        ax.grid(which='minor', alpha=0.2)\n",
    "        ax.grid(which='major', alpha=0.5)\n",
    "        \n",
    "        ticks = get_ticks(vmin, vmax)\n",
    "        clb = fig.colorbar(cs, ax=ax,ticks=ticks)            \n",
    "        clb.ax.set_yticks(ticks)    \n",
    "        clb.ax.tick_params(labelsize=8)\n",
    "        clb.ax.set_title('$B_z$ [nT]',fontsize=12)\n",
    "        ax.set_aspect(1) # you may also use am.imshow(..., aspect=\"auto\") to restore the aspect ratio\n",
    "        ax.set_xlabel(\"X [$R_M$]\")\n",
    "        ax.set_ylabel(\"Y [$R_M$]\")\n",
    "        ax.add_patch(outer)\n",
    "        ax.add_patch(inner)\n",
    "        ax.set_xlim(xlims)\n",
    "        ax.set_ylim(ylims)\n",
    "        ax.set_title(str(\"$B_{z}$ at t=\"+str(round(time,2))+\"s\"+\"   z = \"+str(z_plane)))\n",
    "        fig.show()\n",
    "\n",
    "    elif plot_preset == \"bz1\":\n",
    "        fig, ax = plt.subplots(figsize=(10,10))\n",
    "        inner = plt.Circle((0, 0), 0.8, color='black')\n",
    "        outer = plt.Circle((0, 0), 1, color='grey')\n",
    "        print(\"Plotting t\",time)\n",
    "\n",
    "        # Extract Bz and remove units\n",
    "        Bz_temp = dc.evaluate_expression(\"Bz\")\n",
    "        Bz = np.zeros(Bz_temp.shape)\n",
    "        Bz[:,:] = Bz_temp[:,:]\n",
    "\n",
    "        # Define meshgrids\n",
    "        xx,yy = np.meshgrid(dc.x.value, dc.y.value)\n",
    "\n",
    "        #Compute Bz1 \n",
    "        #First compute dipole field strength, from https://ccmc.gsfc.nasa.gov/static/files/Dipole.pdf\n",
    "        Bz_dip = - 200.9 * (3*z_plane**2 - (xx**2+yy**2+z_plane**2))/((xx**2+yy**2+z_plane**2)**(5/2))\n",
    "        # Then subtract this from modeled bz\n",
    "        Bz1 = Bz.T - Bz_dip\n",
    "        \n",
    "        vmin = -100#-100\n",
    "        vmax = 20\n",
    "        nlevels = 91 \n",
    "        levels = np.linspace(vmin, vmax, nlevels)\n",
    "        \n",
    "        cs = ax.contourf(dc.x.value, dc.y.value, np.array(Bz1), cmap = 'viridis',levels=levels) #,cmap='bwr')\n",
    "\n",
    "        # Add minor ticks for grid\n",
    "        x_major_ticks = np.arange(xlims[0], xlims[1], 0.2)\n",
    "        x_minor_ticks = np.arange(xlims[0], xlims[1], 0.05)\n",
    "        y_major_ticks = np.arange(ylims[0], ylims[1], 0.2)\n",
    "        y_minor_ticks = np.arange(ylims[0], ylims[1], 0.05)\n",
    "\n",
    "        ax.set_xticks(x_major_ticks)\n",
    "        ax.set_xticks(x_minor_ticks, minor=True)\n",
    "        ax.set_yticks(y_major_ticks)\n",
    "        ax.set_yticks(y_minor_ticks, minor=True)\n",
    "\n",
    "        ax.grid(which='both')\n",
    "        ax.grid(which='minor', alpha=0.2)\n",
    "        ax.grid(which='major', alpha=0.5)\n",
    "        \n",
    "        ticks = get_ticks(vmin, vmax)\n",
    "        clb = fig.colorbar(cs, ax=ax,ticks=ticks)            \n",
    "        clb.ax.set_yticks(ticks)    \n",
    "        clb.ax.tick_params(labelsize=8)\n",
    "        clb.ax.set_title('$B_z$ [nT]',fontsize=12)\n",
    "        ax.set_aspect(1) # you may also use am.imshow(..., aspect=\"auto\") to restore the aspect ratio\n",
    "        ax.set_xlabel(\"X [$R_M$]\")\n",
    "        ax.set_ylabel(\"Y [$R_M$]\")\n",
    "        ax.add_patch(outer)\n",
    "        ax.add_patch(inner)\n",
    "        ax.set_xlim(xlims)\n",
    "        ax.set_ylim(ylims)\n",
    "        ax.set_title(str(\"$B_{z1}$ at t=\"+str(round(time,2))+\"s\"+\"   z = \"+str(z_plane)))\n",
    "        fig.show()\n",
    "\n",
    "    elif plot_preset == \"pressure_anisotropy\":\n",
    "        \n",
    "        fig, ax = plt.subplots(figsize=(10,10))\n",
    "        inner = plt.Circle((0, 0), 0.8, color='black')\n",
    "        outer = plt.Circle((0, 0), 1, color='grey')\n",
    "        print(\"Plotting t\",time)\n",
    "        \n",
    "        # Extract pressure terms and remove units\n",
    "        if particle_type==\"ion\":\n",
    "            pxxS1_temp = dc.evaluate_expression(\"pxxS1\")\n",
    "            pxyS1_temp = dc.evaluate_expression(\"pxyS1\")\n",
    "            pxzS1_temp = dc.evaluate_expression(\"pxzS1\")\n",
    "            pyyS1_temp = dc.evaluate_expression(\"pyyS1\")\n",
    "            pyzS1_temp = dc.evaluate_expression(\"pyzS1\")\n",
    "            pzzS1_temp = dc.evaluate_expression(\"pzzS1\")\n",
    "        elif particle_type==\"electron\":\n",
    "            pxxS1_temp = dc.evaluate_expression(\"pxxS0\")\n",
    "            pxyS1_temp = dc.evaluate_expression(\"pxyS0\")\n",
    "            pxzS1_temp = dc.evaluate_expression(\"pxzS0\")\n",
    "            pyyS1_temp = dc.evaluate_expression(\"pyyS0\")\n",
    "            pyzS1_temp = dc.evaluate_expression(\"pyzS0\")\n",
    "            pzzS1_temp = dc.evaluate_expression(\"pzzS0\")\n",
    "        else:\n",
    "            print(\"ERROR: invalid particle type!\")\n",
    "        pxxS1 = np.zeros(pxxS1_temp.T.shape)\n",
    "        pxyS1 = np.zeros(pxyS1_temp.T.shape)\n",
    "        pxzS1 = np.zeros(pxzS1_temp.T.shape)\n",
    "        pyyS1 = np.zeros(pyyS1_temp.T.shape)\n",
    "        pyzS1 = np.zeros(pyzS1_temp.T.shape)\n",
    "        pzzS1 = np.zeros(pzzS1_temp.T.shape)\n",
    "        pxxS1[:,:] = pxxS1_temp[:,:].T\n",
    "        pxyS1[:,:] = pxyS1_temp[:,:].T\n",
    "        pxzS1[:,:] = pxyS1_temp[:,:].T\n",
    "        pyyS1[:,:] = pyyS1_temp[:,:].T\n",
    "        pyzS1[:,:] = pyzS1_temp[:,:].T\n",
    "        pzzS1[:,:] = pzzS1_temp[:,:].T\n",
    "\n",
    "        # Extract magnetic terms and remove units\n",
    "        Bx_temp = dc.evaluate_expression(\"Bx\")\n",
    "        By_temp = dc.evaluate_expression(\"By\")\n",
    "        Bz_temp = dc.evaluate_expression(\"Bz\")\n",
    "        Bx = np.zeros(Bx_temp.T.shape)\n",
    "        By = np.zeros(By_temp.T.shape)\n",
    "        Bz = np.zeros(Bz_temp.T.shape)\n",
    "        Bx[:,:] = Bx_temp[:,:].T\n",
    "        By[:,:] = By_temp[:,:].T\n",
    "        Bz[:,:] = Bz_temp[:,:].T\n",
    "\n",
    "        # Define meshgrids\n",
    "        xx,yy = np.meshgrid(dc.x.value, dc.y.value)\n",
    "\n",
    "        # Compute magnetic unit vector\n",
    "        B_mag = np.sqrt(Bx**2+By**2+Bz**2)\n",
    "        bx,by,bz = 1/B_mag * [Bx,By,Bz]\n",
    "\n",
    "        # Compute coordinate transformation matrix, A\n",
    "        # The three columns of this matrix correspond to the first perpendicular component, the second, and the parallel component, respectively\n",
    "        Axx = np.sqrt(1-bx**2)\n",
    "        Axy = 0\n",
    "        Axz = bx\n",
    "        Ayx = -bx*by/np.sqrt(1-bx**2)\n",
    "        Ayy = bz/np.sqrt(bz**2+by**2)\n",
    "        Ayz = by\n",
    "        Azx = -bx*bz/np.sqrt(1-bx**2)\n",
    "        Azy = -by/np.sqrt(bz**2+by**2)\n",
    "        Azz = bz\n",
    "\n",
    "        # Transfrom the pressure tensor from pS1 (in cartesian) to P (in perp / perp / parallel coords): P = A x pS1\n",
    "        # Note that pS1 is symmetric, so e.g. pxyS1 = pyxS1\n",
    "        Pxx = Axx*pxxS1 + Axy*pxyS1 + Axz*pxzS1\n",
    "        Pxy = Axx*pxyS1 + Axy*pyyS1 + Axz*pyzS1\n",
    "        Pxz = Axx*pxzS1 + Axy*pyzS1 + Axz*pzzS1\n",
    "        Pyx = Ayx*pxxS1 + Ayy*pxyS1 + Ayz*pxzS1\n",
    "        Pyy = Ayx*pxyS1 + Ayy*pyyS1 + Ayz*pyzS1\n",
    "        Pyz = Ayx*pxzS1 + Ayy*pyzS1 + Ayz*pzzS1\n",
    "        Pzx = Azx*pxxS1 + Azy*pxyS1 + Azz*pxzS1\n",
    "        Pzy = Azx*pxyS1 + Azy*pyyS1 + Azz*pyzS1\n",
    "        Pzz = Azx*pxzS1 + Azy*pyzS1 + Azz*pzzS1\n",
    "\n",
    "        # For now, we are interested in the difference parallel (Pzz) and perpendicular (Pxx and Pyy)\n",
    "        P_anisotropy = Pzz - Pxx - Pyy / np.sqrt(Pzz**2+Pxx**2+Pyy**2)\n",
    "\n",
    "        # Plot\n",
    "        vmin = -1.5\n",
    "        vmax = 1.5\n",
    "        nlevels = 200 \n",
    "        levels = np.linspace(vmin, vmax, nlevels)\n",
    "        \n",
    "        cs = ax.contourf(dc.x.value, dc.y.value, np.array(P_anisotropy), levels=levels, cmap='bwr')\n",
    "\n",
    "        # Add minor ticks for grid\n",
    "        x_major_ticks = np.arange(xlims[0], xlims[1], 0.2)\n",
    "        x_minor_ticks = np.arange(xlims[0], xlims[1], 0.05)\n",
    "        y_major_ticks = np.arange(ylims[0], ylims[1], 0.2)\n",
    "        y_minor_ticks = np.arange(ylims[0], ylims[1], 0.05)\n",
    "\n",
    "        ax.set_xticks(x_major_ticks)\n",
    "        ax.set_xticks(x_minor_ticks, minor=True)\n",
    "        ax.set_yticks(y_major_ticks)\n",
    "        ax.set_yticks(y_minor_ticks, minor=True)\n",
    "\n",
    "        ax.grid(which='both')\n",
    "        ax.grid(which='minor', alpha=0.2)\n",
    "        ax.grid(which='major', alpha=0.5)\n",
    "        \n",
    "        ticks = get_ticks(vmin, vmax)\n",
    "        clb = fig.colorbar(cs, ax=ax,ticks=ticks)            \n",
    "        clb.ax.set_yticks(ticks)    \n",
    "        clb.ax.tick_params(labelsize=8)\n",
    "        clb.ax.set_title('Normalized diff',fontsize=12)\n",
    "        ax.set_aspect(1) # you may also use am.imshow(..., aspect=\"auto\") to restore the aspect ratio\n",
    "        ax.set_xlabel(\"X [$R_M$]\")\n",
    "        ax.set_ylabel(\"Y [$R_M$]\")\n",
    "        ax.add_patch(outer)\n",
    "        ax.add_patch(inner)\n",
    "        ax.set_xlim(xlims)\n",
    "        ax.set_ylim(ylims)\n",
    "        ax.set_title(str(\"parallel - perpendicular at t=\"+str(round(time,2))+\"s\"+\"   z = \"+str(z_plane))+\"\\n Particle type: \"+particle_type)\n",
    "        fig.show()\n",
    "        \n",
    "    # Save\n",
    "    plt.savefig(str(\"/Users/atcushen/Documents/MercuryModelling/runs/nightside_v1_run4/ta-2_rerun_plots/\"+plot_preset+\"_\"+str(round(time,2))+'.png'),bbox_inches='tight')\n",
    "    plt.close(fig)"
   ]
  },
  {
   "cell_type": "markdown",
   "id": "36e72a5b-24c2-431f-ae0c-7379423903c5",
   "metadata": {},
   "source": [
    "# Particle data plotting\n"
   ]
  },
  {
   "cell_type": "code",
   "execution_count": 100,
   "id": "69dfaa84-15f2-4c71-b1fb-5d125cc90d59",
   "metadata": {},
   "outputs": [
    {
     "name": "stderr",
     "output_type": "stream",
     "text": [
      "yt : [INFO     ] 2024-07-26 10:58:23,292 Parameters: current_time              = 55.000645822431196\n",
      "yt : [INFO     ] 2024-07-26 10:58:23,293 Parameters: domain_dimensions         = [320 256 256]\n",
      "yt : [INFO     ] 2024-07-26 10:58:23,294 Parameters: domain_left_edge          = [-4. -2. -2.]\n",
      "yt : [INFO     ] 2024-07-26 10:58:23,294 Parameters: domain_right_edge         = [1. 2. 2.]\n",
      "yt : [INFO     ] 2024-07-26 10:58:23,313 Parameters: current_time              = 55.000645822431196\n",
      "yt : [INFO     ] 2024-07-26 10:58:23,313 Parameters: domain_dimensions         = [320 256 256]\n",
      "yt : [INFO     ] 2024-07-26 10:58:23,314 Parameters: domain_left_edge          = [-4. -2. -2.]\n",
      "yt : [INFO     ] 2024-07-26 10:58:23,315 Parameters: domain_right_edge         = [1. 2. 2.]\n"
     ]
    },
    {
     "name": "stdout",
     "output_type": "stream",
     "text": [
      "Plotting all files in dir\n",
      "Plotting t = 55.0\n",
      "reading file cut_particle_region0_0_t00000055_n00030455_amrex\n"
     ]
    },
    {
     "name": "stderr",
     "output_type": "stream",
     "text": [
      "yt : [INFO     ] 2024-07-26 10:58:24,737 Parameters: current_time              = 55.000645822431196\n",
      "yt : [INFO     ] 2024-07-26 10:58:24,738 Parameters: domain_dimensions         = [320 256 256]\n",
      "yt : [INFO     ] 2024-07-26 10:58:24,739 Parameters: domain_left_edge          = [-4. -2. -2.]\n",
      "yt : [INFO     ] 2024-07-26 10:58:24,740 Parameters: domain_right_edge         = [1. 2. 2.]\n",
      "yt : [WARNING  ] 2024-07-26 10:58:25,385 Field ('particle', 'unit_one') was added without specifying units or dimensions, auto setting units to \n",
      "yt : [INFO     ] 2024-07-26 10:58:25,460 Parameters: current_time              = 55.000645822431196\n",
      "yt : [INFO     ] 2024-07-26 10:58:25,461 Parameters: domain_dimensions         = [320 256 256]\n",
      "yt : [INFO     ] 2024-07-26 10:58:25,462 Parameters: domain_left_edge          = [-4. -2. -2.]\n",
      "yt : [INFO     ] 2024-07-26 10:58:25,462 Parameters: domain_right_edge         = [1. 2. 2.]\n",
      "yt : [INFO     ] 2024-07-26 10:58:25,481 Parameters: current_time              = 55.000645822431196\n",
      "yt : [INFO     ] 2024-07-26 10:58:25,481 Parameters: domain_dimensions         = [320 256 256]\n",
      "yt : [INFO     ] 2024-07-26 10:58:25,482 Parameters: domain_left_edge          = [-4. -2. -2.]\n",
      "yt : [INFO     ] 2024-07-26 10:58:25,483 Parameters: domain_right_edge         = [1. 2. 2.]\n",
      "yt : [INFO     ] 2024-07-26 10:58:26,535 Parameters: current_time              = 55.000645822431196\n",
      "yt : [INFO     ] 2024-07-26 10:58:26,536 Parameters: domain_dimensions         = [320 256 256]\n",
      "yt : [INFO     ] 2024-07-26 10:58:26,537 Parameters: domain_left_edge          = [-4. -2. -2.]\n",
      "yt : [INFO     ] 2024-07-26 10:58:26,537 Parameters: domain_right_edge         = [1. 2. 2.]\n",
      "yt : [WARNING  ] 2024-07-26 10:58:27,190 Field ('particle', 'unit_one') was added without specifying units or dimensions, auto setting units to \n",
      "yt : [INFO     ] 2024-07-26 10:58:27,265 Parameters: current_time              = 55.000645822431196\n",
      "yt : [INFO     ] 2024-07-26 10:58:27,265 Parameters: domain_dimensions         = [320 256 256]\n",
      "yt : [INFO     ] 2024-07-26 10:58:27,266 Parameters: domain_left_edge          = [-4. -2. -2.]\n",
      "yt : [INFO     ] 2024-07-26 10:58:27,267 Parameters: domain_right_edge         = [1. 2. 2.]\n",
      "yt : [INFO     ] 2024-07-26 10:58:27,286 Parameters: current_time              = 55.000645822431196\n",
      "yt : [INFO     ] 2024-07-26 10:58:27,287 Parameters: domain_dimensions         = [320 256 256]\n",
      "yt : [INFO     ] 2024-07-26 10:58:27,288 Parameters: domain_left_edge          = [-4. -2. -2.]\n",
      "yt : [INFO     ] 2024-07-26 10:58:27,288 Parameters: domain_right_edge         = [1. 2. 2.]\n",
      "yt : [INFO     ] 2024-07-26 10:58:27,982 Parameters: current_time              = 55.20049731286974\n",
      "yt : [INFO     ] 2024-07-26 10:58:27,983 Parameters: domain_dimensions         = [320 256 256]\n",
      "yt : [INFO     ] 2024-07-26 10:58:27,984 Parameters: domain_left_edge          = [-4. -2. -2.]\n",
      "yt : [INFO     ] 2024-07-26 10:58:27,985 Parameters: domain_right_edge         = [1. 2. 2.]\n",
      "yt : [INFO     ] 2024-07-26 10:58:28,004 Parameters: current_time              = 55.20049731286974\n",
      "yt : [INFO     ] 2024-07-26 10:58:28,005 Parameters: domain_dimensions         = [320 256 256]\n",
      "yt : [INFO     ] 2024-07-26 10:58:28,005 Parameters: domain_left_edge          = [-4. -2. -2.]\n",
      "yt : [INFO     ] 2024-07-26 10:58:28,006 Parameters: domain_right_edge         = [1. 2. 2.]\n"
     ]
    },
    {
     "name": "stdout",
     "output_type": "stream",
     "text": [
      "Plotting t = 55.2\n",
      "reading file cut_particle_region0_0_t00000055_n00030579_amrex\n"
     ]
    },
    {
     "name": "stderr",
     "output_type": "stream",
     "text": [
      "yt : [INFO     ] 2024-07-26 10:58:29,513 Parameters: current_time              = 55.20049731286974\n",
      "yt : [INFO     ] 2024-07-26 10:58:29,514 Parameters: domain_dimensions         = [320 256 256]\n",
      "yt : [INFO     ] 2024-07-26 10:58:29,515 Parameters: domain_left_edge          = [-4. -2. -2.]\n",
      "yt : [INFO     ] 2024-07-26 10:58:29,515 Parameters: domain_right_edge         = [1. 2. 2.]\n",
      "yt : [WARNING  ] 2024-07-26 10:58:30,199 Field ('particle', 'unit_one') was added without specifying units or dimensions, auto setting units to \n",
      "yt : [INFO     ] 2024-07-26 10:58:30,274 Parameters: current_time              = 55.20049731286974\n",
      "yt : [INFO     ] 2024-07-26 10:58:30,275 Parameters: domain_dimensions         = [320 256 256]\n",
      "yt : [INFO     ] 2024-07-26 10:58:30,275 Parameters: domain_left_edge          = [-4. -2. -2.]\n",
      "yt : [INFO     ] 2024-07-26 10:58:30,276 Parameters: domain_right_edge         = [1. 2. 2.]\n",
      "yt : [INFO     ] 2024-07-26 10:58:30,295 Parameters: current_time              = 55.20049731286974\n",
      "yt : [INFO     ] 2024-07-26 10:58:30,296 Parameters: domain_dimensions         = [320 256 256]\n",
      "yt : [INFO     ] 2024-07-26 10:58:30,297 Parameters: domain_left_edge          = [-4. -2. -2.]\n",
      "yt : [INFO     ] 2024-07-26 10:58:30,298 Parameters: domain_right_edge         = [1. 2. 2.]\n",
      "yt : [INFO     ] 2024-07-26 10:58:31,434 Parameters: current_time              = 55.20049731286974\n",
      "yt : [INFO     ] 2024-07-26 10:58:31,435 Parameters: domain_dimensions         = [320 256 256]\n",
      "yt : [INFO     ] 2024-07-26 10:58:31,436 Parameters: domain_left_edge          = [-4. -2. -2.]\n",
      "yt : [INFO     ] 2024-07-26 10:58:31,436 Parameters: domain_right_edge         = [1. 2. 2.]\n",
      "yt : [WARNING  ] 2024-07-26 10:58:32,107 Field ('particle', 'unit_one') was added without specifying units or dimensions, auto setting units to \n",
      "yt : [INFO     ] 2024-07-26 10:58:32,180 Parameters: current_time              = 55.20049731286974\n",
      "yt : [INFO     ] 2024-07-26 10:58:32,180 Parameters: domain_dimensions         = [320 256 256]\n",
      "yt : [INFO     ] 2024-07-26 10:58:32,181 Parameters: domain_left_edge          = [-4. -2. -2.]\n",
      "yt : [INFO     ] 2024-07-26 10:58:32,182 Parameters: domain_right_edge         = [1. 2. 2.]\n",
      "yt : [INFO     ] 2024-07-26 10:58:32,201 Parameters: current_time              = 55.20049731286974\n",
      "yt : [INFO     ] 2024-07-26 10:58:32,201 Parameters: domain_dimensions         = [320 256 256]\n",
      "yt : [INFO     ] 2024-07-26 10:58:32,202 Parameters: domain_left_edge          = [-4. -2. -2.]\n",
      "yt : [INFO     ] 2024-07-26 10:58:32,203 Parameters: domain_right_edge         = [1. 2. 2.]\n",
      "yt : [INFO     ] 2024-07-26 10:58:32,918 Parameters: current_time              = 55.40075914152486\n",
      "yt : [INFO     ] 2024-07-26 10:58:32,919 Parameters: domain_dimensions         = [320 256 256]\n",
      "yt : [INFO     ] 2024-07-26 10:58:32,919 Parameters: domain_left_edge          = [-4. -2. -2.]\n",
      "yt : [INFO     ] 2024-07-26 10:58:32,920 Parameters: domain_right_edge         = [1. 2. 2.]\n",
      "yt : [INFO     ] 2024-07-26 10:58:32,940 Parameters: current_time              = 55.40075914152486\n",
      "yt : [INFO     ] 2024-07-26 10:58:32,941 Parameters: domain_dimensions         = [320 256 256]\n",
      "yt : [INFO     ] 2024-07-26 10:58:32,942 Parameters: domain_left_edge          = [-4. -2. -2.]\n",
      "yt : [INFO     ] 2024-07-26 10:58:32,942 Parameters: domain_right_edge         = [1. 2. 2.]\n"
     ]
    },
    {
     "name": "stdout",
     "output_type": "stream",
     "text": [
      "Plotting t = 55.4\n",
      "reading file cut_particle_region0_0_t00000055_n00030708_amrex\n"
     ]
    },
    {
     "name": "stderr",
     "output_type": "stream",
     "text": [
      "yt : [INFO     ] 2024-07-26 10:58:34,431 Parameters: current_time              = 55.40075914152486\n",
      "yt : [INFO     ] 2024-07-26 10:58:34,432 Parameters: domain_dimensions         = [320 256 256]\n",
      "yt : [INFO     ] 2024-07-26 10:58:34,433 Parameters: domain_left_edge          = [-4. -2. -2.]\n",
      "yt : [INFO     ] 2024-07-26 10:58:34,433 Parameters: domain_right_edge         = [1. 2. 2.]\n",
      "yt : [WARNING  ] 2024-07-26 10:58:35,069 Field ('particle', 'unit_one') was added without specifying units or dimensions, auto setting units to \n",
      "yt : [INFO     ] 2024-07-26 10:58:35,139 Parameters: current_time              = 55.40075914152486\n",
      "yt : [INFO     ] 2024-07-26 10:58:35,140 Parameters: domain_dimensions         = [320 256 256]\n",
      "yt : [INFO     ] 2024-07-26 10:58:35,140 Parameters: domain_left_edge          = [-4. -2. -2.]\n",
      "yt : [INFO     ] 2024-07-26 10:58:35,141 Parameters: domain_right_edge         = [1. 2. 2.]\n",
      "yt : [INFO     ] 2024-07-26 10:58:35,160 Parameters: current_time              = 55.40075914152486\n",
      "yt : [INFO     ] 2024-07-26 10:58:35,161 Parameters: domain_dimensions         = [320 256 256]\n",
      "yt : [INFO     ] 2024-07-26 10:58:35,162 Parameters: domain_left_edge          = [-4. -2. -2.]\n",
      "yt : [INFO     ] 2024-07-26 10:58:35,162 Parameters: domain_right_edge         = [1. 2. 2.]\n",
      "yt : [INFO     ] 2024-07-26 10:58:36,235 Parameters: current_time              = 55.40075914152486\n",
      "yt : [INFO     ] 2024-07-26 10:58:36,236 Parameters: domain_dimensions         = [320 256 256]\n",
      "yt : [INFO     ] 2024-07-26 10:58:36,237 Parameters: domain_left_edge          = [-4. -2. -2.]\n",
      "yt : [INFO     ] 2024-07-26 10:58:36,238 Parameters: domain_right_edge         = [1. 2. 2.]\n",
      "yt : [WARNING  ] 2024-07-26 10:58:36,897 Field ('particle', 'unit_one') was added without specifying units or dimensions, auto setting units to \n",
      "yt : [INFO     ] 2024-07-26 10:58:36,971 Parameters: current_time              = 55.40075914152486\n",
      "yt : [INFO     ] 2024-07-26 10:58:36,971 Parameters: domain_dimensions         = [320 256 256]\n",
      "yt : [INFO     ] 2024-07-26 10:58:36,972 Parameters: domain_left_edge          = [-4. -2. -2.]\n",
      "yt : [INFO     ] 2024-07-26 10:58:36,973 Parameters: domain_right_edge         = [1. 2. 2.]\n",
      "yt : [INFO     ] 2024-07-26 10:58:36,992 Parameters: current_time              = 55.40075914152486\n",
      "yt : [INFO     ] 2024-07-26 10:58:36,993 Parameters: domain_dimensions         = [320 256 256]\n",
      "yt : [INFO     ] 2024-07-26 10:58:36,994 Parameters: domain_left_edge          = [-4. -2. -2.]\n",
      "yt : [INFO     ] 2024-07-26 10:58:36,994 Parameters: domain_right_edge         = [1. 2. 2.]\n",
      "yt : [INFO     ] 2024-07-26 10:58:37,728 Parameters: current_time              = 55.6005254206362\n",
      "yt : [INFO     ] 2024-07-26 10:58:37,729 Parameters: domain_dimensions         = [320 256 256]\n",
      "yt : [INFO     ] 2024-07-26 10:58:37,730 Parameters: domain_left_edge          = [-4. -2. -2.]\n",
      "yt : [INFO     ] 2024-07-26 10:58:37,731 Parameters: domain_right_edge         = [1. 2. 2.]\n",
      "yt : [INFO     ] 2024-07-26 10:58:37,750 Parameters: current_time              = 55.6005254206362\n",
      "yt : [INFO     ] 2024-07-26 10:58:37,751 Parameters: domain_dimensions         = [320 256 256]\n",
      "yt : [INFO     ] 2024-07-26 10:58:37,751 Parameters: domain_left_edge          = [-4. -2. -2.]\n",
      "yt : [INFO     ] 2024-07-26 10:58:37,752 Parameters: domain_right_edge         = [1. 2. 2.]\n"
     ]
    },
    {
     "name": "stdout",
     "output_type": "stream",
     "text": [
      "Plotting t = 55.6\n",
      "reading file cut_particle_region0_0_t00000055_n00030834_amrex\n"
     ]
    },
    {
     "name": "stderr",
     "output_type": "stream",
     "text": [
      "yt : [INFO     ] 2024-07-26 10:58:39,269 Parameters: current_time              = 55.6005254206362\n",
      "yt : [INFO     ] 2024-07-26 10:58:39,270 Parameters: domain_dimensions         = [320 256 256]\n",
      "yt : [INFO     ] 2024-07-26 10:58:39,271 Parameters: domain_left_edge          = [-4. -2. -2.]\n",
      "yt : [INFO     ] 2024-07-26 10:58:39,271 Parameters: domain_right_edge         = [1. 2. 2.]\n",
      "yt : [WARNING  ] 2024-07-26 10:58:39,930 Field ('particle', 'unit_one') was added without specifying units or dimensions, auto setting units to \n",
      "yt : [INFO     ] 2024-07-26 10:58:40,008 Parameters: current_time              = 55.6005254206362\n",
      "yt : [INFO     ] 2024-07-26 10:58:40,009 Parameters: domain_dimensions         = [320 256 256]\n",
      "yt : [INFO     ] 2024-07-26 10:58:40,009 Parameters: domain_left_edge          = [-4. -2. -2.]\n",
      "yt : [INFO     ] 2024-07-26 10:58:40,010 Parameters: domain_right_edge         = [1. 2. 2.]\n",
      "yt : [INFO     ] 2024-07-26 10:58:40,029 Parameters: current_time              = 55.6005254206362\n",
      "yt : [INFO     ] 2024-07-26 10:58:40,030 Parameters: domain_dimensions         = [320 256 256]\n",
      "yt : [INFO     ] 2024-07-26 10:58:40,031 Parameters: domain_left_edge          = [-4. -2. -2.]\n",
      "yt : [INFO     ] 2024-07-26 10:58:40,031 Parameters: domain_right_edge         = [1. 2. 2.]\n",
      "yt : [INFO     ] 2024-07-26 10:58:41,135 Parameters: current_time              = 55.6005254206362\n",
      "yt : [INFO     ] 2024-07-26 10:58:41,136 Parameters: domain_dimensions         = [320 256 256]\n",
      "yt : [INFO     ] 2024-07-26 10:58:41,137 Parameters: domain_left_edge          = [-4. -2. -2.]\n",
      "yt : [INFO     ] 2024-07-26 10:58:41,138 Parameters: domain_right_edge         = [1. 2. 2.]\n",
      "yt : [WARNING  ] 2024-07-26 10:58:41,787 Field ('particle', 'unit_one') was added without specifying units or dimensions, auto setting units to \n",
      "yt : [INFO     ] 2024-07-26 10:58:41,858 Parameters: current_time              = 55.6005254206362\n",
      "yt : [INFO     ] 2024-07-26 10:58:41,859 Parameters: domain_dimensions         = [320 256 256]\n",
      "yt : [INFO     ] 2024-07-26 10:58:41,860 Parameters: domain_left_edge          = [-4. -2. -2.]\n",
      "yt : [INFO     ] 2024-07-26 10:58:41,860 Parameters: domain_right_edge         = [1. 2. 2.]\n",
      "yt : [INFO     ] 2024-07-26 10:58:41,879 Parameters: current_time              = 55.6005254206362\n",
      "yt : [INFO     ] 2024-07-26 10:58:41,879 Parameters: domain_dimensions         = [320 256 256]\n",
      "yt : [INFO     ] 2024-07-26 10:58:41,880 Parameters: domain_left_edge          = [-4. -2. -2.]\n",
      "yt : [INFO     ] 2024-07-26 10:58:41,881 Parameters: domain_right_edge         = [1. 2. 2.]\n",
      "yt : [INFO     ] 2024-07-26 10:58:42,613 Parameters: current_time              = 55.80038773204014\n",
      "yt : [INFO     ] 2024-07-26 10:58:42,614 Parameters: domain_dimensions         = [320 256 256]\n",
      "yt : [INFO     ] 2024-07-26 10:58:42,614 Parameters: domain_left_edge          = [-4. -2. -2.]\n",
      "yt : [INFO     ] 2024-07-26 10:58:42,615 Parameters: domain_right_edge         = [1. 2. 2.]\n",
      "yt : [INFO     ] 2024-07-26 10:58:42,634 Parameters: current_time              = 55.80038773204014\n",
      "yt : [INFO     ] 2024-07-26 10:58:42,635 Parameters: domain_dimensions         = [320 256 256]\n",
      "yt : [INFO     ] 2024-07-26 10:58:42,636 Parameters: domain_left_edge          = [-4. -2. -2.]\n",
      "yt : [INFO     ] 2024-07-26 10:58:42,636 Parameters: domain_right_edge         = [1. 2. 2.]\n"
     ]
    },
    {
     "name": "stdout",
     "output_type": "stream",
     "text": [
      "Plotting t = 55.8\n",
      "reading file cut_particle_region0_0_t00000055_n00030960_amrex\n"
     ]
    },
    {
     "name": "stderr",
     "output_type": "stream",
     "text": [
      "yt : [INFO     ] 2024-07-26 10:58:44,124 Parameters: current_time              = 55.80038773204014\n",
      "yt : [INFO     ] 2024-07-26 10:58:44,124 Parameters: domain_dimensions         = [320 256 256]\n",
      "yt : [INFO     ] 2024-07-26 10:58:44,125 Parameters: domain_left_edge          = [-4. -2. -2.]\n",
      "yt : [INFO     ] 2024-07-26 10:58:44,126 Parameters: domain_right_edge         = [1. 2. 2.]\n",
      "yt : [WARNING  ] 2024-07-26 10:58:44,744 Field ('particle', 'unit_one') was added without specifying units or dimensions, auto setting units to \n",
      "yt : [INFO     ] 2024-07-26 10:58:44,814 Parameters: current_time              = 55.80038773204014\n",
      "yt : [INFO     ] 2024-07-26 10:58:44,815 Parameters: domain_dimensions         = [320 256 256]\n",
      "yt : [INFO     ] 2024-07-26 10:58:44,816 Parameters: domain_left_edge          = [-4. -2. -2.]\n",
      "yt : [INFO     ] 2024-07-26 10:58:44,816 Parameters: domain_right_edge         = [1. 2. 2.]\n",
      "yt : [INFO     ] 2024-07-26 10:58:44,835 Parameters: current_time              = 55.80038773204014\n",
      "yt : [INFO     ] 2024-07-26 10:58:44,835 Parameters: domain_dimensions         = [320 256 256]\n",
      "yt : [INFO     ] 2024-07-26 10:58:44,836 Parameters: domain_left_edge          = [-4. -2. -2.]\n",
      "yt : [INFO     ] 2024-07-26 10:58:44,837 Parameters: domain_right_edge         = [1. 2. 2.]\n",
      "yt : [INFO     ] 2024-07-26 10:58:45,881 Parameters: current_time              = 55.80038773204014\n",
      "yt : [INFO     ] 2024-07-26 10:58:45,882 Parameters: domain_dimensions         = [320 256 256]\n",
      "yt : [INFO     ] 2024-07-26 10:58:45,883 Parameters: domain_left_edge          = [-4. -2. -2.]\n",
      "yt : [INFO     ] 2024-07-26 10:58:45,883 Parameters: domain_right_edge         = [1. 2. 2.]\n",
      "yt : [WARNING  ] 2024-07-26 10:58:46,522 Field ('particle', 'unit_one') was added without specifying units or dimensions, auto setting units to \n",
      "yt : [INFO     ] 2024-07-26 10:58:46,597 Parameters: current_time              = 55.80038773204014\n",
      "yt : [INFO     ] 2024-07-26 10:58:46,598 Parameters: domain_dimensions         = [320 256 256]\n",
      "yt : [INFO     ] 2024-07-26 10:58:46,599 Parameters: domain_left_edge          = [-4. -2. -2.]\n",
      "yt : [INFO     ] 2024-07-26 10:58:46,600 Parameters: domain_right_edge         = [1. 2. 2.]\n",
      "yt : [INFO     ] 2024-07-26 10:58:46,618 Parameters: current_time              = 55.80038773204014\n",
      "yt : [INFO     ] 2024-07-26 10:58:46,619 Parameters: domain_dimensions         = [320 256 256]\n",
      "yt : [INFO     ] 2024-07-26 10:58:46,619 Parameters: domain_left_edge          = [-4. -2. -2.]\n",
      "yt : [INFO     ] 2024-07-26 10:58:46,620 Parameters: domain_right_edge         = [1. 2. 2.]\n",
      "yt : [INFO     ] 2024-07-26 10:58:47,327 Parameters: current_time              = 56.001314694932425\n",
      "yt : [INFO     ] 2024-07-26 10:58:47,328 Parameters: domain_dimensions         = [320 256 256]\n",
      "yt : [INFO     ] 2024-07-26 10:58:47,329 Parameters: domain_left_edge          = [-4. -2. -2.]\n",
      "yt : [INFO     ] 2024-07-26 10:58:47,329 Parameters: domain_right_edge         = [1. 2. 2.]\n",
      "yt : [INFO     ] 2024-07-26 10:58:47,349 Parameters: current_time              = 56.001314694932425\n",
      "yt : [INFO     ] 2024-07-26 10:58:47,349 Parameters: domain_dimensions         = [320 256 256]\n",
      "yt : [INFO     ] 2024-07-26 10:58:47,350 Parameters: domain_left_edge          = [-4. -2. -2.]\n",
      "yt : [INFO     ] 2024-07-26 10:58:47,351 Parameters: domain_right_edge         = [1. 2. 2.]\n"
     ]
    },
    {
     "name": "stdout",
     "output_type": "stream",
     "text": [
      "Plotting t = 56.0\n",
      "reading file cut_particle_region0_0_t00000056_n00031082_amrex\n"
     ]
    },
    {
     "name": "stderr",
     "output_type": "stream",
     "text": [
      "yt : [INFO     ] 2024-07-26 10:58:49,167 Parameters: current_time              = 56.001314694932425\n",
      "yt : [INFO     ] 2024-07-26 10:58:49,168 Parameters: domain_dimensions         = [320 256 256]\n",
      "yt : [INFO     ] 2024-07-26 10:58:49,169 Parameters: domain_left_edge          = [-4. -2. -2.]\n",
      "yt : [INFO     ] 2024-07-26 10:58:49,170 Parameters: domain_right_edge         = [1. 2. 2.]\n",
      "yt : [WARNING  ] 2024-07-26 10:58:49,842 Field ('particle', 'unit_one') was added without specifying units or dimensions, auto setting units to \n",
      "yt : [INFO     ] 2024-07-26 10:58:49,917 Parameters: current_time              = 56.001314694932425\n",
      "yt : [INFO     ] 2024-07-26 10:58:49,918 Parameters: domain_dimensions         = [320 256 256]\n",
      "yt : [INFO     ] 2024-07-26 10:58:49,919 Parameters: domain_left_edge          = [-4. -2. -2.]\n",
      "yt : [INFO     ] 2024-07-26 10:58:49,920 Parameters: domain_right_edge         = [1. 2. 2.]\n",
      "yt : [INFO     ] 2024-07-26 10:58:49,942 Parameters: current_time              = 56.001314694932425\n",
      "yt : [INFO     ] 2024-07-26 10:58:49,943 Parameters: domain_dimensions         = [320 256 256]\n",
      "yt : [INFO     ] 2024-07-26 10:58:49,943 Parameters: domain_left_edge          = [-4. -2. -2.]\n",
      "yt : [INFO     ] 2024-07-26 10:58:49,945 Parameters: domain_right_edge         = [1. 2. 2.]\n",
      "yt : [INFO     ] 2024-07-26 10:58:51,067 Parameters: current_time              = 56.001314694932425\n",
      "yt : [INFO     ] 2024-07-26 10:58:51,067 Parameters: domain_dimensions         = [320 256 256]\n",
      "yt : [INFO     ] 2024-07-26 10:58:51,068 Parameters: domain_left_edge          = [-4. -2. -2.]\n",
      "yt : [INFO     ] 2024-07-26 10:58:51,069 Parameters: domain_right_edge         = [1. 2. 2.]\n",
      "yt : [WARNING  ] 2024-07-26 10:58:51,718 Field ('particle', 'unit_one') was added without specifying units or dimensions, auto setting units to \n",
      "yt : [INFO     ] 2024-07-26 10:58:51,801 Parameters: current_time              = 56.001314694932425\n",
      "yt : [INFO     ] 2024-07-26 10:58:51,803 Parameters: domain_dimensions         = [320 256 256]\n",
      "yt : [INFO     ] 2024-07-26 10:58:51,803 Parameters: domain_left_edge          = [-4. -2. -2.]\n",
      "yt : [INFO     ] 2024-07-26 10:58:51,804 Parameters: domain_right_edge         = [1. 2. 2.]\n",
      "yt : [INFO     ] 2024-07-26 10:58:51,827 Parameters: current_time              = 56.001314694932425\n",
      "yt : [INFO     ] 2024-07-26 10:58:51,828 Parameters: domain_dimensions         = [320 256 256]\n",
      "yt : [INFO     ] 2024-07-26 10:58:51,829 Parameters: domain_left_edge          = [-4. -2. -2.]\n",
      "yt : [INFO     ] 2024-07-26 10:58:51,830 Parameters: domain_right_edge         = [1. 2. 2.]\n",
      "yt : [INFO     ] 2024-07-26 10:58:52,570 Parameters: current_time              = 56.200148754540784\n",
      "yt : [INFO     ] 2024-07-26 10:58:52,570 Parameters: domain_dimensions         = [320 256 256]\n",
      "yt : [INFO     ] 2024-07-26 10:58:52,571 Parameters: domain_left_edge          = [-4. -2. -2.]\n",
      "yt : [INFO     ] 2024-07-26 10:58:52,572 Parameters: domain_right_edge         = [1. 2. 2.]\n",
      "yt : [INFO     ] 2024-07-26 10:58:52,592 Parameters: current_time              = 56.200148754540784\n",
      "yt : [INFO     ] 2024-07-26 10:58:52,593 Parameters: domain_dimensions         = [320 256 256]\n",
      "yt : [INFO     ] 2024-07-26 10:58:52,593 Parameters: domain_left_edge          = [-4. -2. -2.]\n",
      "yt : [INFO     ] 2024-07-26 10:58:52,594 Parameters: domain_right_edge         = [1. 2. 2.]\n"
     ]
    },
    {
     "name": "stdout",
     "output_type": "stream",
     "text": [
      "Plotting t = 56.2\n",
      "reading file cut_particle_region0_0_t00000056_n00031205_amrex\n"
     ]
    },
    {
     "name": "stderr",
     "output_type": "stream",
     "text": [
      "yt : [INFO     ] 2024-07-26 10:58:54,138 Parameters: current_time              = 56.200148754540784\n",
      "yt : [INFO     ] 2024-07-26 10:58:54,139 Parameters: domain_dimensions         = [320 256 256]\n",
      "yt : [INFO     ] 2024-07-26 10:58:54,139 Parameters: domain_left_edge          = [-4. -2. -2.]\n",
      "yt : [INFO     ] 2024-07-26 10:58:54,140 Parameters: domain_right_edge         = [1. 2. 2.]\n",
      "yt : [WARNING  ] 2024-07-26 10:58:54,812 Field ('particle', 'unit_one') was added without specifying units or dimensions, auto setting units to \n",
      "yt : [INFO     ] 2024-07-26 10:58:54,885 Parameters: current_time              = 56.200148754540784\n",
      "yt : [INFO     ] 2024-07-26 10:58:54,886 Parameters: domain_dimensions         = [320 256 256]\n",
      "yt : [INFO     ] 2024-07-26 10:58:54,887 Parameters: domain_left_edge          = [-4. -2. -2.]\n",
      "yt : [INFO     ] 2024-07-26 10:58:54,887 Parameters: domain_right_edge         = [1. 2. 2.]\n",
      "yt : [INFO     ] 2024-07-26 10:58:54,906 Parameters: current_time              = 56.200148754540784\n",
      "yt : [INFO     ] 2024-07-26 10:58:54,907 Parameters: domain_dimensions         = [320 256 256]\n",
      "yt : [INFO     ] 2024-07-26 10:58:54,908 Parameters: domain_left_edge          = [-4. -2. -2.]\n",
      "yt : [INFO     ] 2024-07-26 10:58:54,909 Parameters: domain_right_edge         = [1. 2. 2.]\n",
      "yt : [INFO     ] 2024-07-26 10:58:55,477 Parameters: current_time              = 56.200148754540784\n",
      "yt : [INFO     ] 2024-07-26 10:58:55,478 Parameters: domain_dimensions         = [320 256 256]\n",
      "yt : [INFO     ] 2024-07-26 10:58:55,479 Parameters: domain_left_edge          = [-4. -2. -2.]\n",
      "yt : [INFO     ] 2024-07-26 10:58:55,479 Parameters: domain_right_edge         = [1. 2. 2.]\n",
      "yt : [WARNING  ] 2024-07-26 10:58:56,658 Field ('particle', 'unit_one') was added without specifying units or dimensions, auto setting units to \n",
      "yt : [INFO     ] 2024-07-26 10:58:56,729 Parameters: current_time              = 56.200148754540784\n",
      "yt : [INFO     ] 2024-07-26 10:58:56,730 Parameters: domain_dimensions         = [320 256 256]\n",
      "yt : [INFO     ] 2024-07-26 10:58:56,731 Parameters: domain_left_edge          = [-4. -2. -2.]\n",
      "yt : [INFO     ] 2024-07-26 10:58:56,732 Parameters: domain_right_edge         = [1. 2. 2.]\n",
      "yt : [INFO     ] 2024-07-26 10:58:56,750 Parameters: current_time              = 56.200148754540784\n",
      "yt : [INFO     ] 2024-07-26 10:58:56,751 Parameters: domain_dimensions         = [320 256 256]\n",
      "yt : [INFO     ] 2024-07-26 10:58:56,752 Parameters: domain_left_edge          = [-4. -2. -2.]\n",
      "yt : [INFO     ] 2024-07-26 10:58:56,753 Parameters: domain_right_edge         = [1. 2. 2.]\n",
      "yt : [INFO     ] 2024-07-26 10:58:57,430 Parameters: current_time              = 56.4013617093976\n",
      "yt : [INFO     ] 2024-07-26 10:58:57,431 Parameters: domain_dimensions         = [320 256 256]\n",
      "yt : [INFO     ] 2024-07-26 10:58:57,432 Parameters: domain_left_edge          = [-4. -2. -2.]\n",
      "yt : [INFO     ] 2024-07-26 10:58:57,432 Parameters: domain_right_edge         = [1. 2. 2.]\n",
      "yt : [INFO     ] 2024-07-26 10:58:57,451 Parameters: current_time              = 56.4013617093976\n",
      "yt : [INFO     ] 2024-07-26 10:58:57,451 Parameters: domain_dimensions         = [320 256 256]\n",
      "yt : [INFO     ] 2024-07-26 10:58:57,452 Parameters: domain_left_edge          = [-4. -2. -2.]\n",
      "yt : [INFO     ] 2024-07-26 10:58:57,453 Parameters: domain_right_edge         = [1. 2. 2.]\n"
     ]
    },
    {
     "name": "stdout",
     "output_type": "stream",
     "text": [
      "Plotting t = 56.4\n",
      "reading file cut_particle_region0_0_t00000056_n00031326_amrex\n"
     ]
    },
    {
     "name": "stderr",
     "output_type": "stream",
     "text": [
      "yt : [INFO     ] 2024-07-26 10:58:58,945 Parameters: current_time              = 56.4013617093976\n",
      "yt : [INFO     ] 2024-07-26 10:58:58,946 Parameters: domain_dimensions         = [320 256 256]\n",
      "yt : [INFO     ] 2024-07-26 10:58:58,946 Parameters: domain_left_edge          = [-4. -2. -2.]\n",
      "yt : [INFO     ] 2024-07-26 10:58:58,947 Parameters: domain_right_edge         = [1. 2. 2.]\n",
      "yt : [WARNING  ] 2024-07-26 10:58:59,571 Field ('particle', 'unit_one') was added without specifying units or dimensions, auto setting units to \n",
      "yt : [INFO     ] 2024-07-26 10:58:59,637 Parameters: current_time              = 56.4013617093976\n",
      "yt : [INFO     ] 2024-07-26 10:58:59,638 Parameters: domain_dimensions         = [320 256 256]\n",
      "yt : [INFO     ] 2024-07-26 10:58:59,639 Parameters: domain_left_edge          = [-4. -2. -2.]\n",
      "yt : [INFO     ] 2024-07-26 10:58:59,640 Parameters: domain_right_edge         = [1. 2. 2.]\n",
      "yt : [INFO     ] 2024-07-26 10:58:59,658 Parameters: current_time              = 56.4013617093976\n",
      "yt : [INFO     ] 2024-07-26 10:58:59,659 Parameters: domain_dimensions         = [320 256 256]\n",
      "yt : [INFO     ] 2024-07-26 10:58:59,660 Parameters: domain_left_edge          = [-4. -2. -2.]\n",
      "yt : [INFO     ] 2024-07-26 10:58:59,660 Parameters: domain_right_edge         = [1. 2. 2.]\n",
      "yt : [INFO     ] 2024-07-26 10:59:00,198 Parameters: current_time              = 56.4013617093976\n",
      "yt : [INFO     ] 2024-07-26 10:59:00,198 Parameters: domain_dimensions         = [320 256 256]\n",
      "yt : [INFO     ] 2024-07-26 10:59:00,199 Parameters: domain_left_edge          = [-4. -2. -2.]\n",
      "yt : [INFO     ] 2024-07-26 10:59:00,199 Parameters: domain_right_edge         = [1. 2. 2.]\n",
      "yt : [WARNING  ] 2024-07-26 10:59:01,383 Field ('particle', 'unit_one') was added without specifying units or dimensions, auto setting units to \n",
      "yt : [INFO     ] 2024-07-26 10:59:01,455 Parameters: current_time              = 56.4013617093976\n",
      "yt : [INFO     ] 2024-07-26 10:59:01,456 Parameters: domain_dimensions         = [320 256 256]\n",
      "yt : [INFO     ] 2024-07-26 10:59:01,457 Parameters: domain_left_edge          = [-4. -2. -2.]\n",
      "yt : [INFO     ] 2024-07-26 10:59:01,458 Parameters: domain_right_edge         = [1. 2. 2.]\n",
      "yt : [INFO     ] 2024-07-26 10:59:01,476 Parameters: current_time              = 56.4013617093976\n",
      "yt : [INFO     ] 2024-07-26 10:59:01,477 Parameters: domain_dimensions         = [320 256 256]\n",
      "yt : [INFO     ] 2024-07-26 10:59:01,478 Parameters: domain_left_edge          = [-4. -2. -2.]\n",
      "yt : [INFO     ] 2024-07-26 10:59:01,478 Parameters: domain_right_edge         = [1. 2. 2.]\n",
      "yt : [INFO     ] 2024-07-26 10:59:02,161 Parameters: current_time              = 56.6003487343121\n",
      "yt : [INFO     ] 2024-07-26 10:59:02,162 Parameters: domain_dimensions         = [320 256 256]\n",
      "yt : [INFO     ] 2024-07-26 10:59:02,162 Parameters: domain_left_edge          = [-4. -2. -2.]\n",
      "yt : [INFO     ] 2024-07-26 10:59:02,163 Parameters: domain_right_edge         = [1. 2. 2.]\n",
      "yt : [INFO     ] 2024-07-26 10:59:02,182 Parameters: current_time              = 56.6003487343121\n",
      "yt : [INFO     ] 2024-07-26 10:59:02,183 Parameters: domain_dimensions         = [320 256 256]\n",
      "yt : [INFO     ] 2024-07-26 10:59:02,183 Parameters: domain_left_edge          = [-4. -2. -2.]\n",
      "yt : [INFO     ] 2024-07-26 10:59:02,184 Parameters: domain_right_edge         = [1. 2. 2.]\n"
     ]
    },
    {
     "name": "stdout",
     "output_type": "stream",
     "text": [
      "Plotting t = 56.6\n",
      "reading file cut_particle_region0_0_t00000056_n00031447_amrex\n"
     ]
    },
    {
     "name": "stderr",
     "output_type": "stream",
     "text": [
      "yt : [INFO     ] 2024-07-26 10:59:03,685 Parameters: current_time              = 56.6003487343121\n",
      "yt : [INFO     ] 2024-07-26 10:59:03,686 Parameters: domain_dimensions         = [320 256 256]\n",
      "yt : [INFO     ] 2024-07-26 10:59:03,687 Parameters: domain_left_edge          = [-4. -2. -2.]\n",
      "yt : [INFO     ] 2024-07-26 10:59:03,687 Parameters: domain_right_edge         = [1. 2. 2.]\n",
      "yt : [WARNING  ] 2024-07-26 10:59:04,315 Field ('particle', 'unit_one') was added without specifying units or dimensions, auto setting units to \n",
      "yt : [INFO     ] 2024-07-26 10:59:04,384 Parameters: current_time              = 56.6003487343121\n",
      "yt : [INFO     ] 2024-07-26 10:59:04,385 Parameters: domain_dimensions         = [320 256 256]\n",
      "yt : [INFO     ] 2024-07-26 10:59:04,386 Parameters: domain_left_edge          = [-4. -2. -2.]\n",
      "yt : [INFO     ] 2024-07-26 10:59:04,386 Parameters: domain_right_edge         = [1. 2. 2.]\n",
      "yt : [INFO     ] 2024-07-26 10:59:04,405 Parameters: current_time              = 56.6003487343121\n",
      "yt : [INFO     ] 2024-07-26 10:59:04,406 Parameters: domain_dimensions         = [320 256 256]\n",
      "yt : [INFO     ] 2024-07-26 10:59:04,407 Parameters: domain_left_edge          = [-4. -2. -2.]\n",
      "yt : [INFO     ] 2024-07-26 10:59:04,407 Parameters: domain_right_edge         = [1. 2. 2.]\n",
      "yt : [INFO     ] 2024-07-26 10:59:04,951 Parameters: current_time              = 56.6003487343121\n",
      "yt : [INFO     ] 2024-07-26 10:59:04,952 Parameters: domain_dimensions         = [320 256 256]\n",
      "yt : [INFO     ] 2024-07-26 10:59:04,953 Parameters: domain_left_edge          = [-4. -2. -2.]\n",
      "yt : [INFO     ] 2024-07-26 10:59:04,953 Parameters: domain_right_edge         = [1. 2. 2.]\n",
      "yt : [WARNING  ] 2024-07-26 10:59:06,123 Field ('particle', 'unit_one') was added without specifying units or dimensions, auto setting units to \n",
      "yt : [INFO     ] 2024-07-26 10:59:06,193 Parameters: current_time              = 56.6003487343121\n",
      "yt : [INFO     ] 2024-07-26 10:59:06,194 Parameters: domain_dimensions         = [320 256 256]\n",
      "yt : [INFO     ] 2024-07-26 10:59:06,195 Parameters: domain_left_edge          = [-4. -2. -2.]\n",
      "yt : [INFO     ] 2024-07-26 10:59:06,195 Parameters: domain_right_edge         = [1. 2. 2.]\n",
      "yt : [INFO     ] 2024-07-26 10:59:06,213 Parameters: current_time              = 56.6003487343121\n",
      "yt : [INFO     ] 2024-07-26 10:59:06,214 Parameters: domain_dimensions         = [320 256 256]\n",
      "yt : [INFO     ] 2024-07-26 10:59:06,215 Parameters: domain_left_edge          = [-4. -2. -2.]\n",
      "yt : [INFO     ] 2024-07-26 10:59:06,216 Parameters: domain_right_edge         = [1. 2. 2.]\n",
      "yt : [INFO     ] 2024-07-26 10:59:06,892 Parameters: current_time              = 56.801452746476514\n",
      "yt : [INFO     ] 2024-07-26 10:59:06,893 Parameters: domain_dimensions         = [320 256 256]\n",
      "yt : [INFO     ] 2024-07-26 10:59:06,893 Parameters: domain_left_edge          = [-4. -2. -2.]\n",
      "yt : [INFO     ] 2024-07-26 10:59:06,894 Parameters: domain_right_edge         = [1. 2. 2.]\n",
      "yt : [INFO     ] 2024-07-26 10:59:06,912 Parameters: current_time              = 56.801452746476514\n",
      "yt : [INFO     ] 2024-07-26 10:59:06,913 Parameters: domain_dimensions         = [320 256 256]\n",
      "yt : [INFO     ] 2024-07-26 10:59:06,914 Parameters: domain_left_edge          = [-4. -2. -2.]\n",
      "yt : [INFO     ] 2024-07-26 10:59:06,915 Parameters: domain_right_edge         = [1. 2. 2.]\n"
     ]
    },
    {
     "name": "stdout",
     "output_type": "stream",
     "text": [
      "Plotting t = 56.8\n",
      "reading file cut_particle_region0_0_t00000056_n00031574_amrex\n"
     ]
    },
    {
     "name": "stderr",
     "output_type": "stream",
     "text": [
      "yt : [INFO     ] 2024-07-26 10:59:08,398 Parameters: current_time              = 56.801452746476514\n",
      "yt : [INFO     ] 2024-07-26 10:59:08,399 Parameters: domain_dimensions         = [320 256 256]\n",
      "yt : [INFO     ] 2024-07-26 10:59:08,399 Parameters: domain_left_edge          = [-4. -2. -2.]\n",
      "yt : [INFO     ] 2024-07-26 10:59:08,400 Parameters: domain_right_edge         = [1. 2. 2.]\n",
      "yt : [WARNING  ] 2024-07-26 10:59:09,033 Field ('particle', 'unit_one') was added without specifying units or dimensions, auto setting units to \n",
      "yt : [INFO     ] 2024-07-26 10:59:09,104 Parameters: current_time              = 56.801452746476514\n",
      "yt : [INFO     ] 2024-07-26 10:59:09,104 Parameters: domain_dimensions         = [320 256 256]\n",
      "yt : [INFO     ] 2024-07-26 10:59:09,105 Parameters: domain_left_edge          = [-4. -2. -2.]\n",
      "yt : [INFO     ] 2024-07-26 10:59:09,106 Parameters: domain_right_edge         = [1. 2. 2.]\n",
      "yt : [INFO     ] 2024-07-26 10:59:09,124 Parameters: current_time              = 56.801452746476514\n",
      "yt : [INFO     ] 2024-07-26 10:59:09,125 Parameters: domain_dimensions         = [320 256 256]\n",
      "yt : [INFO     ] 2024-07-26 10:59:09,125 Parameters: domain_left_edge          = [-4. -2. -2.]\n",
      "yt : [INFO     ] 2024-07-26 10:59:09,126 Parameters: domain_right_edge         = [1. 2. 2.]\n",
      "yt : [INFO     ] 2024-07-26 10:59:09,662 Parameters: current_time              = 56.801452746476514\n",
      "yt : [INFO     ] 2024-07-26 10:59:09,663 Parameters: domain_dimensions         = [320 256 256]\n",
      "yt : [INFO     ] 2024-07-26 10:59:09,663 Parameters: domain_left_edge          = [-4. -2. -2.]\n",
      "yt : [INFO     ] 2024-07-26 10:59:09,664 Parameters: domain_right_edge         = [1. 2. 2.]\n",
      "yt : [WARNING  ] 2024-07-26 10:59:10,839 Field ('particle', 'unit_one') was added without specifying units or dimensions, auto setting units to \n",
      "yt : [INFO     ] 2024-07-26 10:59:10,912 Parameters: current_time              = 56.801452746476514\n",
      "yt : [INFO     ] 2024-07-26 10:59:10,913 Parameters: domain_dimensions         = [320 256 256]\n",
      "yt : [INFO     ] 2024-07-26 10:59:10,913 Parameters: domain_left_edge          = [-4. -2. -2.]\n",
      "yt : [INFO     ] 2024-07-26 10:59:10,914 Parameters: domain_right_edge         = [1. 2. 2.]\n",
      "yt : [INFO     ] 2024-07-26 10:59:10,933 Parameters: current_time              = 56.801452746476514\n",
      "yt : [INFO     ] 2024-07-26 10:59:10,933 Parameters: domain_dimensions         = [320 256 256]\n",
      "yt : [INFO     ] 2024-07-26 10:59:10,934 Parameters: domain_left_edge          = [-4. -2. -2.]\n",
      "yt : [INFO     ] 2024-07-26 10:59:10,935 Parameters: domain_right_edge         = [1. 2. 2.]\n",
      "yt : [INFO     ] 2024-07-26 10:59:11,616 Parameters: current_time              = 57.00080135156915\n",
      "yt : [INFO     ] 2024-07-26 10:59:11,617 Parameters: domain_dimensions         = [320 256 256]\n",
      "yt : [INFO     ] 2024-07-26 10:59:11,617 Parameters: domain_left_edge          = [-4. -2. -2.]\n",
      "yt : [INFO     ] 2024-07-26 10:59:11,618 Parameters: domain_right_edge         = [1. 2. 2.]\n",
      "yt : [INFO     ] 2024-07-26 10:59:11,636 Parameters: current_time              = 57.00080135156915\n",
      "yt : [INFO     ] 2024-07-26 10:59:11,637 Parameters: domain_dimensions         = [320 256 256]\n",
      "yt : [INFO     ] 2024-07-26 10:59:11,638 Parameters: domain_left_edge          = [-4. -2. -2.]\n",
      "yt : [INFO     ] 2024-07-26 10:59:11,639 Parameters: domain_right_edge         = [1. 2. 2.]\n"
     ]
    },
    {
     "name": "stdout",
     "output_type": "stream",
     "text": [
      "Plotting t = 57.0\n",
      "reading file cut_particle_region0_0_t00000057_n00031705_amrex\n"
     ]
    },
    {
     "name": "stderr",
     "output_type": "stream",
     "text": [
      "yt : [INFO     ] 2024-07-26 10:59:13,135 Parameters: current_time              = 57.00080135156915\n",
      "yt : [INFO     ] 2024-07-26 10:59:13,136 Parameters: domain_dimensions         = [320 256 256]\n",
      "yt : [INFO     ] 2024-07-26 10:59:13,136 Parameters: domain_left_edge          = [-4. -2. -2.]\n",
      "yt : [INFO     ] 2024-07-26 10:59:13,137 Parameters: domain_right_edge         = [1. 2. 2.]\n",
      "yt : [WARNING  ] 2024-07-26 10:59:13,792 Field ('particle', 'unit_one') was added without specifying units or dimensions, auto setting units to \n",
      "yt : [INFO     ] 2024-07-26 10:59:13,865 Parameters: current_time              = 57.00080135156915\n",
      "yt : [INFO     ] 2024-07-26 10:59:13,866 Parameters: domain_dimensions         = [320 256 256]\n",
      "yt : [INFO     ] 2024-07-26 10:59:13,867 Parameters: domain_left_edge          = [-4. -2. -2.]\n",
      "yt : [INFO     ] 2024-07-26 10:59:13,867 Parameters: domain_right_edge         = [1. 2. 2.]\n",
      "yt : [INFO     ] 2024-07-26 10:59:13,886 Parameters: current_time              = 57.00080135156915\n",
      "yt : [INFO     ] 2024-07-26 10:59:13,887 Parameters: domain_dimensions         = [320 256 256]\n",
      "yt : [INFO     ] 2024-07-26 10:59:13,888 Parameters: domain_left_edge          = [-4. -2. -2.]\n",
      "yt : [INFO     ] 2024-07-26 10:59:13,889 Parameters: domain_right_edge         = [1. 2. 2.]\n",
      "yt : [INFO     ] 2024-07-26 10:59:14,427 Parameters: current_time              = 57.00080135156915\n",
      "yt : [INFO     ] 2024-07-26 10:59:14,427 Parameters: domain_dimensions         = [320 256 256]\n",
      "yt : [INFO     ] 2024-07-26 10:59:14,428 Parameters: domain_left_edge          = [-4. -2. -2.]\n",
      "yt : [INFO     ] 2024-07-26 10:59:14,428 Parameters: domain_right_edge         = [1. 2. 2.]\n",
      "yt : [WARNING  ] 2024-07-26 10:59:15,048 Field ('particle', 'unit_one') was added without specifying units or dimensions, auto setting units to \n",
      "yt : [INFO     ] 2024-07-26 10:59:15,119 Parameters: current_time              = 57.00080135156915\n",
      "yt : [INFO     ] 2024-07-26 10:59:15,120 Parameters: domain_dimensions         = [320 256 256]\n",
      "yt : [INFO     ] 2024-07-26 10:59:15,120 Parameters: domain_left_edge          = [-4. -2. -2.]\n",
      "yt : [INFO     ] 2024-07-26 10:59:15,121 Parameters: domain_right_edge         = [1. 2. 2.]\n",
      "yt : [INFO     ] 2024-07-26 10:59:15,140 Parameters: current_time              = 57.00080135156915\n",
      "yt : [INFO     ] 2024-07-26 10:59:15,141 Parameters: domain_dimensions         = [320 256 256]\n",
      "yt : [INFO     ] 2024-07-26 10:59:15,141 Parameters: domain_left_edge          = [-4. -2. -2.]\n",
      "yt : [INFO     ] 2024-07-26 10:59:15,142 Parameters: domain_right_edge         = [1. 2. 2.]\n",
      "yt : [INFO     ] 2024-07-26 10:59:16,375 Parameters: current_time              = 57.200077505596454\n",
      "yt : [INFO     ] 2024-07-26 10:59:16,375 Parameters: domain_dimensions         = [320 256 256]\n",
      "yt : [INFO     ] 2024-07-26 10:59:16,376 Parameters: domain_left_edge          = [-4. -2. -2.]\n",
      "yt : [INFO     ] 2024-07-26 10:59:16,377 Parameters: domain_right_edge         = [1. 2. 2.]\n",
      "yt : [INFO     ] 2024-07-26 10:59:16,396 Parameters: current_time              = 57.200077505596454\n",
      "yt : [INFO     ] 2024-07-26 10:59:16,396 Parameters: domain_dimensions         = [320 256 256]\n",
      "yt : [INFO     ] 2024-07-26 10:59:16,397 Parameters: domain_left_edge          = [-4. -2. -2.]\n",
      "yt : [INFO     ] 2024-07-26 10:59:16,398 Parameters: domain_right_edge         = [1. 2. 2.]\n"
     ]
    },
    {
     "name": "stdout",
     "output_type": "stream",
     "text": [
      "Plotting t = 57.2\n",
      "reading file cut_particle_region0_0_t00000057_n00031840_amrex\n"
     ]
    },
    {
     "name": "stderr",
     "output_type": "stream",
     "text": [
      "yt : [INFO     ] 2024-07-26 10:59:17,917 Parameters: current_time              = 57.200077505596454\n",
      "yt : [INFO     ] 2024-07-26 10:59:17,917 Parameters: domain_dimensions         = [320 256 256]\n",
      "yt : [INFO     ] 2024-07-26 10:59:17,918 Parameters: domain_left_edge          = [-4. -2. -2.]\n",
      "yt : [INFO     ] 2024-07-26 10:59:17,919 Parameters: domain_right_edge         = [1. 2. 2.]\n",
      "yt : [WARNING  ] 2024-07-26 10:59:18,560 Field ('particle', 'unit_one') was added without specifying units or dimensions, auto setting units to \n",
      "yt : [INFO     ] 2024-07-26 10:59:18,632 Parameters: current_time              = 57.200077505596454\n",
      "yt : [INFO     ] 2024-07-26 10:59:18,632 Parameters: domain_dimensions         = [320 256 256]\n",
      "yt : [INFO     ] 2024-07-26 10:59:18,633 Parameters: domain_left_edge          = [-4. -2. -2.]\n",
      "yt : [INFO     ] 2024-07-26 10:59:18,633 Parameters: domain_right_edge         = [1. 2. 2.]\n",
      "yt : [INFO     ] 2024-07-26 10:59:18,653 Parameters: current_time              = 57.200077505596454\n",
      "yt : [INFO     ] 2024-07-26 10:59:18,653 Parameters: domain_dimensions         = [320 256 256]\n",
      "yt : [INFO     ] 2024-07-26 10:59:18,654 Parameters: domain_left_edge          = [-4. -2. -2.]\n",
      "yt : [INFO     ] 2024-07-26 10:59:18,655 Parameters: domain_right_edge         = [1. 2. 2.]\n",
      "yt : [INFO     ] 2024-07-26 10:59:19,604 Parameters: current_time              = 57.200077505596454\n",
      "yt : [INFO     ] 2024-07-26 10:59:19,605 Parameters: domain_dimensions         = [320 256 256]\n",
      "yt : [INFO     ] 2024-07-26 10:59:19,606 Parameters: domain_left_edge          = [-4. -2. -2.]\n",
      "yt : [INFO     ] 2024-07-26 10:59:19,607 Parameters: domain_right_edge         = [1. 2. 2.]\n",
      "yt : [WARNING  ] 2024-07-26 10:59:20,297 Field ('particle', 'unit_one') was added without specifying units or dimensions, auto setting units to \n",
      "yt : [INFO     ] 2024-07-26 10:59:20,373 Parameters: current_time              = 57.200077505596454\n",
      "yt : [INFO     ] 2024-07-26 10:59:20,374 Parameters: domain_dimensions         = [320 256 256]\n",
      "yt : [INFO     ] 2024-07-26 10:59:20,375 Parameters: domain_left_edge          = [-4. -2. -2.]\n",
      "yt : [INFO     ] 2024-07-26 10:59:20,376 Parameters: domain_right_edge         = [1. 2. 2.]\n",
      "yt : [INFO     ] 2024-07-26 10:59:20,402 Parameters: current_time              = 57.200077505596454\n",
      "yt : [INFO     ] 2024-07-26 10:59:20,403 Parameters: domain_dimensions         = [320 256 256]\n",
      "yt : [INFO     ] 2024-07-26 10:59:20,404 Parameters: domain_left_edge          = [-4. -2. -2.]\n",
      "yt : [INFO     ] 2024-07-26 10:59:20,404 Parameters: domain_right_edge         = [1. 2. 2.]\n",
      "yt : [INFO     ] 2024-07-26 10:59:21,808 Parameters: current_time              = 57.40023967851937\n",
      "yt : [INFO     ] 2024-07-26 10:59:21,808 Parameters: domain_dimensions         = [320 256 256]\n",
      "yt : [INFO     ] 2024-07-26 10:59:21,809 Parameters: domain_left_edge          = [-4. -2. -2.]\n",
      "yt : [INFO     ] 2024-07-26 10:59:21,810 Parameters: domain_right_edge         = [1. 2. 2.]\n",
      "yt : [INFO     ] 2024-07-26 10:59:21,829 Parameters: current_time              = 57.40023967851937\n",
      "yt : [INFO     ] 2024-07-26 10:59:21,829 Parameters: domain_dimensions         = [320 256 256]\n",
      "yt : [INFO     ] 2024-07-26 10:59:21,830 Parameters: domain_left_edge          = [-4. -2. -2.]\n",
      "yt : [INFO     ] 2024-07-26 10:59:21,831 Parameters: domain_right_edge         = [1. 2. 2.]\n"
     ]
    },
    {
     "name": "stdout",
     "output_type": "stream",
     "text": [
      "Plotting t = 57.4\n",
      "reading file cut_particle_region0_0_t00000057_n00031977_amrex\n"
     ]
    },
    {
     "name": "stderr",
     "output_type": "stream",
     "text": [
      "yt : [INFO     ] 2024-07-26 10:59:23,316 Parameters: current_time              = 57.40023967851937\n",
      "yt : [INFO     ] 2024-07-26 10:59:23,317 Parameters: domain_dimensions         = [320 256 256]\n",
      "yt : [INFO     ] 2024-07-26 10:59:23,317 Parameters: domain_left_edge          = [-4. -2. -2.]\n",
      "yt : [INFO     ] 2024-07-26 10:59:23,318 Parameters: domain_right_edge         = [1. 2. 2.]\n",
      "yt : [WARNING  ] 2024-07-26 10:59:23,961 Field ('particle', 'unit_one') was added without specifying units or dimensions, auto setting units to \n",
      "yt : [INFO     ] 2024-07-26 10:59:24,033 Parameters: current_time              = 57.40023967851937\n",
      "yt : [INFO     ] 2024-07-26 10:59:24,034 Parameters: domain_dimensions         = [320 256 256]\n",
      "yt : [INFO     ] 2024-07-26 10:59:24,035 Parameters: domain_left_edge          = [-4. -2. -2.]\n",
      "yt : [INFO     ] 2024-07-26 10:59:24,035 Parameters: domain_right_edge         = [1. 2. 2.]\n",
      "yt : [INFO     ] 2024-07-26 10:59:24,054 Parameters: current_time              = 57.40023967851937\n",
      "yt : [INFO     ] 2024-07-26 10:59:24,055 Parameters: domain_dimensions         = [320 256 256]\n",
      "yt : [INFO     ] 2024-07-26 10:59:24,055 Parameters: domain_left_edge          = [-4. -2. -2.]\n",
      "yt : [INFO     ] 2024-07-26 10:59:24,056 Parameters: domain_right_edge         = [1. 2. 2.]\n",
      "yt : [INFO     ] 2024-07-26 10:59:24,611 Parameters: current_time              = 57.40023967851937\n",
      "yt : [INFO     ] 2024-07-26 10:59:24,612 Parameters: domain_dimensions         = [320 256 256]\n",
      "yt : [INFO     ] 2024-07-26 10:59:24,613 Parameters: domain_left_edge          = [-4. -2. -2.]\n",
      "yt : [INFO     ] 2024-07-26 10:59:24,613 Parameters: domain_right_edge         = [1. 2. 2.]\n",
      "yt : [WARNING  ] 2024-07-26 10:59:25,251 Field ('particle', 'unit_one') was added without specifying units or dimensions, auto setting units to \n",
      "yt : [INFO     ] 2024-07-26 10:59:25,322 Parameters: current_time              = 57.40023967851937\n",
      "yt : [INFO     ] 2024-07-26 10:59:25,323 Parameters: domain_dimensions         = [320 256 256]\n",
      "yt : [INFO     ] 2024-07-26 10:59:25,324 Parameters: domain_left_edge          = [-4. -2. -2.]\n",
      "yt : [INFO     ] 2024-07-26 10:59:25,324 Parameters: domain_right_edge         = [1. 2. 2.]\n",
      "yt : [INFO     ] 2024-07-26 10:59:25,343 Parameters: current_time              = 57.40023967851937\n",
      "yt : [INFO     ] 2024-07-26 10:59:25,344 Parameters: domain_dimensions         = [320 256 256]\n",
      "yt : [INFO     ] 2024-07-26 10:59:25,345 Parameters: domain_left_edge          = [-4. -2. -2.]\n",
      "yt : [INFO     ] 2024-07-26 10:59:25,345 Parameters: domain_right_edge         = [1. 2. 2.]\n",
      "yt : [INFO     ] 2024-07-26 10:59:26,024 Parameters: current_time              = 57.6009433667169\n",
      "yt : [INFO     ] 2024-07-26 10:59:26,025 Parameters: domain_dimensions         = [320 256 256]\n",
      "yt : [INFO     ] 2024-07-26 10:59:26,025 Parameters: domain_left_edge          = [-4. -2. -2.]\n",
      "yt : [INFO     ] 2024-07-26 10:59:26,026 Parameters: domain_right_edge         = [1. 2. 2.]\n",
      "yt : [INFO     ] 2024-07-26 10:59:26,045 Parameters: current_time              = 57.6009433667169\n",
      "yt : [INFO     ] 2024-07-26 10:59:26,045 Parameters: domain_dimensions         = [320 256 256]\n",
      "yt : [INFO     ] 2024-07-26 10:59:26,046 Parameters: domain_left_edge          = [-4. -2. -2.]\n",
      "yt : [INFO     ] 2024-07-26 10:59:26,047 Parameters: domain_right_edge         = [1. 2. 2.]\n"
     ]
    },
    {
     "name": "stdout",
     "output_type": "stream",
     "text": [
      "Plotting t = 57.6\n",
      "reading file cut_particle_region0_0_t00000057_n00032112_amrex\n"
     ]
    },
    {
     "name": "stderr",
     "output_type": "stream",
     "text": [
      "yt : [INFO     ] 2024-07-26 10:59:28,163 Parameters: current_time              = 57.6009433667169\n",
      "yt : [INFO     ] 2024-07-26 10:59:28,164 Parameters: domain_dimensions         = [320 256 256]\n",
      "yt : [INFO     ] 2024-07-26 10:59:28,165 Parameters: domain_left_edge          = [-4. -2. -2.]\n",
      "yt : [INFO     ] 2024-07-26 10:59:28,165 Parameters: domain_right_edge         = [1. 2. 2.]\n",
      "yt : [WARNING  ] 2024-07-26 10:59:28,820 Field ('particle', 'unit_one') was added without specifying units or dimensions, auto setting units to \n",
      "yt : [INFO     ] 2024-07-26 10:59:28,889 Parameters: current_time              = 57.6009433667169\n",
      "yt : [INFO     ] 2024-07-26 10:59:28,889 Parameters: domain_dimensions         = [320 256 256]\n",
      "yt : [INFO     ] 2024-07-26 10:59:28,890 Parameters: domain_left_edge          = [-4. -2. -2.]\n",
      "yt : [INFO     ] 2024-07-26 10:59:28,891 Parameters: domain_right_edge         = [1. 2. 2.]\n",
      "yt : [INFO     ] 2024-07-26 10:59:28,909 Parameters: current_time              = 57.6009433667169\n",
      "yt : [INFO     ] 2024-07-26 10:59:28,910 Parameters: domain_dimensions         = [320 256 256]\n",
      "yt : [INFO     ] 2024-07-26 10:59:28,911 Parameters: domain_left_edge          = [-4. -2. -2.]\n",
      "yt : [INFO     ] 2024-07-26 10:59:28,911 Parameters: domain_right_edge         = [1. 2. 2.]\n",
      "yt : [INFO     ] 2024-07-26 10:59:29,460 Parameters: current_time              = 57.6009433667169\n",
      "yt : [INFO     ] 2024-07-26 10:59:29,460 Parameters: domain_dimensions         = [320 256 256]\n",
      "yt : [INFO     ] 2024-07-26 10:59:29,461 Parameters: domain_left_edge          = [-4. -2. -2.]\n",
      "yt : [INFO     ] 2024-07-26 10:59:29,462 Parameters: domain_right_edge         = [1. 2. 2.]\n",
      "yt : [WARNING  ] 2024-07-26 10:59:30,122 Field ('particle', 'unit_one') was added without specifying units or dimensions, auto setting units to \n",
      "yt : [INFO     ] 2024-07-26 10:59:30,194 Parameters: current_time              = 57.6009433667169\n",
      "yt : [INFO     ] 2024-07-26 10:59:30,195 Parameters: domain_dimensions         = [320 256 256]\n",
      "yt : [INFO     ] 2024-07-26 10:59:30,196 Parameters: domain_left_edge          = [-4. -2. -2.]\n",
      "yt : [INFO     ] 2024-07-26 10:59:30,196 Parameters: domain_right_edge         = [1. 2. 2.]\n",
      "yt : [INFO     ] 2024-07-26 10:59:30,215 Parameters: current_time              = 57.6009433667169\n",
      "yt : [INFO     ] 2024-07-26 10:59:30,215 Parameters: domain_dimensions         = [320 256 256]\n",
      "yt : [INFO     ] 2024-07-26 10:59:30,216 Parameters: domain_left_edge          = [-4. -2. -2.]\n",
      "yt : [INFO     ] 2024-07-26 10:59:30,217 Parameters: domain_right_edge         = [1. 2. 2.]\n",
      "yt : [INFO     ] 2024-07-26 10:59:30,907 Parameters: current_time              = 57.80102295798354\n",
      "yt : [INFO     ] 2024-07-26 10:59:30,908 Parameters: domain_dimensions         = [320 256 256]\n",
      "yt : [INFO     ] 2024-07-26 10:59:30,909 Parameters: domain_left_edge          = [-4. -2. -2.]\n",
      "yt : [INFO     ] 2024-07-26 10:59:30,909 Parameters: domain_right_edge         = [1. 2. 2.]\n",
      "yt : [INFO     ] 2024-07-26 10:59:30,928 Parameters: current_time              = 57.80102295798354\n",
      "yt : [INFO     ] 2024-07-26 10:59:30,929 Parameters: domain_dimensions         = [320 256 256]\n",
      "yt : [INFO     ] 2024-07-26 10:59:30,929 Parameters: domain_left_edge          = [-4. -2. -2.]\n",
      "yt : [INFO     ] 2024-07-26 10:59:30,930 Parameters: domain_right_edge         = [1. 2. 2.]\n"
     ]
    },
    {
     "name": "stdout",
     "output_type": "stream",
     "text": [
      "Plotting t = 57.8\n",
      "reading file cut_particle_region0_0_t00000057_n00032241_amrex\n"
     ]
    },
    {
     "name": "stderr",
     "output_type": "stream",
     "text": [
      "yt : [INFO     ] 2024-07-26 10:59:32,993 Parameters: current_time              = 57.80102295798354\n",
      "yt : [INFO     ] 2024-07-26 10:59:32,994 Parameters: domain_dimensions         = [320 256 256]\n",
      "yt : [INFO     ] 2024-07-26 10:59:32,994 Parameters: domain_left_edge          = [-4. -2. -2.]\n",
      "yt : [INFO     ] 2024-07-26 10:59:32,995 Parameters: domain_right_edge         = [1. 2. 2.]\n",
      "yt : [WARNING  ] 2024-07-26 10:59:33,630 Field ('particle', 'unit_one') was added without specifying units or dimensions, auto setting units to \n",
      "yt : [INFO     ] 2024-07-26 10:59:33,703 Parameters: current_time              = 57.80102295798354\n",
      "yt : [INFO     ] 2024-07-26 10:59:33,703 Parameters: domain_dimensions         = [320 256 256]\n",
      "yt : [INFO     ] 2024-07-26 10:59:33,704 Parameters: domain_left_edge          = [-4. -2. -2.]\n",
      "yt : [INFO     ] 2024-07-26 10:59:33,705 Parameters: domain_right_edge         = [1. 2. 2.]\n",
      "yt : [INFO     ] 2024-07-26 10:59:33,723 Parameters: current_time              = 57.80102295798354\n",
      "yt : [INFO     ] 2024-07-26 10:59:33,723 Parameters: domain_dimensions         = [320 256 256]\n",
      "yt : [INFO     ] 2024-07-26 10:59:33,724 Parameters: domain_left_edge          = [-4. -2. -2.]\n",
      "yt : [INFO     ] 2024-07-26 10:59:33,725 Parameters: domain_right_edge         = [1. 2. 2.]\n",
      "yt : [INFO     ] 2024-07-26 10:59:34,266 Parameters: current_time              = 57.80102295798354\n",
      "yt : [INFO     ] 2024-07-26 10:59:34,267 Parameters: domain_dimensions         = [320 256 256]\n",
      "yt : [INFO     ] 2024-07-26 10:59:34,267 Parameters: domain_left_edge          = [-4. -2. -2.]\n",
      "yt : [INFO     ] 2024-07-26 10:59:34,268 Parameters: domain_right_edge         = [1. 2. 2.]\n",
      "yt : [WARNING  ] 2024-07-26 10:59:34,909 Field ('particle', 'unit_one') was added without specifying units or dimensions, auto setting units to \n",
      "yt : [INFO     ] 2024-07-26 10:59:34,983 Parameters: current_time              = 57.80102295798354\n",
      "yt : [INFO     ] 2024-07-26 10:59:34,984 Parameters: domain_dimensions         = [320 256 256]\n",
      "yt : [INFO     ] 2024-07-26 10:59:34,984 Parameters: domain_left_edge          = [-4. -2. -2.]\n",
      "yt : [INFO     ] 2024-07-26 10:59:34,985 Parameters: domain_right_edge         = [1. 2. 2.]\n",
      "yt : [INFO     ] 2024-07-26 10:59:35,003 Parameters: current_time              = 57.80102295798354\n",
      "yt : [INFO     ] 2024-07-26 10:59:35,004 Parameters: domain_dimensions         = [320 256 256]\n",
      "yt : [INFO     ] 2024-07-26 10:59:35,005 Parameters: domain_left_edge          = [-4. -2. -2.]\n",
      "yt : [INFO     ] 2024-07-26 10:59:35,005 Parameters: domain_right_edge         = [1. 2. 2.]\n",
      "yt : [INFO     ] 2024-07-26 10:59:35,706 Parameters: current_time              = 58.00038802025825\n",
      "yt : [INFO     ] 2024-07-26 10:59:35,707 Parameters: domain_dimensions         = [320 256 256]\n",
      "yt : [INFO     ] 2024-07-26 10:59:35,707 Parameters: domain_left_edge          = [-4. -2. -2.]\n",
      "yt : [INFO     ] 2024-07-26 10:59:35,708 Parameters: domain_right_edge         = [1. 2. 2.]\n",
      "yt : [INFO     ] 2024-07-26 10:59:35,728 Parameters: current_time              = 58.00038802025825\n",
      "yt : [INFO     ] 2024-07-26 10:59:35,729 Parameters: domain_dimensions         = [320 256 256]\n",
      "yt : [INFO     ] 2024-07-26 10:59:35,730 Parameters: domain_left_edge          = [-4. -2. -2.]\n",
      "yt : [INFO     ] 2024-07-26 10:59:35,731 Parameters: domain_right_edge         = [1. 2. 2.]\n"
     ]
    },
    {
     "name": "stdout",
     "output_type": "stream",
     "text": [
      "Plotting t = 58.0\n",
      "reading file cut_particle_region0_0_t00000058_n00032364_amrex\n"
     ]
    },
    {
     "name": "stderr",
     "output_type": "stream",
     "text": [
      "yt : [INFO     ] 2024-07-26 10:59:37,259 Parameters: current_time              = 58.00038802025825\n",
      "yt : [INFO     ] 2024-07-26 10:59:37,260 Parameters: domain_dimensions         = [320 256 256]\n",
      "yt : [INFO     ] 2024-07-26 10:59:37,261 Parameters: domain_left_edge          = [-4. -2. -2.]\n",
      "yt : [INFO     ] 2024-07-26 10:59:37,261 Parameters: domain_right_edge         = [1. 2. 2.]\n",
      "yt : [WARNING  ] 2024-07-26 10:59:38,463 Field ('particle', 'unit_one') was added without specifying units or dimensions, auto setting units to \n",
      "yt : [INFO     ] 2024-07-26 10:59:38,532 Parameters: current_time              = 58.00038802025825\n",
      "yt : [INFO     ] 2024-07-26 10:59:38,533 Parameters: domain_dimensions         = [320 256 256]\n",
      "yt : [INFO     ] 2024-07-26 10:59:38,534 Parameters: domain_left_edge          = [-4. -2. -2.]\n",
      "yt : [INFO     ] 2024-07-26 10:59:38,534 Parameters: domain_right_edge         = [1. 2. 2.]\n",
      "yt : [INFO     ] 2024-07-26 10:59:38,553 Parameters: current_time              = 58.00038802025825\n",
      "yt : [INFO     ] 2024-07-26 10:59:38,554 Parameters: domain_dimensions         = [320 256 256]\n",
      "yt : [INFO     ] 2024-07-26 10:59:38,554 Parameters: domain_left_edge          = [-4. -2. -2.]\n",
      "yt : [INFO     ] 2024-07-26 10:59:38,555 Parameters: domain_right_edge         = [1. 2. 2.]\n",
      "yt : [INFO     ] 2024-07-26 10:59:39,098 Parameters: current_time              = 58.00038802025825\n",
      "yt : [INFO     ] 2024-07-26 10:59:39,099 Parameters: domain_dimensions         = [320 256 256]\n",
      "yt : [INFO     ] 2024-07-26 10:59:39,100 Parameters: domain_left_edge          = [-4. -2. -2.]\n",
      "yt : [INFO     ] 2024-07-26 10:59:39,100 Parameters: domain_right_edge         = [1. 2. 2.]\n",
      "yt : [WARNING  ] 2024-07-26 10:59:39,734 Field ('particle', 'unit_one') was added without specifying units or dimensions, auto setting units to \n",
      "yt : [INFO     ] 2024-07-26 10:59:39,803 Parameters: current_time              = 58.00038802025825\n",
      "yt : [INFO     ] 2024-07-26 10:59:39,804 Parameters: domain_dimensions         = [320 256 256]\n",
      "yt : [INFO     ] 2024-07-26 10:59:39,804 Parameters: domain_left_edge          = [-4. -2. -2.]\n",
      "yt : [INFO     ] 2024-07-26 10:59:39,805 Parameters: domain_right_edge         = [1. 2. 2.]\n",
      "yt : [INFO     ] 2024-07-26 10:59:39,824 Parameters: current_time              = 58.00038802025825\n",
      "yt : [INFO     ] 2024-07-26 10:59:39,824 Parameters: domain_dimensions         = [320 256 256]\n",
      "yt : [INFO     ] 2024-07-26 10:59:39,825 Parameters: domain_left_edge          = [-4. -2. -2.]\n",
      "yt : [INFO     ] 2024-07-26 10:59:39,826 Parameters: domain_right_edge         = [1. 2. 2.]\n",
      "yt : [INFO     ] 2024-07-26 10:59:40,508 Parameters: current_time              = 58.20016470781803\n",
      "yt : [INFO     ] 2024-07-26 10:59:40,509 Parameters: domain_dimensions         = [320 256 256]\n",
      "yt : [INFO     ] 2024-07-26 10:59:40,509 Parameters: domain_left_edge          = [-4. -2. -2.]\n",
      "yt : [INFO     ] 2024-07-26 10:59:40,510 Parameters: domain_right_edge         = [1. 2. 2.]\n",
      "yt : [INFO     ] 2024-07-26 10:59:40,529 Parameters: current_time              = 58.20016470781803\n",
      "yt : [INFO     ] 2024-07-26 10:59:40,530 Parameters: domain_dimensions         = [320 256 256]\n",
      "yt : [INFO     ] 2024-07-26 10:59:40,530 Parameters: domain_left_edge          = [-4. -2. -2.]\n",
      "yt : [INFO     ] 2024-07-26 10:59:40,531 Parameters: domain_right_edge         = [1. 2. 2.]\n"
     ]
    },
    {
     "name": "stdout",
     "output_type": "stream",
     "text": [
      "Plotting t = 58.2\n",
      "reading file cut_particle_region0_0_t00000058_n00032492_amrex\n"
     ]
    },
    {
     "name": "stderr",
     "output_type": "stream",
     "text": [
      "yt : [INFO     ] 2024-07-26 10:59:42,014 Parameters: current_time              = 58.20016470781803\n",
      "yt : [INFO     ] 2024-07-26 10:59:42,014 Parameters: domain_dimensions         = [320 256 256]\n",
      "yt : [INFO     ] 2024-07-26 10:59:42,015 Parameters: domain_left_edge          = [-4. -2. -2.]\n",
      "yt : [INFO     ] 2024-07-26 10:59:42,016 Parameters: domain_right_edge         = [1. 2. 2.]\n",
      "yt : [WARNING  ] 2024-07-26 10:59:43,233 Field ('particle', 'unit_one') was added without specifying units or dimensions, auto setting units to \n",
      "yt : [INFO     ] 2024-07-26 10:59:43,305 Parameters: current_time              = 58.20016470781803\n",
      "yt : [INFO     ] 2024-07-26 10:59:43,306 Parameters: domain_dimensions         = [320 256 256]\n",
      "yt : [INFO     ] 2024-07-26 10:59:43,306 Parameters: domain_left_edge          = [-4. -2. -2.]\n",
      "yt : [INFO     ] 2024-07-26 10:59:43,307 Parameters: domain_right_edge         = [1. 2. 2.]\n",
      "yt : [INFO     ] 2024-07-26 10:59:43,326 Parameters: current_time              = 58.20016470781803\n",
      "yt : [INFO     ] 2024-07-26 10:59:43,327 Parameters: domain_dimensions         = [320 256 256]\n",
      "yt : [INFO     ] 2024-07-26 10:59:43,327 Parameters: domain_left_edge          = [-4. -2. -2.]\n",
      "yt : [INFO     ] 2024-07-26 10:59:43,328 Parameters: domain_right_edge         = [1. 2. 2.]\n",
      "yt : [INFO     ] 2024-07-26 10:59:43,863 Parameters: current_time              = 58.20016470781803\n",
      "yt : [INFO     ] 2024-07-26 10:59:43,864 Parameters: domain_dimensions         = [320 256 256]\n",
      "yt : [INFO     ] 2024-07-26 10:59:43,864 Parameters: domain_left_edge          = [-4. -2. -2.]\n",
      "yt : [INFO     ] 2024-07-26 10:59:43,865 Parameters: domain_right_edge         = [1. 2. 2.]\n",
      "yt : [WARNING  ] 2024-07-26 10:59:44,498 Field ('particle', 'unit_one') was added without specifying units or dimensions, auto setting units to \n",
      "yt : [INFO     ] 2024-07-26 10:59:44,568 Parameters: current_time              = 58.20016470781803\n",
      "yt : [INFO     ] 2024-07-26 10:59:44,568 Parameters: domain_dimensions         = [320 256 256]\n",
      "yt : [INFO     ] 2024-07-26 10:59:44,569 Parameters: domain_left_edge          = [-4. -2. -2.]\n",
      "yt : [INFO     ] 2024-07-26 10:59:44,570 Parameters: domain_right_edge         = [1. 2. 2.]\n",
      "yt : [INFO     ] 2024-07-26 10:59:44,588 Parameters: current_time              = 58.20016470781803\n",
      "yt : [INFO     ] 2024-07-26 10:59:44,589 Parameters: domain_dimensions         = [320 256 256]\n",
      "yt : [INFO     ] 2024-07-26 10:59:44,590 Parameters: domain_left_edge          = [-4. -2. -2.]\n",
      "yt : [INFO     ] 2024-07-26 10:59:44,591 Parameters: domain_right_edge         = [1. 2. 2.]\n",
      "yt : [INFO     ] 2024-07-26 10:59:45,282 Parameters: current_time              = 58.400996408557425\n",
      "yt : [INFO     ] 2024-07-26 10:59:45,283 Parameters: domain_dimensions         = [320 256 256]\n",
      "yt : [INFO     ] 2024-07-26 10:59:45,284 Parameters: domain_left_edge          = [-4. -2. -2.]\n",
      "yt : [INFO     ] 2024-07-26 10:59:45,285 Parameters: domain_right_edge         = [1. 2. 2.]\n",
      "yt : [INFO     ] 2024-07-26 10:59:45,303 Parameters: current_time              = 58.400996408557425\n",
      "yt : [INFO     ] 2024-07-26 10:59:45,304 Parameters: domain_dimensions         = [320 256 256]\n",
      "yt : [INFO     ] 2024-07-26 10:59:45,305 Parameters: domain_left_edge          = [-4. -2. -2.]\n",
      "yt : [INFO     ] 2024-07-26 10:59:45,306 Parameters: domain_right_edge         = [1. 2. 2.]\n"
     ]
    },
    {
     "name": "stdout",
     "output_type": "stream",
     "text": [
      "Plotting t = 58.4\n",
      "reading file cut_particle_region0_0_t00000058_n00032648_amrex\n"
     ]
    },
    {
     "name": "stderr",
     "output_type": "stream",
     "text": [
      "yt : [INFO     ] 2024-07-26 10:59:46,839 Parameters: current_time              = 58.400996408557425\n",
      "yt : [INFO     ] 2024-07-26 10:59:46,840 Parameters: domain_dimensions         = [320 256 256]\n",
      "yt : [INFO     ] 2024-07-26 10:59:46,841 Parameters: domain_left_edge          = [-4. -2. -2.]\n",
      "yt : [INFO     ] 2024-07-26 10:59:46,841 Parameters: domain_right_edge         = [1. 2. 2.]\n",
      "yt : [WARNING  ] 2024-07-26 10:59:47,488 Field ('particle', 'unit_one') was added without specifying units or dimensions, auto setting units to \n",
      "yt : [INFO     ] 2024-07-26 10:59:47,557 Parameters: current_time              = 58.400996408557425\n",
      "yt : [INFO     ] 2024-07-26 10:59:47,558 Parameters: domain_dimensions         = [320 256 256]\n",
      "yt : [INFO     ] 2024-07-26 10:59:47,558 Parameters: domain_left_edge          = [-4. -2. -2.]\n",
      "yt : [INFO     ] 2024-07-26 10:59:47,559 Parameters: domain_right_edge         = [1. 2. 2.]\n",
      "yt : [INFO     ] 2024-07-26 10:59:47,577 Parameters: current_time              = 58.400996408557425\n",
      "yt : [INFO     ] 2024-07-26 10:59:47,578 Parameters: domain_dimensions         = [320 256 256]\n",
      "yt : [INFO     ] 2024-07-26 10:59:47,578 Parameters: domain_left_edge          = [-4. -2. -2.]\n",
      "yt : [INFO     ] 2024-07-26 10:59:47,579 Parameters: domain_right_edge         = [1. 2. 2.]\n",
      "yt : [INFO     ] 2024-07-26 10:59:48,700 Parameters: current_time              = 58.400996408557425\n",
      "yt : [INFO     ] 2024-07-26 10:59:48,701 Parameters: domain_dimensions         = [320 256 256]\n",
      "yt : [INFO     ] 2024-07-26 10:59:48,702 Parameters: domain_left_edge          = [-4. -2. -2.]\n",
      "yt : [INFO     ] 2024-07-26 10:59:48,702 Parameters: domain_right_edge         = [1. 2. 2.]\n",
      "yt : [WARNING  ] 2024-07-26 10:59:49,664 Field ('particle', 'unit_one') was added without specifying units or dimensions, auto setting units to \n",
      "yt : [INFO     ] 2024-07-26 10:59:49,732 Parameters: current_time              = 58.400996408557425\n",
      "yt : [INFO     ] 2024-07-26 10:59:49,733 Parameters: domain_dimensions         = [320 256 256]\n",
      "yt : [INFO     ] 2024-07-26 10:59:49,733 Parameters: domain_left_edge          = [-4. -2. -2.]\n",
      "yt : [INFO     ] 2024-07-26 10:59:49,734 Parameters: domain_right_edge         = [1. 2. 2.]\n",
      "yt : [INFO     ] 2024-07-26 10:59:49,753 Parameters: current_time              = 58.400996408557425\n",
      "yt : [INFO     ] 2024-07-26 10:59:49,753 Parameters: domain_dimensions         = [320 256 256]\n",
      "yt : [INFO     ] 2024-07-26 10:59:49,754 Parameters: domain_left_edge          = [-4. -2. -2.]\n",
      "yt : [INFO     ] 2024-07-26 10:59:49,755 Parameters: domain_right_edge         = [1. 2. 2.]\n",
      "yt : [INFO     ] 2024-07-26 10:59:50,440 Parameters: current_time              = 58.60027408074766\n",
      "yt : [INFO     ] 2024-07-26 10:59:50,441 Parameters: domain_dimensions         = [320 256 256]\n",
      "yt : [INFO     ] 2024-07-26 10:59:50,442 Parameters: domain_left_edge          = [-4. -2. -2.]\n",
      "yt : [INFO     ] 2024-07-26 10:59:50,442 Parameters: domain_right_edge         = [1. 2. 2.]\n",
      "yt : [INFO     ] 2024-07-26 10:59:50,461 Parameters: current_time              = 58.60027408074766\n",
      "yt : [INFO     ] 2024-07-26 10:59:50,462 Parameters: domain_dimensions         = [320 256 256]\n",
      "yt : [INFO     ] 2024-07-26 10:59:50,463 Parameters: domain_left_edge          = [-4. -2. -2.]\n",
      "yt : [INFO     ] 2024-07-26 10:59:50,463 Parameters: domain_right_edge         = [1. 2. 2.]\n"
     ]
    },
    {
     "name": "stdout",
     "output_type": "stream",
     "text": [
      "Plotting t = 58.6\n",
      "reading file cut_particle_region0_0_t00000058_n00032802_amrex\n"
     ]
    },
    {
     "name": "stderr",
     "output_type": "stream",
     "text": [
      "yt : [INFO     ] 2024-07-26 10:59:51,957 Parameters: current_time              = 58.60027408074766\n",
      "yt : [INFO     ] 2024-07-26 10:59:51,957 Parameters: domain_dimensions         = [320 256 256]\n",
      "yt : [INFO     ] 2024-07-26 10:59:51,958 Parameters: domain_left_edge          = [-4. -2. -2.]\n",
      "yt : [INFO     ] 2024-07-26 10:59:51,959 Parameters: domain_right_edge         = [1. 2. 2.]\n",
      "yt : [WARNING  ] 2024-07-26 10:59:52,585 Field ('particle', 'unit_one') was added without specifying units or dimensions, auto setting units to \n",
      "yt : [INFO     ] 2024-07-26 10:59:52,655 Parameters: current_time              = 58.60027408074766\n",
      "yt : [INFO     ] 2024-07-26 10:59:52,656 Parameters: domain_dimensions         = [320 256 256]\n",
      "yt : [INFO     ] 2024-07-26 10:59:52,656 Parameters: domain_left_edge          = [-4. -2. -2.]\n",
      "yt : [INFO     ] 2024-07-26 10:59:52,657 Parameters: domain_right_edge         = [1. 2. 2.]\n",
      "yt : [INFO     ] 2024-07-26 10:59:52,676 Parameters: current_time              = 58.60027408074766\n",
      "yt : [INFO     ] 2024-07-26 10:59:52,677 Parameters: domain_dimensions         = [320 256 256]\n",
      "yt : [INFO     ] 2024-07-26 10:59:52,677 Parameters: domain_left_edge          = [-4. -2. -2.]\n",
      "yt : [INFO     ] 2024-07-26 10:59:52,678 Parameters: domain_right_edge         = [1. 2. 2.]\n",
      "yt : [INFO     ] 2024-07-26 10:59:53,217 Parameters: current_time              = 58.60027408074766\n",
      "yt : [INFO     ] 2024-07-26 10:59:53,218 Parameters: domain_dimensions         = [320 256 256]\n",
      "yt : [INFO     ] 2024-07-26 10:59:53,219 Parameters: domain_left_edge          = [-4. -2. -2.]\n",
      "yt : [INFO     ] 2024-07-26 10:59:53,219 Parameters: domain_right_edge         = [1. 2. 2.]\n",
      "yt : [WARNING  ] 2024-07-26 10:59:54,431 Field ('particle', 'unit_one') was added without specifying units or dimensions, auto setting units to \n",
      "yt : [INFO     ] 2024-07-26 10:59:54,502 Parameters: current_time              = 58.60027408074766\n",
      "yt : [INFO     ] 2024-07-26 10:59:54,503 Parameters: domain_dimensions         = [320 256 256]\n",
      "yt : [INFO     ] 2024-07-26 10:59:54,503 Parameters: domain_left_edge          = [-4. -2. -2.]\n",
      "yt : [INFO     ] 2024-07-26 10:59:54,504 Parameters: domain_right_edge         = [1. 2. 2.]\n",
      "yt : [INFO     ] 2024-07-26 10:59:54,522 Parameters: current_time              = 58.60027408074766\n",
      "yt : [INFO     ] 2024-07-26 10:59:54,523 Parameters: domain_dimensions         = [320 256 256]\n",
      "yt : [INFO     ] 2024-07-26 10:59:54,523 Parameters: domain_left_edge          = [-4. -2. -2.]\n",
      "yt : [INFO     ] 2024-07-26 10:59:54,524 Parameters: domain_right_edge         = [1. 2. 2.]\n",
      "yt : [INFO     ] 2024-07-26 10:59:55,202 Parameters: current_time              = 58.800037261845226\n",
      "yt : [INFO     ] 2024-07-26 10:59:55,203 Parameters: domain_dimensions         = [320 256 256]\n",
      "yt : [INFO     ] 2024-07-26 10:59:55,204 Parameters: domain_left_edge          = [-4. -2. -2.]\n",
      "yt : [INFO     ] 2024-07-26 10:59:55,204 Parameters: domain_right_edge         = [1. 2. 2.]\n",
      "yt : [INFO     ] 2024-07-26 10:59:55,223 Parameters: current_time              = 58.800037261845226\n",
      "yt : [INFO     ] 2024-07-26 10:59:55,224 Parameters: domain_dimensions         = [320 256 256]\n",
      "yt : [INFO     ] 2024-07-26 10:59:55,225 Parameters: domain_left_edge          = [-4. -2. -2.]\n",
      "yt : [INFO     ] 2024-07-26 10:59:55,225 Parameters: domain_right_edge         = [1. 2. 2.]\n"
     ]
    },
    {
     "name": "stdout",
     "output_type": "stream",
     "text": [
      "Plotting t = 58.8\n",
      "reading file cut_particle_region0_0_t00000058_n00032948_amrex\n"
     ]
    },
    {
     "name": "stderr",
     "output_type": "stream",
     "text": [
      "yt : [INFO     ] 2024-07-26 10:59:56,703 Parameters: current_time              = 58.800037261845226\n",
      "yt : [INFO     ] 2024-07-26 10:59:56,704 Parameters: domain_dimensions         = [320 256 256]\n",
      "yt : [INFO     ] 2024-07-26 10:59:56,704 Parameters: domain_left_edge          = [-4. -2. -2.]\n",
      "yt : [INFO     ] 2024-07-26 10:59:56,705 Parameters: domain_right_edge         = [1. 2. 2.]\n",
      "yt : [WARNING  ] 2024-07-26 10:59:57,335 Field ('particle', 'unit_one') was added without specifying units or dimensions, auto setting units to \n",
      "yt : [INFO     ] 2024-07-26 10:59:57,404 Parameters: current_time              = 58.800037261845226\n",
      "yt : [INFO     ] 2024-07-26 10:59:57,404 Parameters: domain_dimensions         = [320 256 256]\n",
      "yt : [INFO     ] 2024-07-26 10:59:57,405 Parameters: domain_left_edge          = [-4. -2. -2.]\n",
      "yt : [INFO     ] 2024-07-26 10:59:57,406 Parameters: domain_right_edge         = [1. 2. 2.]\n",
      "yt : [INFO     ] 2024-07-26 10:59:57,424 Parameters: current_time              = 58.800037261845226\n",
      "yt : [INFO     ] 2024-07-26 10:59:57,425 Parameters: domain_dimensions         = [320 256 256]\n",
      "yt : [INFO     ] 2024-07-26 10:59:57,426 Parameters: domain_left_edge          = [-4. -2. -2.]\n",
      "yt : [INFO     ] 2024-07-26 10:59:57,426 Parameters: domain_right_edge         = [1. 2. 2.]\n",
      "yt : [INFO     ] 2024-07-26 10:59:57,968 Parameters: current_time              = 58.800037261845226\n",
      "yt : [INFO     ] 2024-07-26 10:59:57,969 Parameters: domain_dimensions         = [320 256 256]\n",
      "yt : [INFO     ] 2024-07-26 10:59:57,969 Parameters: domain_left_edge          = [-4. -2. -2.]\n",
      "yt : [INFO     ] 2024-07-26 10:59:57,970 Parameters: domain_right_edge         = [1. 2. 2.]\n",
      "yt : [WARNING  ] 2024-07-26 10:59:59,191 Field ('particle', 'unit_one') was added without specifying units or dimensions, auto setting units to \n",
      "yt : [INFO     ] 2024-07-26 10:59:59,259 Parameters: current_time              = 58.800037261845226\n",
      "yt : [INFO     ] 2024-07-26 10:59:59,259 Parameters: domain_dimensions         = [320 256 256]\n",
      "yt : [INFO     ] 2024-07-26 10:59:59,260 Parameters: domain_left_edge          = [-4. -2. -2.]\n",
      "yt : [INFO     ] 2024-07-26 10:59:59,261 Parameters: domain_right_edge         = [1. 2. 2.]\n",
      "yt : [INFO     ] 2024-07-26 10:59:59,279 Parameters: current_time              = 58.800037261845226\n",
      "yt : [INFO     ] 2024-07-26 10:59:59,280 Parameters: domain_dimensions         = [320 256 256]\n",
      "yt : [INFO     ] 2024-07-26 10:59:59,280 Parameters: domain_left_edge          = [-4. -2. -2.]\n",
      "yt : [INFO     ] 2024-07-26 10:59:59,281 Parameters: domain_right_edge         = [1. 2. 2.]\n",
      "yt : [INFO     ] 2024-07-26 10:59:59,960 Parameters: current_time              = 59.00062211549139\n",
      "yt : [INFO     ] 2024-07-26 10:59:59,961 Parameters: domain_dimensions         = [320 256 256]\n",
      "yt : [INFO     ] 2024-07-26 10:59:59,961 Parameters: domain_left_edge          = [-4. -2. -2.]\n",
      "yt : [INFO     ] 2024-07-26 10:59:59,962 Parameters: domain_right_edge         = [1. 2. 2.]\n",
      "yt : [INFO     ] 2024-07-26 10:59:59,980 Parameters: current_time              = 59.00062211549139\n",
      "yt : [INFO     ] 2024-07-26 10:59:59,981 Parameters: domain_dimensions         = [320 256 256]\n",
      "yt : [INFO     ] 2024-07-26 10:59:59,982 Parameters: domain_left_edge          = [-4. -2. -2.]\n",
      "yt : [INFO     ] 2024-07-26 10:59:59,982 Parameters: domain_right_edge         = [1. 2. 2.]\n"
     ]
    },
    {
     "name": "stdout",
     "output_type": "stream",
     "text": [
      "Plotting t = 59.0\n",
      "reading file cut_particle_region0_0_t00000059_n00033086_amrex\n"
     ]
    },
    {
     "name": "stderr",
     "output_type": "stream",
     "text": [
      "yt : [INFO     ] 2024-07-26 11:00:01,473 Parameters: current_time              = 59.00062211549139\n",
      "yt : [INFO     ] 2024-07-26 11:00:01,473 Parameters: domain_dimensions         = [320 256 256]\n",
      "yt : [INFO     ] 2024-07-26 11:00:01,474 Parameters: domain_left_edge          = [-4. -2. -2.]\n",
      "yt : [INFO     ] 2024-07-26 11:00:01,475 Parameters: domain_right_edge         = [1. 2. 2.]\n",
      "yt : [WARNING  ] 2024-07-26 11:00:02,249 Field ('particle', 'unit_one') was added without specifying units or dimensions, auto setting units to \n",
      "yt : [INFO     ] 2024-07-26 11:00:02,318 Parameters: current_time              = 59.00062211549139\n",
      "yt : [INFO     ] 2024-07-26 11:00:02,319 Parameters: domain_dimensions         = [320 256 256]\n",
      "yt : [INFO     ] 2024-07-26 11:00:02,320 Parameters: domain_left_edge          = [-4. -2. -2.]\n",
      "yt : [INFO     ] 2024-07-26 11:00:02,320 Parameters: domain_right_edge         = [1. 2. 2.]\n",
      "yt : [INFO     ] 2024-07-26 11:00:02,339 Parameters: current_time              = 59.00062211549139\n",
      "yt : [INFO     ] 2024-07-26 11:00:02,340 Parameters: domain_dimensions         = [320 256 256]\n",
      "yt : [INFO     ] 2024-07-26 11:00:02,341 Parameters: domain_left_edge          = [-4. -2. -2.]\n",
      "yt : [INFO     ] 2024-07-26 11:00:02,341 Parameters: domain_right_edge         = [1. 2. 2.]\n",
      "yt : [INFO     ] 2024-07-26 11:00:02,998 Parameters: current_time              = 59.00062211549139\n",
      "yt : [INFO     ] 2024-07-26 11:00:02,999 Parameters: domain_dimensions         = [320 256 256]\n",
      "yt : [INFO     ] 2024-07-26 11:00:02,999 Parameters: domain_left_edge          = [-4. -2. -2.]\n",
      "yt : [INFO     ] 2024-07-26 11:00:03,000 Parameters: domain_right_edge         = [1. 2. 2.]\n",
      "yt : [WARNING  ] 2024-07-26 11:00:03,631 Field ('particle', 'unit_one') was added without specifying units or dimensions, auto setting units to \n",
      "yt : [INFO     ] 2024-07-26 11:00:03,701 Parameters: current_time              = 59.00062211549139\n",
      "yt : [INFO     ] 2024-07-26 11:00:03,702 Parameters: domain_dimensions         = [320 256 256]\n",
      "yt : [INFO     ] 2024-07-26 11:00:03,702 Parameters: domain_left_edge          = [-4. -2. -2.]\n",
      "yt : [INFO     ] 2024-07-26 11:00:03,703 Parameters: domain_right_edge         = [1. 2. 2.]\n",
      "yt : [INFO     ] 2024-07-26 11:00:03,721 Parameters: current_time              = 59.00062211549139\n",
      "yt : [INFO     ] 2024-07-26 11:00:03,722 Parameters: domain_dimensions         = [320 256 256]\n",
      "yt : [INFO     ] 2024-07-26 11:00:03,723 Parameters: domain_left_edge          = [-4. -2. -2.]\n",
      "yt : [INFO     ] 2024-07-26 11:00:03,724 Parameters: domain_right_edge         = [1. 2. 2.]\n",
      "yt : [INFO     ] 2024-07-26 11:00:05,000 Parameters: current_time              = 59.20066091480502\n",
      "yt : [INFO     ] 2024-07-26 11:00:05,001 Parameters: domain_dimensions         = [320 256 256]\n",
      "yt : [INFO     ] 2024-07-26 11:00:05,001 Parameters: domain_left_edge          = [-4. -2. -2.]\n",
      "yt : [INFO     ] 2024-07-26 11:00:05,002 Parameters: domain_right_edge         = [1. 2. 2.]\n",
      "yt : [INFO     ] 2024-07-26 11:00:05,022 Parameters: current_time              = 59.20066091480502\n",
      "yt : [INFO     ] 2024-07-26 11:00:05,022 Parameters: domain_dimensions         = [320 256 256]\n",
      "yt : [INFO     ] 2024-07-26 11:00:05,023 Parameters: domain_left_edge          = [-4. -2. -2.]\n",
      "yt : [INFO     ] 2024-07-26 11:00:05,023 Parameters: domain_right_edge         = [1. 2. 2.]\n"
     ]
    },
    {
     "name": "stdout",
     "output_type": "stream",
     "text": [
      "Plotting t = 59.2\n",
      "reading file cut_particle_region0_0_t00000059_n00033212_amrex\n"
     ]
    },
    {
     "name": "stderr",
     "output_type": "stream",
     "text": [
      "yt : [INFO     ] 2024-07-26 11:00:06,512 Parameters: current_time              = 59.20066091480502\n",
      "yt : [INFO     ] 2024-07-26 11:00:06,512 Parameters: domain_dimensions         = [320 256 256]\n",
      "yt : [INFO     ] 2024-07-26 11:00:06,513 Parameters: domain_left_edge          = [-4. -2. -2.]\n",
      "yt : [INFO     ] 2024-07-26 11:00:06,513 Parameters: domain_right_edge         = [1. 2. 2.]\n",
      "yt : [WARNING  ] 2024-07-26 11:00:07,153 Field ('particle', 'unit_one') was added without specifying units or dimensions, auto setting units to \n",
      "yt : [INFO     ] 2024-07-26 11:00:07,221 Parameters: current_time              = 59.20066091480502\n",
      "yt : [INFO     ] 2024-07-26 11:00:07,222 Parameters: domain_dimensions         = [320 256 256]\n",
      "yt : [INFO     ] 2024-07-26 11:00:07,223 Parameters: domain_left_edge          = [-4. -2. -2.]\n",
      "yt : [INFO     ] 2024-07-26 11:00:07,224 Parameters: domain_right_edge         = [1. 2. 2.]\n",
      "yt : [INFO     ] 2024-07-26 11:00:07,242 Parameters: current_time              = 59.20066091480502\n",
      "yt : [INFO     ] 2024-07-26 11:00:07,243 Parameters: domain_dimensions         = [320 256 256]\n",
      "yt : [INFO     ] 2024-07-26 11:00:07,244 Parameters: domain_left_edge          = [-4. -2. -2.]\n",
      "yt : [INFO     ] 2024-07-26 11:00:07,244 Parameters: domain_right_edge         = [1. 2. 2.]\n",
      "yt : [INFO     ] 2024-07-26 11:00:07,789 Parameters: current_time              = 59.20066091480502\n",
      "yt : [INFO     ] 2024-07-26 11:00:07,790 Parameters: domain_dimensions         = [320 256 256]\n",
      "yt : [INFO     ] 2024-07-26 11:00:07,791 Parameters: domain_left_edge          = [-4. -2. -2.]\n",
      "yt : [INFO     ] 2024-07-26 11:00:07,791 Parameters: domain_right_edge         = [1. 2. 2.]\n",
      "yt : [WARNING  ] 2024-07-26 11:00:08,424 Field ('particle', 'unit_one') was added without specifying units or dimensions, auto setting units to \n",
      "yt : [INFO     ] 2024-07-26 11:00:08,497 Parameters: current_time              = 59.20066091480502\n",
      "yt : [INFO     ] 2024-07-26 11:00:08,498 Parameters: domain_dimensions         = [320 256 256]\n",
      "yt : [INFO     ] 2024-07-26 11:00:08,499 Parameters: domain_left_edge          = [-4. -2. -2.]\n",
      "yt : [INFO     ] 2024-07-26 11:00:08,499 Parameters: domain_right_edge         = [1. 2. 2.]\n",
      "yt : [INFO     ] 2024-07-26 11:00:08,518 Parameters: current_time              = 59.20066091480502\n",
      "yt : [INFO     ] 2024-07-26 11:00:08,518 Parameters: domain_dimensions         = [320 256 256]\n",
      "yt : [INFO     ] 2024-07-26 11:00:08,519 Parameters: domain_left_edge          = [-4. -2. -2.]\n",
      "yt : [INFO     ] 2024-07-26 11:00:08,520 Parameters: domain_right_edge         = [1. 2. 2.]\n",
      "yt : [INFO     ] 2024-07-26 11:00:09,192 Parameters: current_time              = 59.40107235414388\n",
      "yt : [INFO     ] 2024-07-26 11:00:09,193 Parameters: domain_dimensions         = [320 256 256]\n",
      "yt : [INFO     ] 2024-07-26 11:00:09,194 Parameters: domain_left_edge          = [-4. -2. -2.]\n",
      "yt : [INFO     ] 2024-07-26 11:00:09,194 Parameters: domain_right_edge         = [1. 2. 2.]\n",
      "yt : [INFO     ] 2024-07-26 11:00:09,213 Parameters: current_time              = 59.40107235414388\n",
      "yt : [INFO     ] 2024-07-26 11:00:09,214 Parameters: domain_dimensions         = [320 256 256]\n",
      "yt : [INFO     ] 2024-07-26 11:00:09,215 Parameters: domain_left_edge          = [-4. -2. -2.]\n",
      "yt : [INFO     ] 2024-07-26 11:00:09,215 Parameters: domain_right_edge         = [1. 2. 2.]\n"
     ]
    },
    {
     "name": "stdout",
     "output_type": "stream",
     "text": [
      "Plotting t = 59.4\n",
      "reading file cut_particle_region0_0_t00000059_n00033336_amrex\n"
     ]
    },
    {
     "name": "stderr",
     "output_type": "stream",
     "text": [
      "yt : [INFO     ] 2024-07-26 11:00:11,294 Parameters: current_time              = 59.40107235414388\n",
      "yt : [INFO     ] 2024-07-26 11:00:11,295 Parameters: domain_dimensions         = [320 256 256]\n",
      "yt : [INFO     ] 2024-07-26 11:00:11,295 Parameters: domain_left_edge          = [-4. -2. -2.]\n",
      "yt : [INFO     ] 2024-07-26 11:00:11,296 Parameters: domain_right_edge         = [1. 2. 2.]\n",
      "yt : [WARNING  ] 2024-07-26 11:00:11,935 Field ('particle', 'unit_one') was added without specifying units or dimensions, auto setting units to \n",
      "yt : [INFO     ] 2024-07-26 11:00:12,004 Parameters: current_time              = 59.40107235414388\n",
      "yt : [INFO     ] 2024-07-26 11:00:12,004 Parameters: domain_dimensions         = [320 256 256]\n",
      "yt : [INFO     ] 2024-07-26 11:00:12,005 Parameters: domain_left_edge          = [-4. -2. -2.]\n",
      "yt : [INFO     ] 2024-07-26 11:00:12,006 Parameters: domain_right_edge         = [1. 2. 2.]\n",
      "yt : [INFO     ] 2024-07-26 11:00:12,024 Parameters: current_time              = 59.40107235414388\n",
      "yt : [INFO     ] 2024-07-26 11:00:12,025 Parameters: domain_dimensions         = [320 256 256]\n",
      "yt : [INFO     ] 2024-07-26 11:00:12,026 Parameters: domain_left_edge          = [-4. -2. -2.]\n",
      "yt : [INFO     ] 2024-07-26 11:00:12,027 Parameters: domain_right_edge         = [1. 2. 2.]\n",
      "yt : [INFO     ] 2024-07-26 11:00:12,569 Parameters: current_time              = 59.40107235414388\n",
      "yt : [INFO     ] 2024-07-26 11:00:12,570 Parameters: domain_dimensions         = [320 256 256]\n",
      "yt : [INFO     ] 2024-07-26 11:00:12,571 Parameters: domain_left_edge          = [-4. -2. -2.]\n",
      "yt : [INFO     ] 2024-07-26 11:00:12,571 Parameters: domain_right_edge         = [1. 2. 2.]\n",
      "yt : [WARNING  ] 2024-07-26 11:00:13,198 Field ('particle', 'unit_one') was added without specifying units or dimensions, auto setting units to \n",
      "yt : [INFO     ] 2024-07-26 11:00:13,270 Parameters: current_time              = 59.40107235414388\n",
      "yt : [INFO     ] 2024-07-26 11:00:13,271 Parameters: domain_dimensions         = [320 256 256]\n",
      "yt : [INFO     ] 2024-07-26 11:00:13,272 Parameters: domain_left_edge          = [-4. -2. -2.]\n",
      "yt : [INFO     ] 2024-07-26 11:00:13,272 Parameters: domain_right_edge         = [1. 2. 2.]\n",
      "yt : [INFO     ] 2024-07-26 11:00:13,291 Parameters: current_time              = 59.40107235414388\n",
      "yt : [INFO     ] 2024-07-26 11:00:13,292 Parameters: domain_dimensions         = [320 256 256]\n",
      "yt : [INFO     ] 2024-07-26 11:00:13,292 Parameters: domain_left_edge          = [-4. -2. -2.]\n",
      "yt : [INFO     ] 2024-07-26 11:00:13,293 Parameters: domain_right_edge         = [1. 2. 2.]\n",
      "yt : [INFO     ] 2024-07-26 11:00:13,971 Parameters: current_time              = 59.601216647875255\n",
      "yt : [INFO     ] 2024-07-26 11:00:13,972 Parameters: domain_dimensions         = [320 256 256]\n",
      "yt : [INFO     ] 2024-07-26 11:00:13,973 Parameters: domain_left_edge          = [-4. -2. -2.]\n",
      "yt : [INFO     ] 2024-07-26 11:00:13,974 Parameters: domain_right_edge         = [1. 2. 2.]\n",
      "yt : [INFO     ] 2024-07-26 11:00:13,993 Parameters: current_time              = 59.601216647875255\n",
      "yt : [INFO     ] 2024-07-26 11:00:13,994 Parameters: domain_dimensions         = [320 256 256]\n",
      "yt : [INFO     ] 2024-07-26 11:00:13,994 Parameters: domain_left_edge          = [-4. -2. -2.]\n",
      "yt : [INFO     ] 2024-07-26 11:00:13,995 Parameters: domain_right_edge         = [1. 2. 2.]\n"
     ]
    },
    {
     "name": "stdout",
     "output_type": "stream",
     "text": [
      "Plotting t = 59.6\n",
      "reading file cut_particle_region0_0_t00000059_n00033456_amrex\n"
     ]
    },
    {
     "name": "stderr",
     "output_type": "stream",
     "text": [
      "yt : [INFO     ] 2024-07-26 11:00:15,462 Parameters: current_time              = 59.601216647875255\n",
      "yt : [INFO     ] 2024-07-26 11:00:15,463 Parameters: domain_dimensions         = [320 256 256]\n",
      "yt : [INFO     ] 2024-07-26 11:00:15,464 Parameters: domain_left_edge          = [-4. -2. -2.]\n",
      "yt : [INFO     ] 2024-07-26 11:00:15,464 Parameters: domain_right_edge         = [1. 2. 2.]\n",
      "yt : [WARNING  ] 2024-07-26 11:00:16,730 Field ('particle', 'unit_one') was added without specifying units or dimensions, auto setting units to \n",
      "yt : [INFO     ] 2024-07-26 11:00:16,803 Parameters: current_time              = 59.601216647875255\n",
      "yt : [INFO     ] 2024-07-26 11:00:16,804 Parameters: domain_dimensions         = [320 256 256]\n",
      "yt : [INFO     ] 2024-07-26 11:00:16,805 Parameters: domain_left_edge          = [-4. -2. -2.]\n",
      "yt : [INFO     ] 2024-07-26 11:00:16,805 Parameters: domain_right_edge         = [1. 2. 2.]\n",
      "yt : [INFO     ] 2024-07-26 11:00:16,824 Parameters: current_time              = 59.601216647875255\n",
      "yt : [INFO     ] 2024-07-26 11:00:16,825 Parameters: domain_dimensions         = [320 256 256]\n",
      "yt : [INFO     ] 2024-07-26 11:00:16,826 Parameters: domain_left_edge          = [-4. -2. -2.]\n",
      "yt : [INFO     ] 2024-07-26 11:00:16,826 Parameters: domain_right_edge         = [1. 2. 2.]\n",
      "yt : [INFO     ] 2024-07-26 11:00:17,383 Parameters: current_time              = 59.601216647875255\n",
      "yt : [INFO     ] 2024-07-26 11:00:17,384 Parameters: domain_dimensions         = [320 256 256]\n",
      "yt : [INFO     ] 2024-07-26 11:00:17,385 Parameters: domain_left_edge          = [-4. -2. -2.]\n",
      "yt : [INFO     ] 2024-07-26 11:00:17,385 Parameters: domain_right_edge         = [1. 2. 2.]\n",
      "yt : [WARNING  ] 2024-07-26 11:00:18,046 Field ('particle', 'unit_one') was added without specifying units or dimensions, auto setting units to \n",
      "yt : [INFO     ] 2024-07-26 11:00:18,117 Parameters: current_time              = 59.601216647875255\n",
      "yt : [INFO     ] 2024-07-26 11:00:18,117 Parameters: domain_dimensions         = [320 256 256]\n",
      "yt : [INFO     ] 2024-07-26 11:00:18,118 Parameters: domain_left_edge          = [-4. -2. -2.]\n",
      "yt : [INFO     ] 2024-07-26 11:00:18,119 Parameters: domain_right_edge         = [1. 2. 2.]\n",
      "yt : [INFO     ] 2024-07-26 11:00:18,138 Parameters: current_time              = 59.601216647875255\n",
      "yt : [INFO     ] 2024-07-26 11:00:18,139 Parameters: domain_dimensions         = [320 256 256]\n",
      "yt : [INFO     ] 2024-07-26 11:00:18,139 Parameters: domain_left_edge          = [-4. -2. -2.]\n",
      "yt : [INFO     ] 2024-07-26 11:00:18,140 Parameters: domain_right_edge         = [1. 2. 2.]\n",
      "yt : [INFO     ] 2024-07-26 11:00:18,826 Parameters: current_time              = 59.801266385023055\n",
      "yt : [INFO     ] 2024-07-26 11:00:18,827 Parameters: domain_dimensions         = [320 256 256]\n",
      "yt : [INFO     ] 2024-07-26 11:00:18,828 Parameters: domain_left_edge          = [-4. -2. -2.]\n",
      "yt : [INFO     ] 2024-07-26 11:00:18,828 Parameters: domain_right_edge         = [1. 2. 2.]\n",
      "yt : [INFO     ] 2024-07-26 11:00:18,847 Parameters: current_time              = 59.801266385023055\n",
      "yt : [INFO     ] 2024-07-26 11:00:18,848 Parameters: domain_dimensions         = [320 256 256]\n",
      "yt : [INFO     ] 2024-07-26 11:00:18,849 Parameters: domain_left_edge          = [-4. -2. -2.]\n",
      "yt : [INFO     ] 2024-07-26 11:00:18,849 Parameters: domain_right_edge         = [1. 2. 2.]\n"
     ]
    },
    {
     "name": "stdout",
     "output_type": "stream",
     "text": [
      "Plotting t = 59.8\n",
      "reading file cut_particle_region0_0_t00000059_n00033566_amrex\n"
     ]
    },
    {
     "name": "stderr",
     "output_type": "stream",
     "text": [
      "yt : [INFO     ] 2024-07-26 11:00:20,776 Parameters: current_time              = 59.801266385023055\n",
      "yt : [INFO     ] 2024-07-26 11:00:20,777 Parameters: domain_dimensions         = [320 256 256]\n",
      "yt : [INFO     ] 2024-07-26 11:00:20,777 Parameters: domain_left_edge          = [-4. -2. -2.]\n",
      "yt : [INFO     ] 2024-07-26 11:00:20,778 Parameters: domain_right_edge         = [1. 2. 2.]\n",
      "yt : [WARNING  ] 2024-07-26 11:00:22,055 Field ('particle', 'unit_one') was added without specifying units or dimensions, auto setting units to \n",
      "yt : [INFO     ] 2024-07-26 11:00:22,126 Parameters: current_time              = 59.801266385023055\n",
      "yt : [INFO     ] 2024-07-26 11:00:22,127 Parameters: domain_dimensions         = [320 256 256]\n",
      "yt : [INFO     ] 2024-07-26 11:00:22,127 Parameters: domain_left_edge          = [-4. -2. -2.]\n",
      "yt : [INFO     ] 2024-07-26 11:00:22,128 Parameters: domain_right_edge         = [1. 2. 2.]\n",
      "yt : [INFO     ] 2024-07-26 11:00:22,146 Parameters: current_time              = 59.801266385023055\n",
      "yt : [INFO     ] 2024-07-26 11:00:22,146 Parameters: domain_dimensions         = [320 256 256]\n",
      "yt : [INFO     ] 2024-07-26 11:00:22,147 Parameters: domain_left_edge          = [-4. -2. -2.]\n",
      "yt : [INFO     ] 2024-07-26 11:00:22,148 Parameters: domain_right_edge         = [1. 2. 2.]\n",
      "yt : [INFO     ] 2024-07-26 11:00:22,691 Parameters: current_time              = 59.801266385023055\n",
      "yt : [INFO     ] 2024-07-26 11:00:22,692 Parameters: domain_dimensions         = [320 256 256]\n",
      "yt : [INFO     ] 2024-07-26 11:00:22,693 Parameters: domain_left_edge          = [-4. -2. -2.]\n",
      "yt : [INFO     ] 2024-07-26 11:00:22,693 Parameters: domain_right_edge         = [1. 2. 2.]\n",
      "yt : [WARNING  ] 2024-07-26 11:00:23,331 Field ('particle', 'unit_one') was added without specifying units or dimensions, auto setting units to \n",
      "yt : [INFO     ] 2024-07-26 11:00:23,402 Parameters: current_time              = 59.801266385023055\n",
      "yt : [INFO     ] 2024-07-26 11:00:23,403 Parameters: domain_dimensions         = [320 256 256]\n",
      "yt : [INFO     ] 2024-07-26 11:00:23,404 Parameters: domain_left_edge          = [-4. -2. -2.]\n",
      "yt : [INFO     ] 2024-07-26 11:00:23,404 Parameters: domain_right_edge         = [1. 2. 2.]\n",
      "yt : [INFO     ] 2024-07-26 11:00:23,422 Parameters: current_time              = 59.801266385023055\n",
      "yt : [INFO     ] 2024-07-26 11:00:23,423 Parameters: domain_dimensions         = [320 256 256]\n",
      "yt : [INFO     ] 2024-07-26 11:00:23,424 Parameters: domain_left_edge          = [-4. -2. -2.]\n",
      "yt : [INFO     ] 2024-07-26 11:00:23,424 Parameters: domain_right_edge         = [1. 2. 2.]\n",
      "yt : [INFO     ] 2024-07-26 11:00:24,121 Parameters: current_time              = 60.001682658353616\n",
      "yt : [INFO     ] 2024-07-26 11:00:24,122 Parameters: domain_dimensions         = [320 256 256]\n",
      "yt : [INFO     ] 2024-07-26 11:00:24,123 Parameters: domain_left_edge          = [-4. -2. -2.]\n",
      "yt : [INFO     ] 2024-07-26 11:00:24,123 Parameters: domain_right_edge         = [1. 2. 2.]\n",
      "yt : [INFO     ] 2024-07-26 11:00:24,143 Parameters: current_time              = 60.001682658353616\n",
      "yt : [INFO     ] 2024-07-26 11:00:24,143 Parameters: domain_dimensions         = [320 256 256]\n",
      "yt : [INFO     ] 2024-07-26 11:00:24,144 Parameters: domain_left_edge          = [-4. -2. -2.]\n",
      "yt : [INFO     ] 2024-07-26 11:00:24,145 Parameters: domain_right_edge         = [1. 2. 2.]\n"
     ]
    },
    {
     "name": "stdout",
     "output_type": "stream",
     "text": [
      "Plotting t = 60.0\n",
      "reading file cut_particle_region0_0_t00000100_n00033674_amrex\n"
     ]
    },
    {
     "name": "stderr",
     "output_type": "stream",
     "text": [
      "yt : [INFO     ] 2024-07-26 11:00:25,645 Parameters: current_time              = 60.001682658353616\n",
      "yt : [INFO     ] 2024-07-26 11:00:25,646 Parameters: domain_dimensions         = [320 256 256]\n",
      "yt : [INFO     ] 2024-07-26 11:00:25,647 Parameters: domain_left_edge          = [-4. -2. -2.]\n",
      "yt : [INFO     ] 2024-07-26 11:00:25,647 Parameters: domain_right_edge         = [1. 2. 2.]\n",
      "yt : [WARNING  ] 2024-07-26 11:00:26,287 Field ('particle', 'unit_one') was added without specifying units or dimensions, auto setting units to \n",
      "yt : [INFO     ] 2024-07-26 11:00:26,356 Parameters: current_time              = 60.001682658353616\n",
      "yt : [INFO     ] 2024-07-26 11:00:26,356 Parameters: domain_dimensions         = [320 256 256]\n",
      "yt : [INFO     ] 2024-07-26 11:00:26,357 Parameters: domain_left_edge          = [-4. -2. -2.]\n",
      "yt : [INFO     ] 2024-07-26 11:00:26,358 Parameters: domain_right_edge         = [1. 2. 2.]\n",
      "yt : [INFO     ] 2024-07-26 11:00:26,376 Parameters: current_time              = 60.001682658353616\n",
      "yt : [INFO     ] 2024-07-26 11:00:26,377 Parameters: domain_dimensions         = [320 256 256]\n",
      "yt : [INFO     ] 2024-07-26 11:00:26,378 Parameters: domain_left_edge          = [-4. -2. -2.]\n",
      "yt : [INFO     ] 2024-07-26 11:00:26,378 Parameters: domain_right_edge         = [1. 2. 2.]\n",
      "yt : [INFO     ] 2024-07-26 11:00:27,565 Parameters: current_time              = 60.001682658353616\n",
      "yt : [INFO     ] 2024-07-26 11:00:27,566 Parameters: domain_dimensions         = [320 256 256]\n",
      "yt : [INFO     ] 2024-07-26 11:00:27,567 Parameters: domain_left_edge          = [-4. -2. -2.]\n",
      "yt : [INFO     ] 2024-07-26 11:00:27,567 Parameters: domain_right_edge         = [1. 2. 2.]\n",
      "yt : [WARNING  ] 2024-07-26 11:00:28,249 Field ('particle', 'unit_one') was added without specifying units or dimensions, auto setting units to \n",
      "yt : [INFO     ] 2024-07-26 11:00:28,316 Parameters: current_time              = 60.001682658353616\n",
      "yt : [INFO     ] 2024-07-26 11:00:28,317 Parameters: domain_dimensions         = [320 256 256]\n",
      "yt : [INFO     ] 2024-07-26 11:00:28,318 Parameters: domain_left_edge          = [-4. -2. -2.]\n",
      "yt : [INFO     ] 2024-07-26 11:00:28,318 Parameters: domain_right_edge         = [1. 2. 2.]\n",
      "yt : [INFO     ] 2024-07-26 11:00:28,337 Parameters: current_time              = 60.001682658353616\n",
      "yt : [INFO     ] 2024-07-26 11:00:28,338 Parameters: domain_dimensions         = [320 256 256]\n",
      "yt : [INFO     ] 2024-07-26 11:00:28,338 Parameters: domain_left_edge          = [-4. -2. -2.]\n",
      "yt : [INFO     ] 2024-07-26 11:00:28,339 Parameters: domain_right_edge         = [1. 2. 2.]\n",
      "yt : [INFO     ] 2024-07-26 11:00:29,014 Parameters: current_time              = 60.20032532211254\n",
      "yt : [INFO     ] 2024-07-26 11:00:29,015 Parameters: domain_dimensions         = [320 256 256]\n",
      "yt : [INFO     ] 2024-07-26 11:00:29,016 Parameters: domain_left_edge          = [-4. -2. -2.]\n",
      "yt : [INFO     ] 2024-07-26 11:00:29,016 Parameters: domain_right_edge         = [1. 2. 2.]\n",
      "yt : [INFO     ] 2024-07-26 11:00:29,035 Parameters: current_time              = 60.20032532211254\n",
      "yt : [INFO     ] 2024-07-26 11:00:29,035 Parameters: domain_dimensions         = [320 256 256]\n",
      "yt : [INFO     ] 2024-07-26 11:00:29,036 Parameters: domain_left_edge          = [-4. -2. -2.]\n",
      "yt : [INFO     ] 2024-07-26 11:00:29,037 Parameters: domain_right_edge         = [1. 2. 2.]\n"
     ]
    },
    {
     "name": "stdout",
     "output_type": "stream",
     "text": [
      "Plotting t = 60.2\n",
      "reading file cut_particle_region0_0_t00000100_n00033780_amrex\n"
     ]
    },
    {
     "name": "stderr",
     "output_type": "stream",
     "text": [
      "yt : [INFO     ] 2024-07-26 11:00:30,530 Parameters: current_time              = 60.20032532211254\n",
      "yt : [INFO     ] 2024-07-26 11:00:30,531 Parameters: domain_dimensions         = [320 256 256]\n",
      "yt : [INFO     ] 2024-07-26 11:00:30,531 Parameters: domain_left_edge          = [-4. -2. -2.]\n",
      "yt : [INFO     ] 2024-07-26 11:00:30,532 Parameters: domain_right_edge         = [1. 2. 2.]\n",
      "yt : [WARNING  ] 2024-07-26 11:00:31,169 Field ('particle', 'unit_one') was added without specifying units or dimensions, auto setting units to \n",
      "yt : [INFO     ] 2024-07-26 11:00:31,239 Parameters: current_time              = 60.20032532211254\n",
      "yt : [INFO     ] 2024-07-26 11:00:31,239 Parameters: domain_dimensions         = [320 256 256]\n",
      "yt : [INFO     ] 2024-07-26 11:00:31,240 Parameters: domain_left_edge          = [-4. -2. -2.]\n",
      "yt : [INFO     ] 2024-07-26 11:00:31,241 Parameters: domain_right_edge         = [1. 2. 2.]\n",
      "yt : [INFO     ] 2024-07-26 11:00:31,259 Parameters: current_time              = 60.20032532211254\n",
      "yt : [INFO     ] 2024-07-26 11:00:31,260 Parameters: domain_dimensions         = [320 256 256]\n",
      "yt : [INFO     ] 2024-07-26 11:00:31,260 Parameters: domain_left_edge          = [-4. -2. -2.]\n",
      "yt : [INFO     ] 2024-07-26 11:00:31,261 Parameters: domain_right_edge         = [1. 2. 2.]\n",
      "yt : [INFO     ] 2024-07-26 11:00:31,800 Parameters: current_time              = 60.20032532211254\n",
      "yt : [INFO     ] 2024-07-26 11:00:31,801 Parameters: domain_dimensions         = [320 256 256]\n",
      "yt : [INFO     ] 2024-07-26 11:00:31,802 Parameters: domain_left_edge          = [-4. -2. -2.]\n",
      "yt : [INFO     ] 2024-07-26 11:00:31,803 Parameters: domain_right_edge         = [1. 2. 2.]\n",
      "yt : [WARNING  ] 2024-07-26 11:00:33,037 Field ('particle', 'unit_one') was added without specifying units or dimensions, auto setting units to \n",
      "yt : [INFO     ] 2024-07-26 11:00:33,106 Parameters: current_time              = 60.20032532211254\n",
      "yt : [INFO     ] 2024-07-26 11:00:33,107 Parameters: domain_dimensions         = [320 256 256]\n",
      "yt : [INFO     ] 2024-07-26 11:00:33,108 Parameters: domain_left_edge          = [-4. -2. -2.]\n",
      "yt : [INFO     ] 2024-07-26 11:00:33,108 Parameters: domain_right_edge         = [1. 2. 2.]\n",
      "yt : [INFO     ] 2024-07-26 11:00:33,127 Parameters: current_time              = 60.20032532211254\n",
      "yt : [INFO     ] 2024-07-26 11:00:33,127 Parameters: domain_dimensions         = [320 256 256]\n",
      "yt : [INFO     ] 2024-07-26 11:00:33,128 Parameters: domain_left_edge          = [-4. -2. -2.]\n",
      "yt : [INFO     ] 2024-07-26 11:00:33,129 Parameters: domain_right_edge         = [1. 2. 2.]\n",
      "yt : [INFO     ] 2024-07-26 11:00:33,827 Parameters: current_time              = 60.40141121523651\n",
      "yt : [INFO     ] 2024-07-26 11:00:33,828 Parameters: domain_dimensions         = [320 256 256]\n",
      "yt : [INFO     ] 2024-07-26 11:00:33,829 Parameters: domain_left_edge          = [-4. -2. -2.]\n",
      "yt : [INFO     ] 2024-07-26 11:00:33,830 Parameters: domain_right_edge         = [1. 2. 2.]\n",
      "yt : [INFO     ] 2024-07-26 11:00:33,849 Parameters: current_time              = 60.40141121523651\n",
      "yt : [INFO     ] 2024-07-26 11:00:33,849 Parameters: domain_dimensions         = [320 256 256]\n",
      "yt : [INFO     ] 2024-07-26 11:00:33,850 Parameters: domain_left_edge          = [-4. -2. -2.]\n",
      "yt : [INFO     ] 2024-07-26 11:00:33,851 Parameters: domain_right_edge         = [1. 2. 2.]\n"
     ]
    },
    {
     "name": "stdout",
     "output_type": "stream",
     "text": [
      "Plotting t = 60.4\n",
      "reading file cut_particle_region0_0_t00000100_n00033884_amrex\n"
     ]
    },
    {
     "name": "stderr",
     "output_type": "stream",
     "text": [
      "yt : [INFO     ] 2024-07-26 11:00:35,340 Parameters: current_time              = 60.40141121523651\n",
      "yt : [INFO     ] 2024-07-26 11:00:35,341 Parameters: domain_dimensions         = [320 256 256]\n",
      "yt : [INFO     ] 2024-07-26 11:00:35,341 Parameters: domain_left_edge          = [-4. -2. -2.]\n",
      "yt : [INFO     ] 2024-07-26 11:00:35,342 Parameters: domain_right_edge         = [1. 2. 2.]\n",
      "yt : [WARNING  ] 2024-07-26 11:00:35,980 Field ('particle', 'unit_one') was added without specifying units or dimensions, auto setting units to \n",
      "yt : [INFO     ] 2024-07-26 11:00:36,053 Parameters: current_time              = 60.40141121523651\n",
      "yt : [INFO     ] 2024-07-26 11:00:36,054 Parameters: domain_dimensions         = [320 256 256]\n",
      "yt : [INFO     ] 2024-07-26 11:00:36,054 Parameters: domain_left_edge          = [-4. -2. -2.]\n",
      "yt : [INFO     ] 2024-07-26 11:00:36,055 Parameters: domain_right_edge         = [1. 2. 2.]\n",
      "yt : [INFO     ] 2024-07-26 11:00:36,073 Parameters: current_time              = 60.40141121523651\n",
      "yt : [INFO     ] 2024-07-26 11:00:36,074 Parameters: domain_dimensions         = [320 256 256]\n",
      "yt : [INFO     ] 2024-07-26 11:00:36,074 Parameters: domain_left_edge          = [-4. -2. -2.]\n",
      "yt : [INFO     ] 2024-07-26 11:00:36,075 Parameters: domain_right_edge         = [1. 2. 2.]\n",
      "yt : [INFO     ] 2024-07-26 11:00:36,607 Parameters: current_time              = 60.40141121523651\n",
      "yt : [INFO     ] 2024-07-26 11:00:36,608 Parameters: domain_dimensions         = [320 256 256]\n",
      "yt : [INFO     ] 2024-07-26 11:00:36,609 Parameters: domain_left_edge          = [-4. -2. -2.]\n",
      "yt : [INFO     ] 2024-07-26 11:00:36,609 Parameters: domain_right_edge         = [1. 2. 2.]\n",
      "yt : [WARNING  ] 2024-07-26 11:00:37,243 Field ('particle', 'unit_one') was added without specifying units or dimensions, auto setting units to \n",
      "yt : [INFO     ] 2024-07-26 11:00:37,313 Parameters: current_time              = 60.40141121523651\n",
      "yt : [INFO     ] 2024-07-26 11:00:37,314 Parameters: domain_dimensions         = [320 256 256]\n",
      "yt : [INFO     ] 2024-07-26 11:00:37,314 Parameters: domain_left_edge          = [-4. -2. -2.]\n",
      "yt : [INFO     ] 2024-07-26 11:00:37,315 Parameters: domain_right_edge         = [1. 2. 2.]\n",
      "yt : [INFO     ] 2024-07-26 11:00:37,333 Parameters: current_time              = 60.40141121523651\n",
      "yt : [INFO     ] 2024-07-26 11:00:37,334 Parameters: domain_dimensions         = [320 256 256]\n",
      "yt : [INFO     ] 2024-07-26 11:00:37,335 Parameters: domain_left_edge          = [-4. -2. -2.]\n",
      "yt : [INFO     ] 2024-07-26 11:00:37,335 Parameters: domain_right_edge         = [1. 2. 2.]\n",
      "yt : [INFO     ] 2024-07-26 11:00:38,630 Parameters: current_time              = 60.60113768967852\n",
      "yt : [INFO     ] 2024-07-26 11:00:38,631 Parameters: domain_dimensions         = [320 256 256]\n",
      "yt : [INFO     ] 2024-07-26 11:00:38,631 Parameters: domain_left_edge          = [-4. -2. -2.]\n",
      "yt : [INFO     ] 2024-07-26 11:00:38,632 Parameters: domain_right_edge         = [1. 2. 2.]\n",
      "yt : [INFO     ] 2024-07-26 11:00:38,650 Parameters: current_time              = 60.60113768967852\n",
      "yt : [INFO     ] 2024-07-26 11:00:38,651 Parameters: domain_dimensions         = [320 256 256]\n",
      "yt : [INFO     ] 2024-07-26 11:00:38,652 Parameters: domain_left_edge          = [-4. -2. -2.]\n",
      "yt : [INFO     ] 2024-07-26 11:00:38,652 Parameters: domain_right_edge         = [1. 2. 2.]\n"
     ]
    },
    {
     "name": "stdout",
     "output_type": "stream",
     "text": [
      "Plotting t = 60.6\n",
      "reading file cut_particle_region0_0_t00000100_n00033995_amrex\n"
     ]
    },
    {
     "name": "stderr",
     "output_type": "stream",
     "text": [
      "yt : [INFO     ] 2024-07-26 11:00:40,125 Parameters: current_time              = 60.60113768967852\n",
      "yt : [INFO     ] 2024-07-26 11:00:40,126 Parameters: domain_dimensions         = [320 256 256]\n",
      "yt : [INFO     ] 2024-07-26 11:00:40,126 Parameters: domain_left_edge          = [-4. -2. -2.]\n",
      "yt : [INFO     ] 2024-07-26 11:00:40,127 Parameters: domain_right_edge         = [1. 2. 2.]\n",
      "yt : [WARNING  ] 2024-07-26 11:00:40,759 Field ('particle', 'unit_one') was added without specifying units or dimensions, auto setting units to \n",
      "yt : [INFO     ] 2024-07-26 11:00:40,828 Parameters: current_time              = 60.60113768967852\n",
      "yt : [INFO     ] 2024-07-26 11:00:40,828 Parameters: domain_dimensions         = [320 256 256]\n",
      "yt : [INFO     ] 2024-07-26 11:00:40,829 Parameters: domain_left_edge          = [-4. -2. -2.]\n",
      "yt : [INFO     ] 2024-07-26 11:00:40,830 Parameters: domain_right_edge         = [1. 2. 2.]\n",
      "yt : [INFO     ] 2024-07-26 11:00:40,848 Parameters: current_time              = 60.60113768967852\n",
      "yt : [INFO     ] 2024-07-26 11:00:40,849 Parameters: domain_dimensions         = [320 256 256]\n",
      "yt : [INFO     ] 2024-07-26 11:00:40,849 Parameters: domain_left_edge          = [-4. -2. -2.]\n",
      "yt : [INFO     ] 2024-07-26 11:00:40,850 Parameters: domain_right_edge         = [1. 2. 2.]\n",
      "yt : [INFO     ] 2024-07-26 11:00:41,382 Parameters: current_time              = 60.60113768967852\n",
      "yt : [INFO     ] 2024-07-26 11:00:41,383 Parameters: domain_dimensions         = [320 256 256]\n",
      "yt : [INFO     ] 2024-07-26 11:00:41,384 Parameters: domain_left_edge          = [-4. -2. -2.]\n",
      "yt : [INFO     ] 2024-07-26 11:00:41,384 Parameters: domain_right_edge         = [1. 2. 2.]\n",
      "yt : [WARNING  ] 2024-07-26 11:00:42,017 Field ('particle', 'unit_one') was added without specifying units or dimensions, auto setting units to \n",
      "yt : [INFO     ] 2024-07-26 11:00:42,087 Parameters: current_time              = 60.60113768967852\n",
      "yt : [INFO     ] 2024-07-26 11:00:42,088 Parameters: domain_dimensions         = [320 256 256]\n",
      "yt : [INFO     ] 2024-07-26 11:00:42,089 Parameters: domain_left_edge          = [-4. -2. -2.]\n",
      "yt : [INFO     ] 2024-07-26 11:00:42,089 Parameters: domain_right_edge         = [1. 2. 2.]\n",
      "yt : [INFO     ] 2024-07-26 11:00:42,107 Parameters: current_time              = 60.60113768967852\n",
      "yt : [INFO     ] 2024-07-26 11:00:42,108 Parameters: domain_dimensions         = [320 256 256]\n",
      "yt : [INFO     ] 2024-07-26 11:00:42,109 Parameters: domain_left_edge          = [-4. -2. -2.]\n",
      "yt : [INFO     ] 2024-07-26 11:00:42,109 Parameters: domain_right_edge         = [1. 2. 2.]\n",
      "yt : [INFO     ] 2024-07-26 11:00:42,789 Parameters: current_time              = 60.8002221383956\n",
      "yt : [INFO     ] 2024-07-26 11:00:42,790 Parameters: domain_dimensions         = [320 256 256]\n",
      "yt : [INFO     ] 2024-07-26 11:00:42,790 Parameters: domain_left_edge          = [-4. -2. -2.]\n",
      "yt : [INFO     ] 2024-07-26 11:00:42,791 Parameters: domain_right_edge         = [1. 2. 2.]\n",
      "yt : [INFO     ] 2024-07-26 11:00:42,810 Parameters: current_time              = 60.8002221383956\n",
      "yt : [INFO     ] 2024-07-26 11:00:42,810 Parameters: domain_dimensions         = [320 256 256]\n",
      "yt : [INFO     ] 2024-07-26 11:00:42,811 Parameters: domain_left_edge          = [-4. -2. -2.]\n",
      "yt : [INFO     ] 2024-07-26 11:00:42,811 Parameters: domain_right_edge         = [1. 2. 2.]\n"
     ]
    },
    {
     "name": "stdout",
     "output_type": "stream",
     "text": [
      "Plotting t = 60.8\n",
      "reading file cut_particle_region0_0_t00000100_n00034107_amrex\n"
     ]
    },
    {
     "name": "stderr",
     "output_type": "stream",
     "text": [
      "yt : [INFO     ] 2024-07-26 11:00:44,913 Parameters: current_time              = 60.8002221383956\n",
      "yt : [INFO     ] 2024-07-26 11:00:44,914 Parameters: domain_dimensions         = [320 256 256]\n",
      "yt : [INFO     ] 2024-07-26 11:00:44,914 Parameters: domain_left_edge          = [-4. -2. -2.]\n",
      "yt : [INFO     ] 2024-07-26 11:00:44,915 Parameters: domain_right_edge         = [1. 2. 2.]\n",
      "yt : [WARNING  ] 2024-07-26 11:00:45,551 Field ('particle', 'unit_one') was added without specifying units or dimensions, auto setting units to \n",
      "yt : [INFO     ] 2024-07-26 11:00:45,623 Parameters: current_time              = 60.8002221383956\n",
      "yt : [INFO     ] 2024-07-26 11:00:45,624 Parameters: domain_dimensions         = [320 256 256]\n",
      "yt : [INFO     ] 2024-07-26 11:00:45,624 Parameters: domain_left_edge          = [-4. -2. -2.]\n",
      "yt : [INFO     ] 2024-07-26 11:00:45,625 Parameters: domain_right_edge         = [1. 2. 2.]\n",
      "yt : [INFO     ] 2024-07-26 11:00:45,643 Parameters: current_time              = 60.8002221383956\n",
      "yt : [INFO     ] 2024-07-26 11:00:45,644 Parameters: domain_dimensions         = [320 256 256]\n",
      "yt : [INFO     ] 2024-07-26 11:00:45,644 Parameters: domain_left_edge          = [-4. -2. -2.]\n",
      "yt : [INFO     ] 2024-07-26 11:00:45,645 Parameters: domain_right_edge         = [1. 2. 2.]\n",
      "yt : [INFO     ] 2024-07-26 11:00:46,177 Parameters: current_time              = 60.8002221383956\n",
      "yt : [INFO     ] 2024-07-26 11:00:46,178 Parameters: domain_dimensions         = [320 256 256]\n",
      "yt : [INFO     ] 2024-07-26 11:00:46,179 Parameters: domain_left_edge          = [-4. -2. -2.]\n",
      "yt : [INFO     ] 2024-07-26 11:00:46,179 Parameters: domain_right_edge         = [1. 2. 2.]\n",
      "yt : [WARNING  ] 2024-07-26 11:00:46,848 Field ('particle', 'unit_one') was added without specifying units or dimensions, auto setting units to \n",
      "yt : [INFO     ] 2024-07-26 11:00:46,923 Parameters: current_time              = 60.8002221383956\n",
      "yt : [INFO     ] 2024-07-26 11:00:46,923 Parameters: domain_dimensions         = [320 256 256]\n",
      "yt : [INFO     ] 2024-07-26 11:00:46,924 Parameters: domain_left_edge          = [-4. -2. -2.]\n",
      "yt : [INFO     ] 2024-07-26 11:00:46,924 Parameters: domain_right_edge         = [1. 2. 2.]\n",
      "yt : [INFO     ] 2024-07-26 11:00:46,943 Parameters: current_time              = 60.8002221383956\n",
      "yt : [INFO     ] 2024-07-26 11:00:46,944 Parameters: domain_dimensions         = [320 256 256]\n",
      "yt : [INFO     ] 2024-07-26 11:00:46,945 Parameters: domain_left_edge          = [-4. -2. -2.]\n",
      "yt : [INFO     ] 2024-07-26 11:00:46,945 Parameters: domain_right_edge         = [1. 2. 2.]\n",
      "yt : [INFO     ] 2024-07-26 11:00:47,638 Parameters: current_time              = 61.00013824333858\n",
      "yt : [INFO     ] 2024-07-26 11:00:47,639 Parameters: domain_dimensions         = [320 256 256]\n",
      "yt : [INFO     ] 2024-07-26 11:00:47,640 Parameters: domain_left_edge          = [-4. -2. -2.]\n",
      "yt : [INFO     ] 2024-07-26 11:00:47,640 Parameters: domain_right_edge         = [1. 2. 2.]\n",
      "yt : [INFO     ] 2024-07-26 11:00:47,659 Parameters: current_time              = 61.00013824333858\n",
      "yt : [INFO     ] 2024-07-26 11:00:47,660 Parameters: domain_dimensions         = [320 256 256]\n",
      "yt : [INFO     ] 2024-07-26 11:00:47,660 Parameters: domain_left_edge          = [-4. -2. -2.]\n",
      "yt : [INFO     ] 2024-07-26 11:00:47,661 Parameters: domain_right_edge         = [1. 2. 2.]\n"
     ]
    },
    {
     "name": "stdout",
     "output_type": "stream",
     "text": [
      "Plotting t = 61.0\n",
      "reading file cut_particle_region0_0_t00000101_n00034222_amrex\n"
     ]
    },
    {
     "name": "stderr",
     "output_type": "stream",
     "text": [
      "yt : [INFO     ] 2024-07-26 11:00:49,676 Parameters: current_time              = 61.00013824333858\n",
      "yt : [INFO     ] 2024-07-26 11:00:49,677 Parameters: domain_dimensions         = [320 256 256]\n",
      "yt : [INFO     ] 2024-07-26 11:00:49,677 Parameters: domain_left_edge          = [-4. -2. -2.]\n",
      "yt : [INFO     ] 2024-07-26 11:00:49,678 Parameters: domain_right_edge         = [1. 2. 2.]\n",
      "yt : [WARNING  ] 2024-07-26 11:00:50,972 Field ('particle', 'unit_one') was added without specifying units or dimensions, auto setting units to \n",
      "yt : [INFO     ] 2024-07-26 11:00:51,044 Parameters: current_time              = 61.00013824333858\n",
      "yt : [INFO     ] 2024-07-26 11:00:51,045 Parameters: domain_dimensions         = [320 256 256]\n",
      "yt : [INFO     ] 2024-07-26 11:00:51,045 Parameters: domain_left_edge          = [-4. -2. -2.]\n",
      "yt : [INFO     ] 2024-07-26 11:00:51,046 Parameters: domain_right_edge         = [1. 2. 2.]\n",
      "yt : [INFO     ] 2024-07-26 11:00:51,064 Parameters: current_time              = 61.00013824333858\n",
      "yt : [INFO     ] 2024-07-26 11:00:51,065 Parameters: domain_dimensions         = [320 256 256]\n",
      "yt : [INFO     ] 2024-07-26 11:00:51,066 Parameters: domain_left_edge          = [-4. -2. -2.]\n",
      "yt : [INFO     ] 2024-07-26 11:00:51,066 Parameters: domain_right_edge         = [1. 2. 2.]\n",
      "yt : [INFO     ] 2024-07-26 11:00:51,614 Parameters: current_time              = 61.00013824333858\n",
      "yt : [INFO     ] 2024-07-26 11:00:51,614 Parameters: domain_dimensions         = [320 256 256]\n",
      "yt : [INFO     ] 2024-07-26 11:00:51,615 Parameters: domain_left_edge          = [-4. -2. -2.]\n",
      "yt : [INFO     ] 2024-07-26 11:00:51,616 Parameters: domain_right_edge         = [1. 2. 2.]\n",
      "yt : [WARNING  ] 2024-07-26 11:00:52,245 Field ('particle', 'unit_one') was added without specifying units or dimensions, auto setting units to \n",
      "yt : [INFO     ] 2024-07-26 11:00:52,315 Parameters: current_time              = 61.00013824333858\n",
      "yt : [INFO     ] 2024-07-26 11:00:52,316 Parameters: domain_dimensions         = [320 256 256]\n",
      "yt : [INFO     ] 2024-07-26 11:00:52,317 Parameters: domain_left_edge          = [-4. -2. -2.]\n",
      "yt : [INFO     ] 2024-07-26 11:00:52,317 Parameters: domain_right_edge         = [1. 2. 2.]\n",
      "yt : [INFO     ] 2024-07-26 11:00:52,335 Parameters: current_time              = 61.00013824333858\n",
      "yt : [INFO     ] 2024-07-26 11:00:52,336 Parameters: domain_dimensions         = [320 256 256]\n",
      "yt : [INFO     ] 2024-07-26 11:00:52,337 Parameters: domain_left_edge          = [-4. -2. -2.]\n",
      "yt : [INFO     ] 2024-07-26 11:00:52,337 Parameters: domain_right_edge         = [1. 2. 2.]\n",
      "yt : [INFO     ] 2024-07-26 11:00:53,012 Parameters: current_time              = 61.201231543222114\n",
      "yt : [INFO     ] 2024-07-26 11:00:53,013 Parameters: domain_dimensions         = [320 256 256]\n",
      "yt : [INFO     ] 2024-07-26 11:00:53,014 Parameters: domain_left_edge          = [-4. -2. -2.]\n",
      "yt : [INFO     ] 2024-07-26 11:00:53,014 Parameters: domain_right_edge         = [1. 2. 2.]\n",
      "yt : [INFO     ] 2024-07-26 11:00:53,033 Parameters: current_time              = 61.201231543222114\n",
      "yt : [INFO     ] 2024-07-26 11:00:53,034 Parameters: domain_dimensions         = [320 256 256]\n",
      "yt : [INFO     ] 2024-07-26 11:00:53,034 Parameters: domain_left_edge          = [-4. -2. -2.]\n",
      "yt : [INFO     ] 2024-07-26 11:00:53,035 Parameters: domain_right_edge         = [1. 2. 2.]\n"
     ]
    },
    {
     "name": "stdout",
     "output_type": "stream",
     "text": [
      "Plotting t = 61.2\n",
      "reading file cut_particle_region0_0_t00000101_n00034335_amrex\n"
     ]
    },
    {
     "name": "stderr",
     "output_type": "stream",
     "text": [
      "yt : [INFO     ] 2024-07-26 11:00:54,515 Parameters: current_time              = 61.201231543222114\n",
      "yt : [INFO     ] 2024-07-26 11:00:54,516 Parameters: domain_dimensions         = [320 256 256]\n",
      "yt : [INFO     ] 2024-07-26 11:00:54,517 Parameters: domain_left_edge          = [-4. -2. -2.]\n",
      "yt : [INFO     ] 2024-07-26 11:00:54,518 Parameters: domain_right_edge         = [1. 2. 2.]\n",
      "yt : [WARNING  ] 2024-07-26 11:00:55,178 Field ('particle', 'unit_one') was added without specifying units or dimensions, auto setting units to \n",
      "yt : [INFO     ] 2024-07-26 11:00:55,246 Parameters: current_time              = 61.201231543222114\n",
      "yt : [INFO     ] 2024-07-26 11:00:55,247 Parameters: domain_dimensions         = [320 256 256]\n",
      "yt : [INFO     ] 2024-07-26 11:00:55,247 Parameters: domain_left_edge          = [-4. -2. -2.]\n",
      "yt : [INFO     ] 2024-07-26 11:00:55,248 Parameters: domain_right_edge         = [1. 2. 2.]\n",
      "yt : [INFO     ] 2024-07-26 11:00:55,266 Parameters: current_time              = 61.201231543222114\n",
      "yt : [INFO     ] 2024-07-26 11:00:55,267 Parameters: domain_dimensions         = [320 256 256]\n",
      "yt : [INFO     ] 2024-07-26 11:00:55,268 Parameters: domain_left_edge          = [-4. -2. -2.]\n",
      "yt : [INFO     ] 2024-07-26 11:00:55,268 Parameters: domain_right_edge         = [1. 2. 2.]\n",
      "yt : [INFO     ] 2024-07-26 11:00:56,438 Parameters: current_time              = 61.201231543222114\n",
      "yt : [INFO     ] 2024-07-26 11:00:56,439 Parameters: domain_dimensions         = [320 256 256]\n",
      "yt : [INFO     ] 2024-07-26 11:00:56,439 Parameters: domain_left_edge          = [-4. -2. -2.]\n",
      "yt : [INFO     ] 2024-07-26 11:00:56,440 Parameters: domain_right_edge         = [1. 2. 2.]\n",
      "yt : [WARNING  ] 2024-07-26 11:00:57,074 Field ('particle', 'unit_one') was added without specifying units or dimensions, auto setting units to \n",
      "yt : [INFO     ] 2024-07-26 11:00:57,145 Parameters: current_time              = 61.201231543222114\n",
      "yt : [INFO     ] 2024-07-26 11:00:57,145 Parameters: domain_dimensions         = [320 256 256]\n",
      "yt : [INFO     ] 2024-07-26 11:00:57,146 Parameters: domain_left_edge          = [-4. -2. -2.]\n",
      "yt : [INFO     ] 2024-07-26 11:00:57,147 Parameters: domain_right_edge         = [1. 2. 2.]\n",
      "yt : [INFO     ] 2024-07-26 11:00:57,165 Parameters: current_time              = 61.201231543222114\n",
      "yt : [INFO     ] 2024-07-26 11:00:57,166 Parameters: domain_dimensions         = [320 256 256]\n",
      "yt : [INFO     ] 2024-07-26 11:00:57,166 Parameters: domain_left_edge          = [-4. -2. -2.]\n",
      "yt : [INFO     ] 2024-07-26 11:00:57,167 Parameters: domain_right_edge         = [1. 2. 2.]\n",
      "yt : [INFO     ] 2024-07-26 11:00:57,848 Parameters: current_time              = 61.40181014968307\n",
      "yt : [INFO     ] 2024-07-26 11:00:57,849 Parameters: domain_dimensions         = [320 256 256]\n",
      "yt : [INFO     ] 2024-07-26 11:00:57,850 Parameters: domain_left_edge          = [-4. -2. -2.]\n",
      "yt : [INFO     ] 2024-07-26 11:00:57,851 Parameters: domain_right_edge         = [1. 2. 2.]\n",
      "yt : [INFO     ] 2024-07-26 11:00:57,869 Parameters: current_time              = 61.40181014968307\n",
      "yt : [INFO     ] 2024-07-26 11:00:57,870 Parameters: domain_dimensions         = [320 256 256]\n",
      "yt : [INFO     ] 2024-07-26 11:00:57,871 Parameters: domain_left_edge          = [-4. -2. -2.]\n",
      "yt : [INFO     ] 2024-07-26 11:00:57,871 Parameters: domain_right_edge         = [1. 2. 2.]\n"
     ]
    },
    {
     "name": "stdout",
     "output_type": "stream",
     "text": [
      "Plotting t = 61.4\n",
      "reading file cut_particle_region0_0_t00000101_n00034443_amrex\n"
     ]
    },
    {
     "name": "stderr",
     "output_type": "stream",
     "text": [
      "yt : [INFO     ] 2024-07-26 11:00:59,362 Parameters: current_time              = 61.40181014968307\n",
      "yt : [INFO     ] 2024-07-26 11:00:59,363 Parameters: domain_dimensions         = [320 256 256]\n",
      "yt : [INFO     ] 2024-07-26 11:00:59,363 Parameters: domain_left_edge          = [-4. -2. -2.]\n",
      "yt : [INFO     ] 2024-07-26 11:00:59,364 Parameters: domain_right_edge         = [1. 2. 2.]\n",
      "yt : [WARNING  ] 2024-07-26 11:00:59,989 Field ('particle', 'unit_one') was added without specifying units or dimensions, auto setting units to \n",
      "yt : [INFO     ] 2024-07-26 11:01:00,058 Parameters: current_time              = 61.40181014968307\n",
      "yt : [INFO     ] 2024-07-26 11:01:00,059 Parameters: domain_dimensions         = [320 256 256]\n",
      "yt : [INFO     ] 2024-07-26 11:01:00,059 Parameters: domain_left_edge          = [-4. -2. -2.]\n",
      "yt : [INFO     ] 2024-07-26 11:01:00,060 Parameters: domain_right_edge         = [1. 2. 2.]\n",
      "yt : [INFO     ] 2024-07-26 11:01:00,078 Parameters: current_time              = 61.40181014968307\n",
      "yt : [INFO     ] 2024-07-26 11:01:00,079 Parameters: domain_dimensions         = [320 256 256]\n",
      "yt : [INFO     ] 2024-07-26 11:01:00,080 Parameters: domain_left_edge          = [-4. -2. -2.]\n",
      "yt : [INFO     ] 2024-07-26 11:01:00,080 Parameters: domain_right_edge         = [1. 2. 2.]\n",
      "yt : [INFO     ] 2024-07-26 11:01:00,613 Parameters: current_time              = 61.40181014968307\n",
      "yt : [INFO     ] 2024-07-26 11:01:00,614 Parameters: domain_dimensions         = [320 256 256]\n",
      "yt : [INFO     ] 2024-07-26 11:01:00,614 Parameters: domain_left_edge          = [-4. -2. -2.]\n",
      "yt : [INFO     ] 2024-07-26 11:01:00,615 Parameters: domain_right_edge         = [1. 2. 2.]\n",
      "yt : [WARNING  ] 2024-07-26 11:01:01,869 Field ('particle', 'unit_one') was added without specifying units or dimensions, auto setting units to \n",
      "yt : [INFO     ] 2024-07-26 11:01:01,939 Parameters: current_time              = 61.40181014968307\n",
      "yt : [INFO     ] 2024-07-26 11:01:01,940 Parameters: domain_dimensions         = [320 256 256]\n",
      "yt : [INFO     ] 2024-07-26 11:01:01,941 Parameters: domain_left_edge          = [-4. -2. -2.]\n",
      "yt : [INFO     ] 2024-07-26 11:01:01,941 Parameters: domain_right_edge         = [1. 2. 2.]\n",
      "yt : [INFO     ] 2024-07-26 11:01:01,960 Parameters: current_time              = 61.40181014968307\n",
      "yt : [INFO     ] 2024-07-26 11:01:01,961 Parameters: domain_dimensions         = [320 256 256]\n",
      "yt : [INFO     ] 2024-07-26 11:01:01,961 Parameters: domain_left_edge          = [-4. -2. -2.]\n",
      "yt : [INFO     ] 2024-07-26 11:01:01,962 Parameters: domain_right_edge         = [1. 2. 2.]\n",
      "yt : [INFO     ] 2024-07-26 11:01:02,645 Parameters: current_time              = 61.60151524989462\n",
      "yt : [INFO     ] 2024-07-26 11:01:02,646 Parameters: domain_dimensions         = [320 256 256]\n",
      "yt : [INFO     ] 2024-07-26 11:01:02,647 Parameters: domain_left_edge          = [-4. -2. -2.]\n",
      "yt : [INFO     ] 2024-07-26 11:01:02,647 Parameters: domain_right_edge         = [1. 2. 2.]\n",
      "yt : [INFO     ] 2024-07-26 11:01:02,666 Parameters: current_time              = 61.60151524989462\n",
      "yt : [INFO     ] 2024-07-26 11:01:02,667 Parameters: domain_dimensions         = [320 256 256]\n",
      "yt : [INFO     ] 2024-07-26 11:01:02,667 Parameters: domain_left_edge          = [-4. -2. -2.]\n",
      "yt : [INFO     ] 2024-07-26 11:01:02,668 Parameters: domain_right_edge         = [1. 2. 2.]\n"
     ]
    },
    {
     "name": "stdout",
     "output_type": "stream",
     "text": [
      "Plotting t = 61.6\n",
      "reading file cut_particle_region0_0_t00000101_n00034554_amrex\n"
     ]
    },
    {
     "name": "stderr",
     "output_type": "stream",
     "text": [
      "yt : [INFO     ] 2024-07-26 11:01:04,140 Parameters: current_time              = 61.60151524989462\n",
      "yt : [INFO     ] 2024-07-26 11:01:04,141 Parameters: domain_dimensions         = [320 256 256]\n",
      "yt : [INFO     ] 2024-07-26 11:01:04,141 Parameters: domain_left_edge          = [-4. -2. -2.]\n",
      "yt : [INFO     ] 2024-07-26 11:01:04,142 Parameters: domain_right_edge         = [1. 2. 2.]\n",
      "yt : [WARNING  ] 2024-07-26 11:01:04,775 Field ('particle', 'unit_one') was added without specifying units or dimensions, auto setting units to \n",
      "yt : [INFO     ] 2024-07-26 11:01:04,844 Parameters: current_time              = 61.60151524989462\n",
      "yt : [INFO     ] 2024-07-26 11:01:04,845 Parameters: domain_dimensions         = [320 256 256]\n",
      "yt : [INFO     ] 2024-07-26 11:01:04,845 Parameters: domain_left_edge          = [-4. -2. -2.]\n",
      "yt : [INFO     ] 2024-07-26 11:01:04,846 Parameters: domain_right_edge         = [1. 2. 2.]\n",
      "yt : [INFO     ] 2024-07-26 11:01:04,864 Parameters: current_time              = 61.60151524989462\n",
      "yt : [INFO     ] 2024-07-26 11:01:04,865 Parameters: domain_dimensions         = [320 256 256]\n",
      "yt : [INFO     ] 2024-07-26 11:01:04,865 Parameters: domain_left_edge          = [-4. -2. -2.]\n",
      "yt : [INFO     ] 2024-07-26 11:01:04,866 Parameters: domain_right_edge         = [1. 2. 2.]\n",
      "yt : [INFO     ] 2024-07-26 11:01:05,409 Parameters: current_time              = 61.60151524989462\n",
      "yt : [INFO     ] 2024-07-26 11:01:05,409 Parameters: domain_dimensions         = [320 256 256]\n",
      "yt : [INFO     ] 2024-07-26 11:01:05,410 Parameters: domain_left_edge          = [-4. -2. -2.]\n",
      "yt : [INFO     ] 2024-07-26 11:01:05,411 Parameters: domain_right_edge         = [1. 2. 2.]\n",
      "yt : [WARNING  ] 2024-07-26 11:01:06,066 Field ('particle', 'unit_one') was added without specifying units or dimensions, auto setting units to \n",
      "yt : [INFO     ] 2024-07-26 11:01:06,138 Parameters: current_time              = 61.60151524989462\n",
      "yt : [INFO     ] 2024-07-26 11:01:06,138 Parameters: domain_dimensions         = [320 256 256]\n",
      "yt : [INFO     ] 2024-07-26 11:01:06,139 Parameters: domain_left_edge          = [-4. -2. -2.]\n",
      "yt : [INFO     ] 2024-07-26 11:01:06,140 Parameters: domain_right_edge         = [1. 2. 2.]\n",
      "yt : [INFO     ] 2024-07-26 11:01:06,158 Parameters: current_time              = 61.60151524989462\n",
      "yt : [INFO     ] 2024-07-26 11:01:06,159 Parameters: domain_dimensions         = [320 256 256]\n",
      "yt : [INFO     ] 2024-07-26 11:01:06,160 Parameters: domain_left_edge          = [-4. -2. -2.]\n",
      "yt : [INFO     ] 2024-07-26 11:01:06,160 Parameters: domain_right_edge         = [1. 2. 2.]\n",
      "yt : [INFO     ] 2024-07-26 11:01:07,483 Parameters: current_time              = 61.80127482825341\n",
      "yt : [INFO     ] 2024-07-26 11:01:07,484 Parameters: domain_dimensions         = [320 256 256]\n",
      "yt : [INFO     ] 2024-07-26 11:01:07,485 Parameters: domain_left_edge          = [-4. -2. -2.]\n",
      "yt : [INFO     ] 2024-07-26 11:01:07,485 Parameters: domain_right_edge         = [1. 2. 2.]\n",
      "yt : [INFO     ] 2024-07-26 11:01:07,504 Parameters: current_time              = 61.80127482825341\n",
      "yt : [INFO     ] 2024-07-26 11:01:07,504 Parameters: domain_dimensions         = [320 256 256]\n",
      "yt : [INFO     ] 2024-07-26 11:01:07,505 Parameters: domain_left_edge          = [-4. -2. -2.]\n",
      "yt : [INFO     ] 2024-07-26 11:01:07,505 Parameters: domain_right_edge         = [1. 2. 2.]\n"
     ]
    },
    {
     "name": "stdout",
     "output_type": "stream",
     "text": [
      "Plotting t = 61.8\n",
      "reading file cut_particle_region0_0_t00000101_n00034666_amrex\n"
     ]
    },
    {
     "name": "stderr",
     "output_type": "stream",
     "text": [
      "yt : [INFO     ] 2024-07-26 11:01:08,993 Parameters: current_time              = 61.80127482825341\n",
      "yt : [INFO     ] 2024-07-26 11:01:08,994 Parameters: domain_dimensions         = [320 256 256]\n",
      "yt : [INFO     ] 2024-07-26 11:01:08,994 Parameters: domain_left_edge          = [-4. -2. -2.]\n",
      "yt : [INFO     ] 2024-07-26 11:01:08,995 Parameters: domain_right_edge         = [1. 2. 2.]\n",
      "yt : [WARNING  ] 2024-07-26 11:01:09,629 Field ('particle', 'unit_one') was added without specifying units or dimensions, auto setting units to \n",
      "yt : [INFO     ] 2024-07-26 11:01:09,697 Parameters: current_time              = 61.80127482825341\n",
      "yt : [INFO     ] 2024-07-26 11:01:09,698 Parameters: domain_dimensions         = [320 256 256]\n",
      "yt : [INFO     ] 2024-07-26 11:01:09,699 Parameters: domain_left_edge          = [-4. -2. -2.]\n",
      "yt : [INFO     ] 2024-07-26 11:01:09,700 Parameters: domain_right_edge         = [1. 2. 2.]\n",
      "yt : [INFO     ] 2024-07-26 11:01:09,718 Parameters: current_time              = 61.80127482825341\n",
      "yt : [INFO     ] 2024-07-26 11:01:09,719 Parameters: domain_dimensions         = [320 256 256]\n",
      "yt : [INFO     ] 2024-07-26 11:01:09,719 Parameters: domain_left_edge          = [-4. -2. -2.]\n",
      "yt : [INFO     ] 2024-07-26 11:01:09,720 Parameters: domain_right_edge         = [1. 2. 2.]\n",
      "yt : [INFO     ] 2024-07-26 11:01:10,256 Parameters: current_time              = 61.80127482825341\n",
      "yt : [INFO     ] 2024-07-26 11:01:10,256 Parameters: domain_dimensions         = [320 256 256]\n",
      "yt : [INFO     ] 2024-07-26 11:01:10,257 Parameters: domain_left_edge          = [-4. -2. -2.]\n",
      "yt : [INFO     ] 2024-07-26 11:01:10,258 Parameters: domain_right_edge         = [1. 2. 2.]\n",
      "yt : [WARNING  ] 2024-07-26 11:01:10,890 Field ('particle', 'unit_one') was added without specifying units or dimensions, auto setting units to \n",
      "yt : [INFO     ] 2024-07-26 11:01:10,960 Parameters: current_time              = 61.80127482825341\n",
      "yt : [INFO     ] 2024-07-26 11:01:10,961 Parameters: domain_dimensions         = [320 256 256]\n",
      "yt : [INFO     ] 2024-07-26 11:01:10,961 Parameters: domain_left_edge          = [-4. -2. -2.]\n",
      "yt : [INFO     ] 2024-07-26 11:01:10,962 Parameters: domain_right_edge         = [1. 2. 2.]\n",
      "yt : [INFO     ] 2024-07-26 11:01:10,980 Parameters: current_time              = 61.80127482825341\n",
      "yt : [INFO     ] 2024-07-26 11:01:10,980 Parameters: domain_dimensions         = [320 256 256]\n",
      "yt : [INFO     ] 2024-07-26 11:01:10,981 Parameters: domain_left_edge          = [-4. -2. -2.]\n",
      "yt : [INFO     ] 2024-07-26 11:01:10,982 Parameters: domain_right_edge         = [1. 2. 2.]\n"
     ]
    }
   ],
   "source": [
    "####### START USER INPUT ###########\n",
    "folder = \"/Users/atcushen/Documents/MercuryModelling/runs/nightside_v1_run3/ta-5\"\n",
    "file = \"cut_particle_region0_0_t00000031_n00016670_amrex/\"\n",
    "loc=[-1.4,-0.2,0.125]  # Location of sphere to sample particles in\n",
    "radius=(0.05)  # Size of sphere\n",
    "plot_preset = \"v_para-v_perp2\"\n",
    "multi = True # Loop through files and save multiple panels?\n",
    "start_time = 55            # What is the earliest time saved in this directory?\n",
    "t_bound = [55,62]                # Start and stop times to loop through\n",
    "dt = 0.2  # time step between files\n",
    "make_gif = False    # whether to save a gif. Not working at the moment\n",
    "particle_type = \"ion\" # Either \"ion\" or \"electron\"\n",
    "####### END USER INPUT ###########\n",
    "dir = str(folder+\"/\")\n",
    "\"\"\" \n",
    "PRESETS:\n",
    "vx_vy-vx_vz: plot of raw particle velocity distribution at loc, using standard values for controls. \n",
    "\n",
    "v_para-v_perp: plot of particle velocity distribution at loc, in parallel / perpendicular coords\n",
    "\n",
    "v_para-v_perp2:\n",
    "\n",
    "\"\"\"\n",
    "\n",
    "# Make a dictionary with better names for the files:\n",
    "#named_files = {}\n",
    "#for i in range(len(files)):\n",
    "#    time = round(i*dt+start_time,3)\n",
    "#    named_files[time] = files[i]\n",
    "\n",
    "def get_directories(dir, key=\".*cut_particle_region0_0.*\"):\n",
    "    # For a directory \"dir\", return a list of all files which match the regex expression \"key\"\n",
    "    all_files = [ f.name for f in os.scandir(dir) if f.is_dir() ]\n",
    "    files=[]\n",
    "    for file in all_files:\n",
    "        match = re.search(key,file)\n",
    "        if match != None:\n",
    "            files.append(file)\n",
    "    files.sort()\n",
    "    # Now give them the appropriate name for their time\n",
    "    named_files = {}\n",
    "    for i in range(len(files)):\n",
    "        time = round(i*dt+start_time,3)\n",
    "        named_files[time] = files[i]\n",
    "    # Now cut the list down to files inside t_bound\n",
    "    reduced_files = {}\n",
    "    for time in list(named_files.keys())[int((t_bound[0]-start_time)/dt):int((t_bound[1]-start_time)/dt)]: #only loop over the times within t_bound\n",
    "        reduced_files[time] = str(named_files[time])\n",
    "    return reduced_files\n",
    "\n",
    "def _unit_one(field, data):\n",
    "    res = np.zeros(data[('particle', 'p_w')].shape)\n",
    "    res[:] = 1\n",
    "    return res\n",
    "\n",
    "def get_B_at_loc(loc,data):\n",
    "    # Input coordinates and ds of file to get B at that location\n",
    "    dc = data.get_slice(\"z\",loc[2])\n",
    "\n",
    "    # Pull the coord data\n",
    "    x,y = dc.x.value, dc.y.value\n",
    "    \n",
    "    # Find the cell indices surrounding loc\n",
    "    xi_min = np.where(x < loc[0])[0][-1]\n",
    "    yi_min = np.where(y < loc[1])[0][-1]\n",
    "    \n",
    "    # Define the trimmed meshgrids\n",
    "    xx,yy = np.meshgrid(x[xi_min:xi_min+2],y[yi_min:yi_min+2])\n",
    "    \n",
    "    # Pull only the relevant mag data\n",
    "    Bx = np.array(dc.evaluate_expression(\"Bx\"))[xi_min:xi_min+2,yi_min:yi_min+2]\n",
    "    By = np.array(dc.evaluate_expression(\"By\"))[xi_min:xi_min+2,yi_min:yi_min+2]\n",
    "    Bz = np.array(dc.evaluate_expression(\"Bz\"))[xi_min:xi_min+2,yi_min:yi_min+2]\n",
    "\n",
    "    # Do a little interpolation: B = B[0,0] + dB/dX dx + dB/dY dy\n",
    "    Bx_loc = Bx[0,0] + (Bx[0,1]-Bx[0,0])/(xx[0,1]-xx[0,0])*(loc[0]-xx[0,0]) + (Bx[1,0]-Bx[0,0])/(yy[1,0]-yy[0,0])*(loc[1]-yy[0,0])\n",
    "    By_loc = By[0,0] + (By[0,1]-By[0,0])/(xx[0,1]-xx[0,0])*(loc[0]-xx[0,0]) + (By[1,0]-By[0,0])/(yy[1,0]-yy[0,0])*(loc[1]-yy[0,0])\n",
    "    Bz_loc = Bz[0,0] + (Bz[0,1]-Bz[0,0])/(xx[0,1]-xx[0,0])*(loc[0]-xx[0,0]) + (Bz[1,0]-Bz[0,0])/(yy[1,0]-yy[0,0])*(loc[1]-yy[0,0])\n",
    "\n",
    "    return Bx_loc,By_loc,Bz_loc\n",
    "\n",
    "def get_B_at_loc_from_fluid(file,loc):\n",
    "    # Hand the file name of cut data being used, for which the corresponding fluid data will be opened to read B\n",
    "    # This was created as a workaround to get_B_at_loc, which started to fail since it read B as being 0. Couldn't work out why,\n",
    "    # so now we rely on also downloading the fluid data\n",
    "    # First, extract the iteration number from the filename\n",
    "    iteration = file[-15:]\n",
    "\n",
    "    # Then, pull the matching 3d fluid file\n",
    "    fluid_file = get_directories(dir, key=str(\".*3d_fluid.*\"+iteration))\n",
    "    fluid_file = fluid_file[list(fluid_file.keys())[0]]\n",
    "\n",
    "    # Load the data and slice\n",
    "    fluid_ds = fleks.load(str(dir+fluid_file))\n",
    "    dc = fluid_ds.get_slice(\"z\",loc[2])\n",
    "\n",
    "    # Pull the coord data\n",
    "    x,y = dc.x.value, dc.y.value\n",
    "    \n",
    "    # Find the cell indices surrounding loc\n",
    "    xi_min = np.where(x < loc[0])[0][-1]\n",
    "    yi_min = np.where(y < loc[1])[0][-1]\n",
    "    \n",
    "    # Define the trimmed meshgrids\n",
    "    xx,yy = np.meshgrid(x[xi_min:xi_min+2],y[yi_min:yi_min+2])\n",
    "    \n",
    "    # Pull only the relevant mag data\n",
    "    Bx = (np.array(dc.evaluate_expression(\"Bx\"))[xi_min:xi_min+2,yi_min:yi_min+2]).T\n",
    "    By = (np.array(dc.evaluate_expression(\"By\"))[xi_min:xi_min+2,yi_min:yi_min+2]).T\n",
    "    Bz = (np.array(dc.evaluate_expression(\"Bz\"))[xi_min:xi_min+2,yi_min:yi_min+2]).T\n",
    "\n",
    "    # Do a little interpolation: B = B[0,0] + dB/dX dx + dB/dY dy\n",
    "    Bx_loc = Bx[0,0] + (Bx[0,1]-Bx[0,0])/(xx[0,1]-xx[0,0])*(loc[0]-xx[0,0]) + (Bx[1,0]-Bx[0,0])/(yy[1,0]-yy[0,0])*(loc[1]-yy[0,0])\n",
    "    By_loc = By[0,0] + (By[0,1]-By[0,0])/(xx[0,1]-xx[0,0])*(loc[0]-xx[0,0]) + (By[1,0]-By[0,0])/(yy[1,0]-yy[0,0])*(loc[1]-yy[0,0])\n",
    "    Bz_loc = Bz[0,0] + (Bz[0,1]-Bz[0,0])/(xx[0,1]-xx[0,0])*(loc[0]-xx[0,0]) + (Bz[1,0]-Bz[0,0])/(yy[1,0]-yy[0,0])*(loc[1]-yy[0,0])\n",
    "\n",
    "    return Bx_loc,By_loc,Bz_loc\n",
    "\n",
    "def get_E_at_loc_from_fluid(file,loc):\n",
    "    # Hand the file name of cut data being used, for which the corresponding fluid data will be opened to read E\n",
    "    # First, extract the iteration number from the filename\n",
    "    iteration = file[-15:]\n",
    "\n",
    "    # Then, pull the matching 3d fluid file\n",
    "    fluid_file = get_directories(dir, key=str(\".*3d_fluid.*\"+iteration))\n",
    "    fluid_file = fluid_file[list(fluid_file.keys())[0]]\n",
    "\n",
    "    # Load the data and slice\n",
    "    fluid_ds = fleks.load(str(dir+fluid_file))\n",
    "    dc = fluid_ds.get_slice(\"z\",loc[2])\n",
    "\n",
    "    # Pull the coord data\n",
    "    x,y = dc.x.value, dc.y.value\n",
    "    \n",
    "    # Find the cell indices surrounding loc\n",
    "    xi_min = np.where(x < loc[0])[0][-1]\n",
    "    yi_min = np.where(y < loc[1])[0][-1]\n",
    "    \n",
    "    # Define the trimmed meshgrids\n",
    "    xx,yy = np.meshgrid(x[xi_min:xi_min+2],y[yi_min:yi_min+2])\n",
    "    \n",
    "    # Pull only the relevant mag data\n",
    "    Ex = (np.array(dc.evaluate_expression(\"Ex\"))[xi_min:xi_min+2,yi_min:yi_min+2]).T\n",
    "    Ey = (np.array(dc.evaluate_expression(\"Ey\"))[xi_min:xi_min+2,yi_min:yi_min+2]).T\n",
    "    Ez = (np.array(dc.evaluate_expression(\"Ez\"))[xi_min:xi_min+2,yi_min:yi_min+2]).T\n",
    "\n",
    "    # Do a little interpolation: B = B[0,0] + dB/dX dx + dB/dY dy\n",
    "    Ex_loc = Ex[0,0] + (Ex[0,1]-Ex[0,0])/(xx[0,1]-xx[0,0])*(loc[0]-xx[0,0]) + (Ex[1,0]-Ex[0,0])/(yy[1,0]-yy[0,0])*(loc[1]-yy[0,0])\n",
    "    Ey_loc = Ey[0,0] + (Ey[0,1]-Ey[0,0])/(xx[0,1]-xx[0,0])*(loc[0]-xx[0,0]) + (Ey[1,0]-Ey[0,0])/(yy[1,0]-yy[0,0])*(loc[1]-yy[0,0])\n",
    "    Ez_loc = Ez[0,0] + (Ez[0,1]-Ez[0,0])/(xx[0,1]-xx[0,0])*(loc[0]-xx[0,0]) + (Ez[1,0]-Ez[0,0])/(yy[1,0]-yy[0,0])*(loc[1]-yy[0,0])\n",
    "\n",
    "    return Ex_loc,Ey_loc,Ez_loc\n",
    "\n",
    "def get_particle_np(file, x_axis='p_ux', y_axis='p_uy', bins=64, v_lim = 2500):\n",
    "    # Get the particle distribution in numpy format.\n",
    "    # File is the directory of the amrex folder (e.g. /Users/*_amrex/\"\n",
    "    # x_axis and y_axis are what quantities to extract e.g. 'p_x','p_y'\n",
    "    # Bins is how many bins to divide into\n",
    "    # v_lim is the maximum velocity to extract (in km/s)\n",
    "    # Outputs the meshgrids of velocities (in km/s), and the number of particles in each of those grid cells\n",
    "\n",
    "    # Load the file\n",
    "    ds = fleks.load(file)\n",
    "\n",
    "    # Select the right quantity to compute given the choice of x and y axis\n",
    "    if x_axis == 'p_ux': # just check what the x_axis is to determine which mode we are in; this is temporary\n",
    "        ds.add_field((\"particle\", \"unit_one\"), function=_unit_one, sampling_type='particle')\n",
    "        sp = ds.sphere(loc,radius)\n",
    "        z_field = 'unit_one'\n",
    "        plot = ds.plot_phase_region(sp, x_axis, y_axis, z_field, unit_type=\"planet\", \n",
    "                                        x_bins=bins, y_bins=bins, domain_size=(-v_lim, v_lim, -v_lim, v_lim))\n",
    "    \n",
    "        for var_name in plot.profile.field_data: \n",
    "            counts_temp = plot.profile.field_data[var_name].T # take the transpose, which seems to be necessary. Bit worried about that.\n",
    "\n",
    "    # Here, v_perp is just the magnitude of the velocity not aligned with the parallel direction\n",
    "    elif ((x_axis == 'v_para' and y_axis == 'v_perp') or (y_axis == 'v_para' and x_axis == 'v_perp')): \n",
    "        # Do a little interpolation: B = B[0,0] + dB/dX dx + dB/dY dy\n",
    "        Bx_loc,By_loc,Bz_loc = get_B_at_loc_from_fluid(file,loc)\n",
    "        \n",
    "        # Define magnetic field unit vectors at loc\n",
    "        bhat = [Bx_loc,By_loc,Bz_loc]/np.sqrt(Bx_loc**2+By_loc**2+Bz_loc**2)\n",
    "        \n",
    "        # Sometimes B is identically 0 for some weird reason... so we get nan for bhat. Not sure how this is possible.\n",
    "        bhat[np.isnan(bhat)] = 0\n",
    "        bx,by,bz = bhat\n",
    "        \n",
    "        # For the particle data, we must create user-defined fields for the parallel and perpedicular components. See notebook for handwritten derivation.\n",
    "        def _vel_para(field, data): # This is basically v_para = v . b\n",
    "            res = bx*data[('particle', 'p_ux')] + by*data[('particle', 'p_uy')] + bz*data[('particle', 'p_uz')]        \n",
    "            return res\n",
    "        def _vel_perp(field, data): # This is v_perp = v - v_para\n",
    "            res = (( data[('particle', 'p_ux')] - bx * ( bx*data[('particle', 'p_ux')]) + by*data[('particle', 'p_uy')] + bz*data[('particle', 'p_uz')] )**2 +\n",
    "                   ( data[('particle', 'p_uy')] - by * ( bx*data[('particle', 'p_ux')]) + by*data[('particle', 'p_uy')] + bz*data[('particle', 'p_uz')] )**2 +\n",
    "                   ( data[('particle', 'p_uz')] - bz * ( bx*data[('particle', 'p_ux')]) + by*data[('particle', 'p_uy')] + bz*data[('particle', 'p_uz')] )**2 )**0.5        \n",
    "            return res\n",
    "        \n",
    "        # Add the fields to the dataset\n",
    "        vpara_name = ds.pvar(\"vel_para\")\n",
    "        vperp_name = ds.pvar(\"vel_perp\")\n",
    "        ds.add_field(vpara_name, units=\"code_velocity\", function=_vel_para, sampling_type='particle')\n",
    "        ds.add_field(vperp_name, units=\"code_velocity\", function=_vel_perp, sampling_type='particle')\n",
    "\n",
    "        # Generate plot \n",
    "        ds.add_field((\"particle\", \"unit_one\"), function=_unit_one, sampling_type='particle')\n",
    "        sp = ds.sphere(loc,radius)\n",
    "        x_field = vpara_name\n",
    "        y_field = vperp_name\n",
    "        z_field = (\"particle\", \"unit_one\")#ds.pvar('p_w')\n",
    "        logs = {x_field: False, y_field: False}\n",
    "        profile = yt.create_profile(data_source=sp, bin_fields=[x_field,y_field], fields=z_field, n_bins=[64,64], weight_field=None, logs=logs)\n",
    "        plot = yt.PhasePlot.from_profile(profile)\n",
    "        plot.set_unit(x_field, \"km/s\")\n",
    "        plot.set_unit(y_field, \"km/s\")\n",
    "        plot.set_unit(z_field, \"amu\")\n",
    "        for var_name in plot.profile.field_data: \n",
    "            counts_temp = plot.profile.field_data[var_name].T\n",
    "\n",
    "    # Here, one axis is the parallel velocity and the other is the ExB bulk flow direction\n",
    "    elif ((x_axis == 'v_para' and y_axis == 'v_exb') or (y_axis == 'v_para' and x_axis == 'v_exb')):\n",
    "        # Get B and E at the locationn we are studying\n",
    "        Bx_loc,By_loc,Bz_loc = get_B_at_loc_from_fluid(file,loc)\n",
    "        Ex_loc,Ey_loc,Ez_loc = get_E_at_loc_from_fluid(file,loc)\n",
    "        \n",
    "        # Define magnetic and electric field unit vectors at loc\n",
    "        bhat = [Bx_loc,By_loc,Bz_loc]/np.sqrt(Bx_loc**2+By_loc**2+Bz_loc**2)\n",
    "        ehat = [Ex_loc,Ey_loc,Ez_loc]/np.sqrt(Ex_loc**2+Ey_loc**2+Ez_loc**2)\n",
    "\n",
    "        # Compute the ExB unit vector\n",
    "        exb = [ehat[1]*bhat[2]-ehat[2]*bhat[1], ehat[2]*bhat[0]-ehat[0]*bhat[2], ehat[0]*bhat[1]-ehat[1]*bhat[0]]\n",
    "\n",
    "        # Verify orthogonal: seems to be good\n",
    "        # val = exb[0]*bhat[0]+exb[1]*bhat[1]+exb[2]*bhat[2]\n",
    "        # print(val) \n",
    "\n",
    "        # Define v_para and v_ExB directions in the particle data files\n",
    "        def _vel_para(field, data): # This is basically v_para = v . b\n",
    "            res = bhat[0]*data[('particle', 'p_ux')] + bhat[1]*data[('particle', 'p_uy')] + bhat[2]*data[('particle', 'p_uz')]        \n",
    "            return res\n",
    "        def _vel_exb(field, data): \n",
    "            res = exb[0]*data[('particle', 'p_ux')] + exb[1]*data[('particle', 'p_uy')] + exb[2]*data[('particle', 'p_uz')]        \n",
    "            return res\n",
    "\n",
    "        # Add the fields to the dataset\n",
    "        vpara_name = ds.pvar(\"vel_para\")\n",
    "        vexb_name = ds.pvar(\"vel_exb\")\n",
    "        ds.add_field(vpara_name, units=\"code_velocity\", function=_vel_para, sampling_type='particle')\n",
    "        ds.add_field(vexb_name, units=\"code_velocity\", function=_vel_exb, sampling_type='particle')\n",
    "\n",
    "        # Generate plot \n",
    "        ds.add_field((\"particle\", \"unit_one\"), function=_unit_one, sampling_type='particle')\n",
    "        sp = ds.sphere(loc,radius)\n",
    "        x_field = vpara_name\n",
    "        y_field = vexb_name\n",
    "        z_field = (\"particle\", \"unit_one\")#ds.pvar('p_w')\n",
    "        logs = {x_field: False, y_field: False}\n",
    "        profile = yt.create_profile(data_source=sp, bin_fields=[x_field,y_field], fields=z_field, \n",
    "                                    n_bins=[bins,bins], weight_field=None, logs=logs)\n",
    "        plot = yt.PhasePlot.from_profile(profile)\n",
    "        #plot = ds.plot_phase_region(sp, x_field, y_field, z_field, unit_type=\"planet\", x_bins=bins, y_bins=bins, domain_size=(-v_lim, v_lim, -v_lim, v_lim))\n",
    "        plot.set_unit(x_field, \"km/s\")\n",
    "        plot.set_unit(y_field, \"km/s\")\n",
    "        plot.set_unit(z_field, \"amu\")\n",
    "        for var_name in plot.profile.field_data: \n",
    "            counts_temp = plot.profile.field_data[var_name].T\n",
    "\n",
    "    # Here, one axis is the parallel velocity and the other is perpendicular to both ExB and B\n",
    "    elif ((x_axis == 'v_para' and y_axis == 'v_w') or (y_axis == 'v_para' and x_axis == 'v_w')):\n",
    "        # Get B and E at the locationn we are studying\n",
    "        Bx_loc,By_loc,Bz_loc = get_B_at_loc_from_fluid(file,loc)\n",
    "        Ex_loc,Ey_loc,Ez_loc = get_E_at_loc_from_fluid(file,loc)\n",
    "        \n",
    "        # Define magnetic and electric field unit vectors at loc\n",
    "        bhat = [Bx_loc,By_loc,Bz_loc]/np.sqrt(Bx_loc**2+By_loc**2+Bz_loc**2)\n",
    "        ehat = [Ex_loc,Ey_loc,Ez_loc]/np.sqrt(Ex_loc**2+Ey_loc**2+Ez_loc**2)\n",
    "\n",
    "        # Compute the ExB unit vector\n",
    "        exb = [ehat[1]*bhat[2]-ehat[2]*bhat[1], ehat[2]*bhat[0]-ehat[0]*bhat[2], ehat[0]*bhat[1]-ehat[1]*bhat[0]]\n",
    "\n",
    "        # Compute the vector orthogonal to both exb and b: w = bhat x (ExB)\n",
    "        w = [bhat[1]*exb[2]-bhat[2]*exb[1], bhat[2]*exb[0]-bhat[0]*exb[2], bhat[0]*exb[1]-bhat[1]*exb[0]]\n",
    "        \n",
    "        # Verify orthogonal:\n",
    "        #val0 = exb[0]*w[0]+exb[1]*w[1]+exb[2]*w[2]\n",
    "        #val1 = w[0]*bhat[0]+w[1]*bhat[1]+w[2]*bhat[2]\n",
    "        #print(val0)\n",
    "        #print(val1)\n",
    "\n",
    "        # Define v_para and v_ExB directions in the particle data files\n",
    "        def _vel_para(field, data): # This is basically v_para = v . b\n",
    "            res = bhat[0]*data[('particle', 'p_ux')] + bhat[1]*data[('particle', 'p_uy')] + bhat[2]*data[('particle', 'p_uz')]        \n",
    "            return res\n",
    "        def _vel_w(field, data): \n",
    "            res = w[0]*data[('particle', 'p_ux')] + w[1]*data[('particle', 'p_uy')] + w[2]*data[('particle', 'p_uz')]        \n",
    "            return res\n",
    "\n",
    "        # Add the fields to the dataset\n",
    "        vpara_name = ds.pvar(\"vel_para\")\n",
    "        vw_name = ds.pvar(\"vel_w\")\n",
    "        ds.add_field(vpara_name, units=\"code_velocity\", function=_vel_para, sampling_type='particle')\n",
    "        ds.add_field(vw_name, units=\"code_velocity\", function=_vel_w, sampling_type='particle')\n",
    "\n",
    "        # Generate plot \n",
    "        ds.add_field((\"particle\", \"unit_one\"), function=_unit_one, sampling_type='particle')\n",
    "        sp = ds.sphere(loc,radius)\n",
    "        x_field = vpara_name\n",
    "        y_field = vw_name\n",
    "        z_field = (\"particle\", \"unit_one\")#ds.pvar('p_w')\n",
    "        logs = {x_field: False, y_field: False}\n",
    "        profile = yt.create_profile(data_source=sp, bin_fields=[x_field,y_field], fields=z_field, \n",
    "                                    n_bins=[bins,bins], weight_field=None, logs=logs)\n",
    "        plot = yt.PhasePlot.from_profile(profile)\n",
    "        plot.set_unit(x_field, \"km/s\")\n",
    "        plot.set_unit(y_field, \"km/s\")\n",
    "        plot.set_unit(z_field, \"amu\")\n",
    "        for var_name in plot.profile.field_data: \n",
    "            counts_temp = plot.profile.field_data[var_name].T\n",
    "    \n",
    "    else:\n",
    "        print(\"ERROR: invalid axes!\")\n",
    "    \n",
    "    # Convert to np. Define output arrays without units\n",
    "    x_temp = plot.profile.x\n",
    "    y_temp = plot.profile.y\n",
    "    x=np.zeros(x_temp.shape)\n",
    "    y=np.zeros(y_temp.shape)\n",
    "    counts=np.zeros(counts_temp.shape)\n",
    "    x[:]=x_temp[:]\n",
    "    y[:]=y_temp[:]\n",
    "    counts[:,:]=counts_temp[:,:]\n",
    "    xx,yy=np.meshgrid(x,y)\n",
    "\n",
    "    return xx,yy,counts\n",
    "\n",
    "def generate_gif(folder, key=str(plot_preset+\"*\")):\n",
    "    #read all the .png files in directory \"frames\" \n",
    "    print(folder)\n",
    "    print(key)\n",
    "    gif_files = glob.glob(str(folder+\"/\"+key))\n",
    "    print(gif_files)\n",
    "    image_array = []\n",
    "    gif_files = natsorted(gif_files)\n",
    "    \n",
    "    for my_file in gif_files:\n",
    "        image = Image.open(gif_files)\n",
    "        image_array.append(image)\n",
    "        \n",
    "    # Create the figure and axes objects\n",
    "    fig, ax = plt.subplots(figsize=(8, 8))\n",
    "    \n",
    "    # Set the initial image\n",
    "    im = ax.imshow(image_array[0], animated=True)\n",
    "    plt.axis('off')\n",
    "    \n",
    "    def update(i):\n",
    "        im.set_array(image_array[i])\n",
    "        return im, \n",
    "    \n",
    "    # Create the animation object\n",
    "    animation_fig = animation.FuncAnimation(fig, update, frames=len(image_array), interval=200, blit=True,repeat_delay=10,)\n",
    "    \n",
    "    animation_fig.save(str(folder+\"_plots/\"+\"animated.gif\"),dpi=500)\n",
    "    plt.close(fig)\n",
    "\n",
    "def particle_plots(mode):\n",
    "    # Generates the desired plot for the given preset.\n",
    "\n",
    "    if mode == \"vx_vy-vx_vz\":\n",
    "        # Define the files to read\n",
    "        if multi:\n",
    "            print(\"Plotting all files in dir\")\n",
    "            if particle_type == \"ion\":\n",
    "                files = get_directories(dir)\n",
    "            elif particle_type == \"electron\":\n",
    "                # Note: which files to read for each particle type may change if #saveplot is altered. For now, ion is zone 0, electron is zone 1.\n",
    "                files = get_directories(dir,\".*cut_particle_region0_1.*\")\n",
    "            else:\n",
    "                print(\"ERROR: invalid particle type!\")\n",
    "        else:\n",
    "            files = {str(round(start_time,3)):str(file)}\n",
    "\n",
    "        # Loop over the identified files\n",
    "        for time in list(files.keys()): \n",
    "            print(\"Plotting t =\",time)\n",
    "            file = str(files[time])\n",
    "        \n",
    "            # Get data\n",
    "            data_file = dir+file\n",
    "            xx,yy,counts_xy = get_particle_np(data_file,'p_ux','p_uy')\n",
    "            xx,zz,counts_xz = get_particle_np(data_file,'p_ux','p_uz')\n",
    "    \n",
    "            # Set colorbar limits\n",
    "            cmin = 1\n",
    "            cmax = 100#max(counts_xy.max(),counts_xz.max())\n",
    "    \n",
    "            # Plot\n",
    "            fig, axs = plt.subplots(ncols=2,figsize=(13,5))\n",
    "            im0=axs[0].imshow(counts_xy, extent=[xx.min(), xx.max(), yy.min(), yy.max()],origin=\"lower\",norm=LogNorm(vmin=cmin,vmax=cmax))\n",
    "            im1=axs[1].imshow(counts_xz, extent=[xx.min(), xx.max(), zz.min(), zz.max()],origin=\"lower\",norm=LogNorm(vmin=cmin,vmax=cmax))\n",
    "    \n",
    "            # Add labels\n",
    "            axs[0].set_xlabel(\"$v_x$ [km/s]\")\n",
    "            axs[0].set_ylabel(\"$v_y$ [km/s]\")\n",
    "            axs[1].set_xlabel(\"$v_x$ [km/s]\")\n",
    "            axs[1].set_ylabel(\"$v_z$ [km/s]\")\n",
    "            axs[0].set_title(str(\"Velocity distribution  r=\"+str(loc)+\"   t=\"+str(round(time,2))+\"s\"))\n",
    "    \n",
    "            # Add grid\n",
    "            axs[0].grid(alpha=0.5)\n",
    "            axs[1].grid(alpha=0.5)\n",
    "    \n",
    "            # Add colorbar\n",
    "            fig.subplots_adjust(right=0.84)\n",
    "            cbar_ax = fig.add_axes([0.85, 0.15, 0.01, 0.7])\n",
    "            fig.colorbar(im1, cax=cbar_ax, label = \"Counts\")\n",
    "    \n",
    "            # Save\n",
    "            fig.savefig(str(folder+\"_plots/\"+plot_preset+\"_\"+str(loc)+\"_\"+str(round(time,2))+'.png'),bbox_inches='tight')\n",
    "\n",
    "            if multi:\n",
    "                plt.close()\n",
    "\n",
    "            else:\n",
    "                plt.show()\n",
    "        \n",
    "        if make_gif:\n",
    "            generate_gif(folder)\n",
    "\n",
    "    if mode == \"v_para-v_perp\":\n",
    "        # Define the files to read\n",
    "        if multi:\n",
    "            print(\"Plotting all files in dir\")\n",
    "            if particle_type == \"ion\":\n",
    "                files = get_directories(dir)\n",
    "            elif particle_type == \"electron\":\n",
    "                # Note: which files to read for each particle type may change if #saveplot is altered. For now, ion is zone 0, electron is zone 1.\n",
    "                files = get_directories(dir,\".*cut_particle_region0_1.*\")\n",
    "            else:\n",
    "                print(\"ERROR: invalid particle type!\")\n",
    "        else:\n",
    "            files = {str(round(start_time,3)):str(file)}\n",
    "\n",
    "        # Loop over the identified files\n",
    "        for time in list(files.keys()): \n",
    "            print(\"Plotting t =\",time)\n",
    "            file = str(files[time])\n",
    "            print(\"reading file\",file)\n",
    "\n",
    "            # Get data\n",
    "            data_file = dir+file\n",
    "            xx,yy,counts = get_particle_np(data_file,'v_para','v_perp')\n",
    "            \n",
    "            # Get B field data\n",
    "            ds = fleks.load(data_file)\n",
    "            Bx_loc,By_loc,Bz_loc = get_B_at_loc_from_fluid(file,loc)\n",
    "            \n",
    "            # Set colorbar limits\n",
    "            cmin = 1\n",
    "            cmax = 100\n",
    "    \n",
    "            # Plot\n",
    "            fig, ax = plt.subplots(ncols=1,figsize=(7,7))\n",
    "            im=ax.imshow(counts.T, extent=[yy.min(), yy.max(), xx.min(), xx.max()],origin=\"lower\",norm=LogNorm(vmin=cmin,vmax=cmax))\n",
    "    \n",
    "            # Add labels\n",
    "            ax.set_ylabel(\"$v_{para}$ [km/s]\")\n",
    "            ax.set_xlabel(\"$v_{perp}$ [km/s]\")\n",
    "            ax.set_title(str(\"Velocity distribution  r=\"+str(loc)+\"   t=\"+str(round(time,2))+\"s \\n Local B: (\"+str(round(Bx_loc,3))+\", \"+str(round(By_loc,3))+\", \"+str(round(Bz_loc,3))+\")\"+\"\\n Particle type: \"+particle_type))\n",
    "            ax.set_ylim(-25000,25000)\n",
    "            ax.set_xlim(0,50000)\n",
    "    \n",
    "            # Add grid\n",
    "            ax.grid(alpha=0.5)\n",
    "            ax.grid(alpha=0.5)\n",
    "    \n",
    "            # Add colorbar\n",
    "            #fig.subplots_adjust(right=0.84)\n",
    "            #cbar_ax = fig.add_axes([0.85, 0.15, 0.01, 0.7])\n",
    "            fig.colorbar(im, label = \"Counts\")\n",
    "    \n",
    "            # Save\n",
    "            fig.savefig(str(folder+\"_plots/\"+plot_preset+\"_\"+str(loc)+\"_\"+str(round(time,2))+'.png'),bbox_inches='tight')\n",
    "\n",
    "            if multi:\n",
    "                plt.close()\n",
    "\n",
    "            else:\n",
    "                plt.show()\n",
    "        \n",
    "        if make_gif:\n",
    "            generate_gif(folder)\n",
    "\n",
    "    if mode == \"v_para-v_perp2\":\n",
    "        # Define the files to read\n",
    "        if multi:\n",
    "            print(\"Plotting all files in dir\")\n",
    "            if particle_type == \"ion\":\n",
    "                files = get_directories(dir)\n",
    "            elif particle_type == \"electron\":\n",
    "                # Note: which files to read for each particle type may change if #saveplot is altered. For now, ion is zone 0, electron is zone 1.\n",
    "                files = get_directories(dir,\".*cut_particle_region0_1.*\")\n",
    "            else:\n",
    "                print(\"ERROR: invalid particle type!\")\n",
    "        else:\n",
    "            files = {str(round(start_time,3)):str(file)}\n",
    "\n",
    "        # Loop over the identified files\n",
    "        for time in list(files.keys()): \n",
    "            print(\"Plotting t =\",time)\n",
    "            file = str(files[time])\n",
    "            print(\"reading file\",file)\n",
    "\n",
    "            # Get data\n",
    "            data_file = dir+file\n",
    "            xx0,yy0,counts0 = get_particle_np(data_file,'v_para','v_exb')\n",
    "            xx1,yy1,counts1 = get_particle_np(data_file,'v_para','v_w')\n",
    "            \n",
    "            # Get B field data\n",
    "            ds = fleks.load(data_file)\n",
    "            Bx_loc,By_loc,Bz_loc = get_B_at_loc_from_fluid(file,loc)\n",
    "            \n",
    "            # Set colorbar limits\n",
    "            cmin = 1\n",
    "            cmax = 100\n",
    "    \n",
    "            # Plot\n",
    "            fig, axs = plt.subplots(ncols=2,figsize=(13,5))\n",
    "            im0=axs[0].imshow(counts0, extent=[yy0.min(), yy0.max(), xx0.min(), xx0.max()],\n",
    "                          origin=\"lower\",norm=LogNorm(vmin=cmin,vmax=cmax))\n",
    "            im1=axs[1].imshow(counts1, extent=[yy1.min(), yy1.max(), xx1.min(), xx1.max()],\n",
    "                          origin=\"lower\",norm=LogNorm(vmin=cmin,vmax=cmax))\n",
    "    \n",
    "            # Add labels\n",
    "            axs[0].set_ylabel(\"$v_{para}$ [km/s]\")\n",
    "            axs[0].set_xlabel(\"$v_{ExB}$ [km/s]\")\n",
    "            axs[1].set_ylabel(\"$v_{para}$ [km/s]\")\n",
    "            axs[1].set_xlabel(\"$v_{w}$ [km/s]\")\n",
    "            axs[0].set_title(str(\"Velocity distribution  r=\"+str(loc)+\"   t=\"+str(round(time,2))+\"s \\n Local B: (\"+str(round(Bx_loc,3))+\", \"+str(round(By_loc,3))+\", \"+str(round(Bz_loc,3))+\")\"+\"\\n Particle type: \"+particle_type))\n",
    "            axs[0].set_ylim(-2500,2500)\n",
    "            axs[0].set_xlim(-2500,2500)\n",
    "            axs[1].set_ylim(-2500,2500)\n",
    "            axs[1].set_xlim(-2500,2500)\n",
    "    \n",
    "            # Add grid\n",
    "            axs[0].grid(alpha=0.5)\n",
    "            axs[0].grid(alpha=0.5)\n",
    "            axs[1].grid(alpha=0.5)\n",
    "            axs[1].grid(alpha=0.5)\n",
    "    \n",
    "           # Add colorbar\n",
    "            fig.subplots_adjust(right=0.84)\n",
    "            cbar_ax = fig.add_axes([0.85, 0.15, 0.01, 0.7])\n",
    "            fig.colorbar(im1, cax=cbar_ax, label = \"Counts\")\n",
    "    \n",
    "            # Save\n",
    "            fig.savefig(str(folder+\"_plots/\"+plot_preset+\"_\"+str(loc)+\"_\"+str(round(time,2))+'.png'),bbox_inches='tight')\n",
    "\n",
    "            if multi:\n",
    "                plt.close()\n",
    "\n",
    "            else:\n",
    "                plt.show()\n",
    "        \n",
    "        if make_gif:\n",
    "            generate_gif(folder)\n",
    "\n",
    "# Run\n",
    "particle_plots(plot_preset)"
   ]
  },
  {
   "cell_type": "code",
   "execution_count": 70,
   "id": "c610bff6-fb97-40dd-b31d-8b5851cc3727",
   "metadata": {},
   "outputs": [
    {
     "name": "stderr",
     "output_type": "stream",
     "text": [
      "yt : [INFO     ] 2024-07-24 12:33:10,333 Parameters: current_time              = 56.001314694932425\n",
      "yt : [INFO     ] 2024-07-24 12:33:10,334 Parameters: domain_dimensions         = [320 256 256]\n",
      "yt : [INFO     ] 2024-07-24 12:33:10,335 Parameters: domain_left_edge          = [-4. -2. -2.]\n",
      "yt : [INFO     ] 2024-07-24 12:33:10,337 Parameters: domain_right_edge         = [1. 2. 2.]\n"
     ]
    },
    {
     "name": "stdout",
     "output_type": "stream",
     "text": [
      "-749.5972072749221\n"
     ]
    },
    {
     "data": {
      "image/png": "[encoded data removed]",
      "text/plain": [
       "<Figure size 640x480 with 2 Axes>"
      ]
     },
     "metadata": {},
     "output_type": "display_data"
    }
   ],
   "source": [
    "# Verification calc:\n",
    "# r = (-1.4,-0.2,0.125) R_M, v centered at (600,450,-100) km/s\n",
    "ds = fleks.load(str(dir+\"3d_fluid_region0_2_t00000056_n00031082_amrex\"))\n",
    "dc = ds.get_slice(\"z\",0.125)\n",
    "Bx = np.array(dc.evaluate_expression(\"Bx\")).T\n",
    "By = np.array(dc.evaluate_expression(\"By\")).T\n",
    "Bz = np.array(dc.evaluate_expression(\"Bz\")).T\n",
    "plt.imshow(Bz,extent=[dc.x.value.min(),dc.x.value.max(),dc.y.value.min(),dc.y.value.max()],cmap=\"rainbow\",origin=\"lower\")\n",
    "plt.xlim(-1.41,-1.39)\n",
    "plt.ylim(-0.21,-0.19)\n",
    "plt.colorbar()\n",
    "Bmag = np.sqrt(50**2+35**2)\n",
    "bhat = [-50/Bmag,-35/Bmag,0/Bmag]\n",
    "vpara=600*bhat[0]+450*bhat[1]+100*bhat[2]\n",
    "vperp=np.sqrt((600-vpara*bhat[0])**2+(450-vpara*bhat[1])**2+((-100)-vpara*bhat[2])**2)\n",
    "print(vpara)\n",
    "#np.sqrt(vpara**2+vperp**2)\n",
    "#np.sqrt(600**2+450**2+100**2)"
   ]
  },
  {
   "cell_type": "code",
   "execution_count": 102,
   "id": "24f64b6f-9bd8-40b4-9aac-292e3bacb152",
   "metadata": {},
   "outputs": [
    {
     "name": "stdout",
     "output_type": "stream",
     "text": [
      "\n",
      "-----------------------------\n",
      "Variables       : ['Bx', 'By', 'Bz', 'Ex', 'Ey', 'Ez', 'X', 'Y', 'Z', 'ppcS0', 'ppcS1', 'pxxS0', 'pxxS1', 'pxyS0', 'pxyS1', 'pxzS0', 'pxzS1', 'pyyS0', 'pyyS1', 'pyzS0', 'pyzS1', 'pzzS0', 'pzzS1', 'rhoS0', 'rhoS1', 'uxS0', 'uxS1', 'uyS0', 'uyS1', 'uzS0', 'uzS1']\n",
      "\n",
      "Data range      : [[unyt_quantity(-4., 'code_length'), unyt_quantity(1., 'code_length')], [unyt_quantity(-2., 'code_length'), unyt_quantity(2., 'code_length')], [0, 0]]\n",
      "\n",
      "Data dimensions : (320, 256)\n",
      "\n",
      "\n",
      "var        min               max               mean              \n",
      "Bx        -8.989689e+01,   +7.326022e+01,   -3.159112e-02,   \n",
      "By        -9.833852e+01,   +2.983603e+01,   -4.442357e+00,   \n",
      "Bz        -3.527899e+01,   +1.145650e+02,   +1.171857e+00,   \n",
      "Ex        -1.099704e+05,   +2.847433e+04,   -1.221578e+02,   \n",
      "Ey        -3.638065e+04,   +8.272612e+04,   +2.497627e+03,   \n",
      "Ez        -4.615901e+04,   +8.921016e+04,   +9.829271e+02,   \n",
      "X         -3.492188e+00,   +0.000000e+00,   -6.365112e-01,   \n",
      "Y         -1.117188e+00,   +1.117188e+00,   +0.000000e+00,   \n",
      "Z         +0.000000e+00,   +1.250000e-01,   +3.599548e-02,   \n",
      "ppcS0     +0.000000e+00,   +1.764255e+02,   +2.510929e+01,   \n",
      "ppcS1     +0.000000e+00,   +1.408976e+02,   +2.331535e+01,   \n",
      "pxxS0     +0.000000e+00,   +9.363144e-01,   +4.503987e-02,   \n",
      "pxxS1     +0.000000e+00,   +3.338560e+00,   +1.107892e-01,   \n",
      "pxyS0     -1.540525e-01,   +1.098825e-01,   +3.660412e-04,   \n",
      "pxyS1     -4.654847e-01,   +4.858490e-01,   -6.438484e-03,   \n",
      "pxzS0     -2.046926e-01,   +9.287541e-02,   +5.183465e-04,   \n",
      "pxzS1     -7.095663e-01,   +4.723928e-01,   -4.085635e-03,   \n",
      "pyyS0     +0.000000e+00,   +9.812025e-01,   +3.877067e-02,   \n",
      "pyyS1     +0.000000e+00,   +3.072586e+00,   +1.113874e-01,   \n",
      "pyzS0     -1.715581e-01,   +7.449404e-02,   -1.069043e-03,   \n",
      "pyzS1     -5.473858e-01,   +5.496203e-01,   +2.119212e-03,   \n",
      "pzzS0     +0.000000e+00,   +1.125423e+00,   +3.662354e-02,   \n",
      "pzzS1     +0.000000e+00,   +2.909412e+00,   +1.160319e-01,   \n",
      "rhoS0     +0.000000e+00,   +1.733234e-01,   +4.381120e-03,   \n",
      "rhoS1     +0.000000e+00,   +1.726654e+01,   +4.503256e-01,   \n",
      "uxS0      -1.870703e+03,   +1.922136e+03,   -1.193289e+02,   \n",
      "uxS1      -1.760255e+03,   +1.046448e+03,   -1.203209e+02,   \n",
      "uyS0      -1.634664e+03,   +2.074329e+03,   +7.655886e+01,   \n",
      "uyS1      -1.148652e+02,   +1.447942e+03,   +1.533759e+02,   \n",
      "uzS0      -1.650160e+03,   +9.067998e+02,   -2.610772e+01,   \n",
      "uzS1      -7.050230e+02,   +4.276882e+02,   -2.867462e+01,   \n",
      "-----------------------------\n"
     ]
    },
    {
     "data": {
      "text/plain": []
     },
     "execution_count": 102,
     "metadata": {},
     "output_type": "execute_result"
    }
   ],
   "source": [
    "dc"
   ]
  },
  {
   "cell_type": "code",
   "execution_count": 59,
   "id": "08235f30-2ef3-432e-9deb-63f5108c309d",
   "metadata": {},
   "outputs": [],
   "source": [
    "Bx = np.array(dc.evaluate_expression(\"Bx\").T)"
   ]
  },
  {
   "cell_type": "code",
   "execution_count": 61,
   "id": "57ee1085-1c91-4286-950a-d8dafd72f223",
   "metadata": {},
   "outputs": [
    {
     "data": {
      "text/plain": [
       "(256, 320)"
      ]
     },
     "execution_count": 61,
     "metadata": {},
     "output_type": "execute_result"
    }
   ],
   "source": [
    "Bx.shape"
   ]
  },
  {
   "cell_type": "code",
   "execution_count": null,
   "id": "54d624d5-4949-4a56-9e34-fbea625e4914",
   "metadata": {},
   "outputs": [],
   "source": []
  }
 ],
 "metadata": {
  "kernelspec": {
   "display_name": "Python 3 (ipykernel)",
   "language": "python",
   "name": "python3"
  },
  "language_info": {
   "codemirror_mode": {
    "name": "ipython",
    "version": 3
   },
   "file_extension": ".py",
   "mimetype": "text/x-python",
   "name": "python",
   "nbconvert_exporter": "python",
   "pygments_lexer": "ipython3",
   "version": "3.10.13"
  }
 },
 "nbformat": 4,
 "nbformat_minor": 5
}
