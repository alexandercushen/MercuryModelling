{
 "cells": [
  {
   "cell_type": "code",
   "execution_count": 136,
   "id": "abdb4289-c30c-4ffe-93da-5f6c4491c7a1",
   "metadata": {},
   "outputs": [],
   "source": [
    "%matplotlib inline\n",
    "import fleks,yt\n",
    "import matplotlib.pyplot as plt\n",
    "from matplotlib.colors import LogNorm\n",
    "from matplotlib.cm import ScalarMappable\n",
    "from scipy.optimize import curve_fit\n",
    "from scipy.interpolate import interp1d\n",
    "from scipy import stats\n",
    "import numpy as np\n",
    "import os\n",
    "import re\n",
    "from utilities import get_ticks\n",
    "from matplotlib import cm, ticker\n",
    "from os import listdir\n",
    "from os.path import isfile, join\n",
    "import glob\n",
    "from PIL import Image\n",
    "from natsort import natsorted\n",
    "import matplotlib as mpl\n",
    "import matplotlib.pyplot as plt\n",
    "import matplotlib.animation as animation\n",
    "from scipy import interpolate\n",
    "from matplotlib.ticker import LogFormatter \n",
    "from matplotlib.ticker import LogLocator, LogFormatterSciNotation \n",
    "\n",
    "mu_0 = 1.257e-6\n",
    "R_M = 2440e3 #m"
   ]
  },
  {
   "cell_type": "markdown",
   "id": "d412ac1d-b51b-4c47-bdea-149dfb15dea8",
   "metadata": {},
   "source": [
    "# Save frame slices for making movies"
   ]
  },
  {
   "cell_type": "code",
   "execution_count": 149,
   "id": "939eea7a-992b-4c5a-8ebf-79a0fe9f7ad9",
   "metadata": {
    "scrolled": true
   },
   "outputs": [
    {
     "name": "stderr",
     "output_type": "stream",
     "text": [
      "yt : [INFO     ] 2024-08-12 16:27:29,360 Parameters: current_time              = 135.0\n",
      "yt : [INFO     ] 2024-08-12 16:27:29,361 Parameters: domain_dimensions         = [320 256 256]\n",
      "yt : [INFO     ] 2024-08-12 16:27:29,361 Parameters: domain_left_edge          = [-4. -2. -2.]\n",
      "yt : [INFO     ] 2024-08-12 16:27:29,362 Parameters: domain_right_edge         = [1. 2. 2.]\n"
     ]
    },
    {
     "name": "stdout",
     "output_type": "stream",
     "text": [
      "142 files recognized!\n",
      "/Users/atcushen/Documents/MercuryModelling/runs/nightside_v1_run4/ta-2_rerun/3d_fluid_region0_2_t00000215_n00000000_amrex\n",
      "Plotting t 135.0\n"
     ]
    },
    {
     "name": "stderr",
     "output_type": "stream",
     "text": [
      "/var/folders/l9/dnt9qhfd1psfsmj9t5zfr0j00000gq/T/ipykernel_69318/3294814908.py:289: UserWarning: FigureCanvasAgg is non-interactive, and thus cannot be shown\n",
      "  fig.show()\n",
      "yt : [INFO     ] 2024-08-12 16:27:30,925 Parameters: current_time              = 135.20000868810553\n",
      "yt : [INFO     ] 2024-08-12 16:27:30,925 Parameters: domain_dimensions         = [320 256 256]\n",
      "yt : [INFO     ] 2024-08-12 16:27:30,926 Parameters: domain_left_edge          = [-4. -2. -2.]\n",
      "yt : [INFO     ] 2024-08-12 16:27:30,927 Parameters: domain_right_edge         = [1. 2. 2.]\n"
     ]
    },
    {
     "name": "stdout",
     "output_type": "stream",
     "text": [
      "/Users/atcushen/Documents/MercuryModelling/runs/nightside_v1_run4/ta-2_rerun/3d_fluid_region0_2_t00000215_n00000104_amrex\n",
      "Plotting t 135.2\n"
     ]
    },
    {
     "name": "stderr",
     "output_type": "stream",
     "text": [
      "yt : [INFO     ] 2024-08-12 16:27:31,817 Parameters: current_time              = 135.40176287854825\n",
      "yt : [INFO     ] 2024-08-12 16:27:31,818 Parameters: domain_dimensions         = [320 256 256]\n",
      "yt : [INFO     ] 2024-08-12 16:27:31,819 Parameters: domain_left_edge          = [-4. -2. -2.]\n",
      "yt : [INFO     ] 2024-08-12 16:27:31,819 Parameters: domain_right_edge         = [1. 2. 2.]\n"
     ]
    },
    {
     "name": "stdout",
     "output_type": "stream",
     "text": [
      "/Users/atcushen/Documents/MercuryModelling/runs/nightside_v1_run4/ta-2_rerun/3d_fluid_region0_2_t00000215_n00000216_amrex\n",
      "Plotting t 135.4\n"
     ]
    },
    {
     "name": "stderr",
     "output_type": "stream",
     "text": [
      "yt : [INFO     ] 2024-08-12 16:27:32,709 Parameters: current_time              = 135.6001333963198\n",
      "yt : [INFO     ] 2024-08-12 16:27:32,709 Parameters: domain_dimensions         = [320 256 256]\n",
      "yt : [INFO     ] 2024-08-12 16:27:32,710 Parameters: domain_left_edge          = [-4. -2. -2.]\n",
      "yt : [INFO     ] 2024-08-12 16:27:32,711 Parameters: domain_right_edge         = [1. 2. 2.]\n"
     ]
    },
    {
     "name": "stdout",
     "output_type": "stream",
     "text": [
      "/Users/atcushen/Documents/MercuryModelling/runs/nightside_v1_run4/ta-2_rerun/3d_fluid_region0_2_t00000215_n00000324_amrex\n",
      "Plotting t 135.6\n"
     ]
    },
    {
     "name": "stderr",
     "output_type": "stream",
     "text": [
      "yt : [INFO     ] 2024-08-12 16:27:33,871 Parameters: current_time              = 135.80092812998905\n",
      "yt : [INFO     ] 2024-08-12 16:27:33,872 Parameters: domain_dimensions         = [320 256 256]\n",
      "yt : [INFO     ] 2024-08-12 16:27:33,873 Parameters: domain_left_edge          = [-4. -2. -2.]\n",
      "yt : [INFO     ] 2024-08-12 16:27:33,873 Parameters: domain_right_edge         = [1. 2. 2.]\n"
     ]
    },
    {
     "name": "stdout",
     "output_type": "stream",
     "text": [
      "/Users/atcushen/Documents/MercuryModelling/runs/nightside_v1_run4/ta-2_rerun/3d_fluid_region0_2_t00000215_n00000438_amrex\n",
      "Plotting t 135.8\n"
     ]
    },
    {
     "name": "stderr",
     "output_type": "stream",
     "text": [
      "yt : [INFO     ] 2024-08-12 16:27:35,115 Parameters: current_time              = 136.00133957449802\n",
      "yt : [INFO     ] 2024-08-12 16:27:35,116 Parameters: domain_dimensions         = [320 256 256]\n",
      "yt : [INFO     ] 2024-08-12 16:27:35,117 Parameters: domain_left_edge          = [-4. -2. -2.]\n",
      "yt : [INFO     ] 2024-08-12 16:27:35,117 Parameters: domain_right_edge         = [1. 2. 2.]\n"
     ]
    },
    {
     "name": "stdout",
     "output_type": "stream",
     "text": [
      "/Users/atcushen/Documents/MercuryModelling/runs/nightside_v1_run4/ta-2_rerun/3d_fluid_region0_2_t00000216_n00000549_amrex\n",
      "Plotting t 136.0\n"
     ]
    },
    {
     "name": "stderr",
     "output_type": "stream",
     "text": [
      "yt : [INFO     ] 2024-08-12 16:27:36,320 Parameters: current_time              = 136.2010620222566\n",
      "yt : [INFO     ] 2024-08-12 16:27:36,321 Parameters: domain_dimensions         = [320 256 256]\n",
      "yt : [INFO     ] 2024-08-12 16:27:36,321 Parameters: domain_left_edge          = [-4. -2. -2.]\n",
      "yt : [INFO     ] 2024-08-12 16:27:36,322 Parameters: domain_right_edge         = [1. 2. 2.]\n"
     ]
    },
    {
     "name": "stdout",
     "output_type": "stream",
     "text": [
      "/Users/atcushen/Documents/MercuryModelling/runs/nightside_v1_run4/ta-2_rerun/3d_fluid_region0_2_t00000216_n00000656_amrex\n",
      "Plotting t 136.2\n"
     ]
    },
    {
     "name": "stderr",
     "output_type": "stream",
     "text": [
      "yt : [INFO     ] 2024-08-12 16:27:37,529 Parameters: current_time              = 136.4014282815098\n",
      "yt : [INFO     ] 2024-08-12 16:27:37,530 Parameters: domain_dimensions         = [320 256 256]\n",
      "yt : [INFO     ] 2024-08-12 16:27:37,531 Parameters: domain_left_edge          = [-4. -2. -2.]\n",
      "yt : [INFO     ] 2024-08-12 16:27:37,531 Parameters: domain_right_edge         = [1. 2. 2.]\n"
     ]
    },
    {
     "name": "stdout",
     "output_type": "stream",
     "text": [
      "/Users/atcushen/Documents/MercuryModelling/runs/nightside_v1_run4/ta-2_rerun/3d_fluid_region0_2_t00000216_n00000766_amrex\n",
      "Plotting t 136.4\n"
     ]
    },
    {
     "name": "stderr",
     "output_type": "stream",
     "text": [
      "yt : [INFO     ] 2024-08-12 16:27:38,720 Parameters: current_time              = 136.60141536902086\n",
      "yt : [INFO     ] 2024-08-12 16:27:38,721 Parameters: domain_dimensions         = [320 256 256]\n",
      "yt : [INFO     ] 2024-08-12 16:27:38,722 Parameters: domain_left_edge          = [-4. -2. -2.]\n",
      "yt : [INFO     ] 2024-08-12 16:27:38,723 Parameters: domain_right_edge         = [1. 2. 2.]\n"
     ]
    },
    {
     "name": "stdout",
     "output_type": "stream",
     "text": [
      "/Users/atcushen/Documents/MercuryModelling/runs/nightside_v1_run4/ta-2_rerun/3d_fluid_region0_2_t00000216_n00000876_amrex\n",
      "Plotting t 136.6\n"
     ]
    },
    {
     "name": "stderr",
     "output_type": "stream",
     "text": [
      "yt : [INFO     ] 2024-08-12 16:27:39,885 Parameters: current_time              = 136.8015747048821\n",
      "yt : [INFO     ] 2024-08-12 16:27:39,885 Parameters: domain_dimensions         = [320 256 256]\n",
      "yt : [INFO     ] 2024-08-12 16:27:39,886 Parameters: domain_left_edge          = [-4. -2. -2.]\n",
      "yt : [INFO     ] 2024-08-12 16:27:39,887 Parameters: domain_right_edge         = [1. 2. 2.]\n"
     ]
    },
    {
     "name": "stdout",
     "output_type": "stream",
     "text": [
      "/Users/atcushen/Documents/MercuryModelling/runs/nightside_v1_run4/ta-2_rerun/3d_fluid_region0_2_t00000216_n00000981_amrex\n",
      "Plotting t 136.8\n"
     ]
    },
    {
     "name": "stderr",
     "output_type": "stream",
     "text": [
      "yt : [INFO     ] 2024-08-12 16:27:41,920 Parameters: current_time              = 137.0007829797857\n",
      "yt : [INFO     ] 2024-08-12 16:27:41,921 Parameters: domain_dimensions         = [320 256 256]\n",
      "yt : [INFO     ] 2024-08-12 16:27:41,922 Parameters: domain_left_edge          = [-4. -2. -2.]\n",
      "yt : [INFO     ] 2024-08-12 16:27:41,923 Parameters: domain_right_edge         = [1. 2. 2.]\n"
     ]
    },
    {
     "name": "stdout",
     "output_type": "stream",
     "text": [
      "/Users/atcushen/Documents/MercuryModelling/runs/nightside_v1_run4/ta-2_rerun/3d_fluid_region0_2_t00000217_n00001083_amrex\n",
      "Plotting t 137.0\n"
     ]
    },
    {
     "name": "stderr",
     "output_type": "stream",
     "text": [
      "yt : [INFO     ] 2024-08-12 16:27:43,116 Parameters: current_time              = 137.20097049042084\n",
      "yt : [INFO     ] 2024-08-12 16:27:43,117 Parameters: domain_dimensions         = [320 256 256]\n",
      "yt : [INFO     ] 2024-08-12 16:27:43,117 Parameters: domain_left_edge          = [-4. -2. -2.]\n",
      "yt : [INFO     ] 2024-08-12 16:27:43,118 Parameters: domain_right_edge         = [1. 2. 2.]\n"
     ]
    },
    {
     "name": "stdout",
     "output_type": "stream",
     "text": [
      "/Users/atcushen/Documents/MercuryModelling/runs/nightside_v1_run4/ta-2_rerun/3d_fluid_region0_2_t00000217_n00001187_amrex\n",
      "Plotting t 137.2\n"
     ]
    },
    {
     "name": "stderr",
     "output_type": "stream",
     "text": [
      "yt : [INFO     ] 2024-08-12 16:27:44,293 Parameters: current_time              = 137.40030227361433\n",
      "yt : [INFO     ] 2024-08-12 16:27:44,294 Parameters: domain_dimensions         = [320 256 256]\n",
      "yt : [INFO     ] 2024-08-12 16:27:44,295 Parameters: domain_left_edge          = [-4. -2. -2.]\n",
      "yt : [INFO     ] 2024-08-12 16:27:44,295 Parameters: domain_right_edge         = [1. 2. 2.]\n"
     ]
    },
    {
     "name": "stdout",
     "output_type": "stream",
     "text": [
      "/Users/atcushen/Documents/MercuryModelling/runs/nightside_v1_run4/ta-2_rerun/3d_fluid_region0_2_t00000217_n00001286_amrex\n",
      "Plotting t 137.4\n"
     ]
    },
    {
     "name": "stderr",
     "output_type": "stream",
     "text": [
      "yt : [INFO     ] 2024-08-12 16:27:45,454 Parameters: current_time              = 137.60161285777713\n",
      "yt : [INFO     ] 2024-08-12 16:27:45,455 Parameters: domain_dimensions         = [320 256 256]\n",
      "yt : [INFO     ] 2024-08-12 16:27:45,456 Parameters: domain_left_edge          = [-4. -2. -2.]\n",
      "yt : [INFO     ] 2024-08-12 16:27:45,457 Parameters: domain_right_edge         = [1. 2. 2.]\n"
     ]
    },
    {
     "name": "stdout",
     "output_type": "stream",
     "text": [
      "/Users/atcushen/Documents/MercuryModelling/runs/nightside_v1_run4/ta-2_rerun/3d_fluid_region0_2_t00000217_n00001391_amrex\n",
      "Plotting t 137.6\n"
     ]
    },
    {
     "name": "stderr",
     "output_type": "stream",
     "text": [
      "yt : [INFO     ] 2024-08-12 16:27:46,613 Parameters: current_time              = 137.80172372155434\n",
      "yt : [INFO     ] 2024-08-12 16:27:46,614 Parameters: domain_dimensions         = [320 256 256]\n",
      "yt : [INFO     ] 2024-08-12 16:27:46,615 Parameters: domain_left_edge          = [-4. -2. -2.]\n",
      "yt : [INFO     ] 2024-08-12 16:27:46,616 Parameters: domain_right_edge         = [1. 2. 2.]\n"
     ]
    },
    {
     "name": "stdout",
     "output_type": "stream",
     "text": [
      "/Users/atcushen/Documents/MercuryModelling/runs/nightside_v1_run4/ta-2_rerun/3d_fluid_region0_2_t00000217_n00001496_amrex\n",
      "Plotting t 137.8\n"
     ]
    },
    {
     "name": "stderr",
     "output_type": "stream",
     "text": [
      "yt : [INFO     ] 2024-08-12 16:27:47,769 Parameters: current_time              = 138.0003495439726\n",
      "yt : [INFO     ] 2024-08-12 16:27:47,770 Parameters: domain_dimensions         = [320 256 256]\n",
      "yt : [INFO     ] 2024-08-12 16:27:47,770 Parameters: domain_left_edge          = [-4. -2. -2.]\n",
      "yt : [INFO     ] 2024-08-12 16:27:47,771 Parameters: domain_right_edge         = [1. 2. 2.]\n"
     ]
    },
    {
     "name": "stdout",
     "output_type": "stream",
     "text": [
      "/Users/atcushen/Documents/MercuryModelling/runs/nightside_v1_run4/ta-2_rerun/3d_fluid_region0_2_t00000218_n00001597_amrex\n",
      "Plotting t 138.0\n"
     ]
    },
    {
     "name": "stderr",
     "output_type": "stream",
     "text": [
      "yt : [INFO     ] 2024-08-12 16:27:48,935 Parameters: current_time              = 138.20077534179643\n",
      "yt : [INFO     ] 2024-08-12 16:27:48,936 Parameters: domain_dimensions         = [320 256 256]\n",
      "yt : [INFO     ] 2024-08-12 16:27:48,937 Parameters: domain_left_edge          = [-4. -2. -2.]\n",
      "yt : [INFO     ] 2024-08-12 16:27:48,938 Parameters: domain_right_edge         = [1. 2. 2.]\n"
     ]
    },
    {
     "name": "stdout",
     "output_type": "stream",
     "text": [
      "/Users/atcushen/Documents/MercuryModelling/runs/nightside_v1_run4/ta-2_rerun/3d_fluid_region0_2_t00000218_n00001702_amrex\n",
      "Plotting t 138.2\n"
     ]
    },
    {
     "name": "stderr",
     "output_type": "stream",
     "text": [
      "yt : [INFO     ] 2024-08-12 16:27:50,112 Parameters: current_time              = 138.4009871673815\n",
      "yt : [INFO     ] 2024-08-12 16:27:50,113 Parameters: domain_dimensions         = [320 256 256]\n",
      "yt : [INFO     ] 2024-08-12 16:27:50,114 Parameters: domain_left_edge          = [-4. -2. -2.]\n",
      "yt : [INFO     ] 2024-08-12 16:27:50,115 Parameters: domain_right_edge         = [1. 2. 2.]\n"
     ]
    },
    {
     "name": "stdout",
     "output_type": "stream",
     "text": [
      "/Users/atcushen/Documents/MercuryModelling/runs/nightside_v1_run4/ta-2_rerun/3d_fluid_region0_2_t00000218_n00001808_amrex\n",
      "Plotting t 138.4\n"
     ]
    },
    {
     "name": "stderr",
     "output_type": "stream",
     "text": [
      "yt : [INFO     ] 2024-08-12 16:27:51,286 Parameters: current_time              = 138.60069832807923\n",
      "yt : [INFO     ] 2024-08-12 16:27:51,287 Parameters: domain_dimensions         = [320 256 256]\n",
      "yt : [INFO     ] 2024-08-12 16:27:51,288 Parameters: domain_left_edge          = [-4. -2. -2.]\n",
      "yt : [INFO     ] 2024-08-12 16:27:51,288 Parameters: domain_right_edge         = [1. 2. 2.]\n"
     ]
    },
    {
     "name": "stdout",
     "output_type": "stream",
     "text": [
      "/Users/atcushen/Documents/MercuryModelling/runs/nightside_v1_run4/ta-2_rerun/3d_fluid_region0_2_t00000218_n00001915_amrex\n",
      "Plotting t 138.6\n"
     ]
    },
    {
     "name": "stderr",
     "output_type": "stream",
     "text": [
      "yt : [INFO     ] 2024-08-12 16:27:52,442 Parameters: current_time              = 138.8015772260759\n",
      "yt : [INFO     ] 2024-08-12 16:27:52,443 Parameters: domain_dimensions         = [320 256 256]\n",
      "yt : [INFO     ] 2024-08-12 16:27:52,444 Parameters: domain_left_edge          = [-4. -2. -2.]\n",
      "yt : [INFO     ] 2024-08-12 16:27:52,445 Parameters: domain_right_edge         = [1. 2. 2.]\n"
     ]
    },
    {
     "name": "stdout",
     "output_type": "stream",
     "text": [
      "/Users/atcushen/Documents/MercuryModelling/runs/nightside_v1_run4/ta-2_rerun/3d_fluid_region0_2_t00000218_n00002022_amrex\n",
      "Plotting t 138.8\n"
     ]
    },
    {
     "name": "stderr",
     "output_type": "stream",
     "text": [
      "yt : [INFO     ] 2024-08-12 16:27:54,521 Parameters: current_time              = 139.00017845735312\n",
      "yt : [INFO     ] 2024-08-12 16:27:54,522 Parameters: domain_dimensions         = [320 256 256]\n",
      "yt : [INFO     ] 2024-08-12 16:27:54,522 Parameters: domain_left_edge          = [-4. -2. -2.]\n",
      "yt : [INFO     ] 2024-08-12 16:27:54,523 Parameters: domain_right_edge         = [1. 2. 2.]\n"
     ]
    },
    {
     "name": "stdout",
     "output_type": "stream",
     "text": [
      "/Users/atcushen/Documents/MercuryModelling/runs/nightside_v1_run4/ta-2_rerun/3d_fluid_region0_2_t00000219_n00002126_amrex\n",
      "Plotting t 139.0\n"
     ]
    },
    {
     "name": "stderr",
     "output_type": "stream",
     "text": [
      "yt : [INFO     ] 2024-08-12 16:27:55,694 Parameters: current_time              = 139.20131008404218\n",
      "yt : [INFO     ] 2024-08-12 16:27:55,695 Parameters: domain_dimensions         = [320 256 256]\n",
      "yt : [INFO     ] 2024-08-12 16:27:55,696 Parameters: domain_left_edge          = [-4. -2. -2.]\n",
      "yt : [INFO     ] 2024-08-12 16:27:55,696 Parameters: domain_right_edge         = [1. 2. 2.]\n"
     ]
    },
    {
     "name": "stdout",
     "output_type": "stream",
     "text": [
      "/Users/atcushen/Documents/MercuryModelling/runs/nightside_v1_run4/ta-2_rerun/3d_fluid_region0_2_t00000219_n00002232_amrex\n",
      "Plotting t 139.2\n"
     ]
    },
    {
     "name": "stderr",
     "output_type": "stream",
     "text": [
      "yt : [INFO     ] 2024-08-12 16:27:56,893 Parameters: current_time              = 139.40034366583404\n",
      "yt : [INFO     ] 2024-08-12 16:27:56,894 Parameters: domain_dimensions         = [320 256 256]\n",
      "yt : [INFO     ] 2024-08-12 16:27:56,895 Parameters: domain_left_edge          = [-4. -2. -2.]\n",
      "yt : [INFO     ] 2024-08-12 16:27:56,896 Parameters: domain_right_edge         = [1. 2. 2.]\n"
     ]
    },
    {
     "name": "stdout",
     "output_type": "stream",
     "text": [
      "/Users/atcushen/Documents/MercuryModelling/runs/nightside_v1_run4/ta-2_rerun/3d_fluid_region0_2_t00000219_n00002336_amrex\n",
      "Plotting t 139.4\n"
     ]
    },
    {
     "name": "stderr",
     "output_type": "stream",
     "text": [
      "yt : [INFO     ] 2024-08-12 16:27:58,079 Parameters: current_time              = 139.60066825686016\n",
      "yt : [INFO     ] 2024-08-12 16:27:58,079 Parameters: domain_dimensions         = [320 256 256]\n",
      "yt : [INFO     ] 2024-08-12 16:27:58,080 Parameters: domain_left_edge          = [-4. -2. -2.]\n",
      "yt : [INFO     ] 2024-08-12 16:27:58,081 Parameters: domain_right_edge         = [1. 2. 2.]\n"
     ]
    },
    {
     "name": "stdout",
     "output_type": "stream",
     "text": [
      "/Users/atcushen/Documents/MercuryModelling/runs/nightside_v1_run4/ta-2_rerun/3d_fluid_region0_2_t00000219_n00002441_amrex\n",
      "Plotting t 139.6\n"
     ]
    },
    {
     "name": "stderr",
     "output_type": "stream",
     "text": [
      "yt : [INFO     ] 2024-08-12 16:27:59,278 Parameters: current_time              = 139.8008025357148\n",
      "yt : [INFO     ] 2024-08-12 16:27:59,279 Parameters: domain_dimensions         = [320 256 256]\n",
      "yt : [INFO     ] 2024-08-12 16:27:59,279 Parameters: domain_left_edge          = [-4. -2. -2.]\n",
      "yt : [INFO     ] 2024-08-12 16:27:59,280 Parameters: domain_right_edge         = [1. 2. 2.]\n"
     ]
    },
    {
     "name": "stdout",
     "output_type": "stream",
     "text": [
      "/Users/atcushen/Documents/MercuryModelling/runs/nightside_v1_run4/ta-2_rerun/3d_fluid_region0_2_t00000219_n00002543_amrex\n",
      "Plotting t 139.8\n"
     ]
    },
    {
     "name": "stderr",
     "output_type": "stream",
     "text": [
      "yt : [INFO     ] 2024-08-12 16:28:00,471 Parameters: current_time              = 140.00169966710527\n",
      "yt : [INFO     ] 2024-08-12 16:28:00,472 Parameters: domain_dimensions         = [320 256 256]\n",
      "yt : [INFO     ] 2024-08-12 16:28:00,473 Parameters: domain_left_edge          = [-4. -2. -2.]\n",
      "yt : [INFO     ] 2024-08-12 16:28:00,473 Parameters: domain_right_edge         = [1. 2. 2.]\n"
     ]
    },
    {
     "name": "stdout",
     "output_type": "stream",
     "text": [
      "/Users/atcushen/Documents/MercuryModelling/runs/nightside_v1_run4/ta-2_rerun/3d_fluid_region0_2_t00000220_n00002646_amrex\n",
      "Plotting t 140.0\n"
     ]
    },
    {
     "name": "stderr",
     "output_type": "stream",
     "text": [
      "yt : [INFO     ] 2024-08-12 16:28:01,657 Parameters: current_time              = 140.2006962442681\n",
      "yt : [INFO     ] 2024-08-12 16:28:01,658 Parameters: domain_dimensions         = [320 256 256]\n",
      "yt : [INFO     ] 2024-08-12 16:28:01,658 Parameters: domain_left_edge          = [-4. -2. -2.]\n",
      "yt : [INFO     ] 2024-08-12 16:28:01,659 Parameters: domain_right_edge         = [1. 2. 2.]\n"
     ]
    },
    {
     "name": "stdout",
     "output_type": "stream",
     "text": [
      "/Users/atcushen/Documents/MercuryModelling/runs/nightside_v1_run4/ta-2_rerun/3d_fluid_region0_2_t00000220_n00002752_amrex\n",
      "Plotting t 140.2\n"
     ]
    },
    {
     "name": "stderr",
     "output_type": "stream",
     "text": [
      "yt : [INFO     ] 2024-08-12 16:28:02,827 Parameters: current_time              = 140.40044192675447\n",
      "yt : [INFO     ] 2024-08-12 16:28:02,827 Parameters: domain_dimensions         = [320 256 256]\n",
      "yt : [INFO     ] 2024-08-12 16:28:02,828 Parameters: domain_left_edge          = [-4. -2. -2.]\n",
      "yt : [INFO     ] 2024-08-12 16:28:02,829 Parameters: domain_right_edge         = [1. 2. 2.]\n"
     ]
    },
    {
     "name": "stdout",
     "output_type": "stream",
     "text": [
      "/Users/atcushen/Documents/MercuryModelling/runs/nightside_v1_run4/ta-2_rerun/3d_fluid_region0_2_t00000220_n00002859_amrex\n",
      "Plotting t 140.4\n"
     ]
    },
    {
     "name": "stderr",
     "output_type": "stream",
     "text": [
      "yt : [INFO     ] 2024-08-12 16:28:03,992 Parameters: current_time              = 140.60174286290095\n",
      "yt : [INFO     ] 2024-08-12 16:28:03,993 Parameters: domain_dimensions         = [320 256 256]\n",
      "yt : [INFO     ] 2024-08-12 16:28:03,994 Parameters: domain_left_edge          = [-4. -2. -2.]\n",
      "yt : [INFO     ] 2024-08-12 16:28:03,995 Parameters: domain_right_edge         = [1. 2. 2.]\n"
     ]
    },
    {
     "name": "stdout",
     "output_type": "stream",
     "text": [
      "/Users/atcushen/Documents/MercuryModelling/runs/nightside_v1_run4/ta-2_rerun/3d_fluid_region0_2_t00000220_n00002968_amrex\n",
      "Plotting t 140.6\n"
     ]
    },
    {
     "name": "stderr",
     "output_type": "stream",
     "text": [
      "yt : [INFO     ] 2024-08-12 16:28:05,194 Parameters: current_time              = 140.8013848862417\n",
      "yt : [INFO     ] 2024-08-12 16:28:05,194 Parameters: domain_dimensions         = [320 256 256]\n",
      "yt : [INFO     ] 2024-08-12 16:28:05,195 Parameters: domain_left_edge          = [-4. -2. -2.]\n",
      "yt : [INFO     ] 2024-08-12 16:28:05,196 Parameters: domain_right_edge         = [1. 2. 2.]\n"
     ]
    },
    {
     "name": "stdout",
     "output_type": "stream",
     "text": [
      "/Users/atcushen/Documents/MercuryModelling/runs/nightside_v1_run4/ta-2_rerun/3d_fluid_region0_2_t00000220_n00003077_amrex\n",
      "Plotting t 140.8\n"
     ]
    },
    {
     "name": "stderr",
     "output_type": "stream",
     "text": [
      "yt : [INFO     ] 2024-08-12 16:28:06,387 Parameters: current_time              = 141.00157379951156\n",
      "yt : [INFO     ] 2024-08-12 16:28:06,388 Parameters: domain_dimensions         = [320 256 256]\n",
      "yt : [INFO     ] 2024-08-12 16:28:06,389 Parameters: domain_left_edge          = [-4. -2. -2.]\n",
      "yt : [INFO     ] 2024-08-12 16:28:06,389 Parameters: domain_right_edge         = [1. 2. 2.]\n"
     ]
    },
    {
     "name": "stdout",
     "output_type": "stream",
     "text": [
      "/Users/atcushen/Documents/MercuryModelling/runs/nightside_v1_run4/ta-2_rerun/3d_fluid_region0_2_t00000221_n00003186_amrex\n",
      "Plotting t 141.0\n"
     ]
    },
    {
     "name": "stderr",
     "output_type": "stream",
     "text": [
      "yt : [INFO     ] 2024-08-12 16:28:08,483 Parameters: current_time              = 141.2015641520777\n",
      "yt : [INFO     ] 2024-08-12 16:28:08,484 Parameters: domain_dimensions         = [320 256 256]\n",
      "yt : [INFO     ] 2024-08-12 16:28:08,485 Parameters: domain_left_edge          = [-4. -2. -2.]\n",
      "yt : [INFO     ] 2024-08-12 16:28:08,485 Parameters: domain_right_edge         = [1. 2. 2.]\n"
     ]
    },
    {
     "name": "stdout",
     "output_type": "stream",
     "text": [
      "/Users/atcushen/Documents/MercuryModelling/runs/nightside_v1_run4/ta-2_rerun/3d_fluid_region0_2_t00000221_n00003299_amrex\n",
      "Plotting t 141.2\n"
     ]
    },
    {
     "name": "stderr",
     "output_type": "stream",
     "text": [
      "yt : [INFO     ] 2024-08-12 16:28:09,673 Parameters: current_time              = 141.4007083411215\n",
      "yt : [INFO     ] 2024-08-12 16:28:09,675 Parameters: domain_dimensions         = [320 256 256]\n",
      "yt : [INFO     ] 2024-08-12 16:28:09,675 Parameters: domain_left_edge          = [-4. -2. -2.]\n",
      "yt : [INFO     ] 2024-08-12 16:28:09,676 Parameters: domain_right_edge         = [1. 2. 2.]\n"
     ]
    },
    {
     "name": "stdout",
     "output_type": "stream",
     "text": [
      "/Users/atcushen/Documents/MercuryModelling/runs/nightside_v1_run4/ta-2_rerun/3d_fluid_region0_2_t00000221_n00003411_amrex\n",
      "Plotting t 141.4\n"
     ]
    },
    {
     "name": "stderr",
     "output_type": "stream",
     "text": [
      "yt : [INFO     ] 2024-08-12 16:28:10,892 Parameters: current_time              = 141.601511176457\n",
      "yt : [INFO     ] 2024-08-12 16:28:10,893 Parameters: domain_dimensions         = [320 256 256]\n",
      "yt : [INFO     ] 2024-08-12 16:28:10,893 Parameters: domain_left_edge          = [-4. -2. -2.]\n",
      "yt : [INFO     ] 2024-08-12 16:28:10,894 Parameters: domain_right_edge         = [1. 2. 2.]\n"
     ]
    },
    {
     "name": "stdout",
     "output_type": "stream",
     "text": [
      "/Users/atcushen/Documents/MercuryModelling/runs/nightside_v1_run4/ta-2_rerun/3d_fluid_region0_2_t00000221_n00003527_amrex\n",
      "Plotting t 141.6\n"
     ]
    },
    {
     "name": "stderr",
     "output_type": "stream",
     "text": [
      "yt : [INFO     ] 2024-08-12 16:28:12,072 Parameters: current_time              = 141.80137737723788\n",
      "yt : [INFO     ] 2024-08-12 16:28:12,072 Parameters: domain_dimensions         = [320 256 256]\n",
      "yt : [INFO     ] 2024-08-12 16:28:12,073 Parameters: domain_left_edge          = [-4. -2. -2.]\n",
      "yt : [INFO     ] 2024-08-12 16:28:12,074 Parameters: domain_right_edge         = [1. 2. 2.]\n"
     ]
    },
    {
     "name": "stdout",
     "output_type": "stream",
     "text": [
      "/Users/atcushen/Documents/MercuryModelling/runs/nightside_v1_run4/ta-2_rerun/3d_fluid_region0_2_t00000221_n00003644_amrex\n",
      "Plotting t 141.8\n"
     ]
    },
    {
     "name": "stderr",
     "output_type": "stream",
     "text": [
      "yt : [INFO     ] 2024-08-12 16:28:13,219 Parameters: current_time              = 142.00081732844532\n",
      "yt : [INFO     ] 2024-08-12 16:28:13,220 Parameters: domain_dimensions         = [320 256 256]\n",
      "yt : [INFO     ] 2024-08-12 16:28:13,221 Parameters: domain_left_edge          = [-4. -2. -2.]\n",
      "yt : [INFO     ] 2024-08-12 16:28:13,222 Parameters: domain_right_edge         = [1. 2. 2.]\n"
     ]
    },
    {
     "name": "stdout",
     "output_type": "stream",
     "text": [
      "/Users/atcushen/Documents/MercuryModelling/runs/nightside_v1_run4/ta-2_rerun/3d_fluid_region0_2_t00000222_n00003758_amrex\n",
      "Plotting t 142.0\n"
     ]
    },
    {
     "name": "stderr",
     "output_type": "stream",
     "text": [
      "yt : [INFO     ] 2024-08-12 16:28:14,369 Parameters: current_time              = 142.20066976785006\n",
      "yt : [INFO     ] 2024-08-12 16:28:14,370 Parameters: domain_dimensions         = [320 256 256]\n",
      "yt : [INFO     ] 2024-08-12 16:28:14,370 Parameters: domain_left_edge          = [-4. -2. -2.]\n",
      "yt : [INFO     ] 2024-08-12 16:28:14,371 Parameters: domain_right_edge         = [1. 2. 2.]\n"
     ]
    },
    {
     "name": "stdout",
     "output_type": "stream",
     "text": [
      "/Users/atcushen/Documents/MercuryModelling/runs/nightside_v1_run4/ta-2_rerun/3d_fluid_region0_2_t00000222_n00003874_amrex\n",
      "Plotting t 142.2\n"
     ]
    },
    {
     "name": "stderr",
     "output_type": "stream",
     "text": [
      "yt : [INFO     ] 2024-08-12 16:28:15,553 Parameters: current_time              = 142.4016677262915\n",
      "yt : [INFO     ] 2024-08-12 16:28:15,554 Parameters: domain_dimensions         = [320 256 256]\n",
      "yt : [INFO     ] 2024-08-12 16:28:15,555 Parameters: domain_left_edge          = [-4. -2. -2.]\n",
      "yt : [INFO     ] 2024-08-12 16:28:15,556 Parameters: domain_right_edge         = [1. 2. 2.]\n"
     ]
    },
    {
     "name": "stdout",
     "output_type": "stream",
     "text": [
      "/Users/atcushen/Documents/MercuryModelling/runs/nightside_v1_run4/ta-2_rerun/3d_fluid_region0_2_t00000222_n00003986_amrex\n",
      "Plotting t 142.4\n"
     ]
    },
    {
     "name": "stderr",
     "output_type": "stream",
     "text": [
      "yt : [INFO     ] 2024-08-12 16:28:16,736 Parameters: current_time              = 142.60121978746525\n",
      "yt : [INFO     ] 2024-08-12 16:28:16,737 Parameters: domain_dimensions         = [320 256 256]\n",
      "yt : [INFO     ] 2024-08-12 16:28:16,738 Parameters: domain_left_edge          = [-4. -2. -2.]\n",
      "yt : [INFO     ] 2024-08-12 16:28:16,739 Parameters: domain_right_edge         = [1. 2. 2.]\n"
     ]
    },
    {
     "name": "stdout",
     "output_type": "stream",
     "text": [
      "/Users/atcushen/Documents/MercuryModelling/runs/nightside_v1_run4/ta-2_rerun/3d_fluid_region0_2_t00000222_n00004098_amrex\n",
      "Plotting t 142.6\n"
     ]
    },
    {
     "name": "stderr",
     "output_type": "stream",
     "text": [
      "yt : [INFO     ] 2024-08-12 16:28:17,945 Parameters: current_time              = 142.8004949906992\n",
      "yt : [INFO     ] 2024-08-12 16:28:17,945 Parameters: domain_dimensions         = [320 256 256]\n",
      "yt : [INFO     ] 2024-08-12 16:28:17,946 Parameters: domain_left_edge          = [-4. -2. -2.]\n",
      "yt : [INFO     ] 2024-08-12 16:28:17,947 Parameters: domain_right_edge         = [1. 2. 2.]\n"
     ]
    },
    {
     "name": "stdout",
     "output_type": "stream",
     "text": [
      "/Users/atcushen/Documents/MercuryModelling/runs/nightside_v1_run4/ta-2_rerun/3d_fluid_region0_2_t00000222_n00004213_amrex\n",
      "Plotting t 142.8\n"
     ]
    },
    {
     "name": "stderr",
     "output_type": "stream",
     "text": [
      "yt : [INFO     ] 2024-08-12 16:28:19,106 Parameters: current_time              = 143.00064196861334\n",
      "yt : [INFO     ] 2024-08-12 16:28:19,107 Parameters: domain_dimensions         = [320 256 256]\n",
      "yt : [INFO     ] 2024-08-12 16:28:19,107 Parameters: domain_left_edge          = [-4. -2. -2.]\n",
      "yt : [INFO     ] 2024-08-12 16:28:19,108 Parameters: domain_right_edge         = [1. 2. 2.]\n"
     ]
    },
    {
     "name": "stdout",
     "output_type": "stream",
     "text": [
      "/Users/atcushen/Documents/MercuryModelling/runs/nightside_v1_run4/ta-2_rerun/3d_fluid_region0_2_t00000223_n00004324_amrex\n",
      "Plotting t 143.0\n"
     ]
    },
    {
     "name": "stderr",
     "output_type": "stream",
     "text": [
      "yt : [INFO     ] 2024-08-12 16:28:20,294 Parameters: current_time              = 143.2003998378862\n",
      "yt : [INFO     ] 2024-08-12 16:28:20,295 Parameters: domain_dimensions         = [320 256 256]\n",
      "yt : [INFO     ] 2024-08-12 16:28:20,295 Parameters: domain_left_edge          = [-4. -2. -2.]\n",
      "yt : [INFO     ] 2024-08-12 16:28:20,296 Parameters: domain_right_edge         = [1. 2. 2.]\n"
     ]
    },
    {
     "name": "stdout",
     "output_type": "stream",
     "text": [
      "/Users/atcushen/Documents/MercuryModelling/runs/nightside_v1_run4/ta-2_rerun/3d_fluid_region0_2_t00000223_n00004435_amrex\n",
      "Plotting t 143.2\n"
     ]
    },
    {
     "name": "stderr",
     "output_type": "stream",
     "text": [
      "yt : [INFO     ] 2024-08-12 16:28:22,434 Parameters: current_time              = 143.40067934724308\n",
      "yt : [INFO     ] 2024-08-12 16:28:22,434 Parameters: domain_dimensions         = [320 256 256]\n",
      "yt : [INFO     ] 2024-08-12 16:28:22,435 Parameters: domain_left_edge          = [-4. -2. -2.]\n",
      "yt : [INFO     ] 2024-08-12 16:28:22,436 Parameters: domain_right_edge         = [1. 2. 2.]\n"
     ]
    },
    {
     "name": "stdout",
     "output_type": "stream",
     "text": [
      "/Users/atcushen/Documents/MercuryModelling/runs/nightside_v1_run4/ta-2_rerun/3d_fluid_region0_2_t00000223_n00004548_amrex\n",
      "Plotting t 143.4\n"
     ]
    },
    {
     "name": "stderr",
     "output_type": "stream",
     "text": [
      "yt : [INFO     ] 2024-08-12 16:28:23,588 Parameters: current_time              = 143.60000660279297\n",
      "yt : [INFO     ] 2024-08-12 16:28:23,588 Parameters: domain_dimensions         = [320 256 256]\n",
      "yt : [INFO     ] 2024-08-12 16:28:23,589 Parameters: domain_left_edge          = [-4. -2. -2.]\n",
      "yt : [INFO     ] 2024-08-12 16:28:23,590 Parameters: domain_right_edge         = [1. 2. 2.]\n"
     ]
    },
    {
     "name": "stdout",
     "output_type": "stream",
     "text": [
      "/Users/atcushen/Documents/MercuryModelling/runs/nightside_v1_run4/ta-2_rerun/3d_fluid_region0_2_t00000223_n00004666_amrex\n",
      "Plotting t 143.6\n"
     ]
    },
    {
     "name": "stderr",
     "output_type": "stream",
     "text": [
      "yt : [INFO     ] 2024-08-12 16:28:24,737 Parameters: current_time              = 143.8006492719654\n",
      "yt : [INFO     ] 2024-08-12 16:28:24,738 Parameters: domain_dimensions         = [320 256 256]\n",
      "yt : [INFO     ] 2024-08-12 16:28:24,739 Parameters: domain_left_edge          = [-4. -2. -2.]\n",
      "yt : [INFO     ] 2024-08-12 16:28:24,739 Parameters: domain_right_edge         = [1. 2. 2.]\n"
     ]
    },
    {
     "name": "stdout",
     "output_type": "stream",
     "text": [
      "/Users/atcushen/Documents/MercuryModelling/runs/nightside_v1_run4/ta-2_rerun/3d_fluid_region0_2_t00000223_n00004787_amrex\n",
      "Plotting t 143.8\n"
     ]
    },
    {
     "name": "stderr",
     "output_type": "stream",
     "text": [
      "yt : [INFO     ] 2024-08-12 16:28:25,886 Parameters: current_time              = 144.0004235325798\n",
      "yt : [INFO     ] 2024-08-12 16:28:25,886 Parameters: domain_dimensions         = [320 256 256]\n",
      "yt : [INFO     ] 2024-08-12 16:28:25,887 Parameters: domain_left_edge          = [-4. -2. -2.]\n",
      "yt : [INFO     ] 2024-08-12 16:28:25,888 Parameters: domain_right_edge         = [1. 2. 2.]\n"
     ]
    },
    {
     "name": "stdout",
     "output_type": "stream",
     "text": [
      "/Users/atcushen/Documents/MercuryModelling/runs/nightside_v1_run4/ta-2_rerun/3d_fluid_region0_2_t00000224_n00004905_amrex\n",
      "Plotting t 144.0\n"
     ]
    },
    {
     "name": "stderr",
     "output_type": "stream",
     "text": [
      "yt : [INFO     ] 2024-08-12 16:28:27,036 Parameters: current_time              = 144.20154674350104\n",
      "yt : [INFO     ] 2024-08-12 16:28:27,037 Parameters: domain_dimensions         = [320 256 256]\n",
      "yt : [INFO     ] 2024-08-12 16:28:27,038 Parameters: domain_left_edge          = [-4. -2. -2.]\n",
      "yt : [INFO     ] 2024-08-12 16:28:27,039 Parameters: domain_right_edge         = [1. 2. 2.]\n"
     ]
    },
    {
     "name": "stdout",
     "output_type": "stream",
     "text": [
      "/Users/atcushen/Documents/MercuryModelling/runs/nightside_v1_run4/ta-2_rerun/3d_fluid_region0_2_t00000224_n00005023_amrex\n",
      "Plotting t 144.2\n"
     ]
    },
    {
     "name": "stderr",
     "output_type": "stream",
     "text": [
      "yt : [INFO     ] 2024-08-12 16:28:28,193 Parameters: current_time              = 144.40015817712427\n",
      "yt : [INFO     ] 2024-08-12 16:28:28,194 Parameters: domain_dimensions         = [320 256 256]\n",
      "yt : [INFO     ] 2024-08-12 16:28:28,195 Parameters: domain_left_edge          = [-4. -2. -2.]\n",
      "yt : [INFO     ] 2024-08-12 16:28:28,196 Parameters: domain_right_edge         = [1. 2. 2.]\n"
     ]
    },
    {
     "name": "stdout",
     "output_type": "stream",
     "text": [
      "/Users/atcushen/Documents/MercuryModelling/runs/nightside_v1_run4/ta-2_rerun/3d_fluid_region0_2_t00000224_n00005139_amrex\n",
      "Plotting t 144.4\n"
     ]
    },
    {
     "name": "stderr",
     "output_type": "stream",
     "text": [
      "yt : [INFO     ] 2024-08-12 16:28:29,352 Parameters: current_time              = 144.60139046091376\n",
      "yt : [INFO     ] 2024-08-12 16:28:29,353 Parameters: domain_dimensions         = [320 256 256]\n",
      "yt : [INFO     ] 2024-08-12 16:28:29,353 Parameters: domain_left_edge          = [-4. -2. -2.]\n",
      "yt : [INFO     ] 2024-08-12 16:28:29,354 Parameters: domain_right_edge         = [1. 2. 2.]\n"
     ]
    },
    {
     "name": "stdout",
     "output_type": "stream",
     "text": [
      "/Users/atcushen/Documents/MercuryModelling/runs/nightside_v1_run4/ta-2_rerun/3d_fluid_region0_2_t00000224_n00005260_amrex\n",
      "Plotting t 144.6\n"
     ]
    },
    {
     "name": "stderr",
     "output_type": "stream",
     "text": [
      "yt : [INFO     ] 2024-08-12 16:28:30,503 Parameters: current_time              = 144.8008971103632\n",
      "yt : [INFO     ] 2024-08-12 16:28:30,504 Parameters: domain_dimensions         = [320 256 256]\n",
      "yt : [INFO     ] 2024-08-12 16:28:30,505 Parameters: domain_left_edge          = [-4. -2. -2.]\n",
      "yt : [INFO     ] 2024-08-12 16:28:30,506 Parameters: domain_right_edge         = [1. 2. 2.]\n"
     ]
    },
    {
     "name": "stdout",
     "output_type": "stream",
     "text": [
      "/Users/atcushen/Documents/MercuryModelling/runs/nightside_v1_run4/ta-2_rerun/3d_fluid_region0_2_t00000224_n00005379_amrex\n",
      "Plotting t 144.8\n"
     ]
    },
    {
     "name": "stderr",
     "output_type": "stream",
     "text": [
      "yt : [INFO     ] 2024-08-12 16:28:31,666 Parameters: current_time              = 145.00027042646266\n",
      "yt : [INFO     ] 2024-08-12 16:28:31,667 Parameters: domain_dimensions         = [320 256 256]\n",
      "yt : [INFO     ] 2024-08-12 16:28:31,667 Parameters: domain_left_edge          = [-4. -2. -2.]\n",
      "yt : [INFO     ] 2024-08-12 16:28:31,668 Parameters: domain_right_edge         = [1. 2. 2.]\n"
     ]
    },
    {
     "name": "stdout",
     "output_type": "stream",
     "text": [
      "/Users/atcushen/Documents/MercuryModelling/runs/nightside_v1_run4/ta-2_rerun/3d_fluid_region0_2_t00000225_n00005498_amrex\n",
      "Plotting t 145.0\n"
     ]
    },
    {
     "name": "stderr",
     "output_type": "stream",
     "text": [
      "yt : [INFO     ] 2024-08-12 16:28:32,860 Parameters: current_time              = 145.20009155006036\n",
      "yt : [INFO     ] 2024-08-12 16:28:32,860 Parameters: domain_dimensions         = [320 256 256]\n",
      "yt : [INFO     ] 2024-08-12 16:28:32,861 Parameters: domain_left_edge          = [-4. -2. -2.]\n",
      "yt : [INFO     ] 2024-08-12 16:28:32,862 Parameters: domain_right_edge         = [1. 2. 2.]\n"
     ]
    },
    {
     "name": "stdout",
     "output_type": "stream",
     "text": [
      "/Users/atcushen/Documents/MercuryModelling/runs/nightside_v1_run4/ta-2_rerun/3d_fluid_region0_2_t00000225_n00005614_amrex\n",
      "Plotting t 145.2\n"
     ]
    },
    {
     "name": "stderr",
     "output_type": "stream",
     "text": [
      "yt : [INFO     ] 2024-08-12 16:28:35,025 Parameters: current_time              = 145.40044878305025\n",
      "yt : [INFO     ] 2024-08-12 16:28:35,025 Parameters: domain_dimensions         = [320 256 256]\n",
      "yt : [INFO     ] 2024-08-12 16:28:35,026 Parameters: domain_left_edge          = [-4. -2. -2.]\n",
      "yt : [INFO     ] 2024-08-12 16:28:35,027 Parameters: domain_right_edge         = [1. 2. 2.]\n"
     ]
    },
    {
     "name": "stdout",
     "output_type": "stream",
     "text": [
      "/Users/atcushen/Documents/MercuryModelling/runs/nightside_v1_run4/ta-2_rerun/3d_fluid_region0_2_t00000225_n00005736_amrex\n",
      "Plotting t 145.4\n"
     ]
    },
    {
     "name": "stderr",
     "output_type": "stream",
     "text": [
      "yt : [INFO     ] 2024-08-12 16:28:36,205 Parameters: current_time              = 145.60126294435332\n",
      "yt : [INFO     ] 2024-08-12 16:28:36,206 Parameters: domain_dimensions         = [320 256 256]\n",
      "yt : [INFO     ] 2024-08-12 16:28:36,207 Parameters: domain_left_edge          = [-4. -2. -2.]\n",
      "yt : [INFO     ] 2024-08-12 16:28:36,208 Parameters: domain_right_edge         = [1. 2. 2.]\n"
     ]
    },
    {
     "name": "stdout",
     "output_type": "stream",
     "text": [
      "/Users/atcushen/Documents/MercuryModelling/runs/nightside_v1_run4/ta-2_rerun/3d_fluid_region0_2_t00000225_n00005859_amrex\n",
      "Plotting t 145.6\n"
     ]
    },
    {
     "name": "stderr",
     "output_type": "stream",
     "text": [
      "yt : [INFO     ] 2024-08-12 16:28:37,371 Parameters: current_time              = 145.80140136063957\n",
      "yt : [INFO     ] 2024-08-12 16:28:37,372 Parameters: domain_dimensions         = [320 256 256]\n",
      "yt : [INFO     ] 2024-08-12 16:28:37,373 Parameters: domain_left_edge          = [-4. -2. -2.]\n",
      "yt : [INFO     ] 2024-08-12 16:28:37,373 Parameters: domain_right_edge         = [1. 2. 2.]\n"
     ]
    },
    {
     "name": "stdout",
     "output_type": "stream",
     "text": [
      "/Users/atcushen/Documents/MercuryModelling/runs/nightside_v1_run4/ta-2_rerun/3d_fluid_region0_2_t00000225_n00005978_amrex\n",
      "Plotting t 145.8\n"
     ]
    },
    {
     "name": "stderr",
     "output_type": "stream",
     "text": [
      "yt : [INFO     ] 2024-08-12 16:28:38,569 Parameters: current_time              = 146.00133439686462\n",
      "yt : [INFO     ] 2024-08-12 16:28:38,569 Parameters: domain_dimensions         = [320 256 256]\n",
      "yt : [INFO     ] 2024-08-12 16:28:38,570 Parameters: domain_left_edge          = [-4. -2. -2.]\n",
      "yt : [INFO     ] 2024-08-12 16:28:38,571 Parameters: domain_right_edge         = [1. 2. 2.]\n"
     ]
    },
    {
     "name": "stdout",
     "output_type": "stream",
     "text": [
      "/Users/atcushen/Documents/MercuryModelling/runs/nightside_v1_run4/ta-2_rerun/3d_fluid_region0_2_t00000226_n00006098_amrex\n",
      "Plotting t 146.0\n"
     ]
    },
    {
     "name": "stderr",
     "output_type": "stream",
     "text": [
      "yt : [INFO     ] 2024-08-12 16:28:39,758 Parameters: current_time              = 146.2012796372959\n",
      "yt : [INFO     ] 2024-08-12 16:28:39,759 Parameters: domain_dimensions         = [320 256 256]\n",
      "yt : [INFO     ] 2024-08-12 16:28:39,759 Parameters: domain_left_edge          = [-4. -2. -2.]\n",
      "yt : [INFO     ] 2024-08-12 16:28:39,760 Parameters: domain_right_edge         = [1. 2. 2.]\n"
     ]
    },
    {
     "name": "stdout",
     "output_type": "stream",
     "text": [
      "/Users/atcushen/Documents/MercuryModelling/runs/nightside_v1_run4/ta-2_rerun/3d_fluid_region0_2_t00000226_n00006213_amrex\n",
      "Plotting t 146.2\n"
     ]
    },
    {
     "name": "stderr",
     "output_type": "stream",
     "text": [
      "yt : [INFO     ] 2024-08-12 16:28:40,934 Parameters: current_time              = 146.40072743240543\n",
      "yt : [INFO     ] 2024-08-12 16:28:40,935 Parameters: domain_dimensions         = [320 256 256]\n",
      "yt : [INFO     ] 2024-08-12 16:28:40,936 Parameters: domain_left_edge          = [-4. -2. -2.]\n",
      "yt : [INFO     ] 2024-08-12 16:28:40,936 Parameters: domain_right_edge         = [1. 2. 2.]\n"
     ]
    },
    {
     "name": "stdout",
     "output_type": "stream",
     "text": [
      "/Users/atcushen/Documents/MercuryModelling/runs/nightside_v1_run4/ta-2_rerun/3d_fluid_region0_2_t00000226_n00006334_amrex\n",
      "Plotting t 146.4\n"
     ]
    },
    {
     "name": "stderr",
     "output_type": "stream",
     "text": [
      "yt : [INFO     ] 2024-08-12 16:28:42,090 Parameters: current_time              = 146.60016642892603\n",
      "yt : [INFO     ] 2024-08-12 16:28:42,091 Parameters: domain_dimensions         = [320 256 256]\n",
      "yt : [INFO     ] 2024-08-12 16:28:42,092 Parameters: domain_left_edge          = [-4. -2. -2.]\n",
      "yt : [INFO     ] 2024-08-12 16:28:42,092 Parameters: domain_right_edge         = [1. 2. 2.]\n"
     ]
    },
    {
     "name": "stdout",
     "output_type": "stream",
     "text": [
      "/Users/atcushen/Documents/MercuryModelling/runs/nightside_v1_run4/ta-2_rerun/3d_fluid_region0_2_t00000226_n00006453_amrex\n",
      "Plotting t 146.6\n"
     ]
    },
    {
     "name": "stderr",
     "output_type": "stream",
     "text": [
      "yt : [INFO     ] 2024-08-12 16:28:43,253 Parameters: current_time              = 146.8008924264645\n",
      "yt : [INFO     ] 2024-08-12 16:28:43,254 Parameters: domain_dimensions         = [320 256 256]\n",
      "yt : [INFO     ] 2024-08-12 16:28:43,254 Parameters: domain_left_edge          = [-4. -2. -2.]\n",
      "yt : [INFO     ] 2024-08-12 16:28:43,255 Parameters: domain_right_edge         = [1. 2. 2.]\n"
     ]
    },
    {
     "name": "stdout",
     "output_type": "stream",
     "text": [
      "/Users/atcushen/Documents/MercuryModelling/runs/nightside_v1_run4/ta-2_rerun/3d_fluid_region0_2_t00000226_n00006575_amrex\n",
      "Plotting t 146.8\n"
     ]
    },
    {
     "name": "stderr",
     "output_type": "stream",
     "text": [
      "yt : [INFO     ] 2024-08-12 16:28:44,457 Parameters: current_time              = 147.00102830659304\n",
      "yt : [INFO     ] 2024-08-12 16:28:44,458 Parameters: domain_dimensions         = [320 256 256]\n",
      "yt : [INFO     ] 2024-08-12 16:28:44,459 Parameters: domain_left_edge          = [-4. -2. -2.]\n",
      "yt : [INFO     ] 2024-08-12 16:28:44,459 Parameters: domain_right_edge         = [1. 2. 2.]\n"
     ]
    },
    {
     "name": "stdout",
     "output_type": "stream",
     "text": [
      "/Users/atcushen/Documents/MercuryModelling/runs/nightside_v1_run4/ta-2_rerun/3d_fluid_region0_2_t00000227_n00006696_amrex\n",
      "Plotting t 147.0\n"
     ]
    },
    {
     "name": "stderr",
     "output_type": "stream",
     "text": [
      "yt : [INFO     ] 2024-08-12 16:28:45,646 Parameters: current_time              = 147.20060475423165\n",
      "yt : [INFO     ] 2024-08-12 16:28:45,647 Parameters: domain_dimensions         = [320 256 256]\n",
      "yt : [INFO     ] 2024-08-12 16:28:45,648 Parameters: domain_left_edge          = [-4. -2. -2.]\n",
      "yt : [INFO     ] 2024-08-12 16:28:45,648 Parameters: domain_right_edge         = [1. 2. 2.]\n"
     ]
    },
    {
     "name": "stdout",
     "output_type": "stream",
     "text": [
      "/Users/atcushen/Documents/MercuryModelling/runs/nightside_v1_run4/ta-2_rerun/3d_fluid_region0_2_t00000227_n00006814_amrex\n",
      "Plotting t 147.2\n"
     ]
    },
    {
     "name": "stderr",
     "output_type": "stream",
     "text": [
      "yt : [INFO     ] 2024-08-12 16:28:46,830 Parameters: current_time              = 147.40065356986747\n",
      "yt : [INFO     ] 2024-08-12 16:28:46,831 Parameters: domain_dimensions         = [320 256 256]\n",
      "yt : [INFO     ] 2024-08-12 16:28:46,832 Parameters: domain_left_edge          = [-4. -2. -2.]\n",
      "yt : [INFO     ] 2024-08-12 16:28:46,833 Parameters: domain_right_edge         = [1. 2. 2.]\n"
     ]
    },
    {
     "name": "stdout",
     "output_type": "stream",
     "text": [
      "/Users/atcushen/Documents/MercuryModelling/runs/nightside_v1_run4/ta-2_rerun/3d_fluid_region0_2_t00000227_n00006929_amrex\n",
      "Plotting t 147.4\n"
     ]
    },
    {
     "name": "stderr",
     "output_type": "stream",
     "text": [
      "yt : [INFO     ] 2024-08-12 16:28:49,006 Parameters: current_time              = 147.6013816757867\n",
      "yt : [INFO     ] 2024-08-12 16:28:49,007 Parameters: domain_dimensions         = [320 256 256]\n",
      "yt : [INFO     ] 2024-08-12 16:28:49,008 Parameters: domain_left_edge          = [-4. -2. -2.]\n",
      "yt : [INFO     ] 2024-08-12 16:28:49,008 Parameters: domain_right_edge         = [1. 2. 2.]\n"
     ]
    },
    {
     "name": "stdout",
     "output_type": "stream",
     "text": [
      "/Users/atcushen/Documents/MercuryModelling/runs/nightside_v1_run4/ta-2_rerun/3d_fluid_region0_2_t00000227_n00007048_amrex\n",
      "Plotting t 147.6\n"
     ]
    },
    {
     "name": "stderr",
     "output_type": "stream",
     "text": [
      "yt : [INFO     ] 2024-08-12 16:28:50,202 Parameters: current_time              = 147.80007285999477\n",
      "yt : [INFO     ] 2024-08-12 16:28:50,203 Parameters: domain_dimensions         = [320 256 256]\n",
      "yt : [INFO     ] 2024-08-12 16:28:50,204 Parameters: domain_left_edge          = [-4. -2. -2.]\n",
      "yt : [INFO     ] 2024-08-12 16:28:50,204 Parameters: domain_right_edge         = [1. 2. 2.]\n"
     ]
    },
    {
     "name": "stdout",
     "output_type": "stream",
     "text": [
      "/Users/atcushen/Documents/MercuryModelling/runs/nightside_v1_run4/ta-2_rerun/3d_fluid_region0_2_t00000227_n00007165_amrex\n",
      "Plotting t 147.8\n"
     ]
    },
    {
     "name": "stderr",
     "output_type": "stream",
     "text": [
      "yt : [INFO     ] 2024-08-12 16:28:51,364 Parameters: current_time              = 148.00040071986678\n",
      "yt : [INFO     ] 2024-08-12 16:28:51,365 Parameters: domain_dimensions         = [320 256 256]\n",
      "yt : [INFO     ] 2024-08-12 16:28:51,366 Parameters: domain_left_edge          = [-4. -2. -2.]\n",
      "yt : [INFO     ] 2024-08-12 16:28:51,366 Parameters: domain_right_edge         = [1. 2. 2.]\n"
     ]
    },
    {
     "name": "stdout",
     "output_type": "stream",
     "text": [
      "/Users/atcushen/Documents/MercuryModelling/runs/nightside_v1_run4/ta-2_rerun/3d_fluid_region0_2_t00000228_n00007286_amrex\n",
      "Plotting t 148.0\n"
     ]
    },
    {
     "name": "stderr",
     "output_type": "stream",
     "text": [
      "yt : [INFO     ] 2024-08-12 16:28:52,527 Parameters: current_time              = 148.20078426578567\n",
      "yt : [INFO     ] 2024-08-12 16:28:52,528 Parameters: domain_dimensions         = [320 256 256]\n",
      "yt : [INFO     ] 2024-08-12 16:28:52,529 Parameters: domain_left_edge          = [-4. -2. -2.]\n",
      "yt : [INFO     ] 2024-08-12 16:28:52,530 Parameters: domain_right_edge         = [1. 2. 2.]\n"
     ]
    },
    {
     "name": "stdout",
     "output_type": "stream",
     "text": [
      "/Users/atcushen/Documents/MercuryModelling/runs/nightside_v1_run4/ta-2_rerun/3d_fluid_region0_2_t00000228_n00007400_amrex\n",
      "Plotting t 148.2\n"
     ]
    },
    {
     "name": "stderr",
     "output_type": "stream",
     "text": [
      "yt : [INFO     ] 2024-08-12 16:28:53,689 Parameters: current_time              = 148.40079057624\n",
      "yt : [INFO     ] 2024-08-12 16:28:53,690 Parameters: domain_dimensions         = [320 256 256]\n",
      "yt : [INFO     ] 2024-08-12 16:28:53,691 Parameters: domain_left_edge          = [-4. -2. -2.]\n",
      "yt : [INFO     ] 2024-08-12 16:28:53,691 Parameters: domain_right_edge         = [1. 2. 2.]\n"
     ]
    },
    {
     "name": "stdout",
     "output_type": "stream",
     "text": [
      "/Users/atcushen/Documents/MercuryModelling/runs/nightside_v1_run4/ta-2_rerun/3d_fluid_region0_2_t00000228_n00007520_amrex\n",
      "Plotting t 148.4\n"
     ]
    },
    {
     "name": "stderr",
     "output_type": "stream",
     "text": [
      "yt : [INFO     ] 2024-08-12 16:28:54,860 Parameters: current_time              = 148.6004757783201\n",
      "yt : [INFO     ] 2024-08-12 16:28:54,861 Parameters: domain_dimensions         = [320 256 256]\n",
      "yt : [INFO     ] 2024-08-12 16:28:54,861 Parameters: domain_left_edge          = [-4. -2. -2.]\n",
      "yt : [INFO     ] 2024-08-12 16:28:54,862 Parameters: domain_right_edge         = [1. 2. 2.]\n"
     ]
    },
    {
     "name": "stdout",
     "output_type": "stream",
     "text": [
      "/Users/atcushen/Documents/MercuryModelling/runs/nightside_v1_run4/ta-2_rerun/3d_fluid_region0_2_t00000228_n00007639_amrex\n",
      "Plotting t 148.6\n"
     ]
    },
    {
     "name": "stderr",
     "output_type": "stream",
     "text": [
      "yt : [INFO     ] 2024-08-12 16:28:56,028 Parameters: current_time              = 148.80001096458946\n",
      "yt : [INFO     ] 2024-08-12 16:28:56,028 Parameters: domain_dimensions         = [320 256 256]\n",
      "yt : [INFO     ] 2024-08-12 16:28:56,029 Parameters: domain_left_edge          = [-4. -2. -2.]\n",
      "yt : [INFO     ] 2024-08-12 16:28:56,030 Parameters: domain_right_edge         = [1. 2. 2.]\n"
     ]
    },
    {
     "name": "stdout",
     "output_type": "stream",
     "text": [
      "/Users/atcushen/Documents/MercuryModelling/runs/nightside_v1_run4/ta-2_rerun/3d_fluid_region0_2_t00000228_n00007754_amrex\n",
      "Plotting t 148.8\n"
     ]
    },
    {
     "name": "stderr",
     "output_type": "stream",
     "text": [
      "yt : [INFO     ] 2024-08-12 16:28:57,193 Parameters: current_time              = 149.0000734165961\n",
      "yt : [INFO     ] 2024-08-12 16:28:57,194 Parameters: domain_dimensions         = [320 256 256]\n",
      "yt : [INFO     ] 2024-08-12 16:28:57,194 Parameters: domain_left_edge          = [-4. -2. -2.]\n",
      "yt : [INFO     ] 2024-08-12 16:28:57,195 Parameters: domain_right_edge         = [1. 2. 2.]\n"
     ]
    },
    {
     "name": "stdout",
     "output_type": "stream",
     "text": [
      "/Users/atcushen/Documents/MercuryModelling/runs/nightside_v1_run4/ta-2_rerun/3d_fluid_region0_2_t00000229_n00007865_amrex\n",
      "Plotting t 149.0\n"
     ]
    },
    {
     "name": "stderr",
     "output_type": "stream",
     "text": [
      "yt : [INFO     ] 2024-08-12 16:28:58,358 Parameters: current_time              = 149.2003252758984\n",
      "yt : [INFO     ] 2024-08-12 16:28:58,359 Parameters: domain_dimensions         = [320 256 256]\n",
      "yt : [INFO     ] 2024-08-12 16:28:58,360 Parameters: domain_left_edge          = [-4. -2. -2.]\n",
      "yt : [INFO     ] 2024-08-12 16:28:58,360 Parameters: domain_right_edge         = [1. 2. 2.]\n"
     ]
    },
    {
     "name": "stdout",
     "output_type": "stream",
     "text": [
      "/Users/atcushen/Documents/MercuryModelling/runs/nightside_v1_run4/ta-2_rerun/3d_fluid_region0_2_t00000229_n00007975_amrex\n",
      "Plotting t 149.2\n"
     ]
    },
    {
     "name": "stderr",
     "output_type": "stream",
     "text": [
      "yt : [INFO     ] 2024-08-12 16:28:59,506 Parameters: current_time              = 149.40072738117814\n",
      "yt : [INFO     ] 2024-08-12 16:28:59,507 Parameters: domain_dimensions         = [320 256 256]\n",
      "yt : [INFO     ] 2024-08-12 16:28:59,507 Parameters: domain_left_edge          = [-4. -2. -2.]\n",
      "yt : [INFO     ] 2024-08-12 16:28:59,508 Parameters: domain_right_edge         = [1. 2. 2.]\n"
     ]
    },
    {
     "name": "stdout",
     "output_type": "stream",
     "text": [
      "/Users/atcushen/Documents/MercuryModelling/runs/nightside_v1_run4/ta-2_rerun/3d_fluid_region0_2_t00000229_n00008085_amrex\n",
      "Plotting t 149.4\n"
     ]
    },
    {
     "name": "stderr",
     "output_type": "stream",
     "text": [
      "yt : [INFO     ] 2024-08-12 16:29:00,660 Parameters: current_time              = 149.6015566193966\n",
      "yt : [INFO     ] 2024-08-12 16:29:00,661 Parameters: domain_dimensions         = [320 256 256]\n",
      "yt : [INFO     ] 2024-08-12 16:29:00,662 Parameters: domain_left_edge          = [-4. -2. -2.]\n",
      "yt : [INFO     ] 2024-08-12 16:29:00,662 Parameters: domain_right_edge         = [1. 2. 2.]\n"
     ]
    },
    {
     "name": "stdout",
     "output_type": "stream",
     "text": [
      "/Users/atcushen/Documents/MercuryModelling/runs/nightside_v1_run4/ta-2_rerun/3d_fluid_region0_2_t00000229_n00008202_amrex\n",
      "Plotting t 149.6\n"
     ]
    },
    {
     "name": "stderr",
     "output_type": "stream",
     "text": [
      "yt : [INFO     ] 2024-08-12 16:29:01,823 Parameters: current_time              = 149.80082493924567\n",
      "yt : [INFO     ] 2024-08-12 16:29:01,824 Parameters: domain_dimensions         = [320 256 256]\n",
      "yt : [INFO     ] 2024-08-12 16:29:01,824 Parameters: domain_left_edge          = [-4. -2. -2.]\n",
      "yt : [INFO     ] 2024-08-12 16:29:01,825 Parameters: domain_right_edge         = [1. 2. 2.]\n"
     ]
    },
    {
     "name": "stdout",
     "output_type": "stream",
     "text": [
      "/Users/atcushen/Documents/MercuryModelling/runs/nightside_v1_run4/ta-2_rerun/3d_fluid_region0_2_t00000229_n00008313_amrex\n",
      "Plotting t 149.8\n"
     ]
    },
    {
     "name": "stderr",
     "output_type": "stream",
     "text": [
      "yt : [INFO     ] 2024-08-12 16:29:03,994 Parameters: current_time              = 150.00148673941126\n",
      "yt : [INFO     ] 2024-08-12 16:29:03,995 Parameters: domain_dimensions         = [320 256 256]\n",
      "yt : [INFO     ] 2024-08-12 16:29:03,995 Parameters: domain_left_edge          = [-4. -2. -2.]\n",
      "yt : [INFO     ] 2024-08-12 16:29:03,996 Parameters: domain_right_edge         = [1. 2. 2.]\n"
     ]
    },
    {
     "name": "stdout",
     "output_type": "stream",
     "text": [
      "/Users/atcushen/Documents/MercuryModelling/runs/nightside_v1_run4/ta-2_rerun/3d_fluid_region0_2_t00000230_n00008439_amrex\n",
      "Plotting t 150.0\n"
     ]
    },
    {
     "name": "stderr",
     "output_type": "stream",
     "text": [
      "yt : [INFO     ] 2024-08-12 16:29:05,146 Parameters: current_time              = 150.2005521138444\n",
      "yt : [INFO     ] 2024-08-12 16:29:05,147 Parameters: domain_dimensions         = [320 256 256]\n",
      "yt : [INFO     ] 2024-08-12 16:29:05,148 Parameters: domain_left_edge          = [-4. -2. -2.]\n",
      "yt : [INFO     ] 2024-08-12 16:29:05,148 Parameters: domain_right_edge         = [1. 2. 2.]\n"
     ]
    },
    {
     "name": "stdout",
     "output_type": "stream",
     "text": [
      "/Users/atcushen/Documents/MercuryModelling/runs/nightside_v1_run4/ta-2_rerun/3d_fluid_region0_2_t00000230_n00008553_amrex\n",
      "Plotting t 150.2\n"
     ]
    },
    {
     "name": "stderr",
     "output_type": "stream",
     "text": [
      "yt : [INFO     ] 2024-08-12 16:29:06,325 Parameters: current_time              = 150.400015659628\n",
      "yt : [INFO     ] 2024-08-12 16:29:06,326 Parameters: domain_dimensions         = [320 256 256]\n",
      "yt : [INFO     ] 2024-08-12 16:29:06,327 Parameters: domain_left_edge          = [-4. -2. -2.]\n",
      "yt : [INFO     ] 2024-08-12 16:29:06,327 Parameters: domain_right_edge         = [1. 2. 2.]\n"
     ]
    },
    {
     "name": "stdout",
     "output_type": "stream",
     "text": [
      "/Users/atcushen/Documents/MercuryModelling/runs/nightside_v1_run4/ta-2_rerun/3d_fluid_region0_2_t00000230_n00008668_amrex\n",
      "Plotting t 150.4\n"
     ]
    },
    {
     "name": "stderr",
     "output_type": "stream",
     "text": [
      "yt : [INFO     ] 2024-08-12 16:29:07,485 Parameters: current_time              = 150.6000693753373\n",
      "yt : [INFO     ] 2024-08-12 16:29:07,485 Parameters: domain_dimensions         = [320 256 256]\n",
      "yt : [INFO     ] 2024-08-12 16:29:07,486 Parameters: domain_left_edge          = [-4. -2. -2.]\n",
      "yt : [INFO     ] 2024-08-12 16:29:07,487 Parameters: domain_right_edge         = [1. 2. 2.]\n"
     ]
    },
    {
     "name": "stdout",
     "output_type": "stream",
     "text": [
      "/Users/atcushen/Documents/MercuryModelling/runs/nightside_v1_run4/ta-2_rerun/3d_fluid_region0_2_t00000230_n00008790_amrex\n",
      "Plotting t 150.6\n"
     ]
    },
    {
     "name": "stderr",
     "output_type": "stream",
     "text": [
      "yt : [INFO     ] 2024-08-12 16:29:08,668 Parameters: current_time              = 150.80108070368905\n",
      "yt : [INFO     ] 2024-08-12 16:29:08,669 Parameters: domain_dimensions         = [320 256 256]\n",
      "yt : [INFO     ] 2024-08-12 16:29:08,670 Parameters: domain_left_edge          = [-4. -2. -2.]\n",
      "yt : [INFO     ] 2024-08-12 16:29:08,671 Parameters: domain_right_edge         = [1. 2. 2.]\n"
     ]
    },
    {
     "name": "stdout",
     "output_type": "stream",
     "text": [
      "/Users/atcushen/Documents/MercuryModelling/runs/nightside_v1_run4/ta-2_rerun/3d_fluid_region0_2_t00000230_n00008913_amrex\n",
      "Plotting t 150.8\n"
     ]
    },
    {
     "name": "stderr",
     "output_type": "stream",
     "text": [
      "yt : [INFO     ] 2024-08-12 16:29:09,835 Parameters: current_time              = 151.00039844126414\n",
      "yt : [INFO     ] 2024-08-12 16:29:09,836 Parameters: domain_dimensions         = [320 256 256]\n",
      "yt : [INFO     ] 2024-08-12 16:29:09,836 Parameters: domain_left_edge          = [-4. -2. -2.]\n",
      "yt : [INFO     ] 2024-08-12 16:29:09,837 Parameters: domain_right_edge         = [1. 2. 2.]\n"
     ]
    },
    {
     "name": "stdout",
     "output_type": "stream",
     "text": [
      "/Users/atcushen/Documents/MercuryModelling/runs/nightside_v1_run4/ta-2_rerun/3d_fluid_region0_2_t00000231_n00009032_amrex\n",
      "Plotting t 151.0\n"
     ]
    },
    {
     "name": "stderr",
     "output_type": "stream",
     "text": [
      "yt : [INFO     ] 2024-08-12 16:29:11,450 Parameters: current_time              = 151.20089165283974\n",
      "yt : [INFO     ] 2024-08-12 16:29:11,451 Parameters: domain_dimensions         = [320 256 256]\n",
      "yt : [INFO     ] 2024-08-12 16:29:11,452 Parameters: domain_left_edge          = [-4. -2. -2.]\n",
      "yt : [INFO     ] 2024-08-12 16:29:11,452 Parameters: domain_right_edge         = [1. 2. 2.]\n"
     ]
    },
    {
     "name": "stdout",
     "output_type": "stream",
     "text": [
      "/Users/atcushen/Documents/MercuryModelling/runs/nightside_v1_run4/ta-2_rerun/3d_fluid_region0_2_t00000231_n00009154_amrex\n",
      "Plotting t 151.2\n"
     ]
    },
    {
     "name": "stderr",
     "output_type": "stream",
     "text": [
      "yt : [INFO     ] 2024-08-12 16:29:12,984 Parameters: current_time              = 151.40112448269443\n",
      "yt : [INFO     ] 2024-08-12 16:29:12,985 Parameters: domain_dimensions         = [320 256 256]\n",
      "yt : [INFO     ] 2024-08-12 16:29:12,986 Parameters: domain_left_edge          = [-4. -2. -2.]\n",
      "yt : [INFO     ] 2024-08-12 16:29:12,987 Parameters: domain_right_edge         = [1. 2. 2.]\n"
     ]
    },
    {
     "name": "stdout",
     "output_type": "stream",
     "text": [
      "/Users/atcushen/Documents/MercuryModelling/runs/nightside_v1_run4/ta-2_rerun/3d_fluid_region0_2_t00000231_n00009278_amrex\n",
      "Plotting t 151.4\n"
     ]
    },
    {
     "name": "stderr",
     "output_type": "stream",
     "text": [
      "yt : [INFO     ] 2024-08-12 16:29:14,159 Parameters: current_time              = 151.6011499981376\n",
      "yt : [INFO     ] 2024-08-12 16:29:14,160 Parameters: domain_dimensions         = [320 256 256]\n",
      "yt : [INFO     ] 2024-08-12 16:29:14,160 Parameters: domain_left_edge          = [-4. -2. -2.]\n",
      "yt : [INFO     ] 2024-08-12 16:29:14,161 Parameters: domain_right_edge         = [1. 2. 2.]\n"
     ]
    },
    {
     "name": "stdout",
     "output_type": "stream",
     "text": [
      "/Users/atcushen/Documents/MercuryModelling/runs/nightside_v1_run4/ta-2_rerun/3d_fluid_region0_2_t00000231_n00009398_amrex\n",
      "Plotting t 151.6\n"
     ]
    },
    {
     "name": "stderr",
     "output_type": "stream",
     "text": [
      "yt : [INFO     ] 2024-08-12 16:29:15,343 Parameters: current_time              = 151.8010785256923\n",
      "yt : [INFO     ] 2024-08-12 16:29:15,344 Parameters: domain_dimensions         = [320 256 256]\n",
      "yt : [INFO     ] 2024-08-12 16:29:15,344 Parameters: domain_left_edge          = [-4. -2. -2.]\n",
      "yt : [INFO     ] 2024-08-12 16:29:15,345 Parameters: domain_right_edge         = [1. 2. 2.]\n"
     ]
    },
    {
     "name": "stdout",
     "output_type": "stream",
     "text": [
      "/Users/atcushen/Documents/MercuryModelling/runs/nightside_v1_run4/ta-2_rerun/3d_fluid_region0_2_t00000231_n00009517_amrex\n",
      "Plotting t 151.8\n"
     ]
    },
    {
     "name": "stderr",
     "output_type": "stream",
     "text": [
      "yt : [INFO     ] 2024-08-12 16:29:16,523 Parameters: current_time              = 152.00040762804448\n",
      "yt : [INFO     ] 2024-08-12 16:29:16,524 Parameters: domain_dimensions         = [320 256 256]\n",
      "yt : [INFO     ] 2024-08-12 16:29:16,525 Parameters: domain_left_edge          = [-4. -2. -2.]\n",
      "yt : [INFO     ] 2024-08-12 16:29:16,525 Parameters: domain_right_edge         = [1. 2. 2.]\n"
     ]
    },
    {
     "name": "stdout",
     "output_type": "stream",
     "text": [
      "/Users/atcushen/Documents/MercuryModelling/runs/nightside_v1_run4/ta-2_rerun/3d_fluid_region0_2_t00000232_n00009632_amrex\n",
      "Plotting t 152.0\n"
     ]
    },
    {
     "name": "stderr",
     "output_type": "stream",
     "text": [
      "yt : [INFO     ] 2024-08-12 16:29:18,755 Parameters: current_time              = 152.20043437568592\n",
      "yt : [INFO     ] 2024-08-12 16:29:18,755 Parameters: domain_dimensions         = [320 256 256]\n",
      "yt : [INFO     ] 2024-08-12 16:29:18,756 Parameters: domain_left_edge          = [-4. -2. -2.]\n",
      "yt : [INFO     ] 2024-08-12 16:29:18,756 Parameters: domain_right_edge         = [1. 2. 2.]\n"
     ]
    },
    {
     "name": "stdout",
     "output_type": "stream",
     "text": [
      "/Users/atcushen/Documents/MercuryModelling/runs/nightside_v1_run4/ta-2_rerun/3d_fluid_region0_2_t00000232_n00009744_amrex\n",
      "Plotting t 152.2\n"
     ]
    },
    {
     "name": "stderr",
     "output_type": "stream",
     "text": [
      "yt : [INFO     ] 2024-08-12 16:29:19,940 Parameters: current_time              = 152.4005159001462\n",
      "yt : [INFO     ] 2024-08-12 16:29:19,941 Parameters: domain_dimensions         = [320 256 256]\n",
      "yt : [INFO     ] 2024-08-12 16:29:19,942 Parameters: domain_left_edge          = [-4. -2. -2.]\n",
      "yt : [INFO     ] 2024-08-12 16:29:19,942 Parameters: domain_right_edge         = [1. 2. 2.]\n"
     ]
    },
    {
     "name": "stdout",
     "output_type": "stream",
     "text": [
      "/Users/atcushen/Documents/MercuryModelling/runs/nightside_v1_run4/ta-2_rerun/3d_fluid_region0_2_t00000232_n00009850_amrex\n",
      "Plotting t 152.4\n"
     ]
    },
    {
     "name": "stderr",
     "output_type": "stream",
     "text": [
      "yt : [INFO     ] 2024-08-12 16:29:21,112 Parameters: current_time              = 152.6001298117408\n",
      "yt : [INFO     ] 2024-08-12 16:29:21,113 Parameters: domain_dimensions         = [320 256 256]\n",
      "yt : [INFO     ] 2024-08-12 16:29:21,114 Parameters: domain_left_edge          = [-4. -2. -2.]\n",
      "yt : [INFO     ] 2024-08-12 16:29:21,114 Parameters: domain_right_edge         = [1. 2. 2.]\n"
     ]
    },
    {
     "name": "stdout",
     "output_type": "stream",
     "text": [
      "/Users/atcushen/Documents/MercuryModelling/runs/nightside_v1_run4/ta-2_rerun/3d_fluid_region0_2_t00000232_n00009953_amrex\n",
      "Plotting t 152.6\n"
     ]
    },
    {
     "name": "stderr",
     "output_type": "stream",
     "text": [
      "yt : [INFO     ] 2024-08-12 16:29:22,302 Parameters: current_time              = 152.8016493348407\n",
      "yt : [INFO     ] 2024-08-12 16:29:22,302 Parameters: domain_dimensions         = [320 256 256]\n",
      "yt : [INFO     ] 2024-08-12 16:29:22,303 Parameters: domain_left_edge          = [-4. -2. -2.]\n",
      "yt : [INFO     ] 2024-08-12 16:29:22,304 Parameters: domain_right_edge         = [1. 2. 2.]\n"
     ]
    },
    {
     "name": "stdout",
     "output_type": "stream",
     "text": [
      "/Users/atcushen/Documents/MercuryModelling/runs/nightside_v1_run4/ta-2_rerun/3d_fluid_region0_2_t00000232_n00010058_amrex\n",
      "Plotting t 152.8\n"
     ]
    },
    {
     "name": "stderr",
     "output_type": "stream",
     "text": [
      "yt : [INFO     ] 2024-08-12 16:29:23,495 Parameters: current_time              = 153.00086385175481\n",
      "yt : [INFO     ] 2024-08-12 16:29:23,496 Parameters: domain_dimensions         = [320 256 256]\n",
      "yt : [INFO     ] 2024-08-12 16:29:23,497 Parameters: domain_left_edge          = [-4. -2. -2.]\n",
      "yt : [INFO     ] 2024-08-12 16:29:23,497 Parameters: domain_right_edge         = [1. 2. 2.]\n"
     ]
    },
    {
     "name": "stdout",
     "output_type": "stream",
     "text": [
      "/Users/atcushen/Documents/MercuryModelling/runs/nightside_v1_run4/ta-2_rerun/3d_fluid_region0_2_t00000233_n00010164_amrex\n",
      "Plotting t 153.0\n"
     ]
    },
    {
     "name": "stderr",
     "output_type": "stream",
     "text": [
      "yt : [INFO     ] 2024-08-12 16:29:24,683 Parameters: current_time              = 153.2003512381722\n",
      "yt : [INFO     ] 2024-08-12 16:29:24,684 Parameters: domain_dimensions         = [320 256 256]\n",
      "yt : [INFO     ] 2024-08-12 16:29:24,684 Parameters: domain_left_edge          = [-4. -2. -2.]\n",
      "yt : [INFO     ] 2024-08-12 16:29:24,685 Parameters: domain_right_edge         = [1. 2. 2.]\n"
     ]
    },
    {
     "name": "stdout",
     "output_type": "stream",
     "text": [
      "/Users/atcushen/Documents/MercuryModelling/runs/nightside_v1_run4/ta-2_rerun/3d_fluid_region0_2_t00000233_n00010274_amrex\n",
      "Plotting t 153.2\n"
     ]
    },
    {
     "name": "stderr",
     "output_type": "stream",
     "text": [
      "yt : [INFO     ] 2024-08-12 16:29:25,988 Parameters: current_time              = 153.4014226082125\n",
      "yt : [INFO     ] 2024-08-12 16:29:25,989 Parameters: domain_dimensions         = [320 256 256]\n",
      "yt : [INFO     ] 2024-08-12 16:29:25,990 Parameters: domain_left_edge          = [-4. -2. -2.]\n",
      "yt : [INFO     ] 2024-08-12 16:29:25,990 Parameters: domain_right_edge         = [1. 2. 2.]\n"
     ]
    },
    {
     "name": "stdout",
     "output_type": "stream",
     "text": [
      "/Users/atcushen/Documents/MercuryModelling/runs/nightside_v1_run4/ta-2_rerun/3d_fluid_region0_2_t00000233_n00010390_amrex\n",
      "Plotting t 153.4\n"
     ]
    },
    {
     "name": "stderr",
     "output_type": "stream",
     "text": [
      "yt : [INFO     ] 2024-08-12 16:29:27,232 Parameters: current_time              = 153.6017315103743\n",
      "yt : [INFO     ] 2024-08-12 16:29:27,233 Parameters: domain_dimensions         = [320 256 256]\n",
      "yt : [INFO     ] 2024-08-12 16:29:27,234 Parameters: domain_left_edge          = [-4. -2. -2.]\n",
      "yt : [INFO     ] 2024-08-12 16:29:27,234 Parameters: domain_right_edge         = [1. 2. 2.]\n"
     ]
    },
    {
     "name": "stdout",
     "output_type": "stream",
     "text": [
      "/Users/atcushen/Documents/MercuryModelling/runs/nightside_v1_run4/ta-2_rerun/3d_fluid_region0_2_t00000233_n00010505_amrex\n",
      "Plotting t 153.6\n"
     ]
    },
    {
     "name": "stderr",
     "output_type": "stream",
     "text": [
      "yt : [INFO     ] 2024-08-12 16:29:28,425 Parameters: current_time              = 153.80134965200205\n",
      "yt : [INFO     ] 2024-08-12 16:29:28,426 Parameters: domain_dimensions         = [320 256 256]\n",
      "yt : [INFO     ] 2024-08-12 16:29:28,427 Parameters: domain_left_edge          = [-4. -2. -2.]\n",
      "yt : [INFO     ] 2024-08-12 16:29:28,427 Parameters: domain_right_edge         = [1. 2. 2.]\n"
     ]
    },
    {
     "name": "stdout",
     "output_type": "stream",
     "text": [
      "/Users/atcushen/Documents/MercuryModelling/runs/nightside_v1_run4/ta-2_rerun/3d_fluid_region0_2_t00000233_n00010620_amrex\n",
      "Plotting t 153.8\n"
     ]
    },
    {
     "name": "stderr",
     "output_type": "stream",
     "text": [
      "yt : [INFO     ] 2024-08-12 16:29:29,606 Parameters: current_time              = 154.00058372677896\n",
      "yt : [INFO     ] 2024-08-12 16:29:29,607 Parameters: domain_dimensions         = [320 256 256]\n",
      "yt : [INFO     ] 2024-08-12 16:29:29,608 Parameters: domain_left_edge          = [-4. -2. -2.]\n",
      "yt : [INFO     ] 2024-08-12 16:29:29,608 Parameters: domain_right_edge         = [1. 2. 2.]\n"
     ]
    },
    {
     "name": "stdout",
     "output_type": "stream",
     "text": [
      "/Users/atcushen/Documents/MercuryModelling/runs/nightside_v1_run4/ta-2_rerun/3d_fluid_region0_2_t00000234_n00010738_amrex\n",
      "Plotting t 154.0\n"
     ]
    },
    {
     "name": "stderr",
     "output_type": "stream",
     "text": [
      "yt : [INFO     ] 2024-08-12 16:29:30,780 Parameters: current_time              = 154.20027182148405\n",
      "yt : [INFO     ] 2024-08-12 16:29:30,781 Parameters: domain_dimensions         = [320 256 256]\n",
      "yt : [INFO     ] 2024-08-12 16:29:30,782 Parameters: domain_left_edge          = [-4. -2. -2.]\n",
      "yt : [INFO     ] 2024-08-12 16:29:30,782 Parameters: domain_right_edge         = [1. 2. 2.]\n"
     ]
    },
    {
     "name": "stdout",
     "output_type": "stream",
     "text": [
      "/Users/atcushen/Documents/MercuryModelling/runs/nightside_v1_run4/ta-2_rerun/3d_fluid_region0_2_t00000234_n00010865_amrex\n",
      "Plotting t 154.2\n"
     ]
    },
    {
     "name": "stderr",
     "output_type": "stream",
     "text": [
      "yt : [INFO     ] 2024-08-12 16:29:31,945 Parameters: current_time              = 154.40029960110982\n",
      "yt : [INFO     ] 2024-08-12 16:29:31,946 Parameters: domain_dimensions         = [320 256 256]\n",
      "yt : [INFO     ] 2024-08-12 16:29:31,947 Parameters: domain_left_edge          = [-4. -2. -2.]\n",
      "yt : [INFO     ] 2024-08-12 16:29:31,947 Parameters: domain_right_edge         = [1. 2. 2.]\n"
     ]
    },
    {
     "name": "stdout",
     "output_type": "stream",
     "text": [
      "/Users/atcushen/Documents/MercuryModelling/runs/nightside_v1_run4/ta-2_rerun/3d_fluid_region0_2_t00000234_n00010992_amrex\n",
      "Plotting t 154.4\n"
     ]
    },
    {
     "name": "stderr",
     "output_type": "stream",
     "text": [
      "yt : [INFO     ] 2024-08-12 16:29:34,285 Parameters: current_time              = 154.60020746817239\n",
      "yt : [INFO     ] 2024-08-12 16:29:34,286 Parameters: domain_dimensions         = [320 256 256]\n",
      "yt : [INFO     ] 2024-08-12 16:29:34,287 Parameters: domain_left_edge          = [-4. -2. -2.]\n",
      "yt : [INFO     ] 2024-08-12 16:29:34,288 Parameters: domain_right_edge         = [1. 2. 2.]\n"
     ]
    },
    {
     "name": "stdout",
     "output_type": "stream",
     "text": [
      "/Users/atcushen/Documents/MercuryModelling/runs/nightside_v1_run4/ta-2_rerun/3d_fluid_region0_2_t00000234_n00011112_amrex\n",
      "Plotting t 154.6\n"
     ]
    },
    {
     "name": "stderr",
     "output_type": "stream",
     "text": [
      "yt : [INFO     ] 2024-08-12 16:29:35,497 Parameters: current_time              = 154.80017912213015\n",
      "yt : [INFO     ] 2024-08-12 16:29:35,498 Parameters: domain_dimensions         = [320 256 256]\n",
      "yt : [INFO     ] 2024-08-12 16:29:35,498 Parameters: domain_left_edge          = [-4. -2. -2.]\n",
      "yt : [INFO     ] 2024-08-12 16:29:35,499 Parameters: domain_right_edge         = [1. 2. 2.]\n"
     ]
    },
    {
     "name": "stdout",
     "output_type": "stream",
     "text": [
      "/Users/atcushen/Documents/MercuryModelling/runs/nightside_v1_run4/ta-2_rerun/3d_fluid_region0_2_t00000234_n00011227_amrex\n",
      "Plotting t 154.8\n"
     ]
    },
    {
     "name": "stderr",
     "output_type": "stream",
     "text": [
      "yt : [INFO     ] 2024-08-12 16:29:36,689 Parameters: current_time              = 155.00116269666523\n",
      "yt : [INFO     ] 2024-08-12 16:29:36,690 Parameters: domain_dimensions         = [320 256 256]\n",
      "yt : [INFO     ] 2024-08-12 16:29:36,691 Parameters: domain_left_edge          = [-4. -2. -2.]\n",
      "yt : [INFO     ] 2024-08-12 16:29:36,692 Parameters: domain_right_edge         = [1. 2. 2.]\n"
     ]
    },
    {
     "name": "stdout",
     "output_type": "stream",
     "text": [
      "/Users/atcushen/Documents/MercuryModelling/runs/nightside_v1_run4/ta-2_rerun/3d_fluid_region0_2_t00000235_n00011338_amrex\n",
      "Plotting t 155.0\n"
     ]
    },
    {
     "name": "stderr",
     "output_type": "stream",
     "text": [
      "yt : [INFO     ] 2024-08-12 16:29:37,924 Parameters: current_time              = 155.20094255541542\n",
      "yt : [INFO     ] 2024-08-12 16:29:37,924 Parameters: domain_dimensions         = [320 256 256]\n",
      "yt : [INFO     ] 2024-08-12 16:29:37,925 Parameters: domain_left_edge          = [-4. -2. -2.]\n",
      "yt : [INFO     ] 2024-08-12 16:29:37,925 Parameters: domain_right_edge         = [1. 2. 2.]\n"
     ]
    },
    {
     "name": "stdout",
     "output_type": "stream",
     "text": [
      "/Users/atcushen/Documents/MercuryModelling/runs/nightside_v1_run4/ta-2_rerun/3d_fluid_region0_2_t00000235_n00011446_amrex\n",
      "Plotting t 155.2\n"
     ]
    },
    {
     "name": "stderr",
     "output_type": "stream",
     "text": [
      "yt : [INFO     ] 2024-08-12 16:29:39,205 Parameters: current_time              = 155.40149369106726\n",
      "yt : [INFO     ] 2024-08-12 16:29:39,206 Parameters: domain_dimensions         = [320 256 256]\n",
      "yt : [INFO     ] 2024-08-12 16:29:39,206 Parameters: domain_left_edge          = [-4. -2. -2.]\n",
      "yt : [INFO     ] 2024-08-12 16:29:39,207 Parameters: domain_right_edge         = [1. 2. 2.]\n"
     ]
    },
    {
     "name": "stdout",
     "output_type": "stream",
     "text": [
      "/Users/atcushen/Documents/MercuryModelling/runs/nightside_v1_run4/ta-2_rerun/3d_fluid_region0_2_t00000235_n00011552_amrex\n",
      "Plotting t 155.4\n"
     ]
    },
    {
     "name": "stderr",
     "output_type": "stream",
     "text": [
      "yt : [INFO     ] 2024-08-12 16:29:40,488 Parameters: current_time              = 155.60109499534693\n",
      "yt : [INFO     ] 2024-08-12 16:29:40,489 Parameters: domain_dimensions         = [320 256 256]\n",
      "yt : [INFO     ] 2024-08-12 16:29:40,489 Parameters: domain_left_edge          = [-4. -2. -2.]\n",
      "yt : [INFO     ] 2024-08-12 16:29:40,490 Parameters: domain_right_edge         = [1. 2. 2.]\n"
     ]
    },
    {
     "name": "stdout",
     "output_type": "stream",
     "text": [
      "/Users/atcushen/Documents/MercuryModelling/runs/nightside_v1_run4/ta-2_rerun/3d_fluid_region0_2_t00000235_n00011662_amrex\n",
      "Plotting t 155.6\n"
     ]
    },
    {
     "name": "stderr",
     "output_type": "stream",
     "text": [
      "yt : [INFO     ] 2024-08-12 16:29:41,671 Parameters: current_time              = 155.80169564697653\n",
      "yt : [INFO     ] 2024-08-12 16:29:41,672 Parameters: domain_dimensions         = [320 256 256]\n",
      "yt : [INFO     ] 2024-08-12 16:29:41,672 Parameters: domain_left_edge          = [-4. -2. -2.]\n",
      "yt : [INFO     ] 2024-08-12 16:29:41,673 Parameters: domain_right_edge         = [1. 2. 2.]\n"
     ]
    },
    {
     "name": "stdout",
     "output_type": "stream",
     "text": [
      "/Users/atcushen/Documents/MercuryModelling/runs/nightside_v1_run4/ta-2_rerun/3d_fluid_region0_2_t00000235_n00011776_amrex\n",
      "Plotting t 155.8\n"
     ]
    },
    {
     "name": "stderr",
     "output_type": "stream",
     "text": [
      "yt : [INFO     ] 2024-08-12 16:29:42,856 Parameters: current_time              = 156.00110976895837\n",
      "yt : [INFO     ] 2024-08-12 16:29:42,856 Parameters: domain_dimensions         = [320 256 256]\n",
      "yt : [INFO     ] 2024-08-12 16:29:42,857 Parameters: domain_left_edge          = [-4. -2. -2.]\n",
      "yt : [INFO     ] 2024-08-12 16:29:42,858 Parameters: domain_right_edge         = [1. 2. 2.]\n"
     ]
    },
    {
     "name": "stdout",
     "output_type": "stream",
     "text": [
      "/Users/atcushen/Documents/MercuryModelling/runs/nightside_v1_run4/ta-2_rerun/3d_fluid_region0_2_t00000236_n00011885_amrex\n",
      "Plotting t 156.0\n"
     ]
    },
    {
     "name": "stderr",
     "output_type": "stream",
     "text": [
      "yt : [INFO     ] 2024-08-12 16:29:44,041 Parameters: current_time              = 156.20172913489395\n",
      "yt : [INFO     ] 2024-08-12 16:29:44,042 Parameters: domain_dimensions         = [320 256 256]\n",
      "yt : [INFO     ] 2024-08-12 16:29:44,042 Parameters: domain_left_edge          = [-4. -2. -2.]\n",
      "yt : [INFO     ] 2024-08-12 16:29:44,043 Parameters: domain_right_edge         = [1. 2. 2.]\n"
     ]
    },
    {
     "name": "stdout",
     "output_type": "stream",
     "text": [
      "/Users/atcushen/Documents/MercuryModelling/runs/nightside_v1_run4/ta-2_rerun/3d_fluid_region0_2_t00000236_n00011998_amrex\n",
      "Plotting t 156.2\n"
     ]
    },
    {
     "name": "stderr",
     "output_type": "stream",
     "text": [
      "yt : [INFO     ] 2024-08-12 16:29:45,210 Parameters: current_time              = 156.40125219850214\n",
      "yt : [INFO     ] 2024-08-12 16:29:45,210 Parameters: domain_dimensions         = [320 256 256]\n",
      "yt : [INFO     ] 2024-08-12 16:29:45,211 Parameters: domain_left_edge          = [-4. -2. -2.]\n",
      "yt : [INFO     ] 2024-08-12 16:29:45,212 Parameters: domain_right_edge         = [1. 2. 2.]\n"
     ]
    },
    {
     "name": "stdout",
     "output_type": "stream",
     "text": [
      "/Users/atcushen/Documents/MercuryModelling/runs/nightside_v1_run4/ta-2_rerun/3d_fluid_region0_2_t00000236_n00012111_amrex\n",
      "Plotting t 156.4\n"
     ]
    },
    {
     "name": "stderr",
     "output_type": "stream",
     "text": [
      "yt : [INFO     ] 2024-08-12 16:29:46,376 Parameters: current_time              = 156.6001802667995\n",
      "yt : [INFO     ] 2024-08-12 16:29:46,376 Parameters: domain_dimensions         = [320 256 256]\n",
      "yt : [INFO     ] 2024-08-12 16:29:46,377 Parameters: domain_left_edge          = [-4. -2. -2.]\n",
      "yt : [INFO     ] 2024-08-12 16:29:46,378 Parameters: domain_right_edge         = [1. 2. 2.]\n"
     ]
    },
    {
     "name": "stdout",
     "output_type": "stream",
     "text": [
      "/Users/atcushen/Documents/MercuryModelling/runs/nightside_v1_run4/ta-2_rerun/3d_fluid_region0_2_t00000236_n00012222_amrex\n",
      "Plotting t 156.6\n"
     ]
    },
    {
     "name": "stderr",
     "output_type": "stream",
     "text": [
      "yt : [INFO     ] 2024-08-12 16:29:47,537 Parameters: current_time              = 156.80089479347382\n",
      "yt : [INFO     ] 2024-08-12 16:29:47,538 Parameters: domain_dimensions         = [320 256 256]\n",
      "yt : [INFO     ] 2024-08-12 16:29:47,538 Parameters: domain_left_edge          = [-4. -2. -2.]\n",
      "yt : [INFO     ] 2024-08-12 16:29:47,539 Parameters: domain_right_edge         = [1. 2. 2.]\n"
     ]
    },
    {
     "name": "stdout",
     "output_type": "stream",
     "text": [
      "/Users/atcushen/Documents/MercuryModelling/runs/nightside_v1_run4/ta-2_rerun/3d_fluid_region0_2_t00000236_n00012331_amrex\n",
      "Plotting t 156.8\n"
     ]
    },
    {
     "name": "stderr",
     "output_type": "stream",
     "text": [
      "yt : [INFO     ] 2024-08-12 16:29:49,785 Parameters: current_time              = 157.0012652971371\n",
      "yt : [INFO     ] 2024-08-12 16:29:49,785 Parameters: domain_dimensions         = [320 256 256]\n",
      "yt : [INFO     ] 2024-08-12 16:29:49,786 Parameters: domain_left_edge          = [-4. -2. -2.]\n",
      "yt : [INFO     ] 2024-08-12 16:29:49,787 Parameters: domain_right_edge         = [1. 2. 2.]\n"
     ]
    },
    {
     "name": "stdout",
     "output_type": "stream",
     "text": [
      "/Users/atcushen/Documents/MercuryModelling/runs/nightside_v1_run4/ta-2_rerun/3d_fluid_region0_2_t00000237_n00012441_amrex\n",
      "Plotting t 157.0\n"
     ]
    },
    {
     "name": "stderr",
     "output_type": "stream",
     "text": [
      "yt : [INFO     ] 2024-08-12 16:29:50,955 Parameters: current_time              = 157.20114592629344\n",
      "yt : [INFO     ] 2024-08-12 16:29:50,955 Parameters: domain_dimensions         = [320 256 256]\n",
      "yt : [INFO     ] 2024-08-12 16:29:50,956 Parameters: domain_left_edge          = [-4. -2. -2.]\n",
      "yt : [INFO     ] 2024-08-12 16:29:50,957 Parameters: domain_right_edge         = [1. 2. 2.]\n"
     ]
    },
    {
     "name": "stdout",
     "output_type": "stream",
     "text": [
      "/Users/atcushen/Documents/MercuryModelling/runs/nightside_v1_run4/ta-2_rerun/3d_fluid_region0_2_t00000237_n00012550_amrex\n",
      "Plotting t 157.2\n"
     ]
    },
    {
     "name": "stderr",
     "output_type": "stream",
     "text": [
      "yt : [INFO     ] 2024-08-12 16:29:52,116 Parameters: current_time              = 157.4009062887167\n",
      "yt : [INFO     ] 2024-08-12 16:29:52,117 Parameters: domain_dimensions         = [320 256 256]\n",
      "yt : [INFO     ] 2024-08-12 16:29:52,117 Parameters: domain_left_edge          = [-4. -2. -2.]\n",
      "yt : [INFO     ] 2024-08-12 16:29:52,118 Parameters: domain_right_edge         = [1. 2. 2.]\n"
     ]
    },
    {
     "name": "stdout",
     "output_type": "stream",
     "text": [
      "/Users/atcushen/Documents/MercuryModelling/runs/nightside_v1_run4/ta-2_rerun/3d_fluid_region0_2_t00000237_n00012661_amrex\n",
      "Plotting t 157.4\n"
     ]
    },
    {
     "name": "stderr",
     "output_type": "stream",
     "text": [
      "yt : [INFO     ] 2024-08-12 16:29:53,274 Parameters: current_time              = 157.60157092068326\n",
      "yt : [INFO     ] 2024-08-12 16:29:53,274 Parameters: domain_dimensions         = [320 256 256]\n",
      "yt : [INFO     ] 2024-08-12 16:29:53,275 Parameters: domain_left_edge          = [-4. -2. -2.]\n",
      "yt : [INFO     ] 2024-08-12 16:29:53,276 Parameters: domain_right_edge         = [1. 2. 2.]\n"
     ]
    },
    {
     "name": "stdout",
     "output_type": "stream",
     "text": [
      "/Users/atcushen/Documents/MercuryModelling/runs/nightside_v1_run4/ta-2_rerun/3d_fluid_region0_2_t00000237_n00012772_amrex\n",
      "Plotting t 157.6\n"
     ]
    },
    {
     "name": "stderr",
     "output_type": "stream",
     "text": [
      "yt : [INFO     ] 2024-08-12 16:29:54,469 Parameters: current_time              = 157.800156212949\n",
      "yt : [INFO     ] 2024-08-12 16:29:54,470 Parameters: domain_dimensions         = [320 256 256]\n",
      "yt : [INFO     ] 2024-08-12 16:29:54,470 Parameters: domain_left_edge          = [-4. -2. -2.]\n",
      "yt : [INFO     ] 2024-08-12 16:29:54,471 Parameters: domain_right_edge         = [1. 2. 2.]\n"
     ]
    },
    {
     "name": "stdout",
     "output_type": "stream",
     "text": [
      "/Users/atcushen/Documents/MercuryModelling/runs/nightside_v1_run4/ta-2_rerun/3d_fluid_region0_2_t00000237_n00012886_amrex\n",
      "Plotting t 157.8\n"
     ]
    },
    {
     "name": "stderr",
     "output_type": "stream",
     "text": [
      "yt : [INFO     ] 2024-08-12 16:29:55,685 Parameters: current_time              = 158.00016242431002\n",
      "yt : [INFO     ] 2024-08-12 16:29:55,686 Parameters: domain_dimensions         = [320 256 256]\n",
      "yt : [INFO     ] 2024-08-12 16:29:55,687 Parameters: domain_left_edge          = [-4. -2. -2.]\n",
      "yt : [INFO     ] 2024-08-12 16:29:55,687 Parameters: domain_right_edge         = [1. 2. 2.]\n"
     ]
    },
    {
     "name": "stdout",
     "output_type": "stream",
     "text": [
      "/Users/atcushen/Documents/MercuryModelling/runs/nightside_v1_run4/ta-2_rerun/3d_fluid_region0_2_t00000238_n00013001_amrex\n",
      "Plotting t 158.0\n"
     ]
    },
    {
     "name": "stderr",
     "output_type": "stream",
     "text": [
      "yt : [INFO     ] 2024-08-12 16:29:56,875 Parameters: current_time              = 158.2010825936184\n",
      "yt : [INFO     ] 2024-08-12 16:29:56,875 Parameters: domain_dimensions         = [320 256 256]\n",
      "yt : [INFO     ] 2024-08-12 16:29:56,876 Parameters: domain_left_edge          = [-4. -2. -2.]\n",
      "yt : [INFO     ] 2024-08-12 16:29:56,877 Parameters: domain_right_edge         = [1. 2. 2.]\n"
     ]
    },
    {
     "name": "stdout",
     "output_type": "stream",
     "text": [
      "/Users/atcushen/Documents/MercuryModelling/runs/nightside_v1_run4/ta-2_rerun/3d_fluid_region0_2_t00000238_n00013118_amrex\n",
      "Plotting t 158.2\n"
     ]
    },
    {
     "name": "stderr",
     "output_type": "stream",
     "text": [
      "yt : [INFO     ] 2024-08-12 16:29:58,064 Parameters: current_time              = 158.40052342610036\n",
      "yt : [INFO     ] 2024-08-12 16:29:58,065 Parameters: domain_dimensions         = [320 256 256]\n",
      "yt : [INFO     ] 2024-08-12 16:29:58,065 Parameters: domain_left_edge          = [-4. -2. -2.]\n",
      "yt : [INFO     ] 2024-08-12 16:29:58,066 Parameters: domain_right_edge         = [1. 2. 2.]\n"
     ]
    },
    {
     "name": "stdout",
     "output_type": "stream",
     "text": [
      "/Users/atcushen/Documents/MercuryModelling/runs/nightside_v1_run4/ta-2_rerun/3d_fluid_region0_2_t00000238_n00013235_amrex\n",
      "Plotting t 158.4\n"
     ]
    },
    {
     "name": "stderr",
     "output_type": "stream",
     "text": [
      "yt : [INFO     ] 2024-08-12 16:29:59,256 Parameters: current_time              = 158.60134799943378\n",
      "yt : [INFO     ] 2024-08-12 16:29:59,257 Parameters: domain_dimensions         = [320 256 256]\n",
      "yt : [INFO     ] 2024-08-12 16:29:59,257 Parameters: domain_left_edge          = [-4. -2. -2.]\n",
      "yt : [INFO     ] 2024-08-12 16:29:59,258 Parameters: domain_right_edge         = [1. 2. 2.]\n"
     ]
    },
    {
     "name": "stdout",
     "output_type": "stream",
     "text": [
      "/Users/atcushen/Documents/MercuryModelling/runs/nightside_v1_run4/ta-2_rerun/3d_fluid_region0_2_t00000238_n00013355_amrex\n",
      "Plotting t 158.6\n"
     ]
    },
    {
     "name": "stderr",
     "output_type": "stream",
     "text": [
      "yt : [INFO     ] 2024-08-12 16:30:00,447 Parameters: current_time              = 158.80169086126182\n",
      "yt : [INFO     ] 2024-08-12 16:30:00,447 Parameters: domain_dimensions         = [320 256 256]\n",
      "yt : [INFO     ] 2024-08-12 16:30:00,448 Parameters: domain_left_edge          = [-4. -2. -2.]\n",
      "yt : [INFO     ] 2024-08-12 16:30:00,449 Parameters: domain_right_edge         = [1. 2. 2.]\n"
     ]
    },
    {
     "name": "stdout",
     "output_type": "stream",
     "text": [
      "/Users/atcushen/Documents/MercuryModelling/runs/nightside_v1_run4/ta-2_rerun/3d_fluid_region0_2_t00000238_n00013472_amrex\n",
      "Plotting t 158.8\n"
     ]
    },
    {
     "name": "stderr",
     "output_type": "stream",
     "text": [
      "yt : [INFO     ] 2024-08-12 16:30:01,634 Parameters: current_time              = 159.0013727299274\n",
      "yt : [INFO     ] 2024-08-12 16:30:01,635 Parameters: domain_dimensions         = [320 256 256]\n",
      "yt : [INFO     ] 2024-08-12 16:30:01,635 Parameters: domain_left_edge          = [-4. -2. -2.]\n",
      "yt : [INFO     ] 2024-08-12 16:30:01,636 Parameters: domain_right_edge         = [1. 2. 2.]\n"
     ]
    },
    {
     "name": "stdout",
     "output_type": "stream",
     "text": [
      "/Users/atcushen/Documents/MercuryModelling/runs/nightside_v1_run4/ta-2_rerun/3d_fluid_region0_2_t00000239_n00013583_amrex\n",
      "Plotting t 159.0\n"
     ]
    },
    {
     "name": "stderr",
     "output_type": "stream",
     "text": [
      "yt : [INFO     ] 2024-08-12 16:30:02,819 Parameters: current_time              = 159.20035095933218\n",
      "yt : [INFO     ] 2024-08-12 16:30:02,820 Parameters: domain_dimensions         = [320 256 256]\n",
      "yt : [INFO     ] 2024-08-12 16:30:02,820 Parameters: domain_left_edge          = [-4. -2. -2.]\n",
      "yt : [INFO     ] 2024-08-12 16:30:02,821 Parameters: domain_right_edge         = [1. 2. 2.]\n"
     ]
    },
    {
     "name": "stdout",
     "output_type": "stream",
     "text": [
      "/Users/atcushen/Documents/MercuryModelling/runs/nightside_v1_run4/ta-2_rerun/3d_fluid_region0_2_t00000239_n00013693_amrex\n",
      "Plotting t 159.2\n"
     ]
    },
    {
     "name": "stderr",
     "output_type": "stream",
     "text": [
      "yt : [INFO     ] 2024-08-12 16:30:04,001 Parameters: current_time              = 159.4004413898166\n",
      "yt : [INFO     ] 2024-08-12 16:30:04,002 Parameters: domain_dimensions         = [320 256 256]\n",
      "yt : [INFO     ] 2024-08-12 16:30:04,002 Parameters: domain_left_edge          = [-4. -2. -2.]\n",
      "yt : [INFO     ] 2024-08-12 16:30:04,003 Parameters: domain_right_edge         = [1. 2. 2.]\n"
     ]
    },
    {
     "name": "stdout",
     "output_type": "stream",
     "text": [
      "/Users/atcushen/Documents/MercuryModelling/runs/nightside_v1_run4/ta-2_rerun/3d_fluid_region0_2_t00000239_n00013802_amrex\n",
      "Plotting t 159.4\n"
     ]
    },
    {
     "name": "stderr",
     "output_type": "stream",
     "text": [
      "yt : [INFO     ] 2024-08-12 16:30:06,335 Parameters: current_time              = 159.60038979989375\n",
      "yt : [INFO     ] 2024-08-12 16:30:06,336 Parameters: domain_dimensions         = [320 256 256]\n",
      "yt : [INFO     ] 2024-08-12 16:30:06,337 Parameters: domain_left_edge          = [-4. -2. -2.]\n",
      "yt : [INFO     ] 2024-08-12 16:30:06,337 Parameters: domain_right_edge         = [1. 2. 2.]\n"
     ]
    },
    {
     "name": "stdout",
     "output_type": "stream",
     "text": [
      "/Users/atcushen/Documents/MercuryModelling/runs/nightside_v1_run4/ta-2_rerun/3d_fluid_region0_2_t00000239_n00013906_amrex\n",
      "Plotting t 159.6\n"
     ]
    },
    {
     "name": "stderr",
     "output_type": "stream",
     "text": [
      "yt : [INFO     ] 2024-08-12 16:30:07,495 Parameters: current_time              = 159.80021047280638\n",
      "yt : [INFO     ] 2024-08-12 16:30:07,496 Parameters: domain_dimensions         = [320 256 256]\n",
      "yt : [INFO     ] 2024-08-12 16:30:07,497 Parameters: domain_left_edge          = [-4. -2. -2.]\n",
      "yt : [INFO     ] 2024-08-12 16:30:07,497 Parameters: domain_right_edge         = [1. 2. 2.]\n"
     ]
    },
    {
     "name": "stdout",
     "output_type": "stream",
     "text": [
      "/Users/atcushen/Documents/MercuryModelling/runs/nightside_v1_run4/ta-2_rerun/3d_fluid_region0_2_t00000239_n00014008_amrex\n",
      "Plotting t 159.8\n"
     ]
    },
    {
     "name": "stderr",
     "output_type": "stream",
     "text": [
      "yt : [INFO     ] 2024-08-12 16:30:08,654 Parameters: current_time              = 160.0017268771368\n",
      "yt : [INFO     ] 2024-08-12 16:30:08,655 Parameters: domain_dimensions         = [320 256 256]\n",
      "yt : [INFO     ] 2024-08-12 16:30:08,656 Parameters: domain_left_edge          = [-4. -2. -2.]\n",
      "yt : [INFO     ] 2024-08-12 16:30:08,656 Parameters: domain_right_edge         = [1. 2. 2.]\n"
     ]
    },
    {
     "name": "stdout",
     "output_type": "stream",
     "text": [
      "/Users/atcushen/Documents/MercuryModelling/runs/nightside_v1_run4/ta-2_rerun/3d_fluid_region0_2_t00000240_n00014111_amrex\n",
      "Plotting t 160.0\n"
     ]
    },
    {
     "name": "stderr",
     "output_type": "stream",
     "text": [
      "yt : [INFO     ] 2024-08-12 16:30:09,832 Parameters: current_time              = 160.20036398432364\n",
      "yt : [INFO     ] 2024-08-12 16:30:09,833 Parameters: domain_dimensions         = [320 256 256]\n",
      "yt : [INFO     ] 2024-08-12 16:30:09,834 Parameters: domain_left_edge          = [-4. -2. -2.]\n",
      "yt : [INFO     ] 2024-08-12 16:30:09,834 Parameters: domain_right_edge         = [1. 2. 2.]\n"
     ]
    },
    {
     "name": "stdout",
     "output_type": "stream",
     "text": [
      "/Users/atcushen/Documents/MercuryModelling/runs/nightside_v1_run4/ta-2_rerun/3d_fluid_region0_2_t00000240_n00014215_amrex\n",
      "Plotting t 160.2\n"
     ]
    },
    {
     "name": "stderr",
     "output_type": "stream",
     "text": [
      "yt : [INFO     ] 2024-08-12 16:30:10,631 Parameters: current_time              = 160.4004859986046\n",
      "yt : [INFO     ] 2024-08-12 16:30:10,631 Parameters: domain_dimensions         = [320 256 256]\n",
      "yt : [INFO     ] 2024-08-12 16:30:10,632 Parameters: domain_left_edge          = [-4. -2. -2.]\n",
      "yt : [INFO     ] 2024-08-12 16:30:10,632 Parameters: domain_right_edge         = [1. 2. 2.]\n"
     ]
    },
    {
     "name": "stdout",
     "output_type": "stream",
     "text": [
      "/Users/atcushen/Documents/MercuryModelling/runs/nightside_v1_run4/ta-2_rerun/3d_fluid_region0_2_t00000240_n00014321_amrex\n",
      "Plotting t 160.4\n"
     ]
    },
    {
     "name": "stderr",
     "output_type": "stream",
     "text": [
      "yt : [INFO     ] 2024-08-12 16:30:11,820 Parameters: current_time              = 160.60101001323\n",
      "yt : [INFO     ] 2024-08-12 16:30:11,821 Parameters: domain_dimensions         = [320 256 256]\n",
      "yt : [INFO     ] 2024-08-12 16:30:11,821 Parameters: domain_left_edge          = [-4. -2. -2.]\n",
      "yt : [INFO     ] 2024-08-12 16:30:11,822 Parameters: domain_right_edge         = [1. 2. 2.]\n"
     ]
    },
    {
     "name": "stdout",
     "output_type": "stream",
     "text": [
      "/Users/atcushen/Documents/MercuryModelling/runs/nightside_v1_run4/ta-2_rerun/3d_fluid_region0_2_t00000240_n00014434_amrex\n",
      "Plotting t 160.6\n"
     ]
    },
    {
     "name": "stderr",
     "output_type": "stream",
     "text": [
      "yt : [INFO     ] 2024-08-12 16:30:12,982 Parameters: current_time              = 160.80022412601718\n",
      "yt : [INFO     ] 2024-08-12 16:30:12,983 Parameters: domain_dimensions         = [320 256 256]\n",
      "yt : [INFO     ] 2024-08-12 16:30:12,984 Parameters: domain_left_edge          = [-4. -2. -2.]\n",
      "yt : [INFO     ] 2024-08-12 16:30:12,984 Parameters: domain_right_edge         = [1. 2. 2.]\n"
     ]
    },
    {
     "name": "stdout",
     "output_type": "stream",
     "text": [
      "/Users/atcushen/Documents/MercuryModelling/runs/nightside_v1_run4/ta-2_rerun/3d_fluid_region0_2_t00000240_n00014548_amrex\n",
      "Plotting t 160.8\n"
     ]
    },
    {
     "name": "stderr",
     "output_type": "stream",
     "text": [
      "yt : [INFO     ] 2024-08-12 16:30:14,143 Parameters: current_time              = 161.00062633522717\n",
      "yt : [INFO     ] 2024-08-12 16:30:14,144 Parameters: domain_dimensions         = [320 256 256]\n",
      "yt : [INFO     ] 2024-08-12 16:30:14,144 Parameters: domain_left_edge          = [-4. -2. -2.]\n",
      "yt : [INFO     ] 2024-08-12 16:30:14,145 Parameters: domain_right_edge         = [1. 2. 2.]\n"
     ]
    },
    {
     "name": "stdout",
     "output_type": "stream",
     "text": [
      "/Users/atcushen/Documents/MercuryModelling/runs/nightside_v1_run4/ta-2_rerun/3d_fluid_region0_2_t00000241_n00014662_amrex\n",
      "Plotting t 161.0\n"
     ]
    },
    {
     "name": "stderr",
     "output_type": "stream",
     "text": [
      "yt : [INFO     ] 2024-08-12 16:30:15,303 Parameters: current_time              = 161.20159312145864\n",
      "yt : [INFO     ] 2024-08-12 16:30:15,304 Parameters: domain_dimensions         = [320 256 256]\n",
      "yt : [INFO     ] 2024-08-12 16:30:15,305 Parameters: domain_left_edge          = [-4. -2. -2.]\n",
      "yt : [INFO     ] 2024-08-12 16:30:15,305 Parameters: domain_right_edge         = [1. 2. 2.]\n"
     ]
    },
    {
     "name": "stdout",
     "output_type": "stream",
     "text": [
      "/Users/atcushen/Documents/MercuryModelling/runs/nightside_v1_run4/ta-2_rerun/3d_fluid_region0_2_t00000241_n00014773_amrex\n",
      "Plotting t 161.2\n"
     ]
    },
    {
     "name": "stderr",
     "output_type": "stream",
     "text": [
      "yt : [INFO     ] 2024-08-12 16:30:16,467 Parameters: current_time              = 161.40004097740288\n",
      "yt : [INFO     ] 2024-08-12 16:30:16,468 Parameters: domain_dimensions         = [320 256 256]\n",
      "yt : [INFO     ] 2024-08-12 16:30:16,469 Parameters: domain_left_edge          = [-4. -2. -2.]\n",
      "yt : [INFO     ] 2024-08-12 16:30:16,469 Parameters: domain_right_edge         = [1. 2. 2.]\n"
     ]
    },
    {
     "name": "stdout",
     "output_type": "stream",
     "text": [
      "/Users/atcushen/Documents/MercuryModelling/runs/nightside_v1_run4/ta-2_rerun/3d_fluid_region0_2_t00000241_n00014888_amrex\n",
      "Plotting t 161.4\n"
     ]
    },
    {
     "name": "stderr",
     "output_type": "stream",
     "text": [
      "yt : [INFO     ] 2024-08-12 16:30:17,618 Parameters: current_time              = 161.60108523315856\n",
      "yt : [INFO     ] 2024-08-12 16:30:17,619 Parameters: domain_dimensions         = [320 256 256]\n",
      "yt : [INFO     ] 2024-08-12 16:30:17,620 Parameters: domain_left_edge          = [-4. -2. -2.]\n",
      "yt : [INFO     ] 2024-08-12 16:30:17,620 Parameters: domain_right_edge         = [1. 2. 2.]\n"
     ]
    },
    {
     "name": "stdout",
     "output_type": "stream",
     "text": [
      "/Users/atcushen/Documents/MercuryModelling/runs/nightside_v1_run4/ta-2_rerun/3d_fluid_region0_2_t00000241_n00015006_amrex\n",
      "Plotting t 161.6\n"
     ]
    },
    {
     "name": "stderr",
     "output_type": "stream",
     "text": [
      "yt : [INFO     ] 2024-08-12 16:30:18,768 Parameters: current_time              = 161.8016788912216\n",
      "yt : [INFO     ] 2024-08-12 16:30:18,768 Parameters: domain_dimensions         = [320 256 256]\n",
      "yt : [INFO     ] 2024-08-12 16:30:18,769 Parameters: domain_left_edge          = [-4. -2. -2.]\n",
      "yt : [INFO     ] 2024-08-12 16:30:18,770 Parameters: domain_right_edge         = [1. 2. 2.]\n"
     ]
    },
    {
     "name": "stdout",
     "output_type": "stream",
     "text": [
      "/Users/atcushen/Documents/MercuryModelling/runs/nightside_v1_run4/ta-2_rerun/3d_fluid_region0_2_t00000241_n00015123_amrex\n",
      "Plotting t 161.8\n"
     ]
    },
    {
     "name": "stderr",
     "output_type": "stream",
     "text": [
      "yt : [INFO     ] 2024-08-12 16:30:19,916 Parameters: current_time              = 162.00047034304666\n",
      "yt : [INFO     ] 2024-08-12 16:30:19,917 Parameters: domain_dimensions         = [320 256 256]\n",
      "yt : [INFO     ] 2024-08-12 16:30:19,918 Parameters: domain_left_edge          = [-4. -2. -2.]\n",
      "yt : [INFO     ] 2024-08-12 16:30:19,918 Parameters: domain_right_edge         = [1. 2. 2.]\n"
     ]
    },
    {
     "name": "stdout",
     "output_type": "stream",
     "text": [
      "/Users/atcushen/Documents/MercuryModelling/runs/nightside_v1_run4/ta-2_rerun/3d_fluid_region0_2_t00000242_n00015236_amrex\n",
      "Plotting t 162.0\n"
     ]
    },
    {
     "name": "stderr",
     "output_type": "stream",
     "text": [
      "yt : [INFO     ] 2024-08-12 16:30:22,209 Parameters: current_time              = 162.20092202846024\n",
      "yt : [INFO     ] 2024-08-12 16:30:22,209 Parameters: domain_dimensions         = [320 256 256]\n",
      "yt : [INFO     ] 2024-08-12 16:30:22,210 Parameters: domain_left_edge          = [-4. -2. -2.]\n",
      "yt : [INFO     ] 2024-08-12 16:30:22,211 Parameters: domain_right_edge         = [1. 2. 2.]\n"
     ]
    },
    {
     "name": "stdout",
     "output_type": "stream",
     "text": [
      "/Users/atcushen/Documents/MercuryModelling/runs/nightside_v1_run4/ta-2_rerun/3d_fluid_region0_2_t00000242_n00015349_amrex\n",
      "Plotting t 162.2\n"
     ]
    },
    {
     "name": "stderr",
     "output_type": "stream",
     "text": [
      "yt : [INFO     ] 2024-08-12 16:30:23,364 Parameters: current_time              = 162.40032364131034\n",
      "yt : [INFO     ] 2024-08-12 16:30:23,365 Parameters: domain_dimensions         = [320 256 256]\n",
      "yt : [INFO     ] 2024-08-12 16:30:23,366 Parameters: domain_left_edge          = [-4. -2. -2.]\n",
      "yt : [INFO     ] 2024-08-12 16:30:23,366 Parameters: domain_right_edge         = [1. 2. 2.]\n"
     ]
    },
    {
     "name": "stdout",
     "output_type": "stream",
     "text": [
      "/Users/atcushen/Documents/MercuryModelling/runs/nightside_v1_run4/ta-2_rerun/3d_fluid_region0_2_t00000242_n00015456_amrex\n",
      "Plotting t 162.4\n"
     ]
    },
    {
     "name": "stderr",
     "output_type": "stream",
     "text": [
      "yt : [INFO     ] 2024-08-12 16:30:24,521 Parameters: current_time              = 162.60174904213093\n",
      "yt : [INFO     ] 2024-08-12 16:30:24,522 Parameters: domain_dimensions         = [320 256 256]\n",
      "yt : [INFO     ] 2024-08-12 16:30:24,523 Parameters: domain_left_edge          = [-4. -2. -2.]\n",
      "yt : [INFO     ] 2024-08-12 16:30:24,523 Parameters: domain_right_edge         = [1. 2. 2.]\n"
     ]
    },
    {
     "name": "stdout",
     "output_type": "stream",
     "text": [
      "/Users/atcushen/Documents/MercuryModelling/runs/nightside_v1_run4/ta-2_rerun/3d_fluid_region0_2_t00000242_n00015562_amrex\n",
      "Plotting t 162.6\n"
     ]
    },
    {
     "name": "stderr",
     "output_type": "stream",
     "text": [
      "yt : [INFO     ] 2024-08-12 16:30:25,699 Parameters: current_time              = 162.8012307795129\n",
      "yt : [INFO     ] 2024-08-12 16:30:25,700 Parameters: domain_dimensions         = [320 256 256]\n",
      "yt : [INFO     ] 2024-08-12 16:30:25,701 Parameters: domain_left_edge          = [-4. -2. -2.]\n",
      "yt : [INFO     ] 2024-08-12 16:30:25,701 Parameters: domain_right_edge         = [1. 2. 2.]\n"
     ]
    },
    {
     "name": "stdout",
     "output_type": "stream",
     "text": [
      "/Users/atcushen/Documents/MercuryModelling/runs/nightside_v1_run4/ta-2_rerun/3d_fluid_region0_2_t00000242_n00015664_amrex\n",
      "Plotting t 162.8\n"
     ]
    },
    {
     "name": "stderr",
     "output_type": "stream",
     "text": [
      "yt : [INFO     ] 2024-08-12 16:30:26,861 Parameters: current_time              = 163.0014573684784\n",
      "yt : [INFO     ] 2024-08-12 16:30:26,862 Parameters: domain_dimensions         = [320 256 256]\n",
      "yt : [INFO     ] 2024-08-12 16:30:26,863 Parameters: domain_left_edge          = [-4. -2. -2.]\n",
      "yt : [INFO     ] 2024-08-12 16:30:26,863 Parameters: domain_right_edge         = [1. 2. 2.]\n"
     ]
    },
    {
     "name": "stdout",
     "output_type": "stream",
     "text": [
      "/Users/atcushen/Documents/MercuryModelling/runs/nightside_v1_run4/ta-2_rerun/3d_fluid_region0_2_t00000243_n00015765_amrex\n",
      "Plotting t 163.0\n"
     ]
    },
    {
     "name": "stderr",
     "output_type": "stream",
     "text": [
      "yt : [INFO     ] 2024-08-12 16:30:28,021 Parameters: current_time              = 163.200980449134\n",
      "yt : [INFO     ] 2024-08-12 16:30:28,021 Parameters: domain_dimensions         = [320 256 256]\n",
      "yt : [INFO     ] 2024-08-12 16:30:28,022 Parameters: domain_left_edge          = [-4. -2. -2.]\n",
      "yt : [INFO     ] 2024-08-12 16:30:28,023 Parameters: domain_right_edge         = [1. 2. 2.]\n"
     ]
    },
    {
     "name": "stdout",
     "output_type": "stream",
     "text": [
      "/Users/atcushen/Documents/MercuryModelling/runs/nightside_v1_run4/ta-2_rerun/3d_fluid_region0_2_t00000243_n00015868_amrex\n",
      "Plotting t 163.2\n"
     ]
    }
   ],
   "source": [
    "#########################\n",
    "\n",
    "# High-level user input\n",
    "dir = \"/Users/atcushen/Documents/MercuryModelling/runs/nightside_v1_run4/ta-2_rerun/\"    # Directory with data \n",
    "start_time = 135                                                # What is the start time of the dataset?\n",
    "t_bound = [135,303]                                               # Start and stop times for the GIF\n",
    "dt = 0.2                                                     # What is the timestep between files?\n",
    "\n",
    "'''\n",
    "Choose plot type from existing presets;\n",
    "\n",
    "\"pic_E_y\":  flow vectors and duskward convective field\n",
    "Recommended settings: (xy)\n",
    "xlims=[-2.2,0.2]\n",
    "ylims=[-1.2,1.2]\n",
    "shape=[160,160]\n",
    "\n",
    "\"pic_dipolarization_zoom\": pressure and field lines to show particular dipolarization event in detail\n",
    "Recommended settings: (xz)\n",
    "xlims=[-3,-0.75]\n",
    "ylims=[-0.5,1.0]\n",
    "shape=[225,150] \n",
    "\n",
    "\"pic_Jy\": find xz line of the current sheet (xz)\n",
    "Recommended settings: (xz)\n",
    "xlims=[-3,-0.75]\n",
    "ylims=[-0.5,1.0]\n",
    "shape=[225,150] \n",
    "\n",
    "\"pic_currentsheet\": eletric field and Bz in current sheet\n",
    "Recommended settings: (xz)\n",
    "xlims=[-3.5,0.2]\n",
    "ylims=[-1.2,1.2]\n",
    "shape=[160,160] \n",
    "\n",
    "\"bz1\": perturbation magnetic field in near-planet current sheet (xy)\n",
    "xlims=[-2.4,-0.4]\n",
    "ylims=[-1,1]\n",
    "shape=[200,200] \n",
    "\n",
    "\"pressure_anisotropy\": plot of pressure difference between perpendicular and parallel\n",
    "xlims=[-2.4,-0.4]\n",
    "ylims=[-1,1]\n",
    "shape=[200,200] \n",
    "\n",
    "\"pic_currentsheet2\": just bz in the current sheet (xy)\n",
    "xlims=[-2.2,0.2]\n",
    "ylims=[-1.2,1.2]\n",
    "shape=[160,160] \n",
    "'''\n",
    "\n",
    "plot_preset = \"pic_Jy\"\n",
    "slice = \"xz\"                                                   # Set plane of slice (\"xy\" or \"xz\") or \"sphere\" for particle psd\n",
    "data_type = \"fluid\" # \"cut\" or \"fluid\"\n",
    "particle_type = \"ion\" # Either \"ion\" or \"electron\"; relevant for choosing which pressure tensor to display for \"pressure_anisotropy\"\n",
    "z_plane = 0.35\n",
    "\n",
    "# Grid settings/location of particle sphere\n",
    "xlims=[-3,-0.75]\n",
    "ylims=[-0.5,1.0]\n",
    "shape=[225,150] \n",
    "loc = [-1.0,0,0.2] # location of particle sphere\n",
    "a = 0.1 # radius of particle sphere\n",
    "\n",
    "#########################\n",
    "\n",
    "# First, get list of files in directory\n",
    "all_files = [os.path.join(dir, o) for o in os.listdir(dir) \n",
    "                    if os.path.isdir(os.path.join(dir,o))]\n",
    "\n",
    "# Then use regex to pick out only the files we want \n",
    "files=[]\n",
    "for file in all_files:\n",
    "    if data_type==\"fluid\":\n",
    "        match = re.search(str(dir+\"3d_fluid_region0_.*\"),file)\n",
    "        if match != None:\n",
    "            files.append(file)\n",
    "    elif data_type==\"cut\":\n",
    "        match = re.search(str(dir+\"cut_particle_region0.*\"),file)\n",
    "        if match != None:\n",
    "            files.append(file)\n",
    "files.sort()\n",
    "files = files\n",
    "print(str(len(files)),\"files recognized!\")\n",
    "\n",
    "# Make a dictionary with better names for the files:\n",
    "named_files = {}\n",
    "for i in range(len(files)):\n",
    "    time = round(i*dt+start_time,3)\n",
    "    named_files[time] = files[i]\n",
    "\n",
    "# Define utility functions\n",
    "def get_grad(slice,i_coords,j_coords):\n",
    "    # Input: a numpy-format slice of the data, in the right orientation such that imshow / contourf works correctly. \n",
    "    # Also pass dc.x.value, dc.y.value to give the i / j coords.\n",
    "    # Output: the gradient of the parameter, in the i / j direction (i.e. x,y or x,z), whichever plane the slice is in.\n",
    "    \n",
    "    # Extract the j and i dimensions \n",
    "    j_size,i_size = slice.shape\n",
    "\n",
    "    # Find step size\n",
    "    di = i_coords[1]-i_coords[0]\n",
    "    dj = j_coords[1]-j_coords[0]\n",
    "\n",
    "    # Define empty arrays to save output to\n",
    "    d_di = np.zeros_like(slice)\n",
    "    d_dj = np.zeros_like(slice)\n",
    "\n",
    "    # First past compute gradient (error: huge gradients at edge of boundary e.g bz drops to 0 at inner edge in one cell)\n",
    "    #d_di,d_dj = np.gradient(slice,di,dj)\n",
    "\n",
    "    # Begin gradient computation loop\n",
    "    for j in range(1,j_size-1):\n",
    "        for i in range(1,i_size-1):\n",
    "            # Compute d_di:\n",
    "            d_di[j,i] = (slice[j,i+1] - slice[j,i-1]) / (2*di)\n",
    "            # Compute d_dj:\n",
    "            d_dj[j,i] = (slice[j+1,i] - slice[j-1,i]) / (2*dj)\n",
    "\n",
    "    # Fix large gradients at edges of pic domain\n",
    "    for j in range(1,j_size-1):\n",
    "        for i in range(1,i_size-1):\n",
    "            if slice[j,i]==0 and slice[j,i+1]!=0: # left edge\n",
    "                d_di[j,i] = 0 # set gradient outside pic to 0\n",
    "                d_dj[j,i] = 0\n",
    "                d_di[j,i+1] = d_di[j,i+2] # set outermost cell gradient to same value as one further in\n",
    "                d_dj[j,i+1] = d_dj[j,i+2]\n",
    "            if slice[j,i]==0 and slice[j,i-1]!=0: # right edge\n",
    "                d_di[j,i] = 0 \n",
    "                d_dj[j,i] = 0\n",
    "                d_di[j,i-1] = d_di[j,i-2] \n",
    "                d_dj[j,i-1] = d_dj[j,i-2]\n",
    "            if slice[j,i]==0 and slice[j+1,i]!=0: # bottom edge\n",
    "                d_di[j,i] = 0 \n",
    "                d_dj[j,i] = 0\n",
    "                d_di[j+1,i] = d_di[j+2,i] \n",
    "                d_dj[j+1,i] = d_dj[j+2,i]\n",
    "            if slice[j,i]==0 and slice[j-1,i]!=0: # top edge\n",
    "                d_di[j,i] = 0 \n",
    "                d_dj[j,i] = 0\n",
    "                d_di[j-1,i] = d_di[j-2,i] \n",
    "                d_dj[j-1,i] = d_dj[j-2,i]\n",
    "            #print(\"Value:\",slice[j,i],\"X:\",i_coords[i],\"Z:\",j_coords[j])\n",
    "    \n",
    "    return d_di,d_dj\n",
    "\n",
    "def gauss(x, *p): #gaussian function used for some fitting\n",
    "    A, mu, sigma = p\n",
    "    return A*np.exp(-(x-mu)**2/(2.*sigma**2))\n",
    "\n",
    "# Loop over each file, pull the data, make the plots, and save as .pngs in /frames\n",
    "for time in list(named_files.keys())[int((t_bound[0]-start_time)/dt):int((t_bound[1]-start_time)/dt)]: #only loop over the times within t_bound\n",
    "    filename = str(named_files[time])\n",
    "    print(filename)\n",
    "    ds = fleks.load(filename)\n",
    "    if slice==\"xy\":\n",
    "        dc = ds.get_slice(\"z\",z_plane)\n",
    "        #print(dc)\n",
    "    elif slice==\"xz\":\n",
    "        dc = ds.get_slice(\"y\",0.0)\n",
    "    elif slice==\"sphere\":\n",
    "        ds.add_field((\"particle\", \"unit_one\"), function=_unit_one, sampling_type='particle')\n",
    "    \n",
    "    # Plot!!\n",
    "\n",
    "    # Use preset\n",
    "    if plot_preset == \"pic_E_y\":\n",
    "        fig, ax = plt.subplots(figsize=(10,10))\n",
    "        inner = plt.Circle((0, 0), 0.8, color='black')\n",
    "        outer = plt.Circle((0, 0), 1, color='grey')\n",
    "        print(\"Plotting t\",time)\n",
    "        v = dc.evaluate_expression(\"Ey\")\n",
    "        ux = np.array(dc.evaluate_expression(\"uxS1\").T)\n",
    "        uy = np.array(dc.evaluate_expression(\"uyS1\").T)\n",
    "        vmin = v.min().v\n",
    "        vmax = v.max().v\n",
    "        nlevels = 200 \n",
    "        levels = np.linspace(-50, 50, nlevels)\n",
    "        cs = ax.contourf(dc.x.value, dc.y.value, np.array(v.T)/1e3, levels=levels, cmap='bwr')\n",
    "        ticks = get_ticks(-50, 50)\n",
    "        clb = fig.colorbar(cs, ax=ax,ticks=ticks)            \n",
    "        clb.ax.set_yticks(ticks)    \n",
    "        clb.ax.tick_params(labelsize=8)\n",
    "        clb.ax.set_title('$E_y$ [mV/m]',fontsize=12)\n",
    "        quiver_skip=10\n",
    "        ax.quiver(dc.x.value[::quiver_skip], dc.y.value[::quiver_skip],ux[::quiver_skip,::quiver_skip], uy[::quiver_skip,::quiver_skip],color=\"grey\")\n",
    "        ax.set_aspect(1) # you may also use am.imshow(..., aspect=\"auto\") to restore the aspect ratio\n",
    "        ax.set_xlabel(\"X [$R_M$]\")\n",
    "        ax.set_ylabel(\"Y [$R_M$]\")\n",
    "        ax.add_patch(outer)\n",
    "        ax.add_patch(inner)\n",
    "        ax.set_xlim(xlims)\n",
    "        ax.set_ylim(ylims)\n",
    "        ax.set_title(str(\"Convection field at t=\"+str(round(time,2))+\"s\"))\n",
    "        fig.show()\n",
    "\n",
    "    elif plot_preset == \"pic_dipolarization_zoom\":\n",
    "        fig, ax = plt.subplots(figsize=(12,7))\n",
    "        inner = plt.Circle((0, 0), 0.8, color='black')\n",
    "        outer = plt.Circle((0, 0), 1, color='grey')\n",
    "        print(\"Plotting t\",time)\n",
    "        Bx = dc.evaluate_expression(\"Bx\")\n",
    "        P = dc.evaluate_expression(\"pxxS1\")+dc.evaluate_expression(\"pyyS1\")+dc.evaluate_expression(\"pzzS1\")+dc.evaluate_expression(\"pxxS0\")+dc.evaluate_expression(\"pyyS0\")+dc.evaluate_expression(\"pzzS0\")\n",
    "        Bz = dc.evaluate_expression(\"Bz\")\n",
    "        vmin = -2\n",
    "        vmax = 1.5\n",
    "        nlevels = 21 \n",
    "        levels=np.logspace(vmin,vmax,nlevels)\n",
    "        cs = ax.contourf(dc.x.value, dc.y.value, np.array(P.T),levels=levels,norm = LogNorm())#norm=mpl.colors.LogNorm(vmin=vmin,vmax=vmax))#, cmap='bwr')\n",
    "\n",
    "        start_points = np.zeros([40,2])\n",
    "        start_points[:,0]=np.linspace(xlims[0],xlims[1],40)\n",
    "        start_points[:,1]=0.5 - np.linspace(0,0.1,40)\n",
    "        \n",
    "        ax.streamplot(dc.x.value,dc.y.value, np.array(Bx.T),np.array(Bz.T),color='white',linewidth=0.5,broken_streamlines=False,arrowsize=0.5,\n",
    "                      start_points=start_points)\n",
    "        formatter = LogFormatter(10, labelOnlyBase=False) \n",
    "        clb = fig.colorbar(cs, ax=ax,norm=LogNorm())#, format=formatter)            \n",
    "        clb.locator = LogLocator()\n",
    "        clb.formatter = LogFormatterSciNotation()\n",
    "        clb.ax.set_title('p [nPa]',fontsize=12)\n",
    "        ax.set_aspect(1) # you may also use am.imshow(..., aspect=\"auto\") to restore the aspect ratio\n",
    "        ax.set_xlabel(\"X [$R_M$]\")\n",
    "        ax.set_ylabel(\"Z [$R_M$]\")\n",
    "        ax.add_patch(outer)\n",
    "        ax.add_patch(inner)\n",
    "        ax.set_xlim(xlims)\n",
    "        ax.set_ylim(ylims)\n",
    "        ax.set_title(str(\"Plasma pressure at t=\"+str(round(time,2))+\"s\"))\n",
    "        fig.show()\n",
    "\n",
    "    elif plot_preset == \"pic_Jy\":\n",
    "        # Set up plot environment\n",
    "        fig, ax = plt.subplots(figsize=(12,7))\n",
    "        inner = plt.Circle((0, 0), 0.8, color='black')\n",
    "        outer = plt.Circle((0, 0), 1, color='grey')\n",
    "        print(\"Plotting t\",time)\n",
    "\n",
    "        # Read in B field data\n",
    "        Bx = np.array(dc.evaluate_expression(\"Bx\").T)\n",
    "        Bz = np.array(dc.evaluate_expression(\"Bz\").T)\n",
    "\n",
    "        # Compute B-field gradients, converting from nT/R_M to T/m\n",
    "        dBx_dx, dBx_dz = get_grad(Bx*1e-9/R_M,dc.x.value, dc.y.value)\n",
    "        dBz_dx, dBz_dz = get_grad(Bz*1e-9/R_M,dc.x.value, dc.y.value)\n",
    "\n",
    "        # Compute curl [mA / m^2]\n",
    "        Jy = (dBx_dz-dBz_dx) / mu_0 * 1e6\n",
    "\n",
    "        # Find line-of-best-fit for region -3<x<-1.2\n",
    "        x_cs = dc.x.value[dc.x.value>-2.2] # First, get x array\n",
    "        x_cs = x_cs[x_cs<-1.7]\n",
    "        y_cs = np.zeros_like(x_cs) # Declare empty y array, which will be used to save y value of current layer center\n",
    "        for i in range(len(x_cs)): # Iterate over each x bin\n",
    "            # Get the x index for this bin\n",
    "            xi = np.where(dc.x.value == x_cs[i])\n",
    "            # Fit a gaussian to each y / Jy profile, and extract the y coord of the max\n",
    "            coeff, var_matrix = curve_fit(gauss, dc.y.value, Jy[:,xi].flatten(), p0=[1.,0.,1.])\n",
    "            fit = gauss(dc.y.value, *coeff)\n",
    "            #plt.plot(dc.y.value, Jy[:,xi].flatten(), label='Test data')\n",
    "            #plt.plot(dc.y.value, fit, label='Fitted data')\n",
    "            #plt.show()\n",
    "            y_cs[i] = dc.y.value[np.argmax(fit)]\n",
    "        slope, intercept, r_value, p_value, std_err = stats.linregress(x_cs,y_cs)\n",
    "\n",
    "        # Colorplot\n",
    "        vmin = -0.5\n",
    "        vmax = 0.5\n",
    "        nlevels = 51 \n",
    "        levels = np.linspace(vmin, vmax, nlevels)\n",
    "        cs = ax.contourf(dc.x.value, dc.y.value, Jy, levels=levels, cmap='bwr')\n",
    "\n",
    "        # Add Jy line of best fit\n",
    "        ax.plot(dc.x.value, slope*dc.x.value+intercept,linestyle=\"dashed\",linewidth=3,alpha=0.5,color=\"black\")\n",
    "\n",
    "        # Add colorbar\n",
    "        clb = fig.colorbar(cs, ax=ax)\n",
    "        clb.ax.set_title('$J_y$ [mA/m$^2$]',fontsize=12)\n",
    "\n",
    "        # Configure plot plane\n",
    "        ax.set_aspect(1) # you may also use am.imshow(..., aspect=\"auto\") to restore the aspect ratio\n",
    "        ax.set_xlabel(\"X [$R_M$]\")\n",
    "        ax.set_ylabel(\"Z [$R_M$]\")\n",
    "        ax.add_patch(outer)\n",
    "        ax.add_patch(inner)\n",
    "        ax.set_xlim(xlims)\n",
    "        ax.set_ylim(ylims)\n",
    "        ax.set_title(str(\"Current density at t=\"+str(round(time,2))+\"s\"))\n",
    "        fig.show()\n",
    "\n",
    "    elif plot_preset == \"pic_currentsheet\":\n",
    "        fig, ax = plt.subplots(ncols=2,figsize=(25,10))\n",
    "        inner = plt.Circle((0, 0), 0.8, color='black')\n",
    "        outer = plt.Circle((0, 0), 1, color='grey')\n",
    "\n",
    "        #plot v\n",
    "        v = np.sqrt(dc.evaluate_expression(\"uxS1\")**2 + dc.evaluate_expression(\"uyS1\")**2)\n",
    "        ux = np.array(dc.evaluate_expression(\"uxS1\").T)\n",
    "        uy = np.array(dc.evaluate_expression(\"uyS1\").T)\n",
    "        vmin = v.min().v\n",
    "        vmax = v.max().v\n",
    "        nlevels = 200 \n",
    "        levels = np.logspace(0, 3, nlevels)\n",
    "        cs = ax[0].contourf(dc.x.value, dc.y.value, np.array(v.T),levels=levels, cmap='rainbow',locator=ticker.LogLocator())\n",
    "        clb0 = fig.colorbar(cs, ax=ax[0])                   \n",
    "        clb0.ax.tick_params(labelsize=8)\n",
    "        clb0.ax.set_title('$V$ [R$_M$/s]',fontsize=12)\n",
    "        quiver_skip=10\n",
    "        ax[0].quiver(dc.x.value[::quiver_skip], dc.y.value[::quiver_skip],ux[::quiver_skip,::quiver_skip], uy[::quiver_skip,::quiver_skip],color=\"grey\")\n",
    "        ax[0].set_aspect(1) # you may also use am.imshow(..., aspect=\"auto\") to restore the aspect ratio\n",
    "        ax[0].set_xlabel(\"X [$R_M$]\")\n",
    "        ax[0].set_ylabel(\"Y [$R_M$]\")\n",
    "        ax[0].add_patch(outer)\n",
    "        ax[0].add_patch(inner)\n",
    "        ax[0].set_xlim(xlims)\n",
    "        ax[0].set_ylim(ylims)\n",
    "        ax[0].set_title(str(\"Convection field at t=\"+str(round(time,2))+\"s\"))\n",
    "\n",
    "        #plot B\n",
    "        inner = plt.Circle((0, 0), 0.8, color='black')\n",
    "        outer = plt.Circle((0, 0), 1, color='grey')\n",
    "        Bx = dc.evaluate_expression(\"Bx\")\n",
    "        Bz = dc.evaluate_expression(\"Bz\")\n",
    "        vmin = -100\n",
    "        vmax = 100\n",
    "        nlevels = 200 \n",
    "        levels = np.linspace(vmin, vmax, nlevels)\n",
    "        cs = ax[1].contourf(dc.x.value, dc.y.value, np.array(Bz.T), levels=levels, cmap='bwr')\n",
    "        \n",
    "        ticks = get_ticks(vmin, vmax)\n",
    "        clb1 = fig.colorbar(cs, ax=ax[1],ticks=ticks)            \n",
    "        clb1.ax.set_yticks(ticks)    \n",
    "        clb1.ax.tick_params(labelsize=8)\n",
    "        clb1.ax.set_title('$B_z$ [nT]',fontsize=12)\n",
    "        ax[1].set_aspect(1) # you may also use am.imshow(..., aspect=\"auto\") to restore the aspect ratio\n",
    "        ax[1].set_xlabel(\"X [$R_M$]\")\n",
    "        ax[1].set_ylabel(\"Y [$R_M$]\")\n",
    "        ax[1].add_patch(outer)\n",
    "        ax[1].add_patch(inner)\n",
    "        ax[1].set_xlim(xlims)\n",
    "        ax[1].set_ylim(ylims)\n",
    "        ax[1].set_title(str(\"$B_z$ at t=\"+str(round(time,2))+\"s\"))\n",
    "\n",
    "    elif plot_preset == \"particles_uxuy\":\n",
    "        # broken for many reasons, and the particle data is featureless anyway.\n",
    "        sp = ds.sphere(loc,a)\n",
    "        plot = ds.plot_phase_region(sp, 'p_ux', 'p_uz', z_field,\n",
    "                            unit_type=\"planet\", x_bins=64, y_bins=64,domain_size=(-2550, 2550, -2550, 2550))\n",
    "        #plot.set_colorbar_label(plot.fields[0], \"Ion count\")\n",
    "        for var_name in plot.profile.field_data: \n",
    "            val = plot.profile.field_data[var_name] \n",
    "    \n",
    "        x = plot.profile.x\n",
    "        y = plot.profile.y\n",
    "\n",
    "        fig, ax = plt.subplots(figsize=(10,10))\n",
    "        im = ax.contourf(x,y,val,20,vmin = 0,vmax=700)\n",
    "        im.set_clim(0,700)\n",
    "        clb=fig.colorbar(im)\n",
    "\n",
    "    elif plot_preset == \"pic_currentsheet2\":\n",
    "        fig, ax = plt.subplots(figsize=(10,10))\n",
    "        inner = plt.Circle((0, 0), 0.8, color='black')\n",
    "        outer = plt.Circle((0, 0), 1, color='grey')\n",
    "        print(\"Plotting t\",time)\n",
    "        Bz = dc.evaluate_expression(\"Bz\")\n",
    "        vmin = -100\n",
    "        vmax = 100\n",
    "        nlevels = 200 \n",
    "        levels = np.linspace(vmin, vmax, nlevels)\n",
    "        cs = ax.contourf(dc.x.value, dc.y.value, np.array(Bz.T), levels=levels, cmap='bwr')\n",
    "\n",
    "        # Add minor ticks for grid\n",
    "        x_major_ticks = np.arange(xlims[0], xlims[1], 0.2)\n",
    "        x_minor_ticks = np.arange(xlims[0], xlims[1], 0.05)\n",
    "        y_major_ticks = np.arange(ylims[0], ylims[1], 0.2)\n",
    "        y_minor_ticks = np.arange(ylims[0], ylims[1], 0.05)\n",
    "\n",
    "        ax.set_xticks(x_major_ticks)\n",
    "        ax.set_xticks(x_minor_ticks, minor=True)\n",
    "        ax.set_yticks(y_major_ticks)\n",
    "        ax.set_yticks(y_minor_ticks, minor=True)\n",
    "\n",
    "        ax.grid(which='both')\n",
    "        ax.grid(which='minor', alpha=0.2)\n",
    "        ax.grid(which='major', alpha=0.5)\n",
    "        \n",
    "        ticks = get_ticks(vmin, vmax)\n",
    "        clb = fig.colorbar(cs, ax=ax,ticks=ticks)            \n",
    "        clb.ax.set_yticks(ticks)    \n",
    "        clb.ax.tick_params(labelsize=8)\n",
    "        clb.ax.set_title('$B_z$ [nT]',fontsize=12)\n",
    "        ax.set_aspect(1) # you may also use am.imshow(..., aspect=\"auto\") to restore the aspect ratio\n",
    "        ax.set_xlabel(\"X [$R_M$]\")\n",
    "        ax.set_ylabel(\"Y [$R_M$]\")\n",
    "        ax.add_patch(outer)\n",
    "        ax.add_patch(inner)\n",
    "        ax.set_xlim(xlims)\n",
    "        ax.set_ylim(ylims)\n",
    "        ax.set_title(str(\"$B_{z}$ at t=\"+str(round(time,2))+\"s\"+\"   z = \"+str(z_plane)))\n",
    "        fig.show()\n",
    "\n",
    "    elif plot_preset == \"bz1\":\n",
    "        fig, ax = plt.subplots(figsize=(10,10))\n",
    "        inner = plt.Circle((0, 0), 0.8, color='black')\n",
    "        outer = plt.Circle((0, 0), 1, color='grey')\n",
    "        print(\"Plotting t\",time)\n",
    "\n",
    "        # Extract Bz and remove units\n",
    "        Bz_temp = dc.evaluate_expression(\"Bz\")\n",
    "        Bz = np.zeros(Bz_temp.shape)\n",
    "        Bz[:,:] = Bz_temp[:,:]\n",
    "\n",
    "        # Define meshgrids\n",
    "        xx,yy = np.meshgrid(dc.x.value, dc.y.value)\n",
    "\n",
    "        #Compute Bz1 \n",
    "        #First compute dipole field strength, from https://ccmc.gsfc.nasa.gov/static/files/Dipole.pdf\n",
    "        Bz_dip = - 200.9 * (3*z_plane**2 - (xx**2+yy**2+z_plane**2))/((xx**2+yy**2+z_plane**2)**(5/2))\n",
    "        # Then subtract this from modeled bz\n",
    "        Bz1 = Bz.T - Bz_dip\n",
    "        \n",
    "        vmin = -100#-100\n",
    "        vmax = 20\n",
    "        nlevels = 91 \n",
    "        levels = np.linspace(vmin, vmax, nlevels)\n",
    "        \n",
    "        cs1 = ax.contourf(dc.x.value, dc.y.value, np.array(Bz1), cmap = 'viridis',levels=levels) #,cmap='bwr')\n",
    "        cs2 = ax.contour(dc.x.value, dc.y.value, np.array(Bz.T),levels=[0],colors=\"white\",linewidths=1) #,cmap='bwr')\n",
    "\n",
    "        # Add minor ticks for grid\n",
    "        x_major_ticks = np.arange(xlims[0], xlims[1], 0.2)\n",
    "        x_minor_ticks = np.arange(xlims[0], xlims[1], 0.05)\n",
    "        y_major_ticks = np.arange(ylims[0], ylims[1], 0.2)\n",
    "        y_minor_ticks = np.arange(ylims[0], ylims[1], 0.05)\n",
    "\n",
    "        ax.set_xticks(x_major_ticks)\n",
    "        ax.set_xticks(x_minor_ticks, minor=True)\n",
    "        ax.set_yticks(y_major_ticks)\n",
    "        ax.set_yticks(y_minor_ticks, minor=True)\n",
    "\n",
    "        ax.grid(which='both')\n",
    "        ax.grid(which='minor', alpha=0.2)\n",
    "        ax.grid(which='major', alpha=0.5)\n",
    "        \n",
    "        ticks = get_ticks(vmin, vmax)\n",
    "        clb = fig.colorbar(cs1, ax=ax,ticks=ticks)            \n",
    "        clb.ax.set_yticks(ticks)    \n",
    "        clb.ax.tick_params(labelsize=8)\n",
    "        clb.ax.set_title('$B_z$ [nT]',fontsize=12)\n",
    "        ax.set_aspect(1) # you may also use am.imshow(..., aspect=\"auto\") to restore the aspect ratio\n",
    "        ax.set_xlabel(\"X [$R_M$]\")\n",
    "        ax.set_ylabel(\"Y [$R_M$]\")\n",
    "        ax.add_patch(outer)\n",
    "        ax.add_patch(inner)\n",
    "        ax.set_xlim(xlims)\n",
    "        ax.set_ylim(ylims)\n",
    "        ax.set_title(str(\"$B_{z1}$ at t=\"+str(round(time,2))+\"s\"+\"   z = \"+str(z_plane)))\n",
    "        fig.show()\n",
    "\n",
    "    elif plot_preset == \"pressure_anisotropy\":\n",
    "        \n",
    "        fig, ax = plt.subplots(figsize=(10,10))\n",
    "        inner = plt.Circle((0, 0), 0.8, color='black')\n",
    "        outer = plt.Circle((0, 0), 1, color='grey')\n",
    "        print(\"Plotting t\",time)\n",
    "        \n",
    "        # Extract pressure terms and remove units\n",
    "        if particle_type==\"ion\":\n",
    "            pxxS1_temp = dc.evaluate_expression(\"pxxS1\")\n",
    "            pxyS1_temp = dc.evaluate_expression(\"pxyS1\")\n",
    "            pxzS1_temp = dc.evaluate_expression(\"pxzS1\")\n",
    "            pyyS1_temp = dc.evaluate_expression(\"pyyS1\")\n",
    "            pyzS1_temp = dc.evaluate_expression(\"pyzS1\")\n",
    "            pzzS1_temp = dc.evaluate_expression(\"pzzS1\")\n",
    "        elif particle_type==\"electron\":\n",
    "            pxxS1_temp = dc.evaluate_expression(\"pxxS0\")\n",
    "            pxyS1_temp = dc.evaluate_expression(\"pxyS0\")\n",
    "            pxzS1_temp = dc.evaluate_expression(\"pxzS0\")\n",
    "            pyyS1_temp = dc.evaluate_expression(\"pyyS0\")\n",
    "            pyzS1_temp = dc.evaluate_expression(\"pyzS0\")\n",
    "            pzzS1_temp = dc.evaluate_expression(\"pzzS0\")\n",
    "        else:\n",
    "            print(\"ERROR: invalid particle type!\")\n",
    "        pxxS1 = np.zeros(pxxS1_temp.T.shape)\n",
    "        pxyS1 = np.zeros(pxyS1_temp.T.shape)\n",
    "        pxzS1 = np.zeros(pxzS1_temp.T.shape)\n",
    "        pyyS1 = np.zeros(pyyS1_temp.T.shape)\n",
    "        pyzS1 = np.zeros(pyzS1_temp.T.shape)\n",
    "        pzzS1 = np.zeros(pzzS1_temp.T.shape)\n",
    "        pxxS1[:,:] = pxxS1_temp[:,:].T\n",
    "        pxyS1[:,:] = pxyS1_temp[:,:].T\n",
    "        pxzS1[:,:] = pxyS1_temp[:,:].T\n",
    "        pyyS1[:,:] = pyyS1_temp[:,:].T\n",
    "        pyzS1[:,:] = pyzS1_temp[:,:].T\n",
    "        pzzS1[:,:] = pzzS1_temp[:,:].T\n",
    "\n",
    "        # Extract magnetic terms and remove units\n",
    "        Bx_temp = dc.evaluate_expression(\"Bx\")\n",
    "        By_temp = dc.evaluate_expression(\"By\")\n",
    "        Bz_temp = dc.evaluate_expression(\"Bz\")\n",
    "        Bx = np.zeros(Bx_temp.T.shape)\n",
    "        By = np.zeros(By_temp.T.shape)\n",
    "        Bz = np.zeros(Bz_temp.T.shape)\n",
    "        Bx[:,:] = Bx_temp[:,:].T\n",
    "        By[:,:] = By_temp[:,:].T\n",
    "        Bz[:,:] = Bz_temp[:,:].T\n",
    "\n",
    "        # Define meshgrids\n",
    "        xx,yy = np.meshgrid(dc.x.value, dc.y.value)\n",
    "\n",
    "        # Compute magnetic unit vector\n",
    "        B_mag = np.sqrt(Bx**2+By**2+Bz**2)\n",
    "        bx,by,bz = 1/B_mag * [Bx,By,Bz]\n",
    "\n",
    "        # Compute coordinate transformation matrix, A\n",
    "        # The three columns of this matrix correspond to the first perpendicular component, the second, and the parallel component, respectively\n",
    "        Axx = np.sqrt(1-bx**2)\n",
    "        Axy = 0\n",
    "        Axz = bx\n",
    "        Ayx = -bx*by/np.sqrt(1-bx**2)\n",
    "        Ayy = bz/np.sqrt(bz**2+by**2)\n",
    "        Ayz = by\n",
    "        Azx = -bx*bz/np.sqrt(1-bx**2)\n",
    "        Azy = -by/np.sqrt(bz**2+by**2)\n",
    "        Azz = bz\n",
    "\n",
    "        # Transfrom the pressure tensor from pS1 (in cartesian) to P (in perp / perp / parallel coords): P = A x pS1\n",
    "        # Note that pS1 is symmetric, so e.g. pxyS1 = pyxS1\n",
    "        Pxx = Axx*pxxS1 + Axy*pxyS1 + Axz*pxzS1\n",
    "        Pxy = Axx*pxyS1 + Axy*pyyS1 + Axz*pyzS1\n",
    "        Pxz = Axx*pxzS1 + Axy*pyzS1 + Axz*pzzS1\n",
    "        Pyx = Ayx*pxxS1 + Ayy*pxyS1 + Ayz*pxzS1\n",
    "        Pyy = Ayx*pxyS1 + Ayy*pyyS1 + Ayz*pyzS1\n",
    "        Pyz = Ayx*pxzS1 + Ayy*pyzS1 + Ayz*pzzS1\n",
    "        Pzx = Azx*pxxS1 + Azy*pxyS1 + Azz*pxzS1\n",
    "        Pzy = Azx*pxyS1 + Azy*pyyS1 + Azz*pyzS1\n",
    "        Pzz = Azx*pxzS1 + Azy*pyzS1 + Azz*pzzS1\n",
    "\n",
    "        # For now, we are interested in the difference parallel (Pzz) and perpendicular (Pxx and Pyy)\n",
    "        P_anisotropy = Pzz - Pxx - Pyy / np.sqrt(Pzz**2+Pxx**2+Pyy**2)\n",
    "\n",
    "        # Plot\n",
    "        vmin = -1.5\n",
    "        vmax = 1.5\n",
    "        nlevels = 200 \n",
    "        levels = np.linspace(vmin, vmax, nlevels)\n",
    "        \n",
    "        cs = ax.contourf(dc.x.value, dc.y.value, np.array(P_anisotropy), levels=levels, cmap='bwr')\n",
    "\n",
    "        # Add minor ticks for grid\n",
    "        x_major_ticks = np.arange(xlims[0], xlims[1], 0.2)\n",
    "        x_minor_ticks = np.arange(xlims[0], xlims[1], 0.05)\n",
    "        y_major_ticks = np.arange(ylims[0], ylims[1], 0.2)\n",
    "        y_minor_ticks = np.arange(ylims[0], ylims[1], 0.05)\n",
    "\n",
    "        ax.set_xticks(x_major_ticks)\n",
    "        ax.set_xticks(x_minor_ticks, minor=True)\n",
    "        ax.set_yticks(y_major_ticks)\n",
    "        ax.set_yticks(y_minor_ticks, minor=True)\n",
    "\n",
    "        ax.grid(which='both')\n",
    "        ax.grid(which='minor', alpha=0.2)\n",
    "        ax.grid(which='major', alpha=0.5)\n",
    "        \n",
    "        ticks = get_ticks(vmin, vmax)\n",
    "        clb = fig.colorbar(cs, ax=ax,ticks=ticks)            \n",
    "        clb.ax.set_yticks(ticks)    \n",
    "        clb.ax.tick_params(labelsize=8)\n",
    "        clb.ax.set_title('Normalized diff',fontsize=12)\n",
    "        ax.set_aspect(1) # you may also use am.imshow(..., aspect=\"auto\") to restore the aspect ratio\n",
    "        ax.set_xlabel(\"X [$R_M$]\")\n",
    "        ax.set_ylabel(\"Y [$R_M$]\")\n",
    "        ax.add_patch(outer)\n",
    "        ax.add_patch(inner)\n",
    "        ax.set_xlim(xlims)\n",
    "        ax.set_ylim(ylims)\n",
    "        ax.set_title(str(\"parallel - perpendicular at t=\"+str(round(time,2))+\"s\"+\"   z = \"+str(z_plane))+\"\\n Particle type: \"+particle_type)\n",
    "        fig.show()\n",
    "        \n",
    "    # Save\n",
    "    plt.savefig(str(\"/Users/atcushen/Documents/MercuryModelling/runs/nightside_v1_run4/ta-2_rerun_plots/\"+plot_preset+\"_\"+str(round(time,2))+'.png'),bbox_inches='tight')\n",
    "    plt.close(fig)"
   ]
  },
  {
   "cell_type": "markdown",
   "id": "36e72a5b-24c2-431f-ae0c-7379423903c5",
   "metadata": {},
   "source": [
    "# Particle data plotting\n"
   ]
  },
  {
   "cell_type": "code",
   "execution_count": 124,
   "id": "69dfaa84-15f2-4c71-b1fb-5d125cc90d59",
   "metadata": {},
   "outputs": [
    {
     "name": "stderr",
     "output_type": "stream",
     "text": [
      "yt : [INFO     ] 2024-08-12 15:21:35,123 Parameters: current_time              = 144.0004235325798\n",
      "yt : [INFO     ] 2024-08-12 15:21:35,124 Parameters: domain_dimensions         = [320 256 256]\n",
      "yt : [INFO     ] 2024-08-12 15:21:35,124 Parameters: domain_left_edge          = [-4. -2. -2.]\n",
      "yt : [INFO     ] 2024-08-12 15:21:35,125 Parameters: domain_right_edge         = [1. 2. 2.]\n",
      "yt : [INFO     ] 2024-08-12 15:21:35,143 Parameters: current_time              = 144.0004235325798\n",
      "yt : [INFO     ] 2024-08-12 15:21:35,144 Parameters: domain_dimensions         = [320 256 256]\n",
      "yt : [INFO     ] 2024-08-12 15:21:35,144 Parameters: domain_left_edge          = [-4. -2. -2.]\n",
      "yt : [INFO     ] 2024-08-12 15:21:35,145 Parameters: domain_right_edge         = [1. 2. 2.]\n"
     ]
    },
    {
     "name": "stdout",
     "output_type": "stream",
     "text": [
      "Plotting all files in dir\n",
      "Plotting t = 144.0\n",
      "reading file cut_particle_region0_0_t00000224_n00004905_amrex\n"
     ]
    },
    {
     "name": "stderr",
     "output_type": "stream",
     "text": [
      "yt : [INFO     ] 2024-08-12 15:21:36,039 Parameters: current_time              = 144.0004235325798\n",
      "yt : [INFO     ] 2024-08-12 15:21:36,040 Parameters: domain_dimensions         = [320 256 256]\n",
      "yt : [INFO     ] 2024-08-12 15:21:36,041 Parameters: domain_left_edge          = [-4. -2. -2.]\n",
      "yt : [INFO     ] 2024-08-12 15:21:36,041 Parameters: domain_right_edge         = [1. 2. 2.]\n",
      "yt : [WARNING  ] 2024-08-12 15:21:36,508 Field ('particle', 'unit_one') was added without specifying units or dimensions, auto setting units to \n",
      "yt : [INFO     ] 2024-08-12 15:21:36,573 Parameters: current_time              = 144.0004235325798\n",
      "yt : [INFO     ] 2024-08-12 15:21:36,574 Parameters: domain_dimensions         = [320 256 256]\n",
      "yt : [INFO     ] 2024-08-12 15:21:36,575 Parameters: domain_left_edge          = [-4. -2. -2.]\n",
      "yt : [INFO     ] 2024-08-12 15:21:36,575 Parameters: domain_right_edge         = [1. 2. 2.]\n",
      "yt : [INFO     ] 2024-08-12 15:21:36,594 Parameters: current_time              = 144.0004235325798\n",
      "yt : [INFO     ] 2024-08-12 15:21:36,595 Parameters: domain_dimensions         = [320 256 256]\n",
      "yt : [INFO     ] 2024-08-12 15:21:36,596 Parameters: domain_left_edge          = [-4. -2. -2.]\n",
      "yt : [INFO     ] 2024-08-12 15:21:36,596 Parameters: domain_right_edge         = [1. 2. 2.]\n",
      "yt : [INFO     ] 2024-08-12 15:21:36,969 Parameters: current_time              = 144.0004235325798\n",
      "yt : [INFO     ] 2024-08-12 15:21:36,970 Parameters: domain_dimensions         = [320 256 256]\n",
      "yt : [INFO     ] 2024-08-12 15:21:36,971 Parameters: domain_left_edge          = [-4. -2. -2.]\n",
      "yt : [INFO     ] 2024-08-12 15:21:36,972 Parameters: domain_right_edge         = [1. 2. 2.]\n",
      "yt : [WARNING  ] 2024-08-12 15:21:37,446 Field ('particle', 'unit_one') was added without specifying units or dimensions, auto setting units to \n",
      "yt : [INFO     ] 2024-08-12 15:21:37,512 Parameters: current_time              = 144.0004235325798\n",
      "yt : [INFO     ] 2024-08-12 15:21:37,512 Parameters: domain_dimensions         = [320 256 256]\n",
      "yt : [INFO     ] 2024-08-12 15:21:37,513 Parameters: domain_left_edge          = [-4. -2. -2.]\n",
      "yt : [INFO     ] 2024-08-12 15:21:37,514 Parameters: domain_right_edge         = [1. 2. 2.]\n",
      "yt : [INFO     ] 2024-08-12 15:21:37,533 Parameters: current_time              = 144.0004235325798\n",
      "yt : [INFO     ] 2024-08-12 15:21:37,533 Parameters: domain_dimensions         = [320 256 256]\n",
      "yt : [INFO     ] 2024-08-12 15:21:37,534 Parameters: domain_left_edge          = [-4. -2. -2.]\n",
      "yt : [INFO     ] 2024-08-12 15:21:37,535 Parameters: domain_right_edge         = [1. 2. 2.]\n",
      "yt : [INFO     ] 2024-08-12 15:21:38,051 Parameters: current_time              = 144.20154674350104\n",
      "yt : [INFO     ] 2024-08-12 15:21:38,052 Parameters: domain_dimensions         = [320 256 256]\n",
      "yt : [INFO     ] 2024-08-12 15:21:38,053 Parameters: domain_left_edge          = [-4. -2. -2.]\n",
      "yt : [INFO     ] 2024-08-12 15:21:38,053 Parameters: domain_right_edge         = [1. 2. 2.]\n",
      "yt : [INFO     ] 2024-08-12 15:21:38,073 Parameters: current_time              = 144.20154674350104\n",
      "yt : [INFO     ] 2024-08-12 15:21:38,074 Parameters: domain_dimensions         = [320 256 256]\n",
      "yt : [INFO     ] 2024-08-12 15:21:38,075 Parameters: domain_left_edge          = [-4. -2. -2.]\n",
      "yt : [INFO     ] 2024-08-12 15:21:38,075 Parameters: domain_right_edge         = [1. 2. 2.]\n"
     ]
    },
    {
     "name": "stdout",
     "output_type": "stream",
     "text": [
      "Plotting t = 144.2\n",
      "reading file cut_particle_region0_0_t00000224_n00005023_amrex\n"
     ]
    },
    {
     "name": "stderr",
     "output_type": "stream",
     "text": [
      "yt : [INFO     ] 2024-08-12 15:21:40,000 Parameters: current_time              = 144.20154674350104\n",
      "yt : [INFO     ] 2024-08-12 15:21:40,001 Parameters: domain_dimensions         = [320 256 256]\n",
      "yt : [INFO     ] 2024-08-12 15:21:40,001 Parameters: domain_left_edge          = [-4. -2. -2.]\n",
      "yt : [INFO     ] 2024-08-12 15:21:40,002 Parameters: domain_right_edge         = [1. 2. 2.]\n",
      "yt : [WARNING  ] 2024-08-12 15:21:40,471 Field ('particle', 'unit_one') was added without specifying units or dimensions, auto setting units to \n",
      "yt : [INFO     ] 2024-08-12 15:21:40,537 Parameters: current_time              = 144.20154674350104\n",
      "yt : [INFO     ] 2024-08-12 15:21:40,538 Parameters: domain_dimensions         = [320 256 256]\n",
      "yt : [INFO     ] 2024-08-12 15:21:40,539 Parameters: domain_left_edge          = [-4. -2. -2.]\n",
      "yt : [INFO     ] 2024-08-12 15:21:40,539 Parameters: domain_right_edge         = [1. 2. 2.]\n",
      "yt : [INFO     ] 2024-08-12 15:21:40,558 Parameters: current_time              = 144.20154674350104\n",
      "yt : [INFO     ] 2024-08-12 15:21:40,559 Parameters: domain_dimensions         = [320 256 256]\n",
      "yt : [INFO     ] 2024-08-12 15:21:40,560 Parameters: domain_left_edge          = [-4. -2. -2.]\n",
      "yt : [INFO     ] 2024-08-12 15:21:40,560 Parameters: domain_right_edge         = [1. 2. 2.]\n",
      "yt : [INFO     ] 2024-08-12 15:21:40,937 Parameters: current_time              = 144.20154674350104\n",
      "yt : [INFO     ] 2024-08-12 15:21:40,938 Parameters: domain_dimensions         = [320 256 256]\n",
      "yt : [INFO     ] 2024-08-12 15:21:40,938 Parameters: domain_left_edge          = [-4. -2. -2.]\n",
      "yt : [INFO     ] 2024-08-12 15:21:40,939 Parameters: domain_right_edge         = [1. 2. 2.]\n",
      "yt : [WARNING  ] 2024-08-12 15:21:41,404 Field ('particle', 'unit_one') was added without specifying units or dimensions, auto setting units to \n",
      "yt : [INFO     ] 2024-08-12 15:21:41,469 Parameters: current_time              = 144.20154674350104\n",
      "yt : [INFO     ] 2024-08-12 15:21:41,469 Parameters: domain_dimensions         = [320 256 256]\n",
      "yt : [INFO     ] 2024-08-12 15:21:41,470 Parameters: domain_left_edge          = [-4. -2. -2.]\n",
      "yt : [INFO     ] 2024-08-12 15:21:41,471 Parameters: domain_right_edge         = [1. 2. 2.]\n",
      "yt : [INFO     ] 2024-08-12 15:21:41,490 Parameters: current_time              = 144.20154674350104\n",
      "yt : [INFO     ] 2024-08-12 15:21:41,490 Parameters: domain_dimensions         = [320 256 256]\n",
      "yt : [INFO     ] 2024-08-12 15:21:41,491 Parameters: domain_left_edge          = [-4. -2. -2.]\n",
      "yt : [INFO     ] 2024-08-12 15:21:41,492 Parameters: domain_right_edge         = [1. 2. 2.]\n",
      "yt : [INFO     ] 2024-08-12 15:21:42,017 Parameters: current_time              = 144.40015817712427\n",
      "yt : [INFO     ] 2024-08-12 15:21:42,017 Parameters: domain_dimensions         = [320 256 256]\n",
      "yt : [INFO     ] 2024-08-12 15:21:42,018 Parameters: domain_left_edge          = [-4. -2. -2.]\n",
      "yt : [INFO     ] 2024-08-12 15:21:42,019 Parameters: domain_right_edge         = [1. 2. 2.]\n",
      "yt : [INFO     ] 2024-08-12 15:21:42,038 Parameters: current_time              = 144.40015817712427\n",
      "yt : [INFO     ] 2024-08-12 15:21:42,038 Parameters: domain_dimensions         = [320 256 256]\n",
      "yt : [INFO     ] 2024-08-12 15:21:42,039 Parameters: domain_left_edge          = [-4. -2. -2.]\n",
      "yt : [INFO     ] 2024-08-12 15:21:42,040 Parameters: domain_right_edge         = [1. 2. 2.]\n"
     ]
    },
    {
     "name": "stdout",
     "output_type": "stream",
     "text": [
      "Plotting t = 144.4\n",
      "reading file cut_particle_region0_0_t00000224_n00005139_amrex\n"
     ]
    },
    {
     "name": "stderr",
     "output_type": "stream",
     "text": [
      "yt : [INFO     ] 2024-08-12 15:21:42,932 Parameters: current_time              = 144.40015817712427\n",
      "yt : [INFO     ] 2024-08-12 15:21:42,932 Parameters: domain_dimensions         = [320 256 256]\n",
      "yt : [INFO     ] 2024-08-12 15:21:42,933 Parameters: domain_left_edge          = [-4. -2. -2.]\n",
      "yt : [INFO     ] 2024-08-12 15:21:42,934 Parameters: domain_right_edge         = [1. 2. 2.]\n",
      "yt : [WARNING  ] 2024-08-12 15:21:43,397 Field ('particle', 'unit_one') was added without specifying units or dimensions, auto setting units to \n",
      "yt : [INFO     ] 2024-08-12 15:21:43,461 Parameters: current_time              = 144.40015817712427\n",
      "yt : [INFO     ] 2024-08-12 15:21:43,462 Parameters: domain_dimensions         = [320 256 256]\n",
      "yt : [INFO     ] 2024-08-12 15:21:43,463 Parameters: domain_left_edge          = [-4. -2. -2.]\n",
      "yt : [INFO     ] 2024-08-12 15:21:43,463 Parameters: domain_right_edge         = [1. 2. 2.]\n",
      "yt : [INFO     ] 2024-08-12 15:21:43,482 Parameters: current_time              = 144.40015817712427\n",
      "yt : [INFO     ] 2024-08-12 15:21:43,483 Parameters: domain_dimensions         = [320 256 256]\n",
      "yt : [INFO     ] 2024-08-12 15:21:43,483 Parameters: domain_left_edge          = [-4. -2. -2.]\n",
      "yt : [INFO     ] 2024-08-12 15:21:43,484 Parameters: domain_right_edge         = [1. 2. 2.]\n",
      "yt : [INFO     ] 2024-08-12 15:21:43,854 Parameters: current_time              = 144.40015817712427\n",
      "yt : [INFO     ] 2024-08-12 15:21:43,855 Parameters: domain_dimensions         = [320 256 256]\n",
      "yt : [INFO     ] 2024-08-12 15:21:43,856 Parameters: domain_left_edge          = [-4. -2. -2.]\n",
      "yt : [INFO     ] 2024-08-12 15:21:43,856 Parameters: domain_right_edge         = [1. 2. 2.]\n",
      "yt : [WARNING  ] 2024-08-12 15:21:45,145 Field ('particle', 'unit_one') was added without specifying units or dimensions, auto setting units to \n",
      "yt : [INFO     ] 2024-08-12 15:21:45,211 Parameters: current_time              = 144.40015817712427\n",
      "yt : [INFO     ] 2024-08-12 15:21:45,212 Parameters: domain_dimensions         = [320 256 256]\n",
      "yt : [INFO     ] 2024-08-12 15:21:45,213 Parameters: domain_left_edge          = [-4. -2. -2.]\n",
      "yt : [INFO     ] 2024-08-12 15:21:45,214 Parameters: domain_right_edge         = [1. 2. 2.]\n",
      "yt : [INFO     ] 2024-08-12 15:21:45,233 Parameters: current_time              = 144.40015817712427\n",
      "yt : [INFO     ] 2024-08-12 15:21:45,233 Parameters: domain_dimensions         = [320 256 256]\n",
      "yt : [INFO     ] 2024-08-12 15:21:45,234 Parameters: domain_left_edge          = [-4. -2. -2.]\n",
      "yt : [INFO     ] 2024-08-12 15:21:45,235 Parameters: domain_right_edge         = [1. 2. 2.]\n",
      "yt : [INFO     ] 2024-08-12 15:21:45,765 Parameters: current_time              = 144.60139046091376\n",
      "yt : [INFO     ] 2024-08-12 15:21:45,765 Parameters: domain_dimensions         = [320 256 256]\n",
      "yt : [INFO     ] 2024-08-12 15:21:45,766 Parameters: domain_left_edge          = [-4. -2. -2.]\n",
      "yt : [INFO     ] 2024-08-12 15:21:45,767 Parameters: domain_right_edge         = [1. 2. 2.]\n",
      "yt : [INFO     ] 2024-08-12 15:21:45,786 Parameters: current_time              = 144.60139046091376\n",
      "yt : [INFO     ] 2024-08-12 15:21:45,786 Parameters: domain_dimensions         = [320 256 256]\n",
      "yt : [INFO     ] 2024-08-12 15:21:45,787 Parameters: domain_left_edge          = [-4. -2. -2.]\n",
      "yt : [INFO     ] 2024-08-12 15:21:45,787 Parameters: domain_right_edge         = [1. 2. 2.]\n"
     ]
    },
    {
     "name": "stdout",
     "output_type": "stream",
     "text": [
      "Plotting t = 144.6\n",
      "reading file cut_particle_region0_0_t00000224_n00005260_amrex\n"
     ]
    },
    {
     "name": "stderr",
     "output_type": "stream",
     "text": [
      "yt : [INFO     ] 2024-08-12 15:21:46,694 Parameters: current_time              = 144.60139046091376\n",
      "yt : [INFO     ] 2024-08-12 15:21:46,695 Parameters: domain_dimensions         = [320 256 256]\n",
      "yt : [INFO     ] 2024-08-12 15:21:46,695 Parameters: domain_left_edge          = [-4. -2. -2.]\n",
      "yt : [INFO     ] 2024-08-12 15:21:46,696 Parameters: domain_right_edge         = [1. 2. 2.]\n",
      "yt : [WARNING  ] 2024-08-12 15:21:47,162 Field ('particle', 'unit_one') was added without specifying units or dimensions, auto setting units to \n",
      "yt : [INFO     ] 2024-08-12 15:21:47,228 Parameters: current_time              = 144.60139046091376\n",
      "yt : [INFO     ] 2024-08-12 15:21:47,229 Parameters: domain_dimensions         = [320 256 256]\n",
      "yt : [INFO     ] 2024-08-12 15:21:47,230 Parameters: domain_left_edge          = [-4. -2. -2.]\n",
      "yt : [INFO     ] 2024-08-12 15:21:47,231 Parameters: domain_right_edge         = [1. 2. 2.]\n",
      "yt : [INFO     ] 2024-08-12 15:21:47,249 Parameters: current_time              = 144.60139046091376\n",
      "yt : [INFO     ] 2024-08-12 15:21:47,250 Parameters: domain_dimensions         = [320 256 256]\n",
      "yt : [INFO     ] 2024-08-12 15:21:47,251 Parameters: domain_left_edge          = [-4. -2. -2.]\n",
      "yt : [INFO     ] 2024-08-12 15:21:47,251 Parameters: domain_right_edge         = [1. 2. 2.]\n",
      "yt : [INFO     ] 2024-08-12 15:21:47,631 Parameters: current_time              = 144.60139046091376\n",
      "yt : [INFO     ] 2024-08-12 15:21:47,632 Parameters: domain_dimensions         = [320 256 256]\n",
      "yt : [INFO     ] 2024-08-12 15:21:47,632 Parameters: domain_left_edge          = [-4. -2. -2.]\n",
      "yt : [INFO     ] 2024-08-12 15:21:47,633 Parameters: domain_right_edge         = [1. 2. 2.]\n",
      "yt : [WARNING  ] 2024-08-12 15:21:48,090 Field ('particle', 'unit_one') was added without specifying units or dimensions, auto setting units to \n",
      "yt : [INFO     ] 2024-08-12 15:21:48,155 Parameters: current_time              = 144.60139046091376\n",
      "yt : [INFO     ] 2024-08-12 15:21:48,156 Parameters: domain_dimensions         = [320 256 256]\n",
      "yt : [INFO     ] 2024-08-12 15:21:48,157 Parameters: domain_left_edge          = [-4. -2. -2.]\n",
      "yt : [INFO     ] 2024-08-12 15:21:48,158 Parameters: domain_right_edge         = [1. 2. 2.]\n",
      "yt : [INFO     ] 2024-08-12 15:21:48,176 Parameters: current_time              = 144.60139046091376\n",
      "yt : [INFO     ] 2024-08-12 15:21:48,177 Parameters: domain_dimensions         = [320 256 256]\n",
      "yt : [INFO     ] 2024-08-12 15:21:48,177 Parameters: domain_left_edge          = [-4. -2. -2.]\n",
      "yt : [INFO     ] 2024-08-12 15:21:48,178 Parameters: domain_right_edge         = [1. 2. 2.]\n",
      "yt : [INFO     ] 2024-08-12 15:21:48,698 Parameters: current_time              = 144.8008971103632\n",
      "yt : [INFO     ] 2024-08-12 15:21:48,699 Parameters: domain_dimensions         = [320 256 256]\n",
      "yt : [INFO     ] 2024-08-12 15:21:48,700 Parameters: domain_left_edge          = [-4. -2. -2.]\n",
      "yt : [INFO     ] 2024-08-12 15:21:48,700 Parameters: domain_right_edge         = [1. 2. 2.]\n",
      "yt : [INFO     ] 2024-08-12 15:21:48,719 Parameters: current_time              = 144.8008971103632\n",
      "yt : [INFO     ] 2024-08-12 15:21:48,720 Parameters: domain_dimensions         = [320 256 256]\n",
      "yt : [INFO     ] 2024-08-12 15:21:48,720 Parameters: domain_left_edge          = [-4. -2. -2.]\n",
      "yt : [INFO     ] 2024-08-12 15:21:48,721 Parameters: domain_right_edge         = [1. 2. 2.]\n"
     ]
    },
    {
     "name": "stdout",
     "output_type": "stream",
     "text": [
      "Plotting t = 144.8\n",
      "reading file cut_particle_region0_0_t00000224_n00005379_amrex\n"
     ]
    },
    {
     "name": "stderr",
     "output_type": "stream",
     "text": [
      "yt : [INFO     ] 2024-08-12 15:21:49,641 Parameters: current_time              = 144.8008971103632\n",
      "yt : [INFO     ] 2024-08-12 15:21:49,642 Parameters: domain_dimensions         = [320 256 256]\n",
      "yt : [INFO     ] 2024-08-12 15:21:49,642 Parameters: domain_left_edge          = [-4. -2. -2.]\n",
      "yt : [INFO     ] 2024-08-12 15:21:49,643 Parameters: domain_right_edge         = [1. 2. 2.]\n",
      "yt : [WARNING  ] 2024-08-12 15:21:50,943 Field ('particle', 'unit_one') was added without specifying units or dimensions, auto setting units to \n",
      "yt : [INFO     ] 2024-08-12 15:21:51,008 Parameters: current_time              = 144.8008971103632\n",
      "yt : [INFO     ] 2024-08-12 15:21:51,008 Parameters: domain_dimensions         = [320 256 256]\n",
      "yt : [INFO     ] 2024-08-12 15:21:51,009 Parameters: domain_left_edge          = [-4. -2. -2.]\n",
      "yt : [INFO     ] 2024-08-12 15:21:51,009 Parameters: domain_right_edge         = [1. 2. 2.]\n",
      "yt : [INFO     ] 2024-08-12 15:21:51,028 Parameters: current_time              = 144.8008971103632\n",
      "yt : [INFO     ] 2024-08-12 15:21:51,028 Parameters: domain_dimensions         = [320 256 256]\n",
      "yt : [INFO     ] 2024-08-12 15:21:51,029 Parameters: domain_left_edge          = [-4. -2. -2.]\n",
      "yt : [INFO     ] 2024-08-12 15:21:51,030 Parameters: domain_right_edge         = [1. 2. 2.]\n",
      "yt : [INFO     ] 2024-08-12 15:21:51,402 Parameters: current_time              = 144.8008971103632\n",
      "yt : [INFO     ] 2024-08-12 15:21:51,403 Parameters: domain_dimensions         = [320 256 256]\n",
      "yt : [INFO     ] 2024-08-12 15:21:51,404 Parameters: domain_left_edge          = [-4. -2. -2.]\n",
      "yt : [INFO     ] 2024-08-12 15:21:51,404 Parameters: domain_right_edge         = [1. 2. 2.]\n",
      "yt : [WARNING  ] 2024-08-12 15:21:51,879 Field ('particle', 'unit_one') was added without specifying units or dimensions, auto setting units to \n",
      "yt : [INFO     ] 2024-08-12 15:21:51,944 Parameters: current_time              = 144.8008971103632\n",
      "yt : [INFO     ] 2024-08-12 15:21:51,945 Parameters: domain_dimensions         = [320 256 256]\n",
      "yt : [INFO     ] 2024-08-12 15:21:51,946 Parameters: domain_left_edge          = [-4. -2. -2.]\n",
      "yt : [INFO     ] 2024-08-12 15:21:51,946 Parameters: domain_right_edge         = [1. 2. 2.]\n",
      "yt : [INFO     ] 2024-08-12 15:21:51,965 Parameters: current_time              = 144.8008971103632\n",
      "yt : [INFO     ] 2024-08-12 15:21:51,965 Parameters: domain_dimensions         = [320 256 256]\n",
      "yt : [INFO     ] 2024-08-12 15:21:51,966 Parameters: domain_left_edge          = [-4. -2. -2.]\n",
      "yt : [INFO     ] 2024-08-12 15:21:51,967 Parameters: domain_right_edge         = [1. 2. 2.]\n",
      "yt : [INFO     ] 2024-08-12 15:21:52,487 Parameters: current_time              = 145.00027042646266\n",
      "yt : [INFO     ] 2024-08-12 15:21:52,488 Parameters: domain_dimensions         = [320 256 256]\n",
      "yt : [INFO     ] 2024-08-12 15:21:52,489 Parameters: domain_left_edge          = [-4. -2. -2.]\n",
      "yt : [INFO     ] 2024-08-12 15:21:52,490 Parameters: domain_right_edge         = [1. 2. 2.]\n",
      "yt : [INFO     ] 2024-08-12 15:21:52,509 Parameters: current_time              = 145.00027042646266\n",
      "yt : [INFO     ] 2024-08-12 15:21:52,510 Parameters: domain_dimensions         = [320 256 256]\n",
      "yt : [INFO     ] 2024-08-12 15:21:52,510 Parameters: domain_left_edge          = [-4. -2. -2.]\n",
      "yt : [INFO     ] 2024-08-12 15:21:52,511 Parameters: domain_right_edge         = [1. 2. 2.]\n"
     ]
    },
    {
     "name": "stdout",
     "output_type": "stream",
     "text": [
      "Plotting t = 145.0\n",
      "reading file cut_particle_region0_0_t00000225_n00005498_amrex\n"
     ]
    },
    {
     "name": "stderr",
     "output_type": "stream",
     "text": [
      "yt : [INFO     ] 2024-08-12 15:21:53,422 Parameters: current_time              = 145.00027042646266\n",
      "yt : [INFO     ] 2024-08-12 15:21:53,423 Parameters: domain_dimensions         = [320 256 256]\n",
      "yt : [INFO     ] 2024-08-12 15:21:53,423 Parameters: domain_left_edge          = [-4. -2. -2.]\n",
      "yt : [INFO     ] 2024-08-12 15:21:53,424 Parameters: domain_right_edge         = [1. 2. 2.]\n",
      "yt : [WARNING  ] 2024-08-12 15:21:53,892 Field ('particle', 'unit_one') was added without specifying units or dimensions, auto setting units to \n",
      "yt : [INFO     ] 2024-08-12 15:21:53,956 Parameters: current_time              = 145.00027042646266\n",
      "yt : [INFO     ] 2024-08-12 15:21:53,957 Parameters: domain_dimensions         = [320 256 256]\n",
      "yt : [INFO     ] 2024-08-12 15:21:53,957 Parameters: domain_left_edge          = [-4. -2. -2.]\n",
      "yt : [INFO     ] 2024-08-12 15:21:53,958 Parameters: domain_right_edge         = [1. 2. 2.]\n",
      "yt : [INFO     ] 2024-08-12 15:21:53,976 Parameters: current_time              = 145.00027042646266\n",
      "yt : [INFO     ] 2024-08-12 15:21:53,977 Parameters: domain_dimensions         = [320 256 256]\n",
      "yt : [INFO     ] 2024-08-12 15:21:53,978 Parameters: domain_left_edge          = [-4. -2. -2.]\n",
      "yt : [INFO     ] 2024-08-12 15:21:53,978 Parameters: domain_right_edge         = [1. 2. 2.]\n",
      "yt : [INFO     ] 2024-08-12 15:21:54,349 Parameters: current_time              = 145.00027042646266\n",
      "yt : [INFO     ] 2024-08-12 15:21:54,350 Parameters: domain_dimensions         = [320 256 256]\n",
      "yt : [INFO     ] 2024-08-12 15:21:54,351 Parameters: domain_left_edge          = [-4. -2. -2.]\n",
      "yt : [INFO     ] 2024-08-12 15:21:54,351 Parameters: domain_right_edge         = [1. 2. 2.]\n",
      "yt : [WARNING  ] 2024-08-12 15:21:54,813 Field ('particle', 'unit_one') was added without specifying units or dimensions, auto setting units to \n",
      "yt : [INFO     ] 2024-08-12 15:21:54,878 Parameters: current_time              = 145.00027042646266\n",
      "yt : [INFO     ] 2024-08-12 15:21:54,879 Parameters: domain_dimensions         = [320 256 256]\n",
      "yt : [INFO     ] 2024-08-12 15:21:54,879 Parameters: domain_left_edge          = [-4. -2. -2.]\n",
      "yt : [INFO     ] 2024-08-12 15:21:54,880 Parameters: domain_right_edge         = [1. 2. 2.]\n",
      "yt : [INFO     ] 2024-08-12 15:21:54,899 Parameters: current_time              = 145.00027042646266\n",
      "yt : [INFO     ] 2024-08-12 15:21:54,899 Parameters: domain_dimensions         = [320 256 256]\n",
      "yt : [INFO     ] 2024-08-12 15:21:54,900 Parameters: domain_left_edge          = [-4. -2. -2.]\n",
      "yt : [INFO     ] 2024-08-12 15:21:54,901 Parameters: domain_right_edge         = [1. 2. 2.]\n",
      "yt : [INFO     ] 2024-08-12 15:21:56,262 Parameters: current_time              = 145.20009155006036\n",
      "yt : [INFO     ] 2024-08-12 15:21:56,263 Parameters: domain_dimensions         = [320 256 256]\n",
      "yt : [INFO     ] 2024-08-12 15:21:56,264 Parameters: domain_left_edge          = [-4. -2. -2.]\n",
      "yt : [INFO     ] 2024-08-12 15:21:56,264 Parameters: domain_right_edge         = [1. 2. 2.]\n",
      "yt : [INFO     ] 2024-08-12 15:21:56,284 Parameters: current_time              = 145.20009155006036\n",
      "yt : [INFO     ] 2024-08-12 15:21:56,284 Parameters: domain_dimensions         = [320 256 256]\n",
      "yt : [INFO     ] 2024-08-12 15:21:56,285 Parameters: domain_left_edge          = [-4. -2. -2.]\n",
      "yt : [INFO     ] 2024-08-12 15:21:56,286 Parameters: domain_right_edge         = [1. 2. 2.]\n"
     ]
    },
    {
     "name": "stdout",
     "output_type": "stream",
     "text": [
      "Plotting t = 145.2\n",
      "reading file cut_particle_region0_0_t00000225_n00005614_amrex\n"
     ]
    },
    {
     "name": "stderr",
     "output_type": "stream",
     "text": [
      "yt : [INFO     ] 2024-08-12 15:21:57,186 Parameters: current_time              = 145.20009155006036\n",
      "yt : [INFO     ] 2024-08-12 15:21:57,187 Parameters: domain_dimensions         = [320 256 256]\n",
      "yt : [INFO     ] 2024-08-12 15:21:57,187 Parameters: domain_left_edge          = [-4. -2. -2.]\n",
      "yt : [INFO     ] 2024-08-12 15:21:57,188 Parameters: domain_right_edge         = [1. 2. 2.]\n",
      "yt : [WARNING  ] 2024-08-12 15:21:57,661 Field ('particle', 'unit_one') was added without specifying units or dimensions, auto setting units to \n",
      "yt : [INFO     ] 2024-08-12 15:21:57,725 Parameters: current_time              = 145.20009155006036\n",
      "yt : [INFO     ] 2024-08-12 15:21:57,726 Parameters: domain_dimensions         = [320 256 256]\n",
      "yt : [INFO     ] 2024-08-12 15:21:57,727 Parameters: domain_left_edge          = [-4. -2. -2.]\n",
      "yt : [INFO     ] 2024-08-12 15:21:57,727 Parameters: domain_right_edge         = [1. 2. 2.]\n",
      "yt : [INFO     ] 2024-08-12 15:21:57,746 Parameters: current_time              = 145.20009155006036\n",
      "yt : [INFO     ] 2024-08-12 15:21:57,747 Parameters: domain_dimensions         = [320 256 256]\n",
      "yt : [INFO     ] 2024-08-12 15:21:57,748 Parameters: domain_left_edge          = [-4. -2. -2.]\n",
      "yt : [INFO     ] 2024-08-12 15:21:57,749 Parameters: domain_right_edge         = [1. 2. 2.]\n",
      "yt : [INFO     ] 2024-08-12 15:21:58,154 Parameters: current_time              = 145.20009155006036\n",
      "yt : [INFO     ] 2024-08-12 15:21:58,155 Parameters: domain_dimensions         = [320 256 256]\n",
      "yt : [INFO     ] 2024-08-12 15:21:58,156 Parameters: domain_left_edge          = [-4. -2. -2.]\n",
      "yt : [INFO     ] 2024-08-12 15:21:58,156 Parameters: domain_right_edge         = [1. 2. 2.]\n",
      "yt : [WARNING  ] 2024-08-12 15:21:58,645 Field ('particle', 'unit_one') was added without specifying units or dimensions, auto setting units to \n",
      "yt : [INFO     ] 2024-08-12 15:21:58,715 Parameters: current_time              = 145.20009155006036\n",
      "yt : [INFO     ] 2024-08-12 15:21:58,716 Parameters: domain_dimensions         = [320 256 256]\n",
      "yt : [INFO     ] 2024-08-12 15:21:58,716 Parameters: domain_left_edge          = [-4. -2. -2.]\n",
      "yt : [INFO     ] 2024-08-12 15:21:58,717 Parameters: domain_right_edge         = [1. 2. 2.]\n",
      "yt : [INFO     ] 2024-08-12 15:21:58,736 Parameters: current_time              = 145.20009155006036\n",
      "yt : [INFO     ] 2024-08-12 15:21:58,737 Parameters: domain_dimensions         = [320 256 256]\n",
      "yt : [INFO     ] 2024-08-12 15:21:58,738 Parameters: domain_left_edge          = [-4. -2. -2.]\n",
      "yt : [INFO     ] 2024-08-12 15:21:58,738 Parameters: domain_right_edge         = [1. 2. 2.]\n",
      "yt : [INFO     ] 2024-08-12 15:21:59,283 Parameters: current_time              = 145.40044878305025\n",
      "yt : [INFO     ] 2024-08-12 15:21:59,284 Parameters: domain_dimensions         = [320 256 256]\n",
      "yt : [INFO     ] 2024-08-12 15:21:59,284 Parameters: domain_left_edge          = [-4. -2. -2.]\n",
      "yt : [INFO     ] 2024-08-12 15:21:59,285 Parameters: domain_right_edge         = [1. 2. 2.]\n",
      "yt : [INFO     ] 2024-08-12 15:21:59,304 Parameters: current_time              = 145.40044878305025\n",
      "yt : [INFO     ] 2024-08-12 15:21:59,305 Parameters: domain_dimensions         = [320 256 256]\n",
      "yt : [INFO     ] 2024-08-12 15:21:59,305 Parameters: domain_left_edge          = [-4. -2. -2.]\n",
      "yt : [INFO     ] 2024-08-12 15:21:59,306 Parameters: domain_right_edge         = [1. 2. 2.]\n"
     ]
    },
    {
     "name": "stdout",
     "output_type": "stream",
     "text": [
      "Plotting t = 145.4\n",
      "reading file cut_particle_region0_0_t00000225_n00005736_amrex\n"
     ]
    },
    {
     "name": "stderr",
     "output_type": "stream",
     "text": [
      "yt : [INFO     ] 2024-08-12 15:22:00,268 Parameters: current_time              = 145.40044878305025\n",
      "yt : [INFO     ] 2024-08-12 15:22:00,269 Parameters: domain_dimensions         = [320 256 256]\n",
      "yt : [INFO     ] 2024-08-12 15:22:00,269 Parameters: domain_left_edge          = [-4. -2. -2.]\n",
      "yt : [INFO     ] 2024-08-12 15:22:00,270 Parameters: domain_right_edge         = [1. 2. 2.]\n",
      "yt : [WARNING  ] 2024-08-12 15:22:00,762 Field ('particle', 'unit_one') was added without specifying units or dimensions, auto setting units to \n",
      "yt : [INFO     ] 2024-08-12 15:22:00,830 Parameters: current_time              = 145.40044878305025\n",
      "yt : [INFO     ] 2024-08-12 15:22:00,830 Parameters: domain_dimensions         = [320 256 256]\n",
      "yt : [INFO     ] 2024-08-12 15:22:00,831 Parameters: domain_left_edge          = [-4. -2. -2.]\n",
      "yt : [INFO     ] 2024-08-12 15:22:00,832 Parameters: domain_right_edge         = [1. 2. 2.]\n",
      "yt : [INFO     ] 2024-08-12 15:22:00,850 Parameters: current_time              = 145.40044878305025\n",
      "yt : [INFO     ] 2024-08-12 15:22:00,851 Parameters: domain_dimensions         = [320 256 256]\n",
      "yt : [INFO     ] 2024-08-12 15:22:00,851 Parameters: domain_left_edge          = [-4. -2. -2.]\n",
      "yt : [INFO     ] 2024-08-12 15:22:00,852 Parameters: domain_right_edge         = [1. 2. 2.]\n",
      "yt : [INFO     ] 2024-08-12 15:22:02,087 Parameters: current_time              = 145.40044878305025\n",
      "yt : [INFO     ] 2024-08-12 15:22:02,087 Parameters: domain_dimensions         = [320 256 256]\n",
      "yt : [INFO     ] 2024-08-12 15:22:02,088 Parameters: domain_left_edge          = [-4. -2. -2.]\n",
      "yt : [INFO     ] 2024-08-12 15:22:02,089 Parameters: domain_right_edge         = [1. 2. 2.]\n",
      "yt : [WARNING  ] 2024-08-12 15:22:02,557 Field ('particle', 'unit_one') was added without specifying units or dimensions, auto setting units to \n",
      "yt : [INFO     ] 2024-08-12 15:22:02,622 Parameters: current_time              = 145.40044878305025\n",
      "yt : [INFO     ] 2024-08-12 15:22:02,622 Parameters: domain_dimensions         = [320 256 256]\n",
      "yt : [INFO     ] 2024-08-12 15:22:02,623 Parameters: domain_left_edge          = [-4. -2. -2.]\n",
      "yt : [INFO     ] 2024-08-12 15:22:02,624 Parameters: domain_right_edge         = [1. 2. 2.]\n",
      "yt : [INFO     ] 2024-08-12 15:22:02,644 Parameters: current_time              = 145.40044878305025\n",
      "yt : [INFO     ] 2024-08-12 15:22:02,645 Parameters: domain_dimensions         = [320 256 256]\n",
      "yt : [INFO     ] 2024-08-12 15:22:02,645 Parameters: domain_left_edge          = [-4. -2. -2.]\n",
      "yt : [INFO     ] 2024-08-12 15:22:02,646 Parameters: domain_right_edge         = [1. 2. 2.]\n",
      "yt : [INFO     ] 2024-08-12 15:22:03,182 Parameters: current_time              = 145.60126294435332\n",
      "yt : [INFO     ] 2024-08-12 15:22:03,183 Parameters: domain_dimensions         = [320 256 256]\n",
      "yt : [INFO     ] 2024-08-12 15:22:03,184 Parameters: domain_left_edge          = [-4. -2. -2.]\n",
      "yt : [INFO     ] 2024-08-12 15:22:03,184 Parameters: domain_right_edge         = [1. 2. 2.]\n",
      "yt : [INFO     ] 2024-08-12 15:22:03,204 Parameters: current_time              = 145.60126294435332\n",
      "yt : [INFO     ] 2024-08-12 15:22:03,204 Parameters: domain_dimensions         = [320 256 256]\n",
      "yt : [INFO     ] 2024-08-12 15:22:03,205 Parameters: domain_left_edge          = [-4. -2. -2.]\n",
      "yt : [INFO     ] 2024-08-12 15:22:03,206 Parameters: domain_right_edge         = [1. 2. 2.]\n"
     ]
    },
    {
     "name": "stdout",
     "output_type": "stream",
     "text": [
      "Plotting t = 145.6\n",
      "reading file cut_particle_region0_0_t00000225_n00005859_amrex\n"
     ]
    },
    {
     "name": "stderr",
     "output_type": "stream",
     "text": [
      "yt : [INFO     ] 2024-08-12 15:22:04,125 Parameters: current_time              = 145.60126294435332\n",
      "yt : [INFO     ] 2024-08-12 15:22:04,125 Parameters: domain_dimensions         = [320 256 256]\n",
      "yt : [INFO     ] 2024-08-12 15:22:04,126 Parameters: domain_left_edge          = [-4. -2. -2.]\n",
      "yt : [INFO     ] 2024-08-12 15:22:04,127 Parameters: domain_right_edge         = [1. 2. 2.]\n",
      "yt : [WARNING  ] 2024-08-12 15:22:04,589 Field ('particle', 'unit_one') was added without specifying units or dimensions, auto setting units to \n",
      "yt : [INFO     ] 2024-08-12 15:22:04,653 Parameters: current_time              = 145.60126294435332\n",
      "yt : [INFO     ] 2024-08-12 15:22:04,654 Parameters: domain_dimensions         = [320 256 256]\n",
      "yt : [INFO     ] 2024-08-12 15:22:04,654 Parameters: domain_left_edge          = [-4. -2. -2.]\n",
      "yt : [INFO     ] 2024-08-12 15:22:04,655 Parameters: domain_right_edge         = [1. 2. 2.]\n",
      "yt : [INFO     ] 2024-08-12 15:22:04,674 Parameters: current_time              = 145.60126294435332\n",
      "yt : [INFO     ] 2024-08-12 15:22:04,674 Parameters: domain_dimensions         = [320 256 256]\n",
      "yt : [INFO     ] 2024-08-12 15:22:04,675 Parameters: domain_left_edge          = [-4. -2. -2.]\n",
      "yt : [INFO     ] 2024-08-12 15:22:04,675 Parameters: domain_right_edge         = [1. 2. 2.]\n",
      "yt : [INFO     ] 2024-08-12 15:22:05,052 Parameters: current_time              = 145.60126294435332\n",
      "yt : [INFO     ] 2024-08-12 15:22:05,052 Parameters: domain_dimensions         = [320 256 256]\n",
      "yt : [INFO     ] 2024-08-12 15:22:05,053 Parameters: domain_left_edge          = [-4. -2. -2.]\n",
      "yt : [INFO     ] 2024-08-12 15:22:05,054 Parameters: domain_right_edge         = [1. 2. 2.]\n",
      "yt : [WARNING  ] 2024-08-12 15:22:05,515 Field ('particle', 'unit_one') was added without specifying units or dimensions, auto setting units to \n",
      "yt : [INFO     ] 2024-08-12 15:22:05,579 Parameters: current_time              = 145.60126294435332\n",
      "yt : [INFO     ] 2024-08-12 15:22:05,580 Parameters: domain_dimensions         = [320 256 256]\n",
      "yt : [INFO     ] 2024-08-12 15:22:05,581 Parameters: domain_left_edge          = [-4. -2. -2.]\n",
      "yt : [INFO     ] 2024-08-12 15:22:05,581 Parameters: domain_right_edge         = [1. 2. 2.]\n",
      "yt : [INFO     ] 2024-08-12 15:22:05,600 Parameters: current_time              = 145.60126294435332\n",
      "yt : [INFO     ] 2024-08-12 15:22:05,601 Parameters: domain_dimensions         = [320 256 256]\n",
      "yt : [INFO     ] 2024-08-12 15:22:05,601 Parameters: domain_left_edge          = [-4. -2. -2.]\n",
      "yt : [INFO     ] 2024-08-12 15:22:05,602 Parameters: domain_right_edge         = [1. 2. 2.]\n",
      "yt : [INFO     ] 2024-08-12 15:22:06,123 Parameters: current_time              = 145.80140136063957\n",
      "yt : [INFO     ] 2024-08-12 15:22:06,124 Parameters: domain_dimensions         = [320 256 256]\n",
      "yt : [INFO     ] 2024-08-12 15:22:06,125 Parameters: domain_left_edge          = [-4. -2. -2.]\n",
      "yt : [INFO     ] 2024-08-12 15:22:06,125 Parameters: domain_right_edge         = [1. 2. 2.]\n",
      "yt : [INFO     ] 2024-08-12 15:22:06,144 Parameters: current_time              = 145.80140136063957\n",
      "yt : [INFO     ] 2024-08-12 15:22:06,144 Parameters: domain_dimensions         = [320 256 256]\n",
      "yt : [INFO     ] 2024-08-12 15:22:06,145 Parameters: domain_left_edge          = [-4. -2. -2.]\n",
      "yt : [INFO     ] 2024-08-12 15:22:06,146 Parameters: domain_right_edge         = [1. 2. 2.]\n"
     ]
    },
    {
     "name": "stdout",
     "output_type": "stream",
     "text": [
      "Plotting t = 145.8\n",
      "reading file cut_particle_region0_0_t00000225_n00005978_amrex\n"
     ]
    },
    {
     "name": "stderr",
     "output_type": "stream",
     "text": [
      "yt : [INFO     ] 2024-08-12 15:22:07,050 Parameters: current_time              = 145.80140136063957\n",
      "yt : [INFO     ] 2024-08-12 15:22:07,050 Parameters: domain_dimensions         = [320 256 256]\n",
      "yt : [INFO     ] 2024-08-12 15:22:07,051 Parameters: domain_left_edge          = [-4. -2. -2.]\n",
      "yt : [INFO     ] 2024-08-12 15:22:07,052 Parameters: domain_right_edge         = [1. 2. 2.]\n",
      "yt : [WARNING  ] 2024-08-12 15:22:08,432 Field ('particle', 'unit_one') was added without specifying units or dimensions, auto setting units to \n",
      "yt : [INFO     ] 2024-08-12 15:22:08,500 Parameters: current_time              = 145.80140136063957\n",
      "yt : [INFO     ] 2024-08-12 15:22:08,501 Parameters: domain_dimensions         = [320 256 256]\n",
      "yt : [INFO     ] 2024-08-12 15:22:08,502 Parameters: domain_left_edge          = [-4. -2. -2.]\n",
      "yt : [INFO     ] 2024-08-12 15:22:08,502 Parameters: domain_right_edge         = [1. 2. 2.]\n",
      "yt : [INFO     ] 2024-08-12 15:22:08,521 Parameters: current_time              = 145.80140136063957\n",
      "yt : [INFO     ] 2024-08-12 15:22:08,522 Parameters: domain_dimensions         = [320 256 256]\n",
      "yt : [INFO     ] 2024-08-12 15:22:08,523 Parameters: domain_left_edge          = [-4. -2. -2.]\n",
      "yt : [INFO     ] 2024-08-12 15:22:08,523 Parameters: domain_right_edge         = [1. 2. 2.]\n",
      "yt : [INFO     ] 2024-08-12 15:22:08,919 Parameters: current_time              = 145.80140136063957\n",
      "yt : [INFO     ] 2024-08-12 15:22:08,920 Parameters: domain_dimensions         = [320 256 256]\n",
      "yt : [INFO     ] 2024-08-12 15:22:08,921 Parameters: domain_left_edge          = [-4. -2. -2.]\n",
      "yt : [INFO     ] 2024-08-12 15:22:08,922 Parameters: domain_right_edge         = [1. 2. 2.]\n",
      "yt : [WARNING  ] 2024-08-12 15:22:09,431 Field ('particle', 'unit_one') was added without specifying units or dimensions, auto setting units to \n",
      "yt : [INFO     ] 2024-08-12 15:22:09,502 Parameters: current_time              = 145.80140136063957\n",
      "yt : [INFO     ] 2024-08-12 15:22:09,502 Parameters: domain_dimensions         = [320 256 256]\n",
      "yt : [INFO     ] 2024-08-12 15:22:09,503 Parameters: domain_left_edge          = [-4. -2. -2.]\n",
      "yt : [INFO     ] 2024-08-12 15:22:09,504 Parameters: domain_right_edge         = [1. 2. 2.]\n",
      "yt : [INFO     ] 2024-08-12 15:22:09,523 Parameters: current_time              = 145.80140136063957\n",
      "yt : [INFO     ] 2024-08-12 15:22:09,524 Parameters: domain_dimensions         = [320 256 256]\n",
      "yt : [INFO     ] 2024-08-12 15:22:09,524 Parameters: domain_left_edge          = [-4. -2. -2.]\n",
      "yt : [INFO     ] 2024-08-12 15:22:09,525 Parameters: domain_right_edge         = [1. 2. 2.]\n",
      "yt : [INFO     ] 2024-08-12 15:22:10,081 Parameters: current_time              = 146.00133439686462\n",
      "yt : [INFO     ] 2024-08-12 15:22:10,082 Parameters: domain_dimensions         = [320 256 256]\n",
      "yt : [INFO     ] 2024-08-12 15:22:10,082 Parameters: domain_left_edge          = [-4. -2. -2.]\n",
      "yt : [INFO     ] 2024-08-12 15:22:10,083 Parameters: domain_right_edge         = [1. 2. 2.]\n",
      "yt : [INFO     ] 2024-08-12 15:22:10,102 Parameters: current_time              = 146.00133439686462\n",
      "yt : [INFO     ] 2024-08-12 15:22:10,103 Parameters: domain_dimensions         = [320 256 256]\n",
      "yt : [INFO     ] 2024-08-12 15:22:10,104 Parameters: domain_left_edge          = [-4. -2. -2.]\n",
      "yt : [INFO     ] 2024-08-12 15:22:10,104 Parameters: domain_right_edge         = [1. 2. 2.]\n"
     ]
    },
    {
     "name": "stdout",
     "output_type": "stream",
     "text": [
      "Plotting t = 146.0\n",
      "reading file cut_particle_region0_0_t00000226_n00006098_amrex\n"
     ]
    },
    {
     "name": "stderr",
     "output_type": "stream",
     "text": [
      "yt : [INFO     ] 2024-08-12 15:22:11,021 Parameters: current_time              = 146.00133439686462\n",
      "yt : [INFO     ] 2024-08-12 15:22:11,022 Parameters: domain_dimensions         = [320 256 256]\n",
      "yt : [INFO     ] 2024-08-12 15:22:11,023 Parameters: domain_left_edge          = [-4. -2. -2.]\n",
      "yt : [INFO     ] 2024-08-12 15:22:11,023 Parameters: domain_right_edge         = [1. 2. 2.]\n",
      "yt : [WARNING  ] 2024-08-12 15:22:11,522 Field ('particle', 'unit_one') was added without specifying units or dimensions, auto setting units to \n",
      "yt : [INFO     ] 2024-08-12 15:22:11,590 Parameters: current_time              = 146.00133439686462\n",
      "yt : [INFO     ] 2024-08-12 15:22:11,590 Parameters: domain_dimensions         = [320 256 256]\n",
      "yt : [INFO     ] 2024-08-12 15:22:11,591 Parameters: domain_left_edge          = [-4. -2. -2.]\n",
      "yt : [INFO     ] 2024-08-12 15:22:11,592 Parameters: domain_right_edge         = [1. 2. 2.]\n",
      "yt : [INFO     ] 2024-08-12 15:22:11,611 Parameters: current_time              = 146.00133439686462\n",
      "yt : [INFO     ] 2024-08-12 15:22:11,611 Parameters: domain_dimensions         = [320 256 256]\n",
      "yt : [INFO     ] 2024-08-12 15:22:11,612 Parameters: domain_left_edge          = [-4. -2. -2.]\n",
      "yt : [INFO     ] 2024-08-12 15:22:11,613 Parameters: domain_right_edge         = [1. 2. 2.]\n",
      "yt : [INFO     ] 2024-08-12 15:22:11,998 Parameters: current_time              = 146.00133439686462\n",
      "yt : [INFO     ] 2024-08-12 15:22:11,999 Parameters: domain_dimensions         = [320 256 256]\n",
      "yt : [INFO     ] 2024-08-12 15:22:12,000 Parameters: domain_left_edge          = [-4. -2. -2.]\n",
      "yt : [INFO     ] 2024-08-12 15:22:12,000 Parameters: domain_right_edge         = [1. 2. 2.]\n",
      "yt : [WARNING  ] 2024-08-12 15:22:12,481 Field ('particle', 'unit_one') was added without specifying units or dimensions, auto setting units to \n",
      "yt : [INFO     ] 2024-08-12 15:22:12,549 Parameters: current_time              = 146.00133439686462\n",
      "yt : [INFO     ] 2024-08-12 15:22:12,549 Parameters: domain_dimensions         = [320 256 256]\n",
      "yt : [INFO     ] 2024-08-12 15:22:12,550 Parameters: domain_left_edge          = [-4. -2. -2.]\n",
      "yt : [INFO     ] 2024-08-12 15:22:12,551 Parameters: domain_right_edge         = [1. 2. 2.]\n",
      "yt : [INFO     ] 2024-08-12 15:22:12,570 Parameters: current_time              = 146.00133439686462\n",
      "yt : [INFO     ] 2024-08-12 15:22:12,571 Parameters: domain_dimensions         = [320 256 256]\n",
      "yt : [INFO     ] 2024-08-12 15:22:12,571 Parameters: domain_left_edge          = [-4. -2. -2.]\n",
      "yt : [INFO     ] 2024-08-12 15:22:12,572 Parameters: domain_right_edge         = [1. 2. 2.]\n",
      "yt : [INFO     ] 2024-08-12 15:22:14,033 Parameters: current_time              = 146.2012796372959\n",
      "yt : [INFO     ] 2024-08-12 15:22:14,034 Parameters: domain_dimensions         = [320 256 256]\n",
      "yt : [INFO     ] 2024-08-12 15:22:14,035 Parameters: domain_left_edge          = [-4. -2. -2.]\n",
      "yt : [INFO     ] 2024-08-12 15:22:14,035 Parameters: domain_right_edge         = [1. 2. 2.]\n",
      "yt : [INFO     ] 2024-08-12 15:22:14,055 Parameters: current_time              = 146.2012796372959\n",
      "yt : [INFO     ] 2024-08-12 15:22:14,055 Parameters: domain_dimensions         = [320 256 256]\n",
      "yt : [INFO     ] 2024-08-12 15:22:14,056 Parameters: domain_left_edge          = [-4. -2. -2.]\n",
      "yt : [INFO     ] 2024-08-12 15:22:14,057 Parameters: domain_right_edge         = [1. 2. 2.]\n"
     ]
    },
    {
     "name": "stdout",
     "output_type": "stream",
     "text": [
      "Plotting t = 146.2\n",
      "reading file cut_particle_region0_0_t00000226_n00006213_amrex\n"
     ]
    },
    {
     "name": "stderr",
     "output_type": "stream",
     "text": [
      "yt : [INFO     ] 2024-08-12 15:22:14,985 Parameters: current_time              = 146.2012796372959\n",
      "yt : [INFO     ] 2024-08-12 15:22:14,986 Parameters: domain_dimensions         = [320 256 256]\n",
      "yt : [INFO     ] 2024-08-12 15:22:14,987 Parameters: domain_left_edge          = [-4. -2. -2.]\n",
      "yt : [INFO     ] 2024-08-12 15:22:14,987 Parameters: domain_right_edge         = [1. 2. 2.]\n",
      "yt : [WARNING  ] 2024-08-12 15:22:15,494 Field ('particle', 'unit_one') was added without specifying units or dimensions, auto setting units to \n",
      "yt : [INFO     ] 2024-08-12 15:22:15,563 Parameters: current_time              = 146.2012796372959\n",
      "yt : [INFO     ] 2024-08-12 15:22:15,563 Parameters: domain_dimensions         = [320 256 256]\n",
      "yt : [INFO     ] 2024-08-12 15:22:15,564 Parameters: domain_left_edge          = [-4. -2. -2.]\n",
      "yt : [INFO     ] 2024-08-12 15:22:15,565 Parameters: domain_right_edge         = [1. 2. 2.]\n",
      "yt : [INFO     ] 2024-08-12 15:22:15,584 Parameters: current_time              = 146.2012796372959\n",
      "yt : [INFO     ] 2024-08-12 15:22:15,584 Parameters: domain_dimensions         = [320 256 256]\n",
      "yt : [INFO     ] 2024-08-12 15:22:15,585 Parameters: domain_left_edge          = [-4. -2. -2.]\n",
      "yt : [INFO     ] 2024-08-12 15:22:15,586 Parameters: domain_right_edge         = [1. 2. 2.]\n",
      "yt : [INFO     ] 2024-08-12 15:22:15,984 Parameters: current_time              = 146.2012796372959\n",
      "yt : [INFO     ] 2024-08-12 15:22:15,985 Parameters: domain_dimensions         = [320 256 256]\n",
      "yt : [INFO     ] 2024-08-12 15:22:15,986 Parameters: domain_left_edge          = [-4. -2. -2.]\n",
      "yt : [INFO     ] 2024-08-12 15:22:15,987 Parameters: domain_right_edge         = [1. 2. 2.]\n",
      "yt : [WARNING  ] 2024-08-12 15:22:16,479 Field ('particle', 'unit_one') was added without specifying units or dimensions, auto setting units to \n",
      "yt : [INFO     ] 2024-08-12 15:22:16,548 Parameters: current_time              = 146.2012796372959\n",
      "yt : [INFO     ] 2024-08-12 15:22:16,549 Parameters: domain_dimensions         = [320 256 256]\n",
      "yt : [INFO     ] 2024-08-12 15:22:16,550 Parameters: domain_left_edge          = [-4. -2. -2.]\n",
      "yt : [INFO     ] 2024-08-12 15:22:16,550 Parameters: domain_right_edge         = [1. 2. 2.]\n",
      "yt : [INFO     ] 2024-08-12 15:22:16,573 Parameters: current_time              = 146.2012796372959\n",
      "yt : [INFO     ] 2024-08-12 15:22:16,574 Parameters: domain_dimensions         = [320 256 256]\n",
      "yt : [INFO     ] 2024-08-12 15:22:16,575 Parameters: domain_left_edge          = [-4. -2. -2.]\n",
      "yt : [INFO     ] 2024-08-12 15:22:16,575 Parameters: domain_right_edge         = [1. 2. 2.]\n",
      "yt : [INFO     ] 2024-08-12 15:22:17,135 Parameters: current_time              = 146.40072743240543\n",
      "yt : [INFO     ] 2024-08-12 15:22:17,136 Parameters: domain_dimensions         = [320 256 256]\n",
      "yt : [INFO     ] 2024-08-12 15:22:17,137 Parameters: domain_left_edge          = [-4. -2. -2.]\n",
      "yt : [INFO     ] 2024-08-12 15:22:17,137 Parameters: domain_right_edge         = [1. 2. 2.]\n",
      "yt : [INFO     ] 2024-08-12 15:22:17,161 Parameters: current_time              = 146.40072743240543\n",
      "yt : [INFO     ] 2024-08-12 15:22:17,162 Parameters: domain_dimensions         = [320 256 256]\n",
      "yt : [INFO     ] 2024-08-12 15:22:17,163 Parameters: domain_left_edge          = [-4. -2. -2.]\n",
      "yt : [INFO     ] 2024-08-12 15:22:17,164 Parameters: domain_right_edge         = [1. 2. 2.]\n"
     ]
    },
    {
     "name": "stdout",
     "output_type": "stream",
     "text": [
      "Plotting t = 146.4\n",
      "reading file cut_particle_region0_0_t00000226_n00006334_amrex\n"
     ]
    },
    {
     "name": "stderr",
     "output_type": "stream",
     "text": [
      "yt : [INFO     ] 2024-08-12 15:22:18,094 Parameters: current_time              = 146.40072743240543\n",
      "yt : [INFO     ] 2024-08-12 15:22:18,094 Parameters: domain_dimensions         = [320 256 256]\n",
      "yt : [INFO     ] 2024-08-12 15:22:18,095 Parameters: domain_left_edge          = [-4. -2. -2.]\n",
      "yt : [INFO     ] 2024-08-12 15:22:18,096 Parameters: domain_right_edge         = [1. 2. 2.]\n",
      "yt : [WARNING  ] 2024-08-12 15:22:18,585 Field ('particle', 'unit_one') was added without specifying units or dimensions, auto setting units to \n",
      "yt : [INFO     ] 2024-08-12 15:22:18,653 Parameters: current_time              = 146.40072743240543\n",
      "yt : [INFO     ] 2024-08-12 15:22:18,654 Parameters: domain_dimensions         = [320 256 256]\n",
      "yt : [INFO     ] 2024-08-12 15:22:18,655 Parameters: domain_left_edge          = [-4. -2. -2.]\n",
      "yt : [INFO     ] 2024-08-12 15:22:18,655 Parameters: domain_right_edge         = [1. 2. 2.]\n",
      "yt : [INFO     ] 2024-08-12 15:22:18,674 Parameters: current_time              = 146.40072743240543\n",
      "yt : [INFO     ] 2024-08-12 15:22:18,675 Parameters: domain_dimensions         = [320 256 256]\n",
      "yt : [INFO     ] 2024-08-12 15:22:18,676 Parameters: domain_left_edge          = [-4. -2. -2.]\n",
      "yt : [INFO     ] 2024-08-12 15:22:18,677 Parameters: domain_right_edge         = [1. 2. 2.]\n",
      "yt : [INFO     ] 2024-08-12 15:22:19,915 Parameters: current_time              = 146.40072743240543\n",
      "yt : [INFO     ] 2024-08-12 15:22:19,916 Parameters: domain_dimensions         = [320 256 256]\n",
      "yt : [INFO     ] 2024-08-12 15:22:19,917 Parameters: domain_left_edge          = [-4. -2. -2.]\n",
      "yt : [INFO     ] 2024-08-12 15:22:19,917 Parameters: domain_right_edge         = [1. 2. 2.]\n",
      "yt : [WARNING  ] 2024-08-12 15:22:20,396 Field ('particle', 'unit_one') was added without specifying units or dimensions, auto setting units to \n",
      "yt : [INFO     ] 2024-08-12 15:22:20,463 Parameters: current_time              = 146.40072743240543\n",
      "yt : [INFO     ] 2024-08-12 15:22:20,464 Parameters: domain_dimensions         = [320 256 256]\n",
      "yt : [INFO     ] 2024-08-12 15:22:20,464 Parameters: domain_left_edge          = [-4. -2. -2.]\n",
      "yt : [INFO     ] 2024-08-12 15:22:20,465 Parameters: domain_right_edge         = [1. 2. 2.]\n",
      "yt : [INFO     ] 2024-08-12 15:22:20,484 Parameters: current_time              = 146.40072743240543\n",
      "yt : [INFO     ] 2024-08-12 15:22:20,484 Parameters: domain_dimensions         = [320 256 256]\n",
      "yt : [INFO     ] 2024-08-12 15:22:20,485 Parameters: domain_left_edge          = [-4. -2. -2.]\n",
      "yt : [INFO     ] 2024-08-12 15:22:20,486 Parameters: domain_right_edge         = [1. 2. 2.]\n",
      "yt : [INFO     ] 2024-08-12 15:22:21,038 Parameters: current_time              = 146.60016642892603\n",
      "yt : [INFO     ] 2024-08-12 15:22:21,038 Parameters: domain_dimensions         = [320 256 256]\n",
      "yt : [INFO     ] 2024-08-12 15:22:21,039 Parameters: domain_left_edge          = [-4. -2. -2.]\n",
      "yt : [INFO     ] 2024-08-12 15:22:21,040 Parameters: domain_right_edge         = [1. 2. 2.]\n",
      "yt : [INFO     ] 2024-08-12 15:22:21,058 Parameters: current_time              = 146.60016642892603\n",
      "yt : [INFO     ] 2024-08-12 15:22:21,059 Parameters: domain_dimensions         = [320 256 256]\n",
      "yt : [INFO     ] 2024-08-12 15:22:21,060 Parameters: domain_left_edge          = [-4. -2. -2.]\n",
      "yt : [INFO     ] 2024-08-12 15:22:21,061 Parameters: domain_right_edge         = [1. 2. 2.]\n"
     ]
    },
    {
     "name": "stdout",
     "output_type": "stream",
     "text": [
      "Plotting t = 146.6\n",
      "reading file cut_particle_region0_0_t00000226_n00006453_amrex\n"
     ]
    },
    {
     "name": "stderr",
     "output_type": "stream",
     "text": [
      "yt : [INFO     ] 2024-08-12 15:22:21,984 Parameters: current_time              = 146.60016642892603\n",
      "yt : [INFO     ] 2024-08-12 15:22:21,985 Parameters: domain_dimensions         = [320 256 256]\n",
      "yt : [INFO     ] 2024-08-12 15:22:21,985 Parameters: domain_left_edge          = [-4. -2. -2.]\n",
      "yt : [INFO     ] 2024-08-12 15:22:21,986 Parameters: domain_right_edge         = [1. 2. 2.]\n",
      "yt : [WARNING  ] 2024-08-12 15:22:22,450 Field ('particle', 'unit_one') was added without specifying units or dimensions, auto setting units to \n",
      "yt : [INFO     ] 2024-08-12 15:22:22,514 Parameters: current_time              = 146.60016642892603\n",
      "yt : [INFO     ] 2024-08-12 15:22:22,515 Parameters: domain_dimensions         = [320 256 256]\n",
      "yt : [INFO     ] 2024-08-12 15:22:22,516 Parameters: domain_left_edge          = [-4. -2. -2.]\n",
      "yt : [INFO     ] 2024-08-12 15:22:22,516 Parameters: domain_right_edge         = [1. 2. 2.]\n",
      "yt : [INFO     ] 2024-08-12 15:22:22,535 Parameters: current_time              = 146.60016642892603\n",
      "yt : [INFO     ] 2024-08-12 15:22:22,535 Parameters: domain_dimensions         = [320 256 256]\n",
      "yt : [INFO     ] 2024-08-12 15:22:22,536 Parameters: domain_left_edge          = [-4. -2. -2.]\n",
      "yt : [INFO     ] 2024-08-12 15:22:22,536 Parameters: domain_right_edge         = [1. 2. 2.]\n",
      "yt : [INFO     ] 2024-08-12 15:22:22,913 Parameters: current_time              = 146.60016642892603\n",
      "yt : [INFO     ] 2024-08-12 15:22:22,914 Parameters: domain_dimensions         = [320 256 256]\n",
      "yt : [INFO     ] 2024-08-12 15:22:22,915 Parameters: domain_left_edge          = [-4. -2. -2.]\n",
      "yt : [INFO     ] 2024-08-12 15:22:22,916 Parameters: domain_right_edge         = [1. 2. 2.]\n",
      "yt : [WARNING  ] 2024-08-12 15:22:23,383 Field ('particle', 'unit_one') was added without specifying units or dimensions, auto setting units to \n",
      "yt : [INFO     ] 2024-08-12 15:22:23,455 Parameters: current_time              = 146.60016642892603\n",
      "yt : [INFO     ] 2024-08-12 15:22:23,456 Parameters: domain_dimensions         = [320 256 256]\n",
      "yt : [INFO     ] 2024-08-12 15:22:23,456 Parameters: domain_left_edge          = [-4. -2. -2.]\n",
      "yt : [INFO     ] 2024-08-12 15:22:23,457 Parameters: domain_right_edge         = [1. 2. 2.]\n",
      "yt : [INFO     ] 2024-08-12 15:22:23,477 Parameters: current_time              = 146.60016642892603\n",
      "yt : [INFO     ] 2024-08-12 15:22:23,478 Parameters: domain_dimensions         = [320 256 256]\n",
      "yt : [INFO     ] 2024-08-12 15:22:23,479 Parameters: domain_left_edge          = [-4. -2. -2.]\n",
      "yt : [INFO     ] 2024-08-12 15:22:23,480 Parameters: domain_right_edge         = [1. 2. 2.]\n",
      "yt : [INFO     ] 2024-08-12 15:22:24,020 Parameters: current_time              = 146.8008924264645\n",
      "yt : [INFO     ] 2024-08-12 15:22:24,021 Parameters: domain_dimensions         = [320 256 256]\n",
      "yt : [INFO     ] 2024-08-12 15:22:24,022 Parameters: domain_left_edge          = [-4. -2. -2.]\n",
      "yt : [INFO     ] 2024-08-12 15:22:24,023 Parameters: domain_right_edge         = [1. 2. 2.]\n",
      "yt : [INFO     ] 2024-08-12 15:22:24,043 Parameters: current_time              = 146.8008924264645\n",
      "yt : [INFO     ] 2024-08-12 15:22:24,044 Parameters: domain_dimensions         = [320 256 256]\n",
      "yt : [INFO     ] 2024-08-12 15:22:24,044 Parameters: domain_left_edge          = [-4. -2. -2.]\n",
      "yt : [INFO     ] 2024-08-12 15:22:24,045 Parameters: domain_right_edge         = [1. 2. 2.]\n"
     ]
    },
    {
     "name": "stdout",
     "output_type": "stream",
     "text": [
      "Plotting t = 146.8\n",
      "reading file cut_particle_region0_0_t00000226_n00006575_amrex\n"
     ]
    },
    {
     "name": "stderr",
     "output_type": "stream",
     "text": [
      "yt : [INFO     ] 2024-08-12 15:22:24,987 Parameters: current_time              = 146.8008924264645\n",
      "yt : [INFO     ] 2024-08-12 15:22:24,988 Parameters: domain_dimensions         = [320 256 256]\n",
      "yt : [INFO     ] 2024-08-12 15:22:24,989 Parameters: domain_left_edge          = [-4. -2. -2.]\n",
      "yt : [INFO     ] 2024-08-12 15:22:24,989 Parameters: domain_right_edge         = [1. 2. 2.]\n",
      "yt : [WARNING  ] 2024-08-12 15:22:26,342 Field ('particle', 'unit_one') was added without specifying units or dimensions, auto setting units to \n",
      "yt : [INFO     ] 2024-08-12 15:22:26,408 Parameters: current_time              = 146.8008924264645\n",
      "yt : [INFO     ] 2024-08-12 15:22:26,408 Parameters: domain_dimensions         = [320 256 256]\n",
      "yt : [INFO     ] 2024-08-12 15:22:26,409 Parameters: domain_left_edge          = [-4. -2. -2.]\n",
      "yt : [INFO     ] 2024-08-12 15:22:26,410 Parameters: domain_right_edge         = [1. 2. 2.]\n",
      "yt : [INFO     ] 2024-08-12 15:22:26,428 Parameters: current_time              = 146.8008924264645\n",
      "yt : [INFO     ] 2024-08-12 15:22:26,429 Parameters: domain_dimensions         = [320 256 256]\n",
      "yt : [INFO     ] 2024-08-12 15:22:26,429 Parameters: domain_left_edge          = [-4. -2. -2.]\n",
      "yt : [INFO     ] 2024-08-12 15:22:26,430 Parameters: domain_right_edge         = [1. 2. 2.]\n",
      "yt : [INFO     ] 2024-08-12 15:22:26,807 Parameters: current_time              = 146.8008924264645\n",
      "yt : [INFO     ] 2024-08-12 15:22:26,808 Parameters: domain_dimensions         = [320 256 256]\n",
      "yt : [INFO     ] 2024-08-12 15:22:26,809 Parameters: domain_left_edge          = [-4. -2. -2.]\n",
      "yt : [INFO     ] 2024-08-12 15:22:26,809 Parameters: domain_right_edge         = [1. 2. 2.]\n",
      "yt : [WARNING  ] 2024-08-12 15:22:27,286 Field ('particle', 'unit_one') was added without specifying units or dimensions, auto setting units to \n",
      "yt : [INFO     ] 2024-08-12 15:22:27,356 Parameters: current_time              = 146.8008924264645\n",
      "yt : [INFO     ] 2024-08-12 15:22:27,357 Parameters: domain_dimensions         = [320 256 256]\n",
      "yt : [INFO     ] 2024-08-12 15:22:27,358 Parameters: domain_left_edge          = [-4. -2. -2.]\n",
      "yt : [INFO     ] 2024-08-12 15:22:27,359 Parameters: domain_right_edge         = [1. 2. 2.]\n",
      "yt : [INFO     ] 2024-08-12 15:22:27,379 Parameters: current_time              = 146.8008924264645\n",
      "yt : [INFO     ] 2024-08-12 15:22:27,379 Parameters: domain_dimensions         = [320 256 256]\n",
      "yt : [INFO     ] 2024-08-12 15:22:27,380 Parameters: domain_left_edge          = [-4. -2. -2.]\n",
      "yt : [INFO     ] 2024-08-12 15:22:27,381 Parameters: domain_right_edge         = [1. 2. 2.]\n",
      "yt : [INFO     ] 2024-08-12 15:22:27,935 Parameters: current_time              = 147.00102830659304\n",
      "yt : [INFO     ] 2024-08-12 15:22:27,936 Parameters: domain_dimensions         = [320 256 256]\n",
      "yt : [INFO     ] 2024-08-12 15:22:27,936 Parameters: domain_left_edge          = [-4. -2. -2.]\n",
      "yt : [INFO     ] 2024-08-12 15:22:27,937 Parameters: domain_right_edge         = [1. 2. 2.]\n",
      "yt : [INFO     ] 2024-08-12 15:22:27,956 Parameters: current_time              = 147.00102830659304\n",
      "yt : [INFO     ] 2024-08-12 15:22:27,957 Parameters: domain_dimensions         = [320 256 256]\n",
      "yt : [INFO     ] 2024-08-12 15:22:27,957 Parameters: domain_left_edge          = [-4. -2. -2.]\n",
      "yt : [INFO     ] 2024-08-12 15:22:27,958 Parameters: domain_right_edge         = [1. 2. 2.]\n"
     ]
    },
    {
     "name": "stdout",
     "output_type": "stream",
     "text": [
      "Plotting t = 147.0\n",
      "reading file cut_particle_region0_0_t00000227_n00006696_amrex\n"
     ]
    },
    {
     "name": "stderr",
     "output_type": "stream",
     "text": [
      "yt : [INFO     ] 2024-08-12 15:22:28,875 Parameters: current_time              = 147.00102830659304\n",
      "yt : [INFO     ] 2024-08-12 15:22:28,876 Parameters: domain_dimensions         = [320 256 256]\n",
      "yt : [INFO     ] 2024-08-12 15:22:28,877 Parameters: domain_left_edge          = [-4. -2. -2.]\n",
      "yt : [INFO     ] 2024-08-12 15:22:28,878 Parameters: domain_right_edge         = [1. 2. 2.]\n",
      "yt : [WARNING  ] 2024-08-12 15:22:29,348 Field ('particle', 'unit_one') was added without specifying units or dimensions, auto setting units to \n",
      "yt : [INFO     ] 2024-08-12 15:22:29,415 Parameters: current_time              = 147.00102830659304\n",
      "yt : [INFO     ] 2024-08-12 15:22:29,415 Parameters: domain_dimensions         = [320 256 256]\n",
      "yt : [INFO     ] 2024-08-12 15:22:29,416 Parameters: domain_left_edge          = [-4. -2. -2.]\n",
      "yt : [INFO     ] 2024-08-12 15:22:29,417 Parameters: domain_right_edge         = [1. 2. 2.]\n",
      "yt : [INFO     ] 2024-08-12 15:22:29,436 Parameters: current_time              = 147.00102830659304\n",
      "yt : [INFO     ] 2024-08-12 15:22:29,436 Parameters: domain_dimensions         = [320 256 256]\n",
      "yt : [INFO     ] 2024-08-12 15:22:29,437 Parameters: domain_left_edge          = [-4. -2. -2.]\n",
      "yt : [INFO     ] 2024-08-12 15:22:29,438 Parameters: domain_right_edge         = [1. 2. 2.]\n",
      "yt : [INFO     ] 2024-08-12 15:22:29,824 Parameters: current_time              = 147.00102830659304\n",
      "yt : [INFO     ] 2024-08-12 15:22:29,825 Parameters: domain_dimensions         = [320 256 256]\n",
      "yt : [INFO     ] 2024-08-12 15:22:29,826 Parameters: domain_left_edge          = [-4. -2. -2.]\n",
      "yt : [INFO     ] 2024-08-12 15:22:29,826 Parameters: domain_right_edge         = [1. 2. 2.]\n",
      "yt : [WARNING  ] 2024-08-12 15:22:30,287 Field ('particle', 'unit_one') was added without specifying units or dimensions, auto setting units to \n",
      "yt : [INFO     ] 2024-08-12 15:22:30,351 Parameters: current_time              = 147.00102830659304\n",
      "yt : [INFO     ] 2024-08-12 15:22:30,352 Parameters: domain_dimensions         = [320 256 256]\n",
      "yt : [INFO     ] 2024-08-12 15:22:30,353 Parameters: domain_left_edge          = [-4. -2. -2.]\n",
      "yt : [INFO     ] 2024-08-12 15:22:30,353 Parameters: domain_right_edge         = [1. 2. 2.]\n",
      "yt : [INFO     ] 2024-08-12 15:22:30,372 Parameters: current_time              = 147.00102830659304\n",
      "yt : [INFO     ] 2024-08-12 15:22:30,373 Parameters: domain_dimensions         = [320 256 256]\n",
      "yt : [INFO     ] 2024-08-12 15:22:30,373 Parameters: domain_left_edge          = [-4. -2. -2.]\n",
      "yt : [INFO     ] 2024-08-12 15:22:30,374 Parameters: domain_right_edge         = [1. 2. 2.]\n",
      "yt : [INFO     ] 2024-08-12 15:22:31,806 Parameters: current_time              = 147.20060475423165\n",
      "yt : [INFO     ] 2024-08-12 15:22:31,807 Parameters: domain_dimensions         = [320 256 256]\n",
      "yt : [INFO     ] 2024-08-12 15:22:31,808 Parameters: domain_left_edge          = [-4. -2. -2.]\n",
      "yt : [INFO     ] 2024-08-12 15:22:31,808 Parameters: domain_right_edge         = [1. 2. 2.]\n",
      "yt : [INFO     ] 2024-08-12 15:22:31,827 Parameters: current_time              = 147.20060475423165\n",
      "yt : [INFO     ] 2024-08-12 15:22:31,828 Parameters: domain_dimensions         = [320 256 256]\n",
      "yt : [INFO     ] 2024-08-12 15:22:31,829 Parameters: domain_left_edge          = [-4. -2. -2.]\n",
      "yt : [INFO     ] 2024-08-12 15:22:31,830 Parameters: domain_right_edge         = [1. 2. 2.]\n"
     ]
    },
    {
     "name": "stdout",
     "output_type": "stream",
     "text": [
      "Plotting t = 147.2\n",
      "reading file cut_particle_region0_0_t00000227_n00006814_amrex\n"
     ]
    },
    {
     "name": "stderr",
     "output_type": "stream",
     "text": [
      "yt : [INFO     ] 2024-08-12 15:22:32,727 Parameters: current_time              = 147.20060475423165\n",
      "yt : [INFO     ] 2024-08-12 15:22:32,728 Parameters: domain_dimensions         = [320 256 256]\n",
      "yt : [INFO     ] 2024-08-12 15:22:32,728 Parameters: domain_left_edge          = [-4. -2. -2.]\n",
      "yt : [INFO     ] 2024-08-12 15:22:32,729 Parameters: domain_right_edge         = [1. 2. 2.]\n",
      "yt : [WARNING  ] 2024-08-12 15:22:33,200 Field ('particle', 'unit_one') was added without specifying units or dimensions, auto setting units to \n",
      "yt : [INFO     ] 2024-08-12 15:22:33,264 Parameters: current_time              = 147.20060475423165\n",
      "yt : [INFO     ] 2024-08-12 15:22:33,265 Parameters: domain_dimensions         = [320 256 256]\n",
      "yt : [INFO     ] 2024-08-12 15:22:33,266 Parameters: domain_left_edge          = [-4. -2. -2.]\n",
      "yt : [INFO     ] 2024-08-12 15:22:33,266 Parameters: domain_right_edge         = [1. 2. 2.]\n",
      "yt : [INFO     ] 2024-08-12 15:22:33,285 Parameters: current_time              = 147.20060475423165\n",
      "yt : [INFO     ] 2024-08-12 15:22:33,285 Parameters: domain_dimensions         = [320 256 256]\n",
      "yt : [INFO     ] 2024-08-12 15:22:33,286 Parameters: domain_left_edge          = [-4. -2. -2.]\n",
      "yt : [INFO     ] 2024-08-12 15:22:33,286 Parameters: domain_right_edge         = [1. 2. 2.]\n",
      "yt : [INFO     ] 2024-08-12 15:22:33,671 Parameters: current_time              = 147.20060475423165\n",
      "yt : [INFO     ] 2024-08-12 15:22:33,672 Parameters: domain_dimensions         = [320 256 256]\n",
      "yt : [INFO     ] 2024-08-12 15:22:33,673 Parameters: domain_left_edge          = [-4. -2. -2.]\n",
      "yt : [INFO     ] 2024-08-12 15:22:33,673 Parameters: domain_right_edge         = [1. 2. 2.]\n",
      "yt : [WARNING  ] 2024-08-12 15:22:34,142 Field ('particle', 'unit_one') was added without specifying units or dimensions, auto setting units to \n",
      "yt : [INFO     ] 2024-08-12 15:22:34,207 Parameters: current_time              = 147.20060475423165\n",
      "yt : [INFO     ] 2024-08-12 15:22:34,208 Parameters: domain_dimensions         = [320 256 256]\n",
      "yt : [INFO     ] 2024-08-12 15:22:34,209 Parameters: domain_left_edge          = [-4. -2. -2.]\n",
      "yt : [INFO     ] 2024-08-12 15:22:34,209 Parameters: domain_right_edge         = [1. 2. 2.]\n",
      "yt : [INFO     ] 2024-08-12 15:22:34,228 Parameters: current_time              = 147.20060475423165\n",
      "yt : [INFO     ] 2024-08-12 15:22:34,229 Parameters: domain_dimensions         = [320 256 256]\n",
      "yt : [INFO     ] 2024-08-12 15:22:34,229 Parameters: domain_left_edge          = [-4. -2. -2.]\n",
      "yt : [INFO     ] 2024-08-12 15:22:34,230 Parameters: domain_right_edge         = [1. 2. 2.]\n",
      "yt : [INFO     ] 2024-08-12 15:22:34,765 Parameters: current_time              = 147.40065356986747\n",
      "yt : [INFO     ] 2024-08-12 15:22:34,767 Parameters: domain_dimensions         = [320 256 256]\n",
      "yt : [INFO     ] 2024-08-12 15:22:34,767 Parameters: domain_left_edge          = [-4. -2. -2.]\n",
      "yt : [INFO     ] 2024-08-12 15:22:34,768 Parameters: domain_right_edge         = [1. 2. 2.]\n",
      "yt : [INFO     ] 2024-08-12 15:22:34,787 Parameters: current_time              = 147.40065356986747\n",
      "yt : [INFO     ] 2024-08-12 15:22:34,788 Parameters: domain_dimensions         = [320 256 256]\n",
      "yt : [INFO     ] 2024-08-12 15:22:34,789 Parameters: domain_left_edge          = [-4. -2. -2.]\n",
      "yt : [INFO     ] 2024-08-12 15:22:34,790 Parameters: domain_right_edge         = [1. 2. 2.]\n"
     ]
    },
    {
     "name": "stdout",
     "output_type": "stream",
     "text": [
      "Plotting t = 147.4\n",
      "reading file cut_particle_region0_0_t00000227_n00006929_amrex\n"
     ]
    },
    {
     "name": "stderr",
     "output_type": "stream",
     "text": [
      "yt : [INFO     ] 2024-08-12 15:22:35,695 Parameters: current_time              = 147.40065356986747\n",
      "yt : [INFO     ] 2024-08-12 15:22:35,696 Parameters: domain_dimensions         = [320 256 256]\n",
      "yt : [INFO     ] 2024-08-12 15:22:35,697 Parameters: domain_left_edge          = [-4. -2. -2.]\n",
      "yt : [INFO     ] 2024-08-12 15:22:35,697 Parameters: domain_right_edge         = [1. 2. 2.]\n",
      "yt : [WARNING  ] 2024-08-12 15:22:36,168 Field ('particle', 'unit_one') was added without specifying units or dimensions, auto setting units to \n",
      "yt : [INFO     ] 2024-08-12 15:22:36,237 Parameters: current_time              = 147.40065356986747\n",
      "yt : [INFO     ] 2024-08-12 15:22:36,238 Parameters: domain_dimensions         = [320 256 256]\n",
      "yt : [INFO     ] 2024-08-12 15:22:36,239 Parameters: domain_left_edge          = [-4. -2. -2.]\n",
      "yt : [INFO     ] 2024-08-12 15:22:36,239 Parameters: domain_right_edge         = [1. 2. 2.]\n",
      "yt : [INFO     ] 2024-08-12 15:22:36,259 Parameters: current_time              = 147.40065356986747\n",
      "yt : [INFO     ] 2024-08-12 15:22:36,260 Parameters: domain_dimensions         = [320 256 256]\n",
      "yt : [INFO     ] 2024-08-12 15:22:36,261 Parameters: domain_left_edge          = [-4. -2. -2.]\n",
      "yt : [INFO     ] 2024-08-12 15:22:36,262 Parameters: domain_right_edge         = [1. 2. 2.]\n",
      "yt : [INFO     ] 2024-08-12 15:22:36,637 Parameters: current_time              = 147.40065356986747\n",
      "yt : [INFO     ] 2024-08-12 15:22:36,638 Parameters: domain_dimensions         = [320 256 256]\n",
      "yt : [INFO     ] 2024-08-12 15:22:36,639 Parameters: domain_left_edge          = [-4. -2. -2.]\n",
      "yt : [INFO     ] 2024-08-12 15:22:36,639 Parameters: domain_right_edge         = [1. 2. 2.]\n",
      "yt : [WARNING  ] 2024-08-12 15:22:38,015 Field ('particle', 'unit_one') was added without specifying units or dimensions, auto setting units to \n",
      "yt : [INFO     ] 2024-08-12 15:22:38,079 Parameters: current_time              = 147.40065356986747\n",
      "yt : [INFO     ] 2024-08-12 15:22:38,080 Parameters: domain_dimensions         = [320 256 256]\n",
      "yt : [INFO     ] 2024-08-12 15:22:38,081 Parameters: domain_left_edge          = [-4. -2. -2.]\n",
      "yt : [INFO     ] 2024-08-12 15:22:38,081 Parameters: domain_right_edge         = [1. 2. 2.]\n",
      "yt : [INFO     ] 2024-08-12 15:22:38,100 Parameters: current_time              = 147.40065356986747\n",
      "yt : [INFO     ] 2024-08-12 15:22:38,100 Parameters: domain_dimensions         = [320 256 256]\n",
      "yt : [INFO     ] 2024-08-12 15:22:38,101 Parameters: domain_left_edge          = [-4. -2. -2.]\n",
      "yt : [INFO     ] 2024-08-12 15:22:38,102 Parameters: domain_right_edge         = [1. 2. 2.]\n",
      "yt : [INFO     ] 2024-08-12 15:22:38,641 Parameters: current_time              = 147.6013816757867\n",
      "yt : [INFO     ] 2024-08-12 15:22:38,642 Parameters: domain_dimensions         = [320 256 256]\n",
      "yt : [INFO     ] 2024-08-12 15:22:38,643 Parameters: domain_left_edge          = [-4. -2. -2.]\n",
      "yt : [INFO     ] 2024-08-12 15:22:38,643 Parameters: domain_right_edge         = [1. 2. 2.]\n",
      "yt : [INFO     ] 2024-08-12 15:22:38,662 Parameters: current_time              = 147.6013816757867\n",
      "yt : [INFO     ] 2024-08-12 15:22:38,663 Parameters: domain_dimensions         = [320 256 256]\n",
      "yt : [INFO     ] 2024-08-12 15:22:38,664 Parameters: domain_left_edge          = [-4. -2. -2.]\n",
      "yt : [INFO     ] 2024-08-12 15:22:38,665 Parameters: domain_right_edge         = [1. 2. 2.]\n"
     ]
    },
    {
     "name": "stdout",
     "output_type": "stream",
     "text": [
      "Plotting t = 147.6\n",
      "reading file cut_particle_region0_0_t00000227_n00007048_amrex\n"
     ]
    },
    {
     "name": "stderr",
     "output_type": "stream",
     "text": [
      "yt : [INFO     ] 2024-08-12 15:22:39,606 Parameters: current_time              = 147.6013816757867\n",
      "yt : [INFO     ] 2024-08-12 15:22:39,607 Parameters: domain_dimensions         = [320 256 256]\n",
      "yt : [INFO     ] 2024-08-12 15:22:39,608 Parameters: domain_left_edge          = [-4. -2. -2.]\n",
      "yt : [INFO     ] 2024-08-12 15:22:39,608 Parameters: domain_right_edge         = [1. 2. 2.]\n",
      "yt : [WARNING  ] 2024-08-12 15:22:40,094 Field ('particle', 'unit_one') was added without specifying units or dimensions, auto setting units to \n",
      "yt : [INFO     ] 2024-08-12 15:22:40,163 Parameters: current_time              = 147.6013816757867\n",
      "yt : [INFO     ] 2024-08-12 15:22:40,164 Parameters: domain_dimensions         = [320 256 256]\n",
      "yt : [INFO     ] 2024-08-12 15:22:40,165 Parameters: domain_left_edge          = [-4. -2. -2.]\n",
      "yt : [INFO     ] 2024-08-12 15:22:40,165 Parameters: domain_right_edge         = [1. 2. 2.]\n",
      "yt : [INFO     ] 2024-08-12 15:22:40,184 Parameters: current_time              = 147.6013816757867\n",
      "yt : [INFO     ] 2024-08-12 15:22:40,185 Parameters: domain_dimensions         = [320 256 256]\n",
      "yt : [INFO     ] 2024-08-12 15:22:40,186 Parameters: domain_left_edge          = [-4. -2. -2.]\n",
      "yt : [INFO     ] 2024-08-12 15:22:40,186 Parameters: domain_right_edge         = [1. 2. 2.]\n",
      "yt : [INFO     ] 2024-08-12 15:22:40,572 Parameters: current_time              = 147.6013816757867\n",
      "yt : [INFO     ] 2024-08-12 15:22:40,572 Parameters: domain_dimensions         = [320 256 256]\n",
      "yt : [INFO     ] 2024-08-12 15:22:40,573 Parameters: domain_left_edge          = [-4. -2. -2.]\n",
      "yt : [INFO     ] 2024-08-12 15:22:40,574 Parameters: domain_right_edge         = [1. 2. 2.]\n",
      "yt : [WARNING  ] 2024-08-12 15:22:41,055 Field ('particle', 'unit_one') was added without specifying units or dimensions, auto setting units to \n",
      "yt : [INFO     ] 2024-08-12 15:22:41,126 Parameters: current_time              = 147.6013816757867\n",
      "yt : [INFO     ] 2024-08-12 15:22:41,127 Parameters: domain_dimensions         = [320 256 256]\n",
      "yt : [INFO     ] 2024-08-12 15:22:41,128 Parameters: domain_left_edge          = [-4. -2. -2.]\n",
      "yt : [INFO     ] 2024-08-12 15:22:41,128 Parameters: domain_right_edge         = [1. 2. 2.]\n",
      "yt : [INFO     ] 2024-08-12 15:22:41,147 Parameters: current_time              = 147.6013816757867\n",
      "yt : [INFO     ] 2024-08-12 15:22:41,148 Parameters: domain_dimensions         = [320 256 256]\n",
      "yt : [INFO     ] 2024-08-12 15:22:41,149 Parameters: domain_left_edge          = [-4. -2. -2.]\n",
      "yt : [INFO     ] 2024-08-12 15:22:41,150 Parameters: domain_right_edge         = [1. 2. 2.]\n",
      "yt : [INFO     ] 2024-08-12 15:22:41,689 Parameters: current_time              = 147.80007285999477\n",
      "yt : [INFO     ] 2024-08-12 15:22:41,690 Parameters: domain_dimensions         = [320 256 256]\n",
      "yt : [INFO     ] 2024-08-12 15:22:41,691 Parameters: domain_left_edge          = [-4. -2. -2.]\n",
      "yt : [INFO     ] 2024-08-12 15:22:41,692 Parameters: domain_right_edge         = [1. 2. 2.]\n",
      "yt : [INFO     ] 2024-08-12 15:22:41,712 Parameters: current_time              = 147.80007285999477\n",
      "yt : [INFO     ] 2024-08-12 15:22:41,713 Parameters: domain_dimensions         = [320 256 256]\n",
      "yt : [INFO     ] 2024-08-12 15:22:41,713 Parameters: domain_left_edge          = [-4. -2. -2.]\n",
      "yt : [INFO     ] 2024-08-12 15:22:41,714 Parameters: domain_right_edge         = [1. 2. 2.]\n"
     ]
    },
    {
     "name": "stdout",
     "output_type": "stream",
     "text": [
      "Plotting t = 147.8\n",
      "reading file cut_particle_region0_0_t00000227_n00007165_amrex\n"
     ]
    },
    {
     "name": "stderr",
     "output_type": "stream",
     "text": [
      "yt : [INFO     ] 2024-08-12 15:22:42,638 Parameters: current_time              = 147.80007285999477\n",
      "yt : [INFO     ] 2024-08-12 15:22:42,639 Parameters: domain_dimensions         = [320 256 256]\n",
      "yt : [INFO     ] 2024-08-12 15:22:42,640 Parameters: domain_left_edge          = [-4. -2. -2.]\n",
      "yt : [INFO     ] 2024-08-12 15:22:42,640 Parameters: domain_right_edge         = [1. 2. 2.]\n",
      "yt : [WARNING  ] 2024-08-12 15:22:44,046 Field ('particle', 'unit_one') was added without specifying units or dimensions, auto setting units to \n",
      "yt : [INFO     ] 2024-08-12 15:22:44,113 Parameters: current_time              = 147.80007285999477\n",
      "yt : [INFO     ] 2024-08-12 15:22:44,114 Parameters: domain_dimensions         = [320 256 256]\n",
      "yt : [INFO     ] 2024-08-12 15:22:44,115 Parameters: domain_left_edge          = [-4. -2. -2.]\n",
      "yt : [INFO     ] 2024-08-12 15:22:44,116 Parameters: domain_right_edge         = [1. 2. 2.]\n",
      "yt : [INFO     ] 2024-08-12 15:22:44,134 Parameters: current_time              = 147.80007285999477\n",
      "yt : [INFO     ] 2024-08-12 15:22:44,135 Parameters: domain_dimensions         = [320 256 256]\n",
      "yt : [INFO     ] 2024-08-12 15:22:44,135 Parameters: domain_left_edge          = [-4. -2. -2.]\n",
      "yt : [INFO     ] 2024-08-12 15:22:44,136 Parameters: domain_right_edge         = [1. 2. 2.]\n",
      "yt : [INFO     ] 2024-08-12 15:22:44,518 Parameters: current_time              = 147.80007285999477\n",
      "yt : [INFO     ] 2024-08-12 15:22:44,518 Parameters: domain_dimensions         = [320 256 256]\n",
      "yt : [INFO     ] 2024-08-12 15:22:44,519 Parameters: domain_left_edge          = [-4. -2. -2.]\n",
      "yt : [INFO     ] 2024-08-12 15:22:44,520 Parameters: domain_right_edge         = [1. 2. 2.]\n",
      "yt : [WARNING  ] 2024-08-12 15:22:44,983 Field ('particle', 'unit_one') was added without specifying units or dimensions, auto setting units to \n",
      "yt : [INFO     ] 2024-08-12 15:22:45,052 Parameters: current_time              = 147.80007285999477\n",
      "yt : [INFO     ] 2024-08-12 15:22:45,053 Parameters: domain_dimensions         = [320 256 256]\n",
      "yt : [INFO     ] 2024-08-12 15:22:45,054 Parameters: domain_left_edge          = [-4. -2. -2.]\n",
      "yt : [INFO     ] 2024-08-12 15:22:45,055 Parameters: domain_right_edge         = [1. 2. 2.]\n",
      "yt : [INFO     ] 2024-08-12 15:22:45,073 Parameters: current_time              = 147.80007285999477\n",
      "yt : [INFO     ] 2024-08-12 15:22:45,074 Parameters: domain_dimensions         = [320 256 256]\n",
      "yt : [INFO     ] 2024-08-12 15:22:45,075 Parameters: domain_left_edge          = [-4. -2. -2.]\n",
      "yt : [INFO     ] 2024-08-12 15:22:45,075 Parameters: domain_right_edge         = [1. 2. 2.]\n",
      "yt : [INFO     ] 2024-08-12 15:22:45,626 Parameters: current_time              = 148.00040071986678\n",
      "yt : [INFO     ] 2024-08-12 15:22:45,627 Parameters: domain_dimensions         = [320 256 256]\n",
      "yt : [INFO     ] 2024-08-12 15:22:45,628 Parameters: domain_left_edge          = [-4. -2. -2.]\n",
      "yt : [INFO     ] 2024-08-12 15:22:45,628 Parameters: domain_right_edge         = [1. 2. 2.]\n",
      "yt : [INFO     ] 2024-08-12 15:22:45,647 Parameters: current_time              = 148.00040071986678\n",
      "yt : [INFO     ] 2024-08-12 15:22:45,648 Parameters: domain_dimensions         = [320 256 256]\n",
      "yt : [INFO     ] 2024-08-12 15:22:45,649 Parameters: domain_left_edge          = [-4. -2. -2.]\n",
      "yt : [INFO     ] 2024-08-12 15:22:45,649 Parameters: domain_right_edge         = [1. 2. 2.]\n"
     ]
    },
    {
     "name": "stdout",
     "output_type": "stream",
     "text": [
      "Plotting t = 148.0\n",
      "reading file cut_particle_region0_0_t00000228_n00007286_amrex\n"
     ]
    },
    {
     "name": "stderr",
     "output_type": "stream",
     "text": [
      "yt : [INFO     ] 2024-08-12 15:22:46,579 Parameters: current_time              = 148.00040071986678\n",
      "yt : [INFO     ] 2024-08-12 15:22:46,580 Parameters: domain_dimensions         = [320 256 256]\n",
      "yt : [INFO     ] 2024-08-12 15:22:46,580 Parameters: domain_left_edge          = [-4. -2. -2.]\n",
      "yt : [INFO     ] 2024-08-12 15:22:46,581 Parameters: domain_right_edge         = [1. 2. 2.]\n",
      "yt : [WARNING  ] 2024-08-12 15:22:47,077 Field ('particle', 'unit_one') was added without specifying units or dimensions, auto setting units to \n",
      "yt : [INFO     ] 2024-08-12 15:22:47,144 Parameters: current_time              = 148.00040071986678\n",
      "yt : [INFO     ] 2024-08-12 15:22:47,145 Parameters: domain_dimensions         = [320 256 256]\n",
      "yt : [INFO     ] 2024-08-12 15:22:47,145 Parameters: domain_left_edge          = [-4. -2. -2.]\n",
      "yt : [INFO     ] 2024-08-12 15:22:47,146 Parameters: domain_right_edge         = [1. 2. 2.]\n",
      "yt : [INFO     ] 2024-08-12 15:22:47,164 Parameters: current_time              = 148.00040071986678\n",
      "yt : [INFO     ] 2024-08-12 15:22:47,165 Parameters: domain_dimensions         = [320 256 256]\n",
      "yt : [INFO     ] 2024-08-12 15:22:47,166 Parameters: domain_left_edge          = [-4. -2. -2.]\n",
      "yt : [INFO     ] 2024-08-12 15:22:47,167 Parameters: domain_right_edge         = [1. 2. 2.]\n",
      "yt : [INFO     ] 2024-08-12 15:22:47,548 Parameters: current_time              = 148.00040071986678\n",
      "yt : [INFO     ] 2024-08-12 15:22:47,549 Parameters: domain_dimensions         = [320 256 256]\n",
      "yt : [INFO     ] 2024-08-12 15:22:47,550 Parameters: domain_left_edge          = [-4. -2. -2.]\n",
      "yt : [INFO     ] 2024-08-12 15:22:47,550 Parameters: domain_right_edge         = [1. 2. 2.]\n",
      "yt : [WARNING  ] 2024-08-12 15:22:48,041 Field ('particle', 'unit_one') was added without specifying units or dimensions, auto setting units to \n",
      "yt : [INFO     ] 2024-08-12 15:22:48,110 Parameters: current_time              = 148.00040071986678\n",
      "yt : [INFO     ] 2024-08-12 15:22:48,111 Parameters: domain_dimensions         = [320 256 256]\n",
      "yt : [INFO     ] 2024-08-12 15:22:48,112 Parameters: domain_left_edge          = [-4. -2. -2.]\n",
      "yt : [INFO     ] 2024-08-12 15:22:48,113 Parameters: domain_right_edge         = [1. 2. 2.]\n",
      "yt : [INFO     ] 2024-08-12 15:22:48,133 Parameters: current_time              = 148.00040071986678\n",
      "yt : [INFO     ] 2024-08-12 15:22:48,134 Parameters: domain_dimensions         = [320 256 256]\n",
      "yt : [INFO     ] 2024-08-12 15:22:48,134 Parameters: domain_left_edge          = [-4. -2. -2.]\n",
      "yt : [INFO     ] 2024-08-12 15:22:48,135 Parameters: domain_right_edge         = [1. 2. 2.]\n",
      "yt : [INFO     ] 2024-08-12 15:22:48,686 Parameters: current_time              = 148.20078426578567\n",
      "yt : [INFO     ] 2024-08-12 15:22:48,687 Parameters: domain_dimensions         = [320 256 256]\n",
      "yt : [INFO     ] 2024-08-12 15:22:48,687 Parameters: domain_left_edge          = [-4. -2. -2.]\n",
      "yt : [INFO     ] 2024-08-12 15:22:48,688 Parameters: domain_right_edge         = [1. 2. 2.]\n",
      "yt : [INFO     ] 2024-08-12 15:22:48,708 Parameters: current_time              = 148.20078426578567\n",
      "yt : [INFO     ] 2024-08-12 15:22:48,709 Parameters: domain_dimensions         = [320 256 256]\n",
      "yt : [INFO     ] 2024-08-12 15:22:48,710 Parameters: domain_left_edge          = [-4. -2. -2.]\n",
      "yt : [INFO     ] 2024-08-12 15:22:48,710 Parameters: domain_right_edge         = [1. 2. 2.]\n"
     ]
    },
    {
     "name": "stdout",
     "output_type": "stream",
     "text": [
      "Plotting t = 148.2\n",
      "reading file cut_particle_region0_0_t00000228_n00007400_amrex\n"
     ]
    },
    {
     "name": "stderr",
     "output_type": "stream",
     "text": [
      "yt : [INFO     ] 2024-08-12 15:22:50,568 Parameters: current_time              = 148.20078426578567\n",
      "yt : [INFO     ] 2024-08-12 15:22:50,568 Parameters: domain_dimensions         = [320 256 256]\n",
      "yt : [INFO     ] 2024-08-12 15:22:50,569 Parameters: domain_left_edge          = [-4. -2. -2.]\n",
      "yt : [INFO     ] 2024-08-12 15:22:50,570 Parameters: domain_right_edge         = [1. 2. 2.]\n",
      "yt : [WARNING  ] 2024-08-12 15:22:51,029 Field ('particle', 'unit_one') was added without specifying units or dimensions, auto setting units to \n",
      "yt : [INFO     ] 2024-08-12 15:22:51,094 Parameters: current_time              = 148.20078426578567\n",
      "yt : [INFO     ] 2024-08-12 15:22:51,094 Parameters: domain_dimensions         = [320 256 256]\n",
      "yt : [INFO     ] 2024-08-12 15:22:51,095 Parameters: domain_left_edge          = [-4. -2. -2.]\n",
      "yt : [INFO     ] 2024-08-12 15:22:51,096 Parameters: domain_right_edge         = [1. 2. 2.]\n",
      "yt : [INFO     ] 2024-08-12 15:22:51,114 Parameters: current_time              = 148.20078426578567\n",
      "yt : [INFO     ] 2024-08-12 15:22:51,115 Parameters: domain_dimensions         = [320 256 256]\n",
      "yt : [INFO     ] 2024-08-12 15:22:51,116 Parameters: domain_left_edge          = [-4. -2. -2.]\n",
      "yt : [INFO     ] 2024-08-12 15:22:51,116 Parameters: domain_right_edge         = [1. 2. 2.]\n",
      "yt : [INFO     ] 2024-08-12 15:22:51,505 Parameters: current_time              = 148.20078426578567\n",
      "yt : [INFO     ] 2024-08-12 15:22:51,505 Parameters: domain_dimensions         = [320 256 256]\n",
      "yt : [INFO     ] 2024-08-12 15:22:51,506 Parameters: domain_left_edge          = [-4. -2. -2.]\n",
      "yt : [INFO     ] 2024-08-12 15:22:51,507 Parameters: domain_right_edge         = [1. 2. 2.]\n",
      "yt : [WARNING  ] 2024-08-12 15:22:51,985 Field ('particle', 'unit_one') was added without specifying units or dimensions, auto setting units to \n",
      "yt : [INFO     ] 2024-08-12 15:22:52,051 Parameters: current_time              = 148.20078426578567\n",
      "yt : [INFO     ] 2024-08-12 15:22:52,052 Parameters: domain_dimensions         = [320 256 256]\n",
      "yt : [INFO     ] 2024-08-12 15:22:52,053 Parameters: domain_left_edge          = [-4. -2. -2.]\n",
      "yt : [INFO     ] 2024-08-12 15:22:52,053 Parameters: domain_right_edge         = [1. 2. 2.]\n",
      "yt : [INFO     ] 2024-08-12 15:22:52,072 Parameters: current_time              = 148.20078426578567\n",
      "yt : [INFO     ] 2024-08-12 15:22:52,072 Parameters: domain_dimensions         = [320 256 256]\n",
      "yt : [INFO     ] 2024-08-12 15:22:52,073 Parameters: domain_left_edge          = [-4. -2. -2.]\n",
      "yt : [INFO     ] 2024-08-12 15:22:52,074 Parameters: domain_right_edge         = [1. 2. 2.]\n",
      "yt : [INFO     ] 2024-08-12 15:22:52,606 Parameters: current_time              = 148.40079057624\n",
      "yt : [INFO     ] 2024-08-12 15:22:52,607 Parameters: domain_dimensions         = [320 256 256]\n",
      "yt : [INFO     ] 2024-08-12 15:22:52,607 Parameters: domain_left_edge          = [-4. -2. -2.]\n",
      "yt : [INFO     ] 2024-08-12 15:22:52,608 Parameters: domain_right_edge         = [1. 2. 2.]\n",
      "yt : [INFO     ] 2024-08-12 15:22:52,628 Parameters: current_time              = 148.40079057624\n",
      "yt : [INFO     ] 2024-08-12 15:22:52,628 Parameters: domain_dimensions         = [320 256 256]\n",
      "yt : [INFO     ] 2024-08-12 15:22:52,629 Parameters: domain_left_edge          = [-4. -2. -2.]\n",
      "yt : [INFO     ] 2024-08-12 15:22:52,630 Parameters: domain_right_edge         = [1. 2. 2.]\n"
     ]
    },
    {
     "name": "stdout",
     "output_type": "stream",
     "text": [
      "Plotting t = 148.4\n",
      "reading file cut_particle_region0_0_t00000228_n00007520_amrex\n"
     ]
    },
    {
     "name": "stderr",
     "output_type": "stream",
     "text": [
      "yt : [INFO     ] 2024-08-12 15:22:53,549 Parameters: current_time              = 148.40079057624\n",
      "yt : [INFO     ] 2024-08-12 15:22:53,549 Parameters: domain_dimensions         = [320 256 256]\n",
      "yt : [INFO     ] 2024-08-12 15:22:53,550 Parameters: domain_left_edge          = [-4. -2. -2.]\n",
      "yt : [INFO     ] 2024-08-12 15:22:53,551 Parameters: domain_right_edge         = [1. 2. 2.]\n",
      "yt : [WARNING  ] 2024-08-12 15:22:54,014 Field ('particle', 'unit_one') was added without specifying units or dimensions, auto setting units to \n",
      "yt : [INFO     ] 2024-08-12 15:22:54,079 Parameters: current_time              = 148.40079057624\n",
      "yt : [INFO     ] 2024-08-12 15:22:54,079 Parameters: domain_dimensions         = [320 256 256]\n",
      "yt : [INFO     ] 2024-08-12 15:22:54,080 Parameters: domain_left_edge          = [-4. -2. -2.]\n",
      "yt : [INFO     ] 2024-08-12 15:22:54,081 Parameters: domain_right_edge         = [1. 2. 2.]\n",
      "yt : [INFO     ] 2024-08-12 15:22:54,099 Parameters: current_time              = 148.40079057624\n",
      "yt : [INFO     ] 2024-08-12 15:22:54,100 Parameters: domain_dimensions         = [320 256 256]\n",
      "yt : [INFO     ] 2024-08-12 15:22:54,100 Parameters: domain_left_edge          = [-4. -2. -2.]\n",
      "yt : [INFO     ] 2024-08-12 15:22:54,101 Parameters: domain_right_edge         = [1. 2. 2.]\n",
      "yt : [INFO     ] 2024-08-12 15:22:54,471 Parameters: current_time              = 148.40079057624\n",
      "yt : [INFO     ] 2024-08-12 15:22:54,472 Parameters: domain_dimensions         = [320 256 256]\n",
      "yt : [INFO     ] 2024-08-12 15:22:54,473 Parameters: domain_left_edge          = [-4. -2. -2.]\n",
      "yt : [INFO     ] 2024-08-12 15:22:54,473 Parameters: domain_right_edge         = [1. 2. 2.]\n",
      "yt : [WARNING  ] 2024-08-12 15:22:54,933 Field ('particle', 'unit_one') was added without specifying units or dimensions, auto setting units to \n",
      "yt : [INFO     ] 2024-08-12 15:22:55,895 Parameters: current_time              = 148.40079057624\n",
      "yt : [INFO     ] 2024-08-12 15:22:55,895 Parameters: domain_dimensions         = [320 256 256]\n",
      "yt : [INFO     ] 2024-08-12 15:22:55,896 Parameters: domain_left_edge          = [-4. -2. -2.]\n",
      "yt : [INFO     ] 2024-08-12 15:22:55,897 Parameters: domain_right_edge         = [1. 2. 2.]\n",
      "yt : [INFO     ] 2024-08-12 15:22:55,915 Parameters: current_time              = 148.40079057624\n",
      "yt : [INFO     ] 2024-08-12 15:22:55,916 Parameters: domain_dimensions         = [320 256 256]\n",
      "yt : [INFO     ] 2024-08-12 15:22:55,917 Parameters: domain_left_edge          = [-4. -2. -2.]\n",
      "yt : [INFO     ] 2024-08-12 15:22:55,917 Parameters: domain_right_edge         = [1. 2. 2.]\n",
      "yt : [INFO     ] 2024-08-12 15:22:56,450 Parameters: current_time              = 148.6004757783201\n",
      "yt : [INFO     ] 2024-08-12 15:22:56,451 Parameters: domain_dimensions         = [320 256 256]\n",
      "yt : [INFO     ] 2024-08-12 15:22:56,452 Parameters: domain_left_edge          = [-4. -2. -2.]\n",
      "yt : [INFO     ] 2024-08-12 15:22:56,452 Parameters: domain_right_edge         = [1. 2. 2.]\n",
      "yt : [INFO     ] 2024-08-12 15:22:56,471 Parameters: current_time              = 148.6004757783201\n",
      "yt : [INFO     ] 2024-08-12 15:22:56,472 Parameters: domain_dimensions         = [320 256 256]\n",
      "yt : [INFO     ] 2024-08-12 15:22:56,473 Parameters: domain_left_edge          = [-4. -2. -2.]\n",
      "yt : [INFO     ] 2024-08-12 15:22:56,473 Parameters: domain_right_edge         = [1. 2. 2.]\n"
     ]
    },
    {
     "name": "stdout",
     "output_type": "stream",
     "text": [
      "Plotting t = 148.6\n",
      "reading file cut_particle_region0_0_t00000228_n00007639_amrex\n"
     ]
    },
    {
     "name": "stderr",
     "output_type": "stream",
     "text": [
      "yt : [INFO     ] 2024-08-12 15:22:57,396 Parameters: current_time              = 148.6004757783201\n",
      "yt : [INFO     ] 2024-08-12 15:22:57,397 Parameters: domain_dimensions         = [320 256 256]\n",
      "yt : [INFO     ] 2024-08-12 15:22:57,398 Parameters: domain_left_edge          = [-4. -2. -2.]\n",
      "yt : [INFO     ] 2024-08-12 15:22:57,398 Parameters: domain_right_edge         = [1. 2. 2.]\n",
      "yt : [WARNING  ] 2024-08-12 15:22:57,864 Field ('particle', 'unit_one') was added without specifying units or dimensions, auto setting units to \n",
      "yt : [INFO     ] 2024-08-12 15:22:57,929 Parameters: current_time              = 148.6004757783201\n",
      "yt : [INFO     ] 2024-08-12 15:22:57,929 Parameters: domain_dimensions         = [320 256 256]\n",
      "yt : [INFO     ] 2024-08-12 15:22:57,930 Parameters: domain_left_edge          = [-4. -2. -2.]\n",
      "yt : [INFO     ] 2024-08-12 15:22:57,931 Parameters: domain_right_edge         = [1. 2. 2.]\n",
      "yt : [INFO     ] 2024-08-12 15:22:57,949 Parameters: current_time              = 148.6004757783201\n",
      "yt : [INFO     ] 2024-08-12 15:22:57,950 Parameters: domain_dimensions         = [320 256 256]\n",
      "yt : [INFO     ] 2024-08-12 15:22:57,951 Parameters: domain_left_edge          = [-4. -2. -2.]\n",
      "yt : [INFO     ] 2024-08-12 15:22:57,951 Parameters: domain_right_edge         = [1. 2. 2.]\n",
      "yt : [INFO     ] 2024-08-12 15:22:58,343 Parameters: current_time              = 148.6004757783201\n",
      "yt : [INFO     ] 2024-08-12 15:22:58,344 Parameters: domain_dimensions         = [320 256 256]\n",
      "yt : [INFO     ] 2024-08-12 15:22:58,345 Parameters: domain_left_edge          = [-4. -2. -2.]\n",
      "yt : [INFO     ] 2024-08-12 15:22:58,345 Parameters: domain_right_edge         = [1. 2. 2.]\n",
      "yt : [WARNING  ] 2024-08-12 15:22:58,839 Field ('particle', 'unit_one') was added without specifying units or dimensions, auto setting units to \n",
      "yt : [INFO     ] 2024-08-12 15:22:58,910 Parameters: current_time              = 148.6004757783201\n",
      "yt : [INFO     ] 2024-08-12 15:22:58,910 Parameters: domain_dimensions         = [320 256 256]\n",
      "yt : [INFO     ] 2024-08-12 15:22:58,911 Parameters: domain_left_edge          = [-4. -2. -2.]\n",
      "yt : [INFO     ] 2024-08-12 15:22:58,912 Parameters: domain_right_edge         = [1. 2. 2.]\n",
      "yt : [INFO     ] 2024-08-12 15:22:58,931 Parameters: current_time              = 148.6004757783201\n",
      "yt : [INFO     ] 2024-08-12 15:22:58,931 Parameters: domain_dimensions         = [320 256 256]\n",
      "yt : [INFO     ] 2024-08-12 15:22:58,932 Parameters: domain_left_edge          = [-4. -2. -2.]\n",
      "yt : [INFO     ] 2024-08-12 15:22:58,933 Parameters: domain_right_edge         = [1. 2. 2.]\n",
      "yt : [INFO     ] 2024-08-12 15:22:59,457 Parameters: current_time              = 148.80001096458946\n",
      "yt : [INFO     ] 2024-08-12 15:22:59,457 Parameters: domain_dimensions         = [320 256 256]\n",
      "yt : [INFO     ] 2024-08-12 15:22:59,458 Parameters: domain_left_edge          = [-4. -2. -2.]\n",
      "yt : [INFO     ] 2024-08-12 15:22:59,459 Parameters: domain_right_edge         = [1. 2. 2.]\n",
      "yt : [INFO     ] 2024-08-12 15:22:59,478 Parameters: current_time              = 148.80001096458946\n",
      "yt : [INFO     ] 2024-08-12 15:22:59,478 Parameters: domain_dimensions         = [320 256 256]\n",
      "yt : [INFO     ] 2024-08-12 15:22:59,479 Parameters: domain_left_edge          = [-4. -2. -2.]\n",
      "yt : [INFO     ] 2024-08-12 15:22:59,480 Parameters: domain_right_edge         = [1. 2. 2.]\n"
     ]
    },
    {
     "name": "stdout",
     "output_type": "stream",
     "text": [
      "Plotting t = 148.8\n",
      "reading file cut_particle_region0_0_t00000228_n00007754_amrex\n"
     ]
    },
    {
     "name": "stderr",
     "output_type": "stream",
     "text": [
      "yt : [INFO     ] 2024-08-12 15:23:00,446 Parameters: current_time              = 148.80001096458946\n",
      "yt : [INFO     ] 2024-08-12 15:23:00,447 Parameters: domain_dimensions         = [320 256 256]\n",
      "yt : [INFO     ] 2024-08-12 15:23:00,447 Parameters: domain_left_edge          = [-4. -2. -2.]\n",
      "yt : [INFO     ] 2024-08-12 15:23:00,448 Parameters: domain_right_edge         = [1. 2. 2.]\n",
      "yt : [WARNING  ] 2024-08-12 15:23:00,915 Field ('particle', 'unit_one') was added without specifying units or dimensions, auto setting units to \n",
      "yt : [INFO     ] 2024-08-12 15:23:00,979 Parameters: current_time              = 148.80001096458946\n",
      "yt : [INFO     ] 2024-08-12 15:23:00,979 Parameters: domain_dimensions         = [320 256 256]\n",
      "yt : [INFO     ] 2024-08-12 15:23:00,980 Parameters: domain_left_edge          = [-4. -2. -2.]\n",
      "yt : [INFO     ] 2024-08-12 15:23:00,981 Parameters: domain_right_edge         = [1. 2. 2.]\n",
      "yt : [INFO     ] 2024-08-12 15:23:00,999 Parameters: current_time              = 148.80001096458946\n",
      "yt : [INFO     ] 2024-08-12 15:23:00,999 Parameters: domain_dimensions         = [320 256 256]\n",
      "yt : [INFO     ] 2024-08-12 15:23:01,000 Parameters: domain_left_edge          = [-4. -2. -2.]\n",
      "yt : [INFO     ] 2024-08-12 15:23:01,001 Parameters: domain_right_edge         = [1. 2. 2.]\n",
      "yt : [INFO     ] 2024-08-12 15:23:02,254 Parameters: current_time              = 148.80001096458946\n",
      "yt : [INFO     ] 2024-08-12 15:23:02,255 Parameters: domain_dimensions         = [320 256 256]\n",
      "yt : [INFO     ] 2024-08-12 15:23:02,255 Parameters: domain_left_edge          = [-4. -2. -2.]\n",
      "yt : [INFO     ] 2024-08-12 15:23:02,256 Parameters: domain_right_edge         = [1. 2. 2.]\n",
      "yt : [WARNING  ] 2024-08-12 15:23:02,726 Field ('particle', 'unit_one') was added without specifying units or dimensions, auto setting units to \n",
      "yt : [INFO     ] 2024-08-12 15:23:02,791 Parameters: current_time              = 148.80001096458946\n",
      "yt : [INFO     ] 2024-08-12 15:23:02,792 Parameters: domain_dimensions         = [320 256 256]\n",
      "yt : [INFO     ] 2024-08-12 15:23:02,792 Parameters: domain_left_edge          = [-4. -2. -2.]\n",
      "yt : [INFO     ] 2024-08-12 15:23:02,793 Parameters: domain_right_edge         = [1. 2. 2.]\n",
      "yt : [INFO     ] 2024-08-12 15:23:02,811 Parameters: current_time              = 148.80001096458946\n",
      "yt : [INFO     ] 2024-08-12 15:23:02,812 Parameters: domain_dimensions         = [320 256 256]\n",
      "yt : [INFO     ] 2024-08-12 15:23:02,812 Parameters: domain_left_edge          = [-4. -2. -2.]\n",
      "yt : [INFO     ] 2024-08-12 15:23:02,813 Parameters: domain_right_edge         = [1. 2. 2.]\n"
     ]
    }
   ],
   "source": [
    "####### START USER INPUT ###########\n",
    "folder = \"/Users/atcushen/Documents/MercuryModelling/runs/nightside_v1_run4/ta-2_rerun\"\n",
    "file = \"cut_particle_region0_0_t00000031_n00016670_amrex/\"\n",
    "loc=[-1.25,0,0.35]  # Location of sphere to sample particles in\n",
    "radius=(0.05)  # Size of sphere\n",
    "plot_preset = \"v_para-v_perp2\"\n",
    "multi = True # Loop through files and save multiple panels?\n",
    "start_time = 144            # What is the earliest time saved in this directory?\n",
    "t_bound = [144,149]                # Start and stop times to loop through\n",
    "dt = 0.2  # time step between files\n",
    "make_gif = False    # whether to save a gif. Not working at the moment\n",
    "particle_type = \"ion\" # Either \"ion\" or \"electron\"\n",
    "bin_limit = 2500 # Absolute value of the maximum velocity that should be plot. Also sets the binning.\n",
    "####### END USER INPUT ###########\n",
    "dir = str(folder+\"/\")\n",
    "\"\"\" \n",
    "PRESETS:\n",
    "vx_vy-vx_vz: plot of raw particle velocity distribution at loc, using standard values for controls. \n",
    "\n",
    "v_para-v_perp: plot of particle velocity distribution at loc, in parallel / perpendicular coords\n",
    "\n",
    "v_para-v_perp2: plot of particle velocity distribution at loc, in parallel / exb and parallel / w coords.\n",
    "\n",
    "\"\"\"\n",
    "\n",
    "# Make a dictionary with better names for the files:\n",
    "#named_files = {}\n",
    "#for i in range(len(files)):\n",
    "#    time = round(i*dt+start_time,3)\n",
    "#    named_files[time] = files[i]\n",
    "\n",
    "def get_directories(dir, key=\".*cut_particle_region0_0.*\"):\n",
    "    # For a directory \"dir\", return a list of all files which match the regex expression \"key\"\n",
    "    all_files = [ f.name for f in os.scandir(dir) if f.is_dir() ]\n",
    "    files=[]\n",
    "    for file in all_files:\n",
    "        match = re.search(key,file)\n",
    "        if match != None:\n",
    "            files.append(file)\n",
    "    files.sort()\n",
    "    # Now give them the appropriate name for their time\n",
    "    named_files = {}\n",
    "    for i in range(len(files)):\n",
    "        time = round(i*dt+start_time,3)\n",
    "        named_files[time] = files[i]\n",
    "    # Now cut the list down to files inside t_bound\n",
    "    reduced_files = {}\n",
    "    for time in list(named_files.keys())[int((t_bound[0]-start_time)/dt):int((t_bound[1]-start_time)/dt)]: #only loop over the times within t_bound\n",
    "        reduced_files[time] = str(named_files[time])\n",
    "    return reduced_files\n",
    "\n",
    "def _unit_one(field, data):\n",
    "    res = np.zeros(data[('particle', 'p_w')].shape)\n",
    "    res[:] = 1\n",
    "    return res\n",
    "\n",
    "def get_B_at_loc(loc,data):\n",
    "    # Input coordinates and ds of file to get B at that location\n",
    "    dc = data.get_slice(\"z\",loc[2])\n",
    "\n",
    "    # Pull the coord data\n",
    "    x,y = dc.x.value, dc.y.value\n",
    "    \n",
    "    # Find the cell indices surrounding loc\n",
    "    xi_min = np.where(x < loc[0])[0][-1]\n",
    "    yi_min = np.where(y < loc[1])[0][-1]\n",
    "    \n",
    "    # Define the trimmed meshgrids\n",
    "    xx,yy = np.meshgrid(x[xi_min:xi_min+2],y[yi_min:yi_min+2])\n",
    "    \n",
    "    # Pull only the relevant mag data\n",
    "    Bx = np.array(dc.evaluate_expression(\"Bx\"))[xi_min:xi_min+2,yi_min:yi_min+2]\n",
    "    By = np.array(dc.evaluate_expression(\"By\"))[xi_min:xi_min+2,yi_min:yi_min+2]\n",
    "    Bz = np.array(dc.evaluate_expression(\"Bz\"))[xi_min:xi_min+2,yi_min:yi_min+2]\n",
    "\n",
    "    # Do a little interpolation: B = B[0,0] + dB/dX dx + dB/dY dy\n",
    "    Bx_loc = Bx[0,0] + (Bx[0,1]-Bx[0,0])/(xx[0,1]-xx[0,0])*(loc[0]-xx[0,0]) + (Bx[1,0]-Bx[0,0])/(yy[1,0]-yy[0,0])*(loc[1]-yy[0,0])\n",
    "    By_loc = By[0,0] + (By[0,1]-By[0,0])/(xx[0,1]-xx[0,0])*(loc[0]-xx[0,0]) + (By[1,0]-By[0,0])/(yy[1,0]-yy[0,0])*(loc[1]-yy[0,0])\n",
    "    Bz_loc = Bz[0,0] + (Bz[0,1]-Bz[0,0])/(xx[0,1]-xx[0,0])*(loc[0]-xx[0,0]) + (Bz[1,0]-Bz[0,0])/(yy[1,0]-yy[0,0])*(loc[1]-yy[0,0])\n",
    "\n",
    "    return Bx_loc,By_loc,Bz_loc\n",
    "\n",
    "def get_B_at_loc_from_fluid(file,loc):\n",
    "    # Hand the file name of cut data being used, for which the corresponding fluid data will be opened to read B\n",
    "    # This was created as a workaround to get_B_at_loc, which started to fail since it read B as being 0. Couldn't work out why,\n",
    "    # so now we rely on also downloading the fluid data\n",
    "    # First, extract the iteration number from the filename\n",
    "    iteration = file[-15:]\n",
    "\n",
    "    # Then, pull the matching 3d fluid file\n",
    "    fluid_file = get_directories(dir, key=str(\".*3d_fluid.*\"+iteration))\n",
    "    fluid_file = fluid_file[list(fluid_file.keys())[0]]\n",
    "\n",
    "    # Load the data and slice\n",
    "    fluid_ds = fleks.load(str(dir+fluid_file))\n",
    "    dc = fluid_ds.get_slice(\"z\",loc[2])\n",
    "\n",
    "    # Pull the coord data\n",
    "    x,y = dc.x.value, dc.y.value\n",
    "    \n",
    "    # Find the cell indices surrounding loc\n",
    "    xi_min = np.where(x < loc[0])[0][-1]\n",
    "    yi_min = np.where(y < loc[1])[0][-1]\n",
    "    \n",
    "    # Define the trimmed meshgrids\n",
    "    xx,yy = np.meshgrid(x[xi_min:xi_min+2],y[yi_min:yi_min+2])\n",
    "    \n",
    "    # Pull only the relevant mag data\n",
    "    Bx = (np.array(dc.evaluate_expression(\"Bx\"))[xi_min:xi_min+2,yi_min:yi_min+2]).T\n",
    "    By = (np.array(dc.evaluate_expression(\"By\"))[xi_min:xi_min+2,yi_min:yi_min+2]).T\n",
    "    Bz = (np.array(dc.evaluate_expression(\"Bz\"))[xi_min:xi_min+2,yi_min:yi_min+2]).T\n",
    "\n",
    "    # Do a little interpolation: B = B[0,0] + dB/dX dx + dB/dY dy\n",
    "    Bx_loc = Bx[0,0] + (Bx[0,1]-Bx[0,0])/(xx[0,1]-xx[0,0])*(loc[0]-xx[0,0]) + (Bx[1,0]-Bx[0,0])/(yy[1,0]-yy[0,0])*(loc[1]-yy[0,0])\n",
    "    By_loc = By[0,0] + (By[0,1]-By[0,0])/(xx[0,1]-xx[0,0])*(loc[0]-xx[0,0]) + (By[1,0]-By[0,0])/(yy[1,0]-yy[0,0])*(loc[1]-yy[0,0])\n",
    "    Bz_loc = Bz[0,0] + (Bz[0,1]-Bz[0,0])/(xx[0,1]-xx[0,0])*(loc[0]-xx[0,0]) + (Bz[1,0]-Bz[0,0])/(yy[1,0]-yy[0,0])*(loc[1]-yy[0,0])\n",
    "\n",
    "    return Bx_loc,By_loc,Bz_loc\n",
    "\n",
    "def get_E_at_loc_from_fluid(file,loc):\n",
    "    # Hand the file name of cut data being used, for which the corresponding fluid data will be opened to read E\n",
    "    # First, extract the iteration number from the filename\n",
    "    iteration = file[-15:]\n",
    "\n",
    "    # Then, pull the matching 3d fluid file\n",
    "    fluid_file = get_directories(dir, key=str(\".*3d_fluid.*\"+iteration))\n",
    "    fluid_file = fluid_file[list(fluid_file.keys())[0]]\n",
    "\n",
    "    # Load the data and slice\n",
    "    fluid_ds = fleks.load(str(dir+fluid_file))\n",
    "    dc = fluid_ds.get_slice(\"z\",loc[2])\n",
    "\n",
    "    # Pull the coord data\n",
    "    x,y = dc.x.value, dc.y.value\n",
    "    \n",
    "    # Find the cell indices surrounding loc\n",
    "    xi_min = np.where(x < loc[0])[0][-1]\n",
    "    yi_min = np.where(y < loc[1])[0][-1]\n",
    "    \n",
    "    # Define the trimmed meshgrids\n",
    "    xx,yy = np.meshgrid(x[xi_min:xi_min+2],y[yi_min:yi_min+2])\n",
    "    \n",
    "    # Pull only the relevant mag data\n",
    "    Ex = (np.array(dc.evaluate_expression(\"Ex\"))[xi_min:xi_min+2,yi_min:yi_min+2]).T\n",
    "    Ey = (np.array(dc.evaluate_expression(\"Ey\"))[xi_min:xi_min+2,yi_min:yi_min+2]).T\n",
    "    Ez = (np.array(dc.evaluate_expression(\"Ez\"))[xi_min:xi_min+2,yi_min:yi_min+2]).T\n",
    "\n",
    "    # Do a little interpolation: B = B[0,0] + dB/dX dx + dB/dY dy\n",
    "    Ex_loc = Ex[0,0] + (Ex[0,1]-Ex[0,0])/(xx[0,1]-xx[0,0])*(loc[0]-xx[0,0]) + (Ex[1,0]-Ex[0,0])/(yy[1,0]-yy[0,0])*(loc[1]-yy[0,0])\n",
    "    Ey_loc = Ey[0,0] + (Ey[0,1]-Ey[0,0])/(xx[0,1]-xx[0,0])*(loc[0]-xx[0,0]) + (Ey[1,0]-Ey[0,0])/(yy[1,0]-yy[0,0])*(loc[1]-yy[0,0])\n",
    "    Ez_loc = Ez[0,0] + (Ez[0,1]-Ez[0,0])/(xx[0,1]-xx[0,0])*(loc[0]-xx[0,0]) + (Ez[1,0]-Ez[0,0])/(yy[1,0]-yy[0,0])*(loc[1]-yy[0,0])\n",
    "\n",
    "    return Ex_loc,Ey_loc,Ez_loc\n",
    "\n",
    "def get_particle_np(file, x_axis='p_ux', y_axis='p_uy', bins=64, v_lim = 2500):\n",
    "    # Get the particle distribution in numpy format.\n",
    "    # File is the directory of the amrex folder (e.g. /Users/*_amrex/\"\n",
    "    # x_axis and y_axis are what quantities to extract e.g. 'p_x','p_y'\n",
    "    # Bins is how many bins to divide into\n",
    "    # v_lim is the maximum velocity to extract (in km/s)\n",
    "    # Outputs the meshgrids of velocities (in km/s), and the number of particles in each of those grid cells\n",
    "\n",
    "    # Load the file\n",
    "    ds = fleks.load(file)\n",
    "\n",
    "    # Select the right quantity to compute given the choice of x and y axis\n",
    "    if x_axis == 'p_ux': # just check what the x_axis is to determine which mode we are in; this is temporary\n",
    "        ds.add_field((\"particle\", \"unit_one\"), function=_unit_one, sampling_type='particle')\n",
    "        sp = ds.sphere(loc,radius)\n",
    "        z_field = 'unit_one'\n",
    "        plot = ds.plot_phase_region(sp, x_axis, y_axis, z_field, unit_type=\"planet\", \n",
    "                                        x_bins=bins, y_bins=bins, domain_size=(-v_lim, v_lim, -v_lim, v_lim))\n",
    "    \n",
    "        for var_name in plot.profile.field_data: \n",
    "            counts_temp = plot.profile.field_data[var_name].T # take the transpose, which seems to be necessary. Bit worried about that.\n",
    "\n",
    "    # Here, v_perp is just the magnitude of the velocity not aligned with the parallel direction\n",
    "    elif ((x_axis == 'v_para' and y_axis == 'v_perp') or (y_axis == 'v_para' and x_axis == 'v_perp')): \n",
    "        # Do a little interpolation: B = B[0,0] + dB/dX dx + dB/dY dy\n",
    "        Bx_loc,By_loc,Bz_loc = get_B_at_loc_from_fluid(file,loc)\n",
    "        \n",
    "        # Define magnetic field unit vectors at loc\n",
    "        bhat = [Bx_loc,By_loc,Bz_loc]/np.sqrt(Bx_loc**2+By_loc**2+Bz_loc**2)\n",
    "        \n",
    "        # Sometimes B is identically 0 for some weird reason... so we get nan for bhat. Not sure how this is possible.\n",
    "        bhat[np.isnan(bhat)] = 0\n",
    "        bx,by,bz = bhat\n",
    "        \n",
    "        # For the particle data, we must create user-defined fields for the parallel and perpedicular components. See notebook for handwritten derivation.\n",
    "        def _vel_para(field, data): # This is basically v_para = v . b\n",
    "            res = bx*data[('particle', 'p_ux')] + by*data[('particle', 'p_uy')] + bz*data[('particle', 'p_uz')]        \n",
    "            return res\n",
    "        def _vel_perp(field, data): # This is v_perp = v - v_para\n",
    "            res = (( data[('particle', 'p_ux')] - bx * ( bx*data[('particle', 'p_ux')]) + by*data[('particle', 'p_uy')] + bz*data[('particle', 'p_uz')] )**2 +\n",
    "                   ( data[('particle', 'p_uy')] - by * ( bx*data[('particle', 'p_ux')]) + by*data[('particle', 'p_uy')] + bz*data[('particle', 'p_uz')] )**2 +\n",
    "                   ( data[('particle', 'p_uz')] - bz * ( bx*data[('particle', 'p_ux')]) + by*data[('particle', 'p_uy')] + bz*data[('particle', 'p_uz')] )**2 )**0.5        \n",
    "            return res\n",
    "        \n",
    "        # Add the fields to the dataset\n",
    "        vpara_name = ds.pvar(\"vel_para\")\n",
    "        vperp_name = ds.pvar(\"vel_perp\")\n",
    "        ds.add_field(vpara_name, units=\"code_velocity\", function=_vel_para, sampling_type='particle')\n",
    "        ds.add_field(vperp_name, units=\"code_velocity\", function=_vel_perp, sampling_type='particle')\n",
    "\n",
    "        # Generate plot \n",
    "        ds.add_field((\"particle\", \"unit_one\"), function=_unit_one, sampling_type='particle')\n",
    "        sp = ds.sphere(loc,radius)\n",
    "        x_field = vpara_name\n",
    "        y_field = vperp_name\n",
    "        z_field = (\"particle\", \"unit_one\")#ds.pvar('p_w')\n",
    "        logs = {x_field: False, y_field: False}\n",
    "        profile = yt.create_profile(data_source=sp, bin_fields=[x_field,y_field], fields=z_field, n_bins=[64,64], weight_field=None, logs=logs)\n",
    "        plot = yt.PhasePlot.from_profile(profile)\n",
    "        plot.set_unit(x_field, \"km/s\")\n",
    "        plot.set_unit(y_field, \"km/s\")\n",
    "        plot.set_unit(z_field, \"amu\")\n",
    "        for var_name in plot.profile.field_data: \n",
    "            counts_temp = plot.profile.field_data[var_name].T\n",
    "\n",
    "    # Here, one axis is the parallel velocity and the other is the ExB bulk flow direction\n",
    "    elif ((x_axis == 'v_para' and y_axis == 'v_exb') or (y_axis == 'v_para' and x_axis == 'v_exb')):\n",
    "        # Get B and E at the location we are studying\n",
    "        Bx_loc,By_loc,Bz_loc = get_B_at_loc_from_fluid(file,loc)\n",
    "        Ex_loc,Ey_loc,Ez_loc = get_E_at_loc_from_fluid(file,loc)\n",
    "        \n",
    "        # Define magnetic and electric field unit vectors at loc\n",
    "        bhat = [Bx_loc,By_loc,Bz_loc]/np.sqrt(Bx_loc**2+By_loc**2+Bz_loc**2)\n",
    "        ehat = [Ex_loc,Ey_loc,Ez_loc]/np.sqrt(Ex_loc**2+Ey_loc**2+Ez_loc**2)\n",
    "\n",
    "        # Compute the ExB unit vector\n",
    "        exb = [ehat[1]*bhat[2]-ehat[2]*bhat[1], ehat[2]*bhat[0]-ehat[0]*bhat[2], ehat[0]*bhat[1]-ehat[1]*bhat[0]]\n",
    "\n",
    "        # Verify orthogonal: seems to be good\n",
    "        # val = exb[0]*bhat[0]+exb[1]*bhat[1]+exb[2]*bhat[2]\n",
    "        # print(val) \n",
    "\n",
    "        # Define v_para and v_ExB directions in the particle data files\n",
    "        def _vel_para(field, data): # This is basically v_para = v . b\n",
    "            res = bhat[0]*data[('particle', 'p_ux')] + bhat[1]*data[('particle', 'p_uy')] + bhat[2]*data[('particle', 'p_uz')]        \n",
    "            return res\n",
    "        def _vel_exb(field, data): \n",
    "            res = exb[0]*data[('particle', 'p_ux')] + exb[1]*data[('particle', 'p_uy')] + exb[2]*data[('particle', 'p_uz')]        \n",
    "            return res\n",
    "\n",
    "        # Add the fields to the dataset\n",
    "        vpara_name = ds.pvar(\"vel_para\")\n",
    "        vexb_name = ds.pvar(\"vel_exb\")\n",
    "        ds.add_field(vpara_name, units=\"code_velocity\", function=_vel_para, sampling_type='particle')\n",
    "        ds.add_field(vexb_name, units=\"code_velocity\", function=_vel_exb, sampling_type='particle')\n",
    "\n",
    "        # Generate plot \n",
    "        ds.add_field((\"particle\", \"unit_one\"), function=_unit_one, sampling_type='particle')\n",
    "        sp = ds.sphere(loc,radius)\n",
    "        x_field = vpara_name\n",
    "        y_field = vexb_name\n",
    "        z_field = (\"particle\", \"unit_one\")#ds.pvar('p_w')\n",
    "        logs = {x_field: False, y_field: False}\n",
    "        profile = yt.create_profile(data_source=sp, bin_fields=[x_field,y_field], fields=z_field, \n",
    "                                    n_bins=[bins,bins], weight_field=None, logs=logs, \n",
    "                                    extrema={x_field: [-bin_limit,bin_limit],y_field: [-bin_limit,bin_limit]})\n",
    "        plot = yt.PhasePlot.from_profile(profile)\n",
    "        #plot = ds.plot_phase_region(sp, x_field, y_field, z_field, unit_type=\"planet\", x_bins=bins, y_bins=bins, domain_size=(-v_lim, v_lim, -v_lim, v_lim))\n",
    "        plot.set_unit(x_field, \"km/s\")\n",
    "        plot.set_unit(y_field, \"km/s\")\n",
    "        plot.set_unit(z_field, \"amu\")\n",
    "        for var_name in plot.profile.field_data: \n",
    "            counts_temp = plot.profile.field_data[var_name].T\n",
    "\n",
    "    # Here, one axis is the parallel velocity and the other is perpendicular to both ExB and B\n",
    "    elif ((x_axis == 'v_para' and y_axis == 'v_w') or (y_axis == 'v_para' and x_axis == 'v_w')):\n",
    "        # Get B and E at the locationn we are studying\n",
    "        Bx_loc,By_loc,Bz_loc = get_B_at_loc_from_fluid(file,loc)\n",
    "        Ex_loc,Ey_loc,Ez_loc = get_E_at_loc_from_fluid(file,loc)\n",
    "        \n",
    "        # Define magnetic and electric field unit vectors at loc\n",
    "        bhat = [Bx_loc,By_loc,Bz_loc]/np.sqrt(Bx_loc**2+By_loc**2+Bz_loc**2)\n",
    "        ehat = [Ex_loc,Ey_loc,Ez_loc]/np.sqrt(Ex_loc**2+Ey_loc**2+Ez_loc**2)\n",
    "\n",
    "        # Compute the ExB unit vector\n",
    "        exb = [ehat[1]*bhat[2]-ehat[2]*bhat[1], ehat[2]*bhat[0]-ehat[0]*bhat[2], ehat[0]*bhat[1]-ehat[1]*bhat[0]]\n",
    "\n",
    "        # Compute the vector orthogonal to both exb and b: w = bhat x (ExB)\n",
    "        w = [bhat[1]*exb[2]-bhat[2]*exb[1], bhat[2]*exb[0]-bhat[0]*exb[2], bhat[0]*exb[1]-bhat[1]*exb[0]]\n",
    "        \n",
    "        # Verify orthogonal:\n",
    "        #val0 = exb[0]*w[0]+exb[1]*w[1]+exb[2]*w[2]\n",
    "        #val1 = w[0]*bhat[0]+w[1]*bhat[1]+w[2]*bhat[2]\n",
    "        #print(val0)\n",
    "        #print(val1)\n",
    "\n",
    "        # Define v_para and v_ExB directions in the particle data files\n",
    "        def _vel_para(field, data): # This is basically v_para = v . b\n",
    "            res = bhat[0]*data[('particle', 'p_ux')] + bhat[1]*data[('particle', 'p_uy')] + bhat[2]*data[('particle', 'p_uz')]        \n",
    "            return res\n",
    "        def _vel_w(field, data): \n",
    "            res = w[0]*data[('particle', 'p_ux')] + w[1]*data[('particle', 'p_uy')] + w[2]*data[('particle', 'p_uz')]        \n",
    "            return res\n",
    "\n",
    "        # Add the fields to the dataset\n",
    "        vpara_name = ds.pvar(\"vel_para\")\n",
    "        vw_name = ds.pvar(\"vel_w\")\n",
    "        ds.add_field(vpara_name, units=\"code_velocity\", function=_vel_para, sampling_type='particle')\n",
    "        ds.add_field(vw_name, units=\"code_velocity\", function=_vel_w, sampling_type='particle')\n",
    "\n",
    "        # Generate plot \n",
    "        ds.add_field((\"particle\", \"unit_one\"), function=_unit_one, sampling_type='particle')\n",
    "        sp = ds.sphere(loc,radius)\n",
    "        x_field = vpara_name\n",
    "        y_field = vw_name\n",
    "        z_field = (\"particle\", \"unit_one\")#ds.pvar('p_w')\n",
    "        logs = {x_field: False, y_field: False}\n",
    "        profile = yt.create_profile(data_source=sp, bin_fields=[x_field,y_field], fields=z_field, \n",
    "                                    n_bins=[bins,bins], weight_field=None, logs=logs,\n",
    "                                    extrema={x_field: [-bin_limit,bin_limit],y_field: [-bin_limit,bin_limit]})\n",
    "        plot = yt.PhasePlot.from_profile(profile)\n",
    "        plot.set_unit(x_field, \"km/s\")\n",
    "        plot.set_unit(y_field, \"km/s\")\n",
    "        plot.set_unit(z_field, \"amu\")\n",
    "        for var_name in plot.profile.field_data: \n",
    "            counts_temp = plot.profile.field_data[var_name].T\n",
    "    \n",
    "    else:\n",
    "        print(\"ERROR: invalid axes!\")\n",
    "    \n",
    "    # Convert to np. Define output arrays without units\n",
    "    x_temp = plot.profile.x\n",
    "    y_temp = plot.profile.y\n",
    "    x=np.zeros(x_temp.shape)\n",
    "    y=np.zeros(y_temp.shape)\n",
    "    counts=np.zeros(counts_temp.shape)\n",
    "    x[:]=x_temp[:]\n",
    "    y[:]=y_temp[:]\n",
    "    counts[:,:]=counts_temp[:,:]\n",
    "    xx,yy=np.meshgrid(x,y)\n",
    "\n",
    "    return xx,yy,counts\n",
    "\n",
    "def generate_gif(folder, key=str(plot_preset+\"*\")):\n",
    "    #read all the .png files in directory \"frames\" \n",
    "    print(folder)\n",
    "    print(key)\n",
    "    gif_files = glob.glob(str(folder+\"/\"+key))\n",
    "    print(gif_files)\n",
    "    image_array = []\n",
    "    gif_files = natsorted(gif_files)\n",
    "    \n",
    "    for my_file in gif_files:\n",
    "        image = Image.open(gif_files)\n",
    "        image_array.append(image)\n",
    "        \n",
    "    # Create the figure and axes objects\n",
    "    fig, ax = plt.subplots(figsize=(8, 8))\n",
    "    \n",
    "    # Set the initial image\n",
    "    im = ax.imshow(image_array[0], animated=True)\n",
    "    plt.axis('off')\n",
    "    \n",
    "    def update(i):\n",
    "        im.set_array(image_array[i])\n",
    "        return im, \n",
    "    \n",
    "    # Create the animation object\n",
    "    animation_fig = animation.FuncAnimation(fig, update, frames=len(image_array), interval=200, blit=True,repeat_delay=10,)\n",
    "    \n",
    "    animation_fig.save(str(folder+\"_plots/\"+\"animated.gif\"),dpi=500)\n",
    "    plt.close(fig)\n",
    "\n",
    "def particle_plots(mode):\n",
    "    # Generates the desired plot for the given preset.\n",
    "\n",
    "    if mode == \"vx_vy-vx_vz\":\n",
    "        # Define the files to read\n",
    "        if multi:\n",
    "            print(\"Plotting all files in dir\")\n",
    "            if particle_type == \"ion\":\n",
    "                files = get_directories(dir)\n",
    "            elif particle_type == \"electron\":\n",
    "                # Note: which files to read for each particle type may change if #saveplot is altered. For now, ion is zone 0, electron is zone 1.\n",
    "                files = get_directories(dir,\".*cut_particle_region0_1.*\")\n",
    "            else:\n",
    "                print(\"ERROR: invalid particle type!\")\n",
    "        else:\n",
    "            files = {str(round(start_time,3)):str(file)}\n",
    "\n",
    "        # Loop over the identified files\n",
    "        for time in list(files.keys()): \n",
    "            print(\"Plotting t =\",time)\n",
    "            file = str(files[time])\n",
    "        \n",
    "            # Get data\n",
    "            data_file = dir+file\n",
    "            xx,yy,counts_xy = get_particle_np(data_file,'p_ux','p_uy')\n",
    "            xx,zz,counts_xz = get_particle_np(data_file,'p_ux','p_uz')\n",
    "    \n",
    "            # Set colorbar limits\n",
    "            cmin = 1\n",
    "            cmax = 100#max(counts_xy.max(),counts_xz.max())\n",
    "    \n",
    "            # Plot\n",
    "            fig, axs = plt.subplots(ncols=2,figsize=(13,5))\n",
    "            im0=axs[0].imshow(counts_xy, extent=[xx.min(), xx.max(), yy.min(), yy.max()],origin=\"lower\",norm=LogNorm(vmin=cmin,vmax=cmax))\n",
    "            im1=axs[1].imshow(counts_xz, extent=[xx.min(), xx.max(), zz.min(), zz.max()],origin=\"lower\",norm=LogNorm(vmin=cmin,vmax=cmax))\n",
    "    \n",
    "            # Add labels\n",
    "            axs[0].set_xlabel(\"$v_x$ [km/s]\")\n",
    "            axs[0].set_ylabel(\"$v_y$ [km/s]\")\n",
    "            axs[1].set_xlabel(\"$v_x$ [km/s]\")\n",
    "            axs[1].set_ylabel(\"$v_z$ [km/s]\")\n",
    "            axs[0].set_title(str(\"Velocity distribution  r=\"+str(loc)+\"   t=\"+str(round(time,2))+\"s\"+\"\\n Particle type: \"+particle_type))\n",
    "    \n",
    "            # Add grid\n",
    "            axs[0].grid(alpha=0.5)\n",
    "            axs[1].grid(alpha=0.5)\n",
    "    \n",
    "            # Add colorbar\n",
    "            fig.subplots_adjust(right=0.84)\n",
    "            cbar_ax = fig.add_axes([0.85, 0.15, 0.01, 0.7])\n",
    "            fig.colorbar(im1, cax=cbar_ax, label = \"Counts\")\n",
    "    \n",
    "            # Save\n",
    "            fig.savefig(str(folder+\"_plots/\"+plot_preset+\"_\"+str(loc)+\"_\"+str(round(time,2))+'.png'),bbox_inches='tight')\n",
    "\n",
    "            if multi:\n",
    "                plt.close()\n",
    "\n",
    "            else:\n",
    "                plt.show()\n",
    "        \n",
    "        if make_gif:\n",
    "            generate_gif(folder)\n",
    "\n",
    "    if mode == \"v_para-v_perp\":\n",
    "        # Define the files to read\n",
    "        if multi:\n",
    "            print(\"Plotting all files in dir\")\n",
    "            if particle_type == \"ion\":\n",
    "                files = get_directories(dir)\n",
    "            elif particle_type == \"electron\":\n",
    "                # Note: which files to read for each particle type may change if #saveplot is altered. For now, ion is zone 0, electron is zone 1.\n",
    "                files = get_directories(dir,\".*cut_particle_region0_1.*\")\n",
    "            else:\n",
    "                print(\"ERROR: invalid particle type!\")\n",
    "        else:\n",
    "            files = {str(round(start_time,3)):str(file)}\n",
    "\n",
    "        # Loop over the identified files\n",
    "        for time in list(files.keys()): \n",
    "            print(\"Plotting t =\",time)\n",
    "            file = str(files[time])\n",
    "            print(\"reading file\",file)\n",
    "\n",
    "            # Get data\n",
    "            data_file = dir+file\n",
    "            xx,yy,counts = get_particle_np(data_file,'v_para','v_perp')\n",
    "            \n",
    "            # Get B field data\n",
    "            ds = fleks.load(data_file)\n",
    "            Bx_loc,By_loc,Bz_loc = get_B_at_loc_from_fluid(file,loc)\n",
    "            \n",
    "            # Set colorbar limits\n",
    "            cmin = 1\n",
    "            cmax = 100\n",
    "    \n",
    "            # Plot\n",
    "            fig, ax = plt.subplots(ncols=1,figsize=(7,7))\n",
    "            im=ax.imshow(counts.T, extent=[yy.min(), yy.max(), xx.min(), xx.max()],origin=\"lower\",norm=LogNorm(vmin=cmin,vmax=cmax))\n",
    "    \n",
    "            # Add labels\n",
    "            ax.set_ylabel(\"$v_{para}$ [km/s]\")\n",
    "            ax.set_xlabel(\"$v_{perp}$ [km/s]\")\n",
    "            ax.set_title(str(\"Velocity distribution  r=\"+str(loc)+\"   t=\"+str(round(time,2))+\"s \\n Local B: (\"+str(round(Bx_loc,3))+\", \"+str(round(By_loc,3))+\", \"+str(round(Bz_loc,3))+\")\"+\"\\n Particle type: \"+particle_type))\n",
    "            ax.set_ylim(-25000,25000)\n",
    "            ax.set_xlim(0,50000)\n",
    "    \n",
    "            # Add grid\n",
    "            ax.grid(alpha=0.5)\n",
    "            ax.grid(alpha=0.5)\n",
    "    \n",
    "            # Add colorbar\n",
    "            #fig.subplots_adjust(right=0.84)\n",
    "            #cbar_ax = fig.add_axes([0.85, 0.15, 0.01, 0.7])\n",
    "            fig.colorbar(im, label = \"Counts\")\n",
    "    \n",
    "            # Save\n",
    "            fig.savefig(str(folder+\"_plots/\"+plot_preset+\"_\"+str(loc)+\"_\"+str(round(time,2))+'.png'),bbox_inches='tight')\n",
    "\n",
    "            if multi:\n",
    "                plt.close()\n",
    "\n",
    "            else:\n",
    "                plt.show()\n",
    "        \n",
    "        if make_gif:\n",
    "            generate_gif(folder)\n",
    "\n",
    "    if mode == \"v_para-v_perp2\":\n",
    "        # Define the files to read\n",
    "        if multi:\n",
    "            print(\"Plotting all files in dir\")\n",
    "            if particle_type == \"ion\":\n",
    "                files = get_directories(dir)\n",
    "            elif particle_type == \"electron\":\n",
    "                # Note: which files to read for each particle type may change if #saveplot is altered. For now, ion is zone 0, electron is zone 1.\n",
    "                files = get_directories(dir,\".*cut_particle_region0_1.*\")\n",
    "            else:\n",
    "                print(\"ERROR: invalid particle type!\")\n",
    "        else:\n",
    "            files = {str(round(start_time,3)):str(file)}\n",
    "\n",
    "        # Loop over the identified files\n",
    "        for time in list(files.keys()): \n",
    "            print(\"Plotting t =\",time)\n",
    "            file = str(files[time])\n",
    "            print(\"reading file\",file)\n",
    "\n",
    "            # Get data\n",
    "            data_file = dir+file\n",
    "            xx0,yy0,counts0 = get_particle_np(data_file,'v_para','v_exb')\n",
    "            xx1,yy1,counts1 = get_particle_np(data_file,'v_para','v_w')\n",
    "            \n",
    "            # Get B field data\n",
    "            ds = fleks.load(data_file)\n",
    "            Bx_loc,By_loc,Bz_loc = get_B_at_loc_from_fluid(file,loc)\n",
    "            \n",
    "            # Set colorbar limits\n",
    "            cmin = 1\n",
    "            cmax = 100\n",
    "    \n",
    "            # Plot\n",
    "            fig, axs = plt.subplots(ncols=2,figsize=(13,5))\n",
    "            im0=axs[0].imshow(counts0, extent=[yy0.min(), yy0.max(), xx0.min(), xx0.max()],\n",
    "                          origin=\"lower\",norm=LogNorm(vmin=cmin,vmax=cmax))\n",
    "            im1=axs[1].imshow(counts1, extent=[yy1.min(), yy1.max(), xx1.min(), xx1.max()],\n",
    "                          origin=\"lower\",norm=LogNorm(vmin=cmin,vmax=cmax))\n",
    "    \n",
    "            # Add labels\n",
    "            axs[0].set_ylabel(\"$v_{para}$ [km/s]\")\n",
    "            axs[0].set_xlabel(\"$v_{ExB}$ [km/s]\")\n",
    "            axs[1].set_ylabel(\"$v_{para}$ [km/s]\")\n",
    "            axs[1].set_xlabel(\"$v_{w}$ [km/s]\")\n",
    "            axs[0].set_title(str(\"Velocity distribution  r=\"+str(loc)+\"   t=\"+str(round(time,2))+\"s \\n Local B: (\"+str(round(Bx_loc,3))+\", \"+str(round(By_loc,3))+\", \"+str(round(Bz_loc,3))+\")\"+\"\\n Particle type: \"+particle_type))\n",
    "            axs[0].set_ylim(-2500,2500)\n",
    "            axs[0].set_xlim(-2500,2500)\n",
    "            axs[1].set_ylim(-2500,2500)\n",
    "            axs[1].set_xlim(-2500,2500)\n",
    "    \n",
    "            # Add grid\n",
    "            axs[0].grid(alpha=0.5)\n",
    "            axs[0].grid(alpha=0.5)\n",
    "            axs[1].grid(alpha=0.5)\n",
    "            axs[1].grid(alpha=0.5)\n",
    "    \n",
    "           # Add colorbar\n",
    "            fig.subplots_adjust(right=0.84)\n",
    "            cbar_ax = fig.add_axes([0.85, 0.15, 0.01, 0.7])\n",
    "            fig.colorbar(im1, cax=cbar_ax, label = \"Counts\")\n",
    "    \n",
    "            # Save\n",
    "            fig.savefig(str(folder+\"_plots/\"+plot_preset+\"_\"+str(loc)+\"_\"+str(round(time,2))+'.png'),bbox_inches='tight')\n",
    "\n",
    "            if multi:\n",
    "                plt.close()\n",
    "\n",
    "            else:\n",
    "                plt.show()\n",
    "        \n",
    "        if make_gif:\n",
    "            generate_gif(folder)\n",
    "\n",
    "# Run\n",
    "particle_plots(plot_preset)"
   ]
  },
  {
   "cell_type": "markdown",
   "id": "b0bb653a-e993-4eef-bcb7-ee92bee36c3b",
   "metadata": {},
   "source": [
    "# Tecplot Format for 3d_fluid PC output"
   ]
  },
  {
   "cell_type": "code",
   "execution_count": 150,
   "id": "24f64b6f-9bd8-40b4-9aac-292e3bacb152",
   "metadata": {},
   "outputs": [
    {
     "name": "stdout",
     "output_type": "stream",
     "text": [
      "Connecting to Tecplot 360 TecUtil Server on:\n",
      "    tcp://localhost:7600\n",
      "Connection established.\n"
     ]
    },
    {
     "ename": "ZMQError",
     "evalue": "Operation cannot be accomplished in current state",
     "output_type": "error",
     "traceback": [
      "\u001b[0;31m---------------------------------------------------------------------------\u001b[0m",
      "\u001b[0;31mKeyboardInterrupt\u001b[0m                         Traceback (most recent call last)",
      "File \u001b[0;32m~/anaconda3/lib/python3.10/site-packages/tecplot/data/load.py:1906\u001b[0m, in \u001b[0;36mload_tecplot\u001b[0;34m(filenames, frame, read_data_option, reset_style, initial_plot_first_zone_only, initial_plot_type, zones, variables, collapse, skip, assign_strand_ids, add_zones_to_existing_strands, include_text, include_geom, include_custom_labels, include_data)\u001b[0m\n\u001b[1;32m   1905\u001b[0m \u001b[38;5;28;01mtry\u001b[39;00m:\n\u001b[0;32m-> 1906\u001b[0m     \u001b[38;5;28;01mreturn\u001b[39;00m \u001b[43m_tecplot_loader_load_data\u001b[49m\u001b[43m(\u001b[49m\n\u001b[1;32m   1907\u001b[0m \u001b[43m        \u001b[49m\u001b[43marglist\u001b[49m\u001b[43m,\u001b[49m\u001b[43m \u001b[49m\u001b[43mframe\u001b[49m\u001b[38;5;241;43m=\u001b[39;49m\u001b[43mframe\u001b[49m\u001b[43m,\u001b[49m\u001b[43m \u001b[49m\u001b[43mread_data_option\u001b[49m\u001b[38;5;241;43m=\u001b[39;49m\u001b[43mread_data_option\u001b[49m\u001b[43m,\u001b[49m\n\u001b[1;32m   1908\u001b[0m \u001b[43m        \u001b[49m\u001b[43mreset_style\u001b[49m\u001b[38;5;241;43m=\u001b[39;49m\u001b[43mreset_style\u001b[49m\u001b[43m,\u001b[49m\n\u001b[1;32m   1909\u001b[0m \u001b[43m        \u001b[49m\u001b[43minitial_plot_first_zone_only\u001b[49m\u001b[38;5;241;43m=\u001b[39;49m\u001b[43minitial_plot_first_zone_only\u001b[49m\u001b[43m,\u001b[49m\n\u001b[1;32m   1910\u001b[0m \u001b[43m        \u001b[49m\u001b[43minitial_plot_type\u001b[49m\u001b[38;5;241;43m=\u001b[39;49m\u001b[43minitial_plot_type\u001b[49m\u001b[43m,\u001b[49m\n\u001b[1;32m   1911\u001b[0m \u001b[43m        \u001b[49m\u001b[43massign_strand_ids\u001b[49m\u001b[38;5;241;43m=\u001b[39;49m\u001b[43massign_strand_ids\u001b[49m\u001b[43m,\u001b[49m\n\u001b[1;32m   1912\u001b[0m \u001b[43m        \u001b[49m\u001b[43madd_zones_to_existing_strands\u001b[49m\u001b[38;5;241;43m=\u001b[39;49m\u001b[43madd_zones_to_existing_strands\u001b[49m\u001b[43m)\u001b[49m\n\u001b[1;32m   1913\u001b[0m \u001b[38;5;28;01mfinally\u001b[39;00m:\n",
      "File \u001b[0;32m~/anaconda3/lib/python3.10/contextlib.py:79\u001b[0m, in \u001b[0;36mContextDecorator.__call__.<locals>.inner\u001b[0;34m(*args, **kwds)\u001b[0m\n\u001b[1;32m     78\u001b[0m \u001b[38;5;28;01mwith\u001b[39;00m \u001b[38;5;28mself\u001b[39m\u001b[38;5;241m.\u001b[39m_recreate_cm():\n\u001b[0;32m---> 79\u001b[0m     \u001b[38;5;28;01mreturn\u001b[39;00m \u001b[43mfunc\u001b[49m\u001b[43m(\u001b[49m\u001b[38;5;241;43m*\u001b[39;49m\u001b[43margs\u001b[49m\u001b[43m,\u001b[49m\u001b[43m \u001b[49m\u001b[38;5;241;43m*\u001b[39;49m\u001b[38;5;241;43m*\u001b[39;49m\u001b[43mkwds\u001b[49m\u001b[43m)\u001b[49m\n",
      "File \u001b[0;32m~/anaconda3/lib/python3.10/site-packages/tecplot/data/load.py:58\u001b[0m, in \u001b[0;36m_tecplot_loader_load_data\u001b[0;34m(arglist, frame, read_data_option, reset_style, initial_plot_first_zone_only, initial_plot_type, assign_strand_ids, add_zones_to_existing_strands)\u001b[0m\n\u001b[1;32m     56\u001b[0m     log\u001b[38;5;241m.\u001b[39mdebug(msg)\n\u001b[0;32m---> 58\u001b[0m \u001b[38;5;28;01mif\u001b[39;00m \u001b[38;5;129;01mnot\u001b[39;00m \u001b[43m_tecutil\u001b[49m\u001b[38;5;241;43m.\u001b[39;49m\u001b[43mDataSetReadX\u001b[49m\u001b[43m(\u001b[49m\u001b[43marglist\u001b[49m\u001b[43m)\u001b[49m:\n\u001b[1;32m     59\u001b[0m     \u001b[38;5;28;01mraise\u001b[39;00m TecplotSystemError()\n",
      "File \u001b[0;32m~/anaconda3/lib/python3.10/site-packages/tecplot/tecutil/preamble.py:26\u001b[0m, in \u001b[0;36mtecutil_preamble.<locals>._fn\u001b[0;34m(self, *a, **kw)\u001b[0m\n\u001b[1;32m     25\u001b[0m     client \u001b[38;5;241m=\u001b[39m \u001b[38;5;28mself\u001b[39m\u001b[38;5;241m.\u001b[39mconnector\u001b[38;5;241m.\u001b[39mclient\n\u001b[0;32m---> 26\u001b[0m     result \u001b[38;5;241m=\u001b[39m \u001b[38;5;28;43mgetattr\u001b[39;49m\u001b[43m(\u001b[49m\u001b[43mclient\u001b[49m\u001b[43m,\u001b[49m\u001b[43m \u001b[49m\u001b[43mfn\u001b[49m\u001b[38;5;241;43m.\u001b[39;49m\u001b[38;5;18;43m__name__\u001b[39;49m\u001b[43m)\u001b[49m\u001b[43m(\u001b[49m\u001b[38;5;241;43m*\u001b[39;49m\u001b[43ma\u001b[49m\u001b[43m,\u001b[49m\u001b[43m \u001b[49m\u001b[38;5;241;43m*\u001b[39;49m\u001b[38;5;241;43m*\u001b[39;49m\u001b[43mkw\u001b[49m\u001b[43m)\u001b[49m\n\u001b[1;32m     27\u001b[0m \u001b[38;5;28;01melse\u001b[39;00m:\n",
      "File \u001b[0;32m~/anaconda3/lib/python3.10/site-packages/tecplot/tecutil/tecutil_rpc.py:1860\u001b[0m, in \u001b[0;36mTecUtilRPC.DataSetReadX\u001b[0;34m(self, arg_list)\u001b[0m\n\u001b[1;32m   1859\u001b[0m args\u001b[38;5;241m=\u001b[39m((ValueType\u001b[38;5;241m.\u001b[39mAddress,c_uint64,\u001b[38;5;28mgetattr\u001b[39m(arg_list,\u001b[38;5;124m'\u001b[39m\u001b[38;5;124mvalue\u001b[39m\u001b[38;5;124m'\u001b[39m,arg_list)),)\n\u001b[0;32m-> 1860\u001b[0m rep\u001b[38;5;241m=\u001b[39m\u001b[38;5;28;43mself\u001b[39;49m\u001b[38;5;241;43m.\u001b[39;49m\u001b[43msndrcv\u001b[49m\u001b[43m(\u001b[49m\u001b[38;5;124;43m\"\u001b[39;49m\u001b[38;5;124;43mDataSetReadX\u001b[39;49m\u001b[38;5;124;43m\"\u001b[39;49m\u001b[43m,\u001b[49m\u001b[38;5;241;43m*\u001b[39;49m\u001b[43margs\u001b[49m\u001b[43m)\u001b[49m\n\u001b[1;32m   1861\u001b[0m \u001b[38;5;28mself\u001b[39m\u001b[38;5;241m.\u001b[39mchk(rep)\n",
      "File \u001b[0;32m~/anaconda3/lib/python3.10/site-packages/tecplot/tecutil/tecutil_client.py:368\u001b[0m, in \u001b[0;36mTecUtilClient.sndrcv\u001b[0;34m(self, tecutil_command, *args, **kwargs)\u001b[0m\n\u001b[1;32m    367\u001b[0m reply \u001b[38;5;241m=\u001b[39m tecrpc\u001b[38;5;241m.\u001b[39mReply()\n\u001b[0;32m--> 368\u001b[0m reply_buffer \u001b[38;5;241m=\u001b[39m \u001b[38;5;28;43mself\u001b[39;49m\u001b[38;5;241;43m.\u001b[39;49m\u001b[43msocket\u001b[49m\u001b[38;5;241;43m.\u001b[39;49m\u001b[43mrecv\u001b[49m\u001b[43m(\u001b[49m\u001b[43m)\u001b[49m\n\u001b[1;32m    369\u001b[0m reply\u001b[38;5;241m.\u001b[39mParseFromString(reply_buffer)\n",
      "File \u001b[0;32mzmq/backend/cython/socket.pyx:805\u001b[0m, in \u001b[0;36mzmq.backend.cython.socket.Socket.recv\u001b[0;34m()\u001b[0m\n",
      "File \u001b[0;32mzmq/backend/cython/socket.pyx:841\u001b[0m, in \u001b[0;36mzmq.backend.cython.socket.Socket.recv\u001b[0;34m()\u001b[0m\n",
      "File \u001b[0;32mzmq/backend/cython/socket.pyx:194\u001b[0m, in \u001b[0;36mzmq.backend.cython.socket._recv_copy\u001b[0;34m()\u001b[0m\n",
      "File \u001b[0;32m~/anaconda3/lib/python3.10/site-packages/zmq/backend/cython/checkrc.pxd:13\u001b[0m, in \u001b[0;36mzmq.backend.cython.checkrc._check_rc\u001b[0;34m()\u001b[0m\n",
      "\u001b[0;31mKeyboardInterrupt\u001b[0m: ",
      "\nDuring handling of the above exception, another exception occurred:\n",
      "\u001b[0;31mZMQError\u001b[0m                                  Traceback (most recent call last)",
      "Cell \u001b[0;32mIn[150], line 127\u001b[0m\n\u001b[1;32m    124\u001b[0m filename \u001b[38;5;241m=\u001b[39m \u001b[38;5;124m'\u001b[39m\u001b[38;5;124m/Users/atcushen/Documents/MercuryModelling/runs/nightside_v1_run4/ta-2_rerun/3d_fluid_region0_2_t00000215_n00000000_amrex.dat\u001b[39m\u001b[38;5;124m'\u001b[39m\n\u001b[1;32m    126\u001b[0m fig, axs \u001b[38;5;241m=\u001b[39m plt\u001b[38;5;241m.\u001b[39msubplots(nrows\u001b[38;5;241m=\u001b[39m\u001b[38;5;241m2\u001b[39m,ncols\u001b[38;5;241m=\u001b[39m\u001b[38;5;241m1\u001b[39m,figsize\u001b[38;5;241m=\u001b[39m(\u001b[38;5;241m8\u001b[39m,\u001b[38;5;241m8\u001b[39m))\n\u001b[0;32m--> 127\u001b[0m dataset \u001b[38;5;241m=\u001b[39m \u001b[43mread_dataset\u001b[49m\u001b[43m(\u001b[49m\u001b[43mfilename\u001b[49m\u001b[43m)\u001b[49m\n\u001b[1;32m    128\u001b[0m my_data \u001b[38;5;241m=\u001b[39m extract_values(dataset,var_ls \u001b[38;5;241m=\u001b[39m [\u001b[38;5;124m'\u001b[39m\u001b[38;5;124mpxxS1\u001b[39m\u001b[38;5;124m'\u001b[39m],origin\u001b[38;5;241m=\u001b[39m[\u001b[38;5;241m0\u001b[39m,\u001b[38;5;241m0.2\u001b[39m,\u001b[38;5;241m0\u001b[39m],normal\u001b[38;5;241m=\u001b[39m[\u001b[38;5;241m0\u001b[39m,\u001b[38;5;241m0\u001b[39m,\u001b[38;5;241m1\u001b[39m])\n\u001b[1;32m    129\u001b[0m ls \u001b[38;5;241m=\u001b[39m np\u001b[38;5;241m.\u001b[39marange(\u001b[38;5;241m0\u001b[39m,\u001b[38;5;28mlen\u001b[39m(my_data[\u001b[38;5;124m'\u001b[39m\u001b[38;5;124mX\u001b[39m\u001b[38;5;124m'\u001b[39m]))\n",
      "Cell \u001b[0;32mIn[150], line 36\u001b[0m, in \u001b[0;36mread_dataset\u001b[0;34m(mypath)\u001b[0m\n\u001b[1;32m     34\u001b[0m \u001b[38;5;66;03m# Configure layout\u001b[39;00m\n\u001b[1;32m     35\u001b[0m tp\u001b[38;5;241m.\u001b[39mnew_layout()\n\u001b[0;32m---> 36\u001b[0m dataset \u001b[38;5;241m=\u001b[39m \u001b[43mtp\u001b[49m\u001b[38;5;241;43m.\u001b[39;49m\u001b[43mdata\u001b[49m\u001b[38;5;241;43m.\u001b[39;49m\u001b[43mload_tecplot\u001b[49m\u001b[43m(\u001b[49m\u001b[43mfilename\u001b[49m\u001b[43m)\u001b[49m\n\u001b[1;32m     37\u001b[0m frame \u001b[38;5;241m=\u001b[39m tp\u001b[38;5;241m.\u001b[39mactive_frame()\n\u001b[1;32m     38\u001b[0m frame\u001b[38;5;241m.\u001b[39mplot_type \u001b[38;5;241m=\u001b[39m PlotType\u001b[38;5;241m.\u001b[39mCartesian3D\n",
      "File \u001b[0;32m~/anaconda3/lib/python3.10/contextlib.py:79\u001b[0m, in \u001b[0;36mContextDecorator.__call__.<locals>.inner\u001b[0;34m(*args, **kwds)\u001b[0m\n\u001b[1;32m     76\u001b[0m \u001b[38;5;129m@wraps\u001b[39m(func)\n\u001b[1;32m     77\u001b[0m \u001b[38;5;28;01mdef\u001b[39;00m \u001b[38;5;21minner\u001b[39m(\u001b[38;5;241m*\u001b[39margs, \u001b[38;5;241m*\u001b[39m\u001b[38;5;241m*\u001b[39mkwds):\n\u001b[1;32m     78\u001b[0m     \u001b[38;5;28;01mwith\u001b[39;00m \u001b[38;5;28mself\u001b[39m\u001b[38;5;241m.\u001b[39m_recreate_cm():\n\u001b[0;32m---> 79\u001b[0m         \u001b[38;5;28;01mreturn\u001b[39;00m \u001b[43mfunc\u001b[49m\u001b[43m(\u001b[49m\u001b[38;5;241;43m*\u001b[39;49m\u001b[43margs\u001b[49m\u001b[43m,\u001b[49m\u001b[43m \u001b[49m\u001b[38;5;241;43m*\u001b[39;49m\u001b[38;5;241;43m*\u001b[39;49m\u001b[43mkwds\u001b[49m\u001b[43m)\u001b[49m\n",
      "File \u001b[0;32m~/anaconda3/lib/python3.10/site-packages/tecplot/data/load.py:1879\u001b[0m, in \u001b[0;36mload_tecplot\u001b[0;34m(filenames, frame, read_data_option, reset_style, initial_plot_first_zone_only, initial_plot_type, zones, variables, collapse, skip, assign_strand_ids, add_zones_to_existing_strands, include_text, include_geom, include_custom_labels, include_data)\u001b[0m\n\u001b[1;32m   1776\u001b[0m \u001b[38;5;250m\u001b[39m\u001b[38;5;124;03m\"\"\"Read a tecplot data file.\u001b[39;00m\n\u001b[1;32m   1777\u001b[0m \n\u001b[1;32m   1778\u001b[0m \u001b[38;5;124;03mParameters:\u001b[39;00m\n\u001b[0;32m   (...)\u001b[0m\n\u001b[1;32m   1876\u001b[0m \u001b[38;5;124;03m    ``r\"C:\\\\Users\"`` and ``r\"\\\\\\\\server\\\\path\"``\u001b[39;00m\n\u001b[1;32m   1877\u001b[0m \u001b[38;5;124;03m\"\"\"\u001b[39;00m\n\u001b[1;32m   1878\u001b[0m filenames \u001b[38;5;241m=\u001b[39m tecutil\u001b[38;5;241m.\u001b[39mnormalize_filenames(filenames)\n\u001b[0;32m-> 1879\u001b[0m \u001b[38;5;28;01mwith\u001b[39;00m StringList(filenames) \u001b[38;5;28;01mas\u001b[39;00m fnames:\n\u001b[1;32m   1880\u001b[0m     \u001b[38;5;28;01mwith\u001b[39;00m tecutil\u001b[38;5;241m.\u001b[39mArgList() \u001b[38;5;28;01mas\u001b[39;00m arglist:\n\u001b[1;32m   1881\u001b[0m         allocd \u001b[38;5;241m=\u001b[39m []\n",
      "File \u001b[0;32m~/anaconda3/lib/python3.10/site-packages/tecplot/tecutil/stringlist.py:95\u001b[0m, in \u001b[0;36mStringList.__exit__\u001b[0;34m(self, *args)\u001b[0m\n\u001b[1;32m     94\u001b[0m \u001b[38;5;28;01mdef\u001b[39;00m \u001b[38;5;21m__exit__\u001b[39m(\u001b[38;5;28mself\u001b[39m, \u001b[38;5;241m*\u001b[39margs):\n\u001b[0;32m---> 95\u001b[0m     \u001b[38;5;28;43mself\u001b[39;49m\u001b[38;5;241;43m.\u001b[39;49m\u001b[43mdealloc\u001b[49m\u001b[43m(\u001b[49m\u001b[43m)\u001b[49m\n",
      "File \u001b[0;32m~/anaconda3/lib/python3.10/site-packages/tecplot/tecutil/stringlist.py:117\u001b[0m, in \u001b[0;36mStringList.dealloc\u001b[0;34m(self)\u001b[0m\n\u001b[1;32m    116\u001b[0m \u001b[38;5;28;01mdef\u001b[39;00m \u001b[38;5;21mdealloc\u001b[39m(\u001b[38;5;28mself\u001b[39m):\n\u001b[0;32m--> 117\u001b[0m     \u001b[43m_tecutil\u001b[49m\u001b[38;5;241;43m.\u001b[39;49m\u001b[43mStringListDealloc\u001b[49m\u001b[43m(\u001b[49m\u001b[43mpointer\u001b[49m\u001b[43m(\u001b[49m\u001b[38;5;28;43mself\u001b[39;49m\u001b[43m)\u001b[49m\u001b[43m)\u001b[49m\n",
      "File \u001b[0;32m~/anaconda3/lib/python3.10/site-packages/tecplot/tecutil/preamble.py:26\u001b[0m, in \u001b[0;36mtecutil_preamble.<locals>._fn\u001b[0;34m(self, *a, **kw)\u001b[0m\n\u001b[1;32m     24\u001b[0m \u001b[38;5;28;01mif\u001b[39;00m \u001b[38;5;28mself\u001b[39m\u001b[38;5;241m.\u001b[39mconnector\u001b[38;5;241m.\u001b[39mconnected:\n\u001b[1;32m     25\u001b[0m     client \u001b[38;5;241m=\u001b[39m \u001b[38;5;28mself\u001b[39m\u001b[38;5;241m.\u001b[39mconnector\u001b[38;5;241m.\u001b[39mclient\n\u001b[0;32m---> 26\u001b[0m     result \u001b[38;5;241m=\u001b[39m \u001b[38;5;28;43mgetattr\u001b[39;49m\u001b[43m(\u001b[49m\u001b[43mclient\u001b[49m\u001b[43m,\u001b[49m\u001b[43m \u001b[49m\u001b[43mfn\u001b[49m\u001b[38;5;241;43m.\u001b[39;49m\u001b[38;5;18;43m__name__\u001b[39;49m\u001b[43m)\u001b[49m\u001b[43m(\u001b[49m\u001b[38;5;241;43m*\u001b[39;49m\u001b[43ma\u001b[49m\u001b[43m,\u001b[49m\u001b[43m \u001b[49m\u001b[38;5;241;43m*\u001b[39;49m\u001b[38;5;241;43m*\u001b[39;49m\u001b[43mkw\u001b[49m\u001b[43m)\u001b[49m\n\u001b[1;32m     27\u001b[0m \u001b[38;5;28;01melse\u001b[39;00m:\n\u001b[1;32m     28\u001b[0m     \u001b[38;5;28;01mtry\u001b[39;00m:\n",
      "File \u001b[0;32m~/anaconda3/lib/python3.10/site-packages/tecplot/tecutil/tecutil_rpc.py:5421\u001b[0m, in \u001b[0;36mTecUtilRPC.StringListDealloc\u001b[0;34m(self, string_list)\u001b[0m\n\u001b[1;32m   5419\u001b[0m \u001b[38;5;28;01mdef\u001b[39;00m \u001b[38;5;21mStringListDealloc\u001b[39m(\u001b[38;5;28mself\u001b[39m,string_list):\n\u001b[1;32m   5420\u001b[0m  args\u001b[38;5;241m=\u001b[39m((ValueType\u001b[38;5;241m.\u001b[39mAddress,c_uint64,string_list\u001b[38;5;241m.\u001b[39mcontents\u001b[38;5;241m.\u001b[39mvalue),)\n\u001b[0;32m-> 5421\u001b[0m  rep\u001b[38;5;241m=\u001b[39m\u001b[38;5;28;43mself\u001b[39;49m\u001b[38;5;241;43m.\u001b[39;49m\u001b[43msndrcv\u001b[49m\u001b[43m(\u001b[49m\u001b[38;5;124;43m\"\u001b[39;49m\u001b[38;5;124;43mStringListDealloc\u001b[39;49m\u001b[38;5;124;43m\"\u001b[39;49m\u001b[43m,\u001b[49m\u001b[38;5;241;43m*\u001b[39;49m\u001b[43margs\u001b[49m\u001b[43m)\u001b[49m\n\u001b[1;32m   5422\u001b[0m  \u001b[38;5;28mself\u001b[39m\u001b[38;5;241m.\u001b[39mchk(rep)\n\u001b[1;32m   5423\u001b[0m  \u001b[38;5;28;01mreturn\u001b[39;00m rep\u001b[38;5;241m.\u001b[39margs[\u001b[38;5;241m0\u001b[39m]\u001b[38;5;241m.\u001b[39muint64\n",
      "File \u001b[0;32m~/anaconda3/lib/python3.10/site-packages/tecplot/tecutil/tecutil_client.py:365\u001b[0m, in \u001b[0;36mTecUtilClient.sndrcv\u001b[0;34m(self, tecutil_command, *args, **kwargs)\u001b[0m\n\u001b[1;32m    362\u001b[0m optype \u001b[38;5;241m=\u001b[39m build_tecutil_request(request, tecutil_command, \u001b[38;5;241m*\u001b[39margs, \u001b[38;5;241m*\u001b[39m\u001b[38;5;241m*\u001b[39mkwargs)\n\u001b[1;32m    364\u001b[0m request_buffer \u001b[38;5;241m=\u001b[39m request\u001b[38;5;241m.\u001b[39mSerializeToString()\n\u001b[0;32m--> 365\u001b[0m \u001b[38;5;28;43mself\u001b[39;49m\u001b[38;5;241;43m.\u001b[39;49m\u001b[43msocket\u001b[49m\u001b[38;5;241;43m.\u001b[39;49m\u001b[43msend\u001b[49m\u001b[43m(\u001b[49m\u001b[43mrequest_buffer\u001b[49m\u001b[43m)\u001b[49m\n\u001b[1;32m    367\u001b[0m reply \u001b[38;5;241m=\u001b[39m tecrpc\u001b[38;5;241m.\u001b[39mReply()\n\u001b[1;32m    368\u001b[0m reply_buffer \u001b[38;5;241m=\u001b[39m \u001b[38;5;28mself\u001b[39m\u001b[38;5;241m.\u001b[39msocket\u001b[38;5;241m.\u001b[39mrecv()\n",
      "File \u001b[0;32m~/anaconda3/lib/python3.10/site-packages/zmq/sugar/socket.py:696\u001b[0m, in \u001b[0;36mSocket.send\u001b[0;34m(self, data, flags, copy, track, routing_id, group)\u001b[0m\n\u001b[1;32m    689\u001b[0m         data \u001b[38;5;241m=\u001b[39m zmq\u001b[38;5;241m.\u001b[39mFrame(\n\u001b[1;32m    690\u001b[0m             data,\n\u001b[1;32m    691\u001b[0m             track\u001b[38;5;241m=\u001b[39mtrack,\n\u001b[1;32m    692\u001b[0m             copy\u001b[38;5;241m=\u001b[39mcopy \u001b[38;5;129;01mor\u001b[39;00m \u001b[38;5;28;01mNone\u001b[39;00m,\n\u001b[1;32m    693\u001b[0m             copy_threshold\u001b[38;5;241m=\u001b[39m\u001b[38;5;28mself\u001b[39m\u001b[38;5;241m.\u001b[39mcopy_threshold,\n\u001b[1;32m    694\u001b[0m         )\n\u001b[1;32m    695\u001b[0m     data\u001b[38;5;241m.\u001b[39mgroup \u001b[38;5;241m=\u001b[39m group\n\u001b[0;32m--> 696\u001b[0m \u001b[38;5;28;01mreturn\u001b[39;00m \u001b[38;5;28;43msuper\u001b[39;49m\u001b[43m(\u001b[49m\u001b[43m)\u001b[49m\u001b[38;5;241;43m.\u001b[39;49m\u001b[43msend\u001b[49m\u001b[43m(\u001b[49m\u001b[43mdata\u001b[49m\u001b[43m,\u001b[49m\u001b[43m \u001b[49m\u001b[43mflags\u001b[49m\u001b[38;5;241;43m=\u001b[39;49m\u001b[43mflags\u001b[49m\u001b[43m,\u001b[49m\u001b[43m \u001b[49m\u001b[43mcopy\u001b[49m\u001b[38;5;241;43m=\u001b[39;49m\u001b[43mcopy\u001b[49m\u001b[43m,\u001b[49m\u001b[43m \u001b[49m\u001b[43mtrack\u001b[49m\u001b[38;5;241;43m=\u001b[39;49m\u001b[43mtrack\u001b[49m\u001b[43m)\u001b[49m\n",
      "File \u001b[0;32mzmq/backend/cython/socket.pyx:742\u001b[0m, in \u001b[0;36mzmq.backend.cython.socket.Socket.send\u001b[0;34m()\u001b[0m\n",
      "File \u001b[0;32mzmq/backend/cython/socket.pyx:789\u001b[0m, in \u001b[0;36mzmq.backend.cython.socket.Socket.send\u001b[0;34m()\u001b[0m\n",
      "File \u001b[0;32mzmq/backend/cython/socket.pyx:255\u001b[0m, in \u001b[0;36mzmq.backend.cython.socket._send_copy\u001b[0;34m()\u001b[0m\n",
      "File \u001b[0;32mzmq/backend/cython/socket.pyx:250\u001b[0m, in \u001b[0;36mzmq.backend.cython.socket._send_copy\u001b[0;34m()\u001b[0m\n",
      "File \u001b[0;32m~/anaconda3/lib/python3.10/site-packages/zmq/backend/cython/checkrc.pxd:28\u001b[0m, in \u001b[0;36mzmq.backend.cython.checkrc._check_rc\u001b[0;34m()\u001b[0m\n",
      "\u001b[0;31mZMQError\u001b[0m: Operation cannot be accomplished in current state"
     ]
    },
    {
     "data": {
      "image/png": "[encoded data removed]",
      "text/plain": [
       "<Figure size 800x800 with 2 Axes>"
      ]
     },
     "metadata": {},
     "output_type": "display_data"
    }
   ],
   "source": [
    "#These cells are for processing \"3d_fluid*.dat\"-type files. These are creating using the \"converter.exe\" file found\n",
    "#in SWMF/PC/FLEKS/bin/converter.exe. Run \"./converter.exe -h\" to see functionality.\n",
    "\n",
    "# import modules\n",
    "from os import listdir\n",
    "from os.path import isfile, join\n",
    "import re\n",
    "import tecplot as tp\n",
    "import numpy as np\n",
    "import matplotlib.pyplot as plt\n",
    "import matplotlib.tri as tri\n",
    "from matplotlib.colors import LogNorm\n",
    "from tecplot.exception import *\n",
    "from tecplot.constant import *\n",
    "import matplotlib.animation as animation\n",
    "import glob\n",
    "from PIL import Image\n",
    "from natsort import natsorted\n",
    "import matplotlib as mpl\n",
    "\n",
    "# Define constants\n",
    "amu = 1.67e-27\n",
    "k_b = 1.38e-23\n",
    "mu_0 = 1.257e-6\n",
    "R_M = 2440e3 #m\n",
    "\n",
    "# Define function to read in data\n",
    "def read_dataset(mypath):\n",
    "    # Reads in file \"mypath\" and returns a dataset object. May take a while for larger files.\n",
    "\n",
    "    # First connect to TecPlot\n",
    "    tp.session.connect()\n",
    "\n",
    "    # Configure layout\n",
    "    tp.new_layout()\n",
    "    dataset = tp.data.load_tecplot(filename)\n",
    "    frame = tp.active_frame()\n",
    "    frame.plot_type = PlotType.Cartesian3D\n",
    "\n",
    "    # Return dataset\n",
    "    return dataset\n",
    "    \n",
    "# Define data extraction function\n",
    "def extract_values(dataset,var_ls=[\"rhoS1\"],origin=[0,0,0],normal=[0,1,0]):\n",
    "    # Uses \"dataset\" opened by \"read_dataset\" function\n",
    "    # Slices along plane defined by \"origin\" and \"normal\"\n",
    "    # Returns a dictionary of 1d for each var in var_ls (in addition to X,Y,Z which are included by default)\n",
    "\n",
    "    # Extract the slice\n",
    "    extracted_slice = tp.data.extract.extract_slice(origin=origin,normal=normal,source=SliceSource.VolumeZones,dataset=dataset)\n",
    "        \n",
    "    # Pull the X,Y,Z coordinates and save to output dictionary\n",
    "    out_dict={'X':extracted_slice.values('X').as_numpy_array(),\n",
    "              'Y':extracted_slice.values('Y').as_numpy_array(),\n",
    "              'Z':extracted_slice.values('Z').as_numpy_array()}\n",
    "\n",
    "    # Pull the other variables and save to output dictionary\n",
    "    for var in var_ls:\n",
    "        out_dict[var] = extracted_slice.values(var).as_numpy_array() \n",
    "\n",
    "    # Return output\n",
    "    return out_dict\n",
    "\n",
    "def cast_to_grid(dict):\n",
    "    # \"extract values\" returns 1d lists which do not fill a rectangular grid, due to data loss at the planet.\n",
    "    # This function the \"out_dict\" from \"extract values\" and returns a new dictionary of 2d meshgrids for all the variables.\n",
    "    # This out_dict must include x,y,z (which it does, by default) and any number of additional parameters\n",
    "    # Will only work if the plane has some x component (i.e. it cannot be the y/z plane)\n",
    "\n",
    "    # Create coordinate meshgrids; these will be weird if the plane is exactly xy or xz\n",
    "    # First, relabel the coords for convenience\n",
    "    x = dict['X']\n",
    "    y = dict['Y']\n",
    "    z = dict['Z']\n",
    "    # Find the step size\n",
    "    #dx = (np.max(x)-np.min(x))/len(np.unique(x))\n",
    "    #dy = (np.max(y)-np.min(y))/len(np.unique(y))\n",
    "    #dz = (np.max(z)-np.min(z))/len(np.unique(z))\n",
    "    # Create maximal axes\n",
    "    x_axis = np.unique(x)\n",
    "    y_axis = np.unique(y)\n",
    "    z_axis = np.unique(z)\n",
    "    # Create the meshes; these could not be the same shape if one plane is xy or xz\n",
    "    xy,yy = np.meshgrid(x_axis,y_axis)\n",
    "    xz,zz = np.meshgrid(x_axis,z_axis)\n",
    "    # Correct the meshes in that case, such that they are all the maximal size:\n",
    "    flag='none'\n",
    "    if xy.shape[0]==1:\n",
    "        xx = xz\n",
    "        yy = np.tile(yy[0,:], (zz.shape[0], 1))\n",
    "        flag='xz'\n",
    "    elif xz.shape[0]==1:\n",
    "        xx = xy\n",
    "        zz = np.tile(zz[0,:], (yy.shape[0], 1))\n",
    "        flag='xy'\n",
    "    else:\n",
    "        xx = xy\n",
    "\n",
    "    # Create parameter meshgrids and save to output dictionary, one for each element of input dictionary\n",
    "    # Define output dict\n",
    "    out_dict = {'XX':xx,'YY':yy,'ZZ':zz}\n",
    "    # Iterate through each parameter\n",
    "    for key in dict: \n",
    "        if ((key!='X') and (key!='Y') and (key!='Z')):\n",
    "            print(\"Casting param:\",key)\n",
    "            grid = np.zeros_like(xx)\n",
    "            # Step through each element, and cast onto the 2d meshgrid\n",
    "            for n in range(len(dict[key])):\n",
    "                # Identify the ij index that corresponds to this coordinate\n",
    "                tol=1e-7\n",
    "                j = np.where(np.isclose(xx, x[n], tol))[1]\n",
    "                if flag=='xz':\n",
    "                    i = np.where(np.isclose(zz, z[n], tol))[0][0]\n",
    "                else:\n",
    "                    i = np.where(np.isclose(yy, y[n], tol))[0][0]\n",
    "                grid[i,j] = dict[key][n]\n",
    "            out_dict[key]=grid\n",
    "    \n",
    "    return out_dict\n",
    "\n",
    "    \n",
    "    \n",
    "# show test use and example plots\n",
    "filename = '/Users/atcushen/Documents/MercuryModelling/runs/nightside_v1_run4/ta-2_rerun/3d_fluid_region0_2_t00000215_n00000000_amrex.dat'\n",
    "\n",
    "fig, axs = plt.subplots(nrows=2,ncols=1,figsize=(8,8))\n",
    "dataset = read_dataset(filename)\n",
    "my_data = extract_values(dataset,var_ls = ['pxxS1'],origin=[0,0.2,0],normal=[0,0,1])\n",
    "ls = np.arange(0,len(my_data['X']))\n",
    "\n",
    "axs[0].scatter(my_data['X'],my_data['Y'],c=np.log(my_data['pxxS1']))\n",
    "#axs.scatter(my_data['X'],my_data['Y'],c=ls)\n",
    "axs[0].set_aspect('equal', adjustable='box')\n",
    "\n",
    "my_grids = cast_to_grid(my_data)\n",
    "\n",
    "axs[1].imshow(my_grids[\"pxxS1\"],extent=[np.min(my_grids['XX']),np.max(my_grids['XX']),np.min(my_grids['YY']),np.max(my_grids['YY'])],\n",
    "              origin='lower',norm=LogNorm())#vmin=1, vmax=150)\n",
    "#axs[0].streamplot(xx,zz,my_data[\"Bx*\"],my_data[\"Bz*\"],color='white',linewidth=0.5,broken_streamlines=False,arrowsize=0.5)\n",
    "#axs[0].set_title(\"xz plane (Magnetic field lines)\")\n",
    "#axs[0].add_patch(plt.Circle((0, 0), 1, color='grey'))\n",
    "#axs[0].add_patch(plt.Circle((0, 0), 0.8, color='black'))\n",
    "#axs[0].set_xlim(xlims)\n",
    "#axs[0].set_ylim(xlims)\n",
    "\n",
    "#clb=fig.colorbar(im,ax=axs[2])\n",
    "#clb.ax.set_title('$rho$ [amu/cc]',fontsize=12)\n"
   ]
  },
  {
   "cell_type": "code",
   "execution_count": 59,
   "id": "08235f30-2ef3-432e-9deb-63f5108c309d",
   "metadata": {},
   "outputs": [],
   "source": [
    "Bx = np.array(dc.evaluate_expression(\"Bx\").T)"
   ]
  },
  {
   "cell_type": "code",
   "execution_count": 61,
   "id": "57ee1085-1c91-4286-950a-d8dafd72f223",
   "metadata": {},
   "outputs": [
    {
     "data": {
      "text/plain": [
       "(256, 320)"
      ]
     },
     "execution_count": 61,
     "metadata": {},
     "output_type": "execute_result"
    }
   ],
   "source": [
    "Bx.shape"
   ]
  },
  {
   "cell_type": "code",
   "execution_count": null,
   "id": "54d624d5-4949-4a56-9e34-fbea625e4914",
   "metadata": {},
   "outputs": [],
   "source": []
  }
 ],
 "metadata": {
  "kernelspec": {
   "display_name": "Python 3 (ipykernel)",
   "language": "python",
   "name": "python3"
  },
  "language_info": {
   "codemirror_mode": {
    "name": "ipython",
    "version": 3
   },
   "file_extension": ".py",
   "mimetype": "text/x-python",
   "name": "python",
   "nbconvert_exporter": "python",
   "pygments_lexer": "ipython3",
   "version": "3.10.13"
  }
 },
 "nbformat": 4,
 "nbformat_minor": 5
}
