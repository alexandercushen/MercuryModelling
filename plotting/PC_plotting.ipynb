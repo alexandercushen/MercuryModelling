{
 "cells": [
  {
   "cell_type": "code",
   "execution_count": 112,
   "id": "abdb4289-c30c-4ffe-93da-5f6c4491c7a1",
   "metadata": {},
   "outputs": [],
   "source": [
    "%matplotlib inline\n",
    "import fleks,yt\n",
    "import matplotlib.pyplot as plt\n",
    "from matplotlib.colors import LogNorm\n",
    "from matplotlib.cm import ScalarMappable\n",
    "from scipy.optimize import curve_fit\n",
    "from scipy.interpolate import interp1d\n",
    "import numpy as np\n",
    "import os\n",
    "import re\n",
    "from utilities import get_ticks\n",
    "from matplotlib import cm, ticker\n",
    "from os import listdir\n",
    "from os.path import isfile, join\n",
    "import glob\n",
    "from PIL import Image\n",
    "from natsort import natsorted\n",
    "import matplotlib as mpl\n",
    "import matplotlib.pyplot as plt\n",
    "import matplotlib.animation as animation"
   ]
  },
  {
   "cell_type": "markdown",
   "id": "d412ac1d-b51b-4c47-bdea-149dfb15dea8",
   "metadata": {},
   "source": [
    "# Save frame slices for making movies"
   ]
  },
  {
   "cell_type": "code",
   "execution_count": 77,
   "id": "939eea7a-992b-4c5a-8ebf-79a0fe9f7ad9",
   "metadata": {},
   "outputs": [
    {
     "name": "stderr",
     "output_type": "stream",
     "text": [
      "yt : [INFO     ] 2024-06-19 11:24:43,121 Parameters: current_time              = 24.000750759910623\n",
      "yt : [INFO     ] 2024-06-19 11:24:43,122 Parameters: domain_dimensions         = [320 256 256]\n",
      "yt : [INFO     ] 2024-06-19 11:24:43,123 Parameters: domain_left_edge          = [-4. -2. -2.]\n",
      "yt : [INFO     ] 2024-06-19 11:24:43,124 Parameters: domain_right_edge         = [1. 2. 2.]\n"
     ]
    },
    {
     "name": "stdout",
     "output_type": "stream",
     "text": [
      "60 files recognized!\n",
      "/Users/atcushen/Documents/MercuryModelling/runs/nightside_v1_run3/ta-3/cut_particle_region0_0_t00000024_n00012425_amrex\n",
      "Plotting t 24.0\n"
     ]
    },
    {
     "name": "stderr",
     "output_type": "stream",
     "text": [
      "/var/folders/l9/dnt9qhfd1psfsmj9t5zfr0j00000gq/T/ipykernel_53908/2154951270.py:329: UserWarning: FigureCanvasAgg is non-interactive, and thus cannot be shown\n",
      "  fig.show()\n",
      "yt : [INFO     ] 2024-06-19 11:24:46,598 Parameters: current_time              = 24.200248161750515\n",
      "yt : [INFO     ] 2024-06-19 11:24:46,599 Parameters: domain_dimensions         = [320 256 256]\n",
      "yt : [INFO     ] 2024-06-19 11:24:46,600 Parameters: domain_left_edge          = [-4. -2. -2.]\n",
      "yt : [INFO     ] 2024-06-19 11:24:46,601 Parameters: domain_right_edge         = [1. 2. 2.]\n"
     ]
    },
    {
     "name": "stdout",
     "output_type": "stream",
     "text": [
      "/Users/atcushen/Documents/MercuryModelling/runs/nightside_v1_run3/ta-3/cut_particle_region0_0_t00000024_n00012522_amrex\n",
      "Plotting t 24.2\n"
     ]
    },
    {
     "name": "stderr",
     "output_type": "stream",
     "text": [
      "yt : [INFO     ] 2024-06-19 11:24:50,466 Parameters: current_time              = 24.401816575227215\n",
      "yt : [INFO     ] 2024-06-19 11:24:50,467 Parameters: domain_dimensions         = [320 256 256]\n",
      "yt : [INFO     ] 2024-06-19 11:24:50,468 Parameters: domain_left_edge          = [-4. -2. -2.]\n",
      "yt : [INFO     ] 2024-06-19 11:24:50,468 Parameters: domain_right_edge         = [1. 2. 2.]\n"
     ]
    },
    {
     "name": "stdout",
     "output_type": "stream",
     "text": [
      "/Users/atcushen/Documents/MercuryModelling/runs/nightside_v1_run3/ta-3/cut_particle_region0_0_t00000024_n00012620_amrex\n",
      "Plotting t 24.4\n"
     ]
    },
    {
     "name": "stderr",
     "output_type": "stream",
     "text": [
      "yt : [INFO     ] 2024-06-19 11:24:54,056 Parameters: current_time              = 24.600719200372804\n",
      "yt : [INFO     ] 2024-06-19 11:24:54,057 Parameters: domain_dimensions         = [320 256 256]\n",
      "yt : [INFO     ] 2024-06-19 11:24:54,058 Parameters: domain_left_edge          = [-4. -2. -2.]\n",
      "yt : [INFO     ] 2024-06-19 11:24:54,058 Parameters: domain_right_edge         = [1. 2. 2.]\n"
     ]
    },
    {
     "name": "stdout",
     "output_type": "stream",
     "text": [
      "/Users/atcushen/Documents/MercuryModelling/runs/nightside_v1_run3/ta-3/cut_particle_region0_0_t00000024_n00012725_amrex\n",
      "Plotting t 24.6\n"
     ]
    },
    {
     "name": "stderr",
     "output_type": "stream",
     "text": [
      "yt : [INFO     ] 2024-06-19 11:24:57,627 Parameters: current_time              = 24.800550083881898\n",
      "yt : [INFO     ] 2024-06-19 11:24:57,628 Parameters: domain_dimensions         = [320 256 256]\n",
      "yt : [INFO     ] 2024-06-19 11:24:57,628 Parameters: domain_left_edge          = [-4. -2. -2.]\n",
      "yt : [INFO     ] 2024-06-19 11:24:57,629 Parameters: domain_right_edge         = [1. 2. 2.]\n"
     ]
    },
    {
     "name": "stdout",
     "output_type": "stream",
     "text": [
      "/Users/atcushen/Documents/MercuryModelling/runs/nightside_v1_run3/ta-3/cut_particle_region0_0_t00000024_n00012830_amrex\n",
      "Plotting t 24.8\n"
     ]
    },
    {
     "name": "stderr",
     "output_type": "stream",
     "text": [
      "yt : [INFO     ] 2024-06-19 11:25:01,303 Parameters: current_time              = 25.000405652917145\n",
      "yt : [INFO     ] 2024-06-19 11:25:01,304 Parameters: domain_dimensions         = [320 256 256]\n",
      "yt : [INFO     ] 2024-06-19 11:25:01,304 Parameters: domain_left_edge          = [-4. -2. -2.]\n",
      "yt : [INFO     ] 2024-06-19 11:25:01,305 Parameters: domain_right_edge         = [1. 2. 2.]\n"
     ]
    },
    {
     "name": "stdout",
     "output_type": "stream",
     "text": [
      "/Users/atcushen/Documents/MercuryModelling/runs/nightside_v1_run3/ta-3/cut_particle_region0_0_t00000025_n00012932_amrex\n",
      "Plotting t 25.0\n"
     ]
    },
    {
     "name": "stderr",
     "output_type": "stream",
     "text": [
      "yt : [INFO     ] 2024-06-19 11:25:05,228 Parameters: current_time              = 25.201446911183258\n",
      "yt : [INFO     ] 2024-06-19 11:25:05,228 Parameters: domain_dimensions         = [320 256 256]\n",
      "yt : [INFO     ] 2024-06-19 11:25:05,229 Parameters: domain_left_edge          = [-4. -2. -2.]\n",
      "yt : [INFO     ] 2024-06-19 11:25:05,230 Parameters: domain_right_edge         = [1. 2. 2.]\n"
     ]
    },
    {
     "name": "stdout",
     "output_type": "stream",
     "text": [
      "/Users/atcushen/Documents/MercuryModelling/runs/nightside_v1_run3/ta-3/cut_particle_region0_0_t00000025_n00013035_amrex\n",
      "Plotting t 25.2\n"
     ]
    },
    {
     "name": "stderr",
     "output_type": "stream",
     "text": [
      "yt : [INFO     ] 2024-06-19 11:25:08,889 Parameters: current_time              = 25.400793748223922\n",
      "yt : [INFO     ] 2024-06-19 11:25:08,890 Parameters: domain_dimensions         = [320 256 256]\n",
      "yt : [INFO     ] 2024-06-19 11:25:08,890 Parameters: domain_left_edge          = [-4. -2. -2.]\n",
      "yt : [INFO     ] 2024-06-19 11:25:08,891 Parameters: domain_right_edge         = [1. 2. 2.]\n"
     ]
    },
    {
     "name": "stdout",
     "output_type": "stream",
     "text": [
      "/Users/atcushen/Documents/MercuryModelling/runs/nightside_v1_run3/ta-3/cut_particle_region0_0_t00000025_n00013134_amrex\n",
      "Plotting t 25.4\n"
     ]
    },
    {
     "name": "stderr",
     "output_type": "stream",
     "text": [
      "yt : [INFO     ] 2024-06-19 11:25:12,563 Parameters: current_time              = 25.600612118378713\n",
      "yt : [INFO     ] 2024-06-19 11:25:12,564 Parameters: domain_dimensions         = [320 256 256]\n",
      "yt : [INFO     ] 2024-06-19 11:25:12,564 Parameters: domain_left_edge          = [-4. -2. -2.]\n",
      "yt : [INFO     ] 2024-06-19 11:25:12,565 Parameters: domain_right_edge         = [1. 2. 2.]\n"
     ]
    },
    {
     "name": "stdout",
     "output_type": "stream",
     "text": [
      "/Users/atcushen/Documents/MercuryModelling/runs/nightside_v1_run3/ta-3/cut_particle_region0_0_t00000025_n00013236_amrex\n",
      "Plotting t 25.6\n"
     ]
    },
    {
     "name": "stderr",
     "output_type": "stream",
     "text": [
      "yt : [INFO     ] 2024-06-19 11:25:16,242 Parameters: current_time              = 25.800182186368946\n",
      "yt : [INFO     ] 2024-06-19 11:25:16,243 Parameters: domain_dimensions         = [320 256 256]\n",
      "yt : [INFO     ] 2024-06-19 11:25:16,244 Parameters: domain_left_edge          = [-4. -2. -2.]\n",
      "yt : [INFO     ] 2024-06-19 11:25:16,245 Parameters: domain_right_edge         = [1. 2. 2.]\n"
     ]
    },
    {
     "name": "stdout",
     "output_type": "stream",
     "text": [
      "/Users/atcushen/Documents/MercuryModelling/runs/nightside_v1_run3/ta-3/cut_particle_region0_0_t00000025_n00013341_amrex\n",
      "Plotting t 25.8\n"
     ]
    },
    {
     "name": "stderr",
     "output_type": "stream",
     "text": [
      "yt : [INFO     ] 2024-06-19 11:25:20,046 Parameters: current_time              = 26.0000990425917\n",
      "yt : [INFO     ] 2024-06-19 11:25:20,047 Parameters: domain_dimensions         = [320 256 256]\n",
      "yt : [INFO     ] 2024-06-19 11:25:20,047 Parameters: domain_left_edge          = [-4. -2. -2.]\n",
      "yt : [INFO     ] 2024-06-19 11:25:20,048 Parameters: domain_right_edge         = [1. 2. 2.]\n"
     ]
    },
    {
     "name": "stdout",
     "output_type": "stream",
     "text": [
      "/Users/atcushen/Documents/MercuryModelling/runs/nightside_v1_run3/ta-3/cut_particle_region0_0_t00000026_n00013451_amrex\n",
      "Plotting t 26.0\n"
     ]
    },
    {
     "name": "stderr",
     "output_type": "stream",
     "text": [
      "yt : [INFO     ] 2024-06-19 11:25:23,500 Parameters: current_time              = 26.20064253569416\n",
      "yt : [INFO     ] 2024-06-19 11:25:23,501 Parameters: domain_dimensions         = [320 256 256]\n",
      "yt : [INFO     ] 2024-06-19 11:25:23,502 Parameters: domain_left_edge          = [-4. -2. -2.]\n",
      "yt : [INFO     ] 2024-06-19 11:25:23,502 Parameters: domain_right_edge         = [1. 2. 2.]\n"
     ]
    },
    {
     "name": "stdout",
     "output_type": "stream",
     "text": [
      "/Users/atcushen/Documents/MercuryModelling/runs/nightside_v1_run3/ta-3/cut_particle_region0_0_t00000026_n00013557_amrex\n",
      "Plotting t 26.2\n"
     ]
    },
    {
     "name": "stderr",
     "output_type": "stream",
     "text": [
      "yt : [INFO     ] 2024-06-19 11:25:26,999 Parameters: current_time              = 26.401745647955075\n",
      "yt : [INFO     ] 2024-06-19 11:25:27,000 Parameters: domain_dimensions         = [320 256 256]\n",
      "yt : [INFO     ] 2024-06-19 11:25:27,001 Parameters: domain_left_edge          = [-4. -2. -2.]\n",
      "yt : [INFO     ] 2024-06-19 11:25:27,002 Parameters: domain_right_edge         = [1. 2. 2.]\n"
     ]
    },
    {
     "name": "stdout",
     "output_type": "stream",
     "text": [
      "/Users/atcushen/Documents/MercuryModelling/runs/nightside_v1_run3/ta-3/cut_particle_region0_0_t00000026_n00013663_amrex\n",
      "Plotting t 26.4\n"
     ]
    },
    {
     "name": "stderr",
     "output_type": "stream",
     "text": [
      "yt : [INFO     ] 2024-06-19 11:25:30,666 Parameters: current_time              = 26.601536996344475\n",
      "yt : [INFO     ] 2024-06-19 11:25:30,666 Parameters: domain_dimensions         = [320 256 256]\n",
      "yt : [INFO     ] 2024-06-19 11:25:30,667 Parameters: domain_left_edge          = [-4. -2. -2.]\n",
      "yt : [INFO     ] 2024-06-19 11:25:30,668 Parameters: domain_right_edge         = [1. 2. 2.]\n"
     ]
    },
    {
     "name": "stdout",
     "output_type": "stream",
     "text": [
      "/Users/atcushen/Documents/MercuryModelling/runs/nightside_v1_run3/ta-3/cut_particle_region0_0_t00000026_n00013773_amrex\n",
      "Plotting t 26.6\n"
     ]
    },
    {
     "name": "stderr",
     "output_type": "stream",
     "text": [
      "yt : [INFO     ] 2024-06-19 11:25:34,315 Parameters: current_time              = 26.800931641264572\n",
      "yt : [INFO     ] 2024-06-19 11:25:34,316 Parameters: domain_dimensions         = [320 256 256]\n",
      "yt : [INFO     ] 2024-06-19 11:25:34,316 Parameters: domain_left_edge          = [-4. -2. -2.]\n",
      "yt : [INFO     ] 2024-06-19 11:25:34,317 Parameters: domain_right_edge         = [1. 2. 2.]\n"
     ]
    },
    {
     "name": "stdout",
     "output_type": "stream",
     "text": [
      "/Users/atcushen/Documents/MercuryModelling/runs/nightside_v1_run3/ta-3/cut_particle_region0_0_t00000026_n00013878_amrex\n",
      "Plotting t 26.8\n"
     ]
    },
    {
     "name": "stderr",
     "output_type": "stream",
     "text": [
      "yt : [INFO     ] 2024-06-19 11:25:38,067 Parameters: current_time              = 27.001851867935244\n",
      "yt : [INFO     ] 2024-06-19 11:25:38,068 Parameters: domain_dimensions         = [320 256 256]\n",
      "yt : [INFO     ] 2024-06-19 11:25:38,069 Parameters: domain_left_edge          = [-4. -2. -2.]\n",
      "yt : [INFO     ] 2024-06-19 11:25:38,070 Parameters: domain_right_edge         = [1. 2. 2.]\n"
     ]
    },
    {
     "name": "stdout",
     "output_type": "stream",
     "text": [
      "/Users/atcushen/Documents/MercuryModelling/runs/nightside_v1_run3/ta-3/cut_particle_region0_0_t00000027_n00013986_amrex\n",
      "Plotting t 27.0\n"
     ]
    },
    {
     "name": "stderr",
     "output_type": "stream",
     "text": [
      "yt : [INFO     ] 2024-06-19 11:25:41,730 Parameters: current_time              = 27.201229088904807\n",
      "yt : [INFO     ] 2024-06-19 11:25:41,731 Parameters: domain_dimensions         = [320 256 256]\n",
      "yt : [INFO     ] 2024-06-19 11:25:41,731 Parameters: domain_left_edge          = [-4. -2. -2.]\n",
      "yt : [INFO     ] 2024-06-19 11:25:41,732 Parameters: domain_right_edge         = [1. 2. 2.]\n"
     ]
    },
    {
     "name": "stdout",
     "output_type": "stream",
     "text": [
      "/Users/atcushen/Documents/MercuryModelling/runs/nightside_v1_run3/ta-3/cut_particle_region0_0_t00000027_n00014093_amrex\n",
      "Plotting t 27.2\n"
     ]
    },
    {
     "name": "stderr",
     "output_type": "stream",
     "text": [
      "yt : [INFO     ] 2024-06-19 11:25:45,344 Parameters: current_time              = 27.400134561488382\n",
      "yt : [INFO     ] 2024-06-19 11:25:45,345 Parameters: domain_dimensions         = [320 256 256]\n",
      "yt : [INFO     ] 2024-06-19 11:25:45,345 Parameters: domain_left_edge          = [-4. -2. -2.]\n",
      "yt : [INFO     ] 2024-06-19 11:25:45,346 Parameters: domain_right_edge         = [1. 2. 2.]\n"
     ]
    },
    {
     "name": "stdout",
     "output_type": "stream",
     "text": [
      "/Users/atcushen/Documents/MercuryModelling/runs/nightside_v1_run3/ta-3/cut_particle_region0_0_t00000027_n00014203_amrex\n",
      "Plotting t 27.4\n"
     ]
    },
    {
     "name": "stderr",
     "output_type": "stream",
     "text": [
      "yt : [INFO     ] 2024-06-19 11:25:48,804 Parameters: current_time              = 27.60052457971833\n",
      "yt : [INFO     ] 2024-06-19 11:25:48,805 Parameters: domain_dimensions         = [320 256 256]\n",
      "yt : [INFO     ] 2024-06-19 11:25:48,806 Parameters: domain_left_edge          = [-4. -2. -2.]\n",
      "yt : [INFO     ] 2024-06-19 11:25:48,806 Parameters: domain_right_edge         = [1. 2. 2.]\n"
     ]
    },
    {
     "name": "stdout",
     "output_type": "stream",
     "text": [
      "/Users/atcushen/Documents/MercuryModelling/runs/nightside_v1_run3/ta-3/cut_particle_region0_0_t00000027_n00014314_amrex\n",
      "Plotting t 27.6\n"
     ]
    },
    {
     "name": "stderr",
     "output_type": "stream",
     "text": [
      "yt : [INFO     ] 2024-06-19 11:25:52,210 Parameters: current_time              = 27.80114565688377\n",
      "yt : [INFO     ] 2024-06-19 11:25:52,211 Parameters: domain_dimensions         = [320 256 256]\n",
      "yt : [INFO     ] 2024-06-19 11:25:52,212 Parameters: domain_left_edge          = [-4. -2. -2.]\n",
      "yt : [INFO     ] 2024-06-19 11:25:52,212 Parameters: domain_right_edge         = [1. 2. 2.]\n"
     ]
    },
    {
     "name": "stdout",
     "output_type": "stream",
     "text": [
      "/Users/atcushen/Documents/MercuryModelling/runs/nightside_v1_run3/ta-3/cut_particle_region0_0_t00000027_n00014428_amrex\n",
      "Plotting t 27.8\n"
     ]
    },
    {
     "name": "stderr",
     "output_type": "stream",
     "text": [
      "yt : [INFO     ] 2024-06-19 11:25:55,872 Parameters: current_time              = 28.000132351650407\n",
      "yt : [INFO     ] 2024-06-19 11:25:55,873 Parameters: domain_dimensions         = [320 256 256]\n",
      "yt : [INFO     ] 2024-06-19 11:25:55,874 Parameters: domain_left_edge          = [-4. -2. -2.]\n",
      "yt : [INFO     ] 2024-06-19 11:25:55,874 Parameters: domain_right_edge         = [1. 2. 2.]\n"
     ]
    },
    {
     "name": "stdout",
     "output_type": "stream",
     "text": [
      "/Users/atcushen/Documents/MercuryModelling/runs/nightside_v1_run3/ta-3/cut_particle_region0_0_t00000028_n00014537_amrex\n",
      "Plotting t 28.0\n"
     ]
    },
    {
     "name": "stderr",
     "output_type": "stream",
     "text": [
      "yt : [INFO     ] 2024-06-19 11:25:59,295 Parameters: current_time              = 28.201584486905045\n",
      "yt : [INFO     ] 2024-06-19 11:25:59,296 Parameters: domain_dimensions         = [320 256 256]\n",
      "yt : [INFO     ] 2024-06-19 11:25:59,297 Parameters: domain_left_edge          = [-4. -2. -2.]\n",
      "yt : [INFO     ] 2024-06-19 11:25:59,298 Parameters: domain_right_edge         = [1. 2. 2.]\n"
     ]
    },
    {
     "name": "stdout",
     "output_type": "stream",
     "text": [
      "/Users/atcushen/Documents/MercuryModelling/runs/nightside_v1_run3/ta-3/cut_particle_region0_0_t00000028_n00014644_amrex\n",
      "Plotting t 28.2\n"
     ]
    },
    {
     "name": "stderr",
     "output_type": "stream",
     "text": [
      "yt : [INFO     ] 2024-06-19 11:26:02,648 Parameters: current_time              = 28.400933340928837\n",
      "yt : [INFO     ] 2024-06-19 11:26:02,649 Parameters: domain_dimensions         = [320 256 256]\n",
      "yt : [INFO     ] 2024-06-19 11:26:02,650 Parameters: domain_left_edge          = [-4. -2. -2.]\n",
      "yt : [INFO     ] 2024-06-19 11:26:02,650 Parameters: domain_right_edge         = [1. 2. 2.]\n"
     ]
    },
    {
     "name": "stdout",
     "output_type": "stream",
     "text": [
      "/Users/atcushen/Documents/MercuryModelling/runs/nightside_v1_run3/ta-3/cut_particle_region0_0_t00000028_n00014752_amrex\n",
      "Plotting t 28.4\n"
     ]
    },
    {
     "name": "stderr",
     "output_type": "stream",
     "text": [
      "yt : [INFO     ] 2024-06-19 11:26:06,000 Parameters: current_time              = 28.600662160227436\n",
      "yt : [INFO     ] 2024-06-19 11:26:06,001 Parameters: domain_dimensions         = [320 256 256]\n",
      "yt : [INFO     ] 2024-06-19 11:26:06,002 Parameters: domain_left_edge          = [-4. -2. -2.]\n",
      "yt : [INFO     ] 2024-06-19 11:26:06,003 Parameters: domain_right_edge         = [1. 2. 2.]\n"
     ]
    },
    {
     "name": "stdout",
     "output_type": "stream",
     "text": [
      "/Users/atcushen/Documents/MercuryModelling/runs/nightside_v1_run3/ta-3/cut_particle_region0_0_t00000028_n00014859_amrex\n",
      "Plotting t 28.6\n"
     ]
    },
    {
     "name": "stderr",
     "output_type": "stream",
     "text": [
      "yt : [INFO     ] 2024-06-19 11:26:09,345 Parameters: current_time              = 28.801701770434263\n",
      "yt : [INFO     ] 2024-06-19 11:26:09,345 Parameters: domain_dimensions         = [320 256 256]\n",
      "yt : [INFO     ] 2024-06-19 11:26:09,346 Parameters: domain_left_edge          = [-4. -2. -2.]\n",
      "yt : [INFO     ] 2024-06-19 11:26:09,347 Parameters: domain_right_edge         = [1. 2. 2.]\n"
     ]
    },
    {
     "name": "stdout",
     "output_type": "stream",
     "text": [
      "/Users/atcushen/Documents/MercuryModelling/runs/nightside_v1_run3/ta-3/cut_particle_region0_0_t00000028_n00014971_amrex\n",
      "Plotting t 28.8\n"
     ]
    },
    {
     "name": "stderr",
     "output_type": "stream",
     "text": [
      "yt : [INFO     ] 2024-06-19 11:26:12,774 Parameters: current_time              = 29.000102871361488\n",
      "yt : [INFO     ] 2024-06-19 11:26:12,774 Parameters: domain_dimensions         = [320 256 256]\n",
      "yt : [INFO     ] 2024-06-19 11:26:12,775 Parameters: domain_left_edge          = [-4. -2. -2.]\n",
      "yt : [INFO     ] 2024-06-19 11:26:12,776 Parameters: domain_right_edge         = [1. 2. 2.]\n"
     ]
    },
    {
     "name": "stdout",
     "output_type": "stream",
     "text": [
      "/Users/atcushen/Documents/MercuryModelling/runs/nightside_v1_run3/ta-3/cut_particle_region0_0_t00000029_n00015082_amrex\n",
      "Plotting t 29.0\n"
     ]
    },
    {
     "name": "stderr",
     "output_type": "stream",
     "text": [
      "yt : [INFO     ] 2024-06-19 11:26:16,075 Parameters: current_time              = 29.201069039162597\n",
      "yt : [INFO     ] 2024-06-19 11:26:16,075 Parameters: domain_dimensions         = [320 256 256]\n",
      "yt : [INFO     ] 2024-06-19 11:26:16,076 Parameters: domain_left_edge          = [-4. -2. -2.]\n",
      "yt : [INFO     ] 2024-06-19 11:26:16,077 Parameters: domain_right_edge         = [1. 2. 2.]\n"
     ]
    },
    {
     "name": "stdout",
     "output_type": "stream",
     "text": [
      "/Users/atcushen/Documents/MercuryModelling/runs/nightside_v1_run3/ta-3/cut_particle_region0_0_t00000029_n00015202_amrex\n",
      "Plotting t 29.2\n"
     ]
    },
    {
     "name": "stderr",
     "output_type": "stream",
     "text": [
      "yt : [INFO     ] 2024-06-19 11:26:19,360 Parameters: current_time              = 29.40148779614541\n",
      "yt : [INFO     ] 2024-06-19 11:26:19,361 Parameters: domain_dimensions         = [320 256 256]\n",
      "yt : [INFO     ] 2024-06-19 11:26:19,362 Parameters: domain_left_edge          = [-4. -2. -2.]\n",
      "yt : [INFO     ] 2024-06-19 11:26:19,363 Parameters: domain_right_edge         = [1. 2. 2.]\n"
     ]
    },
    {
     "name": "stdout",
     "output_type": "stream",
     "text": [
      "/Users/atcushen/Documents/MercuryModelling/runs/nightside_v1_run3/ta-3/cut_particle_region0_0_t00000029_n00015327_amrex\n",
      "Plotting t 29.4\n"
     ]
    },
    {
     "name": "stderr",
     "output_type": "stream",
     "text": [
      "yt : [INFO     ] 2024-06-19 11:26:22,558 Parameters: current_time              = 29.600946907764662\n",
      "yt : [INFO     ] 2024-06-19 11:26:22,559 Parameters: domain_dimensions         = [320 256 256]\n",
      "yt : [INFO     ] 2024-06-19 11:26:22,559 Parameters: domain_left_edge          = [-4. -2. -2.]\n",
      "yt : [INFO     ] 2024-06-19 11:26:22,560 Parameters: domain_right_edge         = [1. 2. 2.]\n"
     ]
    },
    {
     "name": "stdout",
     "output_type": "stream",
     "text": [
      "/Users/atcushen/Documents/MercuryModelling/runs/nightside_v1_run3/ta-3/cut_particle_region0_0_t00000029_n00015450_amrex\n",
      "Plotting t 29.6\n"
     ]
    },
    {
     "name": "stderr",
     "output_type": "stream",
     "text": [
      "yt : [INFO     ] 2024-06-19 11:26:25,825 Parameters: current_time              = 29.80095247398972\n",
      "yt : [INFO     ] 2024-06-19 11:26:25,825 Parameters: domain_dimensions         = [320 256 256]\n",
      "yt : [INFO     ] 2024-06-19 11:26:25,826 Parameters: domain_left_edge          = [-4. -2. -2.]\n",
      "yt : [INFO     ] 2024-06-19 11:26:25,827 Parameters: domain_right_edge         = [1. 2. 2.]\n"
     ]
    },
    {
     "name": "stdout",
     "output_type": "stream",
     "text": [
      "/Users/atcushen/Documents/MercuryModelling/runs/nightside_v1_run3/ta-3/cut_particle_region0_0_t00000029_n00015569_amrex\n",
      "Plotting t 29.8\n"
     ]
    },
    {
     "name": "stderr",
     "output_type": "stream",
     "text": [
      "yt : [INFO     ] 2024-06-19 11:26:29,282 Parameters: current_time              = 30.000771595867985\n",
      "yt : [INFO     ] 2024-06-19 11:26:29,283 Parameters: domain_dimensions         = [320 256 256]\n",
      "yt : [INFO     ] 2024-06-19 11:26:29,284 Parameters: domain_left_edge          = [-4. -2. -2.]\n",
      "yt : [INFO     ] 2024-06-19 11:26:29,284 Parameters: domain_right_edge         = [1. 2. 2.]\n"
     ]
    },
    {
     "name": "stdout",
     "output_type": "stream",
     "text": [
      "/Users/atcushen/Documents/MercuryModelling/runs/nightside_v1_run3/ta-3/cut_particle_region0_0_t00000030_n00015684_amrex\n",
      "Plotting t 30.0\n"
     ]
    },
    {
     "name": "stderr",
     "output_type": "stream",
     "text": [
      "yt : [INFO     ] 2024-06-19 11:26:32,409 Parameters: current_time              = 30.201009016391144\n",
      "yt : [INFO     ] 2024-06-19 11:26:32,410 Parameters: domain_dimensions         = [320 256 256]\n",
      "yt : [INFO     ] 2024-06-19 11:26:32,410 Parameters: domain_left_edge          = [-4. -2. -2.]\n",
      "yt : [INFO     ] 2024-06-19 11:26:32,411 Parameters: domain_right_edge         = [1. 2. 2.]\n"
     ]
    },
    {
     "name": "stdout",
     "output_type": "stream",
     "text": [
      "/Users/atcushen/Documents/MercuryModelling/runs/nightside_v1_run3/ta-3/cut_particle_region0_0_t00000030_n00015797_amrex\n",
      "Plotting t 30.2\n"
     ]
    },
    {
     "name": "stderr",
     "output_type": "stream",
     "text": [
      "yt : [INFO     ] 2024-06-19 11:26:35,740 Parameters: current_time              = 30.400114488146173\n",
      "yt : [INFO     ] 2024-06-19 11:26:35,740 Parameters: domain_dimensions         = [320 256 256]\n",
      "yt : [INFO     ] 2024-06-19 11:26:35,741 Parameters: domain_left_edge          = [-4. -2. -2.]\n",
      "yt : [INFO     ] 2024-06-19 11:26:35,741 Parameters: domain_right_edge         = [1. 2. 2.]\n"
     ]
    },
    {
     "name": "stdout",
     "output_type": "stream",
     "text": [
      "/Users/atcushen/Documents/MercuryModelling/runs/nightside_v1_run3/ta-3/cut_particle_region0_0_t00000030_n00015911_amrex\n",
      "Plotting t 30.4\n"
     ]
    },
    {
     "name": "stderr",
     "output_type": "stream",
     "text": [
      "yt : [INFO     ] 2024-06-19 11:26:38,943 Parameters: current_time              = 30.60092483919582\n",
      "yt : [INFO     ] 2024-06-19 11:26:38,944 Parameters: domain_dimensions         = [320 256 256]\n",
      "yt : [INFO     ] 2024-06-19 11:26:38,944 Parameters: domain_left_edge          = [-4. -2. -2.]\n",
      "yt : [INFO     ] 2024-06-19 11:26:38,945 Parameters: domain_right_edge         = [1. 2. 2.]\n"
     ]
    },
    {
     "name": "stdout",
     "output_type": "stream",
     "text": [
      "/Users/atcushen/Documents/MercuryModelling/runs/nightside_v1_run3/ta-3/cut_particle_region0_0_t00000030_n00016023_amrex\n",
      "Plotting t 30.6\n"
     ]
    },
    {
     "name": "stderr",
     "output_type": "stream",
     "text": [
      "yt : [INFO     ] 2024-06-19 11:26:41,967 Parameters: current_time              = 30.800572710509318\n",
      "yt : [INFO     ] 2024-06-19 11:26:41,968 Parameters: domain_dimensions         = [320 256 256]\n",
      "yt : [INFO     ] 2024-06-19 11:26:41,969 Parameters: domain_left_edge          = [-4. -2. -2.]\n",
      "yt : [INFO     ] 2024-06-19 11:26:41,970 Parameters: domain_right_edge         = [1. 2. 2.]\n"
     ]
    },
    {
     "name": "stdout",
     "output_type": "stream",
     "text": [
      "/Users/atcushen/Documents/MercuryModelling/runs/nightside_v1_run3/ta-3/cut_particle_region0_0_t00000030_n00016130_amrex\n",
      "Plotting t 30.8\n"
     ]
    },
    {
     "name": "stderr",
     "output_type": "stream",
     "text": [
      "yt : [INFO     ] 2024-06-19 11:26:45,060 Parameters: current_time              = 31.000922941084387\n",
      "yt : [INFO     ] 2024-06-19 11:26:45,061 Parameters: domain_dimensions         = [320 256 256]\n",
      "yt : [INFO     ] 2024-06-19 11:26:45,062 Parameters: domain_left_edge          = [-4. -2. -2.]\n",
      "yt : [INFO     ] 2024-06-19 11:26:45,063 Parameters: domain_right_edge         = [1. 2. 2.]\n"
     ]
    },
    {
     "name": "stdout",
     "output_type": "stream",
     "text": [
      "/Users/atcushen/Documents/MercuryModelling/runs/nightside_v1_run3/ta-3/cut_particle_region0_0_t00000031_n00016235_amrex\n",
      "Plotting t 31.0\n"
     ]
    },
    {
     "name": "stderr",
     "output_type": "stream",
     "text": [
      "yt : [INFO     ] 2024-06-19 11:26:48,372 Parameters: current_time              = 31.201024464841005\n",
      "yt : [INFO     ] 2024-06-19 11:26:48,372 Parameters: domain_dimensions         = [320 256 256]\n",
      "yt : [INFO     ] 2024-06-19 11:26:48,373 Parameters: domain_left_edge          = [-4. -2. -2.]\n",
      "yt : [INFO     ] 2024-06-19 11:26:48,374 Parameters: domain_right_edge         = [1. 2. 2.]\n"
     ]
    },
    {
     "name": "stdout",
     "output_type": "stream",
     "text": [
      "/Users/atcushen/Documents/MercuryModelling/runs/nightside_v1_run3/ta-3/cut_particle_region0_0_t00000031_n00016345_amrex\n",
      "Plotting t 31.2\n"
     ]
    },
    {
     "name": "stderr",
     "output_type": "stream",
     "text": [
      "yt : [INFO     ] 2024-06-19 11:26:51,372 Parameters: current_time              = 31.400437230431557\n",
      "yt : [INFO     ] 2024-06-19 11:26:51,373 Parameters: domain_dimensions         = [320 256 256]\n",
      "yt : [INFO     ] 2024-06-19 11:26:51,374 Parameters: domain_left_edge          = [-4. -2. -2.]\n",
      "yt : [INFO     ] 2024-06-19 11:26:51,374 Parameters: domain_right_edge         = [1. 2. 2.]\n"
     ]
    },
    {
     "name": "stdout",
     "output_type": "stream",
     "text": [
      "/Users/atcushen/Documents/MercuryModelling/runs/nightside_v1_run3/ta-3/cut_particle_region0_0_t00000031_n00016454_amrex\n",
      "Plotting t 31.4\n"
     ]
    },
    {
     "name": "stderr",
     "output_type": "stream",
     "text": [
      "yt : [INFO     ] 2024-06-19 11:26:54,343 Parameters: current_time              = 31.600863973475946\n",
      "yt : [INFO     ] 2024-06-19 11:26:54,344 Parameters: domain_dimensions         = [320 256 256]\n",
      "yt : [INFO     ] 2024-06-19 11:26:54,344 Parameters: domain_left_edge          = [-4. -2. -2.]\n",
      "yt : [INFO     ] 2024-06-19 11:26:54,345 Parameters: domain_right_edge         = [1. 2. 2.]\n"
     ]
    },
    {
     "name": "stdout",
     "output_type": "stream",
     "text": [
      "/Users/atcushen/Documents/MercuryModelling/runs/nightside_v1_run3/ta-3/cut_particle_region0_0_t00000031_n00016561_amrex\n",
      "Plotting t 31.6\n"
     ]
    },
    {
     "name": "stderr",
     "output_type": "stream",
     "text": [
      "yt : [INFO     ] 2024-06-19 11:26:57,295 Parameters: current_time              = 31.800940933457053\n",
      "yt : [INFO     ] 2024-06-19 11:26:57,296 Parameters: domain_dimensions         = [320 256 256]\n",
      "yt : [INFO     ] 2024-06-19 11:26:57,296 Parameters: domain_left_edge          = [-4. -2. -2.]\n",
      "yt : [INFO     ] 2024-06-19 11:26:57,297 Parameters: domain_right_edge         = [1. 2. 2.]\n"
     ]
    },
    {
     "name": "stdout",
     "output_type": "stream",
     "text": [
      "/Users/atcushen/Documents/MercuryModelling/runs/nightside_v1_run3/ta-3/cut_particle_region0_0_t00000031_n00016670_amrex\n",
      "Plotting t 31.8\n"
     ]
    },
    {
     "name": "stderr",
     "output_type": "stream",
     "text": [
      "yt : [INFO     ] 2024-06-19 11:27:00,378 Parameters: current_time              = 32.00045381002094\n",
      "yt : [INFO     ] 2024-06-19 11:27:00,379 Parameters: domain_dimensions         = [320 256 256]\n",
      "yt : [INFO     ] 2024-06-19 11:27:00,379 Parameters: domain_left_edge          = [-4. -2. -2.]\n",
      "yt : [INFO     ] 2024-06-19 11:27:00,380 Parameters: domain_right_edge         = [1. 2. 2.]\n"
     ]
    },
    {
     "name": "stdout",
     "output_type": "stream",
     "text": [
      "/Users/atcushen/Documents/MercuryModelling/runs/nightside_v1_run3/ta-3/cut_particle_region0_0_t00000032_n00016780_amrex\n",
      "Plotting t 32.0\n"
     ]
    },
    {
     "name": "stderr",
     "output_type": "stream",
     "text": [
      "yt : [INFO     ] 2024-06-19 11:27:03,253 Parameters: current_time              = 32.20154146579887\n",
      "yt : [INFO     ] 2024-06-19 11:27:03,253 Parameters: domain_dimensions         = [320 256 256]\n",
      "yt : [INFO     ] 2024-06-19 11:27:03,254 Parameters: domain_left_edge          = [-4. -2. -2.]\n",
      "yt : [INFO     ] 2024-06-19 11:27:03,255 Parameters: domain_right_edge         = [1. 2. 2.]\n"
     ]
    },
    {
     "name": "stdout",
     "output_type": "stream",
     "text": [
      "/Users/atcushen/Documents/MercuryModelling/runs/nightside_v1_run3/ta-3/cut_particle_region0_0_t00000032_n00016892_amrex\n",
      "Plotting t 32.2\n"
     ]
    },
    {
     "name": "stderr",
     "output_type": "stream",
     "text": [
      "yt : [INFO     ] 2024-06-19 11:27:06,635 Parameters: current_time              = 32.40106040495361\n",
      "yt : [INFO     ] 2024-06-19 11:27:06,636 Parameters: domain_dimensions         = [320 256 256]\n",
      "yt : [INFO     ] 2024-06-19 11:27:06,636 Parameters: domain_left_edge          = [-4. -2. -2.]\n",
      "yt : [INFO     ] 2024-06-19 11:27:06,637 Parameters: domain_right_edge         = [1. 2. 2.]\n"
     ]
    },
    {
     "name": "stdout",
     "output_type": "stream",
     "text": [
      "/Users/atcushen/Documents/MercuryModelling/runs/nightside_v1_run3/ta-3/cut_particle_region0_0_t00000032_n00017025_amrex\n",
      "Plotting t 32.4\n"
     ]
    },
    {
     "name": "stderr",
     "output_type": "stream",
     "text": [
      "yt : [INFO     ] 2024-06-19 11:27:09,637 Parameters: current_time              = 32.600894675213404\n",
      "yt : [INFO     ] 2024-06-19 11:27:09,638 Parameters: domain_dimensions         = [320 256 256]\n",
      "yt : [INFO     ] 2024-06-19 11:27:09,639 Parameters: domain_left_edge          = [-4. -2. -2.]\n",
      "yt : [INFO     ] 2024-06-19 11:27:09,639 Parameters: domain_right_edge         = [1. 2. 2.]\n"
     ]
    },
    {
     "name": "stdout",
     "output_type": "stream",
     "text": [
      "/Users/atcushen/Documents/MercuryModelling/runs/nightside_v1_run3/ta-3/cut_particle_region0_0_t00000032_n00017172_amrex\n",
      "Plotting t 32.6\n"
     ]
    },
    {
     "name": "stderr",
     "output_type": "stream",
     "text": [
      "yt : [INFO     ] 2024-06-19 11:27:12,716 Parameters: current_time              = 32.8004237172701\n",
      "yt : [INFO     ] 2024-06-19 11:27:12,717 Parameters: domain_dimensions         = [320 256 256]\n",
      "yt : [INFO     ] 2024-06-19 11:27:12,718 Parameters: domain_left_edge          = [-4. -2. -2.]\n",
      "yt : [INFO     ] 2024-06-19 11:27:12,719 Parameters: domain_right_edge         = [1. 2. 2.]\n"
     ]
    },
    {
     "name": "stdout",
     "output_type": "stream",
     "text": [
      "/Users/atcushen/Documents/MercuryModelling/runs/nightside_v1_run3/ta-3/cut_particle_region0_0_t00000032_n00017305_amrex\n",
      "Plotting t 32.8\n"
     ]
    },
    {
     "name": "stderr",
     "output_type": "stream",
     "text": [
      "yt : [INFO     ] 2024-06-19 11:27:15,981 Parameters: current_time              = 33.00116375570979\n",
      "yt : [INFO     ] 2024-06-19 11:27:15,981 Parameters: domain_dimensions         = [320 256 256]\n",
      "yt : [INFO     ] 2024-06-19 11:27:15,982 Parameters: domain_left_edge          = [-4. -2. -2.]\n",
      "yt : [INFO     ] 2024-06-19 11:27:15,983 Parameters: domain_right_edge         = [1. 2. 2.]\n"
     ]
    },
    {
     "name": "stdout",
     "output_type": "stream",
     "text": [
      "/Users/atcushen/Documents/MercuryModelling/runs/nightside_v1_run3/ta-3/cut_particle_region0_0_t00000033_n00017430_amrex\n",
      "Plotting t 33.0\n"
     ]
    },
    {
     "name": "stderr",
     "output_type": "stream",
     "text": [
      "yt : [INFO     ] 2024-06-19 11:27:19,229 Parameters: current_time              = 33.20162689580065\n",
      "yt : [INFO     ] 2024-06-19 11:27:19,230 Parameters: domain_dimensions         = [320 256 256]\n",
      "yt : [INFO     ] 2024-06-19 11:27:19,231 Parameters: domain_left_edge          = [-4. -2. -2.]\n",
      "yt : [INFO     ] 2024-06-19 11:27:19,232 Parameters: domain_right_edge         = [1. 2. 2.]\n"
     ]
    },
    {
     "name": "stdout",
     "output_type": "stream",
     "text": [
      "/Users/atcushen/Documents/MercuryModelling/runs/nightside_v1_run3/ta-3/cut_particle_region0_0_t00000033_n00017547_amrex\n",
      "Plotting t 33.2\n"
     ]
    },
    {
     "name": "stderr",
     "output_type": "stream",
     "text": [
      "yt : [INFO     ] 2024-06-19 11:27:22,402 Parameters: current_time              = 33.40141110067697\n",
      "yt : [INFO     ] 2024-06-19 11:27:22,402 Parameters: domain_dimensions         = [320 256 256]\n",
      "yt : [INFO     ] 2024-06-19 11:27:22,403 Parameters: domain_left_edge          = [-4. -2. -2.]\n",
      "yt : [INFO     ] 2024-06-19 11:27:22,404 Parameters: domain_right_edge         = [1. 2. 2.]\n"
     ]
    },
    {
     "name": "stdout",
     "output_type": "stream",
     "text": [
      "/Users/atcushen/Documents/MercuryModelling/runs/nightside_v1_run3/ta-3/cut_particle_region0_0_t00000033_n00017669_amrex\n",
      "Plotting t 33.4\n"
     ]
    },
    {
     "name": "stderr",
     "output_type": "stream",
     "text": [
      "yt : [INFO     ] 2024-06-19 11:27:25,642 Parameters: current_time              = 33.600937997114265\n",
      "yt : [INFO     ] 2024-06-19 11:27:25,643 Parameters: domain_dimensions         = [320 256 256]\n",
      "yt : [INFO     ] 2024-06-19 11:27:25,644 Parameters: domain_left_edge          = [-4. -2. -2.]\n",
      "yt : [INFO     ] 2024-06-19 11:27:25,644 Parameters: domain_right_edge         = [1. 2. 2.]\n"
     ]
    },
    {
     "name": "stdout",
     "output_type": "stream",
     "text": [
      "/Users/atcushen/Documents/MercuryModelling/runs/nightside_v1_run3/ta-3/cut_particle_region0_0_t00000033_n00017800_amrex\n",
      "Plotting t 33.6\n"
     ]
    },
    {
     "name": "stderr",
     "output_type": "stream",
     "text": [
      "yt : [INFO     ] 2024-06-19 11:27:29,428 Parameters: current_time              = 33.801459946445505\n",
      "yt : [INFO     ] 2024-06-19 11:27:29,429 Parameters: domain_dimensions         = [320 256 256]\n",
      "yt : [INFO     ] 2024-06-19 11:27:29,430 Parameters: domain_left_edge          = [-4. -2. -2.]\n",
      "yt : [INFO     ] 2024-06-19 11:27:29,430 Parameters: domain_right_edge         = [1. 2. 2.]\n"
     ]
    },
    {
     "name": "stdout",
     "output_type": "stream",
     "text": [
      "/Users/atcushen/Documents/MercuryModelling/runs/nightside_v1_run3/ta-3/cut_particle_region0_0_t00000033_n00017928_amrex\n",
      "Plotting t 33.8\n"
     ]
    },
    {
     "name": "stderr",
     "output_type": "stream",
     "text": [
      "yt : [INFO     ] 2024-06-19 11:27:33,170 Parameters: current_time              = 34.00063787319218\n",
      "yt : [INFO     ] 2024-06-19 11:27:33,171 Parameters: domain_dimensions         = [320 256 256]\n",
      "yt : [INFO     ] 2024-06-19 11:27:33,172 Parameters: domain_left_edge          = [-4. -2. -2.]\n",
      "yt : [INFO     ] 2024-06-19 11:27:33,173 Parameters: domain_right_edge         = [1. 2. 2.]\n"
     ]
    },
    {
     "name": "stdout",
     "output_type": "stream",
     "text": [
      "/Users/atcushen/Documents/MercuryModelling/runs/nightside_v1_run3/ta-3/cut_particle_region0_0_t00000034_n00018047_amrex\n",
      "Plotting t 34.0\n"
     ]
    },
    {
     "name": "stderr",
     "output_type": "stream",
     "text": [
      "yt : [INFO     ] 2024-06-19 11:27:37,230 Parameters: current_time              = 34.20062036895042\n",
      "yt : [INFO     ] 2024-06-19 11:27:37,231 Parameters: domain_dimensions         = [320 256 256]\n",
      "yt : [INFO     ] 2024-06-19 11:27:37,232 Parameters: domain_left_edge          = [-4. -2. -2.]\n",
      "yt : [INFO     ] 2024-06-19 11:27:37,233 Parameters: domain_right_edge         = [1. 2. 2.]\n"
     ]
    },
    {
     "name": "stdout",
     "output_type": "stream",
     "text": [
      "/Users/atcushen/Documents/MercuryModelling/runs/nightside_v1_run3/ta-3/cut_particle_region0_0_t00000034_n00018168_amrex\n",
      "Plotting t 34.2\n"
     ]
    },
    {
     "name": "stderr",
     "output_type": "stream",
     "text": [
      "yt : [INFO     ] 2024-06-19 11:27:41,208 Parameters: current_time              = 34.40122049673846\n",
      "yt : [INFO     ] 2024-06-19 11:27:41,209 Parameters: domain_dimensions         = [320 256 256]\n",
      "yt : [INFO     ] 2024-06-19 11:27:41,210 Parameters: domain_left_edge          = [-4. -2. -2.]\n",
      "yt : [INFO     ] 2024-06-19 11:27:41,211 Parameters: domain_right_edge         = [1. 2. 2.]\n"
     ]
    },
    {
     "name": "stdout",
     "output_type": "stream",
     "text": [
      "/Users/atcushen/Documents/MercuryModelling/runs/nightside_v1_run3/ta-3/cut_particle_region0_0_t00000034_n00018289_amrex\n",
      "Plotting t 34.4\n"
     ]
    },
    {
     "name": "stderr",
     "output_type": "stream",
     "text": [
      "yt : [INFO     ] 2024-06-19 11:27:45,146 Parameters: current_time              = 34.60118078064689\n",
      "yt : [INFO     ] 2024-06-19 11:27:45,147 Parameters: domain_dimensions         = [320 256 256]\n",
      "yt : [INFO     ] 2024-06-19 11:27:45,148 Parameters: domain_left_edge          = [-4. -2. -2.]\n",
      "yt : [INFO     ] 2024-06-19 11:27:45,150 Parameters: domain_right_edge         = [1. 2. 2.]\n"
     ]
    },
    {
     "name": "stdout",
     "output_type": "stream",
     "text": [
      "/Users/atcushen/Documents/MercuryModelling/runs/nightside_v1_run3/ta-3/cut_particle_region0_0_t00000034_n00018409_amrex\n",
      "Plotting t 34.6\n"
     ]
    },
    {
     "name": "stderr",
     "output_type": "stream",
     "text": [
      "yt : [INFO     ] 2024-06-19 11:27:49,064 Parameters: current_time              = 34.80053468618632\n",
      "yt : [INFO     ] 2024-06-19 11:27:49,065 Parameters: domain_dimensions         = [320 256 256]\n",
      "yt : [INFO     ] 2024-06-19 11:27:49,066 Parameters: domain_left_edge          = [-4. -2. -2.]\n",
      "yt : [INFO     ] 2024-06-19 11:27:49,067 Parameters: domain_right_edge         = [1. 2. 2.]\n"
     ]
    },
    {
     "name": "stdout",
     "output_type": "stream",
     "text": [
      "/Users/atcushen/Documents/MercuryModelling/runs/nightside_v1_run3/ta-3/cut_particle_region0_0_t00000034_n00018534_amrex\n",
      "Plotting t 34.8\n"
     ]
    },
    {
     "name": "stderr",
     "output_type": "stream",
     "text": [
      "yt : [INFO     ] 2024-06-19 11:27:52,830 Parameters: current_time              = 35.00070846321112\n",
      "yt : [INFO     ] 2024-06-19 11:27:52,832 Parameters: domain_dimensions         = [320 256 256]\n",
      "yt : [INFO     ] 2024-06-19 11:27:52,833 Parameters: domain_left_edge          = [-4. -2. -2.]\n",
      "yt : [INFO     ] 2024-06-19 11:27:52,834 Parameters: domain_right_edge         = [1. 2. 2.]\n"
     ]
    },
    {
     "name": "stdout",
     "output_type": "stream",
     "text": [
      "/Users/atcushen/Documents/MercuryModelling/runs/nightside_v1_run3/ta-3/cut_particle_region0_0_t00000035_n00018665_amrex\n",
      "Plotting t 35.0\n"
     ]
    },
    {
     "name": "stderr",
     "output_type": "stream",
     "text": [
      "yt : [INFO     ] 2024-06-19 11:27:56,769 Parameters: current_time              = 35.201692510453135\n",
      "yt : [INFO     ] 2024-06-19 11:27:56,770 Parameters: domain_dimensions         = [320 256 256]\n",
      "yt : [INFO     ] 2024-06-19 11:27:56,771 Parameters: domain_left_edge          = [-4. -2. -2.]\n",
      "yt : [INFO     ] 2024-06-19 11:27:56,772 Parameters: domain_right_edge         = [1. 2. 2.]\n"
     ]
    },
    {
     "name": "stdout",
     "output_type": "stream",
     "text": [
      "/Users/atcushen/Documents/MercuryModelling/runs/nightside_v1_run3/ta-3/cut_particle_region0_0_t00000035_n00018791_amrex\n",
      "Plotting t 35.2\n"
     ]
    },
    {
     "name": "stderr",
     "output_type": "stream",
     "text": [
      "yt : [INFO     ] 2024-06-19 11:28:01,056 Parameters: current_time              = 35.40074086558089\n",
      "yt : [INFO     ] 2024-06-19 11:28:01,057 Parameters: domain_dimensions         = [320 256 256]\n",
      "yt : [INFO     ] 2024-06-19 11:28:01,058 Parameters: domain_left_edge          = [-4. -2. -2.]\n",
      "yt : [INFO     ] 2024-06-19 11:28:01,059 Parameters: domain_right_edge         = [1. 2. 2.]\n"
     ]
    },
    {
     "name": "stdout",
     "output_type": "stream",
     "text": [
      "/Users/atcushen/Documents/MercuryModelling/runs/nightside_v1_run3/ta-3/cut_particle_region0_0_t00000035_n00018910_amrex\n",
      "Plotting t 35.4\n"
     ]
    },
    {
     "name": "stderr",
     "output_type": "stream",
     "text": [
      "yt : [INFO     ] 2024-06-19 11:28:04,906 Parameters: current_time              = 35.60028006019205\n",
      "yt : [INFO     ] 2024-06-19 11:28:04,907 Parameters: domain_dimensions         = [320 256 256]\n",
      "yt : [INFO     ] 2024-06-19 11:28:04,908 Parameters: domain_left_edge          = [-4. -2. -2.]\n",
      "yt : [INFO     ] 2024-06-19 11:28:04,909 Parameters: domain_right_edge         = [1. 2. 2.]\n"
     ]
    },
    {
     "name": "stdout",
     "output_type": "stream",
     "text": [
      "/Users/atcushen/Documents/MercuryModelling/runs/nightside_v1_run3/ta-3/cut_particle_region0_0_t00000035_n00019031_amrex\n",
      "Plotting t 35.6\n"
     ]
    },
    {
     "name": "stderr",
     "output_type": "stream",
     "text": [
      "yt : [INFO     ] 2024-06-19 11:28:08,771 Parameters: current_time              = 35.800642268700194\n",
      "yt : [INFO     ] 2024-06-19 11:28:08,773 Parameters: domain_dimensions         = [320 256 256]\n",
      "yt : [INFO     ] 2024-06-19 11:28:08,773 Parameters: domain_left_edge          = [-4. -2. -2.]\n",
      "yt : [INFO     ] 2024-06-19 11:28:08,774 Parameters: domain_right_edge         = [1. 2. 2.]\n"
     ]
    },
    {
     "name": "stdout",
     "output_type": "stream",
     "text": [
      "/Users/atcushen/Documents/MercuryModelling/runs/nightside_v1_run3/ta-3/cut_particle_region0_0_t00000035_n00019150_amrex\n",
      "Plotting t 35.8\n"
     ]
    }
   ],
   "source": [
    "#########################\n",
    "\n",
    "# High-level user input\n",
    "dir = \"/Users/atcushen/Documents/MercuryModelling/runs/nightside_v1_run3/ta-3/\"    # Directory with data \n",
    "start_time = 24                                                # What is the start time of the dataset?\n",
    "t_bound = [24,36]                                               # Start and stop times for the GIF\n",
    "dt = 0.2                                                     # What is the timestep between files?\n",
    "\n",
    "'''\n",
    "Choose plot type from existing presets;\n",
    "\n",
    "\"pic_E_y\":  flow vectors and duskward convective field\n",
    "Recommended settings: (xy)\n",
    "xlims=[-2.2,0.2]\n",
    "ylims=[-1.2,1.2]\n",
    "shape=[160,160]\n",
    "\n",
    "\"pic_dipolarization_zoom\": bz and field lines to show particular dipolarization event in detail\n",
    "Recommended settings: (xz)\n",
    "xlims=[-2.2,0.2]\n",
    "ylims=[-1.2,1.2]\n",
    "shape=[160,160] \n",
    "\n",
    "\"pic_currentsheet\": eletric field and Bz in current sheet\n",
    "Recommended settings: (xz)\n",
    "xlims=[-3.5,0.2]\n",
    "ylims=[-1.2,1.2]\n",
    "shape=[160,160] \n",
    "\n",
    "\"bz1\": perturbation magnetic field in near-planet current sheet (xy)\n",
    "xlims=[-2.4,-0.4]\n",
    "ylims=[-1,1]\n",
    "shape=[200,200] \n",
    "\n",
    "# \"pic_currentsheet2\": just bz in the current sheet (xy)\n",
    "# xlims=[-2.2,0.2]\n",
    "# ylims=[-1.2,1.2]\n",
    "# shape=[160,160] \n",
    "'''\n",
    "\n",
    "\n",
    "plot_preset = \"bz1\"\n",
    "slice = \"xy\"                                                   # Set plane of slice (\"xy\" or \"xz\") or \"sphere\" for particle psd\n",
    "data_type = \"cut\" # \"cut\" or \"fluid\"\n",
    "z_plane = 0.3\n",
    "\n",
    "# Grid settings / location of particle sphere\n",
    "xlims=[-2.4,-0.4]\n",
    "ylims=[-1,1]\n",
    "shape=[200,200] \n",
    "loc = [-1.0,0,0.2] # location of particle sphere\n",
    "a = 0.1 # radius of particle sphere\n",
    "\n",
    "#########################\n",
    "\n",
    "# First, get list of files in directory\n",
    "all_files = [os.path.join(dir, o) for o in os.listdir(dir) \n",
    "                    if os.path.isdir(os.path.join(dir,o))]\n",
    "\n",
    "# Then use regex to pick out only the files we want \n",
    "files=[]\n",
    "for file in all_files:\n",
    "    if data_type==\"fluid\":\n",
    "        match = re.search(str(dir+\"3d_fluid_region0_.*\"),file)\n",
    "        if match != None:\n",
    "            files.append(file)\n",
    "    elif data_type==\"cut\":\n",
    "        match = re.search(str(dir+\"cut_particle_region0.*\"),file)\n",
    "        if match != None:\n",
    "            files.append(file)\n",
    "files.sort()\n",
    "files = files\n",
    "print(str(len(files)),\"files recognized!\")\n",
    "\n",
    "# Make a dictionary with better names for the files:\n",
    "named_files = {}\n",
    "for i in range(len(files)):\n",
    "    time = round(i*dt+start_time,3)\n",
    "    named_files[time] = files[i]\n",
    "\n",
    "# Loop over each file, pull the data, make the plots, and save as .pngs in /frames\n",
    "for time in list(named_files.keys())[int((t_bound[0]-start_time)/dt):int((t_bound[1]-start_time)/dt)]: #only loop over the times within t_bound\n",
    "    filename = str(named_files[time])\n",
    "    print(filename)\n",
    "    ds = fleks.load(filename)\n",
    "    if slice==\"xy\":\n",
    "        dc = ds.get_slice(\"z\",z_plane)\n",
    "        #print(dc)\n",
    "    elif slice==\"xz\":\n",
    "        dc = ds.get_slice(\"y\",0.0)\n",
    "    elif slice==\"sphere\":\n",
    "        ds.add_field((\"particle\", \"unit_one\"), function=_unit_one, sampling_type='particle')\n",
    "    \n",
    "    # Plot!!\n",
    "\n",
    "    # Use preset\n",
    "    if plot_preset == \"pic_E_y\":\n",
    "        fig, ax = plt.subplots(figsize=(10,10))\n",
    "        inner = plt.Circle((0, 0), 0.8, color='black')\n",
    "        outer = plt.Circle((0, 0), 1, color='grey')\n",
    "        print(\"Plotting t\",time)\n",
    "        v = dc.evaluate_expression(\"Ey\")\n",
    "        ux = np.array(dc.evaluate_expression(\"uxS1\").T)\n",
    "        uy = np.array(dc.evaluate_expression(\"uyS1\").T)\n",
    "        vmin = v.min().v\n",
    "        vmax = v.max().v\n",
    "        nlevels = 200 \n",
    "        levels = np.linspace(-50, 50, nlevels)\n",
    "        cs = ax.contourf(dc.x.value, dc.y.value, np.array(v.T)/1e3, levels=levels, cmap='bwr')\n",
    "        ticks = get_ticks(-50, 50)\n",
    "        clb = fig.colorbar(cs, ax=ax,ticks=ticks)            \n",
    "        clb.ax.set_yticks(ticks)    \n",
    "        clb.ax.tick_params(labelsize=8)\n",
    "        clb.ax.set_title('$E_y$ [mV/m]',fontsize=12)\n",
    "        quiver_skip=10\n",
    "        ax.quiver(dc.x.value[::quiver_skip], dc.y.value[::quiver_skip],ux[::quiver_skip,::quiver_skip], uy[::quiver_skip,::quiver_skip],color=\"grey\")\n",
    "        ax.set_aspect(1) # you may also use am.imshow(..., aspect=\"auto\") to restore the aspect ratio\n",
    "        ax.set_xlabel(\"X [$R_M$]\")\n",
    "        ax.set_ylabel(\"Y [$R_M$]\")\n",
    "        ax.add_patch(outer)\n",
    "        ax.add_patch(inner)\n",
    "        ax.set_xlim(xlims)\n",
    "        ax.set_ylim(ylims)\n",
    "        ax.set_title(str(\"Convection field at t=\"+str(round(time,2))+\"s\"))\n",
    "        fig.show()\n",
    "\n",
    "    elif plot_preset == \"pic_dipolarization_zoom\":\n",
    "        fig, ax = plt.subplots(figsize=(10,10))\n",
    "        inner = plt.Circle((0, 0), 0.8, color='black')\n",
    "        outer = plt.Circle((0, 0), 1, color='grey')\n",
    "        print(\"Plotting t\",time)\n",
    "        Bx = dc.evaluate_expression(\"Bx\")\n",
    "        Bz = dc.evaluate_expression(\"Bz\")\n",
    "        vmin = -100\n",
    "        vmax = 100\n",
    "        nlevels = 200 \n",
    "        levels = np.linspace(vmin, vmax, nlevels)\n",
    "        cs = ax.contourf(dc.x.value, dc.y.value, np.array(Bz.T), levels=levels, cmap='bwr')\n",
    "\n",
    "        start_points = np.zeros([40,2])\n",
    "        start_points[:,0]=np.linspace(xlims[0],xlims[1],40)\n",
    "        start_points[:,1]=0.2\n",
    "        \n",
    "        ax.streamplot(dc.x.value,dc.y.value, np.array(Bx.T),np.array(Bz.T),color='grey',linewidth=0.5,broken_streamlines=False,arrowsize=0.5,\n",
    "                      start_points=start_points)\n",
    "        \n",
    "        ticks = get_ticks(vmin, vmax)\n",
    "        clb = fig.colorbar(cs, ax=ax,ticks=ticks)            \n",
    "        clb.ax.set_yticks(ticks)    \n",
    "        clb.ax.tick_params(labelsize=8)\n",
    "        clb.ax.set_title('$B_z$ [nT]',fontsize=12)\n",
    "        ax.set_aspect(1) # you may also use am.imshow(..., aspect=\"auto\") to restore the aspect ratio\n",
    "        ax.set_xlabel(\"X [$R_M$]\")\n",
    "        ax.set_ylabel(\"Z [$R_M$]\")\n",
    "        ax.add_patch(outer)\n",
    "        ax.add_patch(inner)\n",
    "        ax.set_xlim(xlims)\n",
    "        ax.set_ylim(ylims)\n",
    "        ax.set_title(str(\"$B_z$ at t=\"+str(round(time,2))+\"s\"))\n",
    "        fig.show()\n",
    "\n",
    "    elif plot_preset == \"pic_currentsheet\":\n",
    "        fig, ax = plt.subplots(ncols=2,figsize=(25,10))\n",
    "        inner = plt.Circle((0, 0), 0.8, color='black')\n",
    "        outer = plt.Circle((0, 0), 1, color='grey')\n",
    "\n",
    "        #plot v\n",
    "        v = np.sqrt(dc.evaluate_expression(\"uxS1\")**2 + dc.evaluate_expression(\"uyS1\")**2)\n",
    "        ux = np.array(dc.evaluate_expression(\"uxS1\").T)\n",
    "        uy = np.array(dc.evaluate_expression(\"uyS1\").T)\n",
    "        vmin = v.min().v\n",
    "        vmax = v.max().v\n",
    "        nlevels = 200 \n",
    "        levels = np.logspace(0, 3, nlevels)\n",
    "        cs = ax[0].contourf(dc.x.value, dc.y.value, np.array(v.T),levels=levels, cmap='rainbow',locator=ticker.LogLocator())\n",
    "        clb0 = fig.colorbar(cs, ax=ax[0])                   \n",
    "        clb0.ax.tick_params(labelsize=8)\n",
    "        clb0.ax.set_title('$V$ [R$_M$/s]',fontsize=12)\n",
    "        quiver_skip=10\n",
    "        ax[0].quiver(dc.x.value[::quiver_skip], dc.y.value[::quiver_skip],ux[::quiver_skip,::quiver_skip], uy[::quiver_skip,::quiver_skip],color=\"grey\")\n",
    "        ax[0].set_aspect(1) # you may also use am.imshow(..., aspect=\"auto\") to restore the aspect ratio\n",
    "        ax[0].set_xlabel(\"X [$R_M$]\")\n",
    "        ax[0].set_ylabel(\"Y [$R_M$]\")\n",
    "        ax[0].add_patch(outer)\n",
    "        ax[0].add_patch(inner)\n",
    "        ax[0].set_xlim(xlims)\n",
    "        ax[0].set_ylim(ylims)\n",
    "        ax[0].set_title(str(\"Convection field at t=\"+str(round(time,2))+\"s\"))\n",
    "\n",
    "        #plot B\n",
    "        inner = plt.Circle((0, 0), 0.8, color='black')\n",
    "        outer = plt.Circle((0, 0), 1, color='grey')\n",
    "        Bx = dc.evaluate_expression(\"Bx\")\n",
    "        Bz = dc.evaluate_expression(\"Bz\")\n",
    "        vmin = -100\n",
    "        vmax = 100\n",
    "        nlevels = 200 \n",
    "        levels = np.linspace(vmin, vmax, nlevels)\n",
    "        cs = ax[1].contourf(dc.x.value, dc.y.value, np.array(Bz.T), levels=levels, cmap='bwr')\n",
    "        \n",
    "        ticks = get_ticks(vmin, vmax)\n",
    "        clb1 = fig.colorbar(cs, ax=ax[1],ticks=ticks)            \n",
    "        clb1.ax.set_yticks(ticks)    \n",
    "        clb1.ax.tick_params(labelsize=8)\n",
    "        clb1.ax.set_title('$B_z$ [nT]',fontsize=12)\n",
    "        ax[1].set_aspect(1) # you may also use am.imshow(..., aspect=\"auto\") to restore the aspect ratio\n",
    "        ax[1].set_xlabel(\"X [$R_M$]\")\n",
    "        ax[1].set_ylabel(\"Y [$R_M$]\")\n",
    "        ax[1].add_patch(outer)\n",
    "        ax[1].add_patch(inner)\n",
    "        ax[1].set_xlim(xlims)\n",
    "        ax[1].set_ylim(ylims)\n",
    "        ax[1].set_title(str(\"$B_z$ at t=\"+str(round(time,2))+\"s\"))\n",
    "\n",
    "    elif plot_preset == \"particles_uxuy\":\n",
    "        # broken for many reasons, and the particle data is featureless anyway.\n",
    "        sp = ds.sphere(loc,a)\n",
    "        plot = ds.plot_phase_region(sp, 'p_ux', 'p_uz', z_field,\n",
    "                            unit_type=\"planet\", x_bins=64, y_bins=64,domain_size=(-2550, 2550, -2550, 2550))\n",
    "        #plot.set_colorbar_label(plot.fields[0], \"Ion count\")\n",
    "        for var_name in plot.profile.field_data: \n",
    "            val = plot.profile.field_data[var_name] \n",
    "    \n",
    "        x = plot.profile.x\n",
    "        y = plot.profile.y\n",
    "\n",
    "        fig, ax = plt.subplots(figsize=(10,10))\n",
    "        im = ax.contourf(x,y,val,20,vmin = 0,vmax=700)\n",
    "        im.set_clim(0,700)\n",
    "        clb=fig.colorbar(im)\n",
    "\n",
    "    elif plot_preset == \"pic_currentsheet2\":\n",
    "        fig, ax = plt.subplots(figsize=(10,10))\n",
    "        inner = plt.Circle((0, 0), 0.8, color='black')\n",
    "        outer = plt.Circle((0, 0), 1, color='grey')\n",
    "        print(\"Plotting t\",time)\n",
    "        Bz = dc.evaluate_expression(\"Bz\")\n",
    "        vmin = -100\n",
    "        vmax = 100\n",
    "        nlevels = 200 \n",
    "        levels = np.linspace(vmin, vmax, nlevels)\n",
    "        cs = ax.contourf(dc.x.value, dc.y.value, np.array(Bz.T), levels=levels, cmap='bwr')\n",
    "\n",
    "        # Add minor ticks for grid\n",
    "        x_major_ticks = np.arange(xlims[0], xlims[1], 0.2)\n",
    "        x_minor_ticks = np.arange(xlims[0], xlims[1], 0.05)\n",
    "        y_major_ticks = np.arange(ylims[0], ylims[1], 0.2)\n",
    "        y_minor_ticks = np.arange(ylims[0], ylims[1], 0.05)\n",
    "\n",
    "        ax.set_xticks(x_major_ticks)\n",
    "        ax.set_xticks(x_minor_ticks, minor=True)\n",
    "        ax.set_yticks(y_major_ticks)\n",
    "        ax.set_yticks(y_minor_ticks, minor=True)\n",
    "\n",
    "        ax.grid(which='both')\n",
    "        ax.grid(which='minor', alpha=0.2)\n",
    "        ax.grid(which='major', alpha=0.5)\n",
    "        \n",
    "        ticks = get_ticks(vmin, vmax)\n",
    "        clb = fig.colorbar(cs, ax=ax,ticks=ticks)            \n",
    "        clb.ax.set_yticks(ticks)    \n",
    "        clb.ax.tick_params(labelsize=8)\n",
    "        clb.ax.set_title('$B_z$ [nT]',fontsize=12)\n",
    "        ax.set_aspect(1) # you may also use am.imshow(..., aspect=\"auto\") to restore the aspect ratio\n",
    "        ax.set_xlabel(\"X [$R_M$]\")\n",
    "        ax.set_ylabel(\"Y [$R_M$]\")\n",
    "        ax.add_patch(outer)\n",
    "        ax.add_patch(inner)\n",
    "        ax.set_xlim(xlims)\n",
    "        ax.set_ylim(ylims)\n",
    "        ax.set_title(str(\"$B_z$ at t=\"+str(round(time,2))+\"s\"))\n",
    "        fig.show()\n",
    "\n",
    "    elif plot_preset == \"bz1\":\n",
    "        fig, ax = plt.subplots(figsize=(10,10))\n",
    "        inner = plt.Circle((0, 0), 0.8, color='black')\n",
    "        outer = plt.Circle((0, 0), 1, color='grey')\n",
    "        print(\"Plotting t\",time)\n",
    "\n",
    "        # Extract Bz and remove units\n",
    "        Bz_temp = dc.evaluate_expression(\"Bz\")\n",
    "        Bz = np.zeros(Bz_temp.shape)\n",
    "        Bz[:,:] = Bz_temp[:,:]\n",
    "\n",
    "        # Define meshgrids\n",
    "        xx,yy = np.meshgrid(dc.x.value, dc.y.value)\n",
    "\n",
    "        #Compute Bz1 \n",
    "        #First compute dipole field strength, from https://ccmc.gsfc.nasa.gov/static/files/Dipole.pdf\n",
    "        Bz_dip = - 200.9 * (3*z_plane**2 - (xx**2+yy**2+z_plane**2))/((xx**2+yy**2+z_plane**2)**(5/2))\n",
    "        # Then subtract this from modeled bz\n",
    "        Bz1 = Bz.T - Bz_dip\n",
    "        \n",
    "        vmin = -100\n",
    "        vmax = 100\n",
    "        nlevels = 200 \n",
    "        levels = np.linspace(vmin, vmax, nlevels)\n",
    "        \n",
    "        cs = ax.contourf(dc.x.value, dc.y.value, np.array(Bz1), levels=levels, cmap='bwr')\n",
    "\n",
    "        # Add minor ticks for grid\n",
    "        x_major_ticks = np.arange(xlims[0], xlims[1], 0.2)\n",
    "        x_minor_ticks = np.arange(xlims[0], xlims[1], 0.05)\n",
    "        y_major_ticks = np.arange(ylims[0], ylims[1], 0.2)\n",
    "        y_minor_ticks = np.arange(ylims[0], ylims[1], 0.05)\n",
    "\n",
    "        ax.set_xticks(x_major_ticks)\n",
    "        ax.set_xticks(x_minor_ticks, minor=True)\n",
    "        ax.set_yticks(y_major_ticks)\n",
    "        ax.set_yticks(y_minor_ticks, minor=True)\n",
    "\n",
    "        ax.grid(which='both')\n",
    "        ax.grid(which='minor', alpha=0.2)\n",
    "        ax.grid(which='major', alpha=0.5)\n",
    "        \n",
    "        ticks = get_ticks(vmin, vmax)\n",
    "        clb = fig.colorbar(cs, ax=ax,ticks=ticks)            \n",
    "        clb.ax.set_yticks(ticks)    \n",
    "        clb.ax.tick_params(labelsize=8)\n",
    "        clb.ax.set_title('$B_z$ [nT]',fontsize=12)\n",
    "        ax.set_aspect(1) # you may also use am.imshow(..., aspect=\"auto\") to restore the aspect ratio\n",
    "        ax.set_xlabel(\"X [$R_M$]\")\n",
    "        ax.set_ylabel(\"Y [$R_M$]\")\n",
    "        ax.add_patch(outer)\n",
    "        ax.add_patch(inner)\n",
    "        ax.set_xlim(xlims)\n",
    "        ax.set_ylim(ylims)\n",
    "        ax.set_title(str(\"$B_z$ at t=\"+str(round(time,2))+\"s\"+\"   z = \"+str(z_plane)))\n",
    "        fig.show()\n",
    "    # Save\n",
    "    plt.savefig(str(\"/Users/atcushen/Documents/MercuryModelling/runs/nightside_v1_run3/ta-3_plots/\"+plot_preset+\"_\"+str(round(time,2))+'.png'),bbox_inches='tight')\n",
    "    plt.close(fig)"
   ]
  },
  {
   "cell_type": "code",
   "execution_count": 73,
   "id": "757463b7-3607-424e-866f-96bb58111873",
   "metadata": {},
   "outputs": [
    {
     "data": {
      "text/plain": [
       "(256, 320)"
      ]
     },
     "execution_count": 73,
     "metadata": {},
     "output_type": "execute_result"
    }
   ],
   "source": [
    "Bz_dip.shape"
   ]
  },
  {
   "cell_type": "markdown",
   "id": "36e72a5b-24c2-431f-ae0c-7379423903c5",
   "metadata": {},
   "source": [
    "# Particle data plotting\n"
   ]
  },
  {
   "cell_type": "code",
   "execution_count": 118,
   "id": "69dfaa84-15f2-4c71-b1fb-5d125cc90d59",
   "metadata": {},
   "outputs": [
    {
     "name": "stderr",
     "output_type": "stream",
     "text": [
      "yt : [INFO     ] 2024-06-19 17:20:37,629 Parameters: current_time              = 30.000771595867985\n",
      "yt : [INFO     ] 2024-06-19 17:20:37,630 Parameters: domain_dimensions         = [320 256 256]\n",
      "yt : [INFO     ] 2024-06-19 17:20:37,631 Parameters: domain_left_edge          = [-4. -2. -2.]\n",
      "yt : [INFO     ] 2024-06-19 17:20:37,632 Parameters: domain_right_edge         = [1. 2. 2.]\n"
     ]
    },
    {
     "name": "stdout",
     "output_type": "stream",
     "text": [
      "Plotting all files in dir\n",
      "Plotting t = 24.0\n"
     ]
    },
    {
     "name": "stderr",
     "output_type": "stream",
     "text": [
      "yt : [WARNING  ] 2024-06-19 17:20:37,829 Field ('particle', 'unit_one') was added without specifying units or dimensions, auto setting units to \n",
      "yt : [INFO     ] 2024-06-19 17:20:37,894 Parameters: current_time              = 30.000771595867985\n",
      "yt : [INFO     ] 2024-06-19 17:20:37,894 Parameters: domain_dimensions         = [320 256 256]\n",
      "yt : [INFO     ] 2024-06-19 17:20:37,895 Parameters: domain_left_edge          = [-4. -2. -2.]\n",
      "yt : [INFO     ] 2024-06-19 17:20:37,896 Parameters: domain_right_edge         = [1. 2. 2.]\n",
      "yt : [WARNING  ] 2024-06-19 17:20:38,062 Field ('particle', 'unit_one') was added without specifying units or dimensions, auto setting units to \n",
      "yt : [INFO     ] 2024-06-19 17:20:38,580 Parameters: current_time              = 24.000750759910623\n",
      "yt : [INFO     ] 2024-06-19 17:20:38,581 Parameters: domain_dimensions         = [320 256 256]\n",
      "yt : [INFO     ] 2024-06-19 17:20:38,582 Parameters: domain_left_edge          = [-4. -2. -2.]\n",
      "yt : [INFO     ] 2024-06-19 17:20:38,583 Parameters: domain_right_edge         = [1. 2. 2.]\n",
      "yt : [WARNING  ] 2024-06-19 17:20:38,715 Field ('particle', 'unit_one') was added without specifying units or dimensions, auto setting units to \n"
     ]
    },
    {
     "name": "stdout",
     "output_type": "stream",
     "text": [
      "Plotting t = 24.2\n"
     ]
    },
    {
     "name": "stderr",
     "output_type": "stream",
     "text": [
      "yt : [INFO     ] 2024-06-19 17:20:38,783 Parameters: current_time              = 24.000750759910623\n",
      "yt : [INFO     ] 2024-06-19 17:20:38,784 Parameters: domain_dimensions         = [320 256 256]\n",
      "yt : [INFO     ] 2024-06-19 17:20:38,785 Parameters: domain_left_edge          = [-4. -2. -2.]\n",
      "yt : [INFO     ] 2024-06-19 17:20:38,785 Parameters: domain_right_edge         = [1. 2. 2.]\n",
      "yt : [WARNING  ] 2024-06-19 17:20:38,917 Field ('particle', 'unit_one') was added without specifying units or dimensions, auto setting units to \n",
      "yt : [INFO     ] 2024-06-19 17:20:39,145 Parameters: current_time              = 24.200248161750515\n",
      "yt : [INFO     ] 2024-06-19 17:20:39,146 Parameters: domain_dimensions         = [320 256 256]\n",
      "yt : [INFO     ] 2024-06-19 17:20:39,147 Parameters: domain_left_edge          = [-4. -2. -2.]\n",
      "yt : [INFO     ] 2024-06-19 17:20:39,148 Parameters: domain_right_edge         = [1. 2. 2.]\n",
      "yt : [WARNING  ] 2024-06-19 17:20:39,299 Field ('particle', 'unit_one') was added without specifying units or dimensions, auto setting units to \n"
     ]
    },
    {
     "name": "stdout",
     "output_type": "stream",
     "text": [
      "Plotting t = 24.4\n"
     ]
    },
    {
     "name": "stderr",
     "output_type": "stream",
     "text": [
      "yt : [INFO     ] 2024-06-19 17:20:39,373 Parameters: current_time              = 24.200248161750515\n",
      "yt : [INFO     ] 2024-06-19 17:20:39,373 Parameters: domain_dimensions         = [320 256 256]\n",
      "yt : [INFO     ] 2024-06-19 17:20:39,374 Parameters: domain_left_edge          = [-4. -2. -2.]\n",
      "yt : [INFO     ] 2024-06-19 17:20:39,375 Parameters: domain_right_edge         = [1. 2. 2.]\n",
      "yt : [WARNING  ] 2024-06-19 17:20:39,500 Field ('particle', 'unit_one') was added without specifying units or dimensions, auto setting units to \n",
      "yt : [INFO     ] 2024-06-19 17:20:39,726 Parameters: current_time              = 24.401816575227215\n",
      "yt : [INFO     ] 2024-06-19 17:20:39,727 Parameters: domain_dimensions         = [320 256 256]\n",
      "yt : [INFO     ] 2024-06-19 17:20:39,728 Parameters: domain_left_edge          = [-4. -2. -2.]\n",
      "yt : [INFO     ] 2024-06-19 17:20:39,729 Parameters: domain_right_edge         = [1. 2. 2.]\n",
      "yt : [WARNING  ] 2024-06-19 17:20:39,885 Field ('particle', 'unit_one') was added without specifying units or dimensions, auto setting units to \n"
     ]
    },
    {
     "name": "stdout",
     "output_type": "stream",
     "text": [
      "Plotting t = 24.6\n"
     ]
    },
    {
     "name": "stderr",
     "output_type": "stream",
     "text": [
      "yt : [INFO     ] 2024-06-19 17:20:39,957 Parameters: current_time              = 24.401816575227215\n",
      "yt : [INFO     ] 2024-06-19 17:20:39,958 Parameters: domain_dimensions         = [320 256 256]\n",
      "yt : [INFO     ] 2024-06-19 17:20:39,958 Parameters: domain_left_edge          = [-4. -2. -2.]\n",
      "yt : [INFO     ] 2024-06-19 17:20:39,959 Parameters: domain_right_edge         = [1. 2. 2.]\n",
      "yt : [WARNING  ] 2024-06-19 17:20:40,464 Field ('particle', 'unit_one') was added without specifying units or dimensions, auto setting units to \n",
      "yt : [INFO     ] 2024-06-19 17:20:40,679 Parameters: current_time              = 24.600719200372804\n",
      "yt : [INFO     ] 2024-06-19 17:20:40,680 Parameters: domain_dimensions         = [320 256 256]\n",
      "yt : [INFO     ] 2024-06-19 17:20:40,681 Parameters: domain_left_edge          = [-4. -2. -2.]\n",
      "yt : [INFO     ] 2024-06-19 17:20:40,681 Parameters: domain_right_edge         = [1. 2. 2.]\n",
      "yt : [WARNING  ] 2024-06-19 17:20:40,829 Field ('particle', 'unit_one') was added without specifying units or dimensions, auto setting units to \n"
     ]
    },
    {
     "name": "stdout",
     "output_type": "stream",
     "text": [
      "Plotting t = 24.8\n"
     ]
    },
    {
     "name": "stderr",
     "output_type": "stream",
     "text": [
      "yt : [INFO     ] 2024-06-19 17:20:40,906 Parameters: current_time              = 24.600719200372804\n",
      "yt : [INFO     ] 2024-06-19 17:20:40,907 Parameters: domain_dimensions         = [320 256 256]\n",
      "yt : [INFO     ] 2024-06-19 17:20:40,908 Parameters: domain_left_edge          = [-4. -2. -2.]\n",
      "yt : [INFO     ] 2024-06-19 17:20:40,908 Parameters: domain_right_edge         = [1. 2. 2.]\n",
      "yt : [WARNING  ] 2024-06-19 17:20:41,055 Field ('particle', 'unit_one') was added without specifying units or dimensions, auto setting units to \n"
     ]
    },
    {
     "name": "stdout",
     "output_type": "stream",
     "text": [
      "/Users/atcushen/Documents/MercuryModelling/runs/nightside_v1_run3/ta-3\n",
      "vx_vy-vx_vz*\n",
      "[]\n"
     ]
    },
    {
     "ename": "IndexError",
     "evalue": "list index out of range",
     "output_type": "error",
     "traceback": [
      "\u001b[0;31m---------------------------------------------------------------------------\u001b[0m",
      "\u001b[0;31mIndexError\u001b[0m                                Traceback (most recent call last)",
      "Cell \u001b[0;32mIn[118], line 173\u001b[0m\n\u001b[1;32m    171\u001b[0m             generate_gif(folder)\n\u001b[1;32m    172\u001b[0m \u001b[38;5;66;03m# Run\u001b[39;00m\n\u001b[0;32m--> 173\u001b[0m \u001b[43mparticle_plots\u001b[49m\u001b[43m(\u001b[49m\u001b[43mplot_preset\u001b[49m\u001b[43m)\u001b[49m\n",
      "Cell \u001b[0;32mIn[118], line 171\u001b[0m, in \u001b[0;36mparticle_plots\u001b[0;34m(mode)\u001b[0m\n\u001b[1;32m    168\u001b[0m         plt\u001b[38;5;241m.\u001b[39mshow()\n\u001b[1;32m    170\u001b[0m \u001b[38;5;28;01mif\u001b[39;00m make_gif:\n\u001b[0;32m--> 171\u001b[0m     \u001b[43mgenerate_gif\u001b[49m\u001b[43m(\u001b[49m\u001b[43mfolder\u001b[49m\u001b[43m)\u001b[49m\n",
      "Cell \u001b[0;32mIn[118], line 102\u001b[0m, in \u001b[0;36mgenerate_gif\u001b[0;34m(folder, key)\u001b[0m\n\u001b[1;32m     99\u001b[0m fig, ax \u001b[38;5;241m=\u001b[39m plt\u001b[38;5;241m.\u001b[39msubplots(figsize\u001b[38;5;241m=\u001b[39m(\u001b[38;5;241m8\u001b[39m, \u001b[38;5;241m8\u001b[39m))\n\u001b[1;32m    101\u001b[0m \u001b[38;5;66;03m# Set the initial image\u001b[39;00m\n\u001b[0;32m--> 102\u001b[0m im \u001b[38;5;241m=\u001b[39m ax\u001b[38;5;241m.\u001b[39mimshow(\u001b[43mimage_array\u001b[49m\u001b[43m[\u001b[49m\u001b[38;5;241;43m0\u001b[39;49m\u001b[43m]\u001b[49m, animated\u001b[38;5;241m=\u001b[39m\u001b[38;5;28;01mTrue\u001b[39;00m)\n\u001b[1;32m    103\u001b[0m plt\u001b[38;5;241m.\u001b[39maxis(\u001b[38;5;124m'\u001b[39m\u001b[38;5;124moff\u001b[39m\u001b[38;5;124m'\u001b[39m)\n\u001b[1;32m    105\u001b[0m \u001b[38;5;28;01mdef\u001b[39;00m \u001b[38;5;21mupdate\u001b[39m(i):\n",
      "\u001b[0;31mIndexError\u001b[0m: list index out of range"
     ]
    },
    {
     "data": {
      "image/png": "[encoded data removed]",
      "text/plain": [
       "<Figure size 800x800 with 1 Axes>"
      ]
     },
     "metadata": {},
     "output_type": "display_data"
    }
   ],
   "source": [
    "####### START USER INPUT ###########\n",
    "folder = \"/Users/atcushen/Documents/MercuryModelling/runs/nightside_v1_run3/ta-3\"\n",
    "file = \"cut_particle_region0_0_t00000031_n00016670_amrex/\"\n",
    "loc=[-1.80,-0.42,0.30]  # Location of sphere to sample particles in\n",
    "radius=(0.05)  # Size of sphere\n",
    "plot_preset = \"vx_vy-vx_vz\"\n",
    "multi = True # Loop through files and save multiple panels?\n",
    "start_time = 24            # What is the earliest time saved in this directory?\n",
    "t_bound = [24,25]                # Start and stop times to loop through\n",
    "dt = 0.2  # time step between files\n",
    "make_gif = False    # whether to save a gif. Not working at the moment\n",
    "####### END USER INPUT ###########\n",
    "dir = str(folder+\"/\")\n",
    "\"\"\" \n",
    "PRESETS:\n",
    "vx_vy-vx_vz: plot of raw particle velocity distribution at loc, using standard values for controls. \n",
    "\n",
    "\"\"\"\n",
    "\n",
    "# Make a dictionary with better names for the files:\n",
    "named_files = {}\n",
    "for i in range(len(files)):\n",
    "    time = round(i*dt+start_time,3)\n",
    "    named_files[time] = files[i]\n",
    "\n",
    "def get_directories(dir, key=\".*_particle_region0.*\"):\n",
    "    # For a directory \"dir\", return a list of all files which match the regex expression \"key\"\n",
    "    all_files = [ f.name for f in os.scandir(dir) if f.is_dir() ]\n",
    "    files=[]\n",
    "    for file in all_files:\n",
    "        match = re.search(key,file)\n",
    "        if match != None:\n",
    "            files.append(file)\n",
    "    files.sort()\n",
    "    # Now give them the appropriate name for their time\n",
    "    named_files = {}\n",
    "    for i in range(len(files)):\n",
    "        time = round(i*dt+start_time,3)\n",
    "        named_files[time] = files[i]\n",
    "    # Now cut the list down to files inside t_bound\n",
    "    reduced_files = {}\n",
    "    for time in list(named_files.keys())[int((t_bound[0]-start_time)/dt):int((t_bound[1]-start_time)/dt)]: #only loop over the times within t_bound\n",
    "        reduced_files[time] = str(named_files[time])\n",
    "    return reduced_files\n",
    "\n",
    "def _unit_one(field, data):\n",
    "    res = np.zeros(data[('particle', 'p_w')].shape)\n",
    "    res[:] = 1\n",
    "    return res\n",
    "\n",
    "def get_particle_np(file, x_axis='p_ux', y_axis='p_uy', bins=64, v_lim = 2500):\n",
    "    # Get the particle distribution in numpy format.\n",
    "    # File is the directory of the amrex folder (e.g. /Users/*_amrex/\"\n",
    "    # x_axis and y_axis are what quantities to extract e.g. 'p_x','p_y'\n",
    "    # Bins is how many bins to divide into\n",
    "    # v_lim is the maximum velocity to extract (in km/s)\n",
    "    # Outputs the meshgrids of velocities (in km/s), and the number of particles in each of those grid cells\n",
    "\n",
    "    # Load the file\n",
    "    ds = fleks.load(file)\n",
    "\n",
    "    # Do some stuff I don't totally understand\n",
    "    ds.add_field((\"particle\", \"unit_one\"), function=_unit_one, sampling_type='particle')\n",
    "    sp = ds.sphere(loc,radius)\n",
    "    z_field = 'unit_one'\n",
    "    plot = ds.plot_phase_region(sp, x_axis, y_axis, z_field, unit_type=\"planet\", \n",
    "                                    x_bins=bins, y_bins=bins, domain_size=(-v_lim, v_lim, -v_lim, v_lim))\n",
    "\n",
    "    for var_name in plot.profile.field_data: \n",
    "        counts_temp = plot.profile.field_data[var_name].T # take the transpose, which seems to be necessary. Bit worried about that.\n",
    "\n",
    "    # Define output arrays without units\n",
    "    x_temp = plot.profile.x\n",
    "    y_temp = plot.profile.y\n",
    "    x=np.zeros(x_temp.shape)\n",
    "    y=np.zeros(y_temp.shape)\n",
    "    counts=np.zeros(counts_temp.shape)\n",
    "    x[:]=x_temp[:]\n",
    "    y[:]=y_temp[:]\n",
    "    counts[:,:]=counts_temp[:,:]\n",
    "    xx,yy=np.meshgrid(x,y)\n",
    "\n",
    "    return xx,yy,counts\n",
    "\n",
    "def generate_gif(folder, key=str(plot_preset+\"*\")):\n",
    "    #read all the .png files in directory \"frames\" \n",
    "    print(folder)\n",
    "    print(key)\n",
    "    gif_files = glob.glob(str(folder+\"/\"+key))\n",
    "    print(gif_files)\n",
    "    image_array = []\n",
    "    gif_files = natsorted(gif_files)\n",
    "    \n",
    "    for my_file in gif_files:\n",
    "        image = Image.open(gif_files)\n",
    "        image_array.append(image)\n",
    "        \n",
    "    # Create the figure and axes objects\n",
    "    fig, ax = plt.subplots(figsize=(8, 8))\n",
    "    \n",
    "    # Set the initial image\n",
    "    im = ax.imshow(image_array[0], animated=True)\n",
    "    plt.axis('off')\n",
    "    \n",
    "    def update(i):\n",
    "        im.set_array(image_array[i])\n",
    "        return im, \n",
    "    \n",
    "    # Create the animation object\n",
    "    animation_fig = animation.FuncAnimation(fig, update, frames=len(image_array), interval=200, blit=True,repeat_delay=10,)\n",
    "    \n",
    "    animation_fig.save(str(folder+\"_plots/\"+\"animated.gif\"),dpi=500)\n",
    "    plt.close(fig)\n",
    "\n",
    "def particle_plots(mode):\n",
    "    # Generates the desired plot for the given preset.\n",
    "\n",
    "    if mode == \"vx_vy-vx_vz\":\n",
    "        # Define the files to read\n",
    "        if multi:\n",
    "            print(\"Plotting all files in dir\")\n",
    "            files = get_directories(dir)\n",
    "        else:\n",
    "            files = {str(round(start_time,3)):str(file)}\n",
    "\n",
    "        # Loop over the identified files\n",
    "        for time in list(files.keys()): \n",
    "            print(\"Plotting t =\",time)\n",
    "            file = str(files[time])\n",
    "        \n",
    "            # Get data\n",
    "            data_file = dir+file\n",
    "            xx,yy,counts_xy = get_particle_np(data_file,'p_ux','p_uy')\n",
    "            xx,zz,counts_xz = get_particle_np(data_file,'p_ux','p_uz')\n",
    "    \n",
    "            # Set colorbar limits\n",
    "            cmin = 1\n",
    "            cmax = 100#max(counts_xy.max(),counts_xz.max())\n",
    "    \n",
    "            # Plot\n",
    "            fig, axs = plt.subplots(ncols=2,figsize=(13,5))\n",
    "            im0=axs[0].imshow(counts_xy, extent=[xx.min(), xx.max(), yy.min(), yy.max()],origin=\"lower\",norm=LogNorm(vmin=cmin,vmax=cmax))\n",
    "            im1=axs[1].imshow(counts_xz, extent=[xx.min(), xx.max(), zz.min(), zz.max()],origin=\"lower\",norm=LogNorm(vmin=cmin,vmax=cmax))\n",
    "    \n",
    "            # Add labels\n",
    "            axs[0].set_xlabel(\"$v_x$ [km/s]\")\n",
    "            axs[0].set_ylabel(\"$v_y$ [km/s]\")\n",
    "            axs[1].set_xlabel(\"$v_x$ [km/s]\")\n",
    "            axs[1].set_ylabel(\"$v_z$ [km/s]\")\n",
    "            axs[0].set_title(str(\"Velocity distribution  r=\"+str(loc)+\"   t=\"+str(round(time,2))+\"s\"))\n",
    "    \n",
    "            # Add grid\n",
    "            axs[0].grid(alpha=0.5)\n",
    "            axs[1].grid(alpha=0.5)\n",
    "    \n",
    "            # Add colorbar\n",
    "            fig.subplots_adjust(right=0.84)\n",
    "            cbar_ax = fig.add_axes([0.85, 0.15, 0.01, 0.7])\n",
    "            fig.colorbar(im1, cax=cbar_ax, label = \"Counts\")\n",
    "    \n",
    "            # Save\n",
    "            fig.savefig(str(folder+\"_plots/\"+plot_preset+\"_\"+str(loc)+\"_\"+str(round(time,2))+'.png'),bbox_inches='tight')\n",
    "\n",
    "            if multi:\n",
    "                plt.close()\n",
    "\n",
    "            else:\n",
    "                plt.show()\n",
    "        \n",
    "        if make_gif:\n",
    "            generate_gif(folder)\n",
    "# Run\n",
    "particle_plots(plot_preset)"
   ]
  },
  {
   "cell_type": "code",
   "execution_count": null,
   "id": "ba19332c-4e74-4806-9d7b-0d86aa7cf201",
   "metadata": {},
   "outputs": [],
   "source": []
  }
 ],
 "metadata": {
  "kernelspec": {
   "display_name": "Python 3 (ipykernel)",
   "language": "python",
   "name": "python3"
  },
  "language_info": {
   "codemirror_mode": {
    "name": "ipython",
    "version": 3
   },
   "file_extension": ".py",
   "mimetype": "text/x-python",
   "name": "python",
   "nbconvert_exporter": "python",
   "pygments_lexer": "ipython3",
   "version": "3.10.13"
  }
 },
 "nbformat": 4,
 "nbformat_minor": 5
}
